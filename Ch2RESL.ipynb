{
 "cells": [
  {
   "cell_type": "markdown",
   "metadata": {},
   "source": [
    "# Charpter 2"
   ]
  },
  {
   "cell_type": "markdown",
   "metadata": {},
   "source": [
    "## Problem 2.1"
   ]
  },
  {
   "cell_type": "markdown",
   "metadata": {},
   "source": [
    "Ex. 2.1 Suppose each of K-classes has an associated target tk, which is a\n",
    "vector of all zeros, except a one in the kth position. Show that classifying to\n",
    "the largest element of $\\hat{y}$ amounts to choosing the closest target, $min_k||t_k − \\hat{y}||$, if the elements of ˆy sum to one."
   ]
  },
  {
   "cell_type": "markdown",
   "metadata": {},
   "source": [
    "If $y_k=max(y)$ $T(y)=t_k$. Using Eq.(2.23) with $G_k => t_k$, $x=>\\hat{y}$, $||t_k - \\hat{y}||^2=y_1^2+..+(1-y_k)^2+..+y_K^2$ \n",
    "\n",
    "Because $max(\\hat{y})<1$, $max(Pr(T|Y=\\hat{y})) = min_k||t_k-\\hat{y}||$"
   ]
  },
  {
   "cell_type": "markdown",
   "metadata": {},
   "source": [
    "## Problem 2.2"
   ]
  },
  {
   "cell_type": "markdown",
   "metadata": {},
   "source": [
    "Show how to compute the Bayes decision boundary for the simulation example in Figure 2.5."
   ]
  },
  {
   "cell_type": "markdown",
   "metadata": {},
   "source": [
    "Decission boundary is where classes probabilities are equil. In considered case the vounndary is Pr(y=1|X=x)=Pr(y=0|X=x)=0.5\n",
    "It is not clear what exact distribution in the book. Below there is simple case of two 2D normal distributions with different mean. Boundary in 2D plane is pdf1(x1,x2) = pdf2(x1,2)) (1). "
   ]
  },
  {
   "cell_type": "code",
   "execution_count": 169,
   "metadata": {
    "scrolled": true
   },
   "outputs": [],
   "source": [
    "y=rep(0, 200)\n",
    "y[101:200]=1"
   ]
  },
  {
   "cell_type": "code",
   "execution_count": 126,
   "metadata": {},
   "outputs": [],
   "source": [
    "nd = function(x1, x2, mu1, mu2){\n",
    "    return(1/sqrt(2*pi)*exp(-(x1-mu1)^2/2-(x2-mu2)^2/2))\n",
    "    }"
   ]
  },
  {
   "cell_type": "markdown",
   "metadata": {},
   "source": [
    "For simplicity for first and second distribution for x1 means $\\mu_{11}=\\mu_{21}$\n",
    "In this case solution of Eq. (1) $x2 = (\\mu_{12} + \\mu_{22})/2$"
   ]
  },
  {
   "cell_type": "code",
   "execution_count": 137,
   "metadata": {},
   "outputs": [
    {
     "data": {
      "image/png": "[encoded data removed]",
      "text/plain": [
       "plot without title"
      ]
     },
     "metadata": {},
     "output_type": "display_data"
    }
   ],
   "source": [
    "set.seed(4)\n",
    "x1=rnorm(200, mean= 0)\n",
    "x2=rnorm(200, mean= 1)\n",
    "x1[101:200]=rnorm(100, mean = 0)\n",
    "x2[101:200]=rnorm(100, mean = -2)\n",
    "df=data.frame(cbind(x1,x2))\n",
    "x1=df$x1\n",
    "x2=df$x2\n",
    "plot(x1, x2, col=y+2)\n",
    "x2 = rep(-1/2, 200)  ##(mean12+mean21)/2\n",
    "lines(x1, x2, col='blue', type='l')\n",
    "#curve(nd(x1, x2, 1, 1)-nd(x1, x2, -2, -2), -5:5)"
   ]
  },
  {
   "cell_type": "markdown",
   "metadata": {},
   "source": [
    "## Problem 3"
   ]
  },
  {
   "cell_type": "markdown",
   "metadata": {},
   "source": [
    "Ex. 2.3 Derive equation (2.24)."
   ]
  },
  {
   "cell_type": "markdown",
   "metadata": {},
   "source": [
    "Median distance corresponds to the volume where half of the particles is inside the volume and half is outside. Probability that particle is inside volume fraction v equils probability that observation is outside volume v, $(1-v)^{N} = 1-(1-v)^N ->v =1-0.5^{1/N}$ then $d(N, p)=(1-0.5^{1/N})^{1/p}$"
   ]
  },
  {
   "cell_type": "markdown",
   "metadata": {},
   "source": [
    "## Problem 4"
   ]
  },
  {
   "cell_type": "markdown",
   "metadata": {},
   "source": [
    "$z_i$ are projections of unit vector. Initial vector point in random direction randomly. Therefore it is clear that for projections in any direction we will be uniformly distributed and have mean zero. For mean distance vector $\\sqrt{\\sum_{i=0}^n\\sum_{j=0}^px_{ij}^2/N}=p$.\n",
    "Because the vectors orientation is uniformly distributed in all directions, if sum in all directions equals p, for one direction we divide it by p:\n",
    "$\\sigma =\\sqrt{\\sum_{i=0}^n{x_{ij}^2}/N}=1$"
   ]
  },
  {
   "cell_type": "markdown",
   "metadata": {},
   "source": [
    "## Problem 5"
   ]
  },
  {
   "cell_type": "markdown",
   "metadata": {},
   "source": [
    "(a) Derive equation (2.27). The last line makes use of (3.8) through a\n",
    "conditioning argument."
   ]
  },
  {
   "cell_type": "markdown",
   "metadata": {},
   "source": [
    "I added $f(x_0)=x_0^T\\beta$ to the equation as\n",
    "$E_{y_0|x_0}E_{\\tau}((y_0-f(x_0))-((\\hat{y_0}-f(x_0))^2=E_{y_0|x_0}E_{\\tau}(y_0-f(x_0))^2-2E_{y_0|x_0}E_{\\tau}((y_0-f(x_0))(\\hat{y_0}-f(x_0)))+E_{y_0|x_0}E_{\\tau}(\\hat{y_0}-f(x_0))^2$ ="
   ]
  },
  {
   "cell_type": "markdown",
   "metadata": {},
   "source": [
    "The first term is $Var(y_0|x_0)$, the last term is $Var(\\hat{y_0})+Bias(\\hat{y_0})$ from Eq.(2.25) (to derive(2.25) we need to add and sutract $E_{\\tau}(\\hat{y_0})$ from initial equation), term in the middle goes to 0. We have\n",
    "\n",
    "$Var(y_0|x_0)+Var(\\hat{y_0})+Bias(\\hat{y_0})$ = \n",
    "\n",
    "Using $\\hat{y_0}=x_0^T\\beta+\\sum_{i=1}^NX^T(X^TX)^{-1}x_0\\epsilon_i$ and there is no bias we have result\n",
    "\n",
    "$\\sigma^2 + E_{\\tau}x_0^T(X^TX)^{-1}x_0\\sigma^2+0^2$\n"
   ]
  },
  {
   "cell_type": "markdown",
   "metadata": {},
   "source": [
    "(b) Derive equation (2.28), making use of the cyclic property of the trace\n",
    "operator [trace(AB) = trace(BA)], and its linearity (which allows us\n",
    "to interchange the order of trace and expectation)."
   ]
  },
  {
   "cell_type": "markdown",
   "metadata": {},
   "source": [
    "Taking trace and using cycling property\n",
    "\n",
    "$\\sigma^2 + E_{x_0}tr(x_0^TCov(X^{-1})x_0)\\sigma^2/N = \\sigma^2 + E_{x_0}tr(Cov(X^{-1})x_0^Tx_0)\\sigma^2/N = \\sigma^2 + tr(Cov(X^{-1})E_{x_0}(x_0^Tx_0))\\sigma^2/N = Tr(Cov(X^{-1})Cov(x_0))\\sigma^2/N + \\sigma^2$\n",
    "\n",
    "$Tr(Cov(X^{-1})Cov(x_0))=tr(I_p) = p$ we get result\n",
    "\n",
    "$=\\sigma^2p/N+\\sigma^2$"
   ]
  },
  {
   "cell_type": "markdown",
   "metadata": {},
   "source": [
    "## Problem 6"
   ]
  },
  {
   "cell_type": "markdown",
   "metadata": {},
   "source": [
    "Consider a regression problem with inputs xi and outputs yi, and a\n",
    "parameterized model $f_θ(x)$ to be fit by least squares. Show that if there are\n",
    "observations with tied or identical values of x, then the fit can be obtained\n",
    "from a reduced weighted least squares problem"
   ]
  },
  {
   "cell_type": "markdown",
   "metadata": {},
   "source": [
    "We minimize RSS(f)=$\\sum_{i=1}^n(y_i-f(x_i))^2$ if we have j identical x_i mean $\\hat{y}_i=\\sum_j{y_{ji}}/n_j$. Substituting to RSS\n",
    "\n",
    "RSS(f) = $\\sum_{i=1}^{n'}n_i(\\hat{y}_i-f(x_i))^2$, where $n'$ is number of groups"
   ]
  },
  {
   "cell_type": "markdown",
   "metadata": {},
   "source": [
    "## Problem 7"
   ]
  },
  {
   "cell_type": "markdown",
   "metadata": {},
   "source": [
    "Suppose we have a sample of N pairs xi, yi drawn i.i.d. from the\n",
    "distribution characterized as follows:\n",
    "xi ∼ h(x), the design density\n",
    "yi = f(xi) + εi, f is the regression function\n",
    "εi ∼ (0, σ2) (mean zero, variance σ2)\n",
    "We construct an estimator for f linear in the yi,\n",
    "$\\hat{f}(x_0) = \\sum_{i=1}^Nℓ_i(x_0;X)yi,$\n",
    "where the weights ℓi(x0;X) do not depend on the yi, but do depend on the\n",
    "entire training sequence of xi, denoted here by X.\n",
    "\n",
    "(a) Show that linear regression and k-nearest-neighbor regression are members\n",
    "of this class of estimators. Describe explicitly the weights ℓi(x0;X)\n",
    "in each of these cases."
   ]
  },
  {
   "cell_type": "markdown",
   "metadata": {},
   "source": [
    "For linear regression $f(x)=x^T\\beta$ then the estimator $\\hat{f}(x_0)=\\sum_{i=1}^N{(XX^TX)_iy_i}$\n",
    "\n",
    "For K nearest neighbours $\\hat{f}(x_0) = 1/k\\sum_i I_{xinN_k(x_0)}y_i$"
   ]
  },
  {
   "cell_type": "markdown",
   "metadata": {},
   "source": [
    "b) Decompose the conditional mean-squared error\n",
    "$E_{Y|X} (f(x_0) − \\hat{f}(x_0))^2$\n",
    "into a conditional squared bias and a conditional variance component.\n",
    "Like X, Y represents the entire training sequence of yi."
   ]
  },
  {
   "cell_type": "markdown",
   "metadata": {},
   "source": [
    "$E_{Y|X} (f(x_0) − \\hat{f}(x_0))^2 = E_{Y|X} ((f(x_0)- E_{Y|X} f(x_0)) + (E_{Y|X} f(x_0) − \\hat{f}(x_0)))^2= E_{Y|X}(f(x_0)- E_{Y|X} f(x_0))^2 + (E_{Y|X} f(x_0) − \\hat{f}(x_0))^2 = Var(f(X))+Bias(f(X))^2$ "
   ]
  },
  {
   "cell_type": "markdown",
   "metadata": {},
   "source": [
    "(c) Decompose the (unconditional) mean-squared error $E_{Y,X} (f(x_0) − \\hat{f}(x_0))^2$ into a squared bias and a variance component.\n",
    "\n",
    "$E_{Y,X} (f(x_0) − \\hat{f}(x_0))^2 = E_{Y,X} ((f(x_0)- E_{Y,X} f(x_0)) + (E_{Y,X} f(x_0) − \\hat{f}(x_0)))^2= E_{Y,X}(f(x_0)- E_{Y,X} f(x_0))^2 + (E_{Y,X} f(x_0) − \\hat{f}(x_0))^2 = Var(f(x_0))+Bias(\\hat{f}(x_0))^2$ "
   ]
  },
  {
   "cell_type": "markdown",
   "metadata": {},
   "source": [
    "(d) Establish a relationship between the squared biases and variances in\n",
    "the above two cases."
   ]
  },
  {
   "cell_type": "markdown",
   "metadata": {},
   "source": [
    "f(X) = E(f(x)|X), so $Var(f(X))+Bias(f(X))^2 = E(Var(f(x_0))+Bias(\\hat{f}(x_0))^2|x_0=X)$"
   ]
  },
  {
   "cell_type": "markdown",
   "metadata": {},
   "source": [
    "## Problem 8"
   ]
  },
  {
   "cell_type": "markdown",
   "metadata": {},
   "source": [
    "Compare the classification performance of linear regression and k–\n",
    "nearest neighbor classification on the zipcode data. In particular, consider\n",
    "only the 2’s and 3’s, and k = 1, 3, 5, 7 and 15. Show both the training and\n",
    "test error for each choice. The zipcode data are available from the book\n",
    "website www-stat.stanford.edu/ElemStatLearn."
   ]
  },
  {
   "cell_type": "code",
   "execution_count": 12,
   "metadata": {},
   "outputs": [
    {
     "data": {
      "text/html": [
       "<table>\n",
       "<thead><tr><th></th><th scope=col>V1</th><th scope=col>V3</th><th scope=col>V5</th><th scope=col>V7</th><th scope=col>V15</th></tr></thead>\n",
       "<tbody>\n",
       "\t<tr><th scope=row>5</th><td>3     </td><td>-1    </td><td>-1.00 </td><td>-0.928</td><td>-1    </td></tr>\n",
       "\t<tr><th scope=row>7</th><td>3     </td><td>-1    </td><td>-0.83 </td><td> 1.000</td><td>-1    </td></tr>\n",
       "\t<tr><th scope=row>27</th><td>3     </td><td>-1    </td><td>-1.00 </td><td>-0.104</td><td>-1    </td></tr>\n",
       "\t<tr><th scope=row>31</th><td>3     </td><td>-1    </td><td>-1.00 </td><td>-1.000</td><td>-1    </td></tr>\n",
       "\t<tr><th scope=row>36</th><td>3     </td><td>-1    </td><td>-1.00 </td><td> 0.492</td><td>-1    </td></tr>\n",
       "\t<tr><th scope=row>42</th><td>2     </td><td>-1    </td><td>-1.00 </td><td>-0.798</td><td>-1    </td></tr>\n",
       "</tbody>\n",
       "</table>\n"
      ],
      "text/latex": [
       "\\begin{tabular}{r|lllll}\n",
       "  & V1 & V3 & V5 & V7 & V15\\\\\n",
       "\\hline\n",
       "\t5 & 3      & -1     & -1.00  & -0.928 & -1    \\\\\n",
       "\t7 & 3      & -1     & -0.83  &  1.000 & -1    \\\\\n",
       "\t27 & 3      & -1     & -1.00  & -0.104 & -1    \\\\\n",
       "\t31 & 3      & -1     & -1.00  & -1.000 & -1    \\\\\n",
       "\t36 & 3      & -1     & -1.00  &  0.492 & -1    \\\\\n",
       "\t42 & 2      & -1     & -1.00  & -0.798 & -1    \\\\\n",
       "\\end{tabular}\n"
      ],
      "text/markdown": [
       "\n",
       "| <!--/--> | V1 | V3 | V5 | V7 | V15 |\n",
       "|---|---|---|---|---|---|\n",
       "| 5 | 3      | -1     | -1.00  | -0.928 | -1     |\n",
       "| 7 | 3      | -1     | -0.83  |  1.000 | -1     |\n",
       "| 27 | 3      | -1     | -1.00  | -0.104 | -1     |\n",
       "| 31 | 3      | -1     | -1.00  | -1.000 | -1     |\n",
       "| 36 | 3      | -1     | -1.00  |  0.492 | -1     |\n",
       "| 42 | 2      | -1     | -1.00  | -0.798 | -1     |\n",
       "\n"
      ],
      "text/plain": [
       "   V1 V3 V5    V7     V15\n",
       "5  3  -1 -1.00 -0.928 -1 \n",
       "7  3  -1 -0.83  1.000 -1 \n",
       "27 3  -1 -1.00 -0.104 -1 \n",
       "31 3  -1 -1.00 -1.000 -1 \n",
       "36 3  -1 -1.00  0.492 -1 \n",
       "42 2  -1 -1.00 -0.798 -1 "
      ]
     },
     "metadata": {},
     "output_type": "display_data"
    }
   ],
   "source": [
    "train <- read.table(\"zip_train\")\n",
    "test <- read.table(\"zip_test\")\n",
    "## Filtering to 2’s and 3’s\n",
    "train <- train[train[,1] %in% c(2, 3),]\n",
    "test <- test[test[,1] %in% c(2, 3),]\n",
    "pixels <- c(\"V1\", \"V3\", \"V5\", \"V7\", \"V15\")\n",
    "train <- train[,pixels]\n",
    "test <- test[,pixels]\n",
    "head(train)"
   ]
  },
  {
   "cell_type": "code",
   "execution_count": 47,
   "metadata": {},
   "outputs": [
    {
     "data": {
      "text/html": [
       "0.395604395604396"
      ],
      "text/latex": [
       "0.395604395604396"
      ],
      "text/markdown": [
       "0.395604395604396"
      ],
      "text/plain": [
       "[1] 0.3956044"
      ]
     },
     "metadata": {},
     "output_type": "display_data"
    }
   ],
   "source": [
    "# Linear regression.\n",
    "linear.mod <- lm(train[,1]~., data=train[,-1])\n",
    "predict <- predict(linear.mod, test[,2:5])\n",
    "error.lin <- mean(pred.lin!=test[,1])\n",
    "error.lin"
   ]
  },
  {
   "cell_type": "code",
   "execution_count": 49,
   "metadata": {},
   "outputs": [
    {
     "data": {
      "text/html": [
       "0.42032967032967"
      ],
      "text/latex": [
       "0.42032967032967"
      ],
      "text/markdown": [
       "0.42032967032967"
      ],
      "text/plain": [
       "[1] 0.4203297"
      ]
     },
     "metadata": {},
     "output_type": "display_data"
    }
   ],
   "source": [
    "require(class)\n",
    "pred.knn <- knn(train[,2:5], test[,2:5], train[,1], k=6)\n",
    "error.knn <- mean(pred.knn!=test[,1])\n",
    "error.knn"
   ]
  },
  {
   "cell_type": "markdown",
   "metadata": {},
   "source": [
    "knn gives a bit better error for k=6"
   ]
  },
  {
   "cell_type": "markdown",
   "metadata": {},
   "source": [
    "## Problem 9"
   ]
  },
  {
   "cell_type": "markdown",
   "metadata": {},
   "source": [
    "prove that\n",
    "$E[R_{tr}(\\hat{\\beta})] ≤ E[R_{te}(\\hat{\\beta})]$, $R_{tr} = 1/N\\sum_{i=1}^N(y_i-x_i^T\\hat{\\beta})^2$, $R_{te} = 1/M\\sum_{i=1}^M(y_i'-x_i'^T\\hat{\\beta})^2$"
   ]
  },
  {
   "cell_type": "markdown",
   "metadata": {},
   "source": [
    "This property is much based on fact that $\\hat{\\beta}$ was obtained minimizing $R_{tr}$. \n",
    "$1/N\\sum_{i=1}^N(y_i-x_i^T\\hat{\\beta})^2 <= 1/N\\sum_{i=1}^N(y_i-x_i^T\\beta)^2$, for any $/beta$\n",
    "\n",
    "Because data from the same distribution we can get rid from how many observations in the sample\n",
    "\n",
    "$E(1/N\\sum_{i=1}^N(y_i-x_i^T\\hat{\\beta})^2) <= E(y_i-x_i^T\\beta)^2$ (1), for any beta\n",
    "\n",
    "Now we can change beta on right side to transform to another $\\beta'$ by condition $y-x\\beta =  y'-x'\\beta'$\n",
    "inequility  will continue to hold."
   ]
  },
  {
   "cell_type": "markdown",
   "metadata": {},
   "source": [
    "The other approach is if we do minimization of $R_{te}$ on test data set and obtain $\\hat{\\beta}'$, then $1/N\\sum_{i=1}^N(y_i-x_i^T\\hat{\\beta})^2 <= 1/N\\sum_{i=1}^N(y_i-x_i^T\\hat{\\beta'})^2$, when $1/M\\sum_{i=1}^M(y_i'-x_i'^T\\hat{\\beta'})^2<=1/M\\sum_{i=1}^M(y_i'-x_i'^T\\hat{\\beta})^2$, from this we come to inquility we need to prove."
   ]
  },
  {
   "cell_type": "code",
   "execution_count": null,
   "metadata": {},
   "outputs": [],
   "source": []
  }
 ],
 "metadata": {
  "kernelspec": {
   "display_name": "R",
   "language": "R",
   "name": "ir"
  },
  "language_info": {
   "codemirror_mode": "r",
   "file_extension": ".r",
   "mimetype": "text/x-r-source",
   "name": "R",
   "pygments_lexer": "r",
   "version": "3.6.1"
  }
 },
 "nbformat": 4,
 "nbformat_minor": 4
}
