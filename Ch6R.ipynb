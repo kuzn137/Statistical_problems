{
 "cells": [
  {
   "cell_type": "markdown",
   "metadata": {},
   "source": [
    "# Chapter 6"
   ]
  },
  {
   "cell_type": "markdown",
   "metadata": {},
   "source": [
    "## Problem 1"
   ]
  },
  {
   "cell_type": "markdown",
   "metadata": {},
   "source": [
    "We perform best subset, forward stepwise, and backward stepwise\n",
    "selection on a single data set. For each approach, we obtain p + 1\n",
    "models, containing 0, 1, 2,...,p predictors. Explain your answers:"
   ]
  },
  {
   "cell_type": "markdown",
   "metadata": {},
   "source": [
    "(a) Which of the three models with k predictors has the smallest\n",
    "training RSS?\n",
    "\n",
    "It is best subset selection because it consider all subsets and make choice on training set crossvalidation. "
   ]
  },
  {
   "cell_type": "markdown",
   "metadata": {},
   "source": [
    "(b) Which of the three models with k predictors has the smallest\n",
    "test RSS?\n",
    "\n",
    "Best subset selection may give best choice, but for larger p there is more possibility that model will have overfitting. It is difficult to say for sure."
   ]
  },
  {
   "cell_type": "markdown",
   "metadata": {},
   "source": [
    "(c)  True or False:\n",
    "i. The predictors in the k-variable model identified by forward\n",
    "stepwise are a subset of the predictors in the (k+1)-variable\n",
    "model identified by forward stepwise selection\n",
    "\n",
    "True by definition of forward stepwise selection\n",
    "\n",
    "ii. The predictors in the k-variable model identified by backward stepwise are a subset of the predictors in the (k + 1)-\n",
    "variable model identified by backward stepwise selection.\n",
    "\n",
    "True by definition of backward stepwise selection\n",
    "\n",
    "iii.  The predictors in the k-variable model identified by backward stepwise are a subset of the predictors in the (k + 1)-\n",
    "variable model identified by forward stepwise selection.\n",
    "\n",
    "False, it is not necessarily that forward stepwise selection and backward stepwise selection have k common features\n",
    "\n",
    "iv. The predictors in the k-variable model identified by forward\n",
    "stepwise are a subset of the predictors in the (k+1)-variable\n",
    "model identified by backward stepwise selection.\n",
    "\n",
    "False the same as iii.\n",
    "\n",
    "v. The predictors in the k-variable model identified by best\n",
    "subset are a subset of the predictors in the (k + 1)-variable\n",
    "model identified by best subset selection.\n",
    "\n",
    "False the best subset consider more models and selected model can have different features from other approches."
   ]
  },
  {
   "cell_type": "markdown",
   "metadata": {},
   "source": [
    "## Problem 2"
   ]
  },
  {
   "cell_type": "markdown",
   "metadata": {},
   "source": [
    "(a) For the Lasso relative to least squares iii It's less flexible, it increases in bias and decreases in variance.\n",
    "\n",
    "(b) iii, Ridge in general is similar to Lasso.\n",
    "\n",
    "(c) ii Non-linear methods are more flexible. They decreases in bias and increases in variance "
   ]
  },
  {
   "cell_type": "markdown",
   "metadata": {},
   "source": [
    "## Problem 3"
   ]
  },
  {
   "cell_type": "markdown",
   "metadata": {},
   "source": [
    "(a) iV Training RSS will steadily decrease.\n",
    "\n",
    "(b) ii Test RSS U shape, it starts to overfit for large s, bais and varians trade off.\n",
    "\n",
    "(c) i Variance increases.\n",
    "\n",
    "(d) iv It is similar to a.\n",
    "\n",
    "(e) v, this error is constant"
   ]
  },
  {
   "cell_type": "markdown",
   "metadata": {},
   "source": [
    "## Problem 4"
   ]
  },
  {
   "cell_type": "markdown",
   "metadata": {},
   "source": [
    "The effect is opposit to problem 3, coeffitients becomes less significant as lambda increases\n",
    "(a) iii Training RSS will steadily increase.\n",
    "\n",
    "(b) i Inverted U shape\n",
    "\n",
    "(c) iv Variance will steadily decrease.\n",
    "\n",
    "(d) iii, It is similar to a.\n",
    "\n",
    "(e) v, this error does not change."
   ]
  },
  {
   "cell_type": "markdown",
   "metadata": {},
   "source": [
    "## Problem 5"
   ]
  },
  {
   "cell_type": "markdown",
   "metadata": {},
   "source": [
    "(a) $y_1=-y_2=y, x_{11}=x_{12}=-x_{22} = -x_{21}=x$\n",
    "\n",
    "Then taking $\\beta_1$ and $\\beta_2$ derivatives from (6.5) to minimize we obtain\n",
    "\n",
    "$xy-(\\beta_1+\\beta_2)x^2 = \\lambda\\beta_1$\n",
    "\n",
    "$xy-(\\beta_1+\\beta_2)x^2 = \\lambda\\beta_2$\n",
    "\n",
    "(b) These equations has solusion if $\\beta_1=\\beta_2$, because of righthand sides.\n",
    "\n",
    "(c) For Lasso after taking derivatives both equation are identical\n",
    "\n",
    "$xy-(\\beta_1+\\beta_2)x^2 = \\lambda/2$\n",
    "\n",
    "$xy-(\\beta_1+\\beta_2)x^2 = \\lambda/2$\n",
    "\n",
    "(d) Therefore $\\beta_1$ and $\\beta_2$ are are connected by one equation above.\n"
   ]
  },
  {
   "cell_type": "markdown",
   "metadata": {},
   "source": [
    "## Problem 6"
   ]
  },
  {
   "cell_type": "code",
   "execution_count": 62,
   "metadata": {},
   "outputs": [],
   "source": [
    "Ridge_loss1D=function(y, lambda, beta){\n",
    "    return((y-beta)^2 + lambda*beta^2)\n",
    "}\n",
    "Lasso_loss1D=function(y, lambda, beta){\n",
    "    return((y-beta)^2 + lambda*abs(beta))\n",
    "}"
   ]
  },
  {
   "cell_type": "code",
   "execution_count": 63,
   "metadata": {},
   "outputs": [
    {
     "data": {
      "image/png": "[encoded data removed]",
      "text/plain": [
       "plot without title"
      ]
     },
     "metadata": {},
     "output_type": "display_data"
    }
   ],
   "source": [
    "x=-5:10\n",
    "plot(x, Ridge_loss1D(10, 1, x), type=\"b\", col = \"blue\", xlab = \"beta\", ylab = \"loss\")"
   ]
  },
  {
   "cell_type": "markdown",
   "metadata": {},
   "source": [
    "Minimum is at 1/(1+lambda)=5"
   ]
  },
  {
   "cell_type": "code",
   "execution_count": 64,
   "metadata": {},
   "outputs": [
    {
     "data": {
      "image/png": "[encoded data removed]",
      "text/plain": [
       "plot without title"
      ]
     },
     "metadata": {},
     "output_type": "display_data"
    }
   ],
   "source": [
    "x=-5:15\n",
    "plot(x, Lasso_loss1D(10, 2, x), type=\"b\", col = \"blue\", xlab = \"beta\", ylab = \"loss\")"
   ]
  },
  {
   "cell_type": "markdown",
   "metadata": {},
   "source": [
    "Minimum is at y-lambda/2=9"
   ]
  },
  {
   "cell_type": "markdown",
   "metadata": {},
   "source": [
    "## Problem 7"
   ]
  },
  {
   "cell_type": "markdown",
   "metadata": {},
   "source": [
    "(a) The likelihood is $f(Y|X, \\beta)=1/\\sqrt{2\\pi\\sigma^2}exp(-(y-\\sum_{i=1}^p\\beta_{i}x_i)^2/(2\\sigma^2))$\n",
    "\n",
    "(b)  Posterior is $1/(b\\sqrt{2\\pi\\sigma^2})exp(-(y-\\sum_{i=1}^p\\beta_{i}x_i)^2/(2\\sigma^2)-\\sum_{i=1}^p|\\beta_i|/b)$\n",
    "\n",
    "(c) In case (b) maximum of distribution, mode, will not coincide with mean. Condition of maximum of distribution will be the same a minimization of Lasso.\n",
    "\n",
    "(d)  Posterior is $1/(b\\sqrt{2\\pi\\sigma^2})exp(-(y-\\sum_{i=1}^p\\beta_{i}x_i)^2/(2\\sigma^2)-\\sum_{i=1}^p\\beta_i^2/c)$\n",
    "\n",
    "(e) In case (d) maximum of distribution will be mode and mean. Condition of maximum of distribution will be the same a minimization of Ridge.\n"
   ]
  },
  {
   "cell_type": "markdown",
   "metadata": {},
   "source": [
    "## Functions"
   ]
  },
  {
   "cell_type": "code",
   "execution_count": 65,
   "metadata": {},
   "outputs": [],
   "source": [
    "regsubresult=function(reg.sum){\n",
    "    print('Adjusted R2')\n",
    "    print(which.max(reg.sum$adjr2))\n",
    "    print(max(reg.sum$adjr2))\n",
    "    print(\"C_p\")\n",
    "    print(which.min(reg.sum$cp))\n",
    "    print(min(reg.sum$cp))\n",
    "    print(\"BIC\")\n",
    "    print(which.min(reg.sum$bic))\n",
    "    print(min(reg.sum$bic))\n",
    "}\n",
    "regsubplot=function(reg.sum){\n",
    "    par(mfrow = c(2, 2))\n",
    "    plot(1:8, reg.sum$adjr2, type=\"b\", col=\"blue\", xlab = \"Model\", ylab = \"R2\")\n",
    "    plot(1:8, reg.sum$cp, type=\"b\", col=\"blue\",xlab = \"Model\", ylab = \"C_p\")\n",
    "    plot(1:8, reg.sum$bic, type=\"b\", , col = \"blue\", xlab = \"Model\", ylab = \"BIC\")\n",
    "   }\n",
    "\n",
    "modelsMSE = function(reg.fit, formula, df, out,  n){\n",
    "    df.mat = model.matrix(formula, data = df, nvmax = n)\n",
    "    val.mse = rep(NA, n)\n",
    "    for (i in 1:n) {\n",
    "        coef = coef(reg.fit, id = i)\n",
    "        pred = df.mat[, names(coef)] %*% coef\n",
    "        val.mse[i] = mean((pred - out)^2)\n",
    "    }\n",
    "    return(val.mse)\n",
    "}"
   ]
  },
  {
   "cell_type": "markdown",
   "metadata": {},
   "source": [
    "## Libraries"
   ]
  },
  {
   "cell_type": "code",
   "execution_count": 66,
   "metadata": {},
   "outputs": [],
   "source": [
    "library(ISLR)\n",
    "#install.packages(\"pls\", repos='http://cran.us.r-project.org')\n",
    "library(leaps)\n",
    "library(glmnet)\n",
    "library(MASS)\n",
    "library(pls)"
   ]
  },
  {
   "cell_type": "markdown",
   "metadata": {},
   "source": [
    "## Problem 8"
   ]
  },
  {
   "cell_type": "code",
   "execution_count": 67,
   "metadata": {},
   "outputs": [],
   "source": [
    "X=rnorm(100)\n",
    "eps=rnorm(100)"
   ]
  },
  {
   "cell_type": "code",
   "execution_count": 68,
   "metadata": {},
   "outputs": [],
   "source": [
    "Y = 2+X+3*X^2+2*X^3+eps\n",
    "df = data.frame(X, Y)"
   ]
  },
  {
   "cell_type": "code",
   "execution_count": 69,
   "metadata": {
    "scrolled": true
   },
   "outputs": [
    {
     "data": {
      "text/plain": [
       "Subset selection object\n",
       "Call: regsubsets.formula(Y ~ poly(X, 10), data = df)\n",
       "10 Variables  (and intercept)\n",
       "              Forced in Forced out\n",
       "poly(X, 10)1      FALSE      FALSE\n",
       "poly(X, 10)2      FALSE      FALSE\n",
       "poly(X, 10)3      FALSE      FALSE\n",
       "poly(X, 10)4      FALSE      FALSE\n",
       "poly(X, 10)5      FALSE      FALSE\n",
       "poly(X, 10)6      FALSE      FALSE\n",
       "poly(X, 10)7      FALSE      FALSE\n",
       "poly(X, 10)8      FALSE      FALSE\n",
       "poly(X, 10)9      FALSE      FALSE\n",
       "poly(X, 10)10     FALSE      FALSE\n",
       "1 subsets of each size up to 8\n",
       "Selection Algorithm: exhaustive\n",
       "         poly(X, 10)1 poly(X, 10)2 poly(X, 10)3 poly(X, 10)4 poly(X, 10)5\n",
       "1  ( 1 ) \"*\"          \" \"          \" \"          \" \"          \" \"         \n",
       "2  ( 1 ) \"*\"          \"*\"          \" \"          \" \"          \" \"         \n",
       "3  ( 1 ) \"*\"          \"*\"          \"*\"          \" \"          \" \"         \n",
       "4  ( 1 ) \"*\"          \"*\"          \"*\"          \" \"          \"*\"         \n",
       "5  ( 1 ) \"*\"          \"*\"          \"*\"          \" \"          \"*\"         \n",
       "6  ( 1 ) \"*\"          \"*\"          \"*\"          \" \"          \"*\"         \n",
       "7  ( 1 ) \"*\"          \"*\"          \"*\"          \"*\"          \"*\"         \n",
       "8  ( 1 ) \"*\"          \"*\"          \"*\"          \"*\"          \"*\"         \n",
       "         poly(X, 10)6 poly(X, 10)7 poly(X, 10)8 poly(X, 10)9 poly(X, 10)10\n",
       "1  ( 1 ) \" \"          \" \"          \" \"          \" \"          \" \"          \n",
       "2  ( 1 ) \" \"          \" \"          \" \"          \" \"          \" \"          \n",
       "3  ( 1 ) \" \"          \" \"          \" \"          \" \"          \" \"          \n",
       "4  ( 1 ) \" \"          \" \"          \" \"          \" \"          \" \"          \n",
       "5  ( 1 ) \" \"          \"*\"          \" \"          \" \"          \" \"          \n",
       "6  ( 1 ) \"*\"          \"*\"          \" \"          \" \"          \" \"          \n",
       "7  ( 1 ) \"*\"          \"*\"          \" \"          \" \"          \" \"          \n",
       "8  ( 1 ) \"*\"          \"*\"          \"*\"          \" \"          \" \"          "
      ]
     },
     "metadata": {},
     "output_type": "display_data"
    }
   ],
   "source": [
    "reg.fit=regsubsets(Y~poly(X,10), data=df)\n",
    "reg.sum=summary(reg.fit)\n",
    "reg.sum"
   ]
  },
  {
   "cell_type": "code",
   "execution_count": 70,
   "metadata": {
    "scrolled": false
   },
   "outputs": [
    {
     "data": {
      "image/png": "[encoded data removed]",
      "text/plain": [
       "plot without title"
      ]
     },
     "metadata": {},
     "output_type": "display_data"
    }
   ],
   "source": [
    "regsubplot(reg.sum)"
   ]
  },
  {
   "cell_type": "code",
   "execution_count": 71,
   "metadata": {
    "scrolled": true
   },
   "outputs": [
    {
     "name": "stdout",
     "output_type": "stream",
     "text": [
      "[1] \"Adjusted R2\"\n",
      "[1] 6\n",
      "[1] 0.9884299\n",
      "[1] \"C_p\"\n",
      "[1] 5\n",
      "[1] 3.321936\n",
      "[1] \"BIC\"\n",
      "[1] 3\n",
      "[1] -427.4544\n"
     ]
    }
   ],
   "source": [
    "regsubresult(reg.sum)"
   ]
  },
  {
   "cell_type": "code",
   "execution_count": 72,
   "metadata": {},
   "outputs": [
    {
     "data": {
      "text/plain": [
       "Subset selection object\n",
       "Call: regsubsets.formula(Y ~ poly(X, 10), data = df, method = \"forward\")\n",
       "10 Variables  (and intercept)\n",
       "              Forced in Forced out\n",
       "poly(X, 10)1      FALSE      FALSE\n",
       "poly(X, 10)2      FALSE      FALSE\n",
       "poly(X, 10)3      FALSE      FALSE\n",
       "poly(X, 10)4      FALSE      FALSE\n",
       "poly(X, 10)5      FALSE      FALSE\n",
       "poly(X, 10)6      FALSE      FALSE\n",
       "poly(X, 10)7      FALSE      FALSE\n",
       "poly(X, 10)8      FALSE      FALSE\n",
       "poly(X, 10)9      FALSE      FALSE\n",
       "poly(X, 10)10     FALSE      FALSE\n",
       "1 subsets of each size up to 8\n",
       "Selection Algorithm: forward\n",
       "         poly(X, 10)1 poly(X, 10)2 poly(X, 10)3 poly(X, 10)4 poly(X, 10)5\n",
       "1  ( 1 ) \"*\"          \" \"          \" \"          \" \"          \" \"         \n",
       "2  ( 1 ) \"*\"          \"*\"          \" \"          \" \"          \" \"         \n",
       "3  ( 1 ) \"*\"          \"*\"          \"*\"          \" \"          \" \"         \n",
       "4  ( 1 ) \"*\"          \"*\"          \"*\"          \" \"          \"*\"         \n",
       "5  ( 1 ) \"*\"          \"*\"          \"*\"          \" \"          \"*\"         \n",
       "6  ( 1 ) \"*\"          \"*\"          \"*\"          \" \"          \"*\"         \n",
       "7  ( 1 ) \"*\"          \"*\"          \"*\"          \"*\"          \"*\"         \n",
       "8  ( 1 ) \"*\"          \"*\"          \"*\"          \"*\"          \"*\"         \n",
       "         poly(X, 10)6 poly(X, 10)7 poly(X, 10)8 poly(X, 10)9 poly(X, 10)10\n",
       "1  ( 1 ) \" \"          \" \"          \" \"          \" \"          \" \"          \n",
       "2  ( 1 ) \" \"          \" \"          \" \"          \" \"          \" \"          \n",
       "3  ( 1 ) \" \"          \" \"          \" \"          \" \"          \" \"          \n",
       "4  ( 1 ) \" \"          \" \"          \" \"          \" \"          \" \"          \n",
       "5  ( 1 ) \" \"          \"*\"          \" \"          \" \"          \" \"          \n",
       "6  ( 1 ) \"*\"          \"*\"          \" \"          \" \"          \" \"          \n",
       "7  ( 1 ) \"*\"          \"*\"          \" \"          \" \"          \" \"          \n",
       "8  ( 1 ) \"*\"          \"*\"          \"*\"          \" \"          \" \"          "
      ]
     },
     "metadata": {},
     "output_type": "display_data"
    }
   ],
   "source": [
    "reg.fit=regsubsets(Y~poly(X,10), data=df, method=\"forward\")\n",
    "reg.sum=summary(reg.fit)\n",
    "reg.sum"
   ]
  },
  {
   "cell_type": "code",
   "execution_count": 73,
   "metadata": {},
   "outputs": [
    {
     "data": {
      "image/png": "[encoded data removed]",
      "text/plain": [
       "plot without title"
      ]
     },
     "metadata": {},
     "output_type": "display_data"
    }
   ],
   "source": [
    "regsubplot(reg.sum)"
   ]
  },
  {
   "cell_type": "code",
   "execution_count": 74,
   "metadata": {},
   "outputs": [
    {
     "name": "stdout",
     "output_type": "stream",
     "text": [
      "[1] \"Adjusted R2\"\n",
      "[1] 6\n",
      "[1] 0.9884299\n",
      "[1] \"C_p\"\n",
      "[1] 5\n",
      "[1] 3.321936\n",
      "[1] \"BIC\"\n",
      "[1] 3\n",
      "[1] -427.4544\n"
     ]
    }
   ],
   "source": [
    "regsubresult(reg.sum)"
   ]
  },
  {
   "cell_type": "code",
   "execution_count": 75,
   "metadata": {},
   "outputs": [
    {
     "data": {
      "text/plain": [
       "Subset selection object\n",
       "Call: regsubsets.formula(Y ~ poly(X, 10), data = df, method = \"backward\")\n",
       "10 Variables  (and intercept)\n",
       "              Forced in Forced out\n",
       "poly(X, 10)1      FALSE      FALSE\n",
       "poly(X, 10)2      FALSE      FALSE\n",
       "poly(X, 10)3      FALSE      FALSE\n",
       "poly(X, 10)4      FALSE      FALSE\n",
       "poly(X, 10)5      FALSE      FALSE\n",
       "poly(X, 10)6      FALSE      FALSE\n",
       "poly(X, 10)7      FALSE      FALSE\n",
       "poly(X, 10)8      FALSE      FALSE\n",
       "poly(X, 10)9      FALSE      FALSE\n",
       "poly(X, 10)10     FALSE      FALSE\n",
       "1 subsets of each size up to 8\n",
       "Selection Algorithm: backward\n",
       "         poly(X, 10)1 poly(X, 10)2 poly(X, 10)3 poly(X, 10)4 poly(X, 10)5\n",
       "1  ( 1 ) \"*\"          \" \"          \" \"          \" \"          \" \"         \n",
       "2  ( 1 ) \"*\"          \"*\"          \" \"          \" \"          \" \"         \n",
       "3  ( 1 ) \"*\"          \"*\"          \"*\"          \" \"          \" \"         \n",
       "4  ( 1 ) \"*\"          \"*\"          \"*\"          \" \"          \"*\"         \n",
       "5  ( 1 ) \"*\"          \"*\"          \"*\"          \" \"          \"*\"         \n",
       "6  ( 1 ) \"*\"          \"*\"          \"*\"          \" \"          \"*\"         \n",
       "7  ( 1 ) \"*\"          \"*\"          \"*\"          \"*\"          \"*\"         \n",
       "8  ( 1 ) \"*\"          \"*\"          \"*\"          \"*\"          \"*\"         \n",
       "         poly(X, 10)6 poly(X, 10)7 poly(X, 10)8 poly(X, 10)9 poly(X, 10)10\n",
       "1  ( 1 ) \" \"          \" \"          \" \"          \" \"          \" \"          \n",
       "2  ( 1 ) \" \"          \" \"          \" \"          \" \"          \" \"          \n",
       "3  ( 1 ) \" \"          \" \"          \" \"          \" \"          \" \"          \n",
       "4  ( 1 ) \" \"          \" \"          \" \"          \" \"          \" \"          \n",
       "5  ( 1 ) \" \"          \"*\"          \" \"          \" \"          \" \"          \n",
       "6  ( 1 ) \"*\"          \"*\"          \" \"          \" \"          \" \"          \n",
       "7  ( 1 ) \"*\"          \"*\"          \" \"          \" \"          \" \"          \n",
       "8  ( 1 ) \"*\"          \"*\"          \"*\"          \" \"          \" \"          "
      ]
     },
     "metadata": {},
     "output_type": "display_data"
    }
   ],
   "source": [
    "reg.fit=regsubsets(Y~poly(X,10), data=df, method=\"backward\")\n",
    "reg.sum=summary(reg.fit)\n",
    "reg.sum"
   ]
  },
  {
   "cell_type": "code",
   "execution_count": 76,
   "metadata": {},
   "outputs": [
    {
     "data": {
      "image/png": "[encoded data removed]",
      "text/plain": [
       "plot without title"
      ]
     },
     "metadata": {},
     "output_type": "display_data"
    }
   ],
   "source": [
    "regsubplot(reg.sum)"
   ]
  },
  {
   "cell_type": "code",
   "execution_count": 77,
   "metadata": {},
   "outputs": [
    {
     "name": "stdout",
     "output_type": "stream",
     "text": [
      "[1] \"Adjusted R2\"\n",
      "[1] 6\n",
      "[1] 0.9884299\n",
      "[1] \"C_p\"\n",
      "[1] 5\n",
      "[1] 3.321936\n",
      "[1] \"BIC\"\n",
      "[1] 3\n",
      "[1] -427.4544\n"
     ]
    }
   ],
   "source": [
    "regsubresult(reg.sum)"
   ]
  },
  {
   "cell_type": "markdown",
   "metadata": {},
   "source": [
    "In all cases the result is the same. BIC has best minimum value for model 3 (y~x+x^2+x^3), cp for model 4(y~x+x^2+x^3+x^6), and R2 has max for model 5 (y~x+x^2+x^3+x^5+x^6). All these models have close R2, BIC, Cp."
   ]
  },
  {
   "cell_type": "code",
   "execution_count": 78,
   "metadata": {
    "scrolled": true
   },
   "outputs": [
    {
     "data": {
      "image/png": "[encoded data removed]",
      "text/plain": [
       "plot without title"
      ]
     },
     "metadata": {},
     "output_type": "display_data"
    }
   ],
   "source": [
    "cv.lasso = cv.glmnet(poly(X, 10), Y, alpha=1, lambda=seq(0.001, 0.2, by = 0.005))\n",
    "plot(cv.lasso)"
   ]
  },
  {
   "cell_type": "markdown",
   "metadata": {},
   "source": [
    "The smallest error is for $\\lambda \\approx 2*10^{-3}$"
   ]
  },
  {
   "cell_type": "code",
   "execution_count": 79,
   "metadata": {},
   "outputs": [],
   "source": [
    "Y = 2+0.5*X^7\n",
    "df = data.frame(X,Y)"
   ]
  },
  {
   "cell_type": "code",
   "execution_count": 80,
   "metadata": {},
   "outputs": [
    {
     "data": {
      "text/plain": [
       "Subset selection object\n",
       "Call: regsubsets.formula(Y ~ poly(X, 10), data = df)\n",
       "10 Variables  (and intercept)\n",
       "              Forced in Forced out\n",
       "poly(X, 10)1      FALSE      FALSE\n",
       "poly(X, 10)2      FALSE      FALSE\n",
       "poly(X, 10)3      FALSE      FALSE\n",
       "poly(X, 10)4      FALSE      FALSE\n",
       "poly(X, 10)5      FALSE      FALSE\n",
       "poly(X, 10)6      FALSE      FALSE\n",
       "poly(X, 10)7      FALSE      FALSE\n",
       "poly(X, 10)8      FALSE      FALSE\n",
       "poly(X, 10)9      FALSE      FALSE\n",
       "poly(X, 10)10     FALSE      FALSE\n",
       "1 subsets of each size up to 8\n",
       "Selection Algorithm: exhaustive\n",
       "         poly(X, 10)1 poly(X, 10)2 poly(X, 10)3 poly(X, 10)4 poly(X, 10)5\n",
       "1  ( 1 ) \" \"          \" \"          \"*\"          \" \"          \" \"         \n",
       "2  ( 1 ) \"*\"          \" \"          \"*\"          \" \"          \" \"         \n",
       "3  ( 1 ) \"*\"          \"*\"          \"*\"          \" \"          \" \"         \n",
       "4  ( 1 ) \"*\"          \"*\"          \"*\"          \" \"          \"*\"         \n",
       "5  ( 1 ) \"*\"          \"*\"          \"*\"          \"*\"          \"*\"         \n",
       "6  ( 1 ) \"*\"          \"*\"          \"*\"          \"*\"          \"*\"         \n",
       "7  ( 1 ) \"*\"          \"*\"          \"*\"          \"*\"          \"*\"         \n",
       "8  ( 1 ) \"*\"          \"*\"          \"*\"          \"*\"          \"*\"         \n",
       "         poly(X, 10)6 poly(X, 10)7 poly(X, 10)8 poly(X, 10)9 poly(X, 10)10\n",
       "1  ( 1 ) \" \"          \" \"          \" \"          \" \"          \" \"          \n",
       "2  ( 1 ) \" \"          \" \"          \" \"          \" \"          \" \"          \n",
       "3  ( 1 ) \" \"          \" \"          \" \"          \" \"          \" \"          \n",
       "4  ( 1 ) \" \"          \" \"          \" \"          \" \"          \" \"          \n",
       "5  ( 1 ) \" \"          \" \"          \" \"          \" \"          \" \"          \n",
       "6  ( 1 ) \" \"          \"*\"          \" \"          \" \"          \" \"          \n",
       "7  ( 1 ) \"*\"          \"*\"          \" \"          \" \"          \" \"          \n",
       "8  ( 1 ) \"*\"          \"*\"          \" \"          \"*\"          \" \"          "
      ]
     },
     "metadata": {},
     "output_type": "display_data"
    }
   ],
   "source": [
    "reg.fit=regsubsets(Y~poly(X,10), data=df)\n",
    "reg.sum=summary(reg.fit)\n",
    "reg.sum"
   ]
  },
  {
   "cell_type": "code",
   "execution_count": 81,
   "metadata": {},
   "outputs": [
    {
     "data": {
      "image/png": "[encoded data removed]",
      "text/plain": [
       "plot without title"
      ]
     },
     "metadata": {},
     "output_type": "display_data"
    }
   ],
   "source": [
    "regsubplot(reg.sum)"
   ]
  },
  {
   "cell_type": "code",
   "execution_count": 82,
   "metadata": {},
   "outputs": [
    {
     "name": "stdout",
     "output_type": "stream",
     "text": [
      "[1] \"Adjusted R2\"\n",
      "[1] 7\n",
      "[1] 1\n",
      "[1] \"C_p\"\n",
      "[1] 7\n",
      "[1] 5.922291\n",
      "[1] \"BIC\"\n",
      "[1] 7\n",
      "[1] -7134.523\n"
     ]
    }
   ],
   "source": [
    "regsubresult(reg.sum)"
   ]
  },
  {
   "cell_type": "code",
   "execution_count": 83,
   "metadata": {},
   "outputs": [
    {
     "data": {
      "image/png": "[encoded data removed]",
      "text/plain": [
       "plot without title"
      ]
     },
     "metadata": {},
     "output_type": "display_data"
    }
   ],
   "source": [
    "cv.lasso = cv.glmnet(poly(X, 10), Y, alpha=1, lambda=seq(0.001, 0.2, by = 0.005))\n",
    "plot(cv.lasso)"
   ]
  },
  {
   "cell_type": "markdown",
   "metadata": {},
   "source": [
    "## Problem 9"
   ]
  },
  {
   "cell_type": "markdown",
   "metadata": {},
   "source": [
    "See python notebook"
   ]
  },
  {
   "cell_type": "markdown",
   "metadata": {},
   "source": [
    "## Problem 10"
   ]
  },
  {
   "cell_type": "code",
   "execution_count": 84,
   "metadata": {},
   "outputs": [],
   "source": [
    "set.seed(1)\n",
    "x = matrix(rnorm(1000 * 20), 1000, 20)\n",
    "b = rnorm(20)\n",
    "b[5] = 0\n",
    "b[10] = 0\n",
    "b[12] = 0\n",
    "b[19] = 0\n",
    "b[20] = 0\n",
    "eps = rnorm(1000)\n",
    "y = x %*% b + eps"
   ]
  },
  {
   "cell_type": "code",
   "execution_count": 85,
   "metadata": {},
   "outputs": [],
   "source": [
    "set.seed(3)\n",
    "train=sample(seq(1000), 100, replace = FALSE)\n",
    "df = data.frame(x,y)\n",
    "df_train = df[train,]\n",
    "df_test = df[-train,]"
   ]
  },
  {
   "cell_type": "code",
   "execution_count": 86,
   "metadata": {
    "scrolled": true
   },
   "outputs": [
    {
     "data": {
      "text/plain": [
       "Subset selection object\n",
       "Call: regsubsets.formula(y ~ ., data = df[train, ], nvmax = 20)\n",
       "20 Variables  (and intercept)\n",
       "    Forced in Forced out\n",
       "X1      FALSE      FALSE\n",
       "X2      FALSE      FALSE\n",
       "X3      FALSE      FALSE\n",
       "X4      FALSE      FALSE\n",
       "X5      FALSE      FALSE\n",
       "X6      FALSE      FALSE\n",
       "X7      FALSE      FALSE\n",
       "X8      FALSE      FALSE\n",
       "X9      FALSE      FALSE\n",
       "X10     FALSE      FALSE\n",
       "X11     FALSE      FALSE\n",
       "X12     FALSE      FALSE\n",
       "X13     FALSE      FALSE\n",
       "X14     FALSE      FALSE\n",
       "X15     FALSE      FALSE\n",
       "X16     FALSE      FALSE\n",
       "X17     FALSE      FALSE\n",
       "X18     FALSE      FALSE\n",
       "X19     FALSE      FALSE\n",
       "X20     FALSE      FALSE\n",
       "1 subsets of each size up to 20\n",
       "Selection Algorithm: exhaustive\n",
       "          X1  X2  X3  X4  X5  X6  X7  X8  X9  X10 X11 X12 X13 X14 X15 X16 X17\n",
       "1  ( 1 )  \" \" \" \" \" \" \" \" \" \" \" \" \" \" \" \" \"*\" \" \" \" \" \" \" \" \" \" \" \" \" \" \" \" \"\n",
       "2  ( 1 )  \" \" \" \" \" \" \"*\" \" \" \" \" \" \" \" \" \"*\" \" \" \" \" \" \" \" \" \" \" \" \" \" \" \" \"\n",
       "3  ( 1 )  \" \" \" \" \" \" \"*\" \" \" \" \" \"*\" \" \" \"*\" \" \" \" \" \" \" \" \" \" \" \" \" \" \" \" \"\n",
       "4  ( 1 )  \" \" \" \" \" \" \"*\" \" \" \" \" \"*\" \" \" \"*\" \" \" \" \" \" \" \" \" \" \" \" \" \" \" \" \"\n",
       "5  ( 1 )  \" \" \" \" \" \" \"*\" \" \" \" \" \"*\" \"*\" \"*\" \" \" \" \" \" \" \" \" \" \" \" \" \" \" \" \"\n",
       "6  ( 1 )  \" \" \" \" \" \" \"*\" \" \" \" \" \"*\" \"*\" \"*\" \" \" \"*\" \" \" \" \" \" \" \" \" \" \" \" \"\n",
       "7  ( 1 )  \" \" \" \" \" \" \"*\" \" \" \" \" \"*\" \"*\" \"*\" \" \" \"*\" \" \" \" \" \"*\" \" \" \" \" \" \"\n",
       "8  ( 1 )  \" \" \" \" \" \" \"*\" \" \" \" \" \"*\" \"*\" \"*\" \" \" \"*\" \" \" \" \" \"*\" \"*\" \" \" \" \"\n",
       "9  ( 1 )  \" \" \" \" \"*\" \"*\" \" \" \" \" \"*\" \"*\" \"*\" \" \" \"*\" \" \" \" \" \"*\" \"*\" \" \" \" \"\n",
       "10  ( 1 ) \" \" \" \" \"*\" \"*\" \" \" \"*\" \"*\" \"*\" \"*\" \" \" \"*\" \" \" \" \" \"*\" \"*\" \" \" \" \"\n",
       "11  ( 1 ) \" \" \"*\" \"*\" \"*\" \" \" \"*\" \"*\" \"*\" \"*\" \" \" \"*\" \" \" \" \" \"*\" \"*\" \" \" \" \"\n",
       "12  ( 1 ) \" \" \"*\" \"*\" \"*\" \" \" \"*\" \"*\" \"*\" \"*\" \" \" \"*\" \" \" \" \" \"*\" \"*\" \" \" \"*\"\n",
       "13  ( 1 ) \" \" \"*\" \"*\" \"*\" \" \" \"*\" \"*\" \"*\" \"*\" \" \" \"*\" \" \" \"*\" \"*\" \"*\" \" \" \"*\"\n",
       "14  ( 1 ) \" \" \"*\" \"*\" \"*\" \" \" \"*\" \"*\" \"*\" \"*\" \" \" \"*\" \"*\" \"*\" \"*\" \"*\" \" \" \"*\"\n",
       "15  ( 1 ) \" \" \"*\" \"*\" \"*\" \" \" \"*\" \"*\" \"*\" \"*\" \" \" \"*\" \"*\" \"*\" \"*\" \"*\" \" \" \"*\"\n",
       "16  ( 1 ) \"*\" \"*\" \"*\" \"*\" \" \" \"*\" \"*\" \"*\" \"*\" \" \" \"*\" \"*\" \"*\" \"*\" \"*\" \" \" \"*\"\n",
       "17  ( 1 ) \"*\" \"*\" \"*\" \"*\" \" \" \"*\" \"*\" \"*\" \"*\" \" \" \"*\" \"*\" \"*\" \"*\" \"*\" \"*\" \"*\"\n",
       "18  ( 1 ) \"*\" \"*\" \"*\" \"*\" \"*\" \"*\" \"*\" \"*\" \"*\" \"*\" \"*\" \"*\" \"*\" \"*\" \"*\" \" \" \"*\"\n",
       "19  ( 1 ) \"*\" \"*\" \"*\" \"*\" \"*\" \"*\" \"*\" \"*\" \"*\" \"*\" \"*\" \"*\" \"*\" \"*\" \"*\" \"*\" \"*\"\n",
       "20  ( 1 ) \"*\" \"*\" \"*\" \"*\" \"*\" \"*\" \"*\" \"*\" \"*\" \"*\" \"*\" \"*\" \"*\" \"*\" \"*\" \"*\" \"*\"\n",
       "          X18 X19 X20\n",
       "1  ( 1 )  \" \" \" \" \" \"\n",
       "2  ( 1 )  \" \" \" \" \" \"\n",
       "3  ( 1 )  \" \" \" \" \" \"\n",
       "4  ( 1 )  \"*\" \" \" \" \"\n",
       "5  ( 1 )  \"*\" \" \" \" \"\n",
       "6  ( 1 )  \"*\" \" \" \" \"\n",
       "7  ( 1 )  \"*\" \" \" \" \"\n",
       "8  ( 1 )  \"*\" \" \" \" \"\n",
       "9  ( 1 )  \"*\" \" \" \" \"\n",
       "10  ( 1 ) \"*\" \" \" \" \"\n",
       "11  ( 1 ) \"*\" \" \" \" \"\n",
       "12  ( 1 ) \"*\" \" \" \" \"\n",
       "13  ( 1 ) \"*\" \" \" \" \"\n",
       "14  ( 1 ) \"*\" \" \" \" \"\n",
       "15  ( 1 ) \"*\" \" \" \"*\"\n",
       "16  ( 1 ) \"*\" \" \" \"*\"\n",
       "17  ( 1 ) \"*\" \" \" \"*\"\n",
       "18  ( 1 ) \"*\" \" \" \"*\"\n",
       "19  ( 1 ) \"*\" \" \" \"*\"\n",
       "20  ( 1 ) \"*\" \"*\" \"*\""
      ]
     },
     "metadata": {},
     "output_type": "display_data"
    }
   ],
   "source": [
    "reg.fit=regsubsets(y~., data=df[train,], nvmax = 20)\n",
    "reg.sum=summary(reg.fit)\n",
    "reg.sum"
   ]
  },
  {
   "cell_type": "code",
   "execution_count": 87,
   "metadata": {},
   "outputs": [
    {
     "data": {
      "image/png": "[encoded data removed]",
      "text/plain": [
       "plot without title"
      ]
     },
     "metadata": {},
     "output_type": "display_data"
    }
   ],
   "source": [
    "val.mse = modelsMSE(reg.fit, y~., df_train, df_train$y, 20)\n",
    "plot(val.mse, xlab = \"Number of predictors\", ylab = \"Training MSE\", pch = 19, type = \"b\")"
   ]
  },
  {
   "cell_type": "code",
   "execution_count": 88,
   "metadata": {},
   "outputs": [
    {
     "data": {
      "image/png": "[encoded data removed]",
      "text/plain": [
       "plot without title"
      ]
     },
     "metadata": {},
     "output_type": "display_data"
    }
   ],
   "source": [
    "val.mse = modelsMSE(reg.fit,  y~., df_test, df_test$y, 20)\n",
    "plot(val.mse, xlab = \"Number of predictors\", ylab = \"Test MSE\", pch = 19, type = \"b\")"
   ]
  },
  {
   "cell_type": "markdown",
   "metadata": {},
   "source": [
    "For test MSE the best result is for model with 17 predictors. Training MSE goes down as number of predictors increases as expected. "
   ]
  },
  {
   "cell_type": "code",
   "execution_count": 89,
   "metadata": {},
   "outputs": [],
   "source": [
    "set.seed(6)\n",
    "x = matrix(rnorm(1000 * 20), 1000, 20)\n",
    "b = rnorm(20)\n",
    "b[8] = 0\n",
    "b[10] =0\n",
    "b[12] = 0\n",
    "b[15] =0\n",
    "b[18] =0\n",
    "b[19] = 0\n",
    "eps = rnorm(1000)\n",
    "y = x %*% b + eps"
   ]
  },
  {
   "cell_type": "code",
   "execution_count": 90,
   "metadata": {},
   "outputs": [],
   "source": [
    "set.seed(3)\n",
    "train=sample(seq(1000), 100, replace = FALSE)\n",
    "df = data.frame(x,y)\n",
    "df_train = df[train,]\n",
    "df_test = df[-train,]"
   ]
  },
  {
   "cell_type": "code",
   "execution_count": 91,
   "metadata": {},
   "outputs": [],
   "source": [
    "reg.fit=regsubsets(y~., data=df[train,], nvmax = 20)"
   ]
  },
  {
   "cell_type": "code",
   "execution_count": 95,
   "metadata": {},
   "outputs": [
    {
     "data": {
      "image/png": "[encoded data removed]",
      "text/plain": [
       "plot without title"
      ]
     },
     "metadata": {},
     "output_type": "display_data"
    }
   ],
   "source": [
    "val.mse = modelsMSE(reg.fit, y~., df_test, df_test$y, 20)\n",
    "plot(val.mse, xlab = \"Number of predictors\", ylab = \"Test MSE\", pch = 19, type = \"b\")"
   ]
  },
  {
   "cell_type": "markdown",
   "metadata": {},
   "source": [
    "The best model has 15 predictors"
   ]
  },
  {
   "cell_type": "code",
   "execution_count": null,
   "metadata": {},
   "outputs": [],
   "source": [
    "n=20\n",
    "df.mat = model.matrix(y ~ ., data = df, nvmax = n) \n",
    "coef.errors = rep(NA, n)\n",
    "x_cols=names(df)[1:n-1]\n",
    "print(b)\n",
    "for (i in 1:n) {\n",
    "        coef = coef(reg.fit, id = i)\n",
    "        coef.errors[i] <- sqrt(sum((b[x_cols %in% names(coef)] - coef[names(coef) %in% x_cols])^2) + sum(b[!(x_cols %in% names(coef))])^2)\n",
    "    }\n",
    "print(coef.errors)"
   ]
  },
  {
   "cell_type": "code",
   "execution_count": null,
   "metadata": {},
   "outputs": [],
   "source": [
    "plot(coef.errors, xlab = \"Number of predictors\", ylab = \"Error coef\", pch = 19, type = \"b\")"
   ]
  },
  {
   "cell_type": "markdown",
   "metadata": {},
   "source": [
    "## Problem 11"
   ]
  },
  {
   "cell_type": "code",
   "execution_count": null,
   "metadata": {},
   "outputs": [],
   "source": [
    "head(Boston)"
   ]
  },
  {
   "cell_type": "code",
   "execution_count": null,
   "metadata": {},
   "outputs": [],
   "source": [
    "dim(Boston)"
   ]
  },
  {
   "cell_type": "code",
   "execution_count": null,
   "metadata": {},
   "outputs": [],
   "source": [
    "set.seed(1)\n",
    "test=sample(seq(dim(Boston)[1]), 50, replace = FALSE)\n",
    "df_train = Boston[-test,]\n",
    "df_test = Boston[test,]"
   ]
  },
  {
   "cell_type": "code",
   "execution_count": null,
   "metadata": {},
   "outputs": [],
   "source": [
    "reg.fit=regsubsets(crim~., data=Boston[train,], nvmax = 13)\n",
    "reg.sum=summary(reg.fit)\n",
    "print(reg.sum)"
   ]
  },
  {
   "cell_type": "code",
   "execution_count": null,
   "metadata": {},
   "outputs": [],
   "source": [
    "val.mse = modelsMSE(reg.fit, crim~., df_train, df_train$crim, 13)\n",
    "print(val.mse)\n",
    "plot(val.mse,  xlab = \"Number of predictors\", ylab = \"Test MSE\", pch = 10, type = \"b\")"
   ]
  },
  {
   "cell_type": "markdown",
   "metadata": {},
   "source": [
    "The lowest test MSE is for the model with 3 predictors."
   ]
  },
  {
   "cell_type": "code",
   "execution_count": null,
   "metadata": {},
   "outputs": [],
   "source": [
    "X = model.matrix(crim ~ ., Boston)[,-1]\n",
    "ridge.mod = glmnet(X, Boston$crim, alpha=0,  lambda=seq(0.01, 1, by = 0.05))\n",
    "cv.ridge = cv.glmnet(X, Boston$crim, alpha=0)\n",
    "plot(cv.ridge)\n",
    "bestlam=cv.ridge$lambda.min\n",
    "bestlam"
   ]
  },
  {
   "cell_type": "code",
   "execution_count": null,
   "metadata": {},
   "outputs": [],
   "source": [
    "ridge.pred=predict(ridge.mod, s=bestlam, newx=X[test,])\n",
    "mean((ridge.pred-df_test$crim)^2)"
   ]
  },
  {
   "cell_type": "code",
   "execution_count": null,
   "metadata": {},
   "outputs": [],
   "source": [
    "lasso.mod = glmnet(X, Boston$crim, alpha=1,  lambda=seq(0.01, 1, by = 0.05))\n",
    "cv.lasso = cv.glmnet(X, Boston$crim, alpha=1)\n",
    "plot(cv.ridge)"
   ]
  },
  {
   "cell_type": "code",
   "execution_count": null,
   "metadata": {},
   "outputs": [],
   "source": [
    "lasso.pred=predict(lasso.mod, s=bestlam, newx=X[test,])\n",
    "mean((lasso.pred-df_test$crim)^2)"
   ]
  },
  {
   "cell_type": "code",
   "execution_count": null,
   "metadata": {},
   "outputs": [],
   "source": [
    "pcr.fit = pcr(crim~., data=df_train, validation = 'CV')\n",
    "validationplot(pcr.fit, val.type=\"MSEP\")"
   ]
  },
  {
   "cell_type": "code",
   "execution_count": null,
   "metadata": {},
   "outputs": [],
   "source": [
    "pcr.pred = predict(pcr.fit, df_test[,-1], ncomp=10)\n",
    "mean((pcr.pred-df_test$crim)^2)"
   ]
  },
  {
   "cell_type": "code",
   "execution_count": null,
   "metadata": {},
   "outputs": [],
   "source": [
    "plsr.fit = plsr(crim~., data=df_train, validation = 'CV')\n",
    "validationplot(plsr.fit, val.type=\"MSEP\")"
   ]
  },
  {
   "cell_type": "code",
   "execution_count": null,
   "metadata": {},
   "outputs": [],
   "source": [
    "plsr.pred = predict(plsr.fit, df_test[,-1], ncomp=10)\n",
    "mean((plsr.pred-df_test$crim)^2)"
   ]
  }
 ],
 "metadata": {
  "kernelspec": {
   "display_name": "R",
   "language": "R",
   "name": "ir"
  },
  "language_info": {
   "codemirror_mode": "r",
   "file_extension": ".r",
   "mimetype": "text/x-r-source",
   "name": "R",
   "pygments_lexer": "r",
   "version": "3.6.1"
  }
 },
 "nbformat": 4,
 "nbformat_minor": 4
}
