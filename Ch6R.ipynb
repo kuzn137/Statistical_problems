{
 "cells": [
  {
   "cell_type": "markdown",
   "metadata": {},
   "source": [
    "# Chapter 6"
   ]
  },
  {
   "cell_type": "markdown",
   "metadata": {},
   "source": [
    "## Problem 1"
   ]
  },
  {
   "cell_type": "markdown",
   "metadata": {},
   "source": [
    "We perform best subset, forward stepwise, and backward stepwise\n",
    "selection on a single data set. For each approach, we obtain p + 1\n",
    "models, containing 0, 1, 2,...,p predictors. Explain your answers:"
   ]
  },
  {
   "cell_type": "markdown",
   "metadata": {},
   "source": [
    "(a) Which of the three models with k predictors has the smallest\n",
    "training RSS?\n",
    "\n",
    "It is best subset selection because it consider all subsets and make choice on training set crossvalidation. "
   ]
  },
  {
   "cell_type": "markdown",
   "metadata": {},
   "source": [
    "(b) Which of the three models with k predictors has the smallest\n",
    "test RSS?\n",
    "\n",
    "Best subset selection may give best choice, but for larger p there is more possibility that model will have overfitting. It is difficult to say for sure."
   ]
  },
  {
   "cell_type": "markdown",
   "metadata": {},
   "source": [
    "(c)  True or False:\n",
    "i. The predictors in the k-variable model identified by forward\n",
    "stepwise are a subset of the predictors in the (k+1)-variable\n",
    "model identified by forward stepwise selection\n",
    "\n",
    "True by definition of forward stepwise selection\n",
    "\n",
    "ii. The predictors in the k-variable model identified by backward stepwise are a subset of the predictors in the (k + 1)-\n",
    "variable model identified by backward stepwise selection.\n",
    "\n",
    "True by definition of backward stepwise selection\n",
    "\n",
    "iii.  The predictors in the k-variable model identified by backward stepwise are a subset of the predictors in the (k + 1)-\n",
    "variable model identified by forward stepwise selection.\n",
    "\n",
    "False, it is not necessarily that forward stepwise selection and backward stepwise selection have k common features\n",
    "\n",
    "iv. The predictors in the k-variable model identified by forward\n",
    "stepwise are a subset of the predictors in the (k+1)-variable\n",
    "model identified by backward stepwise selection.\n",
    "\n",
    "False the same as iii.\n",
    "\n",
    "v. The predictors in the k-variable model identified by best\n",
    "subset are a subset of the predictors in the (k + 1)-variable\n",
    "model identified by best subset selection.\n",
    "\n",
    "False the best subset consider more models and selected model can have different features from other approches."
   ]
  },
  {
   "cell_type": "markdown",
   "metadata": {},
   "source": [
    "## Problem 2"
   ]
  },
  {
   "cell_type": "markdown",
   "metadata": {},
   "source": [
    "(a)  For parts (a) through (c), indicate which of i. through iv. is correct.\n",
    "Justify your answer.\n",
    "\n",
    "(a) The lasso, relative to least squares, is:\n",
    "\n",
    "i. More flexible and hence will give improved prediction accuracy when its increase in bias is less than its decrease in\n",
    "variance.\n",
    "\n",
    "ii. More flexible and hence will give improved prediction accuracy when its increase in variance is less than its decrease\n",
    "in bias\n",
    "\n",
    "iii. Less flexible and hence will give improved prediction accuracy when its increase in bias is less than its decrease in\n",
    "variance.\n",
    "\n",
    "iv. Less flexible and hence will give improved prediction accuracy when its increase in variance is less than its decrease\n",
    "in bias\n",
    "\n",
    "\n",
    "For the Lasso relative to least squares iii It's less flexible, it increases in bias and decreases in variance.\n",
    "\n",
    "(b) Repeat (a) for ridge regression relative to least squares.\n",
    "\n",
    "\n",
    "iii, Ridge in general is similar to Lasso.\n",
    "\n",
    "(c) Repeat (a) for non-linear methods relative to least squares\n",
    "\n",
    "\n",
    "ii Non-linear methods are more flexible. They decreases in bias and increases in variance "
   ]
  },
  {
   "cell_type": "markdown",
   "metadata": {},
   "source": [
    "## Problem 3"
   ]
  },
  {
   "cell_type": "markdown",
   "metadata": {},
   "source": [
    "(a) iV Training RSS will steadily decrease.\n",
    "\n",
    "(b) ii Test RSS U shape, it starts to overfit for large s, bais and varians trade off.\n",
    "\n",
    "(c) i Variance increases.\n",
    "\n",
    "(d) iv It is similar to a.\n",
    "\n",
    "(e) v, this error is constant"
   ]
  },
  {
   "cell_type": "markdown",
   "metadata": {},
   "source": [
    "## Problem 4"
   ]
  },
  {
   "cell_type": "markdown",
   "metadata": {},
   "source": [
    "The effect is opposit to problem 3, coeffitients becomes less significant as lambda increases\n",
    "(a) iii Training RSS will steadily increase.\n",
    "\n",
    "(b) i Inverted U shape\n",
    "\n",
    "(c) iv Variance will steadily decrease.\n",
    "\n",
    "(d) iii, It is similar to a.\n",
    "\n",
    "(e) v, this error does not change."
   ]
  },
  {
   "cell_type": "markdown",
   "metadata": {},
   "source": [
    "## Problem 5"
   ]
  },
  {
   "cell_type": "markdown",
   "metadata": {},
   "source": [
    "It is well-known that ridge regression tends to give similar coefficient\n",
    "values to correlated variables, whereas the lasso may give quite different coefficient values to correlated variables. We will now explore\n",
    "this property in a very simple setting.\n",
    "Suppose that n = 2, p = 2, x11 = x12, x21 = x22. Furthermore,\n",
    "suppose that y1 +y2 = 0 and x11 +x21 = 0 and x12 +x22 = 0, so that\n",
    "the estimate for the intercept in a least squares, ridge regression, or\n",
    "lasso model is zero: βˆ0 = 0"
   ]
  },
  {
   "cell_type": "markdown",
   "metadata": {},
   "source": [
    "(a) Write out the ridge regression optimization problem in this setting.\n",
    "\n",
    "$y_1=-y_2=y, x_{11}=x_{12}=-x_{22} = -x_{21}=x$\n",
    "\n",
    "Then taking $\\beta_1$ and $\\beta_2$ derivatives from (6.5) to minimize we obtain\n",
    "\n",
    "$xy-(\\beta_1+\\beta_2)x^2 = \\lambda\\beta_1$\n",
    "\n",
    "$xy-(\\beta_1+\\beta_2)x^2 = \\lambda\\beta_2$\n",
    "\n",
    "(b) Argue that in this setting, the ridge coefficient estimates satisfy\n",
    "$\\hat{β}_1$  = $\\hat{β}_2$.\n",
    "\n",
    "These equations has solusion if $\\beta_1=\\beta_2$, because of righthand sides.\n",
    "\n",
    "(c) Write out the lasso optimization problem in this setting\n",
    "\n",
    "For Lasso after taking derivatives both equation are identical\n",
    "\n",
    "$xy-(\\beta_1+\\beta_2)x^2 = \\lambda/2$\n",
    "\n",
    "$xy-(\\beta_1+\\beta_2)x^2 = \\lambda/2$\n",
    "\n",
    "(d) Argue that in this setting, the lasso coefficients $\\hat{β}_1$ and $\\hat{β}_2$ are\n",
    "not unique—in other words, there are many possible solutions\n",
    "to the optimization problem in (c). Describe these solutions\n",
    "\n",
    "$\\beta_1$ and $\\beta_2$ are not unique they are connected by one equation above.\n"
   ]
  },
  {
   "cell_type": "markdown",
   "metadata": {},
   "source": [
    "## Problem 6"
   ]
  },
  {
   "cell_type": "code",
   "execution_count": 21,
   "metadata": {},
   "outputs": [],
   "source": [
    "Ridge_loss1D=function(y, lambda, beta){\n",
    "    return((y-beta)^2 + lambda*beta^2)\n",
    "}\n",
    "Lasso_loss1D=function(y, lambda, beta){\n",
    "    return((y-beta)^2 + lambda*abs(beta))\n",
    "}"
   ]
  },
  {
   "cell_type": "code",
   "execution_count": 22,
   "metadata": {},
   "outputs": [
    {
     "data": {
      "image/png": "[encoded data removed]",
      "text/plain": [
       "plot without title"
      ]
     },
     "metadata": {},
     "output_type": "display_data"
    }
   ],
   "source": [
    "x=-5:10\n",
    "plot(x, Ridge_loss1D(10, 1, x), type=\"b\", col = \"blue\", xlab = \"beta\", ylab = \"loss\")"
   ]
  },
  {
   "cell_type": "markdown",
   "metadata": {},
   "source": [
    "Minimum is at 1/(1+lambda)=5"
   ]
  },
  {
   "cell_type": "code",
   "execution_count": 23,
   "metadata": {},
   "outputs": [
    {
     "data": {
      "image/png": "[encoded data removed]",
      "text/plain": [
       "plot without title"
      ]
     },
     "metadata": {},
     "output_type": "display_data"
    }
   ],
   "source": [
    "x=-5:15\n",
    "plot(x, Lasso_loss1D(10, 2, x), type=\"b\", col = \"blue\", xlab = \"beta\", ylab = \"loss\")"
   ]
  },
  {
   "cell_type": "markdown",
   "metadata": {},
   "source": [
    "Minimum is at y-lambda/2=9"
   ]
  },
  {
   "cell_type": "markdown",
   "metadata": {},
   "source": [
    "## Problem 7"
   ]
  },
  {
   "cell_type": "markdown",
   "metadata": {},
   "source": [
    "(a) The likelihood is $f(Y|X, \\beta)=1/\\sqrt{2\\pi\\sigma^2}exp(-(y-\\sum_{i=1}^p\\beta_{i}x_i)^2/(2\\sigma^2))$\n",
    "\n",
    "(b)  Posterior is $1/(b\\sqrt{2\\pi\\sigma^2})exp(-(y-\\sum_{i=1}^p\\beta_{i}x_i)^2/(2\\sigma^2)-\\sum_{i=1}^p|\\beta_i|/b)$\n",
    "\n",
    "(c) In case (b) maximum of distribution, mode, will not coincide with mean. Condition of maximum of distribution will be the same a minimization of Lasso.\n",
    "\n",
    "(d)  Posterior is $1/(b\\sqrt{2\\pi\\sigma^2})exp(-(y-\\sum_{i=1}^p\\beta_{i}x_i)^2/(2\\sigma^2)-\\sum_{i=1}^p\\beta_i^2/c)$\n",
    "\n",
    "(e) In case (d) maximum of distribution will be mode and mean. Condition of maximum of distribution will be the same a minimization of Ridge.\n"
   ]
  },
  {
   "cell_type": "markdown",
   "metadata": {},
   "source": [
    "## Functions"
   ]
  },
  {
   "cell_type": "code",
   "execution_count": 24,
   "metadata": {},
   "outputs": [],
   "source": [
    "regsubresult=function(reg.sum){\n",
    "    print('Adjusted R2')\n",
    "    print(which.max(reg.sum$adjr2))\n",
    "    print(max(reg.sum$adjr2))\n",
    "    print(\"C_p\")\n",
    "    print(which.min(reg.sum$cp))\n",
    "    print(min(reg.sum$cp))\n",
    "    print(\"BIC\")\n",
    "    print(which.min(reg.sum$bic))\n",
    "    print(min(reg.sum$bic))\n",
    "}\n",
    "regsubplot=function(reg.sum){\n",
    "    par(mfrow = c(2, 2))\n",
    "    plot(1:8, reg.sum$adjr2, type=\"b\", col=\"blue\", xlab = \"Model\", ylab = \"R2\")\n",
    "    plot(1:8, reg.sum$cp, type=\"b\", col=\"blue\",xlab = \"Model\", ylab = \"C_p\")\n",
    "    plot(1:8, reg.sum$bic, type=\"b\", , col = \"blue\", xlab = \"Model\", ylab = \"BIC\")\n",
    "   }\n",
    "\n",
    "modelsMSE = function(reg.fit, formula, df, out,  n){\n",
    "    df.mat = model.matrix(formula, data = df, nvmax = n)\n",
    "    val.mse = rep(NA, n)\n",
    "    for (i in 1:n) {\n",
    "        coef = coef(reg.fit, id = i)\n",
    "        pred = df.mat[, names(coef)] %*% coef\n",
    "        val.mse[i] = mean((pred - out)^2)\n",
    "    }\n",
    "    return(val.mse)\n",
    "}"
   ]
  },
  {
   "cell_type": "markdown",
   "metadata": {},
   "source": [
    "## Libraries"
   ]
  },
  {
   "cell_type": "code",
   "execution_count": 29,
   "metadata": {},
   "outputs": [
    {
     "name": "stderr",
     "output_type": "stream",
     "text": [
      "Warning message:\n",
      "\"package 'pls' is in use and will not be installed\""
     ]
    }
   ],
   "source": [
    "install.packages(\"pls\", repos='http://cran.us.r-project.org')\n",
    "library(ISLR)\n",
    "library(leaps)\n",
    "library(glmnet)\n",
    "library(MASS)\n",
    "library(pls)"
   ]
  },
  {
   "cell_type": "markdown",
   "metadata": {},
   "source": [
    "## Problem 8"
   ]
  },
  {
   "cell_type": "code",
   "execution_count": 30,
   "metadata": {},
   "outputs": [],
   "source": [
    "X=rnorm(100)\n",
    "eps=rnorm(100)"
   ]
  },
  {
   "cell_type": "code",
   "execution_count": 31,
   "metadata": {},
   "outputs": [],
   "source": [
    "Y = 2+X+3*X^2+2*X^3+eps\n",
    "df = data.frame(X, Y)"
   ]
  },
  {
   "cell_type": "code",
   "execution_count": 32,
   "metadata": {
    "scrolled": true
   },
   "outputs": [
    {
     "data": {
      "text/plain": [
       "Subset selection object\n",
       "Call: regsubsets.formula(Y ~ poly(X, 10), data = df)\n",
       "10 Variables  (and intercept)\n",
       "              Forced in Forced out\n",
       "poly(X, 10)1      FALSE      FALSE\n",
       "poly(X, 10)2      FALSE      FALSE\n",
       "poly(X, 10)3      FALSE      FALSE\n",
       "poly(X, 10)4      FALSE      FALSE\n",
       "poly(X, 10)5      FALSE      FALSE\n",
       "poly(X, 10)6      FALSE      FALSE\n",
       "poly(X, 10)7      FALSE      FALSE\n",
       "poly(X, 10)8      FALSE      FALSE\n",
       "poly(X, 10)9      FALSE      FALSE\n",
       "poly(X, 10)10     FALSE      FALSE\n",
       "1 subsets of each size up to 8\n",
       "Selection Algorithm: exhaustive\n",
       "         poly(X, 10)1 poly(X, 10)2 poly(X, 10)3 poly(X, 10)4 poly(X, 10)5\n",
       "1  ( 1 ) \"*\"          \" \"          \" \"          \" \"          \" \"         \n",
       "2  ( 1 ) \"*\"          \"*\"          \" \"          \" \"          \" \"         \n",
       "3  ( 1 ) \"*\"          \"*\"          \"*\"          \" \"          \" \"         \n",
       "4  ( 1 ) \"*\"          \"*\"          \"*\"          \" \"          \" \"         \n",
       "5  ( 1 ) \"*\"          \"*\"          \"*\"          \" \"          \" \"         \n",
       "6  ( 1 ) \"*\"          \"*\"          \"*\"          \" \"          \" \"         \n",
       "7  ( 1 ) \"*\"          \"*\"          \"*\"          \" \"          \" \"         \n",
       "8  ( 1 ) \"*\"          \"*\"          \"*\"          \" \"          \" \"         \n",
       "         poly(X, 10)6 poly(X, 10)7 poly(X, 10)8 poly(X, 10)9 poly(X, 10)10\n",
       "1  ( 1 ) \" \"          \" \"          \" \"          \" \"          \" \"          \n",
       "2  ( 1 ) \" \"          \" \"          \" \"          \" \"          \" \"          \n",
       "3  ( 1 ) \" \"          \" \"          \" \"          \" \"          \" \"          \n",
       "4  ( 1 ) \"*\"          \" \"          \" \"          \" \"          \" \"          \n",
       "5  ( 1 ) \"*\"          \" \"          \"*\"          \" \"          \" \"          \n",
       "6  ( 1 ) \"*\"          \" \"          \"*\"          \" \"          \"*\"          \n",
       "7  ( 1 ) \"*\"          \" \"          \"*\"          \"*\"          \"*\"          \n",
       "8  ( 1 ) \"*\"          \"*\"          \"*\"          \"*\"          \"*\"          "
      ]
     },
     "metadata": {},
     "output_type": "display_data"
    }
   ],
   "source": [
    "reg.fit=regsubsets(Y~poly(X,10), data=df)\n",
    "reg.sum=summary(reg.fit)\n",
    "reg.sum"
   ]
  },
  {
   "cell_type": "code",
   "execution_count": 33,
   "metadata": {
    "scrolled": false
   },
   "outputs": [
    {
     "data": {
      "image/png": "[encoded data removed]",
      "text/plain": [
       "plot without title"
      ]
     },
     "metadata": {},
     "output_type": "display_data"
    }
   ],
   "source": [
    "regsubplot(reg.sum)"
   ]
  },
  {
   "cell_type": "code",
   "execution_count": 34,
   "metadata": {
    "scrolled": true
   },
   "outputs": [
    {
     "name": "stdout",
     "output_type": "stream",
     "text": [
      "[1] \"Adjusted R2\"\n",
      "[1] 6\n",
      "[1] 0.9933719\n",
      "[1] \"C_p\"\n",
      "[1] 6\n",
      "[1] 4.397938\n",
      "[1] \"BIC\"\n",
      "[1] 3\n",
      "[1] -478.2494\n"
     ]
    }
   ],
   "source": [
    "regsubresult(reg.sum)"
   ]
  },
  {
   "cell_type": "code",
   "execution_count": 35,
   "metadata": {},
   "outputs": [
    {
     "data": {
      "text/plain": [
       "Subset selection object\n",
       "Call: regsubsets.formula(Y ~ poly(X, 10), data = df, method = \"forward\")\n",
       "10 Variables  (and intercept)\n",
       "              Forced in Forced out\n",
       "poly(X, 10)1      FALSE      FALSE\n",
       "poly(X, 10)2      FALSE      FALSE\n",
       "poly(X, 10)3      FALSE      FALSE\n",
       "poly(X, 10)4      FALSE      FALSE\n",
       "poly(X, 10)5      FALSE      FALSE\n",
       "poly(X, 10)6      FALSE      FALSE\n",
       "poly(X, 10)7      FALSE      FALSE\n",
       "poly(X, 10)8      FALSE      FALSE\n",
       "poly(X, 10)9      FALSE      FALSE\n",
       "poly(X, 10)10     FALSE      FALSE\n",
       "1 subsets of each size up to 8\n",
       "Selection Algorithm: forward\n",
       "         poly(X, 10)1 poly(X, 10)2 poly(X, 10)3 poly(X, 10)4 poly(X, 10)5\n",
       "1  ( 1 ) \"*\"          \" \"          \" \"          \" \"          \" \"         \n",
       "2  ( 1 ) \"*\"          \"*\"          \" \"          \" \"          \" \"         \n",
       "3  ( 1 ) \"*\"          \"*\"          \"*\"          \" \"          \" \"         \n",
       "4  ( 1 ) \"*\"          \"*\"          \"*\"          \" \"          \" \"         \n",
       "5  ( 1 ) \"*\"          \"*\"          \"*\"          \" \"          \" \"         \n",
       "6  ( 1 ) \"*\"          \"*\"          \"*\"          \" \"          \" \"         \n",
       "7  ( 1 ) \"*\"          \"*\"          \"*\"          \" \"          \" \"         \n",
       "8  ( 1 ) \"*\"          \"*\"          \"*\"          \" \"          \" \"         \n",
       "         poly(X, 10)6 poly(X, 10)7 poly(X, 10)8 poly(X, 10)9 poly(X, 10)10\n",
       "1  ( 1 ) \" \"          \" \"          \" \"          \" \"          \" \"          \n",
       "2  ( 1 ) \" \"          \" \"          \" \"          \" \"          \" \"          \n",
       "3  ( 1 ) \" \"          \" \"          \" \"          \" \"          \" \"          \n",
       "4  ( 1 ) \"*\"          \" \"          \" \"          \" \"          \" \"          \n",
       "5  ( 1 ) \"*\"          \" \"          \"*\"          \" \"          \" \"          \n",
       "6  ( 1 ) \"*\"          \" \"          \"*\"          \" \"          \"*\"          \n",
       "7  ( 1 ) \"*\"          \" \"          \"*\"          \"*\"          \"*\"          \n",
       "8  ( 1 ) \"*\"          \"*\"          \"*\"          \"*\"          \"*\"          "
      ]
     },
     "metadata": {},
     "output_type": "display_data"
    }
   ],
   "source": [
    "reg.fit=regsubsets(Y~poly(X,10), data=df, method=\"forward\")\n",
    "reg.sum=summary(reg.fit)\n",
    "reg.sum"
   ]
  },
  {
   "cell_type": "code",
   "execution_count": 36,
   "metadata": {},
   "outputs": [
    {
     "data": {
      "image/png": "[encoded data removed]",
      "text/plain": [
       "plot without title"
      ]
     },
     "metadata": {},
     "output_type": "display_data"
    }
   ],
   "source": [
    "regsubplot(reg.sum)"
   ]
  },
  {
   "cell_type": "code",
   "execution_count": 37,
   "metadata": {},
   "outputs": [
    {
     "name": "stdout",
     "output_type": "stream",
     "text": [
      "[1] \"Adjusted R2\"\n",
      "[1] 6\n",
      "[1] 0.9933719\n",
      "[1] \"C_p\"\n",
      "[1] 6\n",
      "[1] 4.397938\n",
      "[1] \"BIC\"\n",
      "[1] 3\n",
      "[1] -478.2494\n"
     ]
    }
   ],
   "source": [
    "regsubresult(reg.sum)"
   ]
  },
  {
   "cell_type": "code",
   "execution_count": 38,
   "metadata": {},
   "outputs": [
    {
     "data": {
      "text/plain": [
       "Subset selection object\n",
       "Call: regsubsets.formula(Y ~ poly(X, 10), data = df, method = \"backward\")\n",
       "10 Variables  (and intercept)\n",
       "              Forced in Forced out\n",
       "poly(X, 10)1      FALSE      FALSE\n",
       "poly(X, 10)2      FALSE      FALSE\n",
       "poly(X, 10)3      FALSE      FALSE\n",
       "poly(X, 10)4      FALSE      FALSE\n",
       "poly(X, 10)5      FALSE      FALSE\n",
       "poly(X, 10)6      FALSE      FALSE\n",
       "poly(X, 10)7      FALSE      FALSE\n",
       "poly(X, 10)8      FALSE      FALSE\n",
       "poly(X, 10)9      FALSE      FALSE\n",
       "poly(X, 10)10     FALSE      FALSE\n",
       "1 subsets of each size up to 8\n",
       "Selection Algorithm: backward\n",
       "         poly(X, 10)1 poly(X, 10)2 poly(X, 10)3 poly(X, 10)4 poly(X, 10)5\n",
       "1  ( 1 ) \"*\"          \" \"          \" \"          \" \"          \" \"         \n",
       "2  ( 1 ) \"*\"          \"*\"          \" \"          \" \"          \" \"         \n",
       "3  ( 1 ) \"*\"          \"*\"          \"*\"          \" \"          \" \"         \n",
       "4  ( 1 ) \"*\"          \"*\"          \"*\"          \" \"          \" \"         \n",
       "5  ( 1 ) \"*\"          \"*\"          \"*\"          \" \"          \" \"         \n",
       "6  ( 1 ) \"*\"          \"*\"          \"*\"          \" \"          \" \"         \n",
       "7  ( 1 ) \"*\"          \"*\"          \"*\"          \" \"          \" \"         \n",
       "8  ( 1 ) \"*\"          \"*\"          \"*\"          \" \"          \" \"         \n",
       "         poly(X, 10)6 poly(X, 10)7 poly(X, 10)8 poly(X, 10)9 poly(X, 10)10\n",
       "1  ( 1 ) \" \"          \" \"          \" \"          \" \"          \" \"          \n",
       "2  ( 1 ) \" \"          \" \"          \" \"          \" \"          \" \"          \n",
       "3  ( 1 ) \" \"          \" \"          \" \"          \" \"          \" \"          \n",
       "4  ( 1 ) \"*\"          \" \"          \" \"          \" \"          \" \"          \n",
       "5  ( 1 ) \"*\"          \" \"          \"*\"          \" \"          \" \"          \n",
       "6  ( 1 ) \"*\"          \" \"          \"*\"          \" \"          \"*\"          \n",
       "7  ( 1 ) \"*\"          \" \"          \"*\"          \"*\"          \"*\"          \n",
       "8  ( 1 ) \"*\"          \"*\"          \"*\"          \"*\"          \"*\"          "
      ]
     },
     "metadata": {},
     "output_type": "display_data"
    }
   ],
   "source": [
    "reg.fit=regsubsets(Y~poly(X,10), data=df, method=\"backward\")\n",
    "reg.sum=summary(reg.fit)\n",
    "reg.sum"
   ]
  },
  {
   "cell_type": "code",
   "execution_count": 39,
   "metadata": {},
   "outputs": [
    {
     "data": {
      "image/png": "[encoded data removed]",
      "text/plain": [
       "plot without title"
      ]
     },
     "metadata": {},
     "output_type": "display_data"
    }
   ],
   "source": [
    "regsubplot(reg.sum)"
   ]
  },
  {
   "cell_type": "code",
   "execution_count": 40,
   "metadata": {},
   "outputs": [
    {
     "name": "stdout",
     "output_type": "stream",
     "text": [
      "[1] \"Adjusted R2\"\n",
      "[1] 6\n",
      "[1] 0.9933719\n",
      "[1] \"C_p\"\n",
      "[1] 6\n",
      "[1] 4.397938\n",
      "[1] \"BIC\"\n",
      "[1] 3\n",
      "[1] -478.2494\n"
     ]
    }
   ],
   "source": [
    "regsubresult(reg.sum)"
   ]
  },
  {
   "cell_type": "markdown",
   "metadata": {},
   "source": [
    "In all cases the result is the same. BIC has best minimum value for model 3 (y~x+x^2+x^3), cp for model 4(y~x+x^2+x^3+x^6), and R2 has max for model 5 (y~x+x^2+x^3+x^5+x^6). All these models have close R2, BIC, Cp."
   ]
  },
  {
   "cell_type": "code",
   "execution_count": 41,
   "metadata": {
    "scrolled": true
   },
   "outputs": [
    {
     "data": {
      "image/png": "[encoded data removed]",
      "text/plain": [
       "plot without title"
      ]
     },
     "metadata": {},
     "output_type": "display_data"
    }
   ],
   "source": [
    "cv.lasso = cv.glmnet(poly(X, 10), Y, alpha=1, lambda=seq(0.001, 0.2, by = 0.005))\n",
    "plot(cv.lasso)"
   ]
  },
  {
   "cell_type": "markdown",
   "metadata": {},
   "source": [
    "The smallest error is for $\\lambda \\approx 2*10^{-3}$"
   ]
  },
  {
   "cell_type": "code",
   "execution_count": 42,
   "metadata": {},
   "outputs": [],
   "source": [
    "Y = 2+0.5*X^7\n",
    "df = data.frame(X,Y)"
   ]
  },
  {
   "cell_type": "code",
   "execution_count": 43,
   "metadata": {},
   "outputs": [
    {
     "data": {
      "text/plain": [
       "Subset selection object\n",
       "Call: regsubsets.formula(Y ~ poly(X, 10), data = df)\n",
       "10 Variables  (and intercept)\n",
       "              Forced in Forced out\n",
       "poly(X, 10)1      FALSE      FALSE\n",
       "poly(X, 10)2      FALSE      FALSE\n",
       "poly(X, 10)3      FALSE      FALSE\n",
       "poly(X, 10)4      FALSE      FALSE\n",
       "poly(X, 10)5      FALSE      FALSE\n",
       "poly(X, 10)6      FALSE      FALSE\n",
       "poly(X, 10)7      FALSE      FALSE\n",
       "poly(X, 10)8      FALSE      FALSE\n",
       "poly(X, 10)9      FALSE      FALSE\n",
       "poly(X, 10)10     FALSE      FALSE\n",
       "1 subsets of each size up to 8\n",
       "Selection Algorithm: exhaustive\n",
       "         poly(X, 10)1 poly(X, 10)2 poly(X, 10)3 poly(X, 10)4 poly(X, 10)5\n",
       "1  ( 1 ) \" \"          \" \"          \"*\"          \" \"          \" \"         \n",
       "2  ( 1 ) \"*\"          \" \"          \"*\"          \" \"          \" \"         \n",
       "3  ( 1 ) \"*\"          \"*\"          \"*\"          \" \"          \" \"         \n",
       "4  ( 1 ) \"*\"          \"*\"          \"*\"          \"*\"          \" \"         \n",
       "5  ( 1 ) \"*\"          \"*\"          \"*\"          \"*\"          \"*\"         \n",
       "6  ( 1 ) \"*\"          \"*\"          \"*\"          \"*\"          \"*\"         \n",
       "7  ( 1 ) \"*\"          \"*\"          \"*\"          \"*\"          \"*\"         \n",
       "8  ( 1 ) \"*\"          \"*\"          \"*\"          \"*\"          \"*\"         \n",
       "         poly(X, 10)6 poly(X, 10)7 poly(X, 10)8 poly(X, 10)9 poly(X, 10)10\n",
       "1  ( 1 ) \" \"          \" \"          \" \"          \" \"          \" \"          \n",
       "2  ( 1 ) \" \"          \" \"          \" \"          \" \"          \" \"          \n",
       "3  ( 1 ) \" \"          \" \"          \" \"          \" \"          \" \"          \n",
       "4  ( 1 ) \" \"          \" \"          \" \"          \" \"          \" \"          \n",
       "5  ( 1 ) \" \"          \" \"          \" \"          \" \"          \" \"          \n",
       "6  ( 1 ) \"*\"          \" \"          \" \"          \" \"          \" \"          \n",
       "7  ( 1 ) \"*\"          \"*\"          \" \"          \" \"          \" \"          \n",
       "8  ( 1 ) \"*\"          \"*\"          \"*\"          \" \"          \" \"          "
      ]
     },
     "metadata": {},
     "output_type": "display_data"
    }
   ],
   "source": [
    "reg.fit=regsubsets(Y~poly(X,10), data=df)\n",
    "reg.sum=summary(reg.fit)\n",
    "reg.sum"
   ]
  },
  {
   "cell_type": "code",
   "execution_count": 44,
   "metadata": {},
   "outputs": [
    {
     "data": {
      "image/png": "[encoded data removed]",
      "text/plain": [
       "plot without title"
      ]
     },
     "metadata": {},
     "output_type": "display_data"
    }
   ],
   "source": [
    "regsubplot(reg.sum)"
   ]
  },
  {
   "cell_type": "code",
   "execution_count": 45,
   "metadata": {},
   "outputs": [
    {
     "name": "stdout",
     "output_type": "stream",
     "text": [
      "[1] \"Adjusted R2\"\n",
      "[1] 7\n",
      "[1] 1\n",
      "[1] \"C_p\"\n",
      "[1] 8\n",
      "[1] 8.583656\n",
      "[1] \"BIC\"\n",
      "[1] 8\n",
      "[1] -7019.276\n"
     ]
    }
   ],
   "source": [
    "regsubresult(reg.sum)"
   ]
  },
  {
   "cell_type": "code",
   "execution_count": 46,
   "metadata": {},
   "outputs": [
    {
     "data": {
      "image/png": "[encoded data removed]",
      "text/plain": [
       "plot without title"
      ]
     },
     "metadata": {},
     "output_type": "display_data"
    }
   ],
   "source": [
    "cv.lasso = cv.glmnet(poly(X, 10), Y, alpha=1, lambda=seq(0.001, 0.2, by = 0.005))\n",
    "plot(cv.lasso)"
   ]
  },
  {
   "cell_type": "markdown",
   "metadata": {},
   "source": [
    "## Problem 9"
   ]
  },
  {
   "cell_type": "markdown",
   "metadata": {},
   "source": [
    "See python notebook"
   ]
  },
  {
   "cell_type": "markdown",
   "metadata": {},
   "source": [
    "## Problem 10"
   ]
  },
  {
   "cell_type": "code",
   "execution_count": 47,
   "metadata": {},
   "outputs": [],
   "source": [
    "set.seed(1)\n",
    "x = matrix(rnorm(1000 * 20), 1000, 20)\n",
    "b = rnorm(20)\n",
    "b[5] = 0\n",
    "b[10] = 0\n",
    "b[12] = 0\n",
    "b[19] = 0\n",
    "b[20] = 0\n",
    "eps = rnorm(1000)\n",
    "y = x %*% b + eps"
   ]
  },
  {
   "cell_type": "code",
   "execution_count": 48,
   "metadata": {},
   "outputs": [],
   "source": [
    "set.seed(3)\n",
    "train=sample(seq(1000), 100, replace = FALSE)\n",
    "df = data.frame(x,y)\n",
    "df_train = df[train,]\n",
    "df_test = df[-train,]"
   ]
  },
  {
   "cell_type": "code",
   "execution_count": 49,
   "metadata": {
    "scrolled": true
   },
   "outputs": [
    {
     "data": {
      "text/plain": [
       "Subset selection object\n",
       "Call: regsubsets.formula(y ~ ., data = df[train, ], nvmax = 20)\n",
       "20 Variables  (and intercept)\n",
       "    Forced in Forced out\n",
       "X1      FALSE      FALSE\n",
       "X2      FALSE      FALSE\n",
       "X3      FALSE      FALSE\n",
       "X4      FALSE      FALSE\n",
       "X5      FALSE      FALSE\n",
       "X6      FALSE      FALSE\n",
       "X7      FALSE      FALSE\n",
       "X8      FALSE      FALSE\n",
       "X9      FALSE      FALSE\n",
       "X10     FALSE      FALSE\n",
       "X11     FALSE      FALSE\n",
       "X12     FALSE      FALSE\n",
       "X13     FALSE      FALSE\n",
       "X14     FALSE      FALSE\n",
       "X15     FALSE      FALSE\n",
       "X16     FALSE      FALSE\n",
       "X17     FALSE      FALSE\n",
       "X18     FALSE      FALSE\n",
       "X19     FALSE      FALSE\n",
       "X20     FALSE      FALSE\n",
       "1 subsets of each size up to 20\n",
       "Selection Algorithm: exhaustive\n",
       "          X1  X2  X3  X4  X5  X6  X7  X8  X9  X10 X11 X12 X13 X14 X15 X16 X17\n",
       "1  ( 1 )  \" \" \" \" \" \" \" \" \" \" \" \" \" \" \" \" \"*\" \" \" \" \" \" \" \" \" \" \" \" \" \" \" \" \"\n",
       "2  ( 1 )  \" \" \" \" \" \" \"*\" \" \" \" \" \" \" \" \" \"*\" \" \" \" \" \" \" \" \" \" \" \" \" \" \" \" \"\n",
       "3  ( 1 )  \" \" \" \" \" \" \"*\" \" \" \" \" \"*\" \" \" \"*\" \" \" \" \" \" \" \" \" \" \" \" \" \" \" \" \"\n",
       "4  ( 1 )  \" \" \" \" \" \" \"*\" \" \" \" \" \"*\" \" \" \"*\" \" \" \" \" \" \" \" \" \" \" \" \" \" \" \" \"\n",
       "5  ( 1 )  \" \" \" \" \" \" \"*\" \" \" \" \" \"*\" \"*\" \"*\" \" \" \" \" \" \" \" \" \" \" \" \" \" \" \" \"\n",
       "6  ( 1 )  \" \" \" \" \" \" \"*\" \" \" \" \" \"*\" \"*\" \"*\" \" \" \"*\" \" \" \" \" \" \" \" \" \" \" \" \"\n",
       "7  ( 1 )  \" \" \" \" \" \" \"*\" \" \" \" \" \"*\" \"*\" \"*\" \" \" \"*\" \" \" \" \" \"*\" \" \" \" \" \" \"\n",
       "8  ( 1 )  \" \" \" \" \" \" \"*\" \" \" \" \" \"*\" \"*\" \"*\" \" \" \"*\" \" \" \" \" \"*\" \"*\" \" \" \" \"\n",
       "9  ( 1 )  \" \" \" \" \"*\" \"*\" \" \" \" \" \"*\" \"*\" \"*\" \" \" \"*\" \" \" \" \" \"*\" \"*\" \" \" \" \"\n",
       "10  ( 1 ) \" \" \" \" \"*\" \"*\" \" \" \"*\" \"*\" \"*\" \"*\" \" \" \"*\" \" \" \" \" \"*\" \"*\" \" \" \" \"\n",
       "11  ( 1 ) \" \" \"*\" \"*\" \"*\" \" \" \"*\" \"*\" \"*\" \"*\" \" \" \"*\" \" \" \" \" \"*\" \"*\" \" \" \" \"\n",
       "12  ( 1 ) \" \" \"*\" \"*\" \"*\" \" \" \"*\" \"*\" \"*\" \"*\" \" \" \"*\" \" \" \" \" \"*\" \"*\" \" \" \"*\"\n",
       "13  ( 1 ) \" \" \"*\" \"*\" \"*\" \" \" \"*\" \"*\" \"*\" \"*\" \" \" \"*\" \" \" \"*\" \"*\" \"*\" \" \" \"*\"\n",
       "14  ( 1 ) \" \" \"*\" \"*\" \"*\" \" \" \"*\" \"*\" \"*\" \"*\" \" \" \"*\" \"*\" \"*\" \"*\" \"*\" \" \" \"*\"\n",
       "15  ( 1 ) \" \" \"*\" \"*\" \"*\" \" \" \"*\" \"*\" \"*\" \"*\" \" \" \"*\" \"*\" \"*\" \"*\" \"*\" \" \" \"*\"\n",
       "16  ( 1 ) \"*\" \"*\" \"*\" \"*\" \" \" \"*\" \"*\" \"*\" \"*\" \" \" \"*\" \"*\" \"*\" \"*\" \"*\" \" \" \"*\"\n",
       "17  ( 1 ) \"*\" \"*\" \"*\" \"*\" \" \" \"*\" \"*\" \"*\" \"*\" \" \" \"*\" \"*\" \"*\" \"*\" \"*\" \"*\" \"*\"\n",
       "18  ( 1 ) \"*\" \"*\" \"*\" \"*\" \"*\" \"*\" \"*\" \"*\" \"*\" \"*\" \"*\" \"*\" \"*\" \"*\" \"*\" \" \" \"*\"\n",
       "19  ( 1 ) \"*\" \"*\" \"*\" \"*\" \"*\" \"*\" \"*\" \"*\" \"*\" \"*\" \"*\" \"*\" \"*\" \"*\" \"*\" \"*\" \"*\"\n",
       "20  ( 1 ) \"*\" \"*\" \"*\" \"*\" \"*\" \"*\" \"*\" \"*\" \"*\" \"*\" \"*\" \"*\" \"*\" \"*\" \"*\" \"*\" \"*\"\n",
       "          X18 X19 X20\n",
       "1  ( 1 )  \" \" \" \" \" \"\n",
       "2  ( 1 )  \" \" \" \" \" \"\n",
       "3  ( 1 )  \" \" \" \" \" \"\n",
       "4  ( 1 )  \"*\" \" \" \" \"\n",
       "5  ( 1 )  \"*\" \" \" \" \"\n",
       "6  ( 1 )  \"*\" \" \" \" \"\n",
       "7  ( 1 )  \"*\" \" \" \" \"\n",
       "8  ( 1 )  \"*\" \" \" \" \"\n",
       "9  ( 1 )  \"*\" \" \" \" \"\n",
       "10  ( 1 ) \"*\" \" \" \" \"\n",
       "11  ( 1 ) \"*\" \" \" \" \"\n",
       "12  ( 1 ) \"*\" \" \" \" \"\n",
       "13  ( 1 ) \"*\" \" \" \" \"\n",
       "14  ( 1 ) \"*\" \" \" \" \"\n",
       "15  ( 1 ) \"*\" \" \" \"*\"\n",
       "16  ( 1 ) \"*\" \" \" \"*\"\n",
       "17  ( 1 ) \"*\" \" \" \"*\"\n",
       "18  ( 1 ) \"*\" \" \" \"*\"\n",
       "19  ( 1 ) \"*\" \" \" \"*\"\n",
       "20  ( 1 ) \"*\" \"*\" \"*\""
      ]
     },
     "metadata": {},
     "output_type": "display_data"
    }
   ],
   "source": [
    "reg.fit=regsubsets(y~., data=df[train,], nvmax = 20)\n",
    "reg.sum=summary(reg.fit)\n",
    "reg.sum"
   ]
  },
  {
   "cell_type": "code",
   "execution_count": 50,
   "metadata": {},
   "outputs": [
    {
     "data": {
      "image/png": "[encoded data removed]",
      "text/plain": [
       "plot without title"
      ]
     },
     "metadata": {},
     "output_type": "display_data"
    }
   ],
   "source": [
    "val.mse = modelsMSE(reg.fit, y~., df_train, df_train$y, 20)\n",
    "plot(val.mse, xlab = \"Number of predictors\", ylab = \"Training MSE\", pch = 19, type = \"b\")"
   ]
  },
  {
   "cell_type": "code",
   "execution_count": 51,
   "metadata": {},
   "outputs": [
    {
     "data": {
      "image/png": "[encoded data removed]",
      "text/plain": [
       "plot without title"
      ]
     },
     "metadata": {},
     "output_type": "display_data"
    }
   ],
   "source": [
    "val.mse = modelsMSE(reg.fit,  y~., df_test, df_test$y, 20)\n",
    "plot(val.mse, xlab = \"Number of predictors\", ylab = \"Test MSE\", pch = 19, type = \"b\")"
   ]
  },
  {
   "cell_type": "markdown",
   "metadata": {},
   "source": [
    "For test MSE the best result is for model with 17 predictors. Training MSE goes down as number of predictors increases as expected. "
   ]
  },
  {
   "cell_type": "code",
   "execution_count": 52,
   "metadata": {},
   "outputs": [],
   "source": [
    "set.seed(6)\n",
    "x = matrix(rnorm(1000 * 20), 1000, 20)\n",
    "b = rnorm(20)\n",
    "b[8] = 0\n",
    "b[10] =0\n",
    "b[12] = 0\n",
    "b[15] =0\n",
    "b[18] =0\n",
    "b[19] = 0\n",
    "eps = rnorm(1000)\n",
    "y = x %*% b + eps"
   ]
  },
  {
   "cell_type": "code",
   "execution_count": 53,
   "metadata": {},
   "outputs": [],
   "source": [
    "set.seed(3)\n",
    "train=sample(seq(1000), 100, replace = FALSE)\n",
    "df = data.frame(x,y)\n",
    "df_train = df[train,]\n",
    "df_test = df[-train,]"
   ]
  },
  {
   "cell_type": "code",
   "execution_count": 54,
   "metadata": {},
   "outputs": [],
   "source": [
    "reg.fit=regsubsets(y~., data=df[train,], nvmax = 20)"
   ]
  },
  {
   "cell_type": "code",
   "execution_count": 55,
   "metadata": {},
   "outputs": [
    {
     "data": {
      "image/png": "[encoded data removed]",
      "text/plain": [
       "plot without title"
      ]
     },
     "metadata": {},
     "output_type": "display_data"
    }
   ],
   "source": [
    "val.mse = modelsMSE(reg.fit, y~., df_test, df_test$y, 20)\n",
    "plot(val.mse, xlab = \"Number of predictors\", ylab = \"Test MSE\", pch = 19, type = \"b\")"
   ]
  },
  {
   "cell_type": "markdown",
   "metadata": {},
   "source": [
    "The best model has 15 predictors"
   ]
  },
  {
   "cell_type": "code",
   "execution_count": 56,
   "metadata": {},
   "outputs": [
    {
     "name": "stderr",
     "output_type": "stream",
     "text": [
      "Warning message in b[x_cols %in% names(coef)] - coef[names(coef) %in% x_cols]:\n",
      "\"longer object length is not a multiple of shorter object length\"Warning message in b[x_cols %in% names(coef)] - coef[names(coef) %in% x_cols]:\n",
      "\"longer object length is not a multiple of shorter object length\"Warning message in b[x_cols %in% names(coef)] - coef[names(coef) %in% x_cols]:\n",
      "\"longer object length is not a multiple of shorter object length\"Warning message in b[x_cols %in% names(coef)] - coef[names(coef) %in% x_cols]:\n",
      "\"longer object length is not a multiple of shorter object length\"Warning message in b[x_cols %in% names(coef)] - coef[names(coef) %in% x_cols]:\n",
      "\"longer object length is not a multiple of shorter object length\"Warning message in b[x_cols %in% names(coef)] - coef[names(coef) %in% x_cols]:\n",
      "\"longer object length is not a multiple of shorter object length\"Warning message in b[x_cols %in% names(coef)] - coef[names(coef) %in% x_cols]:\n",
      "\"longer object length is not a multiple of shorter object length\"Warning message in b[x_cols %in% names(coef)] - coef[names(coef) %in% x_cols]:\n",
      "\"longer object length is not a multiple of shorter object length\"Warning message in b[x_cols %in% names(coef)] - coef[names(coef) %in% x_cols]:\n",
      "\"longer object length is not a multiple of shorter object length\"Warning message in b[x_cols %in% names(coef)] - coef[names(coef) %in% x_cols]:\n",
      "\"longer object length is not a multiple of shorter object length\"Warning message in b[x_cols %in% names(coef)] - coef[names(coef) %in% x_cols]:\n",
      "\"longer object length is not a multiple of shorter object length\"Warning message in b[x_cols %in% names(coef)] - coef[names(coef) %in% x_cols]:\n",
      "\"longer object length is not a multiple of shorter object length\"Warning message in b[x_cols %in% names(coef)] - coef[names(coef) %in% x_cols]:\n",
      "\"longer object length is not a multiple of shorter object length\""
     ]
    },
    {
     "name": "stdout",
     "output_type": "stream",
     "text": [
      " [1] 3.5772132 1.7253212 0.3471389 1.3010892 0.4240169 1.4583084 0.6598482\n",
      " [8] 1.5548729 1.3040795 1.3178639 1.3286716 1.4597126 1.3562068 1.3805037\n",
      "[15] 1.3535657 1.3501153 1.3527312 1.3559252 1.3562862 1.3530211\n"
     ]
    }
   ],
   "source": [
    "n=20\n",
    "df.mat = model.matrix(y ~ ., data = df, nvmax = n) \n",
    "coef.errors = rep(NA, n)\n",
    "x_cols=names(df)[1:n-1]\n",
    "for (i in 1:n) {\n",
    "        coef = coef(reg.fit, id = i)\n",
    "        coef.errors[i] <- sqrt(sum((b[x_cols %in% names(coef)] - coef[names(coef) %in% x_cols])^2) + sum(b[!(x_cols %in% names(coef))])^2)\n",
    "    }\n",
    "print(coef.errors)"
   ]
  },
  {
   "cell_type": "code",
   "execution_count": 57,
   "metadata": {},
   "outputs": [
    {
     "data": {
      "image/png": "[encoded data removed]",
      "text/plain": [
       "plot without title"
      ]
     },
     "metadata": {},
     "output_type": "display_data"
    }
   ],
   "source": [
    "plot(coef.errors, xlab = \"Number of predictors\", ylab = \"Error coef\", pch = 19, type = \"b\")"
   ]
  },
  {
   "cell_type": "markdown",
   "metadata": {},
   "source": [
    "## Problem 11"
   ]
  },
  {
   "cell_type": "code",
   "execution_count": 58,
   "metadata": {},
   "outputs": [
    {
     "data": {
      "text/html": [
       "<table>\n",
       "<thead><tr><th scope=col>crim</th><th scope=col>zn</th><th scope=col>indus</th><th scope=col>chas</th><th scope=col>nox</th><th scope=col>rm</th><th scope=col>age</th><th scope=col>dis</th><th scope=col>rad</th><th scope=col>tax</th><th scope=col>ptratio</th><th scope=col>black</th><th scope=col>lstat</th><th scope=col>medv</th></tr></thead>\n",
       "<tbody>\n",
       "\t<tr><td>0.00632</td><td>18     </td><td>2.31   </td><td>0      </td><td>0.538  </td><td>6.575  </td><td>65.2   </td><td>4.0900 </td><td>1      </td><td>296    </td><td>15.3   </td><td>396.90 </td><td>4.98   </td><td>24.0   </td></tr>\n",
       "\t<tr><td>0.02731</td><td> 0     </td><td>7.07   </td><td>0      </td><td>0.469  </td><td>6.421  </td><td>78.9   </td><td>4.9671 </td><td>2      </td><td>242    </td><td>17.8   </td><td>396.90 </td><td>9.14   </td><td>21.6   </td></tr>\n",
       "\t<tr><td>0.02729</td><td> 0     </td><td>7.07   </td><td>0      </td><td>0.469  </td><td>7.185  </td><td>61.1   </td><td>4.9671 </td><td>2      </td><td>242    </td><td>17.8   </td><td>392.83 </td><td>4.03   </td><td>34.7   </td></tr>\n",
       "\t<tr><td>0.03237</td><td> 0     </td><td>2.18   </td><td>0      </td><td>0.458  </td><td>6.998  </td><td>45.8   </td><td>6.0622 </td><td>3      </td><td>222    </td><td>18.7   </td><td>394.63 </td><td>2.94   </td><td>33.4   </td></tr>\n",
       "\t<tr><td>0.06905</td><td> 0     </td><td>2.18   </td><td>0      </td><td>0.458  </td><td>7.147  </td><td>54.2   </td><td>6.0622 </td><td>3      </td><td>222    </td><td>18.7   </td><td>396.90 </td><td>5.33   </td><td>36.2   </td></tr>\n",
       "\t<tr><td>0.02985</td><td> 0     </td><td>2.18   </td><td>0      </td><td>0.458  </td><td>6.430  </td><td>58.7   </td><td>6.0622 </td><td>3      </td><td>222    </td><td>18.7   </td><td>394.12 </td><td>5.21   </td><td>28.7   </td></tr>\n",
       "</tbody>\n",
       "</table>\n"
      ],
      "text/latex": [
       "\\begin{tabular}{r|llllllllllllll}\n",
       " crim & zn & indus & chas & nox & rm & age & dis & rad & tax & ptratio & black & lstat & medv\\\\\n",
       "\\hline\n",
       "\t 0.00632 & 18      & 2.31    & 0       & 0.538   & 6.575   & 65.2    & 4.0900  & 1       & 296     & 15.3    & 396.90  & 4.98    & 24.0   \\\\\n",
       "\t 0.02731 &  0      & 7.07    & 0       & 0.469   & 6.421   & 78.9    & 4.9671  & 2       & 242     & 17.8    & 396.90  & 9.14    & 21.6   \\\\\n",
       "\t 0.02729 &  0      & 7.07    & 0       & 0.469   & 7.185   & 61.1    & 4.9671  & 2       & 242     & 17.8    & 392.83  & 4.03    & 34.7   \\\\\n",
       "\t 0.03237 &  0      & 2.18    & 0       & 0.458   & 6.998   & 45.8    & 6.0622  & 3       & 222     & 18.7    & 394.63  & 2.94    & 33.4   \\\\\n",
       "\t 0.06905 &  0      & 2.18    & 0       & 0.458   & 7.147   & 54.2    & 6.0622  & 3       & 222     & 18.7    & 396.90  & 5.33    & 36.2   \\\\\n",
       "\t 0.02985 &  0      & 2.18    & 0       & 0.458   & 6.430   & 58.7    & 6.0622  & 3       & 222     & 18.7    & 394.12  & 5.21    & 28.7   \\\\\n",
       "\\end{tabular}\n"
      ],
      "text/markdown": [
       "\n",
       "| crim | zn | indus | chas | nox | rm | age | dis | rad | tax | ptratio | black | lstat | medv |\n",
       "|---|---|---|---|---|---|---|---|---|---|---|---|---|---|\n",
       "| 0.00632 | 18      | 2.31    | 0       | 0.538   | 6.575   | 65.2    | 4.0900  | 1       | 296     | 15.3    | 396.90  | 4.98    | 24.0    |\n",
       "| 0.02731 |  0      | 7.07    | 0       | 0.469   | 6.421   | 78.9    | 4.9671  | 2       | 242     | 17.8    | 396.90  | 9.14    | 21.6    |\n",
       "| 0.02729 |  0      | 7.07    | 0       | 0.469   | 7.185   | 61.1    | 4.9671  | 2       | 242     | 17.8    | 392.83  | 4.03    | 34.7    |\n",
       "| 0.03237 |  0      | 2.18    | 0       | 0.458   | 6.998   | 45.8    | 6.0622  | 3       | 222     | 18.7    | 394.63  | 2.94    | 33.4    |\n",
       "| 0.06905 |  0      | 2.18    | 0       | 0.458   | 7.147   | 54.2    | 6.0622  | 3       | 222     | 18.7    | 396.90  | 5.33    | 36.2    |\n",
       "| 0.02985 |  0      | 2.18    | 0       | 0.458   | 6.430   | 58.7    | 6.0622  | 3       | 222     | 18.7    | 394.12  | 5.21    | 28.7    |\n",
       "\n"
      ],
      "text/plain": [
       "  crim    zn indus chas nox   rm    age  dis    rad tax ptratio black  lstat\n",
       "1 0.00632 18 2.31  0    0.538 6.575 65.2 4.0900 1   296 15.3    396.90 4.98 \n",
       "2 0.02731  0 7.07  0    0.469 6.421 78.9 4.9671 2   242 17.8    396.90 9.14 \n",
       "3 0.02729  0 7.07  0    0.469 7.185 61.1 4.9671 2   242 17.8    392.83 4.03 \n",
       "4 0.03237  0 2.18  0    0.458 6.998 45.8 6.0622 3   222 18.7    394.63 2.94 \n",
       "5 0.06905  0 2.18  0    0.458 7.147 54.2 6.0622 3   222 18.7    396.90 5.33 \n",
       "6 0.02985  0 2.18  0    0.458 6.430 58.7 6.0622 3   222 18.7    394.12 5.21 \n",
       "  medv\n",
       "1 24.0\n",
       "2 21.6\n",
       "3 34.7\n",
       "4 33.4\n",
       "5 36.2\n",
       "6 28.7"
      ]
     },
     "metadata": {},
     "output_type": "display_data"
    }
   ],
   "source": [
    "head(Boston)"
   ]
  },
  {
   "cell_type": "code",
   "execution_count": 59,
   "metadata": {},
   "outputs": [
    {
     "data": {
      "text/html": [
       "<ol class=list-inline>\n",
       "\t<li>506</li>\n",
       "\t<li>14</li>\n",
       "</ol>\n"
      ],
      "text/latex": [
       "\\begin{enumerate*}\n",
       "\\item 506\n",
       "\\item 14\n",
       "\\end{enumerate*}\n"
      ],
      "text/markdown": [
       "1. 506\n",
       "2. 14\n",
       "\n",
       "\n"
      ],
      "text/plain": [
       "[1] 506  14"
      ]
     },
     "metadata": {},
     "output_type": "display_data"
    }
   ],
   "source": [
    "dim(Boston)"
   ]
  },
  {
   "cell_type": "code",
   "execution_count": 60,
   "metadata": {},
   "outputs": [],
   "source": [
    "set.seed(1)\n",
    "test=sample(seq(dim(Boston)[1]), 50, replace = FALSE)\n",
    "df_train = Boston[-test,]\n",
    "df_test = Boston[test,]"
   ]
  },
  {
   "cell_type": "code",
   "execution_count": 61,
   "metadata": {},
   "outputs": [
    {
     "name": "stdout",
     "output_type": "stream",
     "text": [
      "Subset selection object\n",
      "Call: regsubsets.formula(crim ~ ., data = Boston[train, ], nvmax = 13)\n",
      "13 Variables  (and intercept)\n",
      "        Forced in Forced out\n",
      "zn          FALSE      FALSE\n",
      "indus       FALSE      FALSE\n",
      "chas        FALSE      FALSE\n",
      "nox         FALSE      FALSE\n",
      "rm          FALSE      FALSE\n",
      "age         FALSE      FALSE\n",
      "dis         FALSE      FALSE\n",
      "rad         FALSE      FALSE\n",
      "tax         FALSE      FALSE\n",
      "ptratio     FALSE      FALSE\n",
      "black       FALSE      FALSE\n",
      "lstat       FALSE      FALSE\n",
      "medv        FALSE      FALSE\n",
      "1 subsets of each size up to 13\n",
      "Selection Algorithm: exhaustive\n",
      "          zn  indus chas nox rm  age dis rad tax ptratio black lstat medv\n",
      "1  ( 1 )  \" \" \" \"   \" \"  \" \" \" \" \" \" \" \" \"*\" \" \" \" \"     \" \"   \" \"   \" \" \n",
      "2  ( 1 )  \" \" \" \"   \" \"  \" \" \" \" \" \" \" \" \"*\" \" \" \" \"     \" \"   \"*\"   \" \" \n",
      "3  ( 1 )  \" \" \" \"   \" \"  \" \" \" \" \" \" \" \" \"*\" \" \" \"*\"     \" \"   \"*\"   \" \" \n",
      "4  ( 1 )  \" \" \" \"   \" \"  \" \" \"*\" \" \" \" \" \"*\" \" \" \" \"     \" \"   \"*\"   \"*\" \n",
      "5  ( 1 )  \" \" \" \"   \" \"  \" \" \"*\" \" \" \" \" \"*\" \" \" \"*\"     \" \"   \"*\"   \"*\" \n",
      "6  ( 1 )  \" \" \"*\"   \" \"  \" \" \"*\" \" \" \" \" \"*\" \" \" \"*\"     \" \"   \"*\"   \"*\" \n",
      "7  ( 1 )  \"*\" \"*\"   \" \"  \" \" \"*\" \" \" \" \" \"*\" \" \" \"*\"     \" \"   \"*\"   \"*\" \n",
      "8  ( 1 )  \"*\" \"*\"   \" \"  \" \" \"*\" \" \" \" \" \"*\" \" \" \"*\"     \"*\"   \"*\"   \"*\" \n",
      "9  ( 1 )  \"*\" \"*\"   \" \"  \" \" \"*\" \" \" \" \" \"*\" \"*\" \"*\"     \"*\"   \"*\"   \"*\" \n",
      "10  ( 1 ) \"*\" \"*\"   \" \"  \" \" \"*\" \" \" \"*\" \"*\" \"*\" \"*\"     \"*\"   \"*\"   \"*\" \n",
      "11  ( 1 ) \"*\" \"*\"   \" \"  \" \" \"*\" \"*\" \"*\" \"*\" \"*\" \"*\"     \"*\"   \"*\"   \"*\" \n",
      "12  ( 1 ) \"*\" \"*\"   \" \"  \"*\" \"*\" \"*\" \"*\" \"*\" \"*\" \"*\"     \"*\"   \"*\"   \"*\" \n",
      "13  ( 1 ) \"*\" \"*\"   \"*\"  \"*\" \"*\" \"*\" \"*\" \"*\" \"*\" \"*\"     \"*\"   \"*\"   \"*\" \n"
     ]
    }
   ],
   "source": [
    "reg.fit=regsubsets(crim~., data=Boston[train,], nvmax = 13)\n",
    "reg.sum=summary(reg.fit)\n",
    "print(reg.sum)"
   ]
  },
  {
   "cell_type": "code",
   "execution_count": 62,
   "metadata": {},
   "outputs": [
    {
     "name": "stdout",
     "output_type": "stream",
     "text": [
      " [1] 41.80294 40.92229 40.83506 42.25038 41.97759 42.14393 42.09439 41.59374\n",
      " [9] 41.55023 41.37313 41.27319 41.25401 41.24162\n"
     ]
    },
    {
     "data": {
      "image/png": "[encoded data removed]",
      "text/plain": [
       "plot without title"
      ]
     },
     "metadata": {},
     "output_type": "display_data"
    }
   ],
   "source": [
    "val.mse = modelsMSE(reg.fit, crim~., df_train, df_train$crim, 13)\n",
    "print(val.mse)\n",
    "plot(val.mse,  xlab = \"Number of predictors\", ylab = \"Test MSE\", pch = 10, type = \"b\")"
   ]
  },
  {
   "cell_type": "markdown",
   "metadata": {},
   "source": [
    "The lowest test MSE is for the model with 3 predictors."
   ]
  },
  {
   "cell_type": "code",
   "execution_count": 63,
   "metadata": {},
   "outputs": [
    {
     "data": {
      "text/html": [
       "0.589904667223737"
      ],
      "text/latex": [
       "0.589904667223737"
      ],
      "text/markdown": [
       "0.589904667223737"
      ],
      "text/plain": [
       "[1] 0.5899047"
      ]
     },
     "metadata": {},
     "output_type": "display_data"
    },
    {
     "data": {
      "image/png": "[encoded data removed]",
      "text/plain": [
       "plot without title"
      ]
     },
     "metadata": {},
     "output_type": "display_data"
    }
   ],
   "source": [
    "X = model.matrix(crim ~ ., Boston)[,-1]\n",
    "ridge.mod = glmnet(X, Boston$crim, alpha=0,  lambda=seq(0.01, 1, by = 0.05))\n",
    "cv.ridge = cv.glmnet(X, Boston$crim, alpha=0)\n",
    "plot(cv.ridge)\n",
    "bestlam=cv.ridge$lambda.min\n",
    "bestlam"
   ]
  },
  {
   "cell_type": "code",
   "execution_count": 64,
   "metadata": {},
   "outputs": [
    {
     "data": {
      "text/html": [
       "87.6687075531932"
      ],
      "text/latex": [
       "87.6687075531932"
      ],
      "text/markdown": [
       "87.6687075531932"
      ],
      "text/plain": [
       "[1] 87.66871"
      ]
     },
     "metadata": {},
     "output_type": "display_data"
    }
   ],
   "source": [
    "ridge.pred=predict(ridge.mod, s=bestlam, newx=X[test,])\n",
    "mean((ridge.pred-df_test$crim)^2)"
   ]
  },
  {
   "cell_type": "code",
   "execution_count": 65,
   "metadata": {},
   "outputs": [
    {
     "data": {
      "image/png": "[encoded data removed]",
      "text/plain": [
       "plot without title"
      ]
     },
     "metadata": {},
     "output_type": "display_data"
    }
   ],
   "source": [
    "lasso.mod = glmnet(X, Boston$crim, alpha=1,  lambda=seq(0.01, 1, by = 0.05))\n",
    "cv.lasso = cv.glmnet(X, Boston$crim, alpha=1)\n",
    "plot(cv.lasso)"
   ]
  },
  {
   "cell_type": "code",
   "execution_count": 66,
   "metadata": {},
   "outputs": [
    {
     "data": {
      "text/html": [
       "96.4567256430481"
      ],
      "text/latex": [
       "96.4567256430481"
      ],
      "text/markdown": [
       "96.4567256430481"
      ],
      "text/plain": [
       "[1] 96.45673"
      ]
     },
     "metadata": {},
     "output_type": "display_data"
    }
   ],
   "source": [
    "lasso.pred=predict(lasso.mod, s=bestlam, newx=X[test,])\n",
    "mean((lasso.pred-df_test$crim)^2)"
   ]
  },
  {
   "cell_type": "code",
   "execution_count": 67,
   "metadata": {},
   "outputs": [
    {
     "data": {
      "image/png": "[encoded data removed]",
      "text/plain": [
       "Plot with title \"crim\""
      ]
     },
     "metadata": {},
     "output_type": "display_data"
    }
   ],
   "source": [
    "pcr.fit = pcr(crim~., data=df_train, validation = 'CV')\n",
    "validationplot(pcr.fit, val.type=\"MSEP\")"
   ]
  },
  {
   "cell_type": "code",
   "execution_count": 68,
   "metadata": {},
   "outputs": [
    {
     "data": {
      "text/html": [
       "96.6226860315395"
      ],
      "text/latex": [
       "96.6226860315395"
      ],
      "text/markdown": [
       "96.6226860315395"
      ],
      "text/plain": [
       "[1] 96.62269"
      ]
     },
     "metadata": {},
     "output_type": "display_data"
    }
   ],
   "source": [
    "pcr.pred = predict(pcr.fit, df_test[,-1], ncomp=10)\n",
    "mean((pcr.pred-df_test$crim)^2)"
   ]
  },
  {
   "cell_type": "code",
   "execution_count": 69,
   "metadata": {},
   "outputs": [
    {
     "data": {
      "image/png": "[encoded data removed]",
      "text/plain": [
       "Plot with title \"crim\""
      ]
     },
     "metadata": {},
     "output_type": "display_data"
    }
   ],
   "source": [
    "plsr.fit = plsr(crim~., data=df_train, validation = 'CV')\n",
    "validationplot(plsr.fit, val.type=\"MSEP\")"
   ]
  },
  {
   "cell_type": "code",
   "execution_count": 70,
   "metadata": {},
   "outputs": [
    {
     "data": {
      "text/html": [
       "96.5231618903228"
      ],
      "text/latex": [
       "96.5231618903228"
      ],
      "text/markdown": [
       "96.5231618903228"
      ],
      "text/plain": [
       "[1] 96.52316"
      ]
     },
     "metadata": {},
     "output_type": "display_data"
    }
   ],
   "source": [
    "plsr.pred = predict(plsr.fit, df_test[,-1], ncomp=10)\n",
    "mean((plsr.pred-df_test$crim)^2)"
   ]
  }
 ],
 "metadata": {
  "kernelspec": {
   "display_name": "R",
   "language": "R",
   "name": "ir"
  },
  "language_info": {
   "codemirror_mode": "r",
   "file_extension": ".r",
   "mimetype": "text/x-r-source",
   "name": "R",
   "pygments_lexer": "r",
   "version": "3.6.1"
  }
 },
 "nbformat": 4,
 "nbformat_minor": 4
}
