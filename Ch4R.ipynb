{
 "cells": [
  {
   "cell_type": "markdown",
   "metadata": {},
   "source": [
    "# Chapter 4 "
   ]
  },
  {
   "cell_type": "markdown",
   "metadata": {},
   "source": [
    "## Problem 2"
   ]
  },
  {
   "cell_type": "markdown",
   "metadata": {},
   "source": [
    "It was stated in the text that classifying an observation to the class\n",
    "for which (4.12) is largest is equivalent to classifying an observation\n",
    "to the class for which (4.13) is largest. Prove that this is the case. In\n",
    "other words, under the assumption that the observations in the kth\n",
    "class are drawn from a N(μk, σ2) distribution, the Bayes’ classifier\n",
    "assigns an observation to the class for which the discriminant function\n",
    "is maximized."
   ]
  },
  {
   "cell_type": "markdown",
   "metadata": {},
   "source": [
    "f(x) has maximum at the same point as log(f(x)). We take log from (4.12) and leave terms for kth class which must be maximized.\n",
    "$log(\\pi_k)-(x-\\mu_k)^2/(2\\sigma^2)$ removing terms without k we come to (4.13)"
   ]
  },
  {
   "cell_type": "markdown",
   "metadata": {},
   "source": [
    "## Problem 3"
   ]
  },
  {
   "cell_type": "markdown",
   "metadata": {},
   "source": [
    "This problem relates to the QDA model, in which the observations\n",
    "within each class are drawn from a normal distribution with a classspecific mean vector and a class specific covariance matrix. We consider the simple case where p = 1; i.e. there is only one feature.\n",
    "Suppose that we have K classes, and that if an observation belongs\n",
    "to the kth class then X comes from a one-dimensional normal distribution, X ∼ N(μk, σ2\n",
    "k). Recall that the density function for the\n",
    "one-dimensional normal distribution is given in (4.11). Prove that in\n",
    "this case, the Bayes’ classifier is not linear. Argue that it is in fact\n",
    "quadratic."
   ]
  },
  {
   "cell_type": "markdown",
   "metadata": {},
   "source": [
    "In this case, taking log from 4.12, the classifier with terms for k class is $\\delta_k = log(\\pi_k)-log(\\sigma_k)/2-x^2/(2\\sigma_k)+x\\mu_k/\\sigma_k^2-\\mu_k^2/(2\\sigma_k^2)$"
   ]
  },
  {
   "cell_type": "markdown",
   "metadata": {},
   "source": [
    "## Problem 4"
   ]
  },
  {
   "cell_type": "markdown",
   "metadata": {},
   "source": [
    "(a) Suppose that we have a set of observations, each with measurements on p = 1 feature, X. We assume that X is uniformly\n",
    "(evenly) distributed on [0, 1]. Associated with each observation\n",
    "is a response value. Suppose that we wish to predict a test observation’s response using only observations that are within 10 % of\n",
    "the range of X closest to that test observation. For instance, in\n",
    "order to predict the response for a test observation with X = 0.6,\n",
    "we will use observations in the range [0.55, 0.65]. On average,\n",
    "what fraction of the available observations will we use to make\n",
    "the prediction?\n",
    "\n",
    "0.1"
   ]
  },
  {
   "cell_type": "markdown",
   "metadata": {},
   "source": [
    "(b) Now suppose that we have a set of observations, each with\n",
    "measurements on p = 2 features, X1 and X2. We assume that\n",
    "(X1, X2) are uniformly distributed on [0, 1] × [0, 1]. We wish to\n",
    "predict a test observation’s response using only observations that\n",
    "are within 10 % of the range of X1 and within 10 % of the range\n",
    "of X2 closest to that test observation. For instance, in order to\n",
    "predict the response for a test observation with X1 = 0.6 and\n",
    "X2 = 0.35, we will use observations in the range [0.55, 0.65] for\n",
    "X1 and in the range [0.3, 0.4] for X2. On average, what fraction\n",
    "of the available observations will we use to make the prediction?\n",
    "\n",
    "\n",
    "Volume fraction drops as $0.1^p$, p=2, fraction of observations is 0.01 "
   ]
  },
  {
   "cell_type": "markdown",
   "metadata": {},
   "source": [
    "(c) Now suppose that we have a set of observations on p = 100 features. Again the observations are uniformly distributed on each\n",
    "feature, and again each feature ranges in value from 0 to 1. We\n",
    "wish to predict a test observation’s response using observations\n",
    "within the 10 % of each feature’s range that is closest to that test\n",
    "observation. What fraction of the available observations will we\n",
    "use to make the prediction?\n",
    "\n",
    "Fraction is $0.1^{100}$. "
   ]
  },
  {
   "cell_type": "markdown",
   "metadata": {},
   "source": [
    "(d) Using your answers to parts (a)–(c), argue that a drawback of\n",
    "KNN when p is large is that there are very few training observations “near” any given test observation.\n",
    "\n",
    "Straight forward from a-c. Fraction of particles in the volume is getting smaller as p increases. Or fraction of volume with fixed side decreases as number of dimensions, p, icreases."
   ]
  },
  {
   "cell_type": "markdown",
   "metadata": {},
   "source": [
    "(e) Now suppose that we wish to make a prediction for a test observation by creating a p-dimensional hypercube centered around\n",
    "the test observation that contains, on average, 10 % of the training observations. For p = 1, 2, and 100, what is the length of\n",
    "each side of the hypercube? Comment on your answer\n",
    "\n",
    "From (d) if otherwise we fix fraction of particles in the volume in high dimension, p, volume side must grow fast. Volume side to keep observations fraction 0.1 is proportional to $0.1^{1/p}$, p=1: 0.1, p=2: $\\sqrt{0.1}$, p=100: $0.1^{1/100}$"
   ]
  },
  {
   "cell_type": "markdown",
   "metadata": {},
   "source": [
    "## Problem 5"
   ]
  },
  {
   "cell_type": "markdown",
   "metadata": {},
   "source": [
    "(a) If the Bayes decision boundary is linear, do we expect LDA or\n",
    "QDA to perform better on the training set? On the test set?\n",
    "\n",
    "LDA for both"
   ]
  },
  {
   "cell_type": "markdown",
   "metadata": {},
   "source": [
    "(b) If the Bayes decision boundary is non-linear, do we expect LDA\n",
    "or QDA to perform better on the training set? On the test set?\n",
    "\n",
    "QDA for both"
   ]
  },
  {
   "cell_type": "markdown",
   "metadata": {},
   "source": [
    "(c) In general, as the sample size n increases, do we expect the test\n",
    "prediction accuracy of QDA relative to LDA to improve, decline,\n",
    "or be unchanged? Why?\n",
    "\n",
    "QDA performs better on larger dataset, because it is more flexible. It results to overfitting on small dataset."
   ]
  },
  {
   "cell_type": "markdown",
   "metadata": {},
   "source": [
    "(d) True or False: Even if the Bayes decision boundary for a given\n",
    "problem is linear, we will probably achieve a superior test error rate using QDA rather than LDA because QDA is flexible\n",
    "enough to model a linear decision boundary. Justify your answer.\n",
    "\n",
    "False. For small dataset it qda will overfit."
   ]
  },
  {
   "cell_type": "markdown",
   "metadata": {},
   "source": [
    "## Problem 6"
   ]
  },
  {
   "cell_type": "markdown",
   "metadata": {},
   "source": [
    "Suppose we collect data for a group of students in a statistics class\n",
    "with variables X1 = hours studied, X2 = undergrad GPA, and Y =\n",
    "receive an A. We fit a logistic regression and produce estimated\n",
    "coefficient, βˆ0 = −6, βˆ1 = 0.05, βˆ2 = 1."
   ]
  },
  {
   "cell_type": "markdown",
   "metadata": {},
   "source": [
    "probability $p=e^{\\hat{\\beta_0}+\\hat{\\beta}x}/(1+e^{\\hat{\\beta_0}+\\hat{\\beta}x})=1/(1+e^{-(\\hat{\\beta_0}+\\hat{\\beta}x)})$\n",
    "\n",
    "(a) Estimate the probability that a student who studies for 40 h and\n",
    "has an undergrad GPA of 3.5 gets an A in the class."
   ]
  },
  {
   "cell_type": "code",
   "execution_count": 48,
   "metadata": {},
   "outputs": [
    {
     "data": {
      "text/html": [
       "0.377540668798145"
      ],
      "text/latex": [
       "0.377540668798145"
      ],
      "text/markdown": [
       "0.377540668798145"
      ],
      "text/plain": [
       "[1] 0.3775407"
      ]
     },
     "metadata": {},
     "output_type": "display_data"
    }
   ],
   "source": [
    "1/(1+exp(6-0.05*40-3.5))"
   ]
  },
  {
   "cell_type": "markdown",
   "metadata": {},
   "source": [
    "(b) How many hours would the student in part (a) need to study to\n",
    "have a 50 % chance of getting an A in the class?\n",
    "\n",
    "50 hours"
   ]
  },
  {
   "cell_type": "code",
   "execution_count": 49,
   "metadata": {},
   "outputs": [
    {
     "data": {
      "text/html": [
       "0.5"
      ],
      "text/latex": [
       "0.5"
      ],
      "text/markdown": [
       "0.5"
      ],
      "text/plain": [
       "[1] 0.5"
      ]
     },
     "metadata": {},
     "output_type": "display_data"
    }
   ],
   "source": [
    "1/(1+exp(6-0.05*50-3.5))"
   ]
  },
  {
   "cell_type": "markdown",
   "metadata": {},
   "source": [
    "## Problem 7"
   ]
  },
  {
   "cell_type": "markdown",
   "metadata": {},
   "source": [
    "Suppose that we wish to predict whether a given stock will issue a\n",
    "dividend this year (“Yes” or “No”) based on X, last year’s percent\n",
    "profit. We examine a large number of companies and discover that the\n",
    "mean value of X for companies that issued a dividend was $\\bar{X} = 10$,\n",
    "while the mean for those that didn’t was $\\bar{X} = 0$. In addition, the\n",
    "variance of X for these two sets of companies was ˆσ2 = 36. Finally,\n",
    "80 % of companies issued dividends. Assuming that X follows a normal distribution, predict the probability that a company will issue\n",
    "a dividend this year given that its percentage profit was X = 4 last\n",
    "year."
   ]
  },
  {
   "cell_type": "markdown",
   "metadata": {},
   "source": [
    "Baeys' theorem for this case: $p(Y|X=4)=\\frac{p(X=4|Y)p(Y)}{p(X=4|Y)p(Y)+p(X=4|N)p(N)}$ "
   ]
  },
  {
   "cell_type": "code",
   "execution_count": 50,
   "metadata": {},
   "outputs": [
    {
     "data": {
      "text/html": [
       "0.751852453297526"
      ],
      "text/latex": [
       "0.751852453297526"
      ],
      "text/markdown": [
       "0.751852453297526"
      ],
      "text/plain": [
       "[1] 0.7518525"
      ]
     },
     "metadata": {},
     "output_type": "display_data"
    }
   ],
   "source": [
    "exp(-(4-10)^2/72)*0.8/(exp(-(4-10)^2/72)*0.8+exp(-(4)^2/72)*0.2)"
   ]
  },
  {
   "cell_type": "markdown",
   "metadata": {},
   "source": [
    "## Problem 8"
   ]
  },
  {
   "cell_type": "markdown",
   "metadata": {},
   "source": [
    "Suppose that we take a data set, divide it into equally-sized training\n",
    "and test sets, and then try out two different classification procedures.\n",
    "First we use logistic regression and get an error rate of 20 % on the\n",
    "training data and 30 % on the test data. Next we use 1-nearest neighbors (i.e. K = 1) and get an average error rate (averaged over both\n",
    "test and training data sets) of 18 %. Based on these results, which\n",
    "method should we prefer to use for classification of new observations?\n",
    "Why?\n",
    "\n",
    "From first model result we see that there is an overfitting. For K=1 it is likely that overfitting get worse. We do not know train and test errors seperately. It is better to use 1st method."
   ]
  },
  {
   "cell_type": "markdown",
   "metadata": {},
   "source": [
    "## Problem 9"
   ]
  },
  {
   "cell_type": "markdown",
   "metadata": {},
   "source": [
    "(a) On average, what fraction of people with an odds of 0.37 of\n",
    "defaulting on their credit card payment will in fact default?"
   ]
  },
  {
   "cell_type": "code",
   "execution_count": 51,
   "metadata": {},
   "outputs": [
    {
     "data": {
      "text/html": [
       "0.27007299270073"
      ],
      "text/latex": [
       "0.27007299270073"
      ],
      "text/markdown": [
       "0.27007299270073"
      ],
      "text/plain": [
       "[1] 0.270073"
      ]
     },
     "metadata": {},
     "output_type": "display_data"
    }
   ],
   "source": [
    "0.37/(1+0.37)"
   ]
  },
  {
   "cell_type": "markdown",
   "metadata": {},
   "source": [
    "(b) odds:"
   ]
  },
  {
   "cell_type": "code",
   "execution_count": 52,
   "metadata": {},
   "outputs": [
    {
     "data": {
      "text/html": [
       "0.19047619047619"
      ],
      "text/latex": [
       "0.19047619047619"
      ],
      "text/markdown": [
       "0.19047619047619"
      ],
      "text/plain": [
       "[1] 0.1904762"
      ]
     },
     "metadata": {},
     "output_type": "display_data"
    }
   ],
   "source": [
    "0.16/(1-0.16)"
   ]
  },
  {
   "cell_type": "markdown",
   "metadata": {},
   "source": [
    "# Functions"
   ]
  },
  {
   "cell_type": "code",
   "execution_count": 53,
   "metadata": {},
   "outputs": [],
   "source": [
    "probs_Classification=function(model, formula, data, datapredict, family=NULL, subset=NULL){\n",
    "    model_fits = do.call(model, list(formula, data=quote(data), family=quote(family), subset=subset))\n",
    "    print(model_fits)\n",
    "    print(summary(model_fits))\n",
    "    return(predict(model_fits, datapredict, type=\"response\"))\n",
    "}\n",
    "Predictions=function(y_probs, y, l1, l2, length){\n",
    "    y_pred = rep(l1, length)\n",
    "    y_pred[y_probs>0.5]=l2\n",
    "    #confusion matrix\n",
    "    cm=table(y_pred, y)\n",
    "    print(cm)\n",
    "    return((cm[1]+cm[4])/length)\n",
    "}\n"
   ]
  },
  {
   "cell_type": "markdown",
   "metadata": {},
   "source": [
    "## Problem 10"
   ]
  },
  {
   "cell_type": "code",
   "execution_count": 54,
   "metadata": {
    "scrolled": true
   },
   "outputs": [
    {
     "data": {
      "text/html": [
       "<table>\n",
       "<thead><tr><th scope=col>Year</th><th scope=col>Lag1</th><th scope=col>Lag2</th><th scope=col>Lag3</th><th scope=col>Lag4</th><th scope=col>Lag5</th><th scope=col>Volume</th><th scope=col>Today</th><th scope=col>Direction</th><th scope=col>Dif</th></tr></thead>\n",
       "<tbody>\n",
       "\t<tr><td>1990     </td><td> 0.816   </td><td> 1.572   </td><td>-3.936   </td><td>-0.229   </td><td>-3.484   </td><td>0.1549760</td><td>-0.270   </td><td>Down     </td><td> 1.801   </td></tr>\n",
       "\t<tr><td>1990     </td><td>-0.270   </td><td> 0.816   </td><td> 1.572   </td><td>-3.936   </td><td>-0.229   </td><td>0.1485740</td><td>-2.576   </td><td>Down     </td><td> 4.752   </td></tr>\n",
       "\t<tr><td>1990     </td><td>-2.576   </td><td>-0.270   </td><td> 0.816   </td><td> 1.572   </td><td>-3.936   </td><td>0.1598375</td><td> 3.514   </td><td>Up       </td><td>-1.842   </td></tr>\n",
       "\t<tr><td>1990     </td><td> 3.514   </td><td>-2.576   </td><td>-0.270   </td><td> 0.816   </td><td> 1.572   </td><td>0.1616300</td><td> 0.712   </td><td>Up       </td><td>-3.392   </td></tr>\n",
       "\t<tr><td>1990     </td><td> 0.712   </td><td> 3.514   </td><td>-2.576   </td><td>-0.270   </td><td> 0.816   </td><td>0.1537280</td><td> 1.178   </td><td>Up       </td><td> 3.784   </td></tr>\n",
       "\t<tr><td>1990     </td><td> 1.178   </td><td> 0.712   </td><td> 3.514   </td><td>-2.576   </td><td>-0.270   </td><td>0.1544440</td><td>-1.372   </td><td>Down     </td><td> 3.288   </td></tr>\n",
       "\t<tr><td>1990     </td><td>-1.372   </td><td> 1.178   </td><td> 0.712   </td><td> 3.514   </td><td>-2.576   </td><td>0.1517220</td><td> 0.807   </td><td>Up       </td><td>-2.336   </td></tr>\n",
       "\t<tr><td>1990     </td><td> 0.807   </td><td>-1.372   </td><td> 1.178   </td><td> 0.712   </td><td> 3.514   </td><td>0.1323100</td><td> 0.041   </td><td>Up       </td><td>-2.084   </td></tr>\n",
       "\t<tr><td>1990     </td><td> 0.041   </td><td> 0.807   </td><td>-1.372   </td><td> 1.178   </td><td> 0.712   </td><td>0.1439720</td><td> 1.253   </td><td>Up       </td><td>-0.371   </td></tr>\n",
       "\t<tr><td>1990     </td><td> 1.253   </td><td> 0.041   </td><td> 0.807   </td><td>-1.372   </td><td> 1.178   </td><td>0.1336350</td><td>-2.678   </td><td>Down     </td><td> 1.413   </td></tr>\n",
       "\t<tr><td>1990     </td><td>-2.678   </td><td> 1.253   </td><td> 0.041   </td><td> 0.807   </td><td>-1.372   </td><td>0.1490240</td><td>-1.793   </td><td>Down     </td><td> 0.446   </td></tr>\n",
       "\t<tr><td>1990     </td><td>-1.793   </td><td>-2.678   </td><td> 1.253   </td><td> 0.041   </td><td> 0.807   </td><td>0.1357900</td><td> 2.820   </td><td>Up       </td><td>-2.719   </td></tr>\n",
       "\t<tr><td>1990     </td><td> 2.820   </td><td>-1.793   </td><td>-2.678   </td><td> 1.253   </td><td> 0.041   </td><td>0.1398980</td><td> 4.022   </td><td>Up       </td><td>-3.046   </td></tr>\n",
       "\t<tr><td>1990     </td><td> 4.022   </td><td> 2.820   </td><td>-1.793   </td><td>-2.678   </td><td> 1.253   </td><td>0.1643420</td><td> 0.750   </td><td>Up       </td><td> 5.498   </td></tr>\n",
       "\t<tr><td>1990     </td><td> 0.750   </td><td> 4.022   </td><td> 2.820   </td><td>-1.793   </td><td>-2.678   </td><td>0.1756480</td><td>-0.017   </td><td>Down     </td><td> 5.815   </td></tr>\n",
       "\t<tr><td>1990     </td><td>-0.017   </td><td> 0.750   </td><td> 4.022   </td><td> 2.820   </td><td>-1.793   </td><td>0.1634700</td><td> 2.420   </td><td>Up       </td><td>-2.070   </td></tr>\n",
       "\t<tr><td>1990     </td><td> 2.420   </td><td>-0.017   </td><td> 0.750   </td><td> 4.022   </td><td> 2.820   </td><td>0.1726250</td><td>-1.225   </td><td>Down     </td><td>-4.039   </td></tr>\n",
       "\t<tr><td>1990     </td><td>-1.225   </td><td> 2.420   </td><td>-0.017   </td><td> 0.750   </td><td> 4.022   </td><td>0.1684460</td><td> 1.171   </td><td>Up       </td><td> 1.670   </td></tr>\n",
       "\t<tr><td>1990     </td><td> 1.171   </td><td>-1.225   </td><td> 2.420   </td><td>-0.017   </td><td> 0.750   </td><td>0.1552920</td><td>-2.061   </td><td>Down     </td><td>-1.208   </td></tr>\n",
       "\t<tr><td>1990     </td><td>-2.061   </td><td> 1.171   </td><td>-1.225   </td><td> 2.420   </td><td>-0.017   </td><td>0.1433920</td><td> 0.729   </td><td>Up       </td><td>-1.249   </td></tr>\n",
       "\t<tr><td>1990     </td><td> 0.729   </td><td>-2.061   </td><td> 1.171   </td><td>-1.225   </td><td> 2.420   </td><td>0.1405540</td><td> 0.112   </td><td>Up       </td><td>-0.836   </td></tr>\n",
       "\t<tr><td>1990     </td><td> 0.112   </td><td> 0.729   </td><td>-2.061   </td><td> 1.171   </td><td>-1.225   </td><td>0.1250750</td><td> 2.480   </td><td>Up       </td><td>-0.442   </td></tr>\n",
       "\t<tr><td>1990     </td><td> 2.480   </td><td> 0.112   </td><td> 0.729   </td><td>-2.061   </td><td> 1.171   </td><td>0.1716040</td><td>-1.552   </td><td>Down     </td><td> 2.173   </td></tr>\n",
       "\t<tr><td>1990     </td><td>-1.552   </td><td> 2.480   </td><td> 0.112   </td><td> 0.729   </td><td>-2.061   </td><td>0.1669560</td><td>-2.259   </td><td>Down     </td><td> 1.751   </td></tr>\n",
       "\t<tr><td>1990     </td><td>-2.259   </td><td>-1.552   </td><td> 2.480   </td><td> 0.112   </td><td> 0.729   </td><td>0.1717180</td><td>-2.428   </td><td>Down     </td><td>-1.664   </td></tr>\n",
       "\t<tr><td>1990     </td><td>-2.428   </td><td>-2.259   </td><td>-1.552   </td><td> 2.480   </td><td> 0.112   </td><td>0.2098160</td><td>-2.708   </td><td>Down     </td><td>-4.739   </td></tr>\n",
       "\t<tr><td>1990     </td><td>-2.708   </td><td>-2.428   </td><td>-2.259   </td><td>-1.552   </td><td> 2.480   </td><td>0.1927060</td><td>-2.292   </td><td>Down     </td><td>-0.876   </td></tr>\n",
       "\t<tr><td>1990     </td><td>-2.292   </td><td>-2.708   </td><td>-2.428   </td><td>-2.259   </td><td>-1.552   </td><td>0.1482520</td><td>-4.978   </td><td>Down     </td><td>-0.449   </td></tr>\n",
       "\t<tr><td>1990     </td><td>-4.978   </td><td>-2.292   </td><td>-2.708   </td><td>-2.428   </td><td>-2.259   </td><td>0.1898580</td><td> 3.547   </td><td>Up       </td><td> 0.136   </td></tr>\n",
       "\t<tr><td>1990     </td><td> 3.547   </td><td>-4.978   </td><td>-2.292   </td><td>-2.708   </td><td>-2.428   </td><td>0.1278840</td><td> 0.260   </td><td>Up       </td><td>-2.270   </td></tr>\n",
       "\t<tr><td>...</td><td>...</td><td>...</td><td>...</td><td>...</td><td>...</td><td>...</td><td>...</td><td>...</td><td>...</td></tr>\n",
       "\t<tr><td>2010    </td><td>-2.252  </td><td> 0.158  </td><td>-4.226  </td><td> 2.232  </td><td>-6.388  </td><td>5.368597</td><td> 2.509  </td><td>Up      </td><td>-2.074  </td></tr>\n",
       "\t<tr><td>2010    </td><td> 2.509  </td><td>-2.252  </td><td> 0.158  </td><td>-4.226  </td><td> 2.232  </td><td>5.369514</td><td> 2.374  </td><td>Up      </td><td> 1.974  </td></tr>\n",
       "\t<tr><td>2010    </td><td> 2.374  </td><td> 2.509  </td><td>-2.252  </td><td> 0.158  </td><td>-4.226  </td><td>4.637208</td><td>-3.646  </td><td>Down    </td><td> 2.351  </td></tr>\n",
       "\t<tr><td>2010    </td><td>-3.646  </td><td> 2.374  </td><td> 2.509  </td><td>-2.252  </td><td> 0.158  </td><td>4.699712</td><td>-5.032  </td><td>Down    </td><td> 4.626  </td></tr>\n",
       "\t<tr><td>2010    </td><td>-5.032  </td><td>-3.646  </td><td> 2.374  </td><td> 2.509  </td><td>-2.252  </td><td>5.100892</td><td> 5.416  </td><td>Up      </td><td>-6.155  </td></tr>\n",
       "\t<tr><td>2010    </td><td> 5.416  </td><td>-5.032  </td><td>-3.646  </td><td> 2.374  </td><td> 2.509  </td><td>4.419372</td><td>-1.213  </td><td>Down    </td><td>-7.406  </td></tr>\n",
       "\t<tr><td>2010    </td><td>-1.213  </td><td> 5.416  </td><td>-5.032  </td><td>-3.646  </td><td> 2.374  </td><td>4.487664</td><td> 3.548  </td><td>Up      </td><td> 9.062  </td></tr>\n",
       "\t<tr><td>2010    </td><td> 3.548  </td><td>-1.213  </td><td> 5.416  </td><td>-5.032  </td><td>-3.646  </td><td>4.580286</td><td>-0.096  </td><td>Down    </td><td> 3.819  </td></tr>\n",
       "\t<tr><td>2010    </td><td>-0.096  </td><td> 3.548  </td><td>-1.213  </td><td> 5.416  </td><td>-5.032  </td><td>4.271320</td><td> 1.819  </td><td>Up      </td><td>-1.868  </td></tr>\n",
       "\t<tr><td>2010    </td><td> 1.819  </td><td>-0.096  </td><td> 3.548  </td><td>-1.213  </td><td> 5.416  </td><td>3.963460</td><td>-3.779  </td><td>Down    </td><td> 1.117  </td></tr>\n",
       "\t<tr><td>2010    </td><td>-3.779  </td><td> 1.819  </td><td>-0.096  </td><td> 3.548  </td><td>-1.213  </td><td>3.906558</td><td>-0.700  </td><td>Down    </td><td>-1.729  </td></tr>\n",
       "\t<tr><td>2010    </td><td>-0.700  </td><td>-3.779  </td><td> 1.819  </td><td>-0.096  </td><td> 3.548  </td><td>3.777406</td><td>-0.663  </td><td>Down    </td><td>-3.683  </td></tr>\n",
       "\t<tr><td>2010    </td><td>-0.663  </td><td>-0.700  </td><td>-3.779  </td><td> 1.819  </td><td>-0.096  </td><td>3.951328</td><td> 3.750  </td><td>Up      </td><td>-2.519  </td></tr>\n",
       "\t<tr><td>2010    </td><td> 3.750  </td><td>-0.663  </td><td>-0.700  </td><td>-3.779  </td><td> 1.819  </td><td>3.718470</td><td> 0.456  </td><td>Up      </td><td> 3.116  </td></tr>\n",
       "\t<tr><td>2010    </td><td> 0.456  </td><td> 3.750  </td><td>-0.663  </td><td>-0.700  </td><td>-3.779  </td><td>3.195238</td><td> 1.446  </td><td>Up      </td><td> 4.450  </td></tr>\n",
       "\t<tr><td>2010    </td><td> 1.446  </td><td> 0.456  </td><td> 3.750  </td><td>-0.663  </td><td>-0.700  </td><td>3.972432</td><td> 2.050  </td><td>Up      </td><td> 1.119  </td></tr>\n",
       "\t<tr><td>2010    </td><td> 2.050  </td><td> 1.446  </td><td> 0.456  </td><td> 3.750  </td><td>-0.663  </td><td>3.884522</td><td>-0.212  </td><td>Down    </td><td>-2.304  </td></tr>\n",
       "\t<tr><td>2010    </td><td>-0.212  </td><td> 2.050  </td><td> 1.446  </td><td> 0.456  </td><td> 3.750  </td><td>4.037410</td><td> 1.650  </td><td>Up      </td><td> 1.594  </td></tr>\n",
       "\t<tr><td>2010    </td><td> 1.650  </td><td>-0.212  </td><td> 2.050  </td><td> 1.446  </td><td> 0.456  </td><td>3.905616</td><td> 0.948  </td><td>Up      </td><td>-1.658  </td></tr>\n",
       "\t<tr><td>2010    </td><td> 0.948  </td><td> 1.650  </td><td>-0.212  </td><td> 2.050  </td><td> 1.446  </td><td>4.449160</td><td> 0.586  </td><td>Up      </td><td>-0.400  </td></tr>\n",
       "\t<tr><td>2010    </td><td> 0.586  </td><td> 0.948  </td><td> 1.650  </td><td>-0.212  </td><td> 2.050  </td><td>4.576282</td><td> 0.015  </td><td>Up      </td><td> 1.160  </td></tr>\n",
       "\t<tr><td>2010    </td><td> 0.015  </td><td> 0.586  </td><td> 0.948  </td><td> 1.650  </td><td>-0.212  </td><td>4.116414</td><td> 3.599  </td><td>Up      </td><td>-1.064  </td></tr>\n",
       "\t<tr><td>2010    </td><td> 3.599  </td><td> 0.015  </td><td> 0.586  </td><td> 0.948  </td><td> 1.650  </td><td>4.798758</td><td>-2.173  </td><td>Down    </td><td>-0.933  </td></tr>\n",
       "\t<tr><td>2010    </td><td>-2.173  </td><td> 3.599  </td><td> 0.015  </td><td> 0.586  </td><td> 0.948  </td><td>4.298262</td><td> 0.043  </td><td>Up      </td><td> 3.013  </td></tr>\n",
       "\t<tr><td>2010    </td><td> 0.043  </td><td>-2.173  </td><td> 3.599  </td><td> 0.015  </td><td> 0.586  </td><td>4.177436</td><td>-0.861  </td><td>Down    </td><td>-2.188  </td></tr>\n",
       "\t<tr><td>2010    </td><td>-0.861  </td><td> 0.043  </td><td>-2.173  </td><td> 3.599  </td><td> 0.015  </td><td>3.205160</td><td> 2.969  </td><td>Up      </td><td>-3.556  </td></tr>\n",
       "\t<tr><td>2010    </td><td> 2.969  </td><td>-0.861  </td><td> 0.043  </td><td>-2.173  </td><td> 3.599  </td><td>4.242568</td><td> 1.281  </td><td>Up      </td><td> 1.312  </td></tr>\n",
       "\t<tr><td>2010    </td><td> 1.281  </td><td> 2.969  </td><td>-0.861  </td><td> 0.043  </td><td>-2.173  </td><td>4.835082</td><td> 0.283  </td><td>Up      </td><td> 2.926  </td></tr>\n",
       "\t<tr><td>2010    </td><td> 0.283  </td><td> 1.281  </td><td> 2.969  </td><td>-0.861  </td><td> 0.043  </td><td>4.454044</td><td> 1.034  </td><td>Up      </td><td> 2.142  </td></tr>\n",
       "\t<tr><td>2010    </td><td> 1.034  </td><td> 0.283  </td><td> 1.281  </td><td> 2.969  </td><td>-0.861  </td><td>2.707105</td><td> 0.069  </td><td>Up      </td><td>-2.686  </td></tr>\n",
       "</tbody>\n",
       "</table>\n"
      ],
      "text/latex": [
       "\\begin{tabular}{r|llllllllll}\n",
       " Year & Lag1 & Lag2 & Lag3 & Lag4 & Lag5 & Volume & Today & Direction & Dif\\\\\n",
       "\\hline\n",
       "\t 1990      &  0.816    &  1.572    & -3.936    & -0.229    & -3.484    & 0.1549760 & -0.270    & Down      &  1.801   \\\\\n",
       "\t 1990      & -0.270    &  0.816    &  1.572    & -3.936    & -0.229    & 0.1485740 & -2.576    & Down      &  4.752   \\\\\n",
       "\t 1990      & -2.576    & -0.270    &  0.816    &  1.572    & -3.936    & 0.1598375 &  3.514    & Up        & -1.842   \\\\\n",
       "\t 1990      &  3.514    & -2.576    & -0.270    &  0.816    &  1.572    & 0.1616300 &  0.712    & Up        & -3.392   \\\\\n",
       "\t 1990      &  0.712    &  3.514    & -2.576    & -0.270    &  0.816    & 0.1537280 &  1.178    & Up        &  3.784   \\\\\n",
       "\t 1990      &  1.178    &  0.712    &  3.514    & -2.576    & -0.270    & 0.1544440 & -1.372    & Down      &  3.288   \\\\\n",
       "\t 1990      & -1.372    &  1.178    &  0.712    &  3.514    & -2.576    & 0.1517220 &  0.807    & Up        & -2.336   \\\\\n",
       "\t 1990      &  0.807    & -1.372    &  1.178    &  0.712    &  3.514    & 0.1323100 &  0.041    & Up        & -2.084   \\\\\n",
       "\t 1990      &  0.041    &  0.807    & -1.372    &  1.178    &  0.712    & 0.1439720 &  1.253    & Up        & -0.371   \\\\\n",
       "\t 1990      &  1.253    &  0.041    &  0.807    & -1.372    &  1.178    & 0.1336350 & -2.678    & Down      &  1.413   \\\\\n",
       "\t 1990      & -2.678    &  1.253    &  0.041    &  0.807    & -1.372    & 0.1490240 & -1.793    & Down      &  0.446   \\\\\n",
       "\t 1990      & -1.793    & -2.678    &  1.253    &  0.041    &  0.807    & 0.1357900 &  2.820    & Up        & -2.719   \\\\\n",
       "\t 1990      &  2.820    & -1.793    & -2.678    &  1.253    &  0.041    & 0.1398980 &  4.022    & Up        & -3.046   \\\\\n",
       "\t 1990      &  4.022    &  2.820    & -1.793    & -2.678    &  1.253    & 0.1643420 &  0.750    & Up        &  5.498   \\\\\n",
       "\t 1990      &  0.750    &  4.022    &  2.820    & -1.793    & -2.678    & 0.1756480 & -0.017    & Down      &  5.815   \\\\\n",
       "\t 1990      & -0.017    &  0.750    &  4.022    &  2.820    & -1.793    & 0.1634700 &  2.420    & Up        & -2.070   \\\\\n",
       "\t 1990      &  2.420    & -0.017    &  0.750    &  4.022    &  2.820    & 0.1726250 & -1.225    & Down      & -4.039   \\\\\n",
       "\t 1990      & -1.225    &  2.420    & -0.017    &  0.750    &  4.022    & 0.1684460 &  1.171    & Up        &  1.670   \\\\\n",
       "\t 1990      &  1.171    & -1.225    &  2.420    & -0.017    &  0.750    & 0.1552920 & -2.061    & Down      & -1.208   \\\\\n",
       "\t 1990      & -2.061    &  1.171    & -1.225    &  2.420    & -0.017    & 0.1433920 &  0.729    & Up        & -1.249   \\\\\n",
       "\t 1990      &  0.729    & -2.061    &  1.171    & -1.225    &  2.420    & 0.1405540 &  0.112    & Up        & -0.836   \\\\\n",
       "\t 1990      &  0.112    &  0.729    & -2.061    &  1.171    & -1.225    & 0.1250750 &  2.480    & Up        & -0.442   \\\\\n",
       "\t 1990      &  2.480    &  0.112    &  0.729    & -2.061    &  1.171    & 0.1716040 & -1.552    & Down      &  2.173   \\\\\n",
       "\t 1990      & -1.552    &  2.480    &  0.112    &  0.729    & -2.061    & 0.1669560 & -2.259    & Down      &  1.751   \\\\\n",
       "\t 1990      & -2.259    & -1.552    &  2.480    &  0.112    &  0.729    & 0.1717180 & -2.428    & Down      & -1.664   \\\\\n",
       "\t 1990      & -2.428    & -2.259    & -1.552    &  2.480    &  0.112    & 0.2098160 & -2.708    & Down      & -4.739   \\\\\n",
       "\t 1990      & -2.708    & -2.428    & -2.259    & -1.552    &  2.480    & 0.1927060 & -2.292    & Down      & -0.876   \\\\\n",
       "\t 1990      & -2.292    & -2.708    & -2.428    & -2.259    & -1.552    & 0.1482520 & -4.978    & Down      & -0.449   \\\\\n",
       "\t 1990      & -4.978    & -2.292    & -2.708    & -2.428    & -2.259    & 0.1898580 &  3.547    & Up        &  0.136   \\\\\n",
       "\t 1990      &  3.547    & -4.978    & -2.292    & -2.708    & -2.428    & 0.1278840 &  0.260    & Up        & -2.270   \\\\\n",
       "\t ... & ... & ... & ... & ... & ... & ... & ... & ... & ...\\\\\n",
       "\t 2010     & -2.252   &  0.158   & -4.226   &  2.232   & -6.388   & 5.368597 &  2.509   & Up       & -2.074  \\\\\n",
       "\t 2010     &  2.509   & -2.252   &  0.158   & -4.226   &  2.232   & 5.369514 &  2.374   & Up       &  1.974  \\\\\n",
       "\t 2010     &  2.374   &  2.509   & -2.252   &  0.158   & -4.226   & 4.637208 & -3.646   & Down     &  2.351  \\\\\n",
       "\t 2010     & -3.646   &  2.374   &  2.509   & -2.252   &  0.158   & 4.699712 & -5.032   & Down     &  4.626  \\\\\n",
       "\t 2010     & -5.032   & -3.646   &  2.374   &  2.509   & -2.252   & 5.100892 &  5.416   & Up       & -6.155  \\\\\n",
       "\t 2010     &  5.416   & -5.032   & -3.646   &  2.374   &  2.509   & 4.419372 & -1.213   & Down     & -7.406  \\\\\n",
       "\t 2010     & -1.213   &  5.416   & -5.032   & -3.646   &  2.374   & 4.487664 &  3.548   & Up       &  9.062  \\\\\n",
       "\t 2010     &  3.548   & -1.213   &  5.416   & -5.032   & -3.646   & 4.580286 & -0.096   & Down     &  3.819  \\\\\n",
       "\t 2010     & -0.096   &  3.548   & -1.213   &  5.416   & -5.032   & 4.271320 &  1.819   & Up       & -1.868  \\\\\n",
       "\t 2010     &  1.819   & -0.096   &  3.548   & -1.213   &  5.416   & 3.963460 & -3.779   & Down     &  1.117  \\\\\n",
       "\t 2010     & -3.779   &  1.819   & -0.096   &  3.548   & -1.213   & 3.906558 & -0.700   & Down     & -1.729  \\\\\n",
       "\t 2010     & -0.700   & -3.779   &  1.819   & -0.096   &  3.548   & 3.777406 & -0.663   & Down     & -3.683  \\\\\n",
       "\t 2010     & -0.663   & -0.700   & -3.779   &  1.819   & -0.096   & 3.951328 &  3.750   & Up       & -2.519  \\\\\n",
       "\t 2010     &  3.750   & -0.663   & -0.700   & -3.779   &  1.819   & 3.718470 &  0.456   & Up       &  3.116  \\\\\n",
       "\t 2010     &  0.456   &  3.750   & -0.663   & -0.700   & -3.779   & 3.195238 &  1.446   & Up       &  4.450  \\\\\n",
       "\t 2010     &  1.446   &  0.456   &  3.750   & -0.663   & -0.700   & 3.972432 &  2.050   & Up       &  1.119  \\\\\n",
       "\t 2010     &  2.050   &  1.446   &  0.456   &  3.750   & -0.663   & 3.884522 & -0.212   & Down     & -2.304  \\\\\n",
       "\t 2010     & -0.212   &  2.050   &  1.446   &  0.456   &  3.750   & 4.037410 &  1.650   & Up       &  1.594  \\\\\n",
       "\t 2010     &  1.650   & -0.212   &  2.050   &  1.446   &  0.456   & 3.905616 &  0.948   & Up       & -1.658  \\\\\n",
       "\t 2010     &  0.948   &  1.650   & -0.212   &  2.050   &  1.446   & 4.449160 &  0.586   & Up       & -0.400  \\\\\n",
       "\t 2010     &  0.586   &  0.948   &  1.650   & -0.212   &  2.050   & 4.576282 &  0.015   & Up       &  1.160  \\\\\n",
       "\t 2010     &  0.015   &  0.586   &  0.948   &  1.650   & -0.212   & 4.116414 &  3.599   & Up       & -1.064  \\\\\n",
       "\t 2010     &  3.599   &  0.015   &  0.586   &  0.948   &  1.650   & 4.798758 & -2.173   & Down     & -0.933  \\\\\n",
       "\t 2010     & -2.173   &  3.599   &  0.015   &  0.586   &  0.948   & 4.298262 &  0.043   & Up       &  3.013  \\\\\n",
       "\t 2010     &  0.043   & -2.173   &  3.599   &  0.015   &  0.586   & 4.177436 & -0.861   & Down     & -2.188  \\\\\n",
       "\t 2010     & -0.861   &  0.043   & -2.173   &  3.599   &  0.015   & 3.205160 &  2.969   & Up       & -3.556  \\\\\n",
       "\t 2010     &  2.969   & -0.861   &  0.043   & -2.173   &  3.599   & 4.242568 &  1.281   & Up       &  1.312  \\\\\n",
       "\t 2010     &  1.281   &  2.969   & -0.861   &  0.043   & -2.173   & 4.835082 &  0.283   & Up       &  2.926  \\\\\n",
       "\t 2010     &  0.283   &  1.281   &  2.969   & -0.861   &  0.043   & 4.454044 &  1.034   & Up       &  2.142  \\\\\n",
       "\t 2010     &  1.034   &  0.283   &  1.281   &  2.969   & -0.861   & 2.707105 &  0.069   & Up       & -2.686  \\\\\n",
       "\\end{tabular}\n"
      ],
      "text/markdown": [
       "\n",
       "| Year | Lag1 | Lag2 | Lag3 | Lag4 | Lag5 | Volume | Today | Direction | Dif |\n",
       "|---|---|---|---|---|---|---|---|---|---|\n",
       "| 1990      |  0.816    |  1.572    | -3.936    | -0.229    | -3.484    | 0.1549760 | -0.270    | Down      |  1.801    |\n",
       "| 1990      | -0.270    |  0.816    |  1.572    | -3.936    | -0.229    | 0.1485740 | -2.576    | Down      |  4.752    |\n",
       "| 1990      | -2.576    | -0.270    |  0.816    |  1.572    | -3.936    | 0.1598375 |  3.514    | Up        | -1.842    |\n",
       "| 1990      |  3.514    | -2.576    | -0.270    |  0.816    |  1.572    | 0.1616300 |  0.712    | Up        | -3.392    |\n",
       "| 1990      |  0.712    |  3.514    | -2.576    | -0.270    |  0.816    | 0.1537280 |  1.178    | Up        |  3.784    |\n",
       "| 1990      |  1.178    |  0.712    |  3.514    | -2.576    | -0.270    | 0.1544440 | -1.372    | Down      |  3.288    |\n",
       "| 1990      | -1.372    |  1.178    |  0.712    |  3.514    | -2.576    | 0.1517220 |  0.807    | Up        | -2.336    |\n",
       "| 1990      |  0.807    | -1.372    |  1.178    |  0.712    |  3.514    | 0.1323100 |  0.041    | Up        | -2.084    |\n",
       "| 1990      |  0.041    |  0.807    | -1.372    |  1.178    |  0.712    | 0.1439720 |  1.253    | Up        | -0.371    |\n",
       "| 1990      |  1.253    |  0.041    |  0.807    | -1.372    |  1.178    | 0.1336350 | -2.678    | Down      |  1.413    |\n",
       "| 1990      | -2.678    |  1.253    |  0.041    |  0.807    | -1.372    | 0.1490240 | -1.793    | Down      |  0.446    |\n",
       "| 1990      | -1.793    | -2.678    |  1.253    |  0.041    |  0.807    | 0.1357900 |  2.820    | Up        | -2.719    |\n",
       "| 1990      |  2.820    | -1.793    | -2.678    |  1.253    |  0.041    | 0.1398980 |  4.022    | Up        | -3.046    |\n",
       "| 1990      |  4.022    |  2.820    | -1.793    | -2.678    |  1.253    | 0.1643420 |  0.750    | Up        |  5.498    |\n",
       "| 1990      |  0.750    |  4.022    |  2.820    | -1.793    | -2.678    | 0.1756480 | -0.017    | Down      |  5.815    |\n",
       "| 1990      | -0.017    |  0.750    |  4.022    |  2.820    | -1.793    | 0.1634700 |  2.420    | Up        | -2.070    |\n",
       "| 1990      |  2.420    | -0.017    |  0.750    |  4.022    |  2.820    | 0.1726250 | -1.225    | Down      | -4.039    |\n",
       "| 1990      | -1.225    |  2.420    | -0.017    |  0.750    |  4.022    | 0.1684460 |  1.171    | Up        |  1.670    |\n",
       "| 1990      |  1.171    | -1.225    |  2.420    | -0.017    |  0.750    | 0.1552920 | -2.061    | Down      | -1.208    |\n",
       "| 1990      | -2.061    |  1.171    | -1.225    |  2.420    | -0.017    | 0.1433920 |  0.729    | Up        | -1.249    |\n",
       "| 1990      |  0.729    | -2.061    |  1.171    | -1.225    |  2.420    | 0.1405540 |  0.112    | Up        | -0.836    |\n",
       "| 1990      |  0.112    |  0.729    | -2.061    |  1.171    | -1.225    | 0.1250750 |  2.480    | Up        | -0.442    |\n",
       "| 1990      |  2.480    |  0.112    |  0.729    | -2.061    |  1.171    | 0.1716040 | -1.552    | Down      |  2.173    |\n",
       "| 1990      | -1.552    |  2.480    |  0.112    |  0.729    | -2.061    | 0.1669560 | -2.259    | Down      |  1.751    |\n",
       "| 1990      | -2.259    | -1.552    |  2.480    |  0.112    |  0.729    | 0.1717180 | -2.428    | Down      | -1.664    |\n",
       "| 1990      | -2.428    | -2.259    | -1.552    |  2.480    |  0.112    | 0.2098160 | -2.708    | Down      | -4.739    |\n",
       "| 1990      | -2.708    | -2.428    | -2.259    | -1.552    |  2.480    | 0.1927060 | -2.292    | Down      | -0.876    |\n",
       "| 1990      | -2.292    | -2.708    | -2.428    | -2.259    | -1.552    | 0.1482520 | -4.978    | Down      | -0.449    |\n",
       "| 1990      | -4.978    | -2.292    | -2.708    | -2.428    | -2.259    | 0.1898580 |  3.547    | Up        |  0.136    |\n",
       "| 1990      |  3.547    | -4.978    | -2.292    | -2.708    | -2.428    | 0.1278840 |  0.260    | Up        | -2.270    |\n",
       "| ... | ... | ... | ... | ... | ... | ... | ... | ... | ... |\n",
       "| 2010     | -2.252   |  0.158   | -4.226   |  2.232   | -6.388   | 5.368597 |  2.509   | Up       | -2.074   |\n",
       "| 2010     |  2.509   | -2.252   |  0.158   | -4.226   |  2.232   | 5.369514 |  2.374   | Up       |  1.974   |\n",
       "| 2010     |  2.374   |  2.509   | -2.252   |  0.158   | -4.226   | 4.637208 | -3.646   | Down     |  2.351   |\n",
       "| 2010     | -3.646   |  2.374   |  2.509   | -2.252   |  0.158   | 4.699712 | -5.032   | Down     |  4.626   |\n",
       "| 2010     | -5.032   | -3.646   |  2.374   |  2.509   | -2.252   | 5.100892 |  5.416   | Up       | -6.155   |\n",
       "| 2010     |  5.416   | -5.032   | -3.646   |  2.374   |  2.509   | 4.419372 | -1.213   | Down     | -7.406   |\n",
       "| 2010     | -1.213   |  5.416   | -5.032   | -3.646   |  2.374   | 4.487664 |  3.548   | Up       |  9.062   |\n",
       "| 2010     |  3.548   | -1.213   |  5.416   | -5.032   | -3.646   | 4.580286 | -0.096   | Down     |  3.819   |\n",
       "| 2010     | -0.096   |  3.548   | -1.213   |  5.416   | -5.032   | 4.271320 |  1.819   | Up       | -1.868   |\n",
       "| 2010     |  1.819   | -0.096   |  3.548   | -1.213   |  5.416   | 3.963460 | -3.779   | Down     |  1.117   |\n",
       "| 2010     | -3.779   |  1.819   | -0.096   |  3.548   | -1.213   | 3.906558 | -0.700   | Down     | -1.729   |\n",
       "| 2010     | -0.700   | -3.779   |  1.819   | -0.096   |  3.548   | 3.777406 | -0.663   | Down     | -3.683   |\n",
       "| 2010     | -0.663   | -0.700   | -3.779   |  1.819   | -0.096   | 3.951328 |  3.750   | Up       | -2.519   |\n",
       "| 2010     |  3.750   | -0.663   | -0.700   | -3.779   |  1.819   | 3.718470 |  0.456   | Up       |  3.116   |\n",
       "| 2010     |  0.456   |  3.750   | -0.663   | -0.700   | -3.779   | 3.195238 |  1.446   | Up       |  4.450   |\n",
       "| 2010     |  1.446   |  0.456   |  3.750   | -0.663   | -0.700   | 3.972432 |  2.050   | Up       |  1.119   |\n",
       "| 2010     |  2.050   |  1.446   |  0.456   |  3.750   | -0.663   | 3.884522 | -0.212   | Down     | -2.304   |\n",
       "| 2010     | -0.212   |  2.050   |  1.446   |  0.456   |  3.750   | 4.037410 |  1.650   | Up       |  1.594   |\n",
       "| 2010     |  1.650   | -0.212   |  2.050   |  1.446   |  0.456   | 3.905616 |  0.948   | Up       | -1.658   |\n",
       "| 2010     |  0.948   |  1.650   | -0.212   |  2.050   |  1.446   | 4.449160 |  0.586   | Up       | -0.400   |\n",
       "| 2010     |  0.586   |  0.948   |  1.650   | -0.212   |  2.050   | 4.576282 |  0.015   | Up       |  1.160   |\n",
       "| 2010     |  0.015   |  0.586   |  0.948   |  1.650   | -0.212   | 4.116414 |  3.599   | Up       | -1.064   |\n",
       "| 2010     |  3.599   |  0.015   |  0.586   |  0.948   |  1.650   | 4.798758 | -2.173   | Down     | -0.933   |\n",
       "| 2010     | -2.173   |  3.599   |  0.015   |  0.586   |  0.948   | 4.298262 |  0.043   | Up       |  3.013   |\n",
       "| 2010     |  0.043   | -2.173   |  3.599   |  0.015   |  0.586   | 4.177436 | -0.861   | Down     | -2.188   |\n",
       "| 2010     | -0.861   |  0.043   | -2.173   |  3.599   |  0.015   | 3.205160 |  2.969   | Up       | -3.556   |\n",
       "| 2010     |  2.969   | -0.861   |  0.043   | -2.173   |  3.599   | 4.242568 |  1.281   | Up       |  1.312   |\n",
       "| 2010     |  1.281   |  2.969   | -0.861   |  0.043   | -2.173   | 4.835082 |  0.283   | Up       |  2.926   |\n",
       "| 2010     |  0.283   |  1.281   |  2.969   | -0.861   |  0.043   | 4.454044 |  1.034   | Up       |  2.142   |\n",
       "| 2010     |  1.034   |  0.283   |  1.281   |  2.969   | -0.861   | 2.707105 |  0.069   | Up       | -2.686   |\n",
       "\n"
      ],
      "text/plain": [
       "     Year Lag1   Lag2   Lag3   Lag4   Lag5   Volume    Today  Direction Dif   \n",
       "1    1990  0.816  1.572 -3.936 -0.229 -3.484 0.1549760 -0.270 Down       1.801\n",
       "2    1990 -0.270  0.816  1.572 -3.936 -0.229 0.1485740 -2.576 Down       4.752\n",
       "3    1990 -2.576 -0.270  0.816  1.572 -3.936 0.1598375  3.514 Up        -1.842\n",
       "4    1990  3.514 -2.576 -0.270  0.816  1.572 0.1616300  0.712 Up        -3.392\n",
       "5    1990  0.712  3.514 -2.576 -0.270  0.816 0.1537280  1.178 Up         3.784\n",
       "6    1990  1.178  0.712  3.514 -2.576 -0.270 0.1544440 -1.372 Down       3.288\n",
       "7    1990 -1.372  1.178  0.712  3.514 -2.576 0.1517220  0.807 Up        -2.336\n",
       "8    1990  0.807 -1.372  1.178  0.712  3.514 0.1323100  0.041 Up        -2.084\n",
       "9    1990  0.041  0.807 -1.372  1.178  0.712 0.1439720  1.253 Up        -0.371\n",
       "10   1990  1.253  0.041  0.807 -1.372  1.178 0.1336350 -2.678 Down       1.413\n",
       "11   1990 -2.678  1.253  0.041  0.807 -1.372 0.1490240 -1.793 Down       0.446\n",
       "12   1990 -1.793 -2.678  1.253  0.041  0.807 0.1357900  2.820 Up        -2.719\n",
       "13   1990  2.820 -1.793 -2.678  1.253  0.041 0.1398980  4.022 Up        -3.046\n",
       "14   1990  4.022  2.820 -1.793 -2.678  1.253 0.1643420  0.750 Up         5.498\n",
       "15   1990  0.750  4.022  2.820 -1.793 -2.678 0.1756480 -0.017 Down       5.815\n",
       "16   1990 -0.017  0.750  4.022  2.820 -1.793 0.1634700  2.420 Up        -2.070\n",
       "17   1990  2.420 -0.017  0.750  4.022  2.820 0.1726250 -1.225 Down      -4.039\n",
       "18   1990 -1.225  2.420 -0.017  0.750  4.022 0.1684460  1.171 Up         1.670\n",
       "19   1990  1.171 -1.225  2.420 -0.017  0.750 0.1552920 -2.061 Down      -1.208\n",
       "20   1990 -2.061  1.171 -1.225  2.420 -0.017 0.1433920  0.729 Up        -1.249\n",
       "21   1990  0.729 -2.061  1.171 -1.225  2.420 0.1405540  0.112 Up        -0.836\n",
       "22   1990  0.112  0.729 -2.061  1.171 -1.225 0.1250750  2.480 Up        -0.442\n",
       "23   1990  2.480  0.112  0.729 -2.061  1.171 0.1716040 -1.552 Down       2.173\n",
       "24   1990 -1.552  2.480  0.112  0.729 -2.061 0.1669560 -2.259 Down       1.751\n",
       "25   1990 -2.259 -1.552  2.480  0.112  0.729 0.1717180 -2.428 Down      -1.664\n",
       "26   1990 -2.428 -2.259 -1.552  2.480  0.112 0.2098160 -2.708 Down      -4.739\n",
       "27   1990 -2.708 -2.428 -2.259 -1.552  2.480 0.1927060 -2.292 Down      -0.876\n",
       "28   1990 -2.292 -2.708 -2.428 -2.259 -1.552 0.1482520 -4.978 Down      -0.449\n",
       "29   1990 -4.978 -2.292 -2.708 -2.428 -2.259 0.1898580  3.547 Up         0.136\n",
       "30   1990  3.547 -4.978 -2.292 -2.708 -2.428 0.1278840  0.260 Up        -2.270\n",
       "...  ...  ...    ...    ...    ...    ...    ...       ...    ...       ...   \n",
       "1060 2010 -2.252  0.158 -4.226  2.232 -6.388 5.368597   2.509 Up        -2.074\n",
       "1061 2010  2.509 -2.252  0.158 -4.226  2.232 5.369514   2.374 Up         1.974\n",
       "1062 2010  2.374  2.509 -2.252  0.158 -4.226 4.637208  -3.646 Down       2.351\n",
       "1063 2010 -3.646  2.374  2.509 -2.252  0.158 4.699712  -5.032 Down       4.626\n",
       "1064 2010 -5.032 -3.646  2.374  2.509 -2.252 5.100892   5.416 Up        -6.155\n",
       "1065 2010  5.416 -5.032 -3.646  2.374  2.509 4.419372  -1.213 Down      -7.406\n",
       "1066 2010 -1.213  5.416 -5.032 -3.646  2.374 4.487664   3.548 Up         9.062\n",
       "1067 2010  3.548 -1.213  5.416 -5.032 -3.646 4.580286  -0.096 Down       3.819\n",
       "1068 2010 -0.096  3.548 -1.213  5.416 -5.032 4.271320   1.819 Up        -1.868\n",
       "1069 2010  1.819 -0.096  3.548 -1.213  5.416 3.963460  -3.779 Down       1.117\n",
       "1070 2010 -3.779  1.819 -0.096  3.548 -1.213 3.906558  -0.700 Down      -1.729\n",
       "1071 2010 -0.700 -3.779  1.819 -0.096  3.548 3.777406  -0.663 Down      -3.683\n",
       "1072 2010 -0.663 -0.700 -3.779  1.819 -0.096 3.951328   3.750 Up        -2.519\n",
       "1073 2010  3.750 -0.663 -0.700 -3.779  1.819 3.718470   0.456 Up         3.116\n",
       "1074 2010  0.456  3.750 -0.663 -0.700 -3.779 3.195238   1.446 Up         4.450\n",
       "1075 2010  1.446  0.456  3.750 -0.663 -0.700 3.972432   2.050 Up         1.119\n",
       "1076 2010  2.050  1.446  0.456  3.750 -0.663 3.884522  -0.212 Down      -2.304\n",
       "1077 2010 -0.212  2.050  1.446  0.456  3.750 4.037410   1.650 Up         1.594\n",
       "1078 2010  1.650 -0.212  2.050  1.446  0.456 3.905616   0.948 Up        -1.658\n",
       "1079 2010  0.948  1.650 -0.212  2.050  1.446 4.449160   0.586 Up        -0.400\n",
       "1080 2010  0.586  0.948  1.650 -0.212  2.050 4.576282   0.015 Up         1.160\n",
       "1081 2010  0.015  0.586  0.948  1.650 -0.212 4.116414   3.599 Up        -1.064\n",
       "1082 2010  3.599  0.015  0.586  0.948  1.650 4.798758  -2.173 Down      -0.933\n",
       "1083 2010 -2.173  3.599  0.015  0.586  0.948 4.298262   0.043 Up         3.013\n",
       "1084 2010  0.043 -2.173  3.599  0.015  0.586 4.177436  -0.861 Down      -2.188\n",
       "1085 2010 -0.861  0.043 -2.173  3.599  0.015 3.205160   2.969 Up        -3.556\n",
       "1086 2010  2.969 -0.861  0.043 -2.173  3.599 4.242568   1.281 Up         1.312\n",
       "1087 2010  1.281  2.969 -0.861  0.043 -2.173 4.835082   0.283 Up         2.926\n",
       "1088 2010  0.283  1.281  2.969 -0.861  0.043 4.454044   1.034 Up         2.142\n",
       "1089 2010  1.034  0.283  1.281  2.969 -0.861 2.707105   0.069 Up        -2.686"
      ]
     },
     "metadata": {},
     "output_type": "display_data"
    }
   ],
   "source": [
    "library(ISLR)\n",
    "library(MASS)\n",
    "library(class)\n",
    "Weekly"
   ]
  },
  {
   "cell_type": "code",
   "execution_count": 55,
   "metadata": {},
   "outputs": [
    {
     "data": {
      "text/html": [
       "<ol class=list-inline>\n",
       "\t<li>'Year'</li>\n",
       "\t<li>'Lag1'</li>\n",
       "\t<li>'Lag2'</li>\n",
       "\t<li>'Lag3'</li>\n",
       "\t<li>'Lag4'</li>\n",
       "\t<li>'Lag5'</li>\n",
       "\t<li>'Volume'</li>\n",
       "\t<li>'Today'</li>\n",
       "\t<li>'Direction'</li>\n",
       "\t<li>'Dif'</li>\n",
       "</ol>\n"
      ],
      "text/latex": [
       "\\begin{enumerate*}\n",
       "\\item 'Year'\n",
       "\\item 'Lag1'\n",
       "\\item 'Lag2'\n",
       "\\item 'Lag3'\n",
       "\\item 'Lag4'\n",
       "\\item 'Lag5'\n",
       "\\item 'Volume'\n",
       "\\item 'Today'\n",
       "\\item 'Direction'\n",
       "\\item 'Dif'\n",
       "\\end{enumerate*}\n"
      ],
      "text/markdown": [
       "1. 'Year'\n",
       "2. 'Lag1'\n",
       "3. 'Lag2'\n",
       "4. 'Lag3'\n",
       "5. 'Lag4'\n",
       "6. 'Lag5'\n",
       "7. 'Volume'\n",
       "8. 'Today'\n",
       "9. 'Direction'\n",
       "10. 'Dif'\n",
       "\n",
       "\n"
      ],
      "text/plain": [
       " [1] \"Year\"      \"Lag1\"      \"Lag2\"      \"Lag3\"      \"Lag4\"      \"Lag5\"     \n",
       " [7] \"Volume\"    \"Today\"     \"Direction\" \"Dif\"      "
      ]
     },
     "metadata": {},
     "output_type": "display_data"
    }
   ],
   "source": [
    "names(Weekly)"
   ]
  },
  {
   "cell_type": "code",
   "execution_count": 56,
   "metadata": {},
   "outputs": [
    {
     "data": {
      "text/html": [
       "<dl class=dl-horizontal>\n",
       "\t<dt>Year</dt>\n",
       "\t\t<dd>'numeric'</dd>\n",
       "\t<dt>Lag1</dt>\n",
       "\t\t<dd>'numeric'</dd>\n",
       "\t<dt>Lag2</dt>\n",
       "\t\t<dd>'numeric'</dd>\n",
       "\t<dt>Lag3</dt>\n",
       "\t\t<dd>'numeric'</dd>\n",
       "\t<dt>Lag4</dt>\n",
       "\t\t<dd>'numeric'</dd>\n",
       "\t<dt>Lag5</dt>\n",
       "\t\t<dd>'numeric'</dd>\n",
       "\t<dt>Volume</dt>\n",
       "\t\t<dd>'numeric'</dd>\n",
       "\t<dt>Today</dt>\n",
       "\t\t<dd>'numeric'</dd>\n",
       "\t<dt>Direction</dt>\n",
       "\t\t<dd>'factor'</dd>\n",
       "\t<dt>Dif</dt>\n",
       "\t\t<dd>'numeric'</dd>\n",
       "</dl>\n"
      ],
      "text/latex": [
       "\\begin{description*}\n",
       "\\item[Year] 'numeric'\n",
       "\\item[Lag1] 'numeric'\n",
       "\\item[Lag2] 'numeric'\n",
       "\\item[Lag3] 'numeric'\n",
       "\\item[Lag4] 'numeric'\n",
       "\\item[Lag5] 'numeric'\n",
       "\\item[Volume] 'numeric'\n",
       "\\item[Today] 'numeric'\n",
       "\\item[Direction] 'factor'\n",
       "\\item[Dif] 'numeric'\n",
       "\\end{description*}\n"
      ],
      "text/markdown": [
       "Year\n",
       ":   'numeric'Lag1\n",
       ":   'numeric'Lag2\n",
       ":   'numeric'Lag3\n",
       ":   'numeric'Lag4\n",
       ":   'numeric'Lag5\n",
       ":   'numeric'Volume\n",
       ":   'numeric'Today\n",
       ":   'numeric'Direction\n",
       ":   'factor'Dif\n",
       ":   'numeric'\n",
       "\n"
      ],
      "text/plain": [
       "     Year      Lag1      Lag2      Lag3      Lag4      Lag5    Volume     Today \n",
       "\"numeric\" \"numeric\" \"numeric\" \"numeric\" \"numeric\" \"numeric\" \"numeric\" \"numeric\" \n",
       "Direction       Dif \n",
       " \"factor\" \"numeric\" "
      ]
     },
     "metadata": {},
     "output_type": "display_data"
    }
   ],
   "source": [
    "sapply(Weekly, class)"
   ]
  },
  {
   "cell_type": "markdown",
   "metadata": {},
   "source": [
    "(a) Produce some numerical and graphical summaries of the Weekly\n",
    "data. Do there appear to be any patterns?"
   ]
  },
  {
   "cell_type": "code",
   "execution_count": 57,
   "metadata": {},
   "outputs": [
    {
     "data": {
      "text/plain": [
       "      Year           Lag1               Lag2               Lag3         \n",
       " Min.   :1990   Min.   :-18.1950   Min.   :-18.1950   Min.   :-18.1950  \n",
       " 1st Qu.:1995   1st Qu.: -1.1540   1st Qu.: -1.1540   1st Qu.: -1.1580  \n",
       " Median :2000   Median :  0.2410   Median :  0.2410   Median :  0.2410  \n",
       " Mean   :2000   Mean   :  0.1506   Mean   :  0.1511   Mean   :  0.1472  \n",
       " 3rd Qu.:2005   3rd Qu.:  1.4050   3rd Qu.:  1.4090   3rd Qu.:  1.4090  \n",
       " Max.   :2010   Max.   : 12.0260   Max.   : 12.0260   Max.   : 12.0260  \n",
       "      Lag4               Lag5              Volume            Today         \n",
       " Min.   :-18.1950   Min.   :-18.1950   Min.   :0.08747   Min.   :-18.1950  \n",
       " 1st Qu.: -1.1580   1st Qu.: -1.1660   1st Qu.:0.33202   1st Qu.: -1.1540  \n",
       " Median :  0.2380   Median :  0.2340   Median :1.00268   Median :  0.2410  \n",
       " Mean   :  0.1458   Mean   :  0.1399   Mean   :1.57462   Mean   :  0.1499  \n",
       " 3rd Qu.:  1.4090   3rd Qu.:  1.4050   3rd Qu.:2.05373   3rd Qu.:  1.4050  \n",
       " Max.   : 12.0260   Max.   : 12.0260   Max.   :9.32821   Max.   : 12.0260  \n",
       " Direction       Dif            \n",
       " Down:484   Min.   :-16.689000  \n",
       " Up  :605   1st Qu.: -1.815000  \n",
       "            Median : -0.055000  \n",
       "            Mean   :  0.005261  \n",
       "            3rd Qu.:  1.676000  \n",
       "            Max.   : 18.224000  "
      ]
     },
     "metadata": {},
     "output_type": "display_data"
    },
    {
     "data": {
      "text/html": [
       "<ol class=list-inline>\n",
       "\t<li>1089</li>\n",
       "\t<li>10</li>\n",
       "</ol>\n"
      ],
      "text/latex": [
       "\\begin{enumerate*}\n",
       "\\item 1089\n",
       "\\item 10\n",
       "\\end{enumerate*}\n"
      ],
      "text/markdown": [
       "1. 1089\n",
       "2. 10\n",
       "\n",
       "\n"
      ],
      "text/plain": [
       "[1] 1089   10"
      ]
     },
     "metadata": {},
     "output_type": "display_data"
    }
   ],
   "source": [
    "summary(Weekly)\n",
    "dim(Weekly)"
   ]
  },
  {
   "cell_type": "code",
   "execution_count": 58,
   "metadata": {},
   "outputs": [
    {
     "data": {
      "image/png": "[encoded data removed]",
      "text/plain": [
       "plot without title"
      ]
     },
     "metadata": {},
     "output_type": "display_data"
    }
   ],
   "source": [
    "pairs(Weekly)"
   ]
  },
  {
   "cell_type": "code",
   "execution_count": 59,
   "metadata": {},
   "outputs": [
    {
     "data": {
      "text/html": [
       "<table>\n",
       "<thead><tr><th></th><th scope=col>Year</th><th scope=col>Lag1</th><th scope=col>Lag2</th><th scope=col>Lag3</th><th scope=col>Lag4</th><th scope=col>Lag5</th><th scope=col>Volume</th><th scope=col>Today</th><th scope=col>Dif</th></tr></thead>\n",
       "<tbody>\n",
       "\t<tr><th scope=row>Year</th><td> 1.000000000 </td><td>-0.032289274 </td><td>-0.03339001  </td><td>-0.0300064918</td><td>-0.031127923 </td><td>-0.030519101 </td><td> 0.84194162  </td><td>-0.032459894 </td><td>-0.0016182339</td></tr>\n",
       "\t<tr><th scope=row>Lag1</th><td>-0.032289274 </td><td> 1.000000000 </td><td>-0.07485305  </td><td> 0.0586356820</td><td>-0.071273876 </td><td>-0.008183096 </td><td>-0.06495131  </td><td>-0.075031842 </td><td>-0.0025398659</td></tr>\n",
       "\t<tr><th scope=row>Lag2</th><td>-0.033390009 </td><td>-0.074853051 </td><td> 1.00000000  </td><td>-0.0757209131</td><td> 0.058381535 </td><td>-0.072499482 </td><td>-0.08551314  </td><td> 0.059166717 </td><td> 0.6856607643</td></tr>\n",
       "\t<tr><th scope=row>Lag3</th><td>-0.030006492 </td><td> 0.058635682 </td><td>-0.07572091  </td><td> 1.0000000000</td><td>-0.075395865 </td><td> 0.060657175 </td><td>-0.06928771  </td><td>-0.071243639 </td><td>-0.0001662596</td></tr>\n",
       "\t<tr><th scope=row>Lag4</th><td>-0.031127923 </td><td>-0.071273876 </td><td> 0.05838153  </td><td>-0.0753958654</td><td> 1.000000000 </td><td>-0.075675027 </td><td>-0.06107462  </td><td>-0.007825873 </td><td>-0.6866497181</td></tr>\n",
       "\t<tr><th scope=row>Lag5</th><td>-0.030519101 </td><td>-0.008183096 </td><td>-0.07249948  </td><td> 0.0606571748</td><td>-0.075675027 </td><td> 1.000000000 </td><td>-0.05851741  </td><td> 0.011012698 </td><td> 0.0023832393</td></tr>\n",
       "\t<tr><th scope=row>Volume</th><td> 0.841941619 </td><td>-0.064951313 </td><td>-0.08551314  </td><td>-0.0692877120</td><td>-0.061074617 </td><td>-0.058517414 </td><td> 1.00000000  </td><td>-0.033077783 </td><td>-0.0177398112</td></tr>\n",
       "\t<tr><th scope=row>Today</th><td>-0.032459894 </td><td>-0.075031842 </td><td> 0.05916672  </td><td>-0.0712436389</td><td>-0.007825873 </td><td> 0.011012698 </td><td>-0.03307778  </td><td> 1.000000000 </td><td> 0.0487933620</td></tr>\n",
       "\t<tr><th scope=row>Dif</th><td>-0.001618234 </td><td>-0.002539866 </td><td> 0.68566076  </td><td>-0.0001662596</td><td>-0.686649718 </td><td> 0.002383239 </td><td>-0.01773981  </td><td> 0.048793362 </td><td> 1.0000000000</td></tr>\n",
       "</tbody>\n",
       "</table>\n"
      ],
      "text/latex": [
       "\\begin{tabular}{r|lllllllll}\n",
       "  & Year & Lag1 & Lag2 & Lag3 & Lag4 & Lag5 & Volume & Today & Dif\\\\\n",
       "\\hline\n",
       "\tYear &  1.000000000  & -0.032289274  & -0.03339001   & -0.0300064918 & -0.031127923  & -0.030519101  &  0.84194162   & -0.032459894  & -0.0016182339\\\\\n",
       "\tLag1 & -0.032289274  &  1.000000000  & -0.07485305   &  0.0586356820 & -0.071273876  & -0.008183096  & -0.06495131   & -0.075031842  & -0.0025398659\\\\\n",
       "\tLag2 & -0.033390009  & -0.074853051  &  1.00000000   & -0.0757209131 &  0.058381535  & -0.072499482  & -0.08551314   &  0.059166717  &  0.6856607643\\\\\n",
       "\tLag3 & -0.030006492  &  0.058635682  & -0.07572091   &  1.0000000000 & -0.075395865  &  0.060657175  & -0.06928771   & -0.071243639  & -0.0001662596\\\\\n",
       "\tLag4 & -0.031127923  & -0.071273876  &  0.05838153   & -0.0753958654 &  1.000000000  & -0.075675027  & -0.06107462   & -0.007825873  & -0.6866497181\\\\\n",
       "\tLag5 & -0.030519101  & -0.008183096  & -0.07249948   &  0.0606571748 & -0.075675027  &  1.000000000  & -0.05851741   &  0.011012698  &  0.0023832393\\\\\n",
       "\tVolume &  0.841941619  & -0.064951313  & -0.08551314   & -0.0692877120 & -0.061074617  & -0.058517414  &  1.00000000   & -0.033077783  & -0.0177398112\\\\\n",
       "\tToday & -0.032459894  & -0.075031842  &  0.05916672   & -0.0712436389 & -0.007825873  &  0.011012698  & -0.03307778   &  1.000000000  &  0.0487933620\\\\\n",
       "\tDif & -0.001618234  & -0.002539866  &  0.68566076   & -0.0001662596 & -0.686649718  &  0.002383239  & -0.01773981   &  0.048793362  &  1.0000000000\\\\\n",
       "\\end{tabular}\n"
      ],
      "text/markdown": [
       "\n",
       "| <!--/--> | Year | Lag1 | Lag2 | Lag3 | Lag4 | Lag5 | Volume | Today | Dif |\n",
       "|---|---|---|---|---|---|---|---|---|---|\n",
       "| Year |  1.000000000  | -0.032289274  | -0.03339001   | -0.0300064918 | -0.031127923  | -0.030519101  |  0.84194162   | -0.032459894  | -0.0016182339 |\n",
       "| Lag1 | -0.032289274  |  1.000000000  | -0.07485305   |  0.0586356820 | -0.071273876  | -0.008183096  | -0.06495131   | -0.075031842  | -0.0025398659 |\n",
       "| Lag2 | -0.033390009  | -0.074853051  |  1.00000000   | -0.0757209131 |  0.058381535  | -0.072499482  | -0.08551314   |  0.059166717  |  0.6856607643 |\n",
       "| Lag3 | -0.030006492  |  0.058635682  | -0.07572091   |  1.0000000000 | -0.075395865  |  0.060657175  | -0.06928771   | -0.071243639  | -0.0001662596 |\n",
       "| Lag4 | -0.031127923  | -0.071273876  |  0.05838153   | -0.0753958654 |  1.000000000  | -0.075675027  | -0.06107462   | -0.007825873  | -0.6866497181 |\n",
       "| Lag5 | -0.030519101  | -0.008183096  | -0.07249948   |  0.0606571748 | -0.075675027  |  1.000000000  | -0.05851741   |  0.011012698  |  0.0023832393 |\n",
       "| Volume |  0.841941619  | -0.064951313  | -0.08551314   | -0.0692877120 | -0.061074617  | -0.058517414  |  1.00000000   | -0.033077783  | -0.0177398112 |\n",
       "| Today | -0.032459894  | -0.075031842  |  0.05916672   | -0.0712436389 | -0.007825873  |  0.011012698  | -0.03307778   |  1.000000000  |  0.0487933620 |\n",
       "| Dif | -0.001618234  | -0.002539866  |  0.68566076   | -0.0001662596 | -0.686649718  |  0.002383239  | -0.01773981   |  0.048793362  |  1.0000000000 |\n",
       "\n"
      ],
      "text/plain": [
       "       Year         Lag1         Lag2        Lag3          Lag4        \n",
       "Year    1.000000000 -0.032289274 -0.03339001 -0.0300064918 -0.031127923\n",
       "Lag1   -0.032289274  1.000000000 -0.07485305  0.0586356820 -0.071273876\n",
       "Lag2   -0.033390009 -0.074853051  1.00000000 -0.0757209131  0.058381535\n",
       "Lag3   -0.030006492  0.058635682 -0.07572091  1.0000000000 -0.075395865\n",
       "Lag4   -0.031127923 -0.071273876  0.05838153 -0.0753958654  1.000000000\n",
       "Lag5   -0.030519101 -0.008183096 -0.07249948  0.0606571748 -0.075675027\n",
       "Volume  0.841941619 -0.064951313 -0.08551314 -0.0692877120 -0.061074617\n",
       "Today  -0.032459894 -0.075031842  0.05916672 -0.0712436389 -0.007825873\n",
       "Dif    -0.001618234 -0.002539866  0.68566076 -0.0001662596 -0.686649718\n",
       "       Lag5         Volume      Today        Dif          \n",
       "Year   -0.030519101  0.84194162 -0.032459894 -0.0016182339\n",
       "Lag1   -0.008183096 -0.06495131 -0.075031842 -0.0025398659\n",
       "Lag2   -0.072499482 -0.08551314  0.059166717  0.6856607643\n",
       "Lag3    0.060657175 -0.06928771 -0.071243639 -0.0001662596\n",
       "Lag4   -0.075675027 -0.06107462 -0.007825873 -0.6866497181\n",
       "Lag5    1.000000000 -0.05851741  0.011012698  0.0023832393\n",
       "Volume -0.058517414  1.00000000 -0.033077783 -0.0177398112\n",
       "Today   0.011012698 -0.03307778  1.000000000  0.0487933620\n",
       "Dif     0.002383239 -0.01773981  0.048793362  1.0000000000"
      ]
     },
     "metadata": {},
     "output_type": "display_data"
    }
   ],
   "source": [
    "cor(Weekly[,-9])"
   ]
  },
  {
   "cell_type": "markdown",
   "metadata": {},
   "source": [
    "(b) Use the full data set to perform a logistic regression with\n",
    "Direction as the response and the five lag variables plus Volume\n",
    "as predictors. Use the summary function to print the results. Do\n",
    "any of the predictors appear to be statistically significant? If so,\n",
    "which ones?"
   ]
  },
  {
   "cell_type": "code",
   "execution_count": 60,
   "metadata": {},
   "outputs": [
    {
     "name": "stdout",
     "output_type": "stream",
     "text": [
      "\n",
      "Call:  glm(formula = Direction ~ Lag1 + Lag2 + Lag3 + Lag4 + Lag5 + \n",
      "    Volume, family = family, data = data, subset = NULL)\n",
      "\n",
      "Coefficients:\n",
      "(Intercept)         Lag1         Lag2         Lag3         Lag4         Lag5  \n",
      "    0.26686     -0.04127      0.05844     -0.01606     -0.02779     -0.01447  \n",
      "     Volume  \n",
      "   -0.02274  \n",
      "\n",
      "Degrees of Freedom: 1088 Total (i.e. Null);  1082 Residual\n",
      "Null Deviance:\t    1496 \n",
      "Residual Deviance: 1486 \tAIC: 1500\n",
      "\n",
      "Call:\n",
      "glm(formula = Direction ~ Lag1 + Lag2 + Lag3 + Lag4 + Lag5 + \n",
      "    Volume, family = family, data = data, subset = NULL)\n",
      "\n",
      "Deviance Residuals: \n",
      "    Min       1Q   Median       3Q      Max  \n",
      "-1.6949  -1.2565   0.9913   1.0849   1.4579  \n",
      "\n",
      "Coefficients:\n",
      "            Estimate Std. Error z value Pr(>|z|)   \n",
      "(Intercept)  0.26686    0.08593   3.106   0.0019 **\n",
      "Lag1        -0.04127    0.02641  -1.563   0.1181   \n",
      "Lag2         0.05844    0.02686   2.175   0.0296 * \n",
      "Lag3        -0.01606    0.02666  -0.602   0.5469   \n",
      "Lag4        -0.02779    0.02646  -1.050   0.2937   \n",
      "Lag5        -0.01447    0.02638  -0.549   0.5833   \n",
      "Volume      -0.02274    0.03690  -0.616   0.5377   \n",
      "---\n",
      "Signif. codes:  0 '***' 0.001 '**' 0.01 '*' 0.05 '.' 0.1 ' ' 1\n",
      "\n",
      "(Dispersion parameter for binomial family taken to be 1)\n",
      "\n",
      "    Null deviance: 1496.2  on 1088  degrees of freedom\n",
      "Residual deviance: 1486.4  on 1082  degrees of freedom\n",
      "AIC: 1500.4\n",
      "\n",
      "Number of Fisher Scoring iterations: 4\n",
      "\n"
     ]
    }
   ],
   "source": [
    "glm_probs = probs_Classification('glm', Direction~Lag1+Lag2+Lag3+Lag4+Lag5+Volume, Weekly, Weekly, family='binomial')"
   ]
  },
  {
   "cell_type": "markdown",
   "metadata": {},
   "source": [
    "Best p-value is for Lag2, 0.0296"
   ]
  },
  {
   "cell_type": "markdown",
   "metadata": {},
   "source": [
    "(c) Compute the confusion matrix and overall fraction of correct\n",
    "predictions. Explain what the confusion matrix is telling you\n",
    "about the types of mistakes made by logistic regression."
   ]
  },
  {
   "cell_type": "markdown",
   "metadata": {},
   "source": [
    "Confusion matrix"
   ]
  },
  {
   "cell_type": "code",
   "execution_count": 61,
   "metadata": {},
   "outputs": [
    {
     "name": "stdout",
     "output_type": "stream",
     "text": [
      "      y\n",
      "y_pred Down  Up\n",
      "  Down   54  48\n",
      "  UP    430 557\n",
      "[1] 0.5610652\n"
     ]
    }
   ],
   "source": [
    "res=Predictions(glm_probs, Weekly$Direction, \"Down\", \"UP\", 1089)\n",
    "glm_pred = rep(\"Down\", 1089)\n",
    "glm_pred[glm_probs>0.5] =\"Up\" \n",
    "print(res)"
   ]
  },
  {
   "cell_type": "markdown",
   "metadata": {},
   "source": [
    "Confusion matrix says how many \"Up\" and \"Down\" directions where classified correctly and how many were missclassified. 56% were classified correctly and 44% missed classified "
   ]
  },
  {
   "cell_type": "markdown",
   "metadata": {},
   "source": [
    "(d) Now fit the logistic regression model using a training data period\n",
    "from 1990 to 2008, with Lag2 as the only predictor. Compute the\n",
    "confusion matrix and the overall fraction of correct predictions\n",
    "for the held out data (that is, the data from 2009 and 2010).\n"
   ]
  },
  {
   "cell_type": "code",
   "execution_count": 62,
   "metadata": {},
   "outputs": [],
   "source": [
    "train = (Weekly$Year<2009)\n",
    "Weekly.test = Weekly[!train,]\n",
    "Weekly.train = Weekly[train,]"
   ]
  },
  {
   "cell_type": "code",
   "execution_count": 63,
   "metadata": {},
   "outputs": [
    {
     "data": {
      "text/html": [
       "<ol class=list-inline>\n",
       "\t<li>104</li>\n",
       "\t<li>10</li>\n",
       "</ol>\n"
      ],
      "text/latex": [
       "\\begin{enumerate*}\n",
       "\\item 104\n",
       "\\item 10\n",
       "\\end{enumerate*}\n"
      ],
      "text/markdown": [
       "1. 104\n",
       "2. 10\n",
       "\n",
       "\n"
      ],
      "text/plain": [
       "[1] 104  10"
      ]
     },
     "metadata": {},
     "output_type": "display_data"
    }
   ],
   "source": [
    "dim(Weekly.test)"
   ]
  },
  {
   "cell_type": "code",
   "execution_count": 64,
   "metadata": {
    "scrolled": true
   },
   "outputs": [
    {
     "name": "stdout",
     "output_type": "stream",
     "text": [
      "\n",
      "Call:  glm(formula = Direction ~ Lag2, family = family, data = data, \n",
      "    subset = NULL)\n",
      "\n",
      "Coefficients:\n",
      "(Intercept)         Lag2  \n",
      "     0.2033       0.0581  \n",
      "\n",
      "Degrees of Freedom: 984 Total (i.e. Null);  983 Residual\n",
      "Null Deviance:\t    1355 \n",
      "Residual Deviance: 1351 \tAIC: 1355\n",
      "\n",
      "Call:\n",
      "glm(formula = Direction ~ Lag2, family = family, data = data, \n",
      "    subset = NULL)\n",
      "\n",
      "Deviance Residuals: \n",
      "   Min      1Q  Median      3Q     Max  \n",
      "-1.536  -1.264   1.021   1.091   1.368  \n",
      "\n",
      "Coefficients:\n",
      "            Estimate Std. Error z value Pr(>|z|)   \n",
      "(Intercept)  0.20326    0.06428   3.162  0.00157 **\n",
      "Lag2         0.05810    0.02870   2.024  0.04298 * \n",
      "---\n",
      "Signif. codes:  0 '***' 0.001 '**' 0.01 '*' 0.05 '.' 0.1 ' ' 1\n",
      "\n",
      "(Dispersion parameter for binomial family taken to be 1)\n",
      "\n",
      "    Null deviance: 1354.7  on 984  degrees of freedom\n",
      "Residual deviance: 1350.5  on 983  degrees of freedom\n",
      "AIC: 1354.5\n",
      "\n",
      "Number of Fisher Scoring iterations: 4\n",
      "\n"
     ]
    }
   ],
   "source": [
    "test.probs=probs_Classification('glm', Direction~Lag2, Weekly.train, Weekly.test, family='binomial')"
   ]
  },
  {
   "cell_type": "code",
   "execution_count": 65,
   "metadata": {},
   "outputs": [
    {
     "name": "stdout",
     "output_type": "stream",
     "text": [
      "      y\n",
      "y_pred Down Up\n",
      "  Down    9  5\n",
      "  UP     34 56\n",
      "[1] 0.625\n"
     ]
    }
   ],
   "source": [
    "cm=Predictions(test.probs, Weekly.test$Direction, \"Down\", \"UP\", 104)\n",
    "print(cm)"
   ]
  },
  {
   "cell_type": "markdown",
   "metadata": {},
   "source": [
    "(e) Repeat (d) using LDA."
   ]
  },
  {
   "cell_type": "code",
   "execution_count": 66,
   "metadata": {},
   "outputs": [
    {
     "name": "stdout",
     "output_type": "stream",
     "text": [
      "Call:\n",
      "lda(Direction ~ Lag2, data = data, family = family, subset = NULL)\n",
      "\n",
      "Prior probabilities of groups:\n",
      "     Down        Up \n",
      "0.4477157 0.5522843 \n",
      "\n",
      "Group means:\n",
      "            Lag2\n",
      "Down -0.03568254\n",
      "Up    0.26036581\n",
      "\n",
      "Coefficients of linear discriminants:\n",
      "           LD1\n",
      "Lag2 0.4414162\n",
      "        Length Class  Mode     \n",
      "prior   2      -none- numeric  \n",
      "counts  2      -none- numeric  \n",
      "means   2      -none- numeric  \n",
      "scaling 1      -none- numeric  \n",
      "lev     2      -none- character\n",
      "svd     1      -none- numeric  \n",
      "N       1      -none- numeric  \n",
      "call    5      -none- call     \n",
      "terms   3      terms  call     \n",
      "xlevels 0      -none- list     \n"
     ]
    }
   ],
   "source": [
    "test.probs=probs_Classification('lda', Direction~Lag2, Weekly.train, Weekly.test)"
   ]
  },
  {
   "cell_type": "code",
   "execution_count": 67,
   "metadata": {
    "scrolled": true
   },
   "outputs": [
    {
     "data": {
      "text/plain": [
       "      \n",
       "       Down Up\n",
       "  Down    9  5\n",
       "  Up     34 56"
      ]
     },
     "metadata": {},
     "output_type": "display_data"
    }
   ],
   "source": [
    "table(test.probs$class, Weekly.test$Direction)"
   ]
  },
  {
   "cell_type": "markdown",
   "metadata": {},
   "source": [
    "right_pred = 0.625"
   ]
  },
  {
   "cell_type": "markdown",
   "metadata": {},
   "source": [
    "(f) Repeat (d) using QDA."
   ]
  },
  {
   "cell_type": "code",
   "execution_count": 68,
   "metadata": {},
   "outputs": [
    {
     "name": "stdout",
     "output_type": "stream",
     "text": [
      "Call:\n",
      "qda(Direction ~ Lag2, data = data, family = family, subset = NULL)\n",
      "\n",
      "Prior probabilities of groups:\n",
      "     Down        Up \n",
      "0.4477157 0.5522843 \n",
      "\n",
      "Group means:\n",
      "            Lag2\n",
      "Down -0.03568254\n",
      "Up    0.26036581\n",
      "        Length Class  Mode     \n",
      "prior   2      -none- numeric  \n",
      "counts  2      -none- numeric  \n",
      "means   2      -none- numeric  \n",
      "scaling 2      -none- numeric  \n",
      "ldet    2      -none- numeric  \n",
      "lev     2      -none- character\n",
      "N       1      -none- numeric  \n",
      "call    5      -none- call     \n",
      "terms   3      terms  call     \n",
      "xlevels 0      -none- list     \n"
     ]
    }
   ],
   "source": [
    "test.probs=probs_Classification('qda', Direction~Lag2, Weekly.train, Weekly.test)"
   ]
  },
  {
   "cell_type": "code",
   "execution_count": 69,
   "metadata": {
    "scrolled": false
   },
   "outputs": [
    {
     "data": {
      "text/plain": [
       "      \n",
       "       Down Up\n",
       "  Down    0  0\n",
       "  Up     43 61"
      ]
     },
     "metadata": {},
     "output_type": "display_data"
    }
   ],
   "source": [
    "table(test.probs$class, Weekly.test$Direction)"
   ]
  },
  {
   "cell_type": "markdown",
   "metadata": {},
   "source": [
    "(g) Repeat (d) using KNN."
   ]
  },
  {
   "cell_type": "code",
   "execution_count": 70,
   "metadata": {},
   "outputs": [
    {
     "name": "stdout",
     "output_type": "stream",
     "text": [
      "  [1] Up   Up   Down Down Down Up   Up   Down Up   Down Up   Down Up   Up   Up  \n",
      " [16] Down Down Down Down Up   Down Down Up   Down Down Down Up   Down Down Up  \n",
      " [31] Up   Up   Up   Down Up   Up   Up   Down Down Up   Down Down Down Down Up  \n",
      " [46] Down Down Up   Down Up   Up   Up   Down Down Up   Up   Down Up   Down Down\n",
      " [61] Up   Down Down Down Down Down Down Up   Up   Up   Up   Up   Down Up   Up  \n",
      " [76] Up   Up   Up   Down Up   Up   Up   Down Down Down Up   Up   Up   Up   Up  \n",
      " [91] Up   Up   Down Down Down Up   Down Up   Down Down Up   Down Down Up  \n",
      "Levels: Down Up\n"
     ]
    }
   ],
   "source": [
    "set.seed(1)\n",
    "knn.pred=knn(data.frame(Weekly$Lag2[train]), data.frame(Weekly$Lag2[!train]), cl=Weekly$Direction[train], k=1)\n",
    "print(knn.pred)"
   ]
  },
  {
   "cell_type": "code",
   "execution_count": 71,
   "metadata": {},
   "outputs": [
    {
     "data": {
      "text/plain": [
       "        \n",
       "knn.pred Down Up\n",
       "    Down   21 30\n",
       "    Up     22 31"
      ]
     },
     "metadata": {},
     "output_type": "display_data"
    }
   ],
   "source": [
    "table(knn.pred, Weekly.test$Direction)"
   ]
  },
  {
   "cell_type": "markdown",
   "metadata": {},
   "source": [
    "right_pred = 0.5"
   ]
  },
  {
   "cell_type": "markdown",
   "metadata": {},
   "source": [
    "(h) Which of these methods appears to provide the best results on\n",
    "this data?"
   ]
  },
  {
   "cell_type": "markdown",
   "metadata": {},
   "source": [
    "The best result 0.625 for right predictions fraction is for Logistic regression and LDA. "
   ]
  },
  {
   "cell_type": "markdown",
   "metadata": {},
   "source": [
    "(i) Experiment with different combinations of predictors, including possible transformations and interactions, for each of the\n",
    "methods. Report the variables, method, and associated confusion matrix that appears to provide the best results on the held\n",
    "out data. Note that you should also experiment with values for\n",
    "K in the KNN classifier."
   ]
  },
  {
   "cell_type": "code",
   "execution_count": 72,
   "metadata": {},
   "outputs": [
    {
     "name": "stdout",
     "output_type": "stream",
     "text": [
      "  [1] Up   Up   Down Down Up   Up   Up   Down Up   Down Up   Up   Up   Up   Up  \n",
      " [16] Up   Down Up   Down Up   Up   Down Up   Down Up   Down Up   Down Up   Up  \n",
      " [31] Up   Down Down Up   Down Up   Up   Down Down Up   Up   Up   Down Up   Up  \n",
      " [46] Up   Down Up   Up   Up   Up   Up   Up   Down Up   Down Down Down Up   Down\n",
      " [61] Up   Down Down Down Down Down Down Up   Up   Up   Down Up   Up   Down Up  \n",
      " [76] Up   Up   Up   Down Up   Up   Up   Up   Down Up   Down Up   Up   Down Down\n",
      " [91] Up   Up   Up   Up   Down Up   Down Up   Up   Up   Up   Up   Up   Up  \n",
      "Levels: Down Up\n"
     ]
    }
   ],
   "source": [
    "set.seed(1)\n",
    "knn.pred=knn(data.frame(Weekly$Lag2[train]), data.frame(Weekly$Lag2[!train]), cl=Weekly$Direction[train], k=4)\n",
    "print(knn.pred)"
   ]
  },
  {
   "cell_type": "code",
   "execution_count": 73,
   "metadata": {},
   "outputs": [
    {
     "data": {
      "text/plain": [
       "        \n",
       "knn.pred Down Up\n",
       "    Down   20 17\n",
       "    Up     23 44"
      ]
     },
     "metadata": {},
     "output_type": "display_data"
    }
   ],
   "source": [
    "table(knn.pred, Weekly.test$Direction)"
   ]
  },
  {
   "cell_type": "code",
   "execution_count": 74,
   "metadata": {},
   "outputs": [],
   "source": [
    "Weekly$Dif = Weekly$Lag2-Weekly$Lag4\n",
    "train = (Weekly$Year<2009)\n",
    "Weekly.test = Weekly[!train,]\n",
    "Weekly.train = Weekly[train,]"
   ]
  },
  {
   "cell_type": "code",
   "execution_count": 75,
   "metadata": {},
   "outputs": [
    {
     "name": "stdout",
     "output_type": "stream",
     "text": [
      "\n",
      "Call:  glm(formula = Direction ~ Dif, family = family, data = data, \n",
      "    subset = NULL)\n",
      "\n",
      "Coefficients:\n",
      "(Intercept)          Dif  \n",
      "    0.21047      0.03829  \n",
      "\n",
      "Degrees of Freedom: 984 Total (i.e. Null);  983 Residual\n",
      "Null Deviance:\t    1355 \n",
      "Residual Deviance: 1351 \tAIC: 1355\n",
      "\n",
      "Call:\n",
      "glm(formula = Direction ~ Dif, family = family, data = data, \n",
      "    subset = NULL)\n",
      "\n",
      "Deviance Residuals: \n",
      "   Min      1Q  Median      3Q     Max  \n",
      "-1.506  -1.258   1.034   1.093   1.364  \n",
      "\n",
      "Coefficients:\n",
      "            Estimate Std. Error z value Pr(>|z|)   \n",
      "(Intercept)  0.21047    0.06419   3.279  0.00104 **\n",
      "Dif          0.03829    0.02100   1.824  0.06817 . \n",
      "---\n",
      "Signif. codes:  0 '***' 0.001 '**' 0.01 '*' 0.05 '.' 0.1 ' ' 1\n",
      "\n",
      "(Dispersion parameter for binomial family taken to be 1)\n",
      "\n",
      "    Null deviance: 1354.7  on 984  degrees of freedom\n",
      "Residual deviance: 1351.3  on 983  degrees of freedom\n",
      "AIC: 1355.3\n",
      "\n",
      "Number of Fisher Scoring iterations: 4\n",
      "\n"
     ]
    }
   ],
   "source": [
    "test.probs=probs_Classification('glm', Direction~Dif, Weekly[train,], Weekly.test, family='binomial')"
   ]
  },
  {
   "cell_type": "code",
   "execution_count": 76,
   "metadata": {
    "scrolled": true
   },
   "outputs": [
    {
     "name": "stdout",
     "output_type": "stream",
     "text": [
      "      y\n",
      "y_pred Down Up\n",
      "  Down    6  3\n",
      "  Up     37 58\n"
     ]
    },
    {
     "data": {
      "text/html": [
       "0.615384615384615"
      ],
      "text/latex": [
       "0.615384615384615"
      ],
      "text/markdown": [
       "0.615384615384615"
      ],
      "text/plain": [
       "[1] 0.6153846"
      ]
     },
     "metadata": {},
     "output_type": "display_data"
    }
   ],
   "source": [
    "Predictions(test.probs,  Weekly.test$Direction, \"Down\", \"Up\", 104)"
   ]
  },
  {
   "cell_type": "markdown",
   "metadata": {},
   "source": [
    "## Problem 11"
   ]
  },
  {
   "cell_type": "markdown",
   "metadata": {},
   "source": [
    "See Python notebook"
   ]
  },
  {
   "cell_type": "markdown",
   "metadata": {},
   "source": [
    "## Problem 12"
   ]
  },
  {
   "cell_type": "code",
   "execution_count": 77,
   "metadata": {},
   "outputs": [
    {
     "name": "stdout",
     "output_type": "stream",
     "text": [
      "[1] 6561\n"
     ]
    }
   ],
   "source": [
    "Power = function(){\n",
    "    print(3^8)\n",
    "}\n",
    "Power()"
   ]
  },
  {
   "cell_type": "code",
   "execution_count": 78,
   "metadata": {},
   "outputs": [],
   "source": [
    "Power2 = function(x,a){\n",
    "    print(x^a)\n",
    "}"
   ]
  },
  {
   "cell_type": "code",
   "execution_count": 79,
   "metadata": {},
   "outputs": [
    {
     "name": "stdout",
     "output_type": "stream",
     "text": [
      "[1] 1000\n"
     ]
    }
   ],
   "source": [
    "Power2(10, 3)"
   ]
  },
  {
   "cell_type": "code",
   "execution_count": 80,
   "metadata": {},
   "outputs": [
    {
     "name": "stdout",
     "output_type": "stream",
     "text": [
      "[1] 2.2518e+15\n"
     ]
    }
   ],
   "source": [
    "Power2(8,17)"
   ]
  },
  {
   "cell_type": "code",
   "execution_count": 81,
   "metadata": {},
   "outputs": [],
   "source": [
    "Power3 = function(x,a){\n",
    "    return(x^a)\n",
    "}"
   ]
  },
  {
   "cell_type": "code",
   "execution_count": 82,
   "metadata": {},
   "outputs": [
    {
     "data": {
      "image/png": "[encoded data removed]",
      "text/plain": [
       "plot without title"
      ]
     },
     "metadata": {},
     "output_type": "display_data"
    }
   ],
   "source": [
    "PlotPower=function(x, a){\n",
    "    plot(x, Power3(x, 2))\n",
    "    }\n",
    "PlotPower(1:10, 2)"
   ]
  },
  {
   "cell_type": "markdown",
   "metadata": {},
   "source": [
    "## Problem 13"
   ]
  },
  {
   "cell_type": "code",
   "execution_count": 83,
   "metadata": {},
   "outputs": [
    {
     "data": {
      "text/html": [
       "<table>\n",
       "<thead><tr><th scope=col>crim</th><th scope=col>zn</th><th scope=col>indus</th><th scope=col>chas</th><th scope=col>nox</th><th scope=col>rm</th><th scope=col>age</th><th scope=col>dis</th><th scope=col>rad</th><th scope=col>tax</th><th scope=col>ptratio</th><th scope=col>black</th><th scope=col>lstat</th><th scope=col>medv</th><th scope=col>crim01</th></tr></thead>\n",
       "<tbody>\n",
       "\t<tr><td>0.00632</td><td>18     </td><td>2.31   </td><td>0      </td><td>0.538  </td><td>6.575  </td><td>65.2   </td><td>4.0900 </td><td>1      </td><td>296    </td><td>15.3   </td><td>396.90 </td><td>4.98   </td><td>24.0   </td><td>0      </td></tr>\n",
       "\t<tr><td>0.02731</td><td> 0     </td><td>7.07   </td><td>0      </td><td>0.469  </td><td>6.421  </td><td>78.9   </td><td>4.9671 </td><td>2      </td><td>242    </td><td>17.8   </td><td>396.90 </td><td>9.14   </td><td>21.6   </td><td>0      </td></tr>\n",
       "\t<tr><td>0.02729</td><td> 0     </td><td>7.07   </td><td>0      </td><td>0.469  </td><td>7.185  </td><td>61.1   </td><td>4.9671 </td><td>2      </td><td>242    </td><td>17.8   </td><td>392.83 </td><td>4.03   </td><td>34.7   </td><td>0      </td></tr>\n",
       "\t<tr><td>0.03237</td><td> 0     </td><td>2.18   </td><td>0      </td><td>0.458  </td><td>6.998  </td><td>45.8   </td><td>6.0622 </td><td>3      </td><td>222    </td><td>18.7   </td><td>394.63 </td><td>2.94   </td><td>33.4   </td><td>0      </td></tr>\n",
       "\t<tr><td>0.06905</td><td> 0     </td><td>2.18   </td><td>0      </td><td>0.458  </td><td>7.147  </td><td>54.2   </td><td>6.0622 </td><td>3      </td><td>222    </td><td>18.7   </td><td>396.90 </td><td>5.33   </td><td>36.2   </td><td>0      </td></tr>\n",
       "\t<tr><td>0.02985</td><td> 0     </td><td>2.18   </td><td>0      </td><td>0.458  </td><td>6.430  </td><td>58.7   </td><td>6.0622 </td><td>3      </td><td>222    </td><td>18.7   </td><td>394.12 </td><td>5.21   </td><td>28.7   </td><td>0      </td></tr>\n",
       "</tbody>\n",
       "</table>\n"
      ],
      "text/latex": [
       "\\begin{tabular}{r|lllllllllllllll}\n",
       " crim & zn & indus & chas & nox & rm & age & dis & rad & tax & ptratio & black & lstat & medv & crim01\\\\\n",
       "\\hline\n",
       "\t 0.00632 & 18      & 2.31    & 0       & 0.538   & 6.575   & 65.2    & 4.0900  & 1       & 296     & 15.3    & 396.90  & 4.98    & 24.0    & 0      \\\\\n",
       "\t 0.02731 &  0      & 7.07    & 0       & 0.469   & 6.421   & 78.9    & 4.9671  & 2       & 242     & 17.8    & 396.90  & 9.14    & 21.6    & 0      \\\\\n",
       "\t 0.02729 &  0      & 7.07    & 0       & 0.469   & 7.185   & 61.1    & 4.9671  & 2       & 242     & 17.8    & 392.83  & 4.03    & 34.7    & 0      \\\\\n",
       "\t 0.03237 &  0      & 2.18    & 0       & 0.458   & 6.998   & 45.8    & 6.0622  & 3       & 222     & 18.7    & 394.63  & 2.94    & 33.4    & 0      \\\\\n",
       "\t 0.06905 &  0      & 2.18    & 0       & 0.458   & 7.147   & 54.2    & 6.0622  & 3       & 222     & 18.7    & 396.90  & 5.33    & 36.2    & 0      \\\\\n",
       "\t 0.02985 &  0      & 2.18    & 0       & 0.458   & 6.430   & 58.7    & 6.0622  & 3       & 222     & 18.7    & 394.12  & 5.21    & 28.7    & 0      \\\\\n",
       "\\end{tabular}\n"
      ],
      "text/markdown": [
       "\n",
       "| crim | zn | indus | chas | nox | rm | age | dis | rad | tax | ptratio | black | lstat | medv | crim01 |\n",
       "|---|---|---|---|---|---|---|---|---|---|---|---|---|---|---|\n",
       "| 0.00632 | 18      | 2.31    | 0       | 0.538   | 6.575   | 65.2    | 4.0900  | 1       | 296     | 15.3    | 396.90  | 4.98    | 24.0    | 0       |\n",
       "| 0.02731 |  0      | 7.07    | 0       | 0.469   | 6.421   | 78.9    | 4.9671  | 2       | 242     | 17.8    | 396.90  | 9.14    | 21.6    | 0       |\n",
       "| 0.02729 |  0      | 7.07    | 0       | 0.469   | 7.185   | 61.1    | 4.9671  | 2       | 242     | 17.8    | 392.83  | 4.03    | 34.7    | 0       |\n",
       "| 0.03237 |  0      | 2.18    | 0       | 0.458   | 6.998   | 45.8    | 6.0622  | 3       | 222     | 18.7    | 394.63  | 2.94    | 33.4    | 0       |\n",
       "| 0.06905 |  0      | 2.18    | 0       | 0.458   | 7.147   | 54.2    | 6.0622  | 3       | 222     | 18.7    | 396.90  | 5.33    | 36.2    | 0       |\n",
       "| 0.02985 |  0      | 2.18    | 0       | 0.458   | 6.430   | 58.7    | 6.0622  | 3       | 222     | 18.7    | 394.12  | 5.21    | 28.7    | 0       |\n",
       "\n"
      ],
      "text/plain": [
       "  crim    zn indus chas nox   rm    age  dis    rad tax ptratio black  lstat\n",
       "1 0.00632 18 2.31  0    0.538 6.575 65.2 4.0900 1   296 15.3    396.90 4.98 \n",
       "2 0.02731  0 7.07  0    0.469 6.421 78.9 4.9671 2   242 17.8    396.90 9.14 \n",
       "3 0.02729  0 7.07  0    0.469 7.185 61.1 4.9671 2   242 17.8    392.83 4.03 \n",
       "4 0.03237  0 2.18  0    0.458 6.998 45.8 6.0622 3   222 18.7    394.63 2.94 \n",
       "5 0.06905  0 2.18  0    0.458 7.147 54.2 6.0622 3   222 18.7    396.90 5.33 \n",
       "6 0.02985  0 2.18  0    0.458 6.430 58.7 6.0622 3   222 18.7    394.12 5.21 \n",
       "  medv crim01\n",
       "1 24.0 0     \n",
       "2 21.6 0     \n",
       "3 34.7 0     \n",
       "4 33.4 0     \n",
       "5 36.2 0     \n",
       "6 28.7 0     "
      ]
     },
     "metadata": {},
     "output_type": "display_data"
    }
   ],
   "source": [
    "library(MASS)\n",
    "head(Boston)"
   ]
  },
  {
   "cell_type": "code",
   "execution_count": 84,
   "metadata": {},
   "outputs": [
    {
     "name": "stdout",
     "output_type": "stream",
     "text": [
      "[1] 0.25651\n"
     ]
    }
   ],
   "source": [
    "med_crim = median(Boston$crim)\n",
    "print(med_crim)"
   ]
  },
  {
   "cell_type": "code",
   "execution_count": 85,
   "metadata": {},
   "outputs": [],
   "source": [
    "Boston$crim01 = 0\n",
    "Boston$crim01[Boston$crim>med_crim] =1"
   ]
  },
  {
   "cell_type": "code",
   "execution_count": 86,
   "metadata": {},
   "outputs": [
    {
     "data": {
      "image/png": "[encoded data removed]",
      "text/plain": [
       "plot without title"
      ]
     },
     "metadata": {},
     "output_type": "display_data"
    }
   ],
   "source": [
    "pairs(Boston)"
   ]
  },
  {
   "cell_type": "code",
   "execution_count": 87,
   "metadata": {},
   "outputs": [
    {
     "name": "stdout",
     "output_type": "stream",
     "text": [
      "\n",
      "Call:  glm(formula = crim01 ~ nox + tax + rad, family = family, data = data, \n",
      "    subset = NULL)\n",
      "\n",
      "Coefficients:\n",
      "(Intercept)          nox          tax          rad  \n",
      " -20.075965    36.015644    -0.007801     0.631900  \n",
      "\n",
      "Degrees of Freedom: 505 Total (i.e. Null);  502 Residual\n",
      "Null Deviance:\t    701.5 \n",
      "Residual Deviance: 250.3 \tAIC: 258.3\n",
      "\n",
      "Call:\n",
      "glm(formula = crim01 ~ nox + tax + rad, family = family, data = data, \n",
      "    subset = NULL)\n",
      "\n",
      "Deviance Residuals: \n",
      "     Min        1Q    Median        3Q       Max  \n",
      "-1.94777  -0.28148  -0.01433   0.00495   2.54883  \n",
      "\n",
      "Coefficients:\n",
      "              Estimate Std. Error z value Pr(>|z|)    \n",
      "(Intercept) -20.075965   2.287688  -8.776  < 2e-16 ***\n",
      "nox          36.015644   4.338728   8.301  < 2e-16 ***\n",
      "tax          -0.007801   0.002184  -3.571 0.000355 ***\n",
      "rad           0.631900   0.111610   5.662  1.5e-08 ***\n",
      "---\n",
      "Signif. codes:  0 '***' 0.001 '**' 0.01 '*' 0.05 '.' 0.1 ' ' 1\n",
      "\n",
      "(Dispersion parameter for binomial family taken to be 1)\n",
      "\n",
      "    Null deviance: 701.46  on 505  degrees of freedom\n",
      "Residual deviance: 250.34  on 502  degrees of freedom\n",
      "AIC: 258.34\n",
      "\n",
      "Number of Fisher Scoring iterations: 8\n",
      "\n"
     ]
    }
   ],
   "source": [
    "glm.probs=probs_Classification('glm', crim01~ nox+tax+rad, Boston, Boston, family='binomial')"
   ]
  },
  {
   "cell_type": "code",
   "execution_count": 88,
   "metadata": {},
   "outputs": [],
   "source": [
    "l=dim(Boston)[1]"
   ]
  },
  {
   "cell_type": "code",
   "execution_count": 89,
   "metadata": {},
   "outputs": [
    {
     "name": "stdout",
     "output_type": "stream",
     "text": [
      "      y\n",
      "y_pred   0   1\n",
      "     0 228  43\n",
      "     1  25 210\n",
      "[1] 0.8656126\n"
     ]
    }
   ],
   "source": [
    "cm=Predictions(glm.probs, Boston$crim01, 0, 1, dim(Boston)[1])\n",
    "print(cm)"
   ]
  },
  {
   "cell_type": "code",
   "execution_count": 90,
   "metadata": {},
   "outputs": [],
   "source": [
    "train=151:l\n",
    "test=1:150"
   ]
  },
  {
   "cell_type": "code",
   "execution_count": 91,
   "metadata": {},
   "outputs": [],
   "source": [
    "Boston.train=Boston[-test,]\n",
    "Boston.test =Boston[test,]"
   ]
  },
  {
   "cell_type": "code",
   "execution_count": 92,
   "metadata": {},
   "outputs": [
    {
     "name": "stdout",
     "output_type": "stream",
     "text": [
      "Call:\n",
      "lda(crim01 ~ nox + tax + rad, data = data, family = family, subset = 151:506)\n",
      "\n",
      "Prior probabilities of groups:\n",
      "        0         1 \n",
      "0.4185393 0.5814607 \n",
      "\n",
      "Group means:\n",
      "        nox      tax       rad\n",
      "0 0.4672926 307.8188  4.187919\n",
      "1 0.6419275 543.7053 17.338164\n",
      "\n",
      "Coefficients of linear discriminants:\n",
      "             LD1\n",
      "nox  9.305832637\n",
      "tax -0.002894792\n",
      "rad  0.121452991\n",
      "        Length Class  Mode     \n",
      "prior   2      -none- numeric  \n",
      "counts  2      -none- numeric  \n",
      "means   6      -none- numeric  \n",
      "scaling 3      -none- numeric  \n",
      "lev     2      -none- character\n",
      "svd     1      -none- numeric  \n",
      "N       1      -none- numeric  \n",
      "call    5      -none- call     \n",
      "terms   3      terms  call     \n",
      "xlevels 0      -none- list     \n"
     ]
    }
   ],
   "source": [
    "test.probs=probs_Classification('lda', crim01~ nox+tax+rad, Boston, Boston.test, subset = train)"
   ]
  },
  {
   "cell_type": "code",
   "execution_count": 93,
   "metadata": {},
   "outputs": [
    {
     "name": "stdout",
     "output_type": "stream",
     "text": [
      "   \n",
      "      0   1\n",
      "  0 104  38\n",
      "  1   0   8\n",
      "[1] 0.7466667\n"
     ]
    }
   ],
   "source": [
    "print(table(test.probs$class, Boston.test$crim01))\n",
    "print(mean(test.probs$class==Boston.test$crim01))"
   ]
  },
  {
   "cell_type": "code",
   "execution_count": 95,
   "metadata": {},
   "outputs": [
    {
     "name": "stdout",
     "output_type": "stream",
     "text": [
      "Call:\n",
      "qda(crim01 ~ nox + tax + rad, data = data, family = family, subset = -1:-150)\n",
      "\n",
      "Prior probabilities of groups:\n",
      "        0         1 \n",
      "0.4185393 0.5814607 \n",
      "\n",
      "Group means:\n",
      "        nox      tax       rad\n",
      "0 0.4672926 307.8188  4.187919\n",
      "1 0.6419275 543.7053 17.338164\n",
      "        Length Class  Mode     \n",
      "prior    2     -none- numeric  \n",
      "counts   2     -none- numeric  \n",
      "means    6     -none- numeric  \n",
      "scaling 18     -none- numeric  \n",
      "ldet     2     -none- numeric  \n",
      "lev      2     -none- character\n",
      "N        1     -none- numeric  \n",
      "call     5     -none- call     \n",
      "terms    3     terms  call     \n",
      "xlevels  0     -none- list     \n"
     ]
    }
   ],
   "source": [
    "test.probs=probs_Classification('qda', crim01~ nox+tax+rad, Boston, Boston.test, subset = -test)"
   ]
  },
  {
   "cell_type": "code",
   "execution_count": 96,
   "metadata": {},
   "outputs": [
    {
     "name": "stdout",
     "output_type": "stream",
     "text": [
      "   \n",
      "      0   1\n",
      "  0 104  38\n",
      "  1   0   8\n",
      "[1] 0.7466667\n"
     ]
    }
   ],
   "source": [
    "print(table(test.probs$class, Boston.test$crim01))\n",
    "print(mean(test.probs$class==Boston.test$crim01))"
   ]
  },
  {
   "cell_type": "code",
   "execution_count": 98,
   "metadata": {},
   "outputs": [],
   "source": [
    "keeps=c('nox', 'tax', 'rad')"
   ]
  },
  {
   "cell_type": "code",
   "execution_count": 100,
   "metadata": {},
   "outputs": [],
   "source": [
    "set.seed(1)\n",
    "knn.pred=knn(Boston.train[keeps], Boston.test[keeps], cl=Boston.train$crim01, k=2)"
   ]
  },
  {
   "cell_type": "code",
   "execution_count": 101,
   "metadata": {},
   "outputs": [
    {
     "data": {
      "text/plain": [
       "        \n",
       "knn.pred  0  1\n",
       "       0 90 16\n",
       "       1 14 30"
      ]
     },
     "metadata": {},
     "output_type": "display_data"
    }
   ],
   "source": [
    "table(knn.pred, Boston.test$crim01)"
   ]
  },
  {
   "cell_type": "code",
   "execution_count": 102,
   "metadata": {},
   "outputs": [
    {
     "name": "stdout",
     "output_type": "stream",
     "text": [
      "[1] 0.8\n"
     ]
    }
   ],
   "source": [
    "accuracy=120/dim(Boston.test)[1]\n",
    "print(accuracy)"
   ]
  }
 ],
 "metadata": {
  "kernelspec": {
   "display_name": "R",
   "language": "R",
   "name": "ir"
  },
  "language_info": {
   "codemirror_mode": "r",
   "file_extension": ".r",
   "mimetype": "text/x-r-source",
   "name": "R",
   "pygments_lexer": "r",
   "version": "3.6.1"
  }
 },
 "nbformat": 4,
 "nbformat_minor": 4
}
