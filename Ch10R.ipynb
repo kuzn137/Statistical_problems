{
 "cells": [
  {
   "cell_type": "markdown",
   "metadata": {},
   "source": [
    "## Chapter 10"
   ]
  },
  {
   "cell_type": "code",
   "execution_count": 1,
   "metadata": {},
   "outputs": [
    {
     "name": "stderr",
     "output_type": "stream",
     "text": [
      "Warning message:\n",
      "\"package 'ISLR' was built under R version 3.6.3\""
     ]
    }
   ],
   "source": [
    "library(ISLR)"
   ]
  },
  {
   "cell_type": "markdown",
   "metadata": {},
   "source": [
    "## Problem 2"
   ]
  },
  {
   "cell_type": "markdown",
   "metadata": {},
   "source": [
    "(a) On the basis of this dissimilarity matrix, sketch the dendrogram\n",
    "that results from hierarchically clustering these four observations using complete linkage. Be sure to indicate on the plot the\n",
    "height at which each fusion occurs, as well as the observations\n",
    "corresponding to each leaf in the dendrogram."
   ]
  },
  {
   "cell_type": "code",
   "execution_count": 117,
   "metadata": {},
   "outputs": [
    {
     "data": {
      "image/png": "[encoded data removed]",
      "text/plain": [
       "Plot with title \"Cluster Dendrogram\""
      ]
     },
     "metadata": {},
     "output_type": "display_data"
    }
   ],
   "source": [
    "m = matrix(c(0, 0.3, 0.4, 0.7, \n",
    "             0.3, 0, 0.5, 0.8,\n",
    "             0.4, 0.5, 0.0, 0.45,\n",
    "             0.7, 0.8, 0.45, 0.0), nrow = 4)\n",
    "hc.complete =hclust(dist(m), method=\"complete\")\n",
    "plot(hc.complete, cex = 0.7)"
   ]
  },
  {
   "cell_type": "markdown",
   "metadata": {},
   "source": [
    "(b) Repeat (a), this time using single linkage clustering"
   ]
  },
  {
   "cell_type": "code",
   "execution_count": 118,
   "metadata": {},
   "outputs": [
    {
     "data": {
      "image/png": "[encoded data removed]",
      "text/plain": [
       "Plot with title \"Cluster Dendrogram\""
      ]
     },
     "metadata": {},
     "output_type": "display_data"
    }
   ],
   "source": [
    "hc.single =hclust(dist(m), method=\"single\")\n",
    "plot(hc.single, cex = 0.7)"
   ]
  },
  {
   "cell_type": "markdown",
   "metadata": {},
   "source": [
    "(c) Suppose that we cut the dendogram obtained in (a) such that\n",
    "two clusters result. Which observations are in each cluster?"
   ]
  },
  {
   "cell_type": "markdown",
   "metadata": {},
   "source": [
    "1 and 2 in claser 1, 3 and 4 in cluster 2"
   ]
  },
  {
   "cell_type": "markdown",
   "metadata": {},
   "source": [
    "(d) Suppose that we cut the dendogram obtained in (b) such that\n",
    "two clusters result. Which observations are in each cluster?"
   ]
  },
  {
   "cell_type": "markdown",
   "metadata": {},
   "source": [
    "4 in 2, 1,2,3 in 1"
   ]
  },
  {
   "cell_type": "markdown",
   "metadata": {},
   "source": [
    "(e) It is mentioned in the chapter that at each fusion in the dendrogram, the position of the two clusters being fused can be\n",
    "swapped without changing the meaning of the dendrogram. Draw\n",
    "a dendrogram that is equivalent to the dendrogram in (a), for\n",
    "which two or more of the leaves are repositioned, but for which\n",
    "the meaning of the dendrogram is the same."
   ]
  },
  {
   "cell_type": "markdown",
   "metadata": {},
   "source": [
    "swap labels 1 and 2 a"
   ]
  },
  {
   "cell_type": "markdown",
   "metadata": {},
   "source": [
    "## Problem 7"
   ]
  },
  {
   "cell_type": "markdown",
   "metadata": {},
   "source": [
    "In the chapter, we mentioned the use of correlation-based distance\n",
    "and Euclidean distance as dissimilarity measures for hierarchical clustering. It turns out that these two measures are almost equivalent: if\n",
    "each observation has been centered to have mean zero and standard\n",
    "deviation one, and if we let rij denote the correlation between the ith\n",
    "and jth observations, then the quantity 1 − rij is proportional to the\n",
    "squared Euclidean distance between the ith and jth observations.\n",
    "On the USArrests data, show that this proportionality holds."
   ]
  },
  {
   "cell_type": "code",
   "execution_count": 2,
   "metadata": {},
   "outputs": [
    {
     "data": {
      "text/html": [
       "<table>\n",
       "<thead><tr><th></th><th scope=col>Murder</th><th scope=col>Assault</th><th scope=col>UrbanPop</th><th scope=col>Rape</th></tr></thead>\n",
       "<tbody>\n",
       "\t<tr><th scope=row>Alabama</th><td>13.2</td><td>236 </td><td>58  </td><td>21.2</td></tr>\n",
       "\t<tr><th scope=row>Alaska</th><td>10.0</td><td>263 </td><td>48  </td><td>44.5</td></tr>\n",
       "\t<tr><th scope=row>Arizona</th><td> 8.1</td><td>294 </td><td>80  </td><td>31.0</td></tr>\n",
       "\t<tr><th scope=row>Arkansas</th><td> 8.8</td><td>190 </td><td>50  </td><td>19.5</td></tr>\n",
       "\t<tr><th scope=row>California</th><td> 9.0</td><td>276 </td><td>91  </td><td>40.6</td></tr>\n",
       "\t<tr><th scope=row>Colorado</th><td> 7.9</td><td>204 </td><td>78  </td><td>38.7</td></tr>\n",
       "</tbody>\n",
       "</table>\n"
      ],
      "text/latex": [
       "\\begin{tabular}{r|llll}\n",
       "  & Murder & Assault & UrbanPop & Rape\\\\\n",
       "\\hline\n",
       "\tAlabama & 13.2 & 236  & 58   & 21.2\\\\\n",
       "\tAlaska & 10.0 & 263  & 48   & 44.5\\\\\n",
       "\tArizona &  8.1 & 294  & 80   & 31.0\\\\\n",
       "\tArkansas &  8.8 & 190  & 50   & 19.5\\\\\n",
       "\tCalifornia &  9.0 & 276  & 91   & 40.6\\\\\n",
       "\tColorado &  7.9 & 204  & 78   & 38.7\\\\\n",
       "\\end{tabular}\n"
      ],
      "text/markdown": [
       "\n",
       "| <!--/--> | Murder | Assault | UrbanPop | Rape |\n",
       "|---|---|---|---|---|\n",
       "| Alabama | 13.2 | 236  | 58   | 21.2 |\n",
       "| Alaska | 10.0 | 263  | 48   | 44.5 |\n",
       "| Arizona |  8.1 | 294  | 80   | 31.0 |\n",
       "| Arkansas |  8.8 | 190  | 50   | 19.5 |\n",
       "| California |  9.0 | 276  | 91   | 40.6 |\n",
       "| Colorado |  7.9 | 204  | 78   | 38.7 |\n",
       "\n"
      ],
      "text/plain": [
       "           Murder Assault UrbanPop Rape\n",
       "Alabama    13.2   236     58       21.2\n",
       "Alaska     10.0   263     48       44.5\n",
       "Arizona     8.1   294     80       31.0\n",
       "Arkansas    8.8   190     50       19.5\n",
       "California  9.0   276     91       40.6\n",
       "Colorado    7.9   204     78       38.7"
      ]
     },
     "metadata": {},
     "output_type": "display_data"
    }
   ],
   "source": [
    "head(USArrests)"
   ]
  },
  {
   "cell_type": "code",
   "execution_count": 3,
   "metadata": {},
   "outputs": [
    {
     "data": {
      "text/html": [
       "<ol class=list-inline>\n",
       "\t<li>50</li>\n",
       "\t<li>4</li>\n",
       "</ol>\n"
      ],
      "text/latex": [
       "\\begin{enumerate*}\n",
       "\\item 50\n",
       "\\item 4\n",
       "\\end{enumerate*}\n"
      ],
      "text/markdown": [
       "1. 50\n",
       "2. 4\n",
       "\n",
       "\n"
      ],
      "text/plain": [
       "[1] 50  4"
      ]
     },
     "metadata": {},
     "output_type": "display_data"
    }
   ],
   "source": [
    "dim(USArrests)"
   ]
  },
  {
   "cell_type": "code",
   "execution_count": 4,
   "metadata": {},
   "outputs": [
    {
     "data": {
      "text/html": [
       "<dl class=dl-horizontal>\n",
       "\t<dt>Murder</dt>\n",
       "\t\t<dd>7.788</dd>\n",
       "\t<dt>Assault</dt>\n",
       "\t\t<dd>170.76</dd>\n",
       "\t<dt>UrbanPop</dt>\n",
       "\t\t<dd>65.54</dd>\n",
       "\t<dt>Rape</dt>\n",
       "\t\t<dd>21.232</dd>\n",
       "</dl>\n"
      ],
      "text/latex": [
       "\\begin{description*}\n",
       "\\item[Murder] 7.788\n",
       "\\item[Assault] 170.76\n",
       "\\item[UrbanPop] 65.54\n",
       "\\item[Rape] 21.232\n",
       "\\end{description*}\n"
      ],
      "text/markdown": [
       "Murder\n",
       ":   7.788Assault\n",
       ":   170.76UrbanPop\n",
       ":   65.54Rape\n",
       ":   21.232\n",
       "\n"
      ],
      "text/plain": [
       "  Murder  Assault UrbanPop     Rape \n",
       "   7.788  170.760   65.540   21.232 "
      ]
     },
     "metadata": {},
     "output_type": "display_data"
    }
   ],
   "source": [
    "apply(USArrests, 2, mean)"
   ]
  },
  {
   "cell_type": "code",
   "execution_count": 13,
   "metadata": {},
   "outputs": [],
   "source": [
    "df=scale(USArrests)\n",
    "set.seed(3)"
   ]
  },
  {
   "cell_type": "code",
   "execution_count": 22,
   "metadata": {},
   "outputs": [],
   "source": [
    "matd=dist(df)^2"
   ]
  },
  {
   "cell_type": "code",
   "execution_count": 23,
   "metadata": {},
   "outputs": [
    {
     "data": {
      "text/plain": [
       "                    Alabama       Alaska      Arizona     Arkansas   California\n",
       "Alaska         0.7138307819                                                    \n",
       "Arizona        1.4465947843 0.8307245898                                       \n",
       "Arkansas       0.0877416809 0.3672785641 1.1766554172                          \n",
       "California     1.8659223310 0.8137128067 0.2949017541 1.5863126412             \n",
       "Colorado       1.6872310193 0.5155556175 0.5983808782 1.3709254337 0.1146234010\n",
       "Connecticut    1.7135870980 1.8617870018 0.7759582405 1.8986422868 0.6631595707\n",
       "Delaware       1.1428182422 1.4788738310 0.3411540927 1.1920258659 0.8973252909\n",
       "Florida        0.1049203486 0.7861031722 1.0409926090 0.1421425885 1.7009808084\n",
       "Georgia        0.1162516972 0.7367030469 1.7839695560 0.2511757376 1.8595181408\n",
       "Hawaii         1.8059006680 1.5764752423 1.1458813737 1.9369776851 0.5651593270\n",
       "Idaho          1.4792354141 0.7916559296 0.0025732601 1.1919825459 0.2520373794\n",
       "Illinois       1.3090956230 1.8653950071 0.6962514485 1.5310645251 0.9943388791\n",
       "Indiana        1.4749888379 1.1435786713 1.5288959172 1.5522560010 0.7788542333\n",
       "Iowa           1.8953868930 1.6097240352 0.9237936588 1.9927501530 0.4446590775\n",
       "Kansas         1.7692452854 1.6312115837 1.1868843924 1.9304960880 0.6286302776\n",
       "Kentucky       0.2262067640 0.8211189668 1.8896787427 0.3945142447 1.8241158706\n",
       "Louisiana      0.0416804313 0.9708133042 1.6141501191 0.2417304309 1.9726883264\n",
       "Maine          1.2447409234 1.7558367789 0.5636322340 1.4147766173 0.9736656266\n",
       "Maryland       0.3068186638 0.4639642310 0.6726108873 0.1481740524 1.3073045972\n",
       "Massachusetts  1.7894923852 1.7874177991 0.6759197083 1.9234913599 0.5431469651\n",
       "Michigan       0.7852281487 0.0160233723 0.9351396709 0.4522302697 0.7845906291\n",
       "Minnesota      1.9380385065 1.5554053936 0.8202405883 1.9948508668 0.3603658226\n",
       "Mississippi    0.0001410904 0.6988312003 1.4366445350 0.0809945041 1.8574210543\n",
       "Missouri       1.4280619231 0.4597251487 1.0825496071 1.1987780947 0.4392700914\n",
       "Montana        0.3613201986 0.4043314953 1.6866753522 0.3341386073 1.4929667476\n",
       "Nebraska       1.9552044704 1.4469332669 0.8259917570 1.9724706420 0.3045480232\n",
       "Nevada         1.3546910596 0.2635366264 0.8480253841 1.0278904693 0.3667780030\n",
       "New Hampshire  1.8052455037 1.7834106100 0.9335432054 1.9763608584 0.5930225147\n",
       "New Jersey     1.7034480814 1.8819483401 0.9259932394 1.9203821726 0.7177102454\n",
       "New Mexico     0.4866250619 0.1544579029 0.6233621173 0.1892735525 1.0182846624\n",
       "New York       1.4405383983 1.9111958371 0.7494785897 1.6714293586 0.9119916203\n",
       "North Carolina 0.1005419555 0.6815996338 1.0190868258 0.0978489483 1.6583662185\n",
       "North Dakota   1.8325523371 0.9297233018 0.1500384685 1.5752656513 0.0376465024\n",
       "Ohio           1.7629487564 1.6040313401 1.2086276023 1.9187361114 0.6289392120\n",
       "Oklahoma       1.9163174185 1.6423424756 0.7596105442 1.9969853196 0.3978409346\n",
       "Oregon         1.6997566344 0.5157436131 0.4662059483 1.3612944186 0.0704774712\n",
       "Pennsylvania   1.5772254713 1.8951088612 1.2252417444 1.8607800842 0.9076276018\n",
       "Rhode Island   1.5485337745 1.8603206882 0.6465916089 1.7324209040 0.7726884642\n",
       "South Carolina 0.0291288261 0.5217321656 1.2706656015 0.0177942668 1.7211633716\n",
       "South Dakota   0.2970145365 0.1388506123 1.2490997809 0.1148539078 1.3342480484\n",
       "Tennessee      0.2041030039 0.4628624009 1.6851841442 0.2161213362 1.6514791316\n",
       "Texas          0.9358083387 1.6985755420 1.8148596616 1.3185998185 1.5345413026\n",
       "Utah           1.9936607906 1.3916603633 0.5992137279 1.9512088364 0.1923868967\n",
       "Vermont        0.4044726325 0.0833334212 1.1898013199 0.1805657123 1.2046037022\n",
       "Virginia       0.3445471205 0.8152198710 1.9274904038 0.5026132238 1.7289903339\n",
       "Washington     1.9568457805 0.9983021047 0.4482645444 1.7558264095 0.0322727276\n",
       "West Virginia  0.0384036580 0.6152466715 1.6034021040 0.1112667168 1.8337534041\n",
       "Wisconsin      1.7930675184 1.7768919032 0.9950200526 1.9729672358 0.6165352255\n",
       "Wyoming        0.3432852855 1.3277086920 1.0167123371 0.5400904982 1.7004642321\n",
       "                   Colorado  Connecticut     Delaware      Florida      Georgia\n",
       "Alaska                                                                         \n",
       "Arizona                                                                        \n",
       "Arkansas                                                                       \n",
       "California                                                                     \n",
       "Colorado                                                                       \n",
       "Connecticut    1.0185123544                                                    \n",
       "Delaware       1.3582485780 0.4608111033                                       \n",
       "Florida        1.7129152223 1.5460029888 0.7181523250                          \n",
       "Georgia        1.5295690153 1.7039265274 1.5418713236 0.4170422475             \n",
       "Hawaii         0.6324566539 0.2432644035 1.1318870533 1.9136686462 1.4965738366\n",
       "Idaho          0.5341813172 0.7928419016 0.3939093803 1.0897845135 1.7939763287\n",
       "Illinois       1.4383840525 0.1530107077 0.1489267035 1.0203976420 1.5144605369\n",
       "Indiana        0.5474764400 0.7794305428 1.7009930816 1.8152555713 1.0081816430\n",
       "Iowa           0.6095631090 0.1429784233 0.9223844015 1.8958223096 1.6786397073\n",
       "Kansas         0.7054066822 0.2232956426 1.1096940357 1.8797225866 1.4629520300\n",
       "Kentucky       1.4687209001 1.6106288136 1.6449136460 0.5858134248 0.0210269564\n",
       "Louisiana      1.8213148508 1.5262510539 1.1317428594 0.1874542948 0.0962874713\n",
       "Maine          1.4385240677 0.2420976543 0.0636718795 0.8972729389 1.5300602864\n",
       "Maryland       1.3200251263 1.6479985362 0.7081470504 0.1161020758 0.6777247923\n",
       "Massachusetts  0.9013147940 0.0087811793 0.4591556130 1.5998373785 1.7894552886\n",
       "Michigan       0.4386452325 1.8370934575 1.6148352274 0.9230258769 0.7229795857\n",
       "Minnesota      0.5421367089 0.1496278955 0.8821567640 1.9037641259 1.7506853022\n",
       "Mississippi    1.6768722831 1.7234165763 1.1447218887 0.1030843838 0.1190046803\n",
       "Missouri       0.1270352066 1.2511104277 1.7656621709 1.6717365956 1.0986787646\n",
       "Montana        1.0371431493 1.8412147980 1.8478283803 0.7301993195 0.1326503438\n",
       "Nebraska       0.4372841195 0.2269913177 0.9862057604 1.9508364344 1.7366422587\n",
       "Nevada         0.0850658323 1.3936267318 1.6394405167 1.5027837765 1.1492466894\n",
       "New Hampshire  0.8364591781 0.0484850390 0.7406686936 1.7557057927 1.6542207500\n",
       "New Jersey     1.0179595210 0.0138671533 0.5956434120 1.6088477225 1.6182796640\n",
       "New Mexico     0.9022934338 1.8030190487 1.0093153099 0.3718183417 0.7501278679\n",
       "New York       1.3346274313 0.0716783704 0.2405499199 1.1954467959 1.5698015171\n",
       "North Carolina 1.6376229111 1.6246802788 0.7780225601 0.0058800900 0.4066814869\n",
       "North Dakota   0.2664591169 0.5634348110 0.6325884541 1.5593899587 1.9431513897\n",
       "Ohio           0.6860637020 0.2505176081 1.1510907482 1.8896044569 1.4419702702\n",
       "Oklahoma       0.6440972507 0.0815588033 0.7357293514 1.8269177319 1.7885487360\n",
       "Oregon         0.0112610188 0.9909631670 1.2268326777 1.6579431786 1.6105452936\n",
       "Pennsylvania   1.1007741760 0.1066979873 0.8275177418 1.6135748630 1.3807940318\n",
       "Rhode Island   1.2047706713 0.0484596718 0.2346510620 1.2809684478 1.6800323905\n",
       "South Carolina 1.5360150109 1.8199134790 1.1317094997 0.0883713273 0.1943872899\n",
       "South Dakota   0.9669701935 1.9992774379 1.5707904560 0.4797572639 0.2883765233\n",
       "Tennessee      1.2407565041 1.8616146897 1.7108604023 0.5290963708 0.0535222009\n",
       "Texas          1.4771065310 0.6252472586 1.2468021394 1.2025497890 0.6424671557\n",
       "Utah           0.3952580801 0.2154653086 0.8155301702 1.8888326485 1.8747589639\n",
       "Vermont        0.8261595348 1.9871700490 1.6139688377 0.5886898330 0.3731091961\n",
       "Virginia       1.3394222476 1.5720254303 1.7552683347 0.7483007177 0.0674516539\n",
       "Washington     0.1443213664 0.5086289742 0.9579044238 1.8504888961 1.8621468964\n",
       "West Virginia  1.5421860929 1.7997828180 1.4086435375 0.2550494908 0.0322204217\n",
       "Wisconsin      0.8324040739 0.0689103714 0.8034949135 1.7750903478 1.6116405473\n",
       "Wyoming        1.9129645619 1.0249404824 0.3839982882 0.1540326117 0.6726365889\n",
       "                     Hawaii        Idaho     Illinois      Indiana         Iowa\n",
       "Alaska                                                                         \n",
       "Arizona                                                                        \n",
       "Arkansas                                                                       \n",
       "California                                                                     \n",
       "Colorado                                                                       \n",
       "Connecticut                                                                    \n",
       "Delaware                                                                       \n",
       "Florida                                                                        \n",
       "Georgia                                                                        \n",
       "Hawaii                                                                         \n",
       "Idaho          1.1194637192                                                    \n",
       "Illinois       0.6914531794 0.7465587060                                       \n",
       "Indiana        0.2013613293 1.4793914393 1.2840194438                          \n",
       "Iowa           0.0282225069 0.9034570743 0.5480239849 0.3523302067             \n",
       "Kansas         0.0029975967 1.1649380722 0.6496748393 0.2145303950 0.0348817924\n",
       "Kentucky       1.3110295308 1.8924747942 1.5171894830 0.8111626802 1.5188948361\n",
       "Louisiana      1.6202379913 1.6533727507 1.1521202197 1.3410960799 1.7319619872\n",
       "Maine          0.8513847169 0.6173772594 0.0189375246 1.4536026973 0.6799165640\n",
       "Maryland       1.9809006430 0.7020143344 1.1875458869 1.8853274782 1.9074566364\n",
       "Massachusetts  0.2378864446 0.6868917486 0.1901128578 0.7809217595 0.1224235643\n",
       "Michigan       1.4435858401 0.8870923265 1.9286084543 0.9653039349 1.5065738607\n",
       "Minnesota      0.0541245177 0.7979379705 0.5538445586 0.3986556827 0.0061350369\n",
       "Mississippi    1.8142598556 1.4687214214 1.3188066041 1.4803110344 1.9025429436\n",
       "Missouri       0.6317248457 1.0108902036 1.7176157354 0.2903752822 0.7268623875\n",
       "Montana        1.3710765709 1.6608269229 1.8636395079 0.7458418733 1.5718759316\n",
       "Nebraska       0.0549854976 0.7948162656 0.6741582764 0.3389140713 0.0195338128\n",
       "Nevada         0.8746092973 0.7793340325 1.7638460774 0.5474904019 0.9225815521\n",
       "New Hampshire  0.0788727931 0.9310950364 0.3507917748 0.4931429210 0.0321473524\n",
       "New Jersey     0.1655594681 0.9379933225 0.2183672402 0.6393231759 0.1021636020\n",
       "New Mexico     1.8892976931 0.6209766683 1.5249749381 1.6479179073 1.8415117997\n",
       "New York       0.5213352450 0.7908364720 0.0171515854 1.1069439752 0.3947126025\n",
       "North Carolina 1.9507527897 1.0621327220 1.1147797397 1.8081850272 1.9366596466\n",
       "North Dakota   0.6568052017 0.1242187891 0.7797410414 1.0037593052 0.4857325583\n",
       "Ohio           0.0024548531 1.1842842571 0.6891693557 0.1892748734 0.0422265760\n",
       "Oklahoma       0.0927185454 0.7476089769 0.4222362362 0.5135359785 0.0195685768\n",
       "Oregon         0.6938055995 0.4072638253 1.3630857867 0.6731154411 0.6369366915\n",
       "Pennsylvania   0.1218279259 1.2333890666 0.3500496379 0.4609426946 0.1287849470\n",
       "Rhode Island   0.4808735307 0.6814258072 0.0362817055 1.0858894086 0.3378788928\n",
       "South Carolina 1.9127627993 1.2963552424 1.4116417088 1.5656382261 1.9756124256\n",
       "South Dakota   1.7320021389 1.2303197685 1.8638402260 1.1835050738 1.8393697570\n",
       "Tennessee      1.5176048483 1.6748264034 1.7623384622 0.9299519728 1.7040434728\n",
       "Texas          0.4717715849 1.8289408291 0.7412902397 0.4434643356 0.6167798742\n",
       "Utah           0.1541697506 0.5720533433 0.6069461768 0.5184719237 0.0665213145\n",
       "Vermont        1.6686135300 1.1621915322 1.9134622503 1.1157721485 1.7714347203\n",
       "Virginia       1.1727496872 1.9195043682 1.5755631320 0.6467402868 1.3974859251\n",
       "Washington     0.3523820515 0.4041477984 0.9165183156 0.5847754624 0.2598098819\n",
       "West Virginia  1.6991330263 1.6192564786 1.5139502191 1.2381033254 1.8409717107\n",
       "Wisconsin      0.0579469122 0.9901532458 0.3908860240 0.4391707809 0.0272786223\n",
       "Wyoming        1.5829463662 1.0859923304 0.5040705614 1.7725351795 1.5212227682\n",
       "                     Kansas     Kentucky    Louisiana        Maine     Maryland\n",
       "Alaska                                                                         \n",
       "Arizona                                                                        \n",
       "Arkansas                                                                       \n",
       "California                                                                     \n",
       "Colorado                                                                       \n",
       "Connecticut                                                                    \n",
       "Delaware                                                                       \n",
       "Florida                                                                        \n",
       "Georgia                                                                        \n",
       "Hawaii                                                                         \n",
       "Idaho                                                                          \n",
       "Illinois                                                                       \n",
       "Indiana                                                                        \n",
       "Iowa                                                                           \n",
       "Kansas                                                                         \n",
       "Kentucky       1.2769869476                                                    \n",
       "Louisiana      1.5671655737 0.1666374285                                       \n",
       "Maine          0.8143828375 1.5708956778 1.1347819452                          \n",
       "Maryland       1.9821235619 0.8765575743 0.5059016414 1.0106304327             \n",
       "Massachusetts  0.2277022005 1.7002032521 1.6299578502 0.2679847940 1.6390192621\n",
       "Michigan       1.5005628044 0.7728802563 1.0195154196 1.8489898544 0.6150082648\n",
       "Minnesota      0.0673887259 1.6023967656 1.8001473208 0.6700882699 1.8653760357\n",
       "Mississippi    1.7787032838 0.2307929344 0.0465917420 1.2520280757 0.2976238695\n",
       "Missouri       0.6920571260 0.9944204833 1.5130565286 1.7707556534 1.4186673280\n",
       "Montana        1.3743202082 0.1221136254 0.4169708548 1.8817092914 0.8062347963\n",
       "Nebraska       0.0766833137 1.5832122171 1.8392595313 0.7896306497 1.8731089707\n",
       "Nevada         0.9457530653 1.1043225410 1.5214576814 1.7554477567 1.1456075438\n",
       "New Hampshire  0.0685318801 1.5114611931 1.6067550329 0.4788920208 1.8471321619\n",
       "New Jersey     0.1428893334 1.4977856935 1.4894347169 0.3349330489 1.7528642471\n",
       "New Mexico     1.9220152639 0.9211102866 0.7521270863 1.3514751901 0.1026385722\n",
       "New York       0.4832462132 1.5362466083 1.2593194566 0.0658178933 1.3635339873\n",
       "North Carolina 1.9239337577 0.5800226666 0.2093686710 0.9829108486 0.0822455043\n",
       "North Dakota   0.7111361480 1.9433442437 1.9375995064 0.7318710437 1.1802334153\n",
       "Ohio           0.0008935177 1.2528560274 1.5637871555 0.8560339620 1.9887584301\n",
       "Oklahoma       0.0990717118 1.6569136357 1.7697115639 0.5275210878 1.8093139913\n",
       "Oregon         0.7680844013 1.5730414633 1.8532631357 1.3402045079 1.2334575070\n",
       "Pennsylvania   0.0898935464 1.2269824824 1.3208890394 0.5058662614 1.8534931631\n",
       "Rhode Island   0.4526942781 1.6448300708 1.3889194427 0.0785015366 1.3871954150\n",
       "South Carolina 1.8919058548 0.3318660820 0.1379721449 1.3109064705 0.1798307688\n",
       "South Dakota   1.7523766779 0.3746721665 0.4799104973 1.7809199909 0.3813680915\n",
       "Tennessee      1.5082578283 0.0748635158 0.2546363442 1.7608737943 0.6565209615\n",
       "Texas          0.4157088181 0.4998564380 0.6630374235 0.9120786613 1.6343534163\n",
       "Utah           0.1829280349 1.7576986240 1.9223507859 0.6830908113 1.7344374675\n",
       "Vermont        1.6989726818 0.4493189605 0.6033963743 1.8320021142 0.4365675289\n",
       "Virginia       1.1453515261 0.0154710865 0.2749515567 1.6523181429 1.0215192876\n",
       "Washington     0.4072060469 1.7797189100 1.9958533418 0.9441436823 1.5355199270\n",
       "West Virginia  1.6706212924 0.1033420753 0.0759578361 1.4803915776 0.4500151060\n",
       "Wisconsin      0.0470896154 1.4592503680 1.5872433001 0.5285754991 1.8802894951\n",
       "Wyoming        1.5244615169 0.8017745127 0.3003023924 0.4299878625 0.4022482853\n",
       "               Massachusetts     Michigan    Minnesota  Mississippi\n",
       "Alaska                                                             \n",
       "Arizona                                                            \n",
       "Arkansas                                                           \n",
       "California                                                         \n",
       "Colorado                                                           \n",
       "Connecticut                                                        \n",
       "Delaware                                                           \n",
       "Florida                                                            \n",
       "Georgia                                                            \n",
       "Hawaii                                                             \n",
       "Idaho                                                              \n",
       "Illinois                                                           \n",
       "Indiana                                                            \n",
       "Iowa                                                               \n",
       "Kansas                                                             \n",
       "Kentucky                                                           \n",
       "Louisiana                                                          \n",
       "Maine                                                              \n",
       "Maryland                                                           \n",
       "Massachusetts                                                      \n",
       "Michigan        1.7636956971                                       \n",
       "Minnesota       0.1157396102 1.4612041342                          \n",
       "Mississippi     1.7974872506 0.7711279050 1.9436498986             \n",
       "Missouri        1.1735391052 0.3305334603 0.7042272760 1.4206237200\n",
       "Montana         1.8730991836 0.3433380776 1.6170350389 0.3584598904\n",
       "Nebraska        0.1824258831 1.3411654388 0.0089307360 1.9593131552\n",
       "Nevada          1.2928106546 0.1799187457 0.8715526902 1.3428922638\n",
       "New Hampshire   0.0509214002 1.7062389241 0.0480827529 1.8150046016\n",
       "New Jersey      0.0326997869 1.8310994222 0.1232585125 1.7146406808\n",
       "New Mexico      1.7499684754 0.2620238564 1.7788262138 0.4725455920\n",
       "New York        0.1050970275 1.9436978329 0.4052902860 1.4511438066\n",
       "North Carolina  1.6685156442 0.8164723416 1.9381605386 0.0970832642\n",
       "North Dakota    0.4491264156 0.9427670048 0.3940440918 1.8246843513\n",
       "Ohio            0.2540963869 1.4684033389 0.0755899327 1.7721853651\n",
       "Oklahoma        0.0540700850 1.5697834149 0.0121268718 1.9227417583\n",
       "Oregon          0.8662163263 0.4624564817 0.5575111879 1.6884461405\n",
       "Pennsylvania    0.1515599083 1.8091395300 0.1791232178 1.5908606017\n",
       "Rhode Island    0.0637188788 1.8902319776 0.3354040132 1.5575833130\n",
       "South Carolina  1.8677509035 0.6092607189 1.9937310600 0.0252834548\n",
       "South Dakota    1.9909615767 0.1567991577 1.8348274254 0.2873621766\n",
       "Tennessee       1.9110334834 0.4341594478 1.7540036170 0.2022109158\n",
       "Texas           0.7327297983 1.5982444923 0.7210151568 0.9515120290\n",
       "Utah            0.1516827453 1.3196166264 0.0326533416 1.9953372574\n",
       "Vermont         1.9624947204 0.0899487427 1.7575429666 0.3935102643\n",
       "Virginia        1.6536061860 0.7380994391 1.4823152089 0.3492030759\n",
       "Washington      0.4054086920 0.9355572949 0.1958827615 1.9519460641\n",
       "West Virginia   1.8717236676 0.6424320814 1.8927685307 0.0382369041\n",
       "Wisconsin       0.0747904671 1.6894267804 0.0486114956 1.8031850365\n",
       "Wyoming         1.1066952366 1.4637686881 1.5469507120 0.3486644824\n",
       "                   Missouri      Montana     Nebraska       Nevada\n",
       "Alaska                                                            \n",
       "Arizona                                                           \n",
       "Arkansas                                                          \n",
       "California                                                        \n",
       "Colorado                                                          \n",
       "Connecticut                                                       \n",
       "Delaware                                                          \n",
       "Florida                                                           \n",
       "Georgia                                                           \n",
       "Hawaii                                                            \n",
       "Idaho                                                             \n",
       "Illinois                                                          \n",
       "Indiana                                                           \n",
       "Iowa                                                              \n",
       "Kansas                                                            \n",
       "Kentucky                                                          \n",
       "Louisiana                                                         \n",
       "Maine                                                             \n",
       "Maryland                                                          \n",
       "Massachusetts                                                     \n",
       "Michigan                                                          \n",
       "Minnesota                                                         \n",
       "Mississippi                                                       \n",
       "Missouri                                                          \n",
       "Montana        0.6045316904                                       \n",
       "Nebraska       0.5803039260 1.5389484912                          \n",
       "Nevada         0.0508888152 0.6388466674 0.7422331627             \n",
       "New Hampshire  0.9753270942 1.6762160610 0.0944258198 1.1740787998\n",
       "New Jersey     1.1764327210 1.7402593530 0.1938250919 1.3638772833\n",
       "New Mexico     0.9786622378 0.6464394712 1.7283779674 0.6941197972\n",
       "New York       1.5915268979 1.8682669904 0.5165855203 1.6816349620\n",
       "North Carolina 1.5924581459 0.6737159453 1.9718775908 1.4063365826\n",
       "North Dakota   0.6830710674 1.6803315621 0.3685595897 0.5721775917\n",
       "Ohio           0.6576215264 1.3382688581 0.0799277409 0.9141278109\n",
       "Oklahoma       0.8504004103 1.7213697970 0.0400813081 1.0038690131\n",
       "Oregon         0.2061823801 1.1389256129 0.4609496709 0.1269683518\n",
       "Pennsylvania   1.1087728289 1.5094403567 0.2418010391 1.3642063363\n",
       "Rhode Island   1.5058012553 1.9218780747 0.4367512096 1.5797984267\n",
       "South Carolina 1.3388614631 0.3642685539 1.9926190787 1.2000626101\n",
       "South Dakota   0.7214375288 0.1412606043 1.7548117796 0.5883807964\n",
       "Tennessee      0.8194671802 0.0260503959 1.6988835050 0.8305488553\n",
       "Texas          1.1609617032 0.8604839970 0.7712377545 1.4587503116\n",
       "Utah           0.6463927063 1.6766182529 0.0282609326 0.7422426424\n",
       "Vermont        0.6016542016 0.1584814585 1.6638475230 0.4649848933\n",
       "Virginia       0.8433111101 0.1011766981 1.4488244017 0.9852602218\n",
       "Washington     0.4159543628 1.5139937403 0.1479398762 0.4230425992\n",
       "West Virginia  1.1873957397 0.1775088901 1.8808474690 1.1585425398\n",
       "Wisconsin      0.9388344464 1.6237643420 0.0907331230 1.1531610665\n",
       "Wyoming        1.9606476936 1.1492687297 1.6534450382 1.8782873229\n",
       "               New Hampshire   New Jersey   New Mexico     New York\n",
       "Alaska                                                             \n",
       "Arizona                                                            \n",
       "Arkansas                                                           \n",
       "California                                                         \n",
       "Colorado                                                           \n",
       "Connecticut                                                        \n",
       "Delaware                                                           \n",
       "Florida                                                            \n",
       "Georgia                                                            \n",
       "Hawaii                                                             \n",
       "Idaho                                                              \n",
       "Illinois                                                           \n",
       "Indiana                                                            \n",
       "Iowa                                                               \n",
       "Kansas                                                             \n",
       "Kentucky                                                           \n",
       "Louisiana                                                          \n",
       "Maine                                                              \n",
       "Maryland                                                           \n",
       "Massachusetts                                                      \n",
       "Michigan                                                           \n",
       "Minnesota                                                          \n",
       "Mississippi                                                        \n",
       "Missouri                                                           \n",
       "Montana                                                            \n",
       "Nebraska                                                           \n",
       "Nevada                                                             \n",
       "New Hampshire                                                      \n",
       "New Jersey      0.0203728912                                       \n",
       "New Mexico      1.8957741979 1.8898013836                          \n",
       "New York        0.2222963805 0.1167466764 1.6576106697             \n",
       "North Carolina  1.8198707129 1.6882031327 0.2961511702 1.2898437488\n",
       "North Dakota    0.5767658153 0.6537637867 0.9886387711 0.7317483654\n",
       "Ohio            0.0844858459 0.1653658184 1.9141075942 0.5195838485\n",
       "Oklahoma        0.0257607594 0.0723185219 1.7843815492 0.2912931360\n",
       "Oregon          0.8487673525 1.0152130104 0.8384753777 1.2771795023\n",
       "Pennsylvania    0.0555306843 0.0458419220 1.9848712613 0.2293760187\n",
       "Rhode Island    0.1891617632 0.1022025050 1.6356190421 0.0100380185\n",
       "South Carolina  1.9184134692 1.8343221684 0.2961797316 1.5562559201\n",
       "South Dakota    1.9394642587 1.9795876396 0.2170833923 1.9390582991\n",
       "Tennessee       1.7575234093 1.7770806331 0.5877749579 1.8030281330\n",
       "Texas           0.5300029920 0.4979806053 1.8114475771 0.6573595425\n",
       "Utah            0.1338905442 0.2212266249 1.5962259834 0.4740991019\n",
       "Vermont         1.9022004740 1.9674825759 0.2155586374 1.9727487501\n",
       "Virginia        1.4233295694 1.4410928294 1.0074305682 1.5633590655\n",
       "Washington      0.4011662888 0.5321616975 1.2625519956 0.7986747615\n",
       "West Virginia   1.8063579661 1.7517474666 0.5358830622 1.6088350316\n",
       "Wisconsin       0.0023869041 0.0295769366 1.9179607226 0.2551727018\n",
       "Wyoming         1.2901545938 1.0922252594 0.8161265668 0.6545829567\n",
       "               North Carolina North Dakota         Ohio     Oklahoma\n",
       "Alaska                                                              \n",
       "Arizona                                                             \n",
       "Arkansas                                                            \n",
       "California                                                          \n",
       "Colorado                                                            \n",
       "Connecticut                                                         \n",
       "Delaware                                                            \n",
       "Florida                                                             \n",
       "Georgia                                                             \n",
       "Hawaii                                                              \n",
       "Idaho                                                               \n",
       "Illinois                                                            \n",
       "Indiana                                                             \n",
       "Iowa                                                                \n",
       "Kansas                                                              \n",
       "Kentucky                                                            \n",
       "Louisiana                                                           \n",
       "Maine                                                               \n",
       "Maryland                                                            \n",
       "Massachusetts                                                       \n",
       "Michigan                                                            \n",
       "Minnesota                                                           \n",
       "Mississippi                                                         \n",
       "Missouri                                                            \n",
       "Montana                                                             \n",
       "Nebraska                                                            \n",
       "Nevada                                                              \n",
       "New Hampshire                                                       \n",
       "New Jersey                                                          \n",
       "New Mexico                                                          \n",
       "New York                                                            \n",
       "North Carolina                                                      \n",
       "North Dakota     1.5334660335                                       \n",
       "Ohio             1.9305660879 0.7224273197                          \n",
       "Oklahoma         1.8730569173 0.3894724849 0.1135825137             \n",
       "Oregon           1.5840246033 0.1874986867 0.7535614934 0.6421908533\n",
       "Pennsylvania     1.6948438658 0.8972866596 0.1041933456 0.1528087139\n",
       "Rhode Island     1.3670234039 0.5992124162 0.4885377431 0.2280287820\n",
       "South Carolina   0.0629087954 1.6882794009 1.8840309592 1.9789921433\n",
       "South Dakota     0.4004425720 1.4433502477 1.7239773779 1.9077298547\n",
       "Tennessee        0.4849926609 1.7895126804 1.4781317108 1.8294151211\n",
       "Texas            1.2753845397 1.5920099336 0.4137677415 0.7259247856\n",
       "Utah             1.9051389528 0.2132190165 0.1918326612 0.0445269026\n",
       "Vermont          0.4999187795 1.3338138932 1.6682254904 1.8439010025\n",
       "Virginia         0.7371528881 1.8870575997 1.1168773891 1.5582034780\n",
       "Washington       1.8241715155 0.0918509747 0.4069737096 0.2395915914\n",
       "West Virginia    0.2356779973 1.8762239882 1.6534685677 1.9128679762\n",
       "Wisconsin        1.8380878909 0.6165079814 0.0606859470 0.0344655601\n",
       "Wyoming          0.2151566980 1.4818868846 1.5516658256 1.4171228531\n",
       "                     Oregon Pennsylvania Rhode Island South Carolina\n",
       "Alaska                                                              \n",
       "Arizona                                                             \n",
       "Arkansas                                                            \n",
       "California                                                          \n",
       "Colorado                                                            \n",
       "Connecticut                                                         \n",
       "Delaware                                                            \n",
       "Florida                                                             \n",
       "Georgia                                                             \n",
       "Hawaii                                                              \n",
       "Idaho                                                               \n",
       "Illinois                                                            \n",
       "Indiana                                                             \n",
       "Iowa                                                                \n",
       "Kansas                                                              \n",
       "Kentucky                                                            \n",
       "Louisiana                                                           \n",
       "Maine                                                               \n",
       "Maryland                                                            \n",
       "Massachusetts                                                       \n",
       "Michigan                                                            \n",
       "Minnesota                                                           \n",
       "Mississippi                                                         \n",
       "Missouri                                                            \n",
       "Montana                                                             \n",
       "Nebraska                                                            \n",
       "Nevada                                                              \n",
       "New Hampshire                                                       \n",
       "New Jersey                                                          \n",
       "New Mexico                                                          \n",
       "New York                                                            \n",
       "North Carolina                                                      \n",
       "North Dakota                                                        \n",
       "Ohio                                                                \n",
       "Oklahoma                                                            \n",
       "Oregon                                                              \n",
       "Pennsylvania   1.1402152025                                         \n",
       "Rhode Island   1.1406450586 0.2419360239                            \n",
       "South Carolina 1.5299656498 1.7541267394 1.6393268340               \n",
       "South Dakota   0.9998229194 1.8783760662 1.9621421149   0.1941116530\n",
       "Tennessee      1.3261513949 1.5547510403 1.8786284310   0.2195857744\n",
       "Texas          1.5792856110 0.2728562511 0.7503357874   1.1713485991\n",
       "Utah           0.3846795223 0.3382295113 0.3766769616   1.9892920549\n",
       "Vermont        0.8603052484 1.8791156203 1.9772079214   0.2819179152\n",
       "Virginia       1.4605553633 1.1540094022 1.6597640598   0.4524906907\n",
       "Washington     0.1250356268 0.6790861261 0.6693868115   1.8639160485\n",
       "West Virginia  1.5911289550 1.5687910119 1.7113045304   0.0716453706\n",
       "Wisconsin      0.8550107222 0.0449914095 0.2253652497   1.9138657713\n",
       "Wyoming        1.8441095424 1.1245036904 0.7536875801   0.4132556859\n",
       "               South Dakota    Tennessee        Texas         Utah      Vermont\n",
       "Alaska                                                                         \n",
       "Arizona                                                                        \n",
       "Arkansas                                                                       \n",
       "California                                                                     \n",
       "Colorado                                                                       \n",
       "Connecticut                                                                    \n",
       "Delaware                                                                       \n",
       "Florida                                                                        \n",
       "Georgia                                                                        \n",
       "Hawaii                                                                         \n",
       "Idaho                                                                          \n",
       "Illinois                                                                       \n",
       "Indiana                                                                        \n",
       "Iowa                                                                           \n",
       "Kansas                                                                         \n",
       "Kentucky                                                                       \n",
       "Louisiana                                                                      \n",
       "Maine                                                                          \n",
       "Maryland                                                                       \n",
       "Massachusetts                                                                  \n",
       "Michigan                                                                       \n",
       "Minnesota                                                                      \n",
       "Mississippi                                                                    \n",
       "Missouri                                                                       \n",
       "Montana                                                                        \n",
       "Nebraska                                                                       \n",
       "Nevada                                                                         \n",
       "New Hampshire                                                                  \n",
       "New Jersey                                                                     \n",
       "New Mexico                                                                     \n",
       "New York                                                                       \n",
       "North Carolina                                                                 \n",
       "North Dakota                                                                   \n",
       "Ohio                                                                           \n",
       "Oklahoma                                                                       \n",
       "Oregon                                                                         \n",
       "Pennsylvania                                                                   \n",
       "Rhode Island                                                                   \n",
       "South Carolina                                                                 \n",
       "South Dakota                                                                   \n",
       "Tennessee      0.1273627621                                                    \n",
       "Texas          1.3532551592 0.8523188788                                       \n",
       "Utah           1.7739220612 1.8219725457 0.9734951576                          \n",
       "Vermont        0.0100223889 0.1736851072 1.4144547921 1.6770332905             \n",
       "Virginia       0.4074246189 0.0924766016 0.4570537882 1.6435425977 0.4631778030\n",
       "Washington     1.4820379795 1.6902263278 1.3043144506 0.0818347191 1.3541598701\n",
       "West Virginia  0.2010383453 0.0699588182 0.8590835241 1.9658528281 0.2891370076\n",
       "Wisconsin      1.9166857823 1.7120146536 0.4867300251 0.1456776132 1.8791013765\n",
       "Wyoming        1.0026095155 0.9216589901 0.9040447147 1.5974824356 1.1320832930\n",
       "                   Virginia   Washington West Virginia    Wisconsin\n",
       "Alaska                                                             \n",
       "Arizona                                                            \n",
       "Arkansas                                                           \n",
       "California                                                         \n",
       "Colorado                                                           \n",
       "Connecticut                                                        \n",
       "Delaware                                                           \n",
       "Florida                                                            \n",
       "Georgia                                                            \n",
       "Hawaii                                                             \n",
       "Idaho                                                              \n",
       "Illinois                                                           \n",
       "Indiana                                                            \n",
       "Iowa                                                               \n",
       "Kansas                                                             \n",
       "Kentucky                                                           \n",
       "Louisiana                                                          \n",
       "Maine                                                              \n",
       "Maryland                                                           \n",
       "Massachusetts                                                      \n",
       "Michigan                                                           \n",
       "Minnesota                                                          \n",
       "Mississippi                                                        \n",
       "Missouri                                                           \n",
       "Montana                                                            \n",
       "Nebraska                                                           \n",
       "Nevada                                                             \n",
       "New Hampshire                                                      \n",
       "New Jersey                                                         \n",
       "New Mexico                                                         \n",
       "New York                                                           \n",
       "North Carolina                                                     \n",
       "North Dakota                                                       \n",
       "Ohio                                                               \n",
       "Oklahoma                                                           \n",
       "Oregon                                                             \n",
       "Pennsylvania                                                       \n",
       "Rhode Island                                                       \n",
       "South Carolina                                                     \n",
       "South Dakota                                                       \n",
       "Tennessee                                                          \n",
       "Texas                                                              \n",
       "Utah                                                               \n",
       "Vermont                                                            \n",
       "Virginia                                                           \n",
       "Washington     1.6597348538                                        \n",
       "West Virginia  0.1816146555 1.8976998489                           \n",
       "Wisconsin      1.3640483557 0.4147626496  1.7773345725             \n",
       "Wyoming        0.9669925767 1.7609179290  0.5618676063 1.3197538043"
      ]
     },
     "metadata": {},
     "output_type": "display_data"
    }
   ],
   "source": [
    "matc=as.dist((1-t(cor(t(df)))))\n",
    "matc"
   ]
  },
  {
   "cell_type": "code",
   "execution_count": 26,
   "metadata": {},
   "outputs": [
    {
     "data": {
      "text/plain": [
       "    Min.  1st Qu.   Median     Mean  3rd Qu.     Max. \n",
       "0.000086 0.069135 0.133943 0.234193 0.262589 4.887686 "
      ]
     },
     "metadata": {},
     "output_type": "display_data"
    }
   ],
   "source": [
    "r=matc/matd\n",
    "summary(r)"
   ]
  },
  {
   "cell_type": "code",
   "execution_count": 27,
   "metadata": {},
   "outputs": [
    {
     "data": {
      "image/png": "[encoded data removed]",
      "text/plain": [
       "plot without title"
      ]
     },
     "metadata": {},
     "output_type": "display_data"
    }
   ],
   "source": [
    "plot(r)"
   ]
  },
  {
   "cell_type": "markdown",
   "metadata": {},
   "source": [
    "## Problem 8"
   ]
  },
  {
   "cell_type": "markdown",
   "metadata": {},
   "source": [
    "In Section 10.2.3, a formula for calculating PVE was given in Equation 10.8. We also saw that the PVE can be obtained using the sdev\n",
    "output of the prcomp() function.\n",
    "On the USArrests data, calculate PVE in two ways:\n",
    "\n",
    "(a) Using the sdev output of the prcomp() function, as was done in\n",
    "Section 10.2.3."
   ]
  },
  {
   "cell_type": "code",
   "execution_count": 28,
   "metadata": {
    "scrolled": true
   },
   "outputs": [
    {
     "data": {
      "text/plain": [
       "Importance of components:\n",
       "                          PC1    PC2     PC3     PC4\n",
       "Standard deviation     1.5749 0.9949 0.59713 0.41645\n",
       "Proportion of Variance 0.6201 0.2474 0.08914 0.04336\n",
       "Cumulative Proportion  0.6201 0.8675 0.95664 1.00000"
      ]
     },
     "metadata": {},
     "output_type": "display_data"
    }
   ],
   "source": [
    "pr.out=prcomp(USArrests, scale=TRUE)\n",
    "summary (pr.out)"
   ]
  },
  {
   "cell_type": "code",
   "execution_count": 79,
   "metadata": {},
   "outputs": [
    {
     "data": {
      "text/html": [
       "<ol class=list-inline>\n",
       "\t<li>0.620060394787373</li>\n",
       "\t<li>0.24744128813496</li>\n",
       "\t<li>0.0891407951452075</li>\n",
       "\t<li>0.0433575219324588</li>\n",
       "</ol>\n"
      ],
      "text/latex": [
       "\\begin{enumerate*}\n",
       "\\item 0.620060394787373\n",
       "\\item 0.24744128813496\n",
       "\\item 0.0891407951452075\n",
       "\\item 0.0433575219324588\n",
       "\\end{enumerate*}\n"
      ],
      "text/markdown": [
       "1. 0.620060394787373\n",
       "2. 0.24744128813496\n",
       "3. 0.0891407951452075\n",
       "4. 0.0433575219324588\n",
       "\n",
       "\n"
      ],
      "text/plain": [
       "[1] 0.62006039 0.24744129 0.08914080 0.04335752"
      ]
     },
     "metadata": {},
     "output_type": "display_data"
    }
   ],
   "source": [
    "pve =pr.out$sdev^2/sum(pr.out$sdev^2)\n",
    "pve"
   ]
  },
  {
   "cell_type": "markdown",
   "metadata": {},
   "source": [
    "(b) By applying Equation 10.8 directly. That is, use the prcomp()\n",
    "function to compute the principal component loadings. Then,\n",
    "use those loadings in Equation 10.8 to obtain the PVE."
   ]
  },
  {
   "cell_type": "code",
   "execution_count": 86,
   "metadata": {},
   "outputs": [
    {
     "data": {
      "text/html": [
       "<table>\n",
       "<thead><tr><th></th><th scope=col>PC1</th><th scope=col>PC2</th><th scope=col>PC3</th><th scope=col>PC4</th></tr></thead>\n",
       "<tbody>\n",
       "\t<tr><th scope=row>Murder</th><td>-0.5358995 </td><td> 0.4181809 </td><td>-0.3412327 </td><td> 0.64922780</td></tr>\n",
       "\t<tr><th scope=row>Assault</th><td>-0.5831836 </td><td> 0.1879856 </td><td>-0.2681484 </td><td>-0.74340748</td></tr>\n",
       "\t<tr><th scope=row>UrbanPop</th><td>-0.2781909 </td><td>-0.8728062 </td><td>-0.3780158 </td><td> 0.13387773</td></tr>\n",
       "\t<tr><th scope=row>Rape</th><td>-0.5434321 </td><td>-0.1673186 </td><td> 0.8177779 </td><td> 0.08902432</td></tr>\n",
       "</tbody>\n",
       "</table>\n"
      ],
      "text/latex": [
       "\\begin{tabular}{r|llll}\n",
       "  & PC1 & PC2 & PC3 & PC4\\\\\n",
       "\\hline\n",
       "\tMurder & -0.5358995  &  0.4181809  & -0.3412327  &  0.64922780\\\\\n",
       "\tAssault & -0.5831836  &  0.1879856  & -0.2681484  & -0.74340748\\\\\n",
       "\tUrbanPop & -0.2781909  & -0.8728062  & -0.3780158  &  0.13387773\\\\\n",
       "\tRape & -0.5434321  & -0.1673186  &  0.8177779  &  0.08902432\\\\\n",
       "\\end{tabular}\n"
      ],
      "text/markdown": [
       "\n",
       "| <!--/--> | PC1 | PC2 | PC3 | PC4 |\n",
       "|---|---|---|---|---|\n",
       "| Murder | -0.5358995  |  0.4181809  | -0.3412327  |  0.64922780 |\n",
       "| Assault | -0.5831836  |  0.1879856  | -0.2681484  | -0.74340748 |\n",
       "| UrbanPop | -0.2781909  | -0.8728062  | -0.3780158  |  0.13387773 |\n",
       "| Rape | -0.5434321  | -0.1673186  |  0.8177779  |  0.08902432 |\n",
       "\n"
      ],
      "text/plain": [
       "         PC1        PC2        PC3        PC4        \n",
       "Murder   -0.5358995  0.4181809 -0.3412327  0.64922780\n",
       "Assault  -0.5831836  0.1879856 -0.2681484 -0.74340748\n",
       "UrbanPop -0.2781909 -0.8728062 -0.3780158  0.13387773\n",
       "Rape     -0.5434321 -0.1673186  0.8177779  0.08902432"
      ]
     },
     "metadata": {},
     "output_type": "display_data"
    }
   ],
   "source": [
    "pr.out$rotation"
   ]
  },
  {
   "cell_type": "code",
   "execution_count": 96,
   "metadata": {},
   "outputs": [
    {
     "data": {
      "text/html": [
       "<dl class=dl-horizontal>\n",
       "\t<dt>PC1</dt>\n",
       "\t\t<dd>0.620060394787374</dd>\n",
       "\t<dt>PC2</dt>\n",
       "\t\t<dd>0.24744128813496</dd>\n",
       "\t<dt>PC3</dt>\n",
       "\t\t<dd>0.0891407951452075</dd>\n",
       "\t<dt>PC4</dt>\n",
       "\t\t<dd>0.0433575219324588</dd>\n",
       "</dl>\n"
      ],
      "text/latex": [
       "\\begin{description*}\n",
       "\\item[PC1] 0.620060394787374\n",
       "\\item[PC2] 0.24744128813496\n",
       "\\item[PC3] 0.0891407951452075\n",
       "\\item[PC4] 0.0433575219324588\n",
       "\\end{description*}\n"
      ],
      "text/markdown": [
       "PC1\n",
       ":   0.620060394787374PC2\n",
       ":   0.24744128813496PC3\n",
       ":   0.0891407951452075PC4\n",
       ":   0.0433575219324588\n",
       "\n"
      ],
      "text/plain": [
       "       PC1        PC2        PC3        PC4 \n",
       "0.62006039 0.24744129 0.08914080 0.04335752 "
      ]
     },
     "metadata": {},
     "output_type": "display_data"
    }
   ],
   "source": [
    "apply((as.matrix(scale(USArrests)) %*% pr.out$rotation)^2, 2, sum)/sum(apply(as.matrix(scale(USArrests))^2, 2, sum))"
   ]
  },
  {
   "cell_type": "markdown",
   "metadata": {},
   "source": [
    "## Problem 9"
   ]
  },
  {
   "cell_type": "markdown",
   "metadata": {},
   "source": [
    "Consider the USArrests data. We will now perform hierarchical clustering on the states.\n",
    "\n",
    "(a) Using hierarchical clustering with complete linkage and\n",
    "Euclidean distance, cluster the states"
   ]
  },
  {
   "cell_type": "code",
   "execution_count": 106,
   "metadata": {},
   "outputs": [
    {
     "data": {
      "image/png": "[encoded data removed]",
      "text/plain": [
       "Plot with title \"Cluster Dendrogram\""
      ]
     },
     "metadata": {},
     "output_type": "display_data"
    }
   ],
   "source": [
    "hc.complete =hclust(dist(USArrests), method=\"complete\")\n",
    "plot(hc.complete, cex = 0.7)"
   ]
  },
  {
   "cell_type": "markdown",
   "metadata": {},
   "source": [
    "(b) Cut the dendrogram at a height that results in three distinct\n",
    "clusters. Which states belong to which clusters?"
   ]
  },
  {
   "cell_type": "code",
   "execution_count": 111,
   "metadata": {},
   "outputs": [
    {
     "data": {
      "text/html": [
       "<dl class=dl-horizontal>\n",
       "\t<dt>Alabama</dt>\n",
       "\t\t<dd>1</dd>\n",
       "\t<dt>Alaska</dt>\n",
       "\t\t<dd>1</dd>\n",
       "\t<dt>Arizona</dt>\n",
       "\t\t<dd>1</dd>\n",
       "\t<dt>Arkansas</dt>\n",
       "\t\t<dd>2</dd>\n",
       "\t<dt>California</dt>\n",
       "\t\t<dd>1</dd>\n",
       "\t<dt>Colorado</dt>\n",
       "\t\t<dd>2</dd>\n",
       "\t<dt>Connecticut</dt>\n",
       "\t\t<dd>3</dd>\n",
       "\t<dt>Delaware</dt>\n",
       "\t\t<dd>1</dd>\n",
       "\t<dt>Florida</dt>\n",
       "\t\t<dd>1</dd>\n",
       "\t<dt>Georgia</dt>\n",
       "\t\t<dd>2</dd>\n",
       "\t<dt>Hawaii</dt>\n",
       "\t\t<dd>3</dd>\n",
       "\t<dt>Idaho</dt>\n",
       "\t\t<dd>3</dd>\n",
       "\t<dt>Illinois</dt>\n",
       "\t\t<dd>1</dd>\n",
       "\t<dt>Indiana</dt>\n",
       "\t\t<dd>3</dd>\n",
       "\t<dt>Iowa</dt>\n",
       "\t\t<dd>3</dd>\n",
       "\t<dt>Kansas</dt>\n",
       "\t\t<dd>3</dd>\n",
       "\t<dt>Kentucky</dt>\n",
       "\t\t<dd>3</dd>\n",
       "\t<dt>Louisiana</dt>\n",
       "\t\t<dd>1</dd>\n",
       "\t<dt>Maine</dt>\n",
       "\t\t<dd>3</dd>\n",
       "\t<dt>Maryland</dt>\n",
       "\t\t<dd>1</dd>\n",
       "\t<dt>Massachusetts</dt>\n",
       "\t\t<dd>2</dd>\n",
       "\t<dt>Michigan</dt>\n",
       "\t\t<dd>1</dd>\n",
       "\t<dt>Minnesota</dt>\n",
       "\t\t<dd>3</dd>\n",
       "\t<dt>Mississippi</dt>\n",
       "\t\t<dd>1</dd>\n",
       "\t<dt>Missouri</dt>\n",
       "\t\t<dd>2</dd>\n",
       "\t<dt>Montana</dt>\n",
       "\t\t<dd>3</dd>\n",
       "\t<dt>Nebraska</dt>\n",
       "\t\t<dd>3</dd>\n",
       "\t<dt>Nevada</dt>\n",
       "\t\t<dd>1</dd>\n",
       "\t<dt>New Hampshire</dt>\n",
       "\t\t<dd>3</dd>\n",
       "\t<dt>New Jersey</dt>\n",
       "\t\t<dd>2</dd>\n",
       "\t<dt>New Mexico</dt>\n",
       "\t\t<dd>1</dd>\n",
       "\t<dt>New York</dt>\n",
       "\t\t<dd>1</dd>\n",
       "\t<dt>North Carolina</dt>\n",
       "\t\t<dd>1</dd>\n",
       "\t<dt>North Dakota</dt>\n",
       "\t\t<dd>3</dd>\n",
       "\t<dt>Ohio</dt>\n",
       "\t\t<dd>3</dd>\n",
       "\t<dt>Oklahoma</dt>\n",
       "\t\t<dd>2</dd>\n",
       "\t<dt>Oregon</dt>\n",
       "\t\t<dd>2</dd>\n",
       "\t<dt>Pennsylvania</dt>\n",
       "\t\t<dd>3</dd>\n",
       "\t<dt>Rhode Island</dt>\n",
       "\t\t<dd>2</dd>\n",
       "\t<dt>South Carolina</dt>\n",
       "\t\t<dd>1</dd>\n",
       "\t<dt>South Dakota</dt>\n",
       "\t\t<dd>3</dd>\n",
       "\t<dt>Tennessee</dt>\n",
       "\t\t<dd>2</dd>\n",
       "\t<dt>Texas</dt>\n",
       "\t\t<dd>2</dd>\n",
       "\t<dt>Utah</dt>\n",
       "\t\t<dd>3</dd>\n",
       "\t<dt>Vermont</dt>\n",
       "\t\t<dd>3</dd>\n",
       "\t<dt>Virginia</dt>\n",
       "\t\t<dd>2</dd>\n",
       "\t<dt>Washington</dt>\n",
       "\t\t<dd>2</dd>\n",
       "\t<dt>West Virginia</dt>\n",
       "\t\t<dd>3</dd>\n",
       "\t<dt>Wisconsin</dt>\n",
       "\t\t<dd>3</dd>\n",
       "\t<dt>Wyoming</dt>\n",
       "\t\t<dd>2</dd>\n",
       "</dl>\n"
      ],
      "text/latex": [
       "\\begin{description*}\n",
       "\\item[Alabama] 1\n",
       "\\item[Alaska] 1\n",
       "\\item[Arizona] 1\n",
       "\\item[Arkansas] 2\n",
       "\\item[California] 1\n",
       "\\item[Colorado] 2\n",
       "\\item[Connecticut] 3\n",
       "\\item[Delaware] 1\n",
       "\\item[Florida] 1\n",
       "\\item[Georgia] 2\n",
       "\\item[Hawaii] 3\n",
       "\\item[Idaho] 3\n",
       "\\item[Illinois] 1\n",
       "\\item[Indiana] 3\n",
       "\\item[Iowa] 3\n",
       "\\item[Kansas] 3\n",
       "\\item[Kentucky] 3\n",
       "\\item[Louisiana] 1\n",
       "\\item[Maine] 3\n",
       "\\item[Maryland] 1\n",
       "\\item[Massachusetts] 2\n",
       "\\item[Michigan] 1\n",
       "\\item[Minnesota] 3\n",
       "\\item[Mississippi] 1\n",
       "\\item[Missouri] 2\n",
       "\\item[Montana] 3\n",
       "\\item[Nebraska] 3\n",
       "\\item[Nevada] 1\n",
       "\\item[New Hampshire] 3\n",
       "\\item[New Jersey] 2\n",
       "\\item[New Mexico] 1\n",
       "\\item[New York] 1\n",
       "\\item[North Carolina] 1\n",
       "\\item[North Dakota] 3\n",
       "\\item[Ohio] 3\n",
       "\\item[Oklahoma] 2\n",
       "\\item[Oregon] 2\n",
       "\\item[Pennsylvania] 3\n",
       "\\item[Rhode Island] 2\n",
       "\\item[South Carolina] 1\n",
       "\\item[South Dakota] 3\n",
       "\\item[Tennessee] 2\n",
       "\\item[Texas] 2\n",
       "\\item[Utah] 3\n",
       "\\item[Vermont] 3\n",
       "\\item[Virginia] 2\n",
       "\\item[Washington] 2\n",
       "\\item[West Virginia] 3\n",
       "\\item[Wisconsin] 3\n",
       "\\item[Wyoming] 2\n",
       "\\end{description*}\n"
      ],
      "text/markdown": [
       "Alabama\n",
       ":   1Alaska\n",
       ":   1Arizona\n",
       ":   1Arkansas\n",
       ":   2California\n",
       ":   1Colorado\n",
       ":   2Connecticut\n",
       ":   3Delaware\n",
       ":   1Florida\n",
       ":   1Georgia\n",
       ":   2Hawaii\n",
       ":   3Idaho\n",
       ":   3Illinois\n",
       ":   1Indiana\n",
       ":   3Iowa\n",
       ":   3Kansas\n",
       ":   3Kentucky\n",
       ":   3Louisiana\n",
       ":   1Maine\n",
       ":   3Maryland\n",
       ":   1Massachusetts\n",
       ":   2Michigan\n",
       ":   1Minnesota\n",
       ":   3Mississippi\n",
       ":   1Missouri\n",
       ":   2Montana\n",
       ":   3Nebraska\n",
       ":   3Nevada\n",
       ":   1New Hampshire\n",
       ":   3New Jersey\n",
       ":   2New Mexico\n",
       ":   1New York\n",
       ":   1North Carolina\n",
       ":   1North Dakota\n",
       ":   3Ohio\n",
       ":   3Oklahoma\n",
       ":   2Oregon\n",
       ":   2Pennsylvania\n",
       ":   3Rhode Island\n",
       ":   2South Carolina\n",
       ":   1South Dakota\n",
       ":   3Tennessee\n",
       ":   2Texas\n",
       ":   2Utah\n",
       ":   3Vermont\n",
       ":   3Virginia\n",
       ":   2Washington\n",
       ":   2West Virginia\n",
       ":   3Wisconsin\n",
       ":   3Wyoming\n",
       ":   2\n",
       "\n"
      ],
      "text/plain": [
       "       Alabama         Alaska        Arizona       Arkansas     California \n",
       "             1              1              1              2              1 \n",
       "      Colorado    Connecticut       Delaware        Florida        Georgia \n",
       "             2              3              1              1              2 \n",
       "        Hawaii          Idaho       Illinois        Indiana           Iowa \n",
       "             3              3              1              3              3 \n",
       "        Kansas       Kentucky      Louisiana          Maine       Maryland \n",
       "             3              3              1              3              1 \n",
       " Massachusetts       Michigan      Minnesota    Mississippi       Missouri \n",
       "             2              1              3              1              2 \n",
       "       Montana       Nebraska         Nevada  New Hampshire     New Jersey \n",
       "             3              3              1              3              2 \n",
       "    New Mexico       New York North Carolina   North Dakota           Ohio \n",
       "             1              1              1              3              3 \n",
       "      Oklahoma         Oregon   Pennsylvania   Rhode Island South Carolina \n",
       "             2              2              3              2              1 \n",
       "  South Dakota      Tennessee          Texas           Utah        Vermont \n",
       "             3              2              2              3              3 \n",
       "      Virginia     Washington  West Virginia      Wisconsin        Wyoming \n",
       "             2              2              3              3              2 "
      ]
     },
     "metadata": {},
     "output_type": "display_data"
    }
   ],
   "source": [
    "cutree(hc.complete , 3)"
   ]
  },
  {
   "cell_type": "markdown",
   "metadata": {},
   "source": [
    "(c) Hierarchically cluster the states using complete linkage and Euclidean distance, after scaling the variables to have standard deviation one"
   ]
  },
  {
   "cell_type": "code",
   "execution_count": 112,
   "metadata": {},
   "outputs": [
    {
     "data": {
      "image/png": "[encoded data removed]",
      "text/plain": [
       "Plot with title \"Cluster Dendrogram\""
      ]
     },
     "metadata": {},
     "output_type": "display_data"
    }
   ],
   "source": [
    "hc.complete =hclust(dist(scale(USArrests)), method=\"complete\")\n",
    "plot(hc.complete, cex = 0.7)"
   ]
  },
  {
   "cell_type": "markdown",
   "metadata": {},
   "source": [
    " (d) What effect does scaling the variables have on the hierarchical\n",
    "clustering obtained? In your opinion, should the variables be\n",
    "scaled before the inter-observation dissimilarities are computed?\n",
    "Provide a justification for your answer."
   ]
  },
  {
   "cell_type": "code",
   "execution_count": 115,
   "metadata": {},
   "outputs": [
    {
     "data": {
      "text/html": [
       "<dl class=dl-horizontal>\n",
       "\t<dt>Alabama</dt>\n",
       "\t\t<dd>1</dd>\n",
       "\t<dt>Alaska</dt>\n",
       "\t\t<dd>1</dd>\n",
       "\t<dt>Arizona</dt>\n",
       "\t\t<dd>2</dd>\n",
       "\t<dt>Arkansas</dt>\n",
       "\t\t<dd>3</dd>\n",
       "\t<dt>California</dt>\n",
       "\t\t<dd>2</dd>\n",
       "\t<dt>Colorado</dt>\n",
       "\t\t<dd>2</dd>\n",
       "\t<dt>Connecticut</dt>\n",
       "\t\t<dd>3</dd>\n",
       "\t<dt>Delaware</dt>\n",
       "\t\t<dd>3</dd>\n",
       "\t<dt>Florida</dt>\n",
       "\t\t<dd>2</dd>\n",
       "\t<dt>Georgia</dt>\n",
       "\t\t<dd>1</dd>\n",
       "\t<dt>Hawaii</dt>\n",
       "\t\t<dd>3</dd>\n",
       "\t<dt>Idaho</dt>\n",
       "\t\t<dd>3</dd>\n",
       "\t<dt>Illinois</dt>\n",
       "\t\t<dd>2</dd>\n",
       "\t<dt>Indiana</dt>\n",
       "\t\t<dd>3</dd>\n",
       "\t<dt>Iowa</dt>\n",
       "\t\t<dd>3</dd>\n",
       "\t<dt>Kansas</dt>\n",
       "\t\t<dd>3</dd>\n",
       "\t<dt>Kentucky</dt>\n",
       "\t\t<dd>3</dd>\n",
       "\t<dt>Louisiana</dt>\n",
       "\t\t<dd>1</dd>\n",
       "\t<dt>Maine</dt>\n",
       "\t\t<dd>3</dd>\n",
       "\t<dt>Maryland</dt>\n",
       "\t\t<dd>2</dd>\n",
       "\t<dt>Massachusetts</dt>\n",
       "\t\t<dd>3</dd>\n",
       "\t<dt>Michigan</dt>\n",
       "\t\t<dd>2</dd>\n",
       "\t<dt>Minnesota</dt>\n",
       "\t\t<dd>3</dd>\n",
       "\t<dt>Mississippi</dt>\n",
       "\t\t<dd>1</dd>\n",
       "\t<dt>Missouri</dt>\n",
       "\t\t<dd>3</dd>\n",
       "\t<dt>Montana</dt>\n",
       "\t\t<dd>3</dd>\n",
       "\t<dt>Nebraska</dt>\n",
       "\t\t<dd>3</dd>\n",
       "\t<dt>Nevada</dt>\n",
       "\t\t<dd>2</dd>\n",
       "\t<dt>New Hampshire</dt>\n",
       "\t\t<dd>3</dd>\n",
       "\t<dt>New Jersey</dt>\n",
       "\t\t<dd>3</dd>\n",
       "\t<dt>New Mexico</dt>\n",
       "\t\t<dd>2</dd>\n",
       "\t<dt>New York</dt>\n",
       "\t\t<dd>2</dd>\n",
       "\t<dt>North Carolina</dt>\n",
       "\t\t<dd>1</dd>\n",
       "\t<dt>North Dakota</dt>\n",
       "\t\t<dd>3</dd>\n",
       "\t<dt>Ohio</dt>\n",
       "\t\t<dd>3</dd>\n",
       "\t<dt>Oklahoma</dt>\n",
       "\t\t<dd>3</dd>\n",
       "\t<dt>Oregon</dt>\n",
       "\t\t<dd>3</dd>\n",
       "\t<dt>Pennsylvania</dt>\n",
       "\t\t<dd>3</dd>\n",
       "\t<dt>Rhode Island</dt>\n",
       "\t\t<dd>3</dd>\n",
       "\t<dt>South Carolina</dt>\n",
       "\t\t<dd>1</dd>\n",
       "\t<dt>South Dakota</dt>\n",
       "\t\t<dd>3</dd>\n",
       "\t<dt>Tennessee</dt>\n",
       "\t\t<dd>1</dd>\n",
       "\t<dt>Texas</dt>\n",
       "\t\t<dd>2</dd>\n",
       "\t<dt>Utah</dt>\n",
       "\t\t<dd>3</dd>\n",
       "\t<dt>Vermont</dt>\n",
       "\t\t<dd>3</dd>\n",
       "\t<dt>Virginia</dt>\n",
       "\t\t<dd>3</dd>\n",
       "\t<dt>Washington</dt>\n",
       "\t\t<dd>3</dd>\n",
       "\t<dt>West Virginia</dt>\n",
       "\t\t<dd>3</dd>\n",
       "\t<dt>Wisconsin</dt>\n",
       "\t\t<dd>3</dd>\n",
       "\t<dt>Wyoming</dt>\n",
       "\t\t<dd>3</dd>\n",
       "</dl>\n"
      ],
      "text/latex": [
       "\\begin{description*}\n",
       "\\item[Alabama] 1\n",
       "\\item[Alaska] 1\n",
       "\\item[Arizona] 2\n",
       "\\item[Arkansas] 3\n",
       "\\item[California] 2\n",
       "\\item[Colorado] 2\n",
       "\\item[Connecticut] 3\n",
       "\\item[Delaware] 3\n",
       "\\item[Florida] 2\n",
       "\\item[Georgia] 1\n",
       "\\item[Hawaii] 3\n",
       "\\item[Idaho] 3\n",
       "\\item[Illinois] 2\n",
       "\\item[Indiana] 3\n",
       "\\item[Iowa] 3\n",
       "\\item[Kansas] 3\n",
       "\\item[Kentucky] 3\n",
       "\\item[Louisiana] 1\n",
       "\\item[Maine] 3\n",
       "\\item[Maryland] 2\n",
       "\\item[Massachusetts] 3\n",
       "\\item[Michigan] 2\n",
       "\\item[Minnesota] 3\n",
       "\\item[Mississippi] 1\n",
       "\\item[Missouri] 3\n",
       "\\item[Montana] 3\n",
       "\\item[Nebraska] 3\n",
       "\\item[Nevada] 2\n",
       "\\item[New Hampshire] 3\n",
       "\\item[New Jersey] 3\n",
       "\\item[New Mexico] 2\n",
       "\\item[New York] 2\n",
       "\\item[North Carolina] 1\n",
       "\\item[North Dakota] 3\n",
       "\\item[Ohio] 3\n",
       "\\item[Oklahoma] 3\n",
       "\\item[Oregon] 3\n",
       "\\item[Pennsylvania] 3\n",
       "\\item[Rhode Island] 3\n",
       "\\item[South Carolina] 1\n",
       "\\item[South Dakota] 3\n",
       "\\item[Tennessee] 1\n",
       "\\item[Texas] 2\n",
       "\\item[Utah] 3\n",
       "\\item[Vermont] 3\n",
       "\\item[Virginia] 3\n",
       "\\item[Washington] 3\n",
       "\\item[West Virginia] 3\n",
       "\\item[Wisconsin] 3\n",
       "\\item[Wyoming] 3\n",
       "\\end{description*}\n"
      ],
      "text/markdown": [
       "Alabama\n",
       ":   1Alaska\n",
       ":   1Arizona\n",
       ":   2Arkansas\n",
       ":   3California\n",
       ":   2Colorado\n",
       ":   2Connecticut\n",
       ":   3Delaware\n",
       ":   3Florida\n",
       ":   2Georgia\n",
       ":   1Hawaii\n",
       ":   3Idaho\n",
       ":   3Illinois\n",
       ":   2Indiana\n",
       ":   3Iowa\n",
       ":   3Kansas\n",
       ":   3Kentucky\n",
       ":   3Louisiana\n",
       ":   1Maine\n",
       ":   3Maryland\n",
       ":   2Massachusetts\n",
       ":   3Michigan\n",
       ":   2Minnesota\n",
       ":   3Mississippi\n",
       ":   1Missouri\n",
       ":   3Montana\n",
       ":   3Nebraska\n",
       ":   3Nevada\n",
       ":   2New Hampshire\n",
       ":   3New Jersey\n",
       ":   3New Mexico\n",
       ":   2New York\n",
       ":   2North Carolina\n",
       ":   1North Dakota\n",
       ":   3Ohio\n",
       ":   3Oklahoma\n",
       ":   3Oregon\n",
       ":   3Pennsylvania\n",
       ":   3Rhode Island\n",
       ":   3South Carolina\n",
       ":   1South Dakota\n",
       ":   3Tennessee\n",
       ":   1Texas\n",
       ":   2Utah\n",
       ":   3Vermont\n",
       ":   3Virginia\n",
       ":   3Washington\n",
       ":   3West Virginia\n",
       ":   3Wisconsin\n",
       ":   3Wyoming\n",
       ":   3\n",
       "\n"
      ],
      "text/plain": [
       "       Alabama         Alaska        Arizona       Arkansas     California \n",
       "             1              1              2              3              2 \n",
       "      Colorado    Connecticut       Delaware        Florida        Georgia \n",
       "             2              3              3              2              1 \n",
       "        Hawaii          Idaho       Illinois        Indiana           Iowa \n",
       "             3              3              2              3              3 \n",
       "        Kansas       Kentucky      Louisiana          Maine       Maryland \n",
       "             3              3              1              3              2 \n",
       " Massachusetts       Michigan      Minnesota    Mississippi       Missouri \n",
       "             3              2              3              1              3 \n",
       "       Montana       Nebraska         Nevada  New Hampshire     New Jersey \n",
       "             3              3              2              3              3 \n",
       "    New Mexico       New York North Carolina   North Dakota           Ohio \n",
       "             2              2              1              3              3 \n",
       "      Oklahoma         Oregon   Pennsylvania   Rhode Island South Carolina \n",
       "             3              3              3              3              1 \n",
       "  South Dakota      Tennessee          Texas           Utah        Vermont \n",
       "             3              1              2              3              3 \n",
       "      Virginia     Washington  West Virginia      Wisconsin        Wyoming \n",
       "             3              3              3              3              3 "
      ]
     },
     "metadata": {},
     "output_type": "display_data"
    }
   ],
   "source": [
    "cutree(hc.complete, 3)"
   ]
  },
  {
   "cell_type": "markdown",
   "metadata": {},
   "source": [
    "It depends on what we are scaling, how the features that we are scaling change. In this case scaling is good."
   ]
  }
 ],
 "metadata": {
  "kernelspec": {
   "display_name": "R",
   "language": "R",
   "name": "ir"
  },
  "language_info": {
   "codemirror_mode": "r",
   "file_extension": ".r",
   "mimetype": "text/x-r-source",
   "name": "R",
   "pygments_lexer": "r",
   "version": "3.6.1"
  }
 },
 "nbformat": 4,
 "nbformat_minor": 4
}
