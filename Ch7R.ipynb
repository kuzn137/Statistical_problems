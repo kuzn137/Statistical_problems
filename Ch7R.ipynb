{
 "cells": [
  {
   "cell_type": "markdown",
   "metadata": {},
   "source": [
    "# Chapter 7"
   ]
  },
  {
   "cell_type": "code",
   "execution_count": 1,
   "metadata": {},
   "outputs": [
    {
     "name": "stderr",
     "output_type": "stream",
     "text": [
      "Warning message:\n",
      "\"package 'ISLR' was built under R version 3.6.3\"Warning message:\n",
      "\"package 'leaps' was built under R version 3.6.3\"Warning message:\n",
      "\"package 'gam' was built under R version 3.6.3\"Loading required package: splines\n",
      "Loading required package: foreach\n",
      "Loaded gam 1.16.1\n",
      "\n"
     ]
    }
   ],
   "source": [
    "library(ISLR)\n",
    "library(boot)\n",
    "library(MASS)\n",
    "library(leaps)\n",
    "library(gam)\n",
    "library(splines)\n",
    "#library(Rfast)"
   ]
  },
  {
   "cell_type": "markdown",
   "metadata": {},
   "source": [
    "## Functions"
   ]
  },
  {
   "cell_type": "code",
   "execution_count": 2,
   "metadata": {},
   "outputs": [],
   "source": [
    "plot_pred= function(x, y, preds, grid, xlab, ylab){\n",
    "    plot(x, y, xlab = xlab, ylab = ylab, col=\"darkgrey\")\n",
    "    lines(grid, preds$fit, lwd=3, col='blue')\n",
    " #   se.bands=cbind(preds$fit +2*preds$se.fit ,preds$fit -2* preds$se.fit)\n",
    " #   matlines (age.grid, se.bands, lwd=1, col=\" blue\",lty=3)\n",
    "    }\n",
    "regsubresult=function(reg.sum){\n",
    "    print('Adjusted R2')\n",
    "    print(which.max(reg.sum$adjr2))\n",
    "    print(max(reg.sum$adjr2))\n",
    "    print(\"C_p\")\n",
    "    print(which.min(reg.sum$cp))\n",
    "    print(min(reg.sum$cp))\n",
    "    print(\"BIC\")\n",
    "    print(which.min(reg.sum$bic))\n",
    "    print(min(reg.sum$bic))\n",
    "}\n",
    "regsubplot=function(reg.sum){\n",
    "    par(mfrow = c(2, 2))\n",
    "    plot(1:8, reg.sum$adjr2, type=\"b\", col=\"blue\", xlab = \"Model\", ylab = \"R2\")\n",
    "    plot(1:8, reg.sum$cp, type=\"b\", col=\"blue\",xlab = \"Model\", ylab = \"C_p\")\n",
    "    plot(1:8, reg.sum$bic, type=\"b\", , col = \"blue\", xlab = \"Model\", ylab = \"BIC\")\n",
    "   }"
   ]
  },
  {
   "cell_type": "markdown",
   "metadata": {},
   "source": [
    "## Problem 1"
   ]
  },
  {
   "cell_type": "markdown",
   "metadata": {},
   "source": [
    "(a) For $x<=\\xi$ $a_1=\\beta_0, b_1=\\beta_1, c_1 = \\beta_2, d_1=\\beta_3$"
   ]
  },
  {
   "cell_type": "markdown",
   "metadata": {},
   "source": [
    "(b) For x>$\\xi$ $a_2=\\beta_0-\\beta_4\\xi^3, b_2=\\beta_1+3\\beta_4\\xi^2, c_2 = \\beta_2-3\\beta_4\\xi, d_2 = \\beta_4 +\\beta_3 $"
   ]
  },
  {
   "cell_type": "markdown",
   "metadata": {},
   "source": [
    "(c), (d)  and (e) is possible to show considering f(x) and $f_1(x)$ because last term in f(x) and its derivatives, first and second, always go to zero and so are continious from both sides at $\\xi$. Rest of equation is the same on both sides."
   ]
  },
  {
   "cell_type": "markdown",
   "metadata": {},
   "source": [
    "## Problem 2"
   ]
  },
  {
   "cell_type": "markdown",
   "metadata": {},
   "source": [
    "(a) λ = ∞, m = 0.\n",
    "\n",
    "In this case $g^{(0)}$ will go to 0.\n",
    "\n",
    "(b) λ = ∞, m = 1.\n",
    "\n",
    "In this case first derivative, slope $g^{(1)}$, will go to 0.\n",
    "\n",
    "(c) λ = ∞, m = 2.\n",
    "\n",
    "In this case, second derivative from g goes to zero, function g smooth out.\n",
    "\n",
    "(d) λ = ∞, m = 3.\n",
    "\n",
    "In this case third derivative from g goes to zero.\n",
    "\n",
    "(e) λ = 0, m = 3.\n",
    "\n",
    "In this case last penalty term goes to zero."
   ]
  },
  {
   "cell_type": "markdown",
   "metadata": {},
   "source": [
    "## Problem 3"
   ]
  },
  {
   "cell_type": "markdown",
   "metadata": {},
   "source": [
    "Suppose we fit a curve with basis functions b1(X) = X, b2(X) = (X − 1)2I(X ≥ 1). (Note that I(X ≥ 1) equals 1 for X ≥ 1 and 0\n",
    "otherwise.) We fit the linear regression model\n",
    "Y = β0 + β1b1(X) + β2b2(X) + ,\n",
    "and obtain coefficient estimates βˆ0 = 1, βˆ1 = 1, βˆ2 = −2. Sketch the\n",
    "estimated curve between X = −2 and X = 2. Note the intercepts,\n",
    "slopes, and other relevant information"
   ]
  },
  {
   "cell_type": "code",
   "execution_count": 3,
   "metadata": {},
   "outputs": [
    {
     "data": {
      "image/png": "[encoded data removed]",
      "text/plain": [
       "plot without title"
      ]
     },
     "metadata": {},
     "output_type": "display_data"
    }
   ],
   "source": [
    "x = -2:2\n",
    "y = 1 + x + -2 * (x-1)^2 * I(x>1)\n",
    "plot(x, y)"
   ]
  },
  {
   "cell_type": "markdown",
   "metadata": {},
   "source": [
    "## Problem 4"
   ]
  },
  {
   "cell_type": "markdown",
   "metadata": {},
   "source": [
    "Suppose we fit a curve with basis functions b1(X) = I(0 ≤ X ≤ 2) −\n",
    "(X −1)I(1 ≤ X ≤ 2), b2(X)=(X −3)I(3 ≤ X ≤ 4) +I(4 < X ≤ 5).\n",
    "We fit the linear regression model\n",
    "Y = β0 + β1b1(X) + β2b2(X) + ,\n",
    "and obtain coefficient estimates βˆ0 = 1, βˆ1 = 1, βˆ2 = 3. Sketch the\n",
    "estimated curve between X = −2 and X = 2. Note the intercepts,\n",
    "slopes, and other relevant information."
   ]
  },
  {
   "cell_type": "code",
   "execution_count": 53,
   "metadata": {},
   "outputs": [
    {
     "data": {
      "image/png": "[encoded data removed]",
      "text/plain": [
       "plot without title"
      ]
     },
     "metadata": {},
     "output_type": "display_data"
    }
   ],
   "source": [
    "x = -2:2\n",
    "y = 1 + I(x>=0)-(x-1)*I(x>=1) + 3 * (x-3) *I(x>=3)+ I(x>4)\n",
    "plot(x, y)"
   ]
  },
  {
   "cell_type": "markdown",
   "metadata": {},
   "source": [
    "## Problem 5"
   ]
  },
  {
   "cell_type": "markdown",
   "metadata": {},
   "source": [
    "(a) As λ → ∞, will $\\hat{g}_2$  or $\\hat{g}_2$  have the smaller training RSS?"
   ]
  },
  {
   "cell_type": "markdown",
   "metadata": {},
   "source": [
    "In this 1st case third derivative from g goes to zero, in the second case it may start from 4th. So degree of g can be smaller in the first case, it can be less flexible. $\\hat{g}_2$ more possible have smaller training RSS."
   ]
  },
  {
   "cell_type": "markdown",
   "metadata": {},
   "source": [
    "(b) As λ → ∞, will $\\hat{g}_2$  or $\\hat{g}_2$  have the smaller test RSS?"
   ]
  },
  {
   "cell_type": "markdown",
   "metadata": {},
   "source": [
    "So from above test RSS will be smaller for $\\hat{g}_1$, $\\hat{g}_2$  can overfit"
   ]
  },
  {
   "cell_type": "markdown",
   "metadata": {},
   "source": [
    "(c) For λ = 0, will $\\hat{g}_2$  or $\\hat{g}_2$  have the smaller training and test RSS?"
   ]
  },
  {
   "cell_type": "markdown",
   "metadata": {},
   "source": [
    "In this case $\\hat{g}_2$  and $\\hat{g}_1$ are the same with the same RSS "
   ]
  },
  {
   "cell_type": "markdown",
   "metadata": {},
   "source": [
    "## Problem 6"
   ]
  },
  {
   "cell_type": "code",
   "execution_count": 5,
   "metadata": {},
   "outputs": [
    {
     "data": {
      "text/html": [
       "<table>\n",
       "<thead><tr><th></th><th scope=col>year</th><th scope=col>age</th><th scope=col>maritl</th><th scope=col>race</th><th scope=col>education</th><th scope=col>region</th><th scope=col>jobclass</th><th scope=col>health</th><th scope=col>health_ins</th><th scope=col>logwage</th><th scope=col>wage</th></tr></thead>\n",
       "<tbody>\n",
       "\t<tr><th scope=row>231655</th><td>2006                                                      </td><td>18                                                        </td><td>1. Never Married                                          </td><td>1. White                                                  </td><td><span style=white-space:pre-wrap>1. &lt; HS Grad   </span></td><td>2. Middle Atlantic                                        </td><td>1. Industrial                                             </td><td><span style=white-space:pre-wrap>1. &lt;=Good     </span> </td><td>2. No                                                     </td><td>4.318063                                                  </td><td> 75.04315                                                 </td></tr>\n",
       "\t<tr><th scope=row>86582</th><td>2004              </td><td>24                </td><td>1. Never Married  </td><td>1. White          </td><td>4. College Grad   </td><td>2. Middle Atlantic</td><td>2. Information    </td><td>2. &gt;=Very Good </td><td>2. No             </td><td>4.255273          </td><td> 70.47602         </td></tr>\n",
       "\t<tr><th scope=row>161300</th><td>2003                                                     </td><td>45                                                       </td><td><span style=white-space:pre-wrap>2. Married      </span> </td><td>1. White                                                 </td><td>3. Some College                                          </td><td>2. Middle Atlantic                                       </td><td>1. Industrial                                            </td><td><span style=white-space:pre-wrap>1. &lt;=Good     </span></td><td>1. Yes                                                   </td><td>4.875061                                                 </td><td>130.98218                                                </td></tr>\n",
       "\t<tr><th scope=row>155159</th><td>2003                                                    </td><td>43                                                      </td><td><span style=white-space:pre-wrap>2. Married      </span></td><td>3. Asian                                                </td><td>4. College Grad                                         </td><td>2. Middle Atlantic                                      </td><td>2. Information                                          </td><td>2. &gt;=Very Good                                       </td><td>1. Yes                                                  </td><td>5.041393                                                </td><td>154.68529                                               </td></tr>\n",
       "\t<tr><th scope=row>11443</th><td>2005                                                     </td><td>50                                                       </td><td><span style=white-space:pre-wrap>4. Divorced     </span> </td><td>1. White                                                 </td><td><span style=white-space:pre-wrap>2. HS Grad     </span>  </td><td>2. Middle Atlantic                                       </td><td>2. Information                                           </td><td><span style=white-space:pre-wrap>1. &lt;=Good     </span></td><td>1. Yes                                                   </td><td>4.318063                                                 </td><td> 75.04315                                                </td></tr>\n",
       "\t<tr><th scope=row>376662</th><td>2008                                                    </td><td>54                                                      </td><td><span style=white-space:pre-wrap>2. Married      </span></td><td>1. White                                                </td><td>4. College Grad                                         </td><td>2. Middle Atlantic                                      </td><td>2. Information                                          </td><td>2. &gt;=Very Good                                       </td><td>1. Yes                                                  </td><td>4.845098                                                </td><td>127.11574                                               </td></tr>\n",
       "</tbody>\n",
       "</table>\n"
      ],
      "text/latex": [
       "\\begin{tabular}{r|lllllllllll}\n",
       "  & year & age & maritl & race & education & region & jobclass & health & health\\_ins & logwage & wage\\\\\n",
       "\\hline\n",
       "\t231655 & 2006               & 18                 & 1. Never Married   & 1. White           & 1. < HS Grad       & 2. Middle Atlantic & 1. Industrial      & 1. <=Good          & 2. No              & 4.318063           &  75.04315         \\\\\n",
       "\t86582 & 2004               & 24                 & 1. Never Married   & 1. White           & 4. College Grad    & 2. Middle Atlantic & 2. Information     & 2. >=Very Good     & 2. No              & 4.255273           &  70.47602         \\\\\n",
       "\t161300 & 2003               & 45                 & 2. Married         & 1. White           & 3. Some College    & 2. Middle Atlantic & 1. Industrial      & 1. <=Good          & 1. Yes             & 4.875061           & 130.98218         \\\\\n",
       "\t155159 & 2003               & 43                 & 2. Married         & 3. Asian           & 4. College Grad    & 2. Middle Atlantic & 2. Information     & 2. >=Very Good     & 1. Yes             & 5.041393           & 154.68529         \\\\\n",
       "\t11443 & 2005               & 50                 & 4. Divorced        & 1. White           & 2. HS Grad         & 2. Middle Atlantic & 2. Information     & 1. <=Good          & 1. Yes             & 4.318063           &  75.04315         \\\\\n",
       "\t376662 & 2008               & 54                 & 2. Married         & 1. White           & 4. College Grad    & 2. Middle Atlantic & 2. Information     & 2. >=Very Good     & 1. Yes             & 4.845098           & 127.11574         \\\\\n",
       "\\end{tabular}\n"
      ],
      "text/markdown": [
       "\n",
       "| <!--/--> | year | age | maritl | race | education | region | jobclass | health | health_ins | logwage | wage |\n",
       "|---|---|---|---|---|---|---|---|---|---|---|---|\n",
       "| 231655 | 2006               | 18                 | 1. Never Married   | 1. White           | 1. < HS Grad       | 2. Middle Atlantic | 1. Industrial      | 1. <=Good          | 2. No              | 4.318063           |  75.04315          |\n",
       "| 86582 | 2004               | 24                 | 1. Never Married   | 1. White           | 4. College Grad    | 2. Middle Atlantic | 2. Information     | 2. >=Very Good     | 2. No              | 4.255273           |  70.47602          |\n",
       "| 161300 | 2003               | 45                 | 2. Married         | 1. White           | 3. Some College    | 2. Middle Atlantic | 1. Industrial      | 1. <=Good          | 1. Yes             | 4.875061           | 130.98218          |\n",
       "| 155159 | 2003               | 43                 | 2. Married         | 3. Asian           | 4. College Grad    | 2. Middle Atlantic | 2. Information     | 2. >=Very Good     | 1. Yes             | 5.041393           | 154.68529          |\n",
       "| 11443 | 2005               | 50                 | 4. Divorced        | 1. White           | 2. HS Grad         | 2. Middle Atlantic | 2. Information     | 1. <=Good          | 1. Yes             | 4.318063           |  75.04315          |\n",
       "| 376662 | 2008               | 54                 | 2. Married         | 1. White           | 4. College Grad    | 2. Middle Atlantic | 2. Information     | 2. >=Very Good     | 1. Yes             | 4.845098           | 127.11574          |\n",
       "\n"
      ],
      "text/plain": [
       "       year age maritl           race     education       region            \n",
       "231655 2006 18  1. Never Married 1. White 1. < HS Grad    2. Middle Atlantic\n",
       "86582  2004 24  1. Never Married 1. White 4. College Grad 2. Middle Atlantic\n",
       "161300 2003 45  2. Married       1. White 3. Some College 2. Middle Atlantic\n",
       "155159 2003 43  2. Married       3. Asian 4. College Grad 2. Middle Atlantic\n",
       "11443  2005 50  4. Divorced      1. White 2. HS Grad      2. Middle Atlantic\n",
       "376662 2008 54  2. Married       1. White 4. College Grad 2. Middle Atlantic\n",
       "       jobclass       health         health_ins logwage  wage     \n",
       "231655 1. Industrial  1. <=Good      2. No      4.318063  75.04315\n",
       "86582  2. Information 2. >=Very Good 2. No      4.255273  70.47602\n",
       "161300 1. Industrial  1. <=Good      1. Yes     4.875061 130.98218\n",
       "155159 2. Information 2. >=Very Good 1. Yes     5.041393 154.68529\n",
       "11443  2. Information 1. <=Good      1. Yes     4.318063  75.04315\n",
       "376662 2. Information 2. >=Very Good 1. Yes     4.845098 127.11574"
      ]
     },
     "metadata": {},
     "output_type": "display_data"
    }
   ],
   "source": [
    "head(Wage)"
   ]
  },
  {
   "cell_type": "markdown",
   "metadata": {},
   "source": [
    "(a) Perform polynomial regression to predict wage using age. Use\n",
    "cross-validation to select the optimal degree d for the polynomial. What degree was chosen, and how does this compare to\n",
    "the results of hypothesis testing using ANOVA? Make a plot of\n",
    "the resulting polynomial fit to the data"
   ]
  },
  {
   "cell_type": "code",
   "execution_count": 6,
   "metadata": {},
   "outputs": [],
   "source": [
    "set.seed(1)\n",
    "deg = 10\n",
    "cv.errors = rep(NA, deg)\n",
    "for (i in 1:deg) {\n",
    "  fit = glm(wage ~ poly(age, i), data = Wage)\n",
    "  cv.errors[i] = cv.glm(Wage, fit)$delta[1]\n",
    "}"
   ]
  },
  {
   "cell_type": "code",
   "execution_count": 7,
   "metadata": {},
   "outputs": [
    {
     "data": {
      "image/png": "[encoded data removed]",
      "text/plain": [
       "plot without title"
      ]
     },
     "metadata": {},
     "output_type": "display_data"
    }
   ],
   "source": [
    "plot(1:deg, cv.errors, xlab = 'Degree', ylab = 'CV MSE', type = 'b', col=\"blue\")\n",
    "deg.min = which.min(cv.errors)"
   ]
  },
  {
   "cell_type": "code",
   "execution_count": 8,
   "metadata": {},
   "outputs": [
    {
     "data": {
      "text/html": [
       "9"
      ],
      "text/latex": [
       "9"
      ],
      "text/markdown": [
       "9"
      ],
      "text/plain": [
       "[1] 9"
      ]
     },
     "metadata": {},
     "output_type": "display_data"
    }
   ],
   "source": [
    "deg.min"
   ]
  },
  {
   "cell_type": "markdown",
   "metadata": {},
   "source": [
    "According to ANOVA function on p.290 4 degrees is enough."
   ]
  },
  {
   "cell_type": "code",
   "execution_count": 9,
   "metadata": {},
   "outputs": [],
   "source": [
    "age.range = range(Wage$age)\n",
    "age.grid = seq(from = age.range[1], to = age.range[2])"
   ]
  },
  {
   "cell_type": "code",
   "execution_count": 10,
   "metadata": {},
   "outputs": [
    {
     "data": {
      "image/png": "[encoded data removed]",
      "text/plain": [
       "plot without title"
      ]
     },
     "metadata": {},
     "output_type": "display_data"
    }
   ],
   "source": [
    "fit = lm(wage ~ poly(age, 4), data = Wage)\n",
    "preds=predict(fit, newdata = list(age=age.grid), se=TRUE)\n",
    "plot_pred(Wage$age, Wage$wage, preds, age.grid, 'age', 'wage')"
   ]
  },
  {
   "cell_type": "markdown",
   "metadata": {},
   "source": [
    "(b) Fit a step function to predict wage using age, and perform crossvalidation to choose the optimal number of cuts. Make a plot of\n",
    "the fit obtained"
   ]
  },
  {
   "cell_type": "code",
   "execution_count": 11,
   "metadata": {},
   "outputs": [],
   "source": [
    "steps=10\n",
    "cv.errors = rep(NA, steps)\n",
    "for (i in 2:steps) {\n",
    "  Wage$age.cut =  cut(Wage$age, i)\n",
    "  fit = glm(wage ~ age.cut, data = Wage)\n",
    "  cv.errors[i] = cv.glm(Wage, fit)$delta[1]\n",
    "}"
   ]
  },
  {
   "cell_type": "code",
   "execution_count": 12,
   "metadata": {
    "scrolled": true
   },
   "outputs": [
    {
     "data": {
      "image/png": "[encoded data removed]",
      "text/plain": [
       "plot without title"
      ]
     },
     "metadata": {},
     "output_type": "display_data"
    }
   ],
   "source": [
    "plot(1:steps, cv.errors, xlab = 'Steps', ylab = 'CV MSE', type = 'b', col=\"blue\")\n",
    "deg.min = which.min(cv.errors)"
   ]
  },
  {
   "cell_type": "code",
   "execution_count": 13,
   "metadata": {},
   "outputs": [
    {
     "data": {
      "text/html": [
       "8"
      ],
      "text/latex": [
       "8"
      ],
      "text/markdown": [
       "8"
      ],
      "text/plain": [
       "[1] 8"
      ]
     },
     "metadata": {},
     "output_type": "display_data"
    }
   ],
   "source": [
    "deg.min"
   ]
  },
  {
   "cell_type": "markdown",
   "metadata": {},
   "source": [
    "## Problem 7"
   ]
  },
  {
   "cell_type": "code",
   "execution_count": 14,
   "metadata": {},
   "outputs": [
    {
     "name": "stderr",
     "output_type": "stream",
     "text": [
      "Warning message in model.matrix.default(mt, mf, contrasts):\n",
      "\"non-list contrasts argument ignored\"Warning message in model.matrix.default(mt, mf, contrasts):\n",
      "\"non-list contrasts argument ignored\"Warning message in model.matrix.default(mt, mf, contrasts):\n",
      "\"non-list contrasts argument ignored\"Warning message in model.matrix.default(mt, mf, contrasts):\n",
      "\"non-list contrasts argument ignored\""
     ]
    },
    {
     "data": {
      "text/html": [
       "<table>\n",
       "<thead><tr><th scope=col>Resid. Df</th><th scope=col>Resid. Dev</th><th scope=col>Df</th><th scope=col>Deviance</th><th scope=col>F</th><th scope=col>Pr(&gt;F)</th></tr></thead>\n",
       "<tbody>\n",
       "\t<tr><td>2989        </td><td>3700181     </td><td>NA          </td><td>       NA   </td><td>      NA    </td><td>          NA</td></tr>\n",
       "\t<tr><td>2988        </td><td>3687481     </td><td> 1          </td><td> 12700.06   </td><td>11.06287    </td><td>8.913996e-04</td></tr>\n",
       "\t<tr><td>2985        </td><td>3605641     </td><td> 3          </td><td> 81839.80   </td><td>23.76323    </td><td>3.397229e-15</td></tr>\n",
       "\t<tr><td>2983        </td><td>3424452     </td><td> 2          </td><td>181189.01   </td><td>78.91581    </td><td>4.010757e-34</td></tr>\n",
       "</tbody>\n",
       "</table>\n"
      ],
      "text/latex": [
       "\\begin{tabular}{r|llllll}\n",
       " Resid. Df & Resid. Dev & Df & Deviance & F & Pr(>F)\\\\\n",
       "\\hline\n",
       "\t 2989         & 3700181      & NA           &        NA    &       NA     &           NA\\\\\n",
       "\t 2988         & 3687481      &  1           &  12700.06    & 11.06287     & 8.913996e-04\\\\\n",
       "\t 2985         & 3605641      &  3           &  81839.80    & 23.76323     & 3.397229e-15\\\\\n",
       "\t 2983         & 3424452      &  2           & 181189.01    & 78.91581     & 4.010757e-34\\\\\n",
       "\\end{tabular}\n"
      ],
      "text/markdown": [
       "\n",
       "| Resid. Df | Resid. Dev | Df | Deviance | F | Pr(>F) |\n",
       "|---|---|---|---|---|---|\n",
       "| 2989         | 3700181      | NA           |        NA    |       NA     |           NA |\n",
       "| 2988         | 3687481      |  1           |  12700.06    | 11.06287     | 8.913996e-04 |\n",
       "| 2985         | 3605641      |  3           |  81839.80    | 23.76323     | 3.397229e-15 |\n",
       "| 2983         | 3424452      |  2           | 181189.01    | 78.91581     | 4.010757e-34 |\n",
       "\n"
      ],
      "text/plain": [
       "  Resid. Df Resid. Dev Df Deviance  F        Pr(>F)      \n",
       "1 2989      3700181    NA        NA       NA           NA\n",
       "2 2988      3687481     1  12700.06 11.06287 8.913996e-04\n",
       "3 2985      3605641     3  81839.80 23.76323 3.397229e-15\n",
       "4 2983      3424452     2 181189.01 78.91581 4.010757e-34"
      ]
     },
     "metadata": {},
     "output_type": "display_data"
    }
   ],
   "source": [
    "gam.m1 = gam(wage ~ year + poly(age, 5) + education, data = Wage)\n",
    "gam.m2 = gam(wage ~ year + poly(age, 5) + education + jobclass, data = Wage)\n",
    "gam.m3 = gam(wage ~ year + poly(age, 5) + education + maritl, data = Wage)\n",
    "gam.m4 = gam(wage ~ year + poly(age, 5) + education + jobclass + maritl+health_ins, data = Wage)\n",
    "#gam.m5 = gam(wage~poly(age)+year+education+maritl+jobclass+health_ins, data=Wage)\n",
    "anova(gam.m1, gam.m2, gam.m3, gam.m4, test='F')"
   ]
  },
  {
   "cell_type": "code",
   "execution_count": 15,
   "metadata": {},
   "outputs": [
    {
     "name": "stderr",
     "output_type": "stream",
     "text": [
      "Warning message in plot.window(...):\n",
      "\"\"all.terms\" is not a graphical parameter\"Warning message in plot.xy(xy, type, ...):\n",
      "\"\"all.terms\" is not a graphical parameter\"Warning message in axis(side = side, at = at, labels = labels, ...):\n",
      "\"\"all.terms\" is not a graphical parameter\"Warning message in axis(side = side, at = at, labels = labels, ...):\n",
      "\"\"all.terms\" is not a graphical parameter\"Warning message in box(...):\n",
      "\"\"all.terms\" is not a graphical parameter\"Warning message in title(...):\n",
      "\"\"all.terms\" is not a graphical parameter\"Warning message in plot.window(...):\n",
      "\"\"all.terms\" is not a graphical parameter\"Warning message in plot.xy(xy, type, ...):\n",
      "\"\"all.terms\" is not a graphical parameter\"Warning message in axis(side = side, at = at, labels = labels, ...):\n",
      "\"\"all.terms\" is not a graphical parameter\"Warning message in axis(side = side, at = at, labels = labels, ...):\n",
      "\"\"all.terms\" is not a graphical parameter\"Warning message in box(...):\n",
      "\"\"all.terms\" is not a graphical parameter\"Warning message in title(...):\n",
      "\"\"all.terms\" is not a graphical parameter\"Warning message in plot.window(...):\n",
      "\"\"all.terms\" is not a graphical parameter\"Warning message in plot.xy(xy, type, ...):\n",
      "\"\"all.terms\" is not a graphical parameter\"Warning message in axis(side = side, at = at, labels = labels, ...):\n",
      "\"\"all.terms\" is not a graphical parameter\"Warning message in axis(side = side, at = at, labels = labels, ...):\n",
      "\"\"all.terms\" is not a graphical parameter\"Warning message in box(...):\n",
      "\"\"all.terms\" is not a graphical parameter\"Warning message in title(...):\n",
      "\"\"all.terms\" is not a graphical parameter\"Warning message in plot.window(...):\n",
      "\"\"all.terms\" is not a graphical parameter\"Warning message in plot.xy(xy, type, ...):\n",
      "\"\"all.terms\" is not a graphical parameter\"Warning message in axis(side = side, at = at, labels = labels, ...):\n",
      "\"\"all.terms\" is not a graphical parameter\"Warning message in axis(side = side, at = at, labels = labels, ...):\n",
      "\"\"all.terms\" is not a graphical parameter\"Warning message in box(...):\n",
      "\"\"all.terms\" is not a graphical parameter\"Warning message in title(...):\n",
      "\"\"all.terms\" is not a graphical parameter\"Warning message in plot.window(...):\n",
      "\"\"all.terms\" is not a graphical parameter\"Warning message in plot.xy(xy, type, ...):\n",
      "\"\"all.terms\" is not a graphical parameter\"Warning message in axis(side = side, at = at, labels = labels, ...):\n",
      "\"\"all.terms\" is not a graphical parameter\"Warning message in axis(side = side, at = at, labels = labels, ...):\n",
      "\"\"all.terms\" is not a graphical parameter\"Warning message in box(...):\n",
      "\"\"all.terms\" is not a graphical parameter\"Warning message in title(...):\n",
      "\"\"all.terms\" is not a graphical parameter\"Warning message in plot.window(...):\n",
      "\"\"all.terms\" is not a graphical parameter\"Warning message in plot.xy(xy, type, ...):\n",
      "\"\"all.terms\" is not a graphical parameter\"Warning message in axis(side = side, at = at, labels = labels, ...):\n",
      "\"\"all.terms\" is not a graphical parameter\"Warning message in axis(side = side, at = at, labels = labels, ...):\n",
      "\"\"all.terms\" is not a graphical parameter\"Warning message in box(...):\n",
      "\"\"all.terms\" is not a graphical parameter\"Warning message in title(...):\n",
      "\"\"all.terms\" is not a graphical parameter\""
     ]
    },
    {
     "data": {
      "image/png": "[encoded data removed]",
      "text/plain": [
       "plot without title"
      ]
     },
     "metadata": {},
     "output_type": "display_data"
    }
   ],
   "source": [
    "par(mfrow = c(2, 3))\n",
    "plot(gam.m4, se = T, col = \"blue\",  all.terms = TRUE)"
   ]
  },
  {
   "cell_type": "markdown",
   "metadata": {},
   "source": [
    "## Problem 8"
   ]
  },
  {
   "cell_type": "markdown",
   "metadata": {},
   "source": [
    "See Python notebook"
   ]
  },
  {
   "cell_type": "markdown",
   "metadata": {},
   "source": [
    "## Problem 9"
   ]
  },
  {
   "cell_type": "markdown",
   "metadata": {},
   "source": [
    "This question uses the variables dis (the weighted mean of distances\n",
    "to five Boston employment centers) and nox (nitrogen oxides concentration in parts per 10 million) from the Boston data. We will treat dis as the predictor and nox as the response.\n"
   ]
  },
  {
   "cell_type": "code",
   "execution_count": 16,
   "metadata": {},
   "outputs": [
    {
     "data": {
      "text/html": [
       "<table>\n",
       "<thead><tr><th scope=col>crim</th><th scope=col>zn</th><th scope=col>indus</th><th scope=col>chas</th><th scope=col>nox</th><th scope=col>rm</th><th scope=col>age</th><th scope=col>dis</th><th scope=col>rad</th><th scope=col>tax</th><th scope=col>ptratio</th><th scope=col>black</th><th scope=col>lstat</th><th scope=col>medv</th></tr></thead>\n",
       "<tbody>\n",
       "\t<tr><td>0.00632</td><td>18     </td><td>2.31   </td><td>0      </td><td>0.538  </td><td>6.575  </td><td>65.2   </td><td>4.0900 </td><td>1      </td><td>296    </td><td>15.3   </td><td>396.90 </td><td>4.98   </td><td>24.0   </td></tr>\n",
       "\t<tr><td>0.02731</td><td> 0     </td><td>7.07   </td><td>0      </td><td>0.469  </td><td>6.421  </td><td>78.9   </td><td>4.9671 </td><td>2      </td><td>242    </td><td>17.8   </td><td>396.90 </td><td>9.14   </td><td>21.6   </td></tr>\n",
       "\t<tr><td>0.02729</td><td> 0     </td><td>7.07   </td><td>0      </td><td>0.469  </td><td>7.185  </td><td>61.1   </td><td>4.9671 </td><td>2      </td><td>242    </td><td>17.8   </td><td>392.83 </td><td>4.03   </td><td>34.7   </td></tr>\n",
       "\t<tr><td>0.03237</td><td> 0     </td><td>2.18   </td><td>0      </td><td>0.458  </td><td>6.998  </td><td>45.8   </td><td>6.0622 </td><td>3      </td><td>222    </td><td>18.7   </td><td>394.63 </td><td>2.94   </td><td>33.4   </td></tr>\n",
       "\t<tr><td>0.06905</td><td> 0     </td><td>2.18   </td><td>0      </td><td>0.458  </td><td>7.147  </td><td>54.2   </td><td>6.0622 </td><td>3      </td><td>222    </td><td>18.7   </td><td>396.90 </td><td>5.33   </td><td>36.2   </td></tr>\n",
       "\t<tr><td>0.02985</td><td> 0     </td><td>2.18   </td><td>0      </td><td>0.458  </td><td>6.430  </td><td>58.7   </td><td>6.0622 </td><td>3      </td><td>222    </td><td>18.7   </td><td>394.12 </td><td>5.21   </td><td>28.7   </td></tr>\n",
       "</tbody>\n",
       "</table>\n"
      ],
      "text/latex": [
       "\\begin{tabular}{r|llllllllllllll}\n",
       " crim & zn & indus & chas & nox & rm & age & dis & rad & tax & ptratio & black & lstat & medv\\\\\n",
       "\\hline\n",
       "\t 0.00632 & 18      & 2.31    & 0       & 0.538   & 6.575   & 65.2    & 4.0900  & 1       & 296     & 15.3    & 396.90  & 4.98    & 24.0   \\\\\n",
       "\t 0.02731 &  0      & 7.07    & 0       & 0.469   & 6.421   & 78.9    & 4.9671  & 2       & 242     & 17.8    & 396.90  & 9.14    & 21.6   \\\\\n",
       "\t 0.02729 &  0      & 7.07    & 0       & 0.469   & 7.185   & 61.1    & 4.9671  & 2       & 242     & 17.8    & 392.83  & 4.03    & 34.7   \\\\\n",
       "\t 0.03237 &  0      & 2.18    & 0       & 0.458   & 6.998   & 45.8    & 6.0622  & 3       & 222     & 18.7    & 394.63  & 2.94    & 33.4   \\\\\n",
       "\t 0.06905 &  0      & 2.18    & 0       & 0.458   & 7.147   & 54.2    & 6.0622  & 3       & 222     & 18.7    & 396.90  & 5.33    & 36.2   \\\\\n",
       "\t 0.02985 &  0      & 2.18    & 0       & 0.458   & 6.430   & 58.7    & 6.0622  & 3       & 222     & 18.7    & 394.12  & 5.21    & 28.7   \\\\\n",
       "\\end{tabular}\n"
      ],
      "text/markdown": [
       "\n",
       "| crim | zn | indus | chas | nox | rm | age | dis | rad | tax | ptratio | black | lstat | medv |\n",
       "|---|---|---|---|---|---|---|---|---|---|---|---|---|---|\n",
       "| 0.00632 | 18      | 2.31    | 0       | 0.538   | 6.575   | 65.2    | 4.0900  | 1       | 296     | 15.3    | 396.90  | 4.98    | 24.0    |\n",
       "| 0.02731 |  0      | 7.07    | 0       | 0.469   | 6.421   | 78.9    | 4.9671  | 2       | 242     | 17.8    | 396.90  | 9.14    | 21.6    |\n",
       "| 0.02729 |  0      | 7.07    | 0       | 0.469   | 7.185   | 61.1    | 4.9671  | 2       | 242     | 17.8    | 392.83  | 4.03    | 34.7    |\n",
       "| 0.03237 |  0      | 2.18    | 0       | 0.458   | 6.998   | 45.8    | 6.0622  | 3       | 222     | 18.7    | 394.63  | 2.94    | 33.4    |\n",
       "| 0.06905 |  0      | 2.18    | 0       | 0.458   | 7.147   | 54.2    | 6.0622  | 3       | 222     | 18.7    | 396.90  | 5.33    | 36.2    |\n",
       "| 0.02985 |  0      | 2.18    | 0       | 0.458   | 6.430   | 58.7    | 6.0622  | 3       | 222     | 18.7    | 394.12  | 5.21    | 28.7    |\n",
       "\n"
      ],
      "text/plain": [
       "  crim    zn indus chas nox   rm    age  dis    rad tax ptratio black  lstat\n",
       "1 0.00632 18 2.31  0    0.538 6.575 65.2 4.0900 1   296 15.3    396.90 4.98 \n",
       "2 0.02731  0 7.07  0    0.469 6.421 78.9 4.9671 2   242 17.8    396.90 9.14 \n",
       "3 0.02729  0 7.07  0    0.469 7.185 61.1 4.9671 2   242 17.8    392.83 4.03 \n",
       "4 0.03237  0 2.18  0    0.458 6.998 45.8 6.0622 3   222 18.7    394.63 2.94 \n",
       "5 0.06905  0 2.18  0    0.458 7.147 54.2 6.0622 3   222 18.7    396.90 5.33 \n",
       "6 0.02985  0 2.18  0    0.458 6.430 58.7 6.0622 3   222 18.7    394.12 5.21 \n",
       "  medv\n",
       "1 24.0\n",
       "2 21.6\n",
       "3 34.7\n",
       "4 33.4\n",
       "5 36.2\n",
       "6 28.7"
      ]
     },
     "metadata": {},
     "output_type": "display_data"
    }
   ],
   "source": [
    "head(Boston)"
   ]
  },
  {
   "cell_type": "markdown",
   "metadata": {},
   "source": [
    "(a) Use the poly() function to fit a cubic polynomial regression to\n",
    "predict nox using dis. Report the regression output, and plot\n",
    "the resulting data and polynomial fits."
   ]
  },
  {
   "cell_type": "code",
   "execution_count": 17,
   "metadata": {},
   "outputs": [
    {
     "data": {
      "text/html": [
       "<table>\n",
       "<thead><tr><th></th><th scope=col>Estimate</th><th scope=col>Std. Error</th><th scope=col>t value</th><th scope=col>Pr(&gt;|t|)</th></tr></thead>\n",
       "<tbody>\n",
       "\t<tr><th scope=row>(Intercept)</th><td> 0.5546951   </td><td>0.00275939   </td><td>201.020894   </td><td> 0.000000e+00</td></tr>\n",
       "\t<tr><th scope=row>poly(dis, 3)1</th><td>-2.0030959   </td><td>0.06207094   </td><td>-32.271071   </td><td>1.597201e-124</td></tr>\n",
       "\t<tr><th scope=row>poly(dis, 3)2</th><td> 0.8563300   </td><td>0.06207094   </td><td> 13.795987   </td><td> 6.133104e-37</td></tr>\n",
       "\t<tr><th scope=row>poly(dis, 3)3</th><td>-0.3180490   </td><td>0.06207094   </td><td> -5.123959   </td><td> 4.274950e-07</td></tr>\n",
       "</tbody>\n",
       "</table>\n"
      ],
      "text/latex": [
       "\\begin{tabular}{r|llll}\n",
       "  & Estimate & Std. Error & t value & Pr(>\\textbar{}t\\textbar{})\\\\\n",
       "\\hline\n",
       "\t(Intercept) &  0.5546951    & 0.00275939    & 201.020894    &  0.000000e+00\\\\\n",
       "\tpoly(dis, 3)1 & -2.0030959    & 0.06207094    & -32.271071    & 1.597201e-124\\\\\n",
       "\tpoly(dis, 3)2 &  0.8563300    & 0.06207094    &  13.795987    &  6.133104e-37\\\\\n",
       "\tpoly(dis, 3)3 & -0.3180490    & 0.06207094    &  -5.123959    &  4.274950e-07\\\\\n",
       "\\end{tabular}\n"
      ],
      "text/markdown": [
       "\n",
       "| <!--/--> | Estimate | Std. Error | t value | Pr(>|t|) |\n",
       "|---|---|---|---|---|\n",
       "| (Intercept) |  0.5546951    | 0.00275939    | 201.020894    |  0.000000e+00 |\n",
       "| poly(dis, 3)1 | -2.0030959    | 0.06207094    | -32.271071    | 1.597201e-124 |\n",
       "| poly(dis, 3)2 |  0.8563300    | 0.06207094    |  13.795987    |  6.133104e-37 |\n",
       "| poly(dis, 3)3 | -0.3180490    | 0.06207094    |  -5.123959    |  4.274950e-07 |\n",
       "\n"
      ],
      "text/plain": [
       "              Estimate   Std. Error t value    Pr(>|t|)     \n",
       "(Intercept)    0.5546951 0.00275939 201.020894  0.000000e+00\n",
       "poly(dis, 3)1 -2.0030959 0.06207094 -32.271071 1.597201e-124\n",
       "poly(dis, 3)2  0.8563300 0.06207094  13.795987  6.133104e-37\n",
       "poly(dis, 3)3 -0.3180490 0.06207094  -5.123959  4.274950e-07"
      ]
     },
     "metadata": {},
     "output_type": "display_data"
    }
   ],
   "source": [
    "fit=lm(nox∼poly(dis , 3), data=Boston)\n",
    "coef(summary (fit))"
   ]
  },
  {
   "cell_type": "code",
   "execution_count": 18,
   "metadata": {},
   "outputs": [],
   "source": [
    "#grid for predictions\n",
    "dis=Boston$dis\n",
    "dislims =range(dis)\n",
    "dis.grid=seq(from=dislims [1],to=dislims [2])\n",
    "preds=predict (fit ,newdata =list(dis=dis.grid),se=TRUE)"
   ]
  },
  {
   "cell_type": "code",
   "execution_count": 19,
   "metadata": {},
   "outputs": [
    {
     "data": {
      "image/png": "[encoded data removed]",
      "text/plain": [
       "plot without title"
      ]
     },
     "metadata": {},
     "output_type": "display_data"
    }
   ],
   "source": [
    "plot_pred(Boston$dis, Boston$nox, preds, dis.grid, 'dis', 'nox')"
   ]
  },
  {
   "cell_type": "markdown",
   "metadata": {},
   "source": [
    "(b) Plot the polynomial fits for a range of different polynomial\n",
    "degrees (say, from 1 to 10), and report the associated residual\n",
    "sum of squares."
   ]
  },
  {
   "cell_type": "code",
   "execution_count": 20,
   "metadata": {},
   "outputs": [
    {
     "data": {
      "image/png": "[encoded data removed]",
      "text/plain": [
       "plot without title"
      ]
     },
     "metadata": {},
     "output_type": "display_data"
    },
    {
     "data": {
      "image/png": "[encoded data removed]",
      "text/plain": [
       "plot without title"
      ]
     },
     "metadata": {},
     "output_type": "display_data"
    },
    {
     "data": {
      "image/png": "[encoded data removed]",
      "text/plain": [
       "plot without title"
      ]
     },
     "metadata": {},
     "output_type": "display_data"
    },
    {
     "data": {
      "image/png": "[encoded data removed]",
      "text/plain": [
       "plot without title"
      ]
     },
     "metadata": {},
     "output_type": "display_data"
    },
    {
     "data": {
      "image/png": "[encoded data removed]",
      "text/plain": [
       "plot without title"
      ]
     },
     "metadata": {},
     "output_type": "display_data"
    },
    {
     "data": {
      "image/png": "[encoded data removed]",
      "text/plain": [
       "plot without title"
      ]
     },
     "metadata": {},
     "output_type": "display_data"
    },
    {
     "data": {
      "image/png": "[encoded data removed]",
      "text/plain": [
       "plot without title"
      ]
     },
     "metadata": {},
     "output_type": "display_data"
    },
    {
     "data": {
      "image/png": "[encoded data removed]",
      "text/plain": [
       "plot without title"
      ]
     },
     "metadata": {},
     "output_type": "display_data"
    },
    {
     "data": {
      "image/png": "[encoded data removed]",
      "text/plain": [
       "plot without title"
      ]
     },
     "metadata": {},
     "output_type": "display_data"
    },
    {
     "data": {
      "image/png": "[encoded data removed]",
      "text/plain": [
       "plot without title"
      ]
     },
     "metadata": {},
     "output_type": "display_data"
    }
   ],
   "source": [
    "cvMSE = rep(NA, 10)\n",
    "valMSE = rep(NA, 10)\n",
    "for (i in 1:10) {\n",
    "  fit = glm(nox ~ poly(dis, i), data = Boston)\n",
    "  preds=predict (fit ,newdata =list(dis=dis.grid),se=TRUE)\n",
    "  plot_pred(dis, Boston$nox, preds, dis.grid, 'dis', 'nox')\n",
    "  valMSE[i] = mean(preds$se.fit)\n",
    "  cvMSE[i] = cv.glm(Boston, fit, K = 10)$delta[1]\n",
    "}\n"
   ]
  },
  {
   "cell_type": "code",
   "execution_count": 21,
   "metadata": {},
   "outputs": [
    {
     "name": "stdout",
     "output_type": "stream",
     "text": [
      "[1] 1\n"
     ]
    },
    {
     "data": {
      "text/html": [
       "0.00638596636514971"
      ],
      "text/latex": [
       "0.00638596636514971"
      ],
      "text/markdown": [
       "0.00638596636514971"
      ],
      "text/plain": [
       "[1] 0.006385966"
      ]
     },
     "metadata": {},
     "output_type": "display_data"
    },
    {
     "data": {
      "image/png": "[encoded data removed]",
      "text/plain": [
       "plot without title"
      ]
     },
     "metadata": {},
     "output_type": "display_data"
    }
   ],
   "source": [
    "plot(1:10, valMSE, type = 'l', xlab = \"Degree\", ylab = \"Test MSE\")\n",
    "print(which.min(valMSE))\n",
    "valMSE[which.min(valMSE)]"
   ]
  },
  {
   "cell_type": "markdown",
   "metadata": {},
   "source": [
    "(c) Perform cross-validation or another approach to select the optimal degree for the polynomial, and explain your results."
   ]
  },
  {
   "cell_type": "code",
   "execution_count": 22,
   "metadata": {},
   "outputs": [
    {
     "name": "stdout",
     "output_type": "stream",
     "text": [
      "[1] 3\n"
     ]
    },
    {
     "data": {
      "text/html": [
       "0.0038785462485759"
      ],
      "text/latex": [
       "0.0038785462485759"
      ],
      "text/markdown": [
       "0.0038785462485759"
      ],
      "text/plain": [
       "[1] 0.003878546"
      ]
     },
     "metadata": {},
     "output_type": "display_data"
    },
    {
     "data": {
      "image/png": "[encoded data removed]",
      "text/plain": [
       "plot without title"
      ]
     },
     "metadata": {},
     "output_type": "display_data"
    }
   ],
   "source": [
    "plot(1:10, cvMSE, type = 'l', xlab = \"Degree\", ylab = \"cv MSE\")\n",
    "print(which.min(cvMSE))\n",
    "cvMSE[which.min(cvMSE)]"
   ]
  },
  {
   "cell_type": "markdown",
   "metadata": {},
   "source": [
    "(d) Use the bs() function to fit a regression spline to predict nox using dis. Report the output for the fit using four degrees of freedom. How did you choose the knots? Plot the resulting fit."
   ]
  },
  {
   "cell_type": "code",
   "execution_count": 23,
   "metadata": {
    "scrolled": true
   },
   "outputs": [
    {
     "data": {
      "text/html": [
       "<strong>50%:</strong> 3.20745"
      ],
      "text/latex": [
       "\\textbf{50\\textbackslash{}\\%:} 3.20745"
      ],
      "text/markdown": [
       "**50%:** 3.20745"
      ],
      "text/plain": [
       "    50% \n",
       "3.20745 "
      ]
     },
     "metadata": {},
     "output_type": "display_data"
    },
    {
     "data": {
      "image/png": "[encoded data removed]",
      "text/plain": [
       "plot without title"
      ]
     },
     "metadata": {},
     "output_type": "display_data"
    }
   ],
   "source": [
    "fit=lm(nox∼bs(dis , df=4), data=Boston)\n",
    "attr(bs(Boston$dis ,df=4) ,\"knots\")\n",
    "preds=predict(fit ,newdata =list(dis=dis.grid),se=T)\n",
    "plot_pred(Boston$dis, Boston$nox, preds, dis.grid, 'dis', 'nox')"
   ]
  },
  {
   "cell_type": "markdown",
   "metadata": {},
   "source": [
    "(e) Now fit a regression spline for a range of degrees of freedom, and\n",
    "plot the resulting fits and report the resulting RSS. Describe the\n",
    "results obtained."
   ]
  },
  {
   "cell_type": "code",
   "execution_count": 24,
   "metadata": {},
   "outputs": [
    {
     "name": "stderr",
     "output_type": "stream",
     "text": [
      "Warning message in bs(dis, df = i):\n",
      "\"'df' was too small; have used 3\""
     ]
    },
    {
     "name": "stdout",
     "output_type": "stream",
     "text": [
      "Number of degrees of freedom:  1"
     ]
    },
    {
     "name": "stderr",
     "output_type": "stream",
     "text": [
      "Warning message in bs(dis, df = i):\n",
      "\"'df' was too small; have used 3\"Warning message in bs(dis, df = i):\n",
      "\"'df' was too small; have used 3\"Warning message in bs(dis, degree = 3L, knots = numeric(0), Boundary.knots = c(1.137, :\n",
      "\"some 'x' values beyond boundary knots may cause ill-conditioned bases\"Warning message in bs(dis, degree = 3L, knots = numeric(0), Boundary.knots = c(1.137, :\n",
      "\"some 'x' values beyond boundary knots may cause ill-conditioned bases\"Warning message in bs(dis, df = i):\n",
      "\"'df' was too small; have used 3\"Warning message in bs(dis, df = i):\n",
      "\"'df' was too small; have used 3\"Warning message in bs(dis, df = i):\n",
      "\"'df' was too small; have used 3\"Warning message in bs(dis, degree = 3L, knots = numeric(0), Boundary.knots = c(1.1296, :\n",
      "\"some 'x' values beyond boundary knots may cause ill-conditioned bases\"Warning message in bs(dis, degree = 3L, knots = numeric(0), Boundary.knots = c(1.1296, :\n",
      "\"some 'x' values beyond boundary knots may cause ill-conditioned bases\"Warning message in bs(dis, df = i):\n",
      "\"'df' was too small; have used 3\"Warning message in bs(dis, df = i):\n",
      "\"'df' was too small; have used 3\"Warning message in bs(dis, df = i):\n",
      "\"'df' was too small; have used 3\"Warning message in bs(dis, df = i):\n",
      "\"'df' was too small; have used 3\"Warning message in bs(dis, df = i):\n",
      "\"'df' was too small; have used 3\"Warning message in bs(dis, df = i):\n",
      "\"'df' was too small; have used 3\""
     ]
    },
    {
     "name": "stdout",
     "output_type": "stream",
     "text": [
      "Number of degrees of freedom:  2"
     ]
    },
    {
     "name": "stderr",
     "output_type": "stream",
     "text": [
      "Warning message in bs(dis, df = i):\n",
      "\"'df' was too small; have used 3\"Warning message in bs(dis, degree = 3L, knots = numeric(0), Boundary.knots = c(1.137, :\n",
      "\"some 'x' values beyond boundary knots may cause ill-conditioned bases\"Warning message in bs(dis, degree = 3L, knots = numeric(0), Boundary.knots = c(1.137, :\n",
      "\"some 'x' values beyond boundary knots may cause ill-conditioned bases\"Warning message in bs(dis, df = i):\n",
      "\"'df' was too small; have used 3\"Warning message in bs(dis, df = i):\n",
      "\"'df' was too small; have used 3\"Warning message in bs(dis, df = i):\n",
      "\"'df' was too small; have used 3\"Warning message in bs(dis, df = i):\n",
      "\"'df' was too small; have used 3\"Warning message in bs(dis, degree = 3L, knots = numeric(0), Boundary.knots = c(1.1296, :\n",
      "\"some 'x' values beyond boundary knots may cause ill-conditioned bases\"Warning message in bs(dis, degree = 3L, knots = numeric(0), Boundary.knots = c(1.1296, :\n",
      "\"some 'x' values beyond boundary knots may cause ill-conditioned bases\"Warning message in bs(dis, df = i):\n",
      "\"'df' was too small; have used 3\"Warning message in bs(dis, df = i):\n",
      "\"'df' was too small; have used 3\"Warning message in bs(dis, df = i):\n",
      "\"'df' was too small; have used 3\"Warning message in bs(dis, df = i):\n",
      "\"'df' was too small; have used 3\"Warning message in bs(dis, df = i):\n",
      "\"'df' was too small; have used 3\""
     ]
    },
    {
     "name": "stdout",
     "output_type": "stream",
     "text": [
      "Number of degrees of freedom:  3"
     ]
    },
    {
     "name": "stderr",
     "output_type": "stream",
     "text": [
      "Warning message in bs(dis, degree = 3L, knots = numeric(0), Boundary.knots = c(1.1296, :\n",
      "\"some 'x' values beyond boundary knots may cause ill-conditioned bases\"Warning message in bs(dis, degree = 3L, knots = numeric(0), Boundary.knots = c(1.1296, :\n",
      "\"some 'x' values beyond boundary knots may cause ill-conditioned bases\"Warning message in bs(dis, degree = 3L, knots = numeric(0), Boundary.knots = c(1.137, :\n",
      "\"some 'x' values beyond boundary knots may cause ill-conditioned bases\"Warning message in bs(dis, degree = 3L, knots = numeric(0), Boundary.knots = c(1.137, :\n",
      "\"some 'x' values beyond boundary knots may cause ill-conditioned bases\""
     ]
    },
    {
     "data": {
      "image/png": "[encoded data removed]",
      "text/plain": [
       "plot without title"
      ]
     },
     "metadata": {},
     "output_type": "display_data"
    },
    {
     "name": "stdout",
     "output_type": "stream",
     "text": [
      "Number of degrees of freedom:  4"
     ]
    },
    {
     "name": "stderr",
     "output_type": "stream",
     "text": [
      "Warning message in bs(dis, degree = 3L, knots = c(`50%` = 3.1222), Boundary.knots = c(1.137, :\n",
      "\"some 'x' values beyond boundary knots may cause ill-conditioned bases\"Warning message in bs(dis, degree = 3L, knots = c(`50%` = 3.1222), Boundary.knots = c(1.137, :\n",
      "\"some 'x' values beyond boundary knots may cause ill-conditioned bases\"Warning message in bs(dis, degree = 3L, knots = c(`50%` = 3.1523), Boundary.knots = c(1.1296, :\n",
      "\"some 'x' values beyond boundary knots may cause ill-conditioned bases\"Warning message in bs(dis, degree = 3L, knots = c(`50%` = 3.1523), Boundary.knots = c(1.1296, :\n",
      "\"some 'x' values beyond boundary knots may cause ill-conditioned bases\""
     ]
    },
    {
     "data": {
      "image/png": "[encoded data removed]",
      "text/plain": [
       "plot without title"
      ]
     },
     "metadata": {},
     "output_type": "display_data"
    },
    {
     "name": "stdout",
     "output_type": "stream",
     "text": [
      "Number of degrees of freedom:  5"
     ]
    },
    {
     "name": "stderr",
     "output_type": "stream",
     "text": [
      "Warning message in bs(dis, degree = 3L, knots = c(`33.33333%` = 2.39256666666667, :\n",
      "\"some 'x' values beyond boundary knots may cause ill-conditioned bases\"Warning message in bs(dis, degree = 3L, knots = c(`33.33333%` = 2.39256666666667, :\n",
      "\"some 'x' values beyond boundary knots may cause ill-conditioned bases\"Warning message in bs(dis, degree = 3L, knots = c(`33.33333%` = 2.3999, `66.66667%` = 4.4534:\n",
      "\"some 'x' values beyond boundary knots may cause ill-conditioned bases\"Warning message in bs(dis, degree = 3L, knots = c(`33.33333%` = 2.3999, `66.66667%` = 4.4534:\n",
      "\"some 'x' values beyond boundary knots may cause ill-conditioned bases\""
     ]
    },
    {
     "data": {
      "image/png": "[encoded data removed]",
      "text/plain": [
       "plot without title"
      ]
     },
     "metadata": {},
     "output_type": "display_data"
    },
    {
     "name": "stdout",
     "output_type": "stream",
     "text": [
      "Number of degrees of freedom:  6"
     ]
    },
    {
     "name": "stderr",
     "output_type": "stream",
     "text": [
      "Warning message in bs(dis, degree = 3L, knots = c(`25%` = 2.10035, `50%` = 3.0992, :\n",
      "\"some 'x' values beyond boundary knots may cause ill-conditioned bases\"Warning message in bs(dis, degree = 3L, knots = c(`25%` = 2.10035, `50%` = 3.0992, :\n",
      "\"some 'x' values beyond boundary knots may cause ill-conditioned bases\"Warning message in bs(dis, degree = 3L, knots = c(`25%` = 2.106075, `50%` = 3.19095, :\n",
      "\"some 'x' values beyond boundary knots may cause ill-conditioned bases\"Warning message in bs(dis, degree = 3L, knots = c(`25%` = 2.106075, `50%` = 3.19095, :\n",
      "\"some 'x' values beyond boundary knots may cause ill-conditioned bases\""
     ]
    },
    {
     "data": {
      "image/png": "[encoded data removed]",
      "text/plain": [
       "plot without title"
      ]
     },
     "metadata": {},
     "output_type": "display_data"
    },
    {
     "name": "stdout",
     "output_type": "stream",
     "text": [
      "Number of degrees of freedom:  7"
     ]
    },
    {
     "name": "stderr",
     "output_type": "stream",
     "text": [
      "Warning message in bs(dis, degree = 3L, knots = c(`20%` = 1.94984, `40%` = 2.5752, :\n",
      "\"some 'x' values beyond boundary knots may cause ill-conditioned bases\"Warning message in bs(dis, degree = 3L, knots = c(`20%` = 1.94984, `40%` = 2.5752, :\n",
      "\"some 'x' values beyond boundary knots may cause ill-conditioned bases\"Warning message in bs(dis, degree = 3L, knots = c(`20%` = 1.95434, `40%` = 2.6427, :\n",
      "\"some 'x' values beyond boundary knots may cause ill-conditioned bases\"Warning message in bs(dis, degree = 3L, knots = c(`20%` = 1.95434, `40%` = 2.6427, :\n",
      "\"some 'x' values beyond boundary knots may cause ill-conditioned bases\""
     ]
    },
    {
     "data": {
      "image/png": "[encoded data removed]",
      "text/plain": [
       "plot without title"
      ]
     },
     "metadata": {},
     "output_type": "display_data"
    },
    {
     "name": "stdout",
     "output_type": "stream",
     "text": [
      "Number of degrees of freedom:  8"
     ]
    },
    {
     "name": "stderr",
     "output_type": "stream",
     "text": [
      "Warning message in bs(dis, degree = 3L, knots = c(`16.66667%` = 1.83066666666667, :\n",
      "\"some 'x' values beyond boundary knots may cause ill-conditioned bases\"Warning message in bs(dis, degree = 3L, knots = c(`16.66667%` = 1.83066666666667, :\n",
      "\"some 'x' values beyond boundary knots may cause ill-conditioned bases\"Warning message in bs(dis, degree = 3L, knots = c(`16.66667%` = 1.84728333333333, :\n",
      "\"some 'x' values beyond boundary knots may cause ill-conditioned bases\"Warning message in bs(dis, degree = 3L, knots = c(`16.66667%` = 1.84728333333333, :\n",
      "\"some 'x' values beyond boundary knots may cause ill-conditioned bases\""
     ]
    },
    {
     "data": {
      "image/png": "[encoded data removed]",
      "text/plain": [
       "plot without title"
      ]
     },
     "metadata": {},
     "output_type": "display_data"
    },
    {
     "name": "stdout",
     "output_type": "stream",
     "text": [
      "Number of degrees of freedom:  9"
     ]
    },
    {
     "name": "stderr",
     "output_type": "stream",
     "text": [
      "Warning message in bs(dis, degree = 3L, knots = c(`14.28571%` = 1.79078571428571, :\n",
      "\"some 'x' values beyond boundary knots may cause ill-conditioned bases\"Warning message in bs(dis, degree = 3L, knots = c(`14.28571%` = 1.79078571428571, :\n",
      "\"some 'x' values beyond boundary knots may cause ill-conditioned bases\""
     ]
    },
    {
     "data": {
      "image/png": "[encoded data removed]",
      "text/plain": [
       "plot without title"
      ]
     },
     "metadata": {},
     "output_type": "display_data"
    },
    {
     "name": "stdout",
     "output_type": "stream",
     "text": [
      "Number of degrees of freedom:  10"
     ]
    },
    {
     "name": "stderr",
     "output_type": "stream",
     "text": [
      "Warning message in bs(dis, degree = 3L, knots = c(`12.5%` = 1.748425, `25%` = 2.1088, :\n",
      "\"some 'x' values beyond boundary knots may cause ill-conditioned bases\"Warning message in bs(dis, degree = 3L, knots = c(`12.5%` = 1.748425, `25%` = 2.1088, :\n",
      "\"some 'x' values beyond boundary knots may cause ill-conditioned bases\"Warning message in bs(dis, degree = 3L, knots = c(`12.5%` = 1.7519375, `25%` = 2.1105, :\n",
      "\"some 'x' values beyond boundary knots may cause ill-conditioned bases\"Warning message in bs(dis, degree = 3L, knots = c(`12.5%` = 1.7519375, `25%` = 2.1105, :\n",
      "\"some 'x' values beyond boundary knots may cause ill-conditioned bases\""
     ]
    },
    {
     "data": {
      "image/png": "[encoded data removed]",
      "text/plain": [
       "plot without title"
      ]
     },
     "metadata": {},
     "output_type": "display_data"
    },
    {
     "data": {
      "image/png": "[encoded data removed]",
      "text/plain": [
       "plot without title"
      ]
     },
     "metadata": {},
     "output_type": "display_data"
    }
   ],
   "source": [
    "cvMSE = rep(NA, 10)\n",
    "valMSE = rep(NA, 10)\n",
    "for (i in 1:10) {\n",
    "  fit = glm(nox ~ bs(dis, df=i), data = Boston)\n",
    "  preds=predict (fit ,newdata =list(dis=dis.grid),se=TRUE)\n",
    "  cat(\"Number of degrees of freedom: \", i)\n",
    "  plot_pred(dis, Boston$nox, preds, dis.grid, 'dis', 'nox')\n",
    "  valMSE[i] = mean(preds$se.fit)\n",
    "  cvMSE[i] = cv.glm(Boston, fit, K = 10)$delta[1]\n",
    "}"
   ]
  },
  {
   "cell_type": "code",
   "execution_count": 25,
   "metadata": {},
   "outputs": [
    {
     "name": "stdout",
     "output_type": "stream",
     "text": [
      "[1] 1\n"
     ]
    },
    {
     "data": {
      "text/html": [
       "0.0086325512148161"
      ],
      "text/latex": [
       "0.0086325512148161"
      ],
      "text/markdown": [
       "0.0086325512148161"
      ],
      "text/plain": [
       "[1] 0.008632551"
      ]
     },
     "metadata": {},
     "output_type": "display_data"
    },
    {
     "data": {
      "image/png": "[encoded data removed]",
      "text/plain": [
       "plot without title"
      ]
     },
     "metadata": {},
     "output_type": "display_data"
    }
   ],
   "source": [
    "plot(1:10, valMSE, type = 'l', xlab = \"Degrees of freedom\", ylab = \"Test MSE\")\n",
    "print(which.min(valMSE))\n",
    "valMSE[which.min(valMSE)]"
   ]
  },
  {
   "cell_type": "code",
   "execution_count": 26,
   "metadata": {},
   "outputs": [
    {
     "name": "stdout",
     "output_type": "stream",
     "text": [
      "[1] 7\n"
     ]
    },
    {
     "data": {
      "text/html": [
       "0.00369061329830341"
      ],
      "text/latex": [
       "0.00369061329830341"
      ],
      "text/markdown": [
       "0.00369061329830341"
      ],
      "text/plain": [
       "[1] 0.003690613"
      ]
     },
     "metadata": {},
     "output_type": "display_data"
    },
    {
     "data": {
      "image/png": "[encoded data removed]",
      "text/plain": [
       "plot without title"
      ]
     },
     "metadata": {},
     "output_type": "display_data"
    }
   ],
   "source": [
    "plot(1:10, cvMSE, type = 'l', xlab = \"Degrees of freedom\", ylab = \"cv MSE\")\n",
    "print(which.min(cvMSE))\n",
    "cvMSE[which.min(cvMSE)]"
   ]
  },
  {
   "cell_type": "markdown",
   "metadata": {},
   "source": [
    "CV MSEs are close for splines and polynomial regression, but test MSE is higher for splines."
   ]
  },
  {
   "cell_type": "markdown",
   "metadata": {},
   "source": [
    "## Problem 10"
   ]
  },
  {
   "cell_type": "code",
   "execution_count": 27,
   "metadata": {},
   "outputs": [
    {
     "data": {
      "text/html": [
       "<table>\n",
       "<thead><tr><th></th><th scope=col>Private</th><th scope=col>Apps</th><th scope=col>Accept</th><th scope=col>Enroll</th><th scope=col>Top10perc</th><th scope=col>Top25perc</th><th scope=col>F.Undergrad</th><th scope=col>P.Undergrad</th><th scope=col>Outstate</th><th scope=col>Room.Board</th><th scope=col>Books</th><th scope=col>Personal</th><th scope=col>PhD</th><th scope=col>Terminal</th><th scope=col>S.F.Ratio</th><th scope=col>perc.alumni</th><th scope=col>Expend</th><th scope=col>Grad.Rate</th></tr></thead>\n",
       "<tbody>\n",
       "\t<tr><th scope=row>Abilene Christian University</th><td>Yes  </td><td>1660 </td><td>1232 </td><td>721  </td><td>23   </td><td>52   </td><td>2885 </td><td> 537 </td><td> 7440</td><td>3300 </td><td>450  </td><td>2200 </td><td>70   </td><td>78   </td><td>18.1 </td><td>12   </td><td> 7041</td><td>60   </td></tr>\n",
       "\t<tr><th scope=row>Adelphi University</th><td>Yes  </td><td>2186 </td><td>1924 </td><td>512  </td><td>16   </td><td>29   </td><td>2683 </td><td>1227 </td><td>12280</td><td>6450 </td><td>750  </td><td>1500 </td><td>29   </td><td>30   </td><td>12.2 </td><td>16   </td><td>10527</td><td>56   </td></tr>\n",
       "\t<tr><th scope=row>Adrian College</th><td>Yes  </td><td>1428 </td><td>1097 </td><td>336  </td><td>22   </td><td>50   </td><td>1036 </td><td>  99 </td><td>11250</td><td>3750 </td><td>400  </td><td>1165 </td><td>53   </td><td>66   </td><td>12.9 </td><td>30   </td><td> 8735</td><td>54   </td></tr>\n",
       "\t<tr><th scope=row>Agnes Scott College</th><td>Yes  </td><td> 417 </td><td> 349 </td><td>137  </td><td>60   </td><td>89   </td><td> 510 </td><td>  63 </td><td>12960</td><td>5450 </td><td>450  </td><td> 875 </td><td>92   </td><td>97   </td><td> 7.7 </td><td>37   </td><td>19016</td><td>59   </td></tr>\n",
       "\t<tr><th scope=row>Alaska Pacific University</th><td>Yes  </td><td> 193 </td><td> 146 </td><td> 55  </td><td>16   </td><td>44   </td><td> 249 </td><td> 869 </td><td> 7560</td><td>4120 </td><td>800  </td><td>1500 </td><td>76   </td><td>72   </td><td>11.9 </td><td> 2   </td><td>10922</td><td>15   </td></tr>\n",
       "\t<tr><th scope=row>Albertson College</th><td>Yes  </td><td> 587 </td><td> 479 </td><td>158  </td><td>38   </td><td>62   </td><td> 678 </td><td>  41 </td><td>13500</td><td>3335 </td><td>500  </td><td> 675 </td><td>67   </td><td>73   </td><td> 9.4 </td><td>11   </td><td> 9727</td><td>55   </td></tr>\n",
       "</tbody>\n",
       "</table>\n"
      ],
      "text/latex": [
       "\\begin{tabular}{r|llllllllllllllllll}\n",
       "  & Private & Apps & Accept & Enroll & Top10perc & Top25perc & F.Undergrad & P.Undergrad & Outstate & Room.Board & Books & Personal & PhD & Terminal & S.F.Ratio & perc.alumni & Expend & Grad.Rate\\\\\n",
       "\\hline\n",
       "\tAbilene Christian University & Yes   & 1660  & 1232  & 721   & 23    & 52    & 2885  &  537  &  7440 & 3300  & 450   & 2200  & 70    & 78    & 18.1  & 12    &  7041 & 60   \\\\\n",
       "\tAdelphi University & Yes   & 2186  & 1924  & 512   & 16    & 29    & 2683  & 1227  & 12280 & 6450  & 750   & 1500  & 29    & 30    & 12.2  & 16    & 10527 & 56   \\\\\n",
       "\tAdrian College & Yes   & 1428  & 1097  & 336   & 22    & 50    & 1036  &   99  & 11250 & 3750  & 400   & 1165  & 53    & 66    & 12.9  & 30    &  8735 & 54   \\\\\n",
       "\tAgnes Scott College & Yes   &  417  &  349  & 137   & 60    & 89    &  510  &   63  & 12960 & 5450  & 450   &  875  & 92    & 97    &  7.7  & 37    & 19016 & 59   \\\\\n",
       "\tAlaska Pacific University & Yes   &  193  &  146  &  55   & 16    & 44    &  249  &  869  &  7560 & 4120  & 800   & 1500  & 76    & 72    & 11.9  &  2    & 10922 & 15   \\\\\n",
       "\tAlbertson College & Yes   &  587  &  479  & 158   & 38    & 62    &  678  &   41  & 13500 & 3335  & 500   &  675  & 67    & 73    &  9.4  & 11    &  9727 & 55   \\\\\n",
       "\\end{tabular}\n"
      ],
      "text/markdown": [
       "\n",
       "| <!--/--> | Private | Apps | Accept | Enroll | Top10perc | Top25perc | F.Undergrad | P.Undergrad | Outstate | Room.Board | Books | Personal | PhD | Terminal | S.F.Ratio | perc.alumni | Expend | Grad.Rate |\n",
       "|---|---|---|---|---|---|---|---|---|---|---|---|---|---|---|---|---|---|---|\n",
       "| Abilene Christian University | Yes   | 1660  | 1232  | 721   | 23    | 52    | 2885  |  537  |  7440 | 3300  | 450   | 2200  | 70    | 78    | 18.1  | 12    |  7041 | 60    |\n",
       "| Adelphi University | Yes   | 2186  | 1924  | 512   | 16    | 29    | 2683  | 1227  | 12280 | 6450  | 750   | 1500  | 29    | 30    | 12.2  | 16    | 10527 | 56    |\n",
       "| Adrian College | Yes   | 1428  | 1097  | 336   | 22    | 50    | 1036  |   99  | 11250 | 3750  | 400   | 1165  | 53    | 66    | 12.9  | 30    |  8735 | 54    |\n",
       "| Agnes Scott College | Yes   |  417  |  349  | 137   | 60    | 89    |  510  |   63  | 12960 | 5450  | 450   |  875  | 92    | 97    |  7.7  | 37    | 19016 | 59    |\n",
       "| Alaska Pacific University | Yes   |  193  |  146  |  55   | 16    | 44    |  249  |  869  |  7560 | 4120  | 800   | 1500  | 76    | 72    | 11.9  |  2    | 10922 | 15    |\n",
       "| Albertson College | Yes   |  587  |  479  | 158   | 38    | 62    |  678  |   41  | 13500 | 3335  | 500   |  675  | 67    | 73    |  9.4  | 11    |  9727 | 55    |\n",
       "\n"
      ],
      "text/plain": [
       "                             Private Apps Accept Enroll Top10perc Top25perc\n",
       "Abilene Christian University Yes     1660 1232   721    23        52       \n",
       "Adelphi University           Yes     2186 1924   512    16        29       \n",
       "Adrian College               Yes     1428 1097   336    22        50       \n",
       "Agnes Scott College          Yes      417  349   137    60        89       \n",
       "Alaska Pacific University    Yes      193  146    55    16        44       \n",
       "Albertson College            Yes      587  479   158    38        62       \n",
       "                             F.Undergrad P.Undergrad Outstate Room.Board Books\n",
       "Abilene Christian University 2885         537         7440    3300       450  \n",
       "Adelphi University           2683        1227        12280    6450       750  \n",
       "Adrian College               1036          99        11250    3750       400  \n",
       "Agnes Scott College           510          63        12960    5450       450  \n",
       "Alaska Pacific University     249         869         7560    4120       800  \n",
       "Albertson College             678          41        13500    3335       500  \n",
       "                             Personal PhD Terminal S.F.Ratio perc.alumni Expend\n",
       "Abilene Christian University 2200     70  78       18.1      12           7041 \n",
       "Adelphi University           1500     29  30       12.2      16          10527 \n",
       "Adrian College               1165     53  66       12.9      30           8735 \n",
       "Agnes Scott College           875     92  97        7.7      37          19016 \n",
       "Alaska Pacific University    1500     76  72       11.9       2          10922 \n",
       "Albertson College             675     67  73        9.4      11           9727 \n",
       "                             Grad.Rate\n",
       "Abilene Christian University 60       \n",
       "Adelphi University           56       \n",
       "Adrian College               54       \n",
       "Agnes Scott College          59       \n",
       "Alaska Pacific University    15       \n",
       "Albertson College            55       "
      ]
     },
     "metadata": {},
     "output_type": "display_data"
    }
   ],
   "source": [
    "head(College)"
   ]
  },
  {
   "cell_type": "code",
   "execution_count": 28,
   "metadata": {},
   "outputs": [
    {
     "data": {
      "text/html": [
       "777"
      ],
      "text/latex": [
       "777"
      ],
      "text/markdown": [
       "777"
      ],
      "text/plain": [
       "[1] 777"
      ]
     },
     "metadata": {},
     "output_type": "display_data"
    }
   ],
   "source": [
    "nrow(College)"
   ]
  },
  {
   "cell_type": "markdown",
   "metadata": {},
   "source": [
    "(a) Split the data into a training set and a test set. Using out-of-state\n",
    "tuition as the response and the other variables as the predictors,\n",
    "perform forward stepwise selection on the training set in order\n",
    "to identify a satisfactory model that uses just a subset of the\n",
    "predictors."
   ]
  },
  {
   "cell_type": "code",
   "execution_count": 29,
   "metadata": {},
   "outputs": [
    {
     "data": {
      "text/plain": [
       "Subset selection object\n",
       "Call: regsubsets.formula(Outstate ~ ., data = College[-test, ], nvmax = 8, \n",
       "    method = \"forward\")\n",
       "17 Variables  (and intercept)\n",
       "            Forced in Forced out\n",
       "PrivateYes      FALSE      FALSE\n",
       "Apps            FALSE      FALSE\n",
       "Accept          FALSE      FALSE\n",
       "Enroll          FALSE      FALSE\n",
       "Top10perc       FALSE      FALSE\n",
       "Top25perc       FALSE      FALSE\n",
       "F.Undergrad     FALSE      FALSE\n",
       "P.Undergrad     FALSE      FALSE\n",
       "Room.Board      FALSE      FALSE\n",
       "Books           FALSE      FALSE\n",
       "Personal        FALSE      FALSE\n",
       "PhD             FALSE      FALSE\n",
       "Terminal        FALSE      FALSE\n",
       "S.F.Ratio       FALSE      FALSE\n",
       "perc.alumni     FALSE      FALSE\n",
       "Expend          FALSE      FALSE\n",
       "Grad.Rate       FALSE      FALSE\n",
       "1 subsets of each size up to 8\n",
       "Selection Algorithm: forward\n",
       "         PrivateYes Apps Accept Enroll Top10perc Top25perc F.Undergrad\n",
       "1  ( 1 ) \" \"        \" \"  \" \"    \" \"    \" \"       \" \"       \" \"        \n",
       "2  ( 1 ) \"*\"        \" \"  \" \"    \" \"    \" \"       \" \"       \" \"        \n",
       "3  ( 1 ) \"*\"        \" \"  \" \"    \" \"    \" \"       \" \"       \" \"        \n",
       "4  ( 1 ) \"*\"        \" \"  \" \"    \" \"    \" \"       \" \"       \" \"        \n",
       "5  ( 1 ) \"*\"        \" \"  \" \"    \" \"    \" \"       \" \"       \" \"        \n",
       "6  ( 1 ) \"*\"        \" \"  \" \"    \" \"    \" \"       \" \"       \" \"        \n",
       "7  ( 1 ) \"*\"        \" \"  \" \"    \" \"    \" \"       \" \"       \" \"        \n",
       "8  ( 1 ) \"*\"        \" \"  \"*\"    \" \"    \" \"       \" \"       \" \"        \n",
       "         P.Undergrad Room.Board Books Personal PhD Terminal S.F.Ratio\n",
       "1  ( 1 ) \" \"         \" \"        \" \"   \" \"      \" \" \" \"      \" \"      \n",
       "2  ( 1 ) \" \"         \" \"        \" \"   \" \"      \" \" \" \"      \" \"      \n",
       "3  ( 1 ) \" \"         \"*\"        \" \"   \" \"      \" \" \" \"      \" \"      \n",
       "4  ( 1 ) \" \"         \"*\"        \" \"   \" \"      \" \" \" \"      \" \"      \n",
       "5  ( 1 ) \" \"         \"*\"        \" \"   \" \"      \"*\" \" \"      \" \"      \n",
       "6  ( 1 ) \" \"         \"*\"        \" \"   \" \"      \"*\" \" \"      \" \"      \n",
       "7  ( 1 ) \" \"         \"*\"        \" \"   \"*\"      \"*\" \" \"      \" \"      \n",
       "8  ( 1 ) \" \"         \"*\"        \" \"   \"*\"      \"*\" \" \"      \" \"      \n",
       "         perc.alumni Expend Grad.Rate\n",
       "1  ( 1 ) \" \"         \"*\"    \" \"      \n",
       "2  ( 1 ) \" \"         \"*\"    \" \"      \n",
       "3  ( 1 ) \" \"         \"*\"    \" \"      \n",
       "4  ( 1 ) \"*\"         \"*\"    \" \"      \n",
       "5  ( 1 ) \"*\"         \"*\"    \" \"      \n",
       "6  ( 1 ) \"*\"         \"*\"    \"*\"      \n",
       "7  ( 1 ) \"*\"         \"*\"    \"*\"      \n",
       "8  ( 1 ) \"*\"         \"*\"    \"*\"      "
      ]
     },
     "metadata": {},
     "output_type": "display_data"
    }
   ],
   "source": [
    "test=sample(1:111) \n",
    "regfit.fwd=regsubsets (Outstate∼., data=College[-test,], nvmax=8,\n",
    "method =\"forward\")\n",
    "reg.sum=summary(regfit.fwd)\n",
    "reg.sum"
   ]
  },
  {
   "cell_type": "code",
   "execution_count": 31,
   "metadata": {},
   "outputs": [
    {
     "data": {
      "image/png": "[encoded data removed]",
      "text/plain": [
       "plot without title"
      ]
     },
     "metadata": {},
     "output_type": "display_data"
    }
   ],
   "source": [
    "regsubplot(reg.sum)"
   ]
  },
  {
   "cell_type": "markdown",
   "metadata": {},
   "source": [
    "Best 6 predictors"
   ]
  },
  {
   "cell_type": "code",
   "execution_count": 32,
   "metadata": {},
   "outputs": [
    {
     "data": {
      "text/html": [
       "<dl class=dl-horizontal>\n",
       "\t<dt>(Intercept)</dt>\n",
       "\t\t<dd>-3714.69640996274</dd>\n",
       "\t<dt>PrivateYes</dt>\n",
       "\t\t<dd>2947.53396452753</dd>\n",
       "\t<dt>Room.Board</dt>\n",
       "\t\t<dd>0.918511770800881</dd>\n",
       "\t<dt>PhD</dt>\n",
       "\t\t<dd>44.8439183523723</dd>\n",
       "\t<dt>perc.alumni</dt>\n",
       "\t\t<dd>52.8145885916755</dd>\n",
       "\t<dt>Expend</dt>\n",
       "\t\t<dd>0.198553181906742</dd>\n",
       "\t<dt>Grad.Rate</dt>\n",
       "\t\t<dd>24.6328333772137</dd>\n",
       "</dl>\n"
      ],
      "text/latex": [
       "\\begin{description*}\n",
       "\\item[(Intercept)] -3714.69640996274\n",
       "\\item[PrivateYes] 2947.53396452753\n",
       "\\item[Room.Board] 0.918511770800881\n",
       "\\item[PhD] 44.8439183523723\n",
       "\\item[perc.alumni] 52.8145885916755\n",
       "\\item[Expend] 0.198553181906742\n",
       "\\item[Grad.Rate] 24.6328333772137\n",
       "\\end{description*}\n"
      ],
      "text/markdown": [
       "(Intercept)\n",
       ":   -3714.69640996274PrivateYes\n",
       ":   2947.53396452753Room.Board\n",
       ":   0.918511770800881PhD\n",
       ":   44.8439183523723perc.alumni\n",
       ":   52.8145885916755Expend\n",
       ":   0.198553181906742Grad.Rate\n",
       ":   24.6328333772137\n",
       "\n"
      ],
      "text/plain": [
       "  (Intercept)    PrivateYes    Room.Board           PhD   perc.alumni \n",
       "-3714.6964100  2947.5339645     0.9185118    44.8439184    52.8145886 \n",
       "       Expend     Grad.Rate \n",
       "    0.1985532    24.6328334 "
      ]
     },
     "metadata": {},
     "output_type": "display_data"
    }
   ],
   "source": [
    "coef(regfit.fwd, id = 6)"
   ]
  },
  {
   "cell_type": "markdown",
   "metadata": {},
   "source": [
    "(b) Fit a GAM on the training data, using out-of-state tuition as\n",
    "the response and the features selected in the previous step as\n",
    "the predictors. Plot the results, and explain your findings."
   ]
  },
  {
   "cell_type": "code",
   "execution_count": 33,
   "metadata": {},
   "outputs": [
    {
     "name": "stderr",
     "output_type": "stream",
     "text": [
      "Warning message in model.matrix.default(mt, mf, contrasts):\n",
      "\"non-list contrasts argument ignored\"Warning message in model.matrix.default(mt, mf, contrasts):\n",
      "\"non-list contrasts argument ignored\"Warning message in model.matrix.default(mt, mf, contrasts):\n",
      "\"non-list contrasts argument ignored\"Warning message in model.matrix.default(mt, mf, contrasts):\n",
      "\"non-list contrasts argument ignored\""
     ]
    },
    {
     "data": {
      "text/html": [
       "<table>\n",
       "<thead><tr><th scope=col>Resid. Df</th><th scope=col>Resid. Dev</th><th scope=col>Df</th><th scope=col>Deviance</th><th scope=col>Pr(&gt;Chi)</th></tr></thead>\n",
       "<tbody>\n",
       "\t<tr><td>646.9997    </td><td>2156836558  </td><td>          NA</td><td>      NA    </td><td>          NA</td></tr>\n",
       "\t<tr><td>643.9998    </td><td>2144419733  </td><td>2.9998616620</td><td>12416825    </td><td>2.838514e-01</td></tr>\n",
       "\t<tr><td>643.9992    </td><td>2127333631  </td><td>0.0006688846</td><td>17086102    </td><td>7.174101e-06</td></tr>\n",
       "\t<tr><td>634.0002    </td><td>2071581767  </td><td>9.9989513980</td><td>55751863    </td><td>7.295849e-02</td></tr>\n",
       "</tbody>\n",
       "</table>\n"
      ],
      "text/latex": [
       "\\begin{tabular}{r|lllll}\n",
       " Resid. Df & Resid. Dev & Df & Deviance & Pr(>Chi)\\\\\n",
       "\\hline\n",
       "\t 646.9997     & 2156836558   &           NA &       NA     &           NA\\\\\n",
       "\t 643.9998     & 2144419733   & 2.9998616620 & 12416825     & 2.838514e-01\\\\\n",
       "\t 643.9992     & 2127333631   & 0.0006688846 & 17086102     & 7.174101e-06\\\\\n",
       "\t 634.0002     & 2071581767   & 9.9989513980 & 55751863     & 7.295849e-02\\\\\n",
       "\\end{tabular}\n"
      ],
      "text/markdown": [
       "\n",
       "| Resid. Df | Resid. Dev | Df | Deviance | Pr(>Chi) |\n",
       "|---|---|---|---|---|\n",
       "| 646.9997     | 2156836558   |           NA |       NA     |           NA |\n",
       "| 643.9998     | 2144419733   | 2.9998616620 | 12416825     | 2.838514e-01 |\n",
       "| 643.9992     | 2127333631   | 0.0006688846 | 17086102     | 7.174101e-06 |\n",
       "| 634.0002     | 2071581767   | 9.9989513980 | 55751863     | 7.295849e-02 |\n",
       "\n"
      ],
      "text/plain": [
       "  Resid. Df Resid. Dev Df           Deviance Pr(>Chi)    \n",
       "1 646.9997  2156836558           NA       NA           NA\n",
       "2 643.9998  2144419733 2.9998616620 12416825 2.838514e-01\n",
       "3 643.9992  2127333631 0.0006688846 17086102 7.174101e-06\n",
       "4 634.0002  2071581767 9.9989513980 55751863 7.295849e-02"
      ]
     },
     "metadata": {},
     "output_type": "display_data"
    },
    {
     "data": {
      "image/png": "[encoded data removed]",
      "text/plain": [
       "plot without title"
      ]
     },
     "metadata": {},
     "output_type": "display_data"
    }
   ],
   "source": [
    "gam.mod0 <- gam(Outstate ~ Private + s(Room.Board, 3) + s(Terminal, 3) + s(perc.alumni, 3) + s(Expend, 5) + s(Grad.Rate, 3), data = College[-test,])\n",
    "gam.mod1 <- gam(Outstate ~ Private + s(Room.Board, 4) + s(Terminal, 4) + s(perc.alumni, 4) + s(Expend, 4) + s(Grad.Rate, 4), data = College[-test,])\n",
    "gam.mod2 <- gam(Outstate ~ Private + s(Room.Board, 5) + s(Terminal, 3) + s(perc.alumni, 2) + s(Expend, 5) + s(Grad.Rate, 5), data = College[-test,])\n",
    "gam.mod3 <- gam(Outstate ~ Private + s(Room.Board, 6) + s(Terminal, 6) + s(perc.alumni, 6) + s(Expend, 6) + s(Grad.Rate, 6), data = College[-test,])\n",
    "\n",
    "anova(gam.mod0, gam.mod1, gam.mod2, gam.mod3)\n",
    "par(mfrow = c(2,3))\n",
    "plot(gam.mod2, se = TRUE, col = 'blue')"
   ]
  },
  {
   "cell_type": "markdown",
   "metadata": {},
   "source": [
    "Model 2 with different degrees polynomial fit, maximum 5th, has best p-value"
   ]
  },
  {
   "cell_type": "markdown",
   "metadata": {},
   "source": [
    "(c) Evaluate the model obtained on the test set, and explain the\n",
    "results obtained."
   ]
  },
  {
   "cell_type": "code",
   "execution_count": 34,
   "metadata": {},
   "outputs": [
    {
     "data": {
      "text/html": [
       "4295465.49324417"
      ],
      "text/latex": [
       "4295465.49324417"
      ],
      "text/markdown": [
       "4295465.49324417"
      ],
      "text/plain": [
       "[1] 4295465"
      ]
     },
     "metadata": {},
     "output_type": "display_data"
    }
   ],
   "source": [
    "#Find MSE\n",
    "pred=predict(gam.mod2, College[test,])\n",
    "val.mse = mean((pred - College[test,]$Outstate)^2)\n",
    "val.mse"
   ]
  },
  {
   "cell_type": "code",
   "execution_count": 35,
   "metadata": {},
   "outputs": [
    {
     "data": {
      "text/html": [
       "0.740894883797304"
      ],
      "text/latex": [
       "0.740894883797304"
      ],
      "text/markdown": [
       "0.740894883797304"
      ],
      "text/plain": [
       "[1] 0.7408949"
      ]
     },
     "metadata": {},
     "output_type": "display_data"
    }
   ],
   "source": [
    "#Find R-squared\n",
    "RSS =sum((College[test,]$Outstate - pred)^2)\n",
    "TSS = sum((College[test, ]$Outstate - mean(College[test, ]$Outstate)) ^ 2)\n",
    "1 - (RSS / TSS)  "
   ]
  },
  {
   "cell_type": "markdown",
   "metadata": {},
   "source": [
    "R-squared looks good."
   ]
  },
  {
   "cell_type": "markdown",
   "metadata": {},
   "source": [
    "(d) For which variables, if any, is there evidence of a non-linear\n",
    "relationship with the response?"
   ]
  },
  {
   "cell_type": "code",
   "execution_count": 36,
   "metadata": {},
   "outputs": [
    {
     "data": {
      "text/plain": [
       "\n",
       "Call: gam(formula = Outstate ~ Private + s(Room.Board, 5) + s(Terminal, \n",
       "    3) + s(perc.alumni, 2) + s(Expend, 5) + s(Grad.Rate, 5), \n",
       "    data = College[-test, ])\n",
       "Deviance Residuals:\n",
       "     Min       1Q   Median       3Q      Max \n",
       "-7297.43 -1139.08    64.43  1277.62  4848.13 \n",
       "\n",
       "(Dispersion Parameter for gaussian family taken to be 3303317)\n",
       "\n",
       "    Null Deviance: 10675721212 on 665 degrees of freedom\n",
       "Residual Deviance: 2127333631 on 643.9992 degrees of freedom\n",
       "AIC: 11910.61 \n",
       "\n",
       "Number of Local Scoring Iterations: 2 \n",
       "\n",
       "Anova for Parametric Effects\n",
       "                   Df     Sum Sq    Mean Sq F value    Pr(>F)    \n",
       "Private             1 3071244224 3071244224 929.745 < 2.2e-16 ***\n",
       "s(Room.Board, 5)    1 2150801420 2150801420 651.104 < 2.2e-16 ***\n",
       "s(Terminal, 3)      1  677138982  677138982 204.988 < 2.2e-16 ***\n",
       "s(perc.alumni, 2)   1  432968075  432968075 131.071 < 2.2e-16 ***\n",
       "s(Expend, 5)        1  789872675  789872675 239.115 < 2.2e-16 ***\n",
       "s(Grad.Rate, 5)     1   95575685   95575685  28.933  1.05e-07 ***\n",
       "Residuals         644 2127333631    3303317                      \n",
       "---\n",
       "Signif. codes:  0 '***' 0.001 '**' 0.01 '*' 0.05 '.' 0.1 ' ' 1\n",
       "\n",
       "Anova for Nonparametric Effects\n",
       "                  Npar Df  Npar F     Pr(F)    \n",
       "(Intercept)                                    \n",
       "Private                                        \n",
       "s(Room.Board, 5)        4  3.4084  0.009024 ** \n",
       "s(Terminal, 3)          2  2.8249  0.060044 .  \n",
       "s(perc.alumni, 2)       1  1.9062  0.167865    \n",
       "s(Expend, 5)            4 25.1414 < 2.2e-16 ***\n",
       "s(Grad.Rate, 5)         4  2.2645  0.060874 .  \n",
       "---\n",
       "Signif. codes:  0 '***' 0.001 '**' 0.01 '*' 0.05 '.' 0.1 ' ' 1"
      ]
     },
     "metadata": {},
     "output_type": "display_data"
    }
   ],
   "source": [
    "summary(gam.mod2)"
   ]
  },
  {
   "cell_type": "markdown",
   "metadata": {},
   "source": [
    "All selected numerical features show non linear relationship."
   ]
  },
  {
   "cell_type": "markdown",
   "metadata": {},
   "source": [
    "## Problem 11"
   ]
  },
  {
   "cell_type": "markdown",
   "metadata": {},
   "source": [
    "(a) Generate a response Y and two predictors X1 and X2, with\n",
    "n = 100."
   ]
  },
  {
   "cell_type": "code",
   "execution_count": 24,
   "metadata": {},
   "outputs": [],
   "source": [
    "set.seed(1)\n",
    "x1=rnorm(100)\n",
    "x2=rnorm(100)\n",
    "y=rnorm(100)"
   ]
  },
  {
   "cell_type": "markdown",
   "metadata": {},
   "source": [
    "(b) Initialize βˆ1 to take on a value of your choice. It does not matter\n",
    "what value you choose"
   ]
  },
  {
   "cell_type": "code",
   "execution_count": 25,
   "metadata": {},
   "outputs": [],
   "source": [
    "beta1=2"
   ]
  },
  {
   "cell_type": "markdown",
   "metadata": {},
   "source": [
    "(c)Keeping βˆ1 fixed, fit the model"
   ]
  },
  {
   "cell_type": "code",
   "execution_count": 26,
   "metadata": {},
   "outputs": [
    {
     "data": {
      "text/html": [
       "<strong>x2:</strong> -0.0516217581965803"
      ],
      "text/latex": [
       "\\textbf{x2:} -0.0516217581965803"
      ],
      "text/markdown": [
       "**x2:** -0.0516217581965803"
      ],
      "text/plain": [
       "         x2 \n",
       "-0.05162176 "
      ]
     },
     "metadata": {},
     "output_type": "display_data"
    }
   ],
   "source": [
    "a=y-beta1*x1\n",
    "beta2=lm(a∼x2)$coef[2]\n",
    "beta2"
   ]
  },
  {
   "cell_type": "markdown",
   "metadata": {},
   "source": [
    "(d) Keeping βˆ2 fixed, fit the model"
   ]
  },
  {
   "cell_type": "code",
   "execution_count": 27,
   "metadata": {},
   "outputs": [
    {
     "data": {
      "text/html": [
       "<strong>x1:</strong> 0.0211121226778642"
      ],
      "text/latex": [
       "\\textbf{x1:} 0.0211121226778642"
      ],
      "text/markdown": [
       "**x1:** 0.0211121226778642"
      ],
      "text/plain": [
       "        x1 \n",
       "0.02111212 "
      ]
     },
     "metadata": {},
     "output_type": "display_data"
    }
   ],
   "source": [
    "a=y-beta2*x2\n",
    "beta1=lm(a∼x1)$coef[2]\n",
    "beta1"
   ]
  },
  {
   "cell_type": "markdown",
   "metadata": {},
   "source": [
    "Write a for loop to repeat (c) and (d) 1,000 times. Report the\n",
    "estimates of βˆ0, βˆ1, and βˆ2 at each iteration of the for loop.\n",
    "Create a plot in which each of these values is displayed, with βˆ0,\n",
    "βˆ1, and βˆ2 each shown in a different color."
   ]
  },
  {
   "cell_type": "code",
   "execution_count": 30,
   "metadata": {},
   "outputs": [],
   "source": [
    "n=100\n",
    "beta0 = rep(NA, n)\n",
    "beta1 = rep(NA, n)\n",
    "beta2 = rep(NA, n)\n",
    "beta1[1]=1\n",
    "for(i in 1:n){\n",
    "    a=y-beta1[i]*x1\n",
    "    beta2[i]=lm(a∼x2)$coef[2]\n",
    "    beta0[i]=lm(a∼x2)$coef[1]\n",
    "    a=y-beta2[i]*x2\n",
    "    beta1[i+1]=lm(a∼x1)$coef[2]\n",
    "}"
   ]
  },
  {
   "cell_type": "code",
   "execution_count": 33,
   "metadata": {},
   "outputs": [
    {
     "data": {
      "image/png": "[encoded data removed]",
      "text/plain": [
       "plot without title"
      ]
     },
     "metadata": {},
     "output_type": "display_data"
    }
   ],
   "source": [
    "plot(beta1[2:n],  type = 'l', xlab = \"n\", ylab = \"beta\", col=\"blue\")\n",
    "lines(beta0[2:n],  type = 'l', col=\"red\")\n",
    "#lines(beta2[2:1000],  type = 'l', col=\"green\")"
   ]
  },
  {
   "cell_type": "markdown",
   "metadata": {},
   "source": [
    "## Problem 12"
   ]
  },
  {
   "cell_type": "markdown",
   "metadata": {},
   "source": [
    "This problem is a continuation of the previous exercise. In a toy\n",
    "example with p = 100, show that one can approximate the multiple\n",
    "linear regression coefficient estimates by repeatedly performing simple\n",
    "linear regression in a backfitting procedure. How many backfitting\n",
    "iterations are required in order to obtain a “good” approximation to\n",
    "the multiple regression coefficient estimates? Create a plot to justify\n",
    "your answer."
   ]
  },
  {
   "cell_type": "code",
   "execution_count": 92,
   "metadata": {},
   "outputs": [],
   "source": [
    "n=9\n",
    "n1=30\n",
    "set.seed(1)\n",
    "x = rnorm(n1)\n",
    "for(i in 1:n){\n",
    "    x=cbind(x, rnorm(n1))\n",
    "    }\n",
    "y=rnorm(n1)\n",
    "df=data.frame(x)\n",
    "beta=matrix(list(), nrow=n1, ncol=n+1)\n",
    "beta0 = rep(NA, n1)\n",
    "beta[1,1:(n+1)]=rep(1, n+1)"
   ]
  },
  {
   "cell_type": "code",
   "execution_count": 93,
   "metadata": {},
   "outputs": [
    {
     "data": {
      "text/plain": [
       "\n",
       "Call:\n",
       "lm(formula = y ~ ., data = df1)\n",
       "\n",
       "Residuals:\n",
       "    Min      1Q  Median      3Q     Max \n",
       "-1.6733 -0.5726  0.0495  0.4562  1.8956 \n",
       "\n",
       "Coefficients:\n",
       "            Estimate Std. Error t value Pr(>|t|)\n",
       "(Intercept)  0.07001    0.21145   0.331    0.744\n",
       "x            0.18277    0.23707   0.771    0.450\n",
       "V2          -0.24818    0.30914  -0.803    0.432\n",
       "V3           0.42249    0.25318   1.669    0.112\n",
       "V4           0.32103    0.26897   1.194    0.247\n",
       "V5          -0.08635    0.26528  -0.326    0.748\n",
       "V6           0.05659    0.21262   0.266    0.793\n",
       "V7           0.07520    0.22476   0.335    0.742\n",
       "V8          -0.23001    0.23117  -0.995    0.332\n",
       "V9           0.01086    0.22810   0.048    0.963\n",
       "V10         -0.14151    0.26529  -0.533    0.600\n",
       "\n",
       "Residual standard error: 1.008 on 19 degrees of freedom\n",
       "Multiple R-squared:  0.2575,\tAdjusted R-squared:  -0.1334 \n",
       "F-statistic: 0.6588 on 10 and 19 DF,  p-value: 0.7475\n"
      ]
     },
     "metadata": {},
     "output_type": "display_data"
    }
   ],
   "source": [
    "df1=data.frame(x,y)\n",
    "summary(lm(y~.,df1))"
   ]
  },
  {
   "cell_type": "code",
   "execution_count": 94,
   "metadata": {},
   "outputs": [
    {
     "name": "stdout",
     "output_type": "stream",
     "text": [
      "     [,1]\n",
      "[1,] 1   \n",
      "[2,] 1   \n",
      "[3,] 1   \n",
      "[4,] 1   \n",
      "[5,] 1   \n",
      "[6,] 1   \n",
      "[7,] 1   \n",
      "[8,] 1   \n",
      "     [,1]\n",
      "[1,] 1   \n",
      "[2,] 1   \n",
      "[3,] 1   \n",
      "[4,] 1   \n",
      "[5,] 1   \n",
      "[6,] 1   \n",
      "[7,] 1   \n",
      "     [,1]\n",
      "[1,] 1   \n",
      "[2,] 1   \n",
      "[3,] 1   \n",
      "[4,] 1   \n",
      "[5,] 1   \n",
      "[6,] 1   \n",
      "     [,1]\n",
      "[1,] 1   \n",
      "[2,] 1   \n",
      "[3,] 1   \n",
      "[4,] 1   \n",
      "[5,] 1   \n",
      "     [,1]\n",
      "[1,] 1   \n",
      "[2,] 1   \n",
      "[3,] 1   \n",
      "[4,] 1   \n",
      "     [,1]\n",
      "[1,] 1   \n",
      "[2,] 1   \n",
      "[3,] 1   \n",
      "     [,1]\n",
      "[1,] 1   \n",
      "[2,] 1   \n",
      "     [,1]\n",
      "[1,] 1   \n",
      "     [,1]       \n",
      "[1,] -0.05175824\n",
      "[2,] -0.264266  \n",
      "[3,] -0.1789733 \n",
      "[4,] 0.2680986  \n",
      "[5,] 0.7912641  \n",
      "[6,] 0.4977696  \n",
      "[7,] 0.2668388  \n",
      "[8,] 0.3974134  \n",
      "     [,1]      \n",
      "[1,] -0.264266 \n",
      "[2,] -0.1789733\n",
      "[3,] 0.2680986 \n",
      "[4,] 0.7912641 \n",
      "[5,] 0.4977696 \n",
      "[6,] 0.2668388 \n",
      "[7,] 0.3974134 \n",
      "     [,1]      \n",
      "[1,] -0.1789733\n",
      "[2,] 0.2680986 \n",
      "[3,] 0.7912641 \n",
      "[4,] 0.4977696 \n",
      "[5,] 0.2668388 \n",
      "[6,] 0.3974134 \n",
      "     [,1]     \n",
      "[1,] 0.2680986\n",
      "[2,] 0.7912641\n",
      "[3,] 0.4977696\n",
      "[4,] 0.2668388\n",
      "[5,] 0.3974134\n",
      "     [,1]     \n",
      "[1,] 0.7912641\n",
      "[2,] 0.4977696\n",
      "[3,] 0.2668388\n",
      "[4,] 0.3974134\n",
      "     [,1]     \n",
      "[1,] 0.4977696\n",
      "[2,] 0.2668388\n",
      "[3,] 0.3974134\n",
      "     [,1]     \n",
      "[1,] 0.2668388\n",
      "[2,] 0.3974134\n",
      "     [,1]     \n",
      "[1,] 0.3974134\n",
      "     [,1]       \n",
      "[1,] 0.3011679  \n",
      "[2,] -0.06815546\n",
      "[3,] -0.187895  \n",
      "[4,] 0.1238491  \n",
      "[5,] 0.4208598  \n",
      "[6,] 0.1862995  \n",
      "[7,] 0.07856687 \n",
      "[8,] 0.1051518  \n",
      "     [,1]       \n",
      "[1,] -0.06815546\n",
      "[2,] -0.187895  \n",
      "[3,] 0.1238491  \n",
      "[4,] 0.4208598  \n",
      "[5,] 0.1862995  \n",
      "[6,] 0.07856687 \n",
      "[7,] 0.1051518  \n",
      "     [,1]      \n",
      "[1,] -0.187895 \n",
      "[2,] 0.1238491 \n",
      "[3,] 0.4208598 \n",
      "[4,] 0.1862995 \n",
      "[5,] 0.07856687\n",
      "[6,] 0.1051518 \n",
      "     [,1]      \n",
      "[1,] 0.1238491 \n",
      "[2,] 0.4208598 \n",
      "[3,] 0.1862995 \n",
      "[4,] 0.07856687\n",
      "[5,] 0.1051518 \n",
      "     [,1]      \n",
      "[1,] 0.4208598 \n",
      "[2,] 0.1862995 \n",
      "[3,] 0.07856687\n",
      "[4,] 0.1051518 \n",
      "     [,1]      \n",
      "[1,] 0.1862995 \n",
      "[2,] 0.07856687\n",
      "[3,] 0.1051518 \n",
      "     [,1]      \n",
      "[1,] 0.07856687\n",
      "[2,] 0.1051518 \n",
      "     [,1]     \n",
      "[1,] 0.1051518\n",
      "     [,1]       \n",
      "[1,] 0.4132053  \n",
      "[2,] 0.09040142 \n",
      "[3,] -0.1674947 \n",
      "[4,] 0.08829328 \n",
      "[5,] 0.2455993  \n",
      "[6,] 0.008096174\n",
      "[7,] 0.02474196 \n",
      "[8,] -0.02428618\n",
      "     [,1]       \n",
      "[1,] 0.09040142 \n",
      "[2,] -0.1674947 \n",
      "[3,] 0.08829328 \n",
      "[4,] 0.2455993  \n",
      "[5,] 0.008096174\n",
      "[6,] 0.02474196 \n",
      "[7,] -0.02428618\n",
      "     [,1]       \n",
      "[1,] -0.1674947 \n",
      "[2,] 0.08829328 \n",
      "[3,] 0.2455993  \n",
      "[4,] 0.008096174\n",
      "[5,] 0.02474196 \n",
      "[6,] -0.02428618\n",
      "     [,1]       \n",
      "[1,] 0.08829328 \n",
      "[2,] 0.2455993  \n",
      "[3,] 0.008096174\n",
      "[4,] 0.02474196 \n",
      "[5,] -0.02428618\n",
      "     [,1]       \n",
      "[1,] 0.2455993  \n",
      "[2,] 0.008096174\n",
      "[3,] 0.02474196 \n",
      "[4,] -0.02428618\n",
      "     [,1]       \n",
      "[1,] 0.008096174\n",
      "[2,] 0.02474196 \n",
      "[3,] -0.02428618\n",
      "     [,1]       \n",
      "[1,] 0.02474196 \n",
      "[2,] -0.02428618\n",
      "     [,1]       \n",
      "[1,] -0.02428618\n",
      "     [,1]       \n",
      "[1,] 0.4377172  \n",
      "[2,] 0.1896904  \n",
      "[3,] -0.1397758 \n",
      "[4,] 0.06926327 \n",
      "[5,] 0.1597451  \n",
      "[6,] -0.10073   \n",
      "[7,] 0.01343932 \n",
      "[8,] -0.08271738\n",
      "     [,1]       \n",
      "[1,] 0.1896904  \n",
      "[2,] -0.1397758 \n",
      "[3,] 0.06926327 \n",
      "[4,] 0.1597451  \n",
      "[5,] -0.10073   \n",
      "[6,] 0.01343932 \n",
      "[7,] -0.08271738\n",
      "     [,1]       \n",
      "[1,] -0.1397758 \n",
      "[2,] 0.06926327 \n",
      "[3,] 0.1597451  \n",
      "[4,] -0.10073   \n",
      "[5,] 0.01343932 \n",
      "[6,] -0.08271738\n",
      "     [,1]       \n",
      "[1,] 0.06926327 \n",
      "[2,] 0.1597451  \n",
      "[3,] -0.10073   \n",
      "[4,] 0.01343932 \n",
      "[5,] -0.08271738\n",
      "     [,1]       \n",
      "[1,] 0.1597451  \n",
      "[2,] -0.10073   \n",
      "[3,] 0.01343932 \n",
      "[4,] -0.08271738\n",
      "     [,1]       \n",
      "[1,] -0.10073   \n",
      "[2,] 0.01343932 \n",
      "[3,] -0.08271738\n",
      "     [,1]       \n",
      "[1,] 0.01343932 \n",
      "[2,] -0.08271738\n",
      "     [,1]       \n",
      "[1,] -0.08271738\n",
      "     [,1]      \n",
      "[1,] 0.4375143 \n",
      "[2,] 0.2480632 \n",
      "[3,] -0.1190539\n",
      "[4,] 0.06298233\n",
      "[5,] 0.1201886 \n",
      "[6,] -0.1579563\n",
      "[7,] 0.01007421\n",
      "[8,] -0.1108053\n",
      "     [,1]      \n",
      "[1,] 0.2480632 \n",
      "[2,] -0.1190539\n",
      "[3,] 0.06298233\n",
      "[4,] 0.1201886 \n",
      "[5,] -0.1579563\n",
      "[6,] 0.01007421\n",
      "[7,] -0.1108053\n",
      "     [,1]      \n",
      "[1,] -0.1190539\n",
      "[2,] 0.06298233\n",
      "[3,] 0.1201886 \n",
      "[4,] -0.1579563\n",
      "[5,] 0.01007421\n",
      "[6,] -0.1108053\n",
      "     [,1]      \n",
      "[1,] 0.06298233\n",
      "[2,] 0.1201886 \n",
      "[3,] -0.1579563\n",
      "[4,] 0.01007421\n",
      "[5,] -0.1108053\n",
      "     [,1]      \n",
      "[1,] 0.1201886 \n",
      "[2,] -0.1579563\n",
      "[3,] 0.01007421\n",
      "[4,] -0.1108053\n",
      "     [,1]      \n",
      "[1,] -0.1579563\n",
      "[2,] 0.01007421\n",
      "[3,] -0.1108053\n",
      "     [,1]      \n",
      "[1,] 0.01007421\n",
      "[2,] -0.1108053\n",
      "     [,1]      \n",
      "[1,] -0.1108053\n",
      "     [,1]      \n",
      "[1,] 0.4330819 \n",
      "[2,] 0.2802776 \n",
      "[3,] -0.1055584\n",
      "[4,] 0.05906991\n",
      "[5,] 0.09897928\n",
      "[6,] -0.1910813\n",
      "[7,] 0.0102431 \n",
      "[8,] -0.1249342\n",
      "     [,1]      \n",
      "[1,] 0.2802776 \n",
      "[2,] -0.1055584\n",
      "[3,] 0.05906991\n",
      "[4,] 0.09897928\n",
      "[5,] -0.1910813\n",
      "[6,] 0.0102431 \n",
      "[7,] -0.1249342\n",
      "     [,1]      \n",
      "[1,] -0.1055584\n",
      "[2,] 0.05906991\n",
      "[3,] 0.09897928\n",
      "[4,] -0.1910813\n",
      "[5,] 0.0102431 \n",
      "[6,] -0.1249342\n",
      "     [,1]      \n",
      "[1,] 0.05906991\n",
      "[2,] 0.09897928\n",
      "[3,] -0.1910813\n",
      "[4,] 0.0102431 \n",
      "[5,] -0.1249342\n",
      "     [,1]      \n",
      "[1,] 0.09897928\n",
      "[2,] -0.1910813\n",
      "[3,] 0.0102431 \n",
      "[4,] -0.1249342\n",
      "     [,1]      \n",
      "[1,] -0.1910813\n",
      "[2,] 0.0102431 \n",
      "[3,] -0.1249342\n",
      "     [,1]      \n",
      "[1,] 0.0102431 \n",
      "[2,] -0.1249342\n",
      "     [,1]      \n",
      "[1,] -0.1249342\n",
      "     [,1]       \n",
      "[1,] 0.4290811  \n",
      "[2,] 0.2984821  \n",
      "[3,] -0.09749107\n",
      "[4,] 0.05780422 \n",
      "[5,] 0.08834844 \n",
      "[6,] -0.2084523 \n",
      "[7,] 0.0103417  \n",
      "[8,] -0.1323733 \n",
      "     [,1]       \n",
      "[1,] 0.2984821  \n",
      "[2,] -0.09749107\n",
      "[3,] 0.05780422 \n",
      "[4,] 0.08834844 \n",
      "[5,] -0.2084523 \n",
      "[6,] 0.0103417  \n",
      "[7,] -0.1323733 \n",
      "     [,1]       \n",
      "[1,] -0.09749107\n",
      "[2,] 0.05780422 \n",
      "[3,] 0.08834844 \n",
      "[4,] -0.2084523 \n",
      "[5,] 0.0103417  \n",
      "[6,] -0.1323733 \n",
      "     [,1]      \n",
      "[1,] 0.05780422\n",
      "[2,] 0.08834844\n",
      "[3,] -0.2084523\n",
      "[4,] 0.0103417 \n",
      "[5,] -0.1323733\n",
      "     [,1]      \n",
      "[1,] 0.08834844\n",
      "[2,] -0.2084523\n",
      "[3,] 0.0103417 \n",
      "[4,] -0.1323733\n",
      "     [,1]      \n",
      "[1,] -0.2084523\n",
      "[2,] 0.0103417 \n",
      "[3,] -0.1323733\n",
      "     [,1]      \n",
      "[1,] 0.0103417 \n",
      "[2,] -0.1323733\n",
      "     [,1]      \n",
      "[1,] -0.1323733\n",
      "     [,1]       \n",
      "[1,] 0.4264099  \n",
      "[2,] 0.3084494  \n",
      "[3,] -0.09274138\n",
      "[4,] 0.05699272 \n",
      "[5,] 0.08237554 \n",
      "[6,] -0.218319  \n",
      "[7,] 0.010653   \n",
      "[8,] -0.1363838 \n",
      "     [,1]       \n",
      "[1,] 0.3084494  \n",
      "[2,] -0.09274138\n",
      "[3,] 0.05699272 \n",
      "[4,] 0.08237554 \n",
      "[5,] -0.218319  \n",
      "[6,] 0.010653   \n",
      "[7,] -0.1363838 \n",
      "     [,1]       \n",
      "[1,] -0.09274138\n",
      "[2,] 0.05699272 \n",
      "[3,] 0.08237554 \n",
      "[4,] -0.218319  \n",
      "[5,] 0.010653   \n",
      "[6,] -0.1363838 \n",
      "     [,1]      \n",
      "[1,] 0.05699272\n",
      "[2,] 0.08237554\n",
      "[3,] -0.218319 \n",
      "[4,] 0.010653  \n",
      "[5,] -0.1363838\n",
      "     [,1]      \n",
      "[1,] 0.08237554\n",
      "[2,] -0.218319 \n",
      "[3,] 0.010653  \n",
      "[4,] -0.1363838\n",
      "     [,1]      \n",
      "[1,] -0.218319 \n",
      "[2,] 0.010653  \n",
      "[3,] -0.1363838\n",
      "     [,1]      \n",
      "[1,] 0.010653  \n",
      "[2,] -0.1363838\n",
      "     [,1]      \n",
      "[1,] -0.1363838\n",
      "     [,1]       \n",
      "[1,] 0.4247495  \n",
      "[2,] 0.314039   \n",
      "[3,] -0.09001873\n",
      "[4,] 0.05675679 \n",
      "[5,] 0.07923821 \n",
      "[6,] -0.2235325 \n",
      "[7,] 0.01075274 \n",
      "[8,] -0.1386025 \n",
      "     [,1]       \n",
      "[1,] 0.314039   \n",
      "[2,] -0.09001873\n",
      "[3,] 0.05675679 \n",
      "[4,] 0.07923821 \n",
      "[5,] -0.2235325 \n",
      "[6,] 0.01075274 \n",
      "[7,] -0.1386025 \n",
      "     [,1]       \n",
      "[1,] -0.09001873\n",
      "[2,] 0.05675679 \n",
      "[3,] 0.07923821 \n",
      "[4,] -0.2235325 \n",
      "[5,] 0.01075274 \n",
      "[6,] -0.1386025 \n",
      "     [,1]      \n",
      "[1,] 0.05675679\n",
      "[2,] 0.07923821\n",
      "[3,] -0.2235325\n",
      "[4,] 0.01075274\n",
      "[5,] -0.1386025\n",
      "     [,1]      \n",
      "[1,] 0.07923821\n",
      "[2,] -0.2235325\n",
      "[3,] 0.01075274\n",
      "[4,] -0.1386025\n",
      "     [,1]      \n",
      "[1,] -0.2235325\n",
      "[2,] 0.01075274\n",
      "[3,] -0.1386025\n",
      "     [,1]      \n",
      "[1,] 0.01075274\n",
      "[2,] -0.1386025\n",
      "     [,1]      \n",
      "[1,] -0.1386025\n",
      "     [,1]       \n",
      "[1,] 0.4237815  \n",
      "[2,] 0.317112   \n",
      "[3,] -0.08845157\n",
      "[4,] 0.05660684 \n",
      "[5,] 0.07744592 \n",
      "[6,] -0.2264712 \n",
      "[7,] 0.01083994 \n",
      "[8,] -0.1398435 \n",
      "     [,1]       \n",
      "[1,] 0.317112   \n",
      "[2,] -0.08845157\n",
      "[3,] 0.05660684 \n",
      "[4,] 0.07744592 \n",
      "[5,] -0.2264712 \n",
      "[6,] 0.01083994 \n",
      "[7,] -0.1398435 \n",
      "     [,1]       \n",
      "[1,] -0.08845157\n",
      "[2,] 0.05660684 \n",
      "[3,] 0.07744592 \n",
      "[4,] -0.2264712 \n",
      "[5,] 0.01083994 \n",
      "[6,] -0.1398435 \n",
      "     [,1]      \n",
      "[1,] 0.05660684\n",
      "[2,] 0.07744592\n",
      "[3,] -0.2264712\n",
      "[4,] 0.01083994\n",
      "[5,] -0.1398435\n",
      "     [,1]      \n",
      "[1,] 0.07744592\n",
      "[2,] -0.2264712\n",
      "[3,] 0.01083994\n",
      "[4,] -0.1398435\n",
      "     [,1]      \n",
      "[1,] -0.2264712\n",
      "[2,] 0.01083994\n",
      "[3,] -0.1398435\n",
      "     [,1]      \n",
      "[1,] 0.01083994\n",
      "[2,] -0.1398435\n",
      "     [,1]      \n",
      "[1,] -0.1398435\n",
      "     [,1]       \n",
      "[1,] 0.4232213  \n",
      "[2,] 0.3188369  \n",
      "[3,] -0.08755883\n",
      "[4,] 0.05657815 \n",
      "[5,] 0.07647684 \n",
      "[6,] -0.2280409 \n",
      "[7,] 0.01086029 \n",
      "[8,] -0.1405482 \n",
      "     [,1]       \n",
      "[1,] 0.3188369  \n",
      "[2,] -0.08755883\n",
      "[3,] 0.05657815 \n",
      "[4,] 0.07647684 \n",
      "[5,] -0.2280409 \n",
      "[6,] 0.01086029 \n",
      "[7,] -0.1405482 \n",
      "     [,1]       \n",
      "[1,] -0.08755883\n",
      "[2,] 0.05657815 \n",
      "[3,] 0.07647684 \n",
      "[4,] -0.2280409 \n",
      "[5,] 0.01086029 \n",
      "[6,] -0.1405482 \n",
      "     [,1]      \n",
      "[1,] 0.05657815\n",
      "[2,] 0.07647684\n",
      "[3,] -0.2280409\n",
      "[4,] 0.01086029\n",
      "[5,] -0.1405482\n",
      "     [,1]      \n",
      "[1,] 0.07647684\n",
      "[2,] -0.2280409\n",
      "[3,] 0.01086029\n",
      "[4,] -0.1405482\n",
      "     [,1]      \n",
      "[1,] -0.2280409\n",
      "[2,] 0.01086029\n",
      "[3,] -0.1405482\n",
      "     [,1]      \n",
      "[1,] 0.01086029\n",
      "[2,] -0.1405482\n",
      "     [,1]      \n",
      "[1,] -0.1405482\n",
      "     [,1]       \n",
      "[1,] 0.422905   \n",
      "[2,] 0.3197931  \n",
      "[3,] -0.08704614\n",
      "[4,] 0.0565611  \n",
      "[5,] 0.07591927 \n",
      "[6,] -0.2289238 \n",
      "[7,] 0.01087405 \n",
      "[8,] -0.1409507 \n",
      "     [,1]       \n",
      "[1,] 0.3197931  \n",
      "[2,] -0.08704614\n",
      "[3,] 0.0565611  \n",
      "[4,] 0.07591927 \n",
      "[5,] -0.2289238 \n",
      "[6,] 0.01087405 \n",
      "[7,] -0.1409507 \n",
      "     [,1]       \n",
      "[1,] -0.08704614\n",
      "[2,] 0.0565611  \n",
      "[3,] 0.07591927 \n",
      "[4,] -0.2289238 \n",
      "[5,] 0.01087405 \n",
      "[6,] -0.1409507 \n",
      "     [,1]      \n",
      "[1,] 0.0565611 \n",
      "[2,] 0.07591927\n",
      "[3,] -0.2289238\n",
      "[4,] 0.01087405\n",
      "[5,] -0.1409507\n",
      "     [,1]      \n",
      "[1,] 0.07591927\n",
      "[2,] -0.2289238\n",
      "[3,] 0.01087405\n",
      "[4,] -0.1409507\n",
      "     [,1]      \n",
      "[1,] -0.2289238\n",
      "[2,] 0.01087405\n",
      "[3,] -0.1409507\n",
      "     [,1]      \n",
      "[1,] 0.01087405\n",
      "[2,] -0.1409507\n",
      "     [,1]      \n",
      "[1,] -0.1409507\n",
      "     [,1]       \n",
      "[1,] 0.4227254  \n",
      "[2,] 0.3203323  \n",
      "[3,] -0.08675284\n",
      "[4,] 0.05656635 \n",
      "[5,] 0.07561137 \n",
      "[6,] -0.229401  \n",
      "[7,] 0.01087285 \n",
      "[8,] -0.1411828 \n",
      "     [,1]       \n",
      "[1,] 0.3203323  \n",
      "[2,] -0.08675284\n",
      "[3,] 0.05656635 \n",
      "[4,] 0.07561137 \n",
      "[5,] -0.229401  \n",
      "[6,] 0.01087285 \n",
      "[7,] -0.1411828 \n",
      "     [,1]       \n",
      "[1,] -0.08675284\n",
      "[2,] 0.05656635 \n",
      "[3,] 0.07561137 \n",
      "[4,] -0.229401  \n",
      "[5,] 0.01087285 \n",
      "[6,] -0.1411828 \n",
      "     [,1]      \n",
      "[1,] 0.05656635\n",
      "[2,] 0.07561137\n",
      "[3,] -0.229401 \n",
      "[4,] 0.01087285\n",
      "[5,] -0.1411828\n",
      "     [,1]      \n",
      "[1,] 0.07561137\n",
      "[2,] -0.229401 \n",
      "[3,] 0.01087285\n",
      "[4,] -0.1411828\n",
      "     [,1]      \n",
      "[1,] -0.229401 \n",
      "[2,] 0.01087285\n",
      "[3,] -0.1411828\n",
      "     [,1]      \n",
      "[1,] 0.01087285\n",
      "[2,] -0.1411828\n",
      "     [,1]      \n",
      "[1,] -0.1411828\n",
      "     [,1]       \n",
      "[1,] 0.4226245  \n",
      "[2,] 0.3206342  \n",
      "[3,] -0.08658365\n",
      "[4,] 0.0565703  \n",
      "[5,] 0.07543334 \n",
      "[6,] -0.2296698 \n",
      "[7,] 0.01087154 \n",
      "[8,] -0.1413171 \n",
      "     [,1]       \n",
      "[1,] 0.3206342  \n",
      "[2,] -0.08658365\n",
      "[3,] 0.0565703  \n",
      "[4,] 0.07543334 \n",
      "[5,] -0.2296698 \n",
      "[6,] 0.01087154 \n",
      "[7,] -0.1413171 \n",
      "     [,1]       \n",
      "[1,] -0.08658365\n",
      "[2,] 0.0565703  \n",
      "[3,] 0.07543334 \n",
      "[4,] -0.2296698 \n",
      "[5,] 0.01087154 \n",
      "[6,] -0.1413171 \n",
      "     [,1]      \n",
      "[1,] 0.0565703 \n",
      "[2,] 0.07543334\n",
      "[3,] -0.2296698\n",
      "[4,] 0.01087154\n",
      "[5,] -0.1413171\n",
      "     [,1]      \n",
      "[1,] 0.07543334\n",
      "[2,] -0.2296698\n",
      "[3,] 0.01087154\n",
      "[4,] -0.1413171\n",
      "     [,1]      \n",
      "[1,] -0.2296698\n",
      "[2,] 0.01087154\n",
      "[3,] -0.1413171\n",
      "     [,1]      \n",
      "[1,] 0.01087154\n",
      "[2,] -0.1413171\n",
      "     [,1]      \n",
      "[1,] -0.1413171\n",
      "     [,1]       \n",
      "[1,] 0.4225673  \n",
      "[2,] 0.3208056  \n",
      "[3,] -0.08648613\n",
      "[4,] 0.05657667 \n",
      "[5,] 0.07533334 \n",
      "[6,] -0.2298169 \n",
      "[7,] 0.01086812 \n",
      "[8,] -0.1413954 \n",
      "     [,1]       \n",
      "[1,] 0.3208056  \n",
      "[2,] -0.08648613\n",
      "[3,] 0.05657667 \n",
      "[4,] 0.07533334 \n",
      "[5,] -0.2298169 \n",
      "[6,] 0.01086812 \n",
      "[7,] -0.1413954 \n",
      "     [,1]       \n",
      "[1,] -0.08648613\n",
      "[2,] 0.05657667 \n",
      "[3,] 0.07533334 \n",
      "[4,] -0.2298169 \n",
      "[5,] 0.01086812 \n",
      "[6,] -0.1413954 \n",
      "     [,1]      \n",
      "[1,] 0.05657667\n",
      "[2,] 0.07533334\n",
      "[3,] -0.2298169\n",
      "[4,] 0.01086812\n",
      "[5,] -0.1413954\n",
      "     [,1]      \n",
      "[1,] 0.07533334\n",
      "[2,] -0.2298169\n",
      "[3,] 0.01086812\n",
      "[4,] -0.1413954\n",
      "     [,1]      \n",
      "[1,] -0.2298169\n",
      "[2,] 0.01086812\n",
      "[3,] -0.1413954\n",
      "     [,1]      \n",
      "[1,] 0.01086812\n",
      "[2,] -0.1413954\n",
      "     [,1]      \n",
      "[1,] -0.1413954\n",
      "     [,1]       \n",
      "[1,] 0.422535   \n",
      "[2,] 0.3209026  \n",
      "[3,] -0.08642949\n",
      "[4,] 0.05658092 \n",
      "[5,] 0.07527523 \n",
      "[6,] -0.2299    \n",
      "[7,] 0.01086571 \n",
      "[8,] -0.1414412 \n",
      "     [,1]       \n",
      "[1,] 0.3209026  \n",
      "[2,] -0.08642949\n",
      "[3,] 0.05658092 \n",
      "[4,] 0.07527523 \n",
      "[5,] -0.2299    \n",
      "[6,] 0.01086571 \n",
      "[7,] -0.1414412 \n",
      "     [,1]       \n",
      "[1,] -0.08642949\n",
      "[2,] 0.05658092 \n",
      "[3,] 0.07527523 \n",
      "[4,] -0.2299    \n",
      "[5,] 0.01086571 \n",
      "[6,] -0.1414412 \n",
      "     [,1]      \n",
      "[1,] 0.05658092\n",
      "[2,] 0.07527523\n",
      "[3,] -0.2299   \n",
      "[4,] 0.01086571\n",
      "[5,] -0.1414412\n",
      "     [,1]      \n",
      "[1,] 0.07527523\n",
      "[2,] -0.2299   \n",
      "[3,] 0.01086571\n",
      "[4,] -0.1414412\n",
      "     [,1]      \n",
      "[1,] -0.2299   \n",
      "[2,] 0.01086571\n",
      "[3,] -0.1414412\n",
      "     [,1]      \n",
      "[1,] 0.01086571\n",
      "[2,] -0.1414412\n",
      "     [,1]      \n",
      "[1,] -0.1414412\n",
      "     [,1]       \n",
      "[1,] 0.4225166  \n",
      "[2,] 0.3209581  \n",
      "[3,] -0.08639657\n",
      "[4,] 0.05658454 \n",
      "[5,] 0.07524212 \n",
      "[6,] -0.2299461 \n",
      "[7,] 0.01086353 \n",
      "[8,] -0.1414681 \n",
      "     [,1]       \n",
      "[1,] 0.3209581  \n",
      "[2,] -0.08639657\n",
      "[3,] 0.05658454 \n",
      "[4,] 0.07524212 \n",
      "[5,] -0.2299461 \n",
      "[6,] 0.01086353 \n",
      "[7,] -0.1414681 \n",
      "     [,1]       \n",
      "[1,] -0.08639657\n",
      "[2,] 0.05658454 \n",
      "[3,] 0.07524212 \n",
      "[4,] -0.2299461 \n",
      "[5,] 0.01086353 \n",
      "[6,] -0.1414681 \n",
      "     [,1]      \n",
      "[1,] 0.05658454\n",
      "[2,] 0.07524212\n",
      "[3,] -0.2299461\n",
      "[4,] 0.01086353\n",
      "[5,] -0.1414681\n",
      "     [,1]      \n",
      "[1,] 0.07524212\n",
      "[2,] -0.2299461\n",
      "[3,] 0.01086353\n",
      "[4,] -0.1414681\n",
      "     [,1]      \n",
      "[1,] -0.2299461\n",
      "[2,] 0.01086353\n",
      "[3,] -0.1414681\n",
      "     [,1]      \n",
      "[1,] 0.01086353\n",
      "[2,] -0.1414681\n",
      "     [,1]      \n",
      "[1,] -0.1414681\n",
      "     [,1]       \n",
      "[1,] 0.4225062  \n",
      "[2,] 0.3209898  \n",
      "[3,] -0.08637732\n",
      "[4,] 0.05658688 \n",
      "[5,] 0.07522278 \n",
      "[6,] -0.2299722 \n",
      "[7,] 0.01086209 \n",
      "[8,] -0.141484  \n",
      "     [,1]       \n",
      "[1,] 0.3209898  \n",
      "[2,] -0.08637732\n",
      "[3,] 0.05658688 \n",
      "[4,] 0.07522278 \n",
      "[5,] -0.2299722 \n",
      "[6,] 0.01086209 \n",
      "[7,] -0.141484  \n",
      "     [,1]       \n",
      "[1,] -0.08637732\n",
      "[2,] 0.05658688 \n",
      "[3,] 0.07522278 \n",
      "[4,] -0.2299722 \n",
      "[5,] 0.01086209 \n",
      "[6,] -0.141484  \n",
      "     [,1]      \n",
      "[1,] 0.05658688\n",
      "[2,] 0.07522278\n",
      "[3,] -0.2299722\n",
      "[4,] 0.01086209\n",
      "[5,] -0.141484 \n",
      "     [,1]      \n",
      "[1,] 0.07522278\n",
      "[2,] -0.2299722\n",
      "[3,] 0.01086209\n",
      "[4,] -0.141484 \n",
      "     [,1]      \n",
      "[1,] -0.2299722\n",
      "[2,] 0.01086209\n",
      "[3,] -0.141484 \n",
      "     [,1]      \n",
      "[1,] 0.01086209\n",
      "[2,] -0.141484 \n",
      "     [,1]     \n",
      "[1,] -0.141484\n",
      "     [,1]       \n",
      "[1,] 0.4225002  \n",
      "[2,] 0.3210081  \n",
      "[3,] -0.08636604\n",
      "[4,] 0.05658858 \n",
      "[5,] 0.07521162 \n",
      "[6,] -0.2299869 \n",
      "[7,] 0.01086102 \n",
      "[8,] -0.1414933 \n",
      "     [,1]       \n",
      "[1,] 0.3210081  \n",
      "[2,] -0.08636604\n",
      "[3,] 0.05658858 \n",
      "[4,] 0.07521162 \n",
      "[5,] -0.2299869 \n",
      "[6,] 0.01086102 \n",
      "[7,] -0.1414933 \n",
      "     [,1]       \n",
      "[1,] -0.08636604\n",
      "[2,] 0.05658858 \n",
      "[3,] 0.07521162 \n",
      "[4,] -0.2299869 \n",
      "[5,] 0.01086102 \n",
      "[6,] -0.1414933 \n",
      "     [,1]      \n",
      "[1,] 0.05658858\n",
      "[2,] 0.07521162\n",
      "[3,] -0.2299869\n",
      "[4,] 0.01086102\n",
      "[5,] -0.1414933\n",
      "     [,1]      \n",
      "[1,] 0.07521162\n",
      "[2,] -0.2299869\n",
      "[3,] 0.01086102\n",
      "[4,] -0.1414933\n",
      "     [,1]      \n",
      "[1,] -0.2299869\n",
      "[2,] 0.01086102\n",
      "[3,] -0.1414933\n",
      "     [,1]      \n",
      "[1,] 0.01086102\n",
      "[2,] -0.1414933\n",
      "     [,1]      \n",
      "[1,] -0.1414933\n",
      "     [,1]      \n",
      "[1,] 0.4224968 \n",
      "[2,] 0.3210186 \n",
      "[3,] -0.0863594\n",
      "[4,] 0.05658966\n",
      "[5,] 0.07520507\n",
      "[6,] -0.2299953\n",
      "[7,] 0.01086032\n",
      "[8,] -0.1414989\n",
      "     [,1]      \n",
      "[1,] 0.3210186 \n",
      "[2,] -0.0863594\n",
      "[3,] 0.05658966\n",
      "[4,] 0.07520507\n",
      "[5,] -0.2299953\n",
      "[6,] 0.01086032\n",
      "[7,] -0.1414989\n",
      "     [,1]      \n",
      "[1,] -0.0863594\n",
      "[2,] 0.05658966\n",
      "[3,] 0.07520507\n",
      "[4,] -0.2299953\n",
      "[5,] 0.01086032\n",
      "[6,] -0.1414989\n",
      "     [,1]      \n",
      "[1,] 0.05658966\n",
      "[2,] 0.07520507\n",
      "[3,] -0.2299953\n",
      "[4,] 0.01086032\n",
      "[5,] -0.1414989\n",
      "     [,1]      \n",
      "[1,] 0.07520507\n",
      "[2,] -0.2299953\n",
      "[3,] 0.01086032\n",
      "[4,] -0.1414989\n",
      "     [,1]      \n",
      "[1,] -0.2299953\n",
      "[2,] 0.01086032\n",
      "[3,] -0.1414989\n",
      "     [,1]      \n",
      "[1,] 0.01086032\n",
      "[2,] -0.1414989\n",
      "     [,1]      \n",
      "[1,] -0.1414989\n",
      "     [,1]       \n",
      "[1,] 0.4224948  \n",
      "[2,] 0.3210248  \n",
      "[3,] -0.08635548\n",
      "[4,] 0.05659039 \n",
      "[5,] 0.07520125 \n",
      "[6,] -0.2300001 \n",
      "[7,] 0.01085985 \n",
      "[8,] -0.1415022 \n",
      "     [,1]       \n",
      "[1,] 0.3210248  \n",
      "[2,] -0.08635548\n",
      "[3,] 0.05659039 \n",
      "[4,] 0.07520125 \n",
      "[5,] -0.2300001 \n",
      "[6,] 0.01085985 \n",
      "[7,] -0.1415022 \n",
      "     [,1]       \n",
      "[1,] -0.08635548\n",
      "[2,] 0.05659039 \n",
      "[3,] 0.07520125 \n",
      "[4,] -0.2300001 \n",
      "[5,] 0.01085985 \n",
      "[6,] -0.1415022 \n",
      "     [,1]      \n",
      "[1,] 0.05659039\n",
      "[2,] 0.07520125\n",
      "[3,] -0.2300001\n",
      "[4,] 0.01085985\n",
      "[5,] -0.1415022\n",
      "     [,1]      \n",
      "[1,] 0.07520125\n",
      "[2,] -0.2300001\n",
      "[3,] 0.01085985\n",
      "[4,] -0.1415022\n",
      "     [,1]      \n",
      "[1,] -0.2300001\n",
      "[2,] 0.01085985\n",
      "[3,] -0.1415022\n",
      "     [,1]      \n",
      "[1,] 0.01085985\n",
      "[2,] -0.1415022\n",
      "     [,1]      \n",
      "[1,] -0.1415022\n",
      "     [,1]       \n",
      "[1,] 0.4224937  \n",
      "[2,] 0.3210283  \n",
      "[3,] -0.08635316\n",
      "[4,] 0.05659084 \n",
      "[5,] 0.07519899 \n",
      "[6,] -0.2300028 \n",
      "[7,] 0.01085955 \n",
      "[8,] -0.1415042 \n",
      "     [,1]       \n",
      "[1,] 0.3210283  \n",
      "[2,] -0.08635316\n",
      "[3,] 0.05659084 \n",
      "[4,] 0.07519899 \n",
      "[5,] -0.2300028 \n",
      "[6,] 0.01085955 \n",
      "[7,] -0.1415042 \n",
      "     [,1]       \n",
      "[1,] -0.08635316\n",
      "[2,] 0.05659084 \n",
      "[3,] 0.07519899 \n",
      "[4,] -0.2300028 \n",
      "[5,] 0.01085955 \n",
      "[6,] -0.1415042 \n",
      "     [,1]      \n",
      "[1,] 0.05659084\n",
      "[2,] 0.07519899\n",
      "[3,] -0.2300028\n",
      "[4,] 0.01085955\n",
      "[5,] -0.1415042\n",
      "     [,1]      \n",
      "[1,] 0.07519899\n",
      "[2,] -0.2300028\n",
      "[3,] 0.01085955\n",
      "[4,] -0.1415042\n",
      "     [,1]      \n",
      "[1,] -0.2300028\n",
      "[2,] 0.01085955\n",
      "[3,] -0.1415042\n",
      "     [,1]      \n",
      "[1,] 0.01085955\n",
      "[2,] -0.1415042\n",
      "     [,1]      \n",
      "[1,] -0.1415042\n",
      "     [,1]       \n",
      "[1,] 0.422493   \n",
      "[2,] 0.3210304  \n",
      "[3,] -0.08635178\n",
      "[4,] 0.05659114 \n",
      "[5,] 0.07519767 \n",
      "[6,] -0.2300044 \n",
      "[7,] 0.01085935 \n",
      "[8,] -0.1415054 \n",
      "     [,1]       \n",
      "[1,] 0.3210304  \n",
      "[2,] -0.08635178\n",
      "[3,] 0.05659114 \n",
      "[4,] 0.07519767 \n",
      "[5,] -0.2300044 \n",
      "[6,] 0.01085935 \n",
      "[7,] -0.1415054 \n",
      "     [,1]       \n",
      "[1,] -0.08635178\n",
      "[2,] 0.05659114 \n",
      "[3,] 0.07519767 \n",
      "[4,] -0.2300044 \n",
      "[5,] 0.01085935 \n",
      "[6,] -0.1415054 \n",
      "     [,1]      \n",
      "[1,] 0.05659114\n",
      "[2,] 0.07519767\n",
      "[3,] -0.2300044\n",
      "[4,] 0.01085935\n",
      "[5,] -0.1415054\n",
      "     [,1]      \n",
      "[1,] 0.07519767\n",
      "[2,] -0.2300044\n",
      "[3,] 0.01085935\n",
      "[4,] -0.1415054\n",
      "     [,1]      \n",
      "[1,] -0.2300044\n",
      "[2,] 0.01085935\n",
      "[3,] -0.1415054\n",
      "     [,1]      \n",
      "[1,] 0.01085935\n",
      "[2,] -0.1415054\n",
      "     [,1]      \n",
      "[1,] -0.1415054\n",
      "     [,1]       \n",
      "[1,] 0.4224926  \n",
      "[2,] 0.3210317  \n",
      "[3,] -0.08635096\n",
      "[4,] 0.05659133 \n",
      "[5,] 0.07519688 \n",
      "[6,] -0.2300053 \n",
      "[7,] 0.01085923 \n",
      "[8,] -0.1415061 \n",
      "     [,1]       \n",
      "[1,] 0.3210317  \n",
      "[2,] -0.08635096\n",
      "[3,] 0.05659133 \n",
      "[4,] 0.07519688 \n",
      "[5,] -0.2300053 \n",
      "[6,] 0.01085923 \n",
      "[7,] -0.1415061 \n",
      "     [,1]       \n",
      "[1,] -0.08635096\n",
      "[2,] 0.05659133 \n",
      "[3,] 0.07519688 \n",
      "[4,] -0.2300053 \n",
      "[5,] 0.01085923 \n",
      "[6,] -0.1415061 \n",
      "     [,1]      \n",
      "[1,] 0.05659133\n",
      "[2,] 0.07519688\n",
      "[3,] -0.2300053\n",
      "[4,] 0.01085923\n",
      "[5,] -0.1415061\n",
      "     [,1]      \n",
      "[1,] 0.07519688\n",
      "[2,] -0.2300053\n",
      "[3,] 0.01085923\n",
      "[4,] -0.1415061\n",
      "     [,1]      \n",
      "[1,] -0.2300053\n",
      "[2,] 0.01085923\n",
      "[3,] -0.1415061\n",
      "     [,1]      \n",
      "[1,] 0.01085923\n",
      "[2,] -0.1415061\n",
      "     [,1]      \n",
      "[1,] -0.1415061\n",
      "     [,1]       \n",
      "[1,] 0.4224924  \n",
      "[2,] 0.3210324  \n",
      "[3,] -0.08635047\n",
      "[4,] 0.05659145 \n",
      "[5,] 0.07519641 \n",
      "[6,] -0.2300058 \n",
      "[7,] 0.01085915 \n",
      "[8,] -0.1415065 \n",
      "     [,1]       \n",
      "[1,] 0.3210324  \n",
      "[2,] -0.08635047\n",
      "[3,] 0.05659145 \n",
      "[4,] 0.07519641 \n",
      "[5,] -0.2300058 \n",
      "[6,] 0.01085915 \n",
      "[7,] -0.1415065 \n",
      "     [,1]       \n",
      "[1,] -0.08635047\n",
      "[2,] 0.05659145 \n",
      "[3,] 0.07519641 \n",
      "[4,] -0.2300058 \n",
      "[5,] 0.01085915 \n",
      "[6,] -0.1415065 \n",
      "     [,1]      \n",
      "[1,] 0.05659145\n",
      "[2,] 0.07519641\n",
      "[3,] -0.2300058\n",
      "[4,] 0.01085915\n",
      "[5,] -0.1415065\n",
      "     [,1]      \n",
      "[1,] 0.07519641\n",
      "[2,] -0.2300058\n",
      "[3,] 0.01085915\n",
      "[4,] -0.1415065\n",
      "     [,1]      \n",
      "[1,] -0.2300058\n",
      "[2,] 0.01085915\n",
      "[3,] -0.1415065\n",
      "     [,1]      \n",
      "[1,] 0.01085915\n",
      "[2,] -0.1415065\n",
      "     [,1]      \n",
      "[1,] -0.1415065\n",
      "     [,1]       \n",
      "[1,] 0.4224922  \n",
      "[2,] 0.3210328  \n",
      "[3,] -0.08635018\n",
      "[4,] 0.05659152 \n",
      "[5,] 0.07519613 \n",
      "[6,] -0.2300061 \n",
      "[7,] 0.0108591  \n",
      "[8,] -0.1415068 \n",
      "     [,1]       \n",
      "[1,] 0.3210328  \n",
      "[2,] -0.08635018\n",
      "[3,] 0.05659152 \n",
      "[4,] 0.07519613 \n",
      "[5,] -0.2300061 \n",
      "[6,] 0.0108591  \n",
      "[7,] -0.1415068 \n",
      "     [,1]       \n",
      "[1,] -0.08635018\n",
      "[2,] 0.05659152 \n",
      "[3,] 0.07519613 \n",
      "[4,] -0.2300061 \n",
      "[5,] 0.0108591  \n",
      "[6,] -0.1415068 \n",
      "     [,1]      \n",
      "[1,] 0.05659152\n",
      "[2,] 0.07519613\n",
      "[3,] -0.2300061\n",
      "[4,] 0.0108591 \n",
      "[5,] -0.1415068\n",
      "     [,1]      \n",
      "[1,] 0.07519613\n",
      "[2,] -0.2300061\n",
      "[3,] 0.0108591 \n",
      "[4,] -0.1415068\n",
      "     [,1]      \n",
      "[1,] -0.2300061\n",
      "[2,] 0.0108591 \n",
      "[3,] -0.1415068\n",
      "     [,1]      \n",
      "[1,] 0.0108591 \n",
      "[2,] -0.1415068\n",
      "     [,1]      \n",
      "[1,] -0.1415068\n",
      "     [,1]      \n",
      "[1,] 0.4224922 \n",
      "[2,] 0.3210331 \n",
      "[3,] -0.08635  \n",
      "[4,] 0.05659157\n",
      "[5,] 0.07519597\n",
      "[6,] -0.2300063\n",
      "[7,] 0.01085907\n",
      "[8,] -0.1415069\n",
      "     [,1]      \n",
      "[1,] 0.3210331 \n",
      "[2,] -0.08635  \n",
      "[3,] 0.05659157\n",
      "[4,] 0.07519597\n",
      "[5,] -0.2300063\n",
      "[6,] 0.01085907\n",
      "[7,] -0.1415069\n",
      "     [,1]      \n",
      "[1,] -0.08635  \n",
      "[2,] 0.05659157\n",
      "[3,] 0.07519597\n",
      "[4,] -0.2300063\n",
      "[5,] 0.01085907\n",
      "[6,] -0.1415069\n",
      "     [,1]      \n",
      "[1,] 0.05659157\n",
      "[2,] 0.07519597\n",
      "[3,] -0.2300063\n",
      "[4,] 0.01085907\n",
      "[5,] -0.1415069\n",
      "     [,1]      \n",
      "[1,] 0.07519597\n",
      "[2,] -0.2300063\n",
      "[3,] 0.01085907\n",
      "[4,] -0.1415069\n",
      "     [,1]      \n",
      "[1,] -0.2300063\n",
      "[2,] 0.01085907\n",
      "[3,] -0.1415069\n",
      "     [,1]      \n",
      "[1,] 0.01085907\n",
      "[2,] -0.1415069\n",
      "     [,1]      \n",
      "[1,] -0.1415069\n",
      "     [,1]      \n",
      "[1,] 0.4224921 \n",
      "[2,] 0.3210332 \n",
      "[3,] -0.0863499\n",
      "[4,] 0.0565916 \n",
      "[5,] 0.07519587\n",
      "[6,] -0.2300064\n",
      "[7,] 0.01085905\n",
      "[8,] -0.141507 \n",
      "     [,1]      \n",
      "[1,] 0.3210332 \n",
      "[2,] -0.0863499\n",
      "[3,] 0.0565916 \n",
      "[4,] 0.07519587\n",
      "[5,] -0.2300064\n",
      "[6,] 0.01085905\n",
      "[7,] -0.141507 \n",
      "     [,1]      \n",
      "[1,] -0.0863499\n",
      "[2,] 0.0565916 \n",
      "[3,] 0.07519587\n",
      "[4,] -0.2300064\n",
      "[5,] 0.01085905\n",
      "[6,] -0.141507 \n",
      "     [,1]      \n",
      "[1,] 0.0565916 \n",
      "[2,] 0.07519587\n",
      "[3,] -0.2300064\n",
      "[4,] 0.01085905\n",
      "[5,] -0.141507 \n",
      "     [,1]      \n",
      "[1,] 0.07519587\n",
      "[2,] -0.2300064\n",
      "[3,] 0.01085905\n",
      "[4,] -0.141507 \n",
      "     [,1]      \n",
      "[1,] -0.2300064\n",
      "[2,] 0.01085905\n",
      "[3,] -0.141507 \n",
      "     [,1]      \n",
      "[1,] 0.01085905\n",
      "[2,] -0.141507 \n",
      "     [,1]     \n",
      "[1,] -0.141507\n"
     ]
    }
   ],
   "source": [
    "n=n+1\n",
    "for(i in 1:(n1-1)){\n",
    "    for(j in 1:(n-1)){\n",
    "        j2=j+2\n",
    "        j1=j+1\n",
    "        j0=j-1\n",
    "      #  print(rowSums(matrix(beta[i,1:j]) * df[1:j])+ rowSums(matrix(beta[i,j2:n]) * df[j2:n]))\n",
    "       # print(rowSums(data.frame(mapply(`*`,df[j2:n],beta[i,j2:n])))) \n",
    "       if(j==n-1){\n",
    "           a=y-rowSums(matrix(beta[i,1:j]) * df[1:j])\n",
    "           }\n",
    "        else{\n",
    "            print(matrix(beta[i,j2:n]))\n",
    "            a=y-rowSums(matrix(beta[i,1:j]) * df[1:j])- rowSums(matrix(beta[i,j2:n]) * df[j2:n])\n",
    "            }\n",
    "       #print(a)\n",
    "       x1=df[j+1]\n",
    "       dfn=data.frame(a,x1)\n",
    "       #a=data.frame(a)\n",
    "       colnames(dfn)[2] = \"X\"\n",
    "       beta[i, j+1]=lm(a∼X, data=dfn)$coef[2]\n",
    "       beta0[i]=lm(a∼X, data=dfn)$coef[1]\n",
    "       if(j==1){\n",
    "         a=y-rowSums(beta[i,j1:n]*df[j1:n])  \n",
    "       }\n",
    "       else { \n",
    "       a=y-rowSums(beta[i, 1:j0]*df[1:j-1])-rowSums(beta[i,j1:n]*df[j1:n])\n",
    "       \n",
    "    }\n",
    "       x1=df[j]\n",
    "       #dataframe \n",
    "       dfn=data.frame(a,x1)\n",
    "       colnames(dfn)[2] = \"X\"\n",
    "      beta[i+1, j]=lm(a∼X, data=dfn)$coef[2]  \n",
    "      #initilize last in a row\n",
    "      beta[i+1,n] = beta[i,n]\n",
    "}\n",
    "   # print(beta)\n",
    "    }"
   ]
  },
  {
   "cell_type": "code",
   "execution_count": 95,
   "metadata": {},
   "outputs": [
    {
     "data": {
      "text/html": [
       "<ol>\n",
       "\t<li>0.182778072048627</li>\n",
       "\t<li>-0.24819254714476</li>\n",
       "\t<li>0.422496798432346</li>\n",
       "\t<li>0.321017859694637</li>\n",
       "\t<li>-0.0863594766792026</li>\n",
       "\t<li>0.0565888351044651</li>\n",
       "\t<li>0.0752056088756692</li>\n",
       "\t<li>-0.22999533165901</li>\n",
       "\t<li>0.0108607271511704</li>\n",
       "\t<li>-0.141498906283725</li>\n",
       "</ol>\n"
      ],
      "text/latex": [
       "\\begin{enumerate}\n",
       "\\item 0.182778072048627\n",
       "\\item -0.24819254714476\n",
       "\\item 0.422496798432346\n",
       "\\item 0.321017859694637\n",
       "\\item -0.0863594766792026\n",
       "\\item 0.0565888351044651\n",
       "\\item 0.0752056088756692\n",
       "\\item -0.22999533165901\n",
       "\\item 0.0108607271511704\n",
       "\\item -0.141498906283725\n",
       "\\end{enumerate}\n"
      ],
      "text/markdown": [
       "1. 0.182778072048627\n",
       "2. -0.24819254714476\n",
       "3. 0.422496798432346\n",
       "4. 0.321017859694637\n",
       "5. -0.0863594766792026\n",
       "6. 0.0565888351044651\n",
       "7. 0.0752056088756692\n",
       "8. -0.22999533165901\n",
       "9. 0.0108607271511704\n",
       "10. -0.141498906283725\n",
       "\n",
       "\n"
      ],
      "text/plain": [
       "[[1]]\n",
       "[1] 0.1827781\n",
       "\n",
       "[[2]]\n",
       "[1] -0.2481925\n",
       "\n",
       "[[3]]\n",
       "[1] 0.4224968\n",
       "\n",
       "[[4]]\n",
       "[1] 0.3210179\n",
       "\n",
       "[[5]]\n",
       "[1] -0.08635948\n",
       "\n",
       "[[6]]\n",
       "[1] 0.05658884\n",
       "\n",
       "[[7]]\n",
       "[1] 0.07520561\n",
       "\n",
       "[[8]]\n",
       "[1] -0.2299953\n",
       "\n",
       "[[9]]\n",
       "[1] 0.01086073\n",
       "\n",
       "[[10]]\n",
       "[1] -0.1414989\n"
      ]
     },
     "metadata": {},
     "output_type": "display_data"
    }
   ],
   "source": [
    "beta[20,]"
   ]
  },
  {
   "cell_type": "markdown",
   "metadata": {},
   "source": [
    "For p=10 there is good agreement with lm. For large p lm stops working "
   ]
  },
  {
   "cell_type": "code",
   "execution_count": null,
   "metadata": {},
   "outputs": [],
   "source": []
  }
 ],
 "metadata": {
  "kernelspec": {
   "display_name": "R",
   "language": "R",
   "name": "ir"
  },
  "language_info": {
   "codemirror_mode": "r",
   "file_extension": ".r",
   "mimetype": "text/x-r-source",
   "name": "R",
   "pygments_lexer": "r",
   "version": "3.6.1"
  }
 },
 "nbformat": 4,
 "nbformat_minor": 4
}
