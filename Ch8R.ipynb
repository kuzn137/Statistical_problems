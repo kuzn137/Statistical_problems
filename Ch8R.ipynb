{
 "cells": [
  {
   "cell_type": "markdown",
   "metadata": {},
   "source": [
    "# Chapter 8"
   ]
  },
  {
   "cell_type": "code",
   "execution_count": 1,
   "metadata": {},
   "outputs": [
    {
     "name": "stderr",
     "output_type": "stream",
     "text": [
      "randomForest 4.6-14\n",
      "Type rfNews() to see new features/changes/bug fixes.\n",
      "Warning message:\n",
      "\"package 'ISLR' was built under R version 3.6.3\"Warning message:\n",
      "\"package 'tree' was built under R version 3.6.3\"Warning message:\n",
      "\"package 'gbm' was built under R version 3.6.3\"Loaded gbm 2.1.8\n",
      "Loading required package: Matrix\n",
      "Loading required package: foreach\n",
      "Loaded glmnet 2.0-16\n",
      "\n"
     ]
    }
   ],
   "source": [
    "library(randomForest)\n",
    "library(ISLR)\n",
    "library(MASS)\n",
    "library(tree)\n",
    "library(gbm)\n",
    "library(glmnet)\n",
    "#install.packages(\"Rfast\", repos='http://cran.us.r-project.org')"
   ]
  },
  {
   "cell_type": "code",
   "execution_count": 2,
   "metadata": {},
   "outputs": [],
   "source": [
    "chose_lambda=function(df_train, df_test, y, formula, lambda){\n",
    "set.seed(1)\n",
    "error=rep(NA, length(lambda))\n",
    "for(i in 1:length(lambda)){\n",
    "    boost.fit<-gbm(formula, data=df_train, distribution=\"gaussian\", n.trees=1000, interaction.depth=4, shrinkage = lambda[i])\n",
    "    pred <- predict(boost.fit, df_test, n.trees=1000)\n",
    "    error[i] = mean((pred-y)^2)\n",
    "}\n",
    "    return(error)\n",
    "}    \n",
    "Predictions<-function(y_probs, y, l1, l2, length, threshold=0.5){\n",
    "    y_pred = rep(l1, length)\n",
    "    y_pred[y_probs>threshold]=l2\n",
    "    #confusion matrix\n",
    "    cm=table(y_pred, y)\n",
    "    return(cm)\n",
    "    }\n",
    "true_pos<-function(cm){\n",
    "    return(cm[4]/(cm(4)+cm[3]))\n",
    "}"
   ]
  },
  {
   "cell_type": "markdown",
   "metadata": {},
   "source": [
    "## Problem 2"
   ]
  },
  {
   "cell_type": "markdown",
   "metadata": {},
   "source": [
    "It is mentioned in Section 8.2.3 that boosting using depth-one trees\n",
    "(or stumps) leads to an additive model.\n",
    "Explain why this is the case. You can begin with (8.12) in\n",
    "Algorithm 8.2."
   ]
  },
  {
   "cell_type": "markdown",
   "metadata": {},
   "source": [
    "If number of splits d =1 we have singl varible in functions in Eq.(12.8) and it is the same as additive models. "
   ]
  },
  {
   "cell_type": "markdown",
   "metadata": {},
   "source": [
    "## Problem3"
   ]
  },
  {
   "cell_type": "markdown",
   "metadata": {},
   "source": [
    "Consider the Gini index, classification error, and entropy in a simple classification setting with two classes. Create a single plot\n",
    "that displays each of these quantities as a function of $\\hat{p}_{m1}$. The x-axis should display $\\hat{p}_{m1}$, ranging from 0 to 1, and the y-axis should\n",
    "display the value of the Gini index, classification error, and entropy"
   ]
  },
  {
   "cell_type": "markdown",
   "metadata": {},
   "source": [
    "p=$\\hat{p}_{m1}$, then $\\hat{p}_{m2}$=1-p"
   ]
  },
  {
   "cell_type": "code",
   "execution_count": 3,
   "metadata": {},
   "outputs": [
    {
     "data": {
      "image/png": "[encoded data removed]",
      "text/plain": [
       "plot without title"
      ]
     },
     "metadata": {},
     "output_type": "display_data"
    }
   ],
   "source": [
    "p=seq(0,1,0.01)\n",
    "#entropy\n",
    "s=-log(p)*p-(1-p)*log(1-p)\n",
    "#error\n",
    "E=1-pmax(p, 1-p)\n",
    "#gini\n",
    "g=2*p*(1-p)\n",
    "\n",
    "plot(p, s, type = \"l\", col = \"green\")\n",
    "lines(p, g, type = \"l\", col = \"red\")\n",
    "lines(p, E, type = \"l\", col = \"blue\")\n",
    "legend(\"topright\",legend=c(\"gini\",\"entropy\", \"class error\"),pch=19,col=c(\"red\", \"green\", \"blue\"))"
   ]
  },
  {
   "cell_type": "markdown",
   "metadata": {},
   "source": [
    "## Problem 6"
   ]
  },
  {
   "cell_type": "markdown",
   "metadata": {},
   "source": [
    "Provide a detailed explanation of the algorithm that is used to fit a\n",
    "regression tree."
   ]
  },
  {
   "cell_type": "markdown",
   "metadata": {},
   "source": [
    "We do binary tree splitting on conditions. As the rsult we divide the predictor space (set of possible p features $X_i$ values) into J distinct non-overlapping regions $R_j$.\n",
    "For every observation that falls in $R_j$ we make the same prediction that is the mean of the response values for the training observations in R_j\n",
    "\n",
    "Grow tree until each terminal node has few observations than some minimum number.\n",
    "\n",
    "Apply pruning to obtain a sequence of best subtrees as function of parameter alpha.\n",
    "\n",
    "Chose alpha to minimize average Kfold crossvalidation error."
   ]
  },
  {
   "cell_type": "markdown",
   "metadata": {},
   "source": [
    "## Problem 7"
   ]
  },
  {
   "cell_type": "markdown",
   "metadata": {},
   "source": [
    "In the lab, we applied random forests to the Boston data using mtry=6\n",
    "and using ntree=25 and ntree=500. Create a plot displaying the test\n",
    "error resulting from random forests on this data set for a more comprehensive range of values for mtry and ntree. You can model your\n",
    "plot after Figure 8.10. Describe the results obtained."
   ]
  },
  {
   "cell_type": "code",
   "execution_count": 4,
   "metadata": {},
   "outputs": [
    {
     "data": {
      "text/html": [
       "<table>\n",
       "<thead><tr><th scope=col>crim</th><th scope=col>zn</th><th scope=col>indus</th><th scope=col>chas</th><th scope=col>nox</th><th scope=col>rm</th><th scope=col>age</th><th scope=col>dis</th><th scope=col>rad</th><th scope=col>tax</th><th scope=col>ptratio</th><th scope=col>black</th><th scope=col>lstat</th><th scope=col>medv</th></tr></thead>\n",
       "<tbody>\n",
       "\t<tr><td>0.00632</td><td>18     </td><td>2.31   </td><td>0      </td><td>0.538  </td><td>6.575  </td><td>65.2   </td><td>4.0900 </td><td>1      </td><td>296    </td><td>15.3   </td><td>396.90 </td><td>4.98   </td><td>24.0   </td></tr>\n",
       "\t<tr><td>0.02731</td><td> 0     </td><td>7.07   </td><td>0      </td><td>0.469  </td><td>6.421  </td><td>78.9   </td><td>4.9671 </td><td>2      </td><td>242    </td><td>17.8   </td><td>396.90 </td><td>9.14   </td><td>21.6   </td></tr>\n",
       "\t<tr><td>0.02729</td><td> 0     </td><td>7.07   </td><td>0      </td><td>0.469  </td><td>7.185  </td><td>61.1   </td><td>4.9671 </td><td>2      </td><td>242    </td><td>17.8   </td><td>392.83 </td><td>4.03   </td><td>34.7   </td></tr>\n",
       "\t<tr><td>0.03237</td><td> 0     </td><td>2.18   </td><td>0      </td><td>0.458  </td><td>6.998  </td><td>45.8   </td><td>6.0622 </td><td>3      </td><td>222    </td><td>18.7   </td><td>394.63 </td><td>2.94   </td><td>33.4   </td></tr>\n",
       "\t<tr><td>0.06905</td><td> 0     </td><td>2.18   </td><td>0      </td><td>0.458  </td><td>7.147  </td><td>54.2   </td><td>6.0622 </td><td>3      </td><td>222    </td><td>18.7   </td><td>396.90 </td><td>5.33   </td><td>36.2   </td></tr>\n",
       "\t<tr><td>0.02985</td><td> 0     </td><td>2.18   </td><td>0      </td><td>0.458  </td><td>6.430  </td><td>58.7   </td><td>6.0622 </td><td>3      </td><td>222    </td><td>18.7   </td><td>394.12 </td><td>5.21   </td><td>28.7   </td></tr>\n",
       "</tbody>\n",
       "</table>\n"
      ],
      "text/latex": [
       "\\begin{tabular}{r|llllllllllllll}\n",
       " crim & zn & indus & chas & nox & rm & age & dis & rad & tax & ptratio & black & lstat & medv\\\\\n",
       "\\hline\n",
       "\t 0.00632 & 18      & 2.31    & 0       & 0.538   & 6.575   & 65.2    & 4.0900  & 1       & 296     & 15.3    & 396.90  & 4.98    & 24.0   \\\\\n",
       "\t 0.02731 &  0      & 7.07    & 0       & 0.469   & 6.421   & 78.9    & 4.9671  & 2       & 242     & 17.8    & 396.90  & 9.14    & 21.6   \\\\\n",
       "\t 0.02729 &  0      & 7.07    & 0       & 0.469   & 7.185   & 61.1    & 4.9671  & 2       & 242     & 17.8    & 392.83  & 4.03    & 34.7   \\\\\n",
       "\t 0.03237 &  0      & 2.18    & 0       & 0.458   & 6.998   & 45.8    & 6.0622  & 3       & 222     & 18.7    & 394.63  & 2.94    & 33.4   \\\\\n",
       "\t 0.06905 &  0      & 2.18    & 0       & 0.458   & 7.147   & 54.2    & 6.0622  & 3       & 222     & 18.7    & 396.90  & 5.33    & 36.2   \\\\\n",
       "\t 0.02985 &  0      & 2.18    & 0       & 0.458   & 6.430   & 58.7    & 6.0622  & 3       & 222     & 18.7    & 394.12  & 5.21    & 28.7   \\\\\n",
       "\\end{tabular}\n"
      ],
      "text/markdown": [
       "\n",
       "| crim | zn | indus | chas | nox | rm | age | dis | rad | tax | ptratio | black | lstat | medv |\n",
       "|---|---|---|---|---|---|---|---|---|---|---|---|---|---|\n",
       "| 0.00632 | 18      | 2.31    | 0       | 0.538   | 6.575   | 65.2    | 4.0900  | 1       | 296     | 15.3    | 396.90  | 4.98    | 24.0    |\n",
       "| 0.02731 |  0      | 7.07    | 0       | 0.469   | 6.421   | 78.9    | 4.9671  | 2       | 242     | 17.8    | 396.90  | 9.14    | 21.6    |\n",
       "| 0.02729 |  0      | 7.07    | 0       | 0.469   | 7.185   | 61.1    | 4.9671  | 2       | 242     | 17.8    | 392.83  | 4.03    | 34.7    |\n",
       "| 0.03237 |  0      | 2.18    | 0       | 0.458   | 6.998   | 45.8    | 6.0622  | 3       | 222     | 18.7    | 394.63  | 2.94    | 33.4    |\n",
       "| 0.06905 |  0      | 2.18    | 0       | 0.458   | 7.147   | 54.2    | 6.0622  | 3       | 222     | 18.7    | 396.90  | 5.33    | 36.2    |\n",
       "| 0.02985 |  0      | 2.18    | 0       | 0.458   | 6.430   | 58.7    | 6.0622  | 3       | 222     | 18.7    | 394.12  | 5.21    | 28.7    |\n",
       "\n"
      ],
      "text/plain": [
       "  crim    zn indus chas nox   rm    age  dis    rad tax ptratio black  lstat\n",
       "1 0.00632 18 2.31  0    0.538 6.575 65.2 4.0900 1   296 15.3    396.90 4.98 \n",
       "2 0.02731  0 7.07  0    0.469 6.421 78.9 4.9671 2   242 17.8    396.90 9.14 \n",
       "3 0.02729  0 7.07  0    0.469 7.185 61.1 4.9671 2   242 17.8    392.83 4.03 \n",
       "4 0.03237  0 2.18  0    0.458 6.998 45.8 6.0622 3   222 18.7    394.63 2.94 \n",
       "5 0.06905  0 2.18  0    0.458 7.147 54.2 6.0622 3   222 18.7    396.90 5.33 \n",
       "6 0.02985  0 2.18  0    0.458 6.430 58.7 6.0622 3   222 18.7    394.12 5.21 \n",
       "  medv\n",
       "1 24.0\n",
       "2 21.6\n",
       "3 34.7\n",
       "4 33.4\n",
       "5 36.2\n",
       "6 28.7"
      ]
     },
     "metadata": {},
     "output_type": "display_data"
    }
   ],
   "source": [
    "head(Boston)"
   ]
  },
  {
   "cell_type": "code",
   "execution_count": 5,
   "metadata": {},
   "outputs": [],
   "source": [
    "test = sample (1:nrow(Boston), nrow(Boston)/3)"
   ]
  },
  {
   "cell_type": "code",
   "execution_count": 6,
   "metadata": {},
   "outputs": [],
   "source": [
    "set.seed(1)\n",
    "num_trees=500\n",
    "mtr=c(3, 6, 13)\n",
    "trees=rep(NA, num_trees/25)\n",
    "error=rep(NA, num_trees/25)\n",
    "errors<-matrix(list(), nrow=20, ncol=3)\n",
    "for(j in 1:3){\n",
    "for(i in seq(1, num_trees/25)){\n",
    "    rf.boston= randomForest( medv∼.,data=Boston[-test,],\n",
    "    mtry=mtr[j], ntree = 1+(i-1)*25, importance =TRUE)\n",
    "    yhat.bag = predict (rf.boston , newdata=Boston[test,])\n",
    "    error[i]=mean((yhat.bag-Boston$medv[test])^2)\n",
    "    } \n",
    "errors[1:20, j] = error\n",
    "}\n"
   ]
  },
  {
   "cell_type": "code",
   "execution_count": 7,
   "metadata": {},
   "outputs": [
    {
     "data": {
      "image/png": "[encoded data removed]",
      "text/plain": [
       "plot without title"
      ]
     },
     "metadata": {},
     "output_type": "display_data"
    }
   ],
   "source": [
    "plot(seq(1, num_trees, by = 25), errors[1:20, 1], xlab = 'n trees', ylab = 'Test MSE', type = 'l', col=\"blue\")\n",
    "lines(seq(1, num_trees, by = 25), errors[1:20, 2], col=\"red\")\n",
    "lines(seq(1, num_trees, by = 25), errors[1:20, 3], col=\"green\")\n",
    "legend(\"topright\", c(\"m = 13\", \"m = 6\", \"m = 3\"), col = c(\"green\", \"red\", \"blue\"), cex = 1, lty = 1)"
   ]
  },
  {
   "cell_type": "markdown",
   "metadata": {},
   "source": [
    "## Problem 8"
   ]
  },
  {
   "cell_type": "markdown",
   "metadata": {},
   "source": [
    "In the lab, a classification tree was applied to the Carseats data set after converting Sales into a qualitative response variable. Now we will\n",
    "seek to predict Sales using regression trees and related approaches,\n",
    "treating the response as a quantitative variable.\n"
   ]
  },
  {
   "cell_type": "markdown",
   "metadata": {},
   "source": [
    "(a) Split the data set into a training set and a test set."
   ]
  },
  {
   "cell_type": "code",
   "execution_count": 8,
   "metadata": {},
   "outputs": [
    {
     "data": {
      "text/html": [
       "<table>\n",
       "<thead><tr><th scope=col>Sales</th><th scope=col>CompPrice</th><th scope=col>Income</th><th scope=col>Advertising</th><th scope=col>Population</th><th scope=col>Price</th><th scope=col>ShelveLoc</th><th scope=col>Age</th><th scope=col>Education</th><th scope=col>Urban</th><th scope=col>US</th></tr></thead>\n",
       "<tbody>\n",
       "\t<tr><td> 9.50 </td><td>138   </td><td> 73   </td><td>11    </td><td>276   </td><td>120   </td><td>Bad   </td><td>42    </td><td>17    </td><td>Yes   </td><td>Yes   </td></tr>\n",
       "\t<tr><td>11.22 </td><td>111   </td><td> 48   </td><td>16    </td><td>260   </td><td> 83   </td><td>Good  </td><td>65    </td><td>10    </td><td>Yes   </td><td>Yes   </td></tr>\n",
       "\t<tr><td>10.06 </td><td>113   </td><td> 35   </td><td>10    </td><td>269   </td><td> 80   </td><td>Medium</td><td>59    </td><td>12    </td><td>Yes   </td><td>Yes   </td></tr>\n",
       "\t<tr><td> 7.40 </td><td>117   </td><td>100   </td><td> 4    </td><td>466   </td><td> 97   </td><td>Medium</td><td>55    </td><td>14    </td><td>Yes   </td><td>Yes   </td></tr>\n",
       "\t<tr><td> 4.15 </td><td>141   </td><td> 64   </td><td> 3    </td><td>340   </td><td>128   </td><td>Bad   </td><td>38    </td><td>13    </td><td>Yes   </td><td>No    </td></tr>\n",
       "\t<tr><td>10.81 </td><td>124   </td><td>113   </td><td>13    </td><td>501   </td><td> 72   </td><td>Bad   </td><td>78    </td><td>16    </td><td>No    </td><td>Yes   </td></tr>\n",
       "</tbody>\n",
       "</table>\n"
      ],
      "text/latex": [
       "\\begin{tabular}{r|lllllllllll}\n",
       " Sales & CompPrice & Income & Advertising & Population & Price & ShelveLoc & Age & Education & Urban & US\\\\\n",
       "\\hline\n",
       "\t  9.50  & 138    &  73    & 11     & 276    & 120    & Bad    & 42     & 17     & Yes    & Yes   \\\\\n",
       "\t 11.22  & 111    &  48    & 16     & 260    &  83    & Good   & 65     & 10     & Yes    & Yes   \\\\\n",
       "\t 10.06  & 113    &  35    & 10     & 269    &  80    & Medium & 59     & 12     & Yes    & Yes   \\\\\n",
       "\t  7.40  & 117    & 100    &  4     & 466    &  97    & Medium & 55     & 14     & Yes    & Yes   \\\\\n",
       "\t  4.15  & 141    &  64    &  3     & 340    & 128    & Bad    & 38     & 13     & Yes    & No    \\\\\n",
       "\t 10.81  & 124    & 113    & 13     & 501    &  72    & Bad    & 78     & 16     & No     & Yes   \\\\\n",
       "\\end{tabular}\n"
      ],
      "text/markdown": [
       "\n",
       "| Sales | CompPrice | Income | Advertising | Population | Price | ShelveLoc | Age | Education | Urban | US |\n",
       "|---|---|---|---|---|---|---|---|---|---|---|\n",
       "|  9.50  | 138    |  73    | 11     | 276    | 120    | Bad    | 42     | 17     | Yes    | Yes    |\n",
       "| 11.22  | 111    |  48    | 16     | 260    |  83    | Good   | 65     | 10     | Yes    | Yes    |\n",
       "| 10.06  | 113    |  35    | 10     | 269    |  80    | Medium | 59     | 12     | Yes    | Yes    |\n",
       "|  7.40  | 117    | 100    |  4     | 466    |  97    | Medium | 55     | 14     | Yes    | Yes    |\n",
       "|  4.15  | 141    |  64    |  3     | 340    | 128    | Bad    | 38     | 13     | Yes    | No     |\n",
       "| 10.81  | 124    | 113    | 13     | 501    |  72    | Bad    | 78     | 16     | No     | Yes    |\n",
       "\n"
      ],
      "text/plain": [
       "  Sales CompPrice Income Advertising Population Price ShelveLoc Age Education\n",
       "1  9.50 138        73    11          276        120   Bad       42  17       \n",
       "2 11.22 111        48    16          260         83   Good      65  10       \n",
       "3 10.06 113        35    10          269         80   Medium    59  12       \n",
       "4  7.40 117       100     4          466         97   Medium    55  14       \n",
       "5  4.15 141        64     3          340        128   Bad       38  13       \n",
       "6 10.81 124       113    13          501         72   Bad       78  16       \n",
       "  Urban US \n",
       "1 Yes   Yes\n",
       "2 Yes   Yes\n",
       "3 Yes   Yes\n",
       "4 Yes   Yes\n",
       "5 Yes   No \n",
       "6 No    Yes"
      ]
     },
     "metadata": {},
     "output_type": "display_data"
    }
   ],
   "source": [
    "head(Carseats)"
   ]
  },
  {
   "cell_type": "code",
   "execution_count": 9,
   "metadata": {},
   "outputs": [],
   "source": [
    "test = sample (1:nrow(Carseats), nrow(Carseats)/3)\n",
    "Carseats.train = Carseats[-test,]\n",
    "Carseats.test = Carseats[test,]"
   ]
  },
  {
   "cell_type": "markdown",
   "metadata": {},
   "source": [
    "Fit a regression tree to the training set. Plot the tree, and interpret the results. What test MSE do you obtain?"
   ]
  },
  {
   "cell_type": "code",
   "execution_count": 10,
   "metadata": {},
   "outputs": [
    {
     "data": {
      "image/png": "[encoded data removed]",
      "text/plain": [
       "plot without title"
      ]
     },
     "metadata": {},
     "output_type": "display_data"
    }
   ],
   "source": [
    "tree.carseats = tree(Sales∼., Carseats.train)\n",
    "tree.pred=predict(tree.carseats, Carseats.test)\n",
    "plot(tree.carseats)\n",
    "text(tree.carseats, cex=.5)"
   ]
  },
  {
   "cell_type": "code",
   "execution_count": 11,
   "metadata": {},
   "outputs": [
    {
     "data": {
      "text/html": [
       "4.29285048024305"
      ],
      "text/latex": [
       "4.29285048024305"
      ],
      "text/markdown": [
       "4.29285048024305"
      ],
      "text/plain": [
       "[1] 4.29285"
      ]
     },
     "metadata": {},
     "output_type": "display_data"
    }
   ],
   "source": [
    "mean((tree.pred-Carseats$Sales[test])^2)"
   ]
  },
  {
   "cell_type": "markdown",
   "metadata": {},
   "source": [
    "(c) Use cross-validation in order to determine the optimal level of\n",
    "tree complexity. Does pruning the tree improve the test MSE?"
   ]
  },
  {
   "cell_type": "code",
   "execution_count": 12,
   "metadata": {},
   "outputs": [
    {
     "data": {
      "image/png": "[encoded data removed]",
      "text/plain": [
       "plot without title"
      ]
     },
     "metadata": {},
     "output_type": "display_data"
    }
   ],
   "source": [
    "cv.carseats=cv.tree(tree.carseats)\n",
    "plot(cv.carseats$size ,cv.carseats$dev ,type='b')"
   ]
  },
  {
   "cell_type": "markdown",
   "metadata": {},
   "source": [
    "From plot above size 13, 15 must have minimum error on cv. "
   ]
  },
  {
   "cell_type": "code",
   "execution_count": 13,
   "metadata": {},
   "outputs": [
    {
     "data": {
      "image/png": "[encoded data removed]",
      "text/plain": [
       "plot without title"
      ]
     },
     "metadata": {},
     "output_type": "display_data"
    },
    {
     "data": {
      "image/png": "[encoded data removed]",
      "text/plain": [
       "plot without title"
      ]
     },
     "metadata": {},
     "output_type": "display_data"
    },
    {
     "data": {
      "image/png": "[encoded data removed]",
      "text/plain": [
       "plot without title"
      ]
     },
     "metadata": {},
     "output_type": "display_data"
    },
    {
     "data": {
      "image/png": "[encoded data removed]",
      "text/plain": [
       "plot without title"
      ]
     },
     "metadata": {},
     "output_type": "display_data"
    },
    {
     "data": {
      "image/png": "[encoded data removed]",
      "text/plain": [
       "plot without title"
      ]
     },
     "metadata": {},
     "output_type": "display_data"
    },
    {
     "data": {
      "image/png": "[encoded data removed]",
      "text/plain": [
       "plot without title"
      ]
     },
     "metadata": {},
     "output_type": "display_data"
    },
    {
     "data": {
      "image/png": "[encoded data removed]",
      "text/plain": [
       "plot without title"
      ]
     },
     "metadata": {},
     "output_type": "display_data"
    },
    {
     "data": {
      "image/png": "[encoded data removed]",
      "text/plain": [
       "plot without title"
      ]
     },
     "metadata": {},
     "output_type": "display_data"
    },
    {
     "data": {
      "image/png": "[encoded data removed]",
      "text/plain": [
       "plot without title"
      ]
     },
     "metadata": {},
     "output_type": "display_data"
    },
    {
     "data": {
      "image/png": "[encoded data removed]",
      "text/plain": [
       "plot without title"
      ]
     },
     "metadata": {},
     "output_type": "display_data"
    },
    {
     "data": {
      "image/png": "[encoded data removed]",
      "text/plain": [
       "plot without title"
      ]
     },
     "metadata": {},
     "output_type": "display_data"
    }
   ],
   "source": [
    "n=14\n",
    "num=rep(NA, n)\n",
    "error = rep(NA, n)\n",
    "for(i in 2:n){\n",
    "    prune.carseats=prune.tree(tree.carseats,best=i)\n",
    "    prune.pred=predict(prune.carseats, Carseats.test)\n",
    "    plot(prune.carseats)\n",
    "    text(prune.carseats, cex=.5)\n",
    "    error[i]=mean((prune.pred-Carseats$Sales[test])^2)\n",
    "    }"
   ]
  },
  {
   "cell_type": "code",
   "execution_count": 14,
   "metadata": {
    "scrolled": true
   },
   "outputs": [
    {
     "data": {
      "image/png": "[encoded data removed]",
      "text/plain": [
       "plot without title"
      ]
     },
     "metadata": {},
     "output_type": "display_data"
    }
   ],
   "source": [
    "plot(1:n, error,  xlab = 'n branches', ylab = 'Test MSE', type = 'l', col=\"blue\")"
   ]
  },
  {
   "cell_type": "markdown",
   "metadata": {},
   "source": [
    "For test the best number branches is 9."
   ]
  },
  {
   "cell_type": "code",
   "execution_count": 15,
   "metadata": {},
   "outputs": [
    {
     "data": {
      "text/html": [
       "4.4143364482364"
      ],
      "text/latex": [
       "4.4143364482364"
      ],
      "text/markdown": [
       "4.4143364482364"
      ],
      "text/plain": [
       "[1] 4.414336"
      ]
     },
     "metadata": {},
     "output_type": "display_data"
    },
    {
     "data": {
      "image/png": "[encoded data removed]",
      "text/plain": [
       "plot without title"
      ]
     },
     "metadata": {},
     "output_type": "display_data"
    }
   ],
   "source": [
    "prune.carseats=prune.tree(tree.carseats,best=14)\n",
    "prune.pred=predict(prune.carseats, Carseats.test)\n",
    "plot(prune.carseats)\n",
    "text(prune.carseats, cex=.5)\n",
    "mean((prune.pred-Carseats$Sales[test])^2)"
   ]
  },
  {
   "cell_type": "markdown",
   "metadata": {},
   "source": [
    "(d) Use the bagging approach in order to analyze this data. What\n",
    "test MSE do you obtain? Use the importance() function to determine which variables are most important."
   ]
  },
  {
   "cell_type": "code",
   "execution_count": 16,
   "metadata": {},
   "outputs": [
    {
     "data": {
      "text/plain": [
       "\n",
       "Call:\n",
       " randomForest(formula = Sales ~ ., data = Carseats.train, mtry = 10,      importance = TRUE) \n",
       "               Type of random forest: regression\n",
       "                     Number of trees: 500\n",
       "No. of variables tried at each split: 10\n",
       "\n",
       "          Mean of squared residuals: 2.555303\n",
       "                    % Var explained: 68.05"
      ]
     },
     "metadata": {},
     "output_type": "display_data"
    }
   ],
   "source": [
    "set.seed(1)\n",
    "bag.carseats= randomForest(Sales∼.,data=Carseats.train, mtry=10, importance =TRUE)\n",
    "bag.carseats"
   ]
  },
  {
   "cell_type": "code",
   "execution_count": 17,
   "metadata": {},
   "outputs": [
    {
     "data": {
      "text/html": [
       "2.42831756021432"
      ],
      "text/latex": [
       "2.42831756021432"
      ],
      "text/markdown": [
       "2.42831756021432"
      ],
      "text/plain": [
       "[1] 2.428318"
      ]
     },
     "metadata": {},
     "output_type": "display_data"
    }
   ],
   "source": [
    "pred.carseats = predict(bag.carseats, newdata = Carseats.test)\n",
    "mean((pred.carseats - Carseats$Sales[test])^2)"
   ]
  },
  {
   "cell_type": "markdown",
   "metadata": {},
   "source": [
    "MSE is improved"
   ]
  },
  {
   "cell_type": "code",
   "execution_count": 18,
   "metadata": {},
   "outputs": [
    {
     "data": {
      "text/html": [
       "<table>\n",
       "<thead><tr><th></th><th scope=col>%IncMSE</th><th scope=col>IncNodePurity</th></tr></thead>\n",
       "<tbody>\n",
       "\t<tr><th scope=row>CompPrice</th><td>30.3196220</td><td>235.36950 </td></tr>\n",
       "\t<tr><th scope=row>Income</th><td> 9.6673991</td><td>109.34479 </td></tr>\n",
       "\t<tr><th scope=row>Advertising</th><td>19.8052037</td><td>173.51016 </td></tr>\n",
       "\t<tr><th scope=row>Population</th><td>-1.9603944</td><td> 69.87557 </td></tr>\n",
       "\t<tr><th scope=row>Price</th><td>59.7236446</td><td>544.70957 </td></tr>\n",
       "\t<tr><th scope=row>ShelveLoc</th><td>69.8782053</td><td>657.12044 </td></tr>\n",
       "\t<tr><th scope=row>Age</th><td>23.0185673</td><td>220.79394 </td></tr>\n",
       "\t<tr><th scope=row>Education</th><td>-0.1287107</td><td> 56.34475 </td></tr>\n",
       "\t<tr><th scope=row>Urban</th><td>-2.3300945</td><td>  6.53449 </td></tr>\n",
       "\t<tr><th scope=row>US</th><td> 4.2364571</td><td> 14.49869 </td></tr>\n",
       "</tbody>\n",
       "</table>\n"
      ],
      "text/latex": [
       "\\begin{tabular}{r|ll}\n",
       "  & \\%IncMSE & IncNodePurity\\\\\n",
       "\\hline\n",
       "\tCompPrice & 30.3196220 & 235.36950 \\\\\n",
       "\tIncome &  9.6673991 & 109.34479 \\\\\n",
       "\tAdvertising & 19.8052037 & 173.51016 \\\\\n",
       "\tPopulation & -1.9603944 &  69.87557 \\\\\n",
       "\tPrice & 59.7236446 & 544.70957 \\\\\n",
       "\tShelveLoc & 69.8782053 & 657.12044 \\\\\n",
       "\tAge & 23.0185673 & 220.79394 \\\\\n",
       "\tEducation & -0.1287107 &  56.34475 \\\\\n",
       "\tUrban & -2.3300945 &   6.53449 \\\\\n",
       "\tUS &  4.2364571 &  14.49869 \\\\\n",
       "\\end{tabular}\n"
      ],
      "text/markdown": [
       "\n",
       "| <!--/--> | %IncMSE | IncNodePurity |\n",
       "|---|---|---|\n",
       "| CompPrice | 30.3196220 | 235.36950  |\n",
       "| Income |  9.6673991 | 109.34479  |\n",
       "| Advertising | 19.8052037 | 173.51016  |\n",
       "| Population | -1.9603944 |  69.87557  |\n",
       "| Price | 59.7236446 | 544.70957  |\n",
       "| ShelveLoc | 69.8782053 | 657.12044  |\n",
       "| Age | 23.0185673 | 220.79394  |\n",
       "| Education | -0.1287107 |  56.34475  |\n",
       "| Urban | -2.3300945 |   6.53449  |\n",
       "| US |  4.2364571 |  14.49869  |\n",
       "\n"
      ],
      "text/plain": [
       "            %IncMSE    IncNodePurity\n",
       "CompPrice   30.3196220 235.36950    \n",
       "Income       9.6673991 109.34479    \n",
       "Advertising 19.8052037 173.51016    \n",
       "Population  -1.9603944  69.87557    \n",
       "Price       59.7236446 544.70957    \n",
       "ShelveLoc   69.8782053 657.12044    \n",
       "Age         23.0185673 220.79394    \n",
       "Education   -0.1287107  56.34475    \n",
       "Urban       -2.3300945   6.53449    \n",
       "US           4.2364571  14.49869    "
      ]
     },
     "metadata": {},
     "output_type": "display_data"
    }
   ],
   "source": [
    "importance (bag.carseats)"
   ]
  },
  {
   "cell_type": "code",
   "execution_count": 19,
   "metadata": {},
   "outputs": [
    {
     "data": {
      "image/png": "[encoded data removed]",
      "text/plain": [
       "plot without title"
      ]
     },
     "metadata": {},
     "output_type": "display_data"
    }
   ],
   "source": [
    "varImpPlot(bag.carseats)"
   ]
  },
  {
   "cell_type": "markdown",
   "metadata": {},
   "source": [
    "(e) Use random forests to analyze this data. What test MSE do you\n",
    "obtain? Use the importance() function to determine which variables are most important. Describe the effect of m, the number of\n",
    "variables considered at each split, on the error rate\n",
    "obtained."
   ]
  },
  {
   "cell_type": "code",
   "execution_count": 20,
   "metadata": {},
   "outputs": [],
   "source": [
    "set.seed(1)\n",
    "n=10\n",
    "error=rep(NA, n)\n",
    "for (i in 1:10){\n",
    "rf.carseats= randomForest(Sales∼.,data=Carseats.train, mtry=i, importance =TRUE)\n",
    "rf.carseats\n",
    "pred.carseats = predict(rf.carseats, newdata = Carseats.test)\n",
    "error[i]=mean((pred.carseats - Carseats$Sales[test])^2)\n",
    "}"
   ]
  },
  {
   "cell_type": "code",
   "execution_count": 21,
   "metadata": {},
   "outputs": [
    {
     "data": {
      "image/png": "[encoded data removed]",
      "text/plain": [
       "plot without title"
      ]
     },
     "metadata": {},
     "output_type": "display_data"
    }
   ],
   "source": [
    "plot(1:n, error,  xlab = 'n trees', ylab = 'Test MSE', type = 'l', col=\"blue\")"
   ]
  },
  {
   "cell_type": "code",
   "execution_count": 22,
   "metadata": {},
   "outputs": [
    {
     "data": {
      "text/html": [
       "2.44289528514937"
      ],
      "text/latex": [
       "2.44289528514937"
      ],
      "text/markdown": [
       "2.44289528514937"
      ],
      "text/plain": [
       "[1] 2.442895"
      ]
     },
     "metadata": {},
     "output_type": "display_data"
    }
   ],
   "source": [
    "min(error)"
   ]
  },
  {
   "cell_type": "markdown",
   "metadata": {},
   "source": [
    "## Problem 9"
   ]
  },
  {
   "cell_type": "code",
   "execution_count": 23,
   "metadata": {},
   "outputs": [
    {
     "data": {
      "text/html": [
       "<table>\n",
       "<thead><tr><th scope=col>Purchase</th><th scope=col>WeekofPurchase</th><th scope=col>StoreID</th><th scope=col>PriceCH</th><th scope=col>PriceMM</th><th scope=col>DiscCH</th><th scope=col>DiscMM</th><th scope=col>SpecialCH</th><th scope=col>SpecialMM</th><th scope=col>LoyalCH</th><th scope=col>SalePriceMM</th><th scope=col>SalePriceCH</th><th scope=col>PriceDiff</th><th scope=col>Store7</th><th scope=col>PctDiscMM</th><th scope=col>PctDiscCH</th><th scope=col>ListPriceDiff</th><th scope=col>STORE</th></tr></thead>\n",
       "<tbody>\n",
       "\t<tr><td>CH      </td><td>237     </td><td>1       </td><td>1.75    </td><td>1.99    </td><td>0.00    </td><td>0.0     </td><td>0       </td><td>0       </td><td>0.500000</td><td>1.99    </td><td>1.75    </td><td> 0.24   </td><td>No      </td><td>0.000000</td><td>0.000000</td><td>0.24    </td><td>1       </td></tr>\n",
       "\t<tr><td>CH      </td><td>239     </td><td>1       </td><td>1.75    </td><td>1.99    </td><td>0.00    </td><td>0.3     </td><td>0       </td><td>1       </td><td>0.600000</td><td>1.69    </td><td>1.75    </td><td>-0.06   </td><td>No      </td><td>0.150754</td><td>0.000000</td><td>0.24    </td><td>1       </td></tr>\n",
       "\t<tr><td>CH      </td><td>245     </td><td>1       </td><td>1.86    </td><td>2.09    </td><td>0.17    </td><td>0.0     </td><td>0       </td><td>0       </td><td>0.680000</td><td>2.09    </td><td>1.69    </td><td> 0.40   </td><td>No      </td><td>0.000000</td><td>0.091398</td><td>0.23    </td><td>1       </td></tr>\n",
       "\t<tr><td>MM      </td><td>227     </td><td>1       </td><td>1.69    </td><td>1.69    </td><td>0.00    </td><td>0.0     </td><td>0       </td><td>0       </td><td>0.400000</td><td>1.69    </td><td>1.69    </td><td> 0.00   </td><td>No      </td><td>0.000000</td><td>0.000000</td><td>0.00    </td><td>1       </td></tr>\n",
       "\t<tr><td>CH      </td><td>228     </td><td>7       </td><td>1.69    </td><td>1.69    </td><td>0.00    </td><td>0.0     </td><td>0       </td><td>0       </td><td>0.956535</td><td>1.69    </td><td>1.69    </td><td> 0.00   </td><td>Yes     </td><td>0.000000</td><td>0.000000</td><td>0.00    </td><td>0       </td></tr>\n",
       "\t<tr><td>CH      </td><td>230     </td><td>7       </td><td>1.69    </td><td>1.99    </td><td>0.00    </td><td>0.0     </td><td>0       </td><td>1       </td><td>0.965228</td><td>1.99    </td><td>1.69    </td><td> 0.30   </td><td>Yes     </td><td>0.000000</td><td>0.000000</td><td>0.30    </td><td>0       </td></tr>\n",
       "</tbody>\n",
       "</table>\n"
      ],
      "text/latex": [
       "\\begin{tabular}{r|llllllllllllllllll}\n",
       " Purchase & WeekofPurchase & StoreID & PriceCH & PriceMM & DiscCH & DiscMM & SpecialCH & SpecialMM & LoyalCH & SalePriceMM & SalePriceCH & PriceDiff & Store7 & PctDiscMM & PctDiscCH & ListPriceDiff & STORE\\\\\n",
       "\\hline\n",
       "\t CH       & 237      & 1        & 1.75     & 1.99     & 0.00     & 0.0      & 0        & 0        & 0.500000 & 1.99     & 1.75     &  0.24    & No       & 0.000000 & 0.000000 & 0.24     & 1       \\\\\n",
       "\t CH       & 239      & 1        & 1.75     & 1.99     & 0.00     & 0.3      & 0        & 1        & 0.600000 & 1.69     & 1.75     & -0.06    & No       & 0.150754 & 0.000000 & 0.24     & 1       \\\\\n",
       "\t CH       & 245      & 1        & 1.86     & 2.09     & 0.17     & 0.0      & 0        & 0        & 0.680000 & 2.09     & 1.69     &  0.40    & No       & 0.000000 & 0.091398 & 0.23     & 1       \\\\\n",
       "\t MM       & 227      & 1        & 1.69     & 1.69     & 0.00     & 0.0      & 0        & 0        & 0.400000 & 1.69     & 1.69     &  0.00    & No       & 0.000000 & 0.000000 & 0.00     & 1       \\\\\n",
       "\t CH       & 228      & 7        & 1.69     & 1.69     & 0.00     & 0.0      & 0        & 0        & 0.956535 & 1.69     & 1.69     &  0.00    & Yes      & 0.000000 & 0.000000 & 0.00     & 0       \\\\\n",
       "\t CH       & 230      & 7        & 1.69     & 1.99     & 0.00     & 0.0      & 0        & 1        & 0.965228 & 1.99     & 1.69     &  0.30    & Yes      & 0.000000 & 0.000000 & 0.30     & 0       \\\\\n",
       "\\end{tabular}\n"
      ],
      "text/markdown": [
       "\n",
       "| Purchase | WeekofPurchase | StoreID | PriceCH | PriceMM | DiscCH | DiscMM | SpecialCH | SpecialMM | LoyalCH | SalePriceMM | SalePriceCH | PriceDiff | Store7 | PctDiscMM | PctDiscCH | ListPriceDiff | STORE |\n",
       "|---|---|---|---|---|---|---|---|---|---|---|---|---|---|---|---|---|---|\n",
       "| CH       | 237      | 1        | 1.75     | 1.99     | 0.00     | 0.0      | 0        | 0        | 0.500000 | 1.99     | 1.75     |  0.24    | No       | 0.000000 | 0.000000 | 0.24     | 1        |\n",
       "| CH       | 239      | 1        | 1.75     | 1.99     | 0.00     | 0.3      | 0        | 1        | 0.600000 | 1.69     | 1.75     | -0.06    | No       | 0.150754 | 0.000000 | 0.24     | 1        |\n",
       "| CH       | 245      | 1        | 1.86     | 2.09     | 0.17     | 0.0      | 0        | 0        | 0.680000 | 2.09     | 1.69     |  0.40    | No       | 0.000000 | 0.091398 | 0.23     | 1        |\n",
       "| MM       | 227      | 1        | 1.69     | 1.69     | 0.00     | 0.0      | 0        | 0        | 0.400000 | 1.69     | 1.69     |  0.00    | No       | 0.000000 | 0.000000 | 0.00     | 1        |\n",
       "| CH       | 228      | 7        | 1.69     | 1.69     | 0.00     | 0.0      | 0        | 0        | 0.956535 | 1.69     | 1.69     |  0.00    | Yes      | 0.000000 | 0.000000 | 0.00     | 0        |\n",
       "| CH       | 230      | 7        | 1.69     | 1.99     | 0.00     | 0.0      | 0        | 1        | 0.965228 | 1.99     | 1.69     |  0.30    | Yes      | 0.000000 | 0.000000 | 0.30     | 0        |\n",
       "\n"
      ],
      "text/plain": [
       "  Purchase WeekofPurchase StoreID PriceCH PriceMM DiscCH DiscMM SpecialCH\n",
       "1 CH       237            1       1.75    1.99    0.00   0.0    0        \n",
       "2 CH       239            1       1.75    1.99    0.00   0.3    0        \n",
       "3 CH       245            1       1.86    2.09    0.17   0.0    0        \n",
       "4 MM       227            1       1.69    1.69    0.00   0.0    0        \n",
       "5 CH       228            7       1.69    1.69    0.00   0.0    0        \n",
       "6 CH       230            7       1.69    1.99    0.00   0.0    0        \n",
       "  SpecialMM LoyalCH  SalePriceMM SalePriceCH PriceDiff Store7 PctDiscMM\n",
       "1 0         0.500000 1.99        1.75         0.24     No     0.000000 \n",
       "2 1         0.600000 1.69        1.75        -0.06     No     0.150754 \n",
       "3 0         0.680000 2.09        1.69         0.40     No     0.000000 \n",
       "4 0         0.400000 1.69        1.69         0.00     No     0.000000 \n",
       "5 0         0.956535 1.69        1.69         0.00     Yes    0.000000 \n",
       "6 1         0.965228 1.99        1.69         0.30     Yes    0.000000 \n",
       "  PctDiscCH ListPriceDiff STORE\n",
       "1 0.000000  0.24          1    \n",
       "2 0.000000  0.24          1    \n",
       "3 0.091398  0.23          1    \n",
       "4 0.000000  0.00          1    \n",
       "5 0.000000  0.00          0    \n",
       "6 0.000000  0.30          0    "
      ]
     },
     "metadata": {},
     "output_type": "display_data"
    }
   ],
   "source": [
    "head(OJ)"
   ]
  },
  {
   "cell_type": "markdown",
   "metadata": {},
   "source": [
    "(a) Create a training set containing a random sample of 800 observations, and a test set containing the remaining observations."
   ]
  },
  {
   "cell_type": "code",
   "execution_count": 24,
   "metadata": {},
   "outputs": [],
   "source": [
    "train = sample (1:nrow(OJ), 800)\n",
    "OJ.train = OJ[train,]\n",
    "OJ.test = OJ[-train,]"
   ]
  },
  {
   "cell_type": "markdown",
   "metadata": {},
   "source": [
    "(b) Fit a tree to the training data, with Purchase as the response\n",
    "and the other variables as predictors. Use the summary() function\n",
    "to produce summary statistics about the tree, and describe the\n",
    "results obtained. What is the training error rate? How many\n",
    "terminal nodes does the tree have?"
   ]
  },
  {
   "cell_type": "code",
   "execution_count": 25,
   "metadata": {},
   "outputs": [
    {
     "data": {
      "text/plain": [
       "\n",
       "Classification tree:\n",
       "tree(formula = Purchase ~ ., data = OJ.train)\n",
       "Variables actually used in tree construction:\n",
       "[1] \"LoyalCH\"   \"DiscCH\"    \"PriceDiff\"\n",
       "Number of terminal nodes:  6 \n",
       "Residual mean deviance:  0.7778 = 617.6 / 794 \n",
       "Misclassification error rate: 0.1662 = 133 / 800 "
      ]
     },
     "metadata": {},
     "output_type": "display_data"
    }
   ],
   "source": [
    "tree.OJ = tree(Purchase∼., OJ.train)\n",
    "summary(tree.OJ)"
   ]
  },
  {
   "cell_type": "markdown",
   "metadata": {},
   "source": [
    "(c) Type in the name of the tree object in order to get a detailed\n",
    "text output. Pick one of the terminal nodes, and interpret the\n",
    "information displayed."
   ]
  },
  {
   "cell_type": "code",
   "execution_count": 26,
   "metadata": {},
   "outputs": [
    {
     "data": {
      "text/plain": [
       "node), split, n, deviance, yval, (yprob)\n",
       "      * denotes terminal node\n",
       "\n",
       " 1) root 800 1077.00 CH ( 0.60000 0.40000 )  \n",
       "   2) LoyalCH < 0.48285 311  334.10 MM ( 0.22830 0.77170 )  \n",
       "     4) DiscCH < 0.335 302  306.60 MM ( 0.20530 0.79470 )  \n",
       "       8) LoyalCH < 0.0356415 57   10.07 MM ( 0.01754 0.98246 ) *\n",
       "       9) LoyalCH > 0.0356415 245  275.00 MM ( 0.24898 0.75102 ) *\n",
       "     5) DiscCH > 0.335 9    0.00 CH ( 1.00000 0.00000 ) *\n",
       "   3) LoyalCH > 0.48285 489  435.80 CH ( 0.83640 0.16360 )  \n",
       "     6) LoyalCH < 0.764572 232  284.10 CH ( 0.69828 0.30172 )  \n",
       "      12) PriceDiff < 0.065 79  108.50 MM ( 0.44304 0.55696 ) *\n",
       "      13) PriceDiff > 0.065 153  139.50 CH ( 0.83007 0.16993 ) *\n",
       "     7) LoyalCH > 0.764572 257   84.54 CH ( 0.96109 0.03891 ) *"
      ]
     },
     "metadata": {},
     "output_type": "display_data"
    }
   ],
   "source": [
    "tree.OJ"
   ]
  },
  {
   "cell_type": "markdown",
   "metadata": {},
   "source": [
    "Node 4. The split criterion is Customer brand loyalty for CH juice < 0.276142, number of observations is 171. It is a terminal node because of the asterisk. The deviance is 127.4. About 12% of the observations in that branch take the value of CH, and the remaining 87.7% take the value of MM.\n",
    "\n"
   ]
  },
  {
   "cell_type": "markdown",
   "metadata": {},
   "source": [
    "(d) Create a plot of the tree, and interpret the results"
   ]
  },
  {
   "cell_type": "code",
   "execution_count": 27,
   "metadata": {},
   "outputs": [
    {
     "data": {
      "image/png": "[encoded data removed]",
      "text/plain": [
       "plot without title"
      ]
     },
     "metadata": {},
     "output_type": "display_data"
    }
   ],
   "source": [
    "plot(tree.OJ)\n",
    "text(tree.OJ, cex=.5)"
   ]
  },
  {
   "cell_type": "markdown",
   "metadata": {},
   "source": [
    "(e) Predict the response on the test data, and produce a confusion\n",
    "matrix comparing the test labels to the predicted test labels.\n",
    "What is the test error rate?"
   ]
  },
  {
   "cell_type": "code",
   "execution_count": 28,
   "metadata": {},
   "outputs": [
    {
     "data": {
      "text/plain": [
       "         \n",
       "tree.pred  CH  MM\n",
       "       CH 132  20\n",
       "       MM  41  77"
      ]
     },
     "metadata": {},
     "output_type": "display_data"
    }
   ],
   "source": [
    "tree.pred=predict(tree.OJ, newdata=OJ.test,  type = \"class\")\n",
    "cm=table(tree.pred , OJ.test$Purchase)\n",
    "cm"
   ]
  },
  {
   "cell_type": "code",
   "execution_count": 29,
   "metadata": {},
   "outputs": [
    {
     "data": {
      "text/html": [
       "0.225925925925926"
      ],
      "text/latex": [
       "0.225925925925926"
      ],
      "text/markdown": [
       "0.225925925925926"
      ],
      "text/plain": [
       "[1] 0.2259259"
      ]
     },
     "metadata": {},
     "output_type": "display_data"
    }
   ],
   "source": [
    "#Misclassified\n",
    "(cm[2]+cm[3])/dim(OJ.test)[1]"
   ]
  },
  {
   "cell_type": "markdown",
   "metadata": {},
   "source": [
    "(f) Apply the cv.tree() function to the training set in order to\n",
    "determine the optimal tree size.\n"
   ]
  },
  {
   "cell_type": "code",
   "execution_count": 30,
   "metadata": {},
   "outputs": [
    {
     "data": {
      "text/plain": [
       "$size\n",
       "[1] 6 5 3 2 1\n",
       "\n",
       "$dev\n",
       "[1] 153 153 160 163 320\n",
       "\n",
       "$k\n",
       "[1]  -Inf   0.0   4.5   9.0 169.0\n",
       "\n",
       "$method\n",
       "[1] \"misclass\"\n",
       "\n",
       "attr(,\"class\")\n",
       "[1] \"prune\"         \"tree.sequence\""
      ]
     },
     "metadata": {},
     "output_type": "display_data"
    }
   ],
   "source": [
    "cv.OJ=cv.tree(tree.OJ, FUN = prune.misclass)\n",
    "cv.OJ"
   ]
  },
  {
   "cell_type": "markdown",
   "metadata": {},
   "source": [
    "(g) Produce a plot with tree size on the x-axis and cross-validated\n",
    "classification error rate on the y-axis."
   ]
  },
  {
   "cell_type": "code",
   "execution_count": 31,
   "metadata": {},
   "outputs": [
    {
     "data": {
      "image/png": "[encoded data removed]",
      "text/plain": [
       "plot without title"
      ]
     },
     "metadata": {},
     "output_type": "display_data"
    }
   ],
   "source": [
    "plot(cv.OJ$size ,cv.OJ$dev ,type='b')"
   ]
  },
  {
   "cell_type": "markdown",
   "metadata": {},
   "source": [
    "(h) Which tree size corresponds to the lowest cross-validated classification error rate?\n",
    "\n",
    "size 4"
   ]
  },
  {
   "cell_type": "markdown",
   "metadata": {},
   "source": [
    "(i) Produce a pruned tree corresponding to the optimal tree size\n",
    "obtained using cross-validation. If cross-validation does not lead\n",
    "to selection of a pruned tree, then create a pruned tree with five\n",
    "terminal nodes"
   ]
  },
  {
   "cell_type": "code",
   "execution_count": 32,
   "metadata": {},
   "outputs": [
    {
     "data": {
      "text/plain": [
       "          \n",
       "prune.pred  CH  MM\n",
       "        CH 132  20\n",
       "        MM  41  77"
      ]
     },
     "metadata": {},
     "output_type": "display_data"
    }
   ],
   "source": [
    "prune.OJ=prune.tree(tree.OJ,best=6)\n",
    "prune.pred=predict(prune.OJ, OJ.test, type='class')\n",
    "cm=table(prune.pred , OJ.test$Purchase)\n",
    "cm"
   ]
  },
  {
   "cell_type": "code",
   "execution_count": 33,
   "metadata": {},
   "outputs": [
    {
     "data": {
      "text/html": [
       "0.225925925925926"
      ],
      "text/latex": [
       "0.225925925925926"
      ],
      "text/markdown": [
       "0.225925925925926"
      ],
      "text/plain": [
       "[1] 0.2259259"
      ]
     },
     "metadata": {},
     "output_type": "display_data"
    }
   ],
   "source": [
    "#Misclassified\n",
    "(cm[2]+cm[3])/dim(OJ.test)[1]"
   ]
  },
  {
   "cell_type": "markdown",
   "metadata": {},
   "source": [
    "(j) Compare the training error rates between the pruned and unpruned trees. Which is higher?"
   ]
  },
  {
   "cell_type": "code",
   "execution_count": 34,
   "metadata": {},
   "outputs": [
    {
     "data": {
      "text/plain": [
       "\n",
       "Classification tree:\n",
       "tree(formula = Purchase ~ ., data = OJ.train)\n",
       "Variables actually used in tree construction:\n",
       "[1] \"LoyalCH\"   \"DiscCH\"    \"PriceDiff\"\n",
       "Number of terminal nodes:  6 \n",
       "Residual mean deviance:  0.7778 = 617.6 / 794 \n",
       "Misclassification error rate: 0.1662 = 133 / 800 "
      ]
     },
     "metadata": {},
     "output_type": "display_data"
    }
   ],
   "source": [
    "summary(prune.OJ)"
   ]
  },
  {
   "cell_type": "code",
   "execution_count": 35,
   "metadata": {},
   "outputs": [
    {
     "data": {
      "text/plain": [
       "\n",
       "Classification tree:\n",
       "tree(formula = Purchase ~ ., data = OJ.train)\n",
       "Variables actually used in tree construction:\n",
       "[1] \"LoyalCH\"   \"DiscCH\"    \"PriceDiff\"\n",
       "Number of terminal nodes:  6 \n",
       "Residual mean deviance:  0.7778 = 617.6 / 794 \n",
       "Misclassification error rate: 0.1662 = 133 / 800 "
      ]
     },
     "metadata": {},
     "output_type": "display_data"
    }
   ],
   "source": [
    "summary(tree.OJ)"
   ]
  },
  {
   "cell_type": "markdown",
   "metadata": {},
   "source": [
    "For pruned tree misclassification train error is a bit higher"
   ]
  },
  {
   "cell_type": "markdown",
   "metadata": {},
   "source": [
    "(k) Compare the test error rates between the pruned and unpruned\n",
    "trees. Which is higher?"
   ]
  },
  {
   "cell_type": "markdown",
   "metadata": {},
   "source": [
    "Test error is the same for pruned tree"
   ]
  },
  {
   "cell_type": "markdown",
   "metadata": {},
   "source": [
    "## Problem 10"
   ]
  },
  {
   "cell_type": "code",
   "execution_count": 36,
   "metadata": {},
   "outputs": [
    {
     "data": {
      "text/html": [
       "<table>\n",
       "<thead><tr><th></th><th scope=col>AtBat</th><th scope=col>Hits</th><th scope=col>HmRun</th><th scope=col>Runs</th><th scope=col>RBI</th><th scope=col>Walks</th><th scope=col>Years</th><th scope=col>CAtBat</th><th scope=col>CHits</th><th scope=col>CHmRun</th><th scope=col>CRuns</th><th scope=col>CRBI</th><th scope=col>CWalks</th><th scope=col>League</th><th scope=col>Division</th><th scope=col>PutOuts</th><th scope=col>Assists</th><th scope=col>Errors</th><th scope=col>Salary</th><th scope=col>NewLeague</th></tr></thead>\n",
       "<tbody>\n",
       "\t<tr><th scope=row>-Andy Allanson</th><td>293  </td><td> 66  </td><td> 1   </td><td>30   </td><td>29   </td><td>14   </td><td> 1   </td><td> 293 </td><td>  66 </td><td>  1  </td><td> 30  </td><td> 29  </td><td> 14  </td><td>A    </td><td>E    </td><td>446  </td><td> 33  </td><td>20   </td><td>   NA</td><td>A    </td></tr>\n",
       "\t<tr><th scope=row>-Alan Ashby</th><td>315  </td><td> 81  </td><td> 7   </td><td>24   </td><td>38   </td><td>39   </td><td>14   </td><td>3449 </td><td> 835 </td><td> 69  </td><td>321  </td><td>414  </td><td>375  </td><td>N    </td><td>W    </td><td>632  </td><td> 43  </td><td>10   </td><td>475.0</td><td>N    </td></tr>\n",
       "\t<tr><th scope=row>-Alvin Davis</th><td>479  </td><td>130  </td><td>18   </td><td>66   </td><td>72   </td><td>76   </td><td> 3   </td><td>1624 </td><td> 457 </td><td> 63  </td><td>224  </td><td>266  </td><td>263  </td><td>A    </td><td>W    </td><td>880  </td><td> 82  </td><td>14   </td><td>480.0</td><td>A    </td></tr>\n",
       "\t<tr><th scope=row>-Andre Dawson</th><td>496  </td><td>141  </td><td>20   </td><td>65   </td><td>78   </td><td>37   </td><td>11   </td><td>5628 </td><td>1575 </td><td>225  </td><td>828  </td><td>838  </td><td>354  </td><td>N    </td><td>E    </td><td>200  </td><td> 11  </td><td> 3   </td><td>500.0</td><td>N    </td></tr>\n",
       "\t<tr><th scope=row>-Andres Galarraga</th><td>321  </td><td> 87  </td><td>10   </td><td>39   </td><td>42   </td><td>30   </td><td> 2   </td><td> 396 </td><td> 101 </td><td> 12  </td><td> 48  </td><td> 46  </td><td> 33  </td><td>N    </td><td>E    </td><td>805  </td><td> 40  </td><td> 4   </td><td> 91.5</td><td>N    </td></tr>\n",
       "\t<tr><th scope=row>-Alfredo Griffin</th><td>594  </td><td>169  </td><td> 4   </td><td>74   </td><td>51   </td><td>35   </td><td>11   </td><td>4408 </td><td>1133 </td><td> 19  </td><td>501  </td><td>336  </td><td>194  </td><td>A    </td><td>W    </td><td>282  </td><td>421  </td><td>25   </td><td>750.0</td><td>A    </td></tr>\n",
       "</tbody>\n",
       "</table>\n"
      ],
      "text/latex": [
       "\\begin{tabular}{r|llllllllllllllllllll}\n",
       "  & AtBat & Hits & HmRun & Runs & RBI & Walks & Years & CAtBat & CHits & CHmRun & CRuns & CRBI & CWalks & League & Division & PutOuts & Assists & Errors & Salary & NewLeague\\\\\n",
       "\\hline\n",
       "\t-Andy Allanson & 293   &  66   &  1    & 30    & 29    & 14    &  1    &  293  &   66  &   1   &  30   &  29   &  14   & A     & E     & 446   &  33   & 20    &    NA & A    \\\\\n",
       "\t-Alan Ashby & 315   &  81   &  7    & 24    & 38    & 39    & 14    & 3449  &  835  &  69   & 321   & 414   & 375   & N     & W     & 632   &  43   & 10    & 475.0 & N    \\\\\n",
       "\t-Alvin Davis & 479   & 130   & 18    & 66    & 72    & 76    &  3    & 1624  &  457  &  63   & 224   & 266   & 263   & A     & W     & 880   &  82   & 14    & 480.0 & A    \\\\\n",
       "\t-Andre Dawson & 496   & 141   & 20    & 65    & 78    & 37    & 11    & 5628  & 1575  & 225   & 828   & 838   & 354   & N     & E     & 200   &  11   &  3    & 500.0 & N    \\\\\n",
       "\t-Andres Galarraga & 321   &  87   & 10    & 39    & 42    & 30    &  2    &  396  &  101  &  12   &  48   &  46   &  33   & N     & E     & 805   &  40   &  4    &  91.5 & N    \\\\\n",
       "\t-Alfredo Griffin & 594   & 169   &  4    & 74    & 51    & 35    & 11    & 4408  & 1133  &  19   & 501   & 336   & 194   & A     & W     & 282   & 421   & 25    & 750.0 & A    \\\\\n",
       "\\end{tabular}\n"
      ],
      "text/markdown": [
       "\n",
       "| <!--/--> | AtBat | Hits | HmRun | Runs | RBI | Walks | Years | CAtBat | CHits | CHmRun | CRuns | CRBI | CWalks | League | Division | PutOuts | Assists | Errors | Salary | NewLeague |\n",
       "|---|---|---|---|---|---|---|---|---|---|---|---|---|---|---|---|---|---|---|---|---|\n",
       "| -Andy Allanson | 293   |  66   |  1    | 30    | 29    | 14    |  1    |  293  |   66  |   1   |  30   |  29   |  14   | A     | E     | 446   |  33   | 20    |    NA | A     |\n",
       "| -Alan Ashby | 315   |  81   |  7    | 24    | 38    | 39    | 14    | 3449  |  835  |  69   | 321   | 414   | 375   | N     | W     | 632   |  43   | 10    | 475.0 | N     |\n",
       "| -Alvin Davis | 479   | 130   | 18    | 66    | 72    | 76    |  3    | 1624  |  457  |  63   | 224   | 266   | 263   | A     | W     | 880   |  82   | 14    | 480.0 | A     |\n",
       "| -Andre Dawson | 496   | 141   | 20    | 65    | 78    | 37    | 11    | 5628  | 1575  | 225   | 828   | 838   | 354   | N     | E     | 200   |  11   |  3    | 500.0 | N     |\n",
       "| -Andres Galarraga | 321   |  87   | 10    | 39    | 42    | 30    |  2    |  396  |  101  |  12   |  48   |  46   |  33   | N     | E     | 805   |  40   |  4    |  91.5 | N     |\n",
       "| -Alfredo Griffin | 594   | 169   |  4    | 74    | 51    | 35    | 11    | 4408  | 1133  |  19   | 501   | 336   | 194   | A     | W     | 282   | 421   | 25    | 750.0 | A     |\n",
       "\n"
      ],
      "text/plain": [
       "                  AtBat Hits HmRun Runs RBI Walks Years CAtBat CHits CHmRun\n",
       "-Andy Allanson    293    66   1    30   29  14     1     293     66    1   \n",
       "-Alan Ashby       315    81   7    24   38  39    14    3449    835   69   \n",
       "-Alvin Davis      479   130  18    66   72  76     3    1624    457   63   \n",
       "-Andre Dawson     496   141  20    65   78  37    11    5628   1575  225   \n",
       "-Andres Galarraga 321    87  10    39   42  30     2     396    101   12   \n",
       "-Alfredo Griffin  594   169   4    74   51  35    11    4408   1133   19   \n",
       "                  CRuns CRBI CWalks League Division PutOuts Assists Errors\n",
       "-Andy Allanson     30    29   14    A      E        446      33     20    \n",
       "-Alan Ashby       321   414  375    N      W        632      43     10    \n",
       "-Alvin Davis      224   266  263    A      W        880      82     14    \n",
       "-Andre Dawson     828   838  354    N      E        200      11      3    \n",
       "-Andres Galarraga  48    46   33    N      E        805      40      4    \n",
       "-Alfredo Griffin  501   336  194    A      W        282     421     25    \n",
       "                  Salary NewLeague\n",
       "-Andy Allanson       NA  A        \n",
       "-Alan Ashby       475.0  N        \n",
       "-Alvin Davis      480.0  A        \n",
       "-Andre Dawson     500.0  N        \n",
       "-Andres Galarraga  91.5  N        \n",
       "-Alfredo Griffin  750.0  A        "
      ]
     },
     "metadata": {},
     "output_type": "display_data"
    }
   ],
   "source": [
    "head(Hitters)"
   ]
  },
  {
   "cell_type": "markdown",
   "metadata": {},
   "source": [
    "(a) Remove the observations for whom the salary information is\n",
    "unknown, and then log-transform the salaries."
   ]
  },
  {
   "cell_type": "code",
   "execution_count": 37,
   "metadata": {},
   "outputs": [],
   "source": [
    "df_Hitters<-Hitters[!is.na(Hitters$Salary), ]\n",
    "df_Hitters$Salary <- log(df_Hitters$Salary)"
   ]
  },
  {
   "cell_type": "markdown",
   "metadata": {},
   "source": [
    "b) Create a training set consisting of the first 200 observations, and\n",
    "a test set consisting of the remaining observations"
   ]
  },
  {
   "cell_type": "code",
   "execution_count": 38,
   "metadata": {},
   "outputs": [],
   "source": [
    "train=1:200\n",
    "df_train <- df_Hitters[train,]\n",
    "df_test <- df_Hitters[-train,]"
   ]
  },
  {
   "cell_type": "markdown",
   "metadata": {},
   "source": [
    "(c) Perform boosting on the training set with 1,000 trees for a range\n",
    "of values of the shrinkage parameter λ. Produce a plot with\n",
    "different shrinkage values on the x-axis and the corresponding\n",
    "training set MSE on the y-axis"
   ]
  },
  {
   "cell_type": "code",
   "execution_count": 39,
   "metadata": {},
   "outputs": [],
   "source": [
    "lambda = c(0.1, 0.05, 0.01, 0.005, 0.001)\n",
    "error=chose_lambda(df_train, df_train, df_train$Salary,  Salary~., lambda)"
   ]
  },
  {
   "cell_type": "code",
   "execution_count": 40,
   "metadata": {},
   "outputs": [
    {
     "data": {
      "image/png": "[encoded data removed]",
      "text/plain": [
       "plot without title"
      ]
     },
     "metadata": {},
     "output_type": "display_data"
    }
   ],
   "source": [
    "plot(lambda, error, xlab = 'lambda', ylab = 'Train MSE', type = 'l', col=\"blue\")"
   ]
  },
  {
   "cell_type": "code",
   "execution_count": 41,
   "metadata": {},
   "outputs": [
    {
     "data": {
      "text/html": [
       "0.00153719637219674"
      ],
      "text/latex": [
       "0.00153719637219674"
      ],
      "text/markdown": [
       "0.00153719637219674"
      ],
      "text/plain": [
       "[1] 0.001537196"
      ]
     },
     "metadata": {},
     "output_type": "display_data"
    },
    {
     "data": {
      "text/html": [
       "1"
      ],
      "text/latex": [
       "1"
      ],
      "text/markdown": [
       "1"
      ],
      "text/plain": [
       "[1] 1"
      ]
     },
     "metadata": {},
     "output_type": "display_data"
    }
   ],
   "source": [
    "min(error)\n",
    "which.min(error)"
   ]
  },
  {
   "cell_type": "markdown",
   "metadata": {},
   "source": [
    "(d)Produce a plot with different shrinkage values on the x-axis and the corresponding test set MSE on the y-axis."
   ]
  },
  {
   "cell_type": "code",
   "execution_count": 42,
   "metadata": {},
   "outputs": [],
   "source": [
    "error=chose_lambda(df_train, df_test, df_test$Salary,  Salary~., lambda)"
   ]
  },
  {
   "cell_type": "code",
   "execution_count": 43,
   "metadata": {},
   "outputs": [
    {
     "data": {
      "image/png": "[encoded data removed]",
      "text/plain": [
       "plot without title"
      ]
     },
     "metadata": {},
     "output_type": "display_data"
    }
   ],
   "source": [
    "plot(lambda, error, xlab = 'lambda', ylab = 'Test MSE', type = 'l', col=\"blue\")"
   ]
  },
  {
   "cell_type": "code",
   "execution_count": 44,
   "metadata": {},
   "outputs": [
    {
     "data": {
      "text/html": [
       "0.27114582381248"
      ],
      "text/latex": [
       "0.27114582381248"
      ],
      "text/markdown": [
       "0.27114582381248"
      ],
      "text/plain": [
       "[1] 0.2711458"
      ]
     },
     "metadata": {},
     "output_type": "display_data"
    },
    {
     "data": {
      "text/html": [
       "0.05"
      ],
      "text/latex": [
       "0.05"
      ],
      "text/markdown": [
       "0.05"
      ],
      "text/plain": [
       "[1] 0.05"
      ]
     },
     "metadata": {},
     "output_type": "display_data"
    }
   ],
   "source": [
    "min(error)\n",
    "lambda[which.min(error)]"
   ]
  },
  {
   "cell_type": "markdown",
   "metadata": {},
   "source": [
    "(e) Compare the test MSE of boosting to the test MSE that results\n",
    "from applying two of the regression approaches seen in\n",
    "Chapters 3 and 6."
   ]
  },
  {
   "cell_type": "code",
   "execution_count": 45,
   "metadata": {},
   "outputs": [
    {
     "data": {
      "text/html": [
       "0.491795937545494"
      ],
      "text/latex": [
       "0.491795937545494"
      ],
      "text/markdown": [
       "0.491795937545494"
      ],
      "text/plain": [
       "[1] 0.4917959"
      ]
     },
     "metadata": {},
     "output_type": "display_data"
    }
   ],
   "source": [
    "lm.fit = lm(Salary ~ ., data = df_train)\n",
    "pred1 = predict(lm.fit, df_test)\n",
    "mean((pred1 - df_test$Salary)^2)"
   ]
  },
  {
   "cell_type": "code",
   "execution_count": 46,
   "metadata": {},
   "outputs": [
    {
     "data": {
      "text/html": [
       "0.448566846782902"
      ],
      "text/latex": [
       "0.448566846782902"
      ],
      "text/markdown": [
       "0.448566846782902"
      ],
      "text/plain": [
       "[1] 0.4485668"
      ]
     },
     "metadata": {},
     "output_type": "display_data"
    }
   ],
   "source": [
    "m = model.matrix(Salary ~ ., data = df_train)\n",
    "m.test = model.matrix(Salary ~ ., data = df_test)\n",
    "y = df_train$Salary\n",
    "lasso.fit = glmnet(m, y, alpha = 1)\n",
    "lasso_pred = predict(lasso.fit, s = 0.05, newx = m.test)\n",
    "mean((lasso_pred - df_test$Salary)^2)"
   ]
  },
  {
   "cell_type": "markdown",
   "metadata": {},
   "source": [
    "Linear regression and Lasso errors are larger on test than for boosting "
   ]
  },
  {
   "cell_type": "markdown",
   "metadata": {},
   "source": [
    "(f) Which variables appear to be the most important predictors in\n",
    "the boosted model?"
   ]
  },
  {
   "cell_type": "code",
   "execution_count": 47,
   "metadata": {},
   "outputs": [
    {
     "data": {
      "text/html": [
       "<table>\n",
       "<thead><tr><th></th><th scope=col>var</th><th scope=col>rel.inf</th></tr></thead>\n",
       "<tbody>\n",
       "\t<tr><th scope=row>CAtBat</th><td>CAtBat    </td><td>19.4813145</td></tr>\n",
       "\t<tr><th scope=row>CRuns</th><td>CRuns     </td><td>14.1625818</td></tr>\n",
       "\t<tr><th scope=row>Years</th><td>Years     </td><td> 7.0191699</td></tr>\n",
       "\t<tr><th scope=row>PutOuts</th><td>PutOuts   </td><td> 6.7245145</td></tr>\n",
       "\t<tr><th scope=row>CHmRun</th><td>CHmRun    </td><td> 6.5446708</td></tr>\n",
       "\t<tr><th scope=row>Walks</th><td>Walks     </td><td> 6.2767434</td></tr>\n",
       "\t<tr><th scope=row>CRBI</th><td>CRBI      </td><td> 6.0142266</td></tr>\n",
       "\t<tr><th scope=row>CWalks</th><td>CWalks    </td><td> 5.5551684</td></tr>\n",
       "\t<tr><th scope=row>CHits</th><td>CHits     </td><td> 5.0839892</td></tr>\n",
       "\t<tr><th scope=row>Assists</th><td>Assists   </td><td> 4.0343049</td></tr>\n",
       "\t<tr><th scope=row>Hits</th><td>Hits      </td><td> 4.0171102</td></tr>\n",
       "\t<tr><th scope=row>RBI</th><td>RBI       </td><td> 3.8683851</td></tr>\n",
       "\t<tr><th scope=row>AtBat</th><td>AtBat     </td><td> 3.2285936</td></tr>\n",
       "\t<tr><th scope=row>HmRun</th><td>HmRun     </td><td> 2.7187760</td></tr>\n",
       "\t<tr><th scope=row>Errors</th><td>Errors    </td><td> 2.0822714</td></tr>\n",
       "\t<tr><th scope=row>Runs</th><td>Runs      </td><td> 1.8781513</td></tr>\n",
       "\t<tr><th scope=row>Division</th><td>Division  </td><td> 0.5344496</td></tr>\n",
       "\t<tr><th scope=row>NewLeague</th><td>NewLeague </td><td> 0.4904346</td></tr>\n",
       "\t<tr><th scope=row>League</th><td>League    </td><td> 0.2851441</td></tr>\n",
       "</tbody>\n",
       "</table>\n"
      ],
      "text/latex": [
       "\\begin{tabular}{r|ll}\n",
       "  & var & rel.inf\\\\\n",
       "\\hline\n",
       "\tCAtBat & CAtBat     & 19.4813145\\\\\n",
       "\tCRuns & CRuns      & 14.1625818\\\\\n",
       "\tYears & Years      &  7.0191699\\\\\n",
       "\tPutOuts & PutOuts    &  6.7245145\\\\\n",
       "\tCHmRun & CHmRun     &  6.5446708\\\\\n",
       "\tWalks & Walks      &  6.2767434\\\\\n",
       "\tCRBI & CRBI       &  6.0142266\\\\\n",
       "\tCWalks & CWalks     &  5.5551684\\\\\n",
       "\tCHits & CHits      &  5.0839892\\\\\n",
       "\tAssists & Assists    &  4.0343049\\\\\n",
       "\tHits & Hits       &  4.0171102\\\\\n",
       "\tRBI & RBI        &  3.8683851\\\\\n",
       "\tAtBat & AtBat      &  3.2285936\\\\\n",
       "\tHmRun & HmRun      &  2.7187760\\\\\n",
       "\tErrors & Errors     &  2.0822714\\\\\n",
       "\tRuns & Runs       &  1.8781513\\\\\n",
       "\tDivision & Division   &  0.5344496\\\\\n",
       "\tNewLeague & NewLeague  &  0.4904346\\\\\n",
       "\tLeague & League     &  0.2851441\\\\\n",
       "\\end{tabular}\n"
      ],
      "text/markdown": [
       "\n",
       "| <!--/--> | var | rel.inf |\n",
       "|---|---|---|\n",
       "| CAtBat | CAtBat     | 19.4813145 |\n",
       "| CRuns | CRuns      | 14.1625818 |\n",
       "| Years | Years      |  7.0191699 |\n",
       "| PutOuts | PutOuts    |  6.7245145 |\n",
       "| CHmRun | CHmRun     |  6.5446708 |\n",
       "| Walks | Walks      |  6.2767434 |\n",
       "| CRBI | CRBI       |  6.0142266 |\n",
       "| CWalks | CWalks     |  5.5551684 |\n",
       "| CHits | CHits      |  5.0839892 |\n",
       "| Assists | Assists    |  4.0343049 |\n",
       "| Hits | Hits       |  4.0171102 |\n",
       "| RBI | RBI        |  3.8683851 |\n",
       "| AtBat | AtBat      |  3.2285936 |\n",
       "| HmRun | HmRun      |  2.7187760 |\n",
       "| Errors | Errors     |  2.0822714 |\n",
       "| Runs | Runs       |  1.8781513 |\n",
       "| Division | Division   |  0.5344496 |\n",
       "| NewLeague | NewLeague  |  0.4904346 |\n",
       "| League | League     |  0.2851441 |\n",
       "\n"
      ],
      "text/plain": [
       "          var       rel.inf   \n",
       "CAtBat    CAtBat    19.4813145\n",
       "CRuns     CRuns     14.1625818\n",
       "Years     Years      7.0191699\n",
       "PutOuts   PutOuts    6.7245145\n",
       "CHmRun    CHmRun     6.5446708\n",
       "Walks     Walks      6.2767434\n",
       "CRBI      CRBI       6.0142266\n",
       "CWalks    CWalks     5.5551684\n",
       "CHits     CHits      5.0839892\n",
       "Assists   Assists    4.0343049\n",
       "Hits      Hits       4.0171102\n",
       "RBI       RBI        3.8683851\n",
       "AtBat     AtBat      3.2285936\n",
       "HmRun     HmRun      2.7187760\n",
       "Errors    Errors     2.0822714\n",
       "Runs      Runs       1.8781513\n",
       "Division  Division   0.5344496\n",
       "NewLeague NewLeague  0.4904346\n",
       "League    League     0.2851441"
      ]
     },
     "metadata": {},
     "output_type": "display_data"
    },
    {
     "data": {
      "image/png": "[encoded data removed]",
      "text/plain": [
       "plot without title"
      ]
     },
     "metadata": {},
     "output_type": "display_data"
    }
   ],
   "source": [
    "boost.hitters <- gbm(Salary ~ ., data = df_train, distribution = \"gaussian\", n.trees = 1000, shrinkage = lambda[which.min(error)])\n",
    "summary(boost.hitters)"
   ]
  },
  {
   "cell_type": "markdown",
   "metadata": {},
   "source": [
    "CatBat is most impotant feature"
   ]
  },
  {
   "cell_type": "markdown",
   "metadata": {},
   "source": [
    "(g) Now apply bagging to the training set. What is the test set MSE\n",
    "for this approach?"
   ]
  },
  {
   "cell_type": "code",
   "execution_count": 48,
   "metadata": {},
   "outputs": [
    {
     "data": {
      "text/plain": [
       "\n",
       "Call:\n",
       " randomForest(formula = Salary ~ ., data = df_train, mtry = 19,      importance = TRUE) \n",
       "               Type of random forest: regression\n",
       "                     Number of trees: 500\n",
       "No. of variables tried at each split: 19\n",
       "\n",
       "          Mean of squared residuals: 0.2178554\n",
       "                    % Var explained: 73.82"
      ]
     },
     "metadata": {},
     "output_type": "display_data"
    }
   ],
   "source": [
    "set.seed(1)\n",
    "bag.hitters= randomForest(Salary∼.,data=df_train, mtry=19, importance =TRUE)\n",
    "bag.hitters"
   ]
  },
  {
   "cell_type": "code",
   "execution_count": 49,
   "metadata": {},
   "outputs": [
    {
     "data": {
      "text/html": [
       "0.230118355301682"
      ],
      "text/latex": [
       "0.230118355301682"
      ],
      "text/markdown": [
       "0.230118355301682"
      ],
      "text/plain": [
       "[1] 0.2301184"
      ]
     },
     "metadata": {},
     "output_type": "display_data"
    }
   ],
   "source": [
    "pred.hitters = predict(bag.hitters, newdata = df_test)\n",
    "mean((pred.hitters - df_test$Salary)^2)"
   ]
  },
  {
   "cell_type": "markdown",
   "metadata": {},
   "source": [
    "Bagging gives a bit lower error on test and higher on train. Boosting is overfitting more on training."
   ]
  },
  {
   "cell_type": "markdown",
   "metadata": {},
   "source": [
    "## Problem 11"
   ]
  },
  {
   "cell_type": "code",
   "execution_count": 50,
   "metadata": {},
   "outputs": [
    {
     "data": {
      "text/html": [
       "<table>\n",
       "<thead><tr><th scope=col>MOSTYPE</th><th scope=col>MAANTHUI</th><th scope=col>MGEMOMV</th><th scope=col>MGEMLEEF</th><th scope=col>MOSHOOFD</th><th scope=col>MGODRK</th><th scope=col>MGODPR</th><th scope=col>MGODOV</th><th scope=col>MGODGE</th><th scope=col>MRELGE</th><th scope=col>...</th><th scope=col>APERSONG</th><th scope=col>AGEZONG</th><th scope=col>AWAOREG</th><th scope=col>ABRAND</th><th scope=col>AZEILPL</th><th scope=col>APLEZIER</th><th scope=col>AFIETS</th><th scope=col>AINBOED</th><th scope=col>ABYSTAND</th><th scope=col>Purchase</th></tr></thead>\n",
       "<tbody>\n",
       "\t<tr><td>33 </td><td>1  </td><td>3  </td><td>2  </td><td> 8 </td><td>0  </td><td>5  </td><td>1  </td><td>3  </td><td>7  </td><td>...</td><td>0  </td><td>0  </td><td>0  </td><td>1  </td><td>0  </td><td>0  </td><td>0  </td><td>0  </td><td>0  </td><td>No </td></tr>\n",
       "\t<tr><td>37 </td><td>1  </td><td>2  </td><td>2  </td><td> 8 </td><td>1  </td><td>4  </td><td>1  </td><td>4  </td><td>6  </td><td>...</td><td>0  </td><td>0  </td><td>0  </td><td>1  </td><td>0  </td><td>0  </td><td>0  </td><td>0  </td><td>0  </td><td>No </td></tr>\n",
       "\t<tr><td>37 </td><td>1  </td><td>2  </td><td>2  </td><td> 8 </td><td>0  </td><td>4  </td><td>2  </td><td>4  </td><td>3  </td><td>...</td><td>0  </td><td>0  </td><td>0  </td><td>1  </td><td>0  </td><td>0  </td><td>0  </td><td>0  </td><td>0  </td><td>No </td></tr>\n",
       "\t<tr><td> 9 </td><td>1  </td><td>3  </td><td>3  </td><td> 3 </td><td>2  </td><td>3  </td><td>2  </td><td>4  </td><td>5  </td><td>...</td><td>0  </td><td>0  </td><td>0  </td><td>1  </td><td>0  </td><td>0  </td><td>0  </td><td>0  </td><td>0  </td><td>No </td></tr>\n",
       "\t<tr><td>40 </td><td>1  </td><td>4  </td><td>2  </td><td>10 </td><td>1  </td><td>4  </td><td>1  </td><td>4  </td><td>7  </td><td>...</td><td>0  </td><td>0  </td><td>0  </td><td>1  </td><td>0  </td><td>0  </td><td>0  </td><td>0  </td><td>0  </td><td>No </td></tr>\n",
       "\t<tr><td>23 </td><td>1  </td><td>2  </td><td>1  </td><td> 5 </td><td>0  </td><td>5  </td><td>0  </td><td>5  </td><td>0  </td><td>...</td><td>0  </td><td>0  </td><td>0  </td><td>0  </td><td>0  </td><td>0  </td><td>0  </td><td>0  </td><td>0  </td><td>No </td></tr>\n",
       "</tbody>\n",
       "</table>\n"
      ],
      "text/latex": [
       "\\begin{tabular}{r|llllllllllllllllllllllllllllllllllllllllllllllllllllllllllllllllllllllllllllllllllllll}\n",
       " MOSTYPE & MAANTHUI & MGEMOMV & MGEMLEEF & MOSHOOFD & MGODRK & MGODPR & MGODOV & MGODGE & MRELGE & ... & APERSONG & AGEZONG & AWAOREG & ABRAND & AZEILPL & APLEZIER & AFIETS & AINBOED & ABYSTAND & Purchase\\\\\n",
       "\\hline\n",
       "\t 33  & 1   & 3   & 2   &  8  & 0   & 5   & 1   & 3   & 7   & ... & 0   & 0   & 0   & 1   & 0   & 0   & 0   & 0   & 0   & No \\\\\n",
       "\t 37  & 1   & 2   & 2   &  8  & 1   & 4   & 1   & 4   & 6   & ... & 0   & 0   & 0   & 1   & 0   & 0   & 0   & 0   & 0   & No \\\\\n",
       "\t 37  & 1   & 2   & 2   &  8  & 0   & 4   & 2   & 4   & 3   & ... & 0   & 0   & 0   & 1   & 0   & 0   & 0   & 0   & 0   & No \\\\\n",
       "\t  9  & 1   & 3   & 3   &  3  & 2   & 3   & 2   & 4   & 5   & ... & 0   & 0   & 0   & 1   & 0   & 0   & 0   & 0   & 0   & No \\\\\n",
       "\t 40  & 1   & 4   & 2   & 10  & 1   & 4   & 1   & 4   & 7   & ... & 0   & 0   & 0   & 1   & 0   & 0   & 0   & 0   & 0   & No \\\\\n",
       "\t 23  & 1   & 2   & 1   &  5  & 0   & 5   & 0   & 5   & 0   & ... & 0   & 0   & 0   & 0   & 0   & 0   & 0   & 0   & 0   & No \\\\\n",
       "\\end{tabular}\n"
      ],
      "text/markdown": [
       "\n",
       "| MOSTYPE | MAANTHUI | MGEMOMV | MGEMLEEF | MOSHOOFD | MGODRK | MGODPR | MGODOV | MGODGE | MRELGE | ... | APERSONG | AGEZONG | AWAOREG | ABRAND | AZEILPL | APLEZIER | AFIETS | AINBOED | ABYSTAND | Purchase |\n",
       "|---|---|---|---|---|---|---|---|---|---|---|---|---|---|---|---|---|---|---|---|---|\n",
       "| 33  | 1   | 3   | 2   |  8  | 0   | 5   | 1   | 3   | 7   | ... | 0   | 0   | 0   | 1   | 0   | 0   | 0   | 0   | 0   | No  |\n",
       "| 37  | 1   | 2   | 2   |  8  | 1   | 4   | 1   | 4   | 6   | ... | 0   | 0   | 0   | 1   | 0   | 0   | 0   | 0   | 0   | No  |\n",
       "| 37  | 1   | 2   | 2   |  8  | 0   | 4   | 2   | 4   | 3   | ... | 0   | 0   | 0   | 1   | 0   | 0   | 0   | 0   | 0   | No  |\n",
       "|  9  | 1   | 3   | 3   |  3  | 2   | 3   | 2   | 4   | 5   | ... | 0   | 0   | 0   | 1   | 0   | 0   | 0   | 0   | 0   | No  |\n",
       "| 40  | 1   | 4   | 2   | 10  | 1   | 4   | 1   | 4   | 7   | ... | 0   | 0   | 0   | 1   | 0   | 0   | 0   | 0   | 0   | No  |\n",
       "| 23  | 1   | 2   | 1   |  5  | 0   | 5   | 0   | 5   | 0   | ... | 0   | 0   | 0   | 0   | 0   | 0   | 0   | 0   | 0   | No  |\n",
       "\n"
      ],
      "text/plain": [
       "  MOSTYPE MAANTHUI MGEMOMV MGEMLEEF MOSHOOFD MGODRK MGODPR MGODOV MGODGE MRELGE\n",
       "1 33      1        3       2         8       0      5      1      3      7     \n",
       "2 37      1        2       2         8       1      4      1      4      6     \n",
       "3 37      1        2       2         8       0      4      2      4      3     \n",
       "4  9      1        3       3         3       2      3      2      4      5     \n",
       "5 40      1        4       2        10       1      4      1      4      7     \n",
       "6 23      1        2       1         5       0      5      0      5      0     \n",
       "  ... APERSONG AGEZONG AWAOREG ABRAND AZEILPL APLEZIER AFIETS AINBOED ABYSTAND\n",
       "1 ... 0        0       0       1      0       0        0      0       0       \n",
       "2 ... 0        0       0       1      0       0        0      0       0       \n",
       "3 ... 0        0       0       1      0       0        0      0       0       \n",
       "4 ... 0        0       0       1      0       0        0      0       0       \n",
       "5 ... 0        0       0       1      0       0        0      0       0       \n",
       "6 ... 0        0       0       0      0       0        0      0       0       \n",
       "  Purchase\n",
       "1 No      \n",
       "2 No      \n",
       "3 No      \n",
       "4 No      \n",
       "5 No      \n",
       "6 No      "
      ]
     },
     "metadata": {},
     "output_type": "display_data"
    }
   ],
   "source": [
    "head(Caravan)"
   ]
  },
  {
   "cell_type": "markdown",
   "metadata": {},
   "source": [
    "(a) Create a training set consisting of the first 1,000 observations,\n",
    "and a test set consisting of the remaining observations."
   ]
  },
  {
   "cell_type": "code",
   "execution_count": 51,
   "metadata": {},
   "outputs": [],
   "source": [
    "train = 1:1000\n",
    "Caravan$Purchase = ifelse(Caravan$Purchase == \"Yes\", 1, 0)\n",
    "caravan.train = Caravan[train,]\n",
    "caravan.test = Caravan[-train,]"
   ]
  },
  {
   "cell_type": "markdown",
   "metadata": {},
   "source": [
    "(b) Fit a boosting model to the training set with Purchase as the\n",
    "response and the other variables as predictors. Use 1,000 trees,\n",
    "and a shrinkage value of 0.01. Which predictors appear to be\n",
    "the most important?"
   ]
  },
  {
   "cell_type": "code",
   "execution_count": 52,
   "metadata": {},
   "outputs": [
    {
     "name": "stderr",
     "output_type": "stream",
     "text": [
      "Warning message in gbm.fit(x = x, y = y, offset = offset, distribution = distribution, :\n",
      "\"variable 50: PVRAAUT has no variation.\"Warning message in gbm.fit(x = x, y = y, offset = offset, distribution = distribution, :\n",
      "\"variable 71: AVRAAUT has no variation.\""
     ]
    },
    {
     "data": {
      "text/html": [
       "<table>\n",
       "<thead><tr><th></th><th scope=col>var</th><th scope=col>rel.inf</th></tr></thead>\n",
       "<tbody>\n",
       "\t<tr><th scope=row>PPERSAUT</th><td>PPERSAUT  </td><td>15.2230473</td></tr>\n",
       "\t<tr><th scope=row>MKOOPKLA</th><td>MKOOPKLA  </td><td> 9.8627481</td></tr>\n",
       "\t<tr><th scope=row>MOPLHOOG</th><td>MOPLHOOG  </td><td> 7.4299508</td></tr>\n",
       "\t<tr><th scope=row>MBERMIDD</th><td>MBERMIDD  </td><td> 5.3293693</td></tr>\n",
       "\t<tr><th scope=row>MGODGE</th><td>MGODGE    </td><td> 4.6340178</td></tr>\n",
       "\t<tr><th scope=row>PBRAND</th><td>PBRAND    </td><td> 4.4095427</td></tr>\n",
       "\t<tr><th scope=row>ABRAND</th><td>ABRAND    </td><td> 4.1578551</td></tr>\n",
       "\t<tr><th scope=row>MINK3045</th><td>MINK3045  </td><td> 3.9464247</td></tr>\n",
       "\t<tr><th scope=row>MAUT1</th><td>MAUT1     </td><td> 2.8691540</td></tr>\n",
       "\t<tr><th scope=row>PWAPART</th><td>PWAPART   </td><td> 2.8346909</td></tr>\n",
       "\t<tr><th scope=row>MOSTYPE</th><td>MOSTYPE   </td><td> 2.6797645</td></tr>\n",
       "\t<tr><th scope=row>MAUT2</th><td>MAUT2     </td><td> 2.6761175</td></tr>\n",
       "\t<tr><th scope=row>MGODPR</th><td>MGODPR    </td><td> 2.5490440</td></tr>\n",
       "\t<tr><th scope=row>MSKC</th><td>MSKC      </td><td> 2.4408033</td></tr>\n",
       "\t<tr><th scope=row>MSKA</th><td>MSKA      </td><td> 1.9913596</td></tr>\n",
       "\t<tr><th scope=row>MBERARBG</th><td>MBERARBG  </td><td> 1.9342682</td></tr>\n",
       "\t<tr><th scope=row>MSKB1</th><td>MSKB1     </td><td> 1.6542176</td></tr>\n",
       "\t<tr><th scope=row>MRELGE</th><td>MRELGE    </td><td> 1.4561461</td></tr>\n",
       "\t<tr><th scope=row>MBERHOOG</th><td>MBERHOOG  </td><td> 1.4095402</td></tr>\n",
       "\t<tr><th scope=row>PBYSTAND</th><td>PBYSTAND  </td><td> 1.3726524</td></tr>\n",
       "\t<tr><th scope=row>MINKGEM</th><td>MINKGEM   </td><td> 1.3437966</td></tr>\n",
       "\t<tr><th scope=row>MINK7512</th><td>MINK7512  </td><td> 1.2383475</td></tr>\n",
       "\t<tr><th scope=row>MFGEKIND</th><td>MFGEKIND  </td><td> 1.1782958</td></tr>\n",
       "\t<tr><th scope=row>MFWEKIND</th><td>MFWEKIND  </td><td> 1.1243197</td></tr>\n",
       "\t<tr><th scope=row>MGODOV</th><td>MGODOV    </td><td> 1.0461623</td></tr>\n",
       "\t<tr><th scope=row>MGODRK</th><td>MGODRK    </td><td> 0.9161981</td></tr>\n",
       "\t<tr><th scope=row>MAUT0</th><td>MAUT0     </td><td> 0.9161387</td></tr>\n",
       "\t<tr><th scope=row>MZPART</th><td>MZPART    </td><td> 0.9067200</td></tr>\n",
       "\t<tr><th scope=row>MOSHOOFD</th><td>MOSHOOFD  </td><td> 0.8803523</td></tr>\n",
       "\t<tr><th scope=row>APERSAUT</th><td>APERSAUT  </td><td> 0.8216796</td></tr>\n",
       "\t<tr><th scope=row>...</th><td>...</td><td>...</td></tr>\n",
       "\t<tr><th scope=row>PAANHANG</th><td>PAANHANG</td><td>0       </td></tr>\n",
       "\t<tr><th scope=row>PTRACTOR</th><td>PTRACTOR</td><td>0       </td></tr>\n",
       "\t<tr><th scope=row>PWERKT</th><td>PWERKT  </td><td>0       </td></tr>\n",
       "\t<tr><th scope=row>PBROM</th><td>PBROM   </td><td>0       </td></tr>\n",
       "\t<tr><th scope=row>PPERSONG</th><td>PPERSONG</td><td>0       </td></tr>\n",
       "\t<tr><th scope=row>PGEZONG</th><td>PGEZONG </td><td>0       </td></tr>\n",
       "\t<tr><th scope=row>PWAOREG</th><td>PWAOREG </td><td>0       </td></tr>\n",
       "\t<tr><th scope=row>PZEILPL</th><td>PZEILPL </td><td>0       </td></tr>\n",
       "\t<tr><th scope=row>PPLEZIER</th><td>PPLEZIER</td><td>0       </td></tr>\n",
       "\t<tr><th scope=row>PFIETS</th><td>PFIETS  </td><td>0       </td></tr>\n",
       "\t<tr><th scope=row>PINBOED</th><td>PINBOED </td><td>0       </td></tr>\n",
       "\t<tr><th scope=row>AWAPART</th><td>AWAPART </td><td>0       </td></tr>\n",
       "\t<tr><th scope=row>AWABEDR</th><td>AWABEDR </td><td>0       </td></tr>\n",
       "\t<tr><th scope=row>AWALAND</th><td>AWALAND </td><td>0       </td></tr>\n",
       "\t<tr><th scope=row>ABESAUT</th><td>ABESAUT </td><td>0       </td></tr>\n",
       "\t<tr><th scope=row>AMOTSCO</th><td>AMOTSCO </td><td>0       </td></tr>\n",
       "\t<tr><th scope=row>AVRAAUT</th><td>AVRAAUT </td><td>0       </td></tr>\n",
       "\t<tr><th scope=row>AAANHANG</th><td>AAANHANG</td><td>0       </td></tr>\n",
       "\t<tr><th scope=row>ATRACTOR</th><td>ATRACTOR</td><td>0       </td></tr>\n",
       "\t<tr><th scope=row>AWERKT</th><td>AWERKT  </td><td>0       </td></tr>\n",
       "\t<tr><th scope=row>ABROM</th><td>ABROM   </td><td>0       </td></tr>\n",
       "\t<tr><th scope=row>ALEVEN</th><td>ALEVEN  </td><td>0       </td></tr>\n",
       "\t<tr><th scope=row>APERSONG</th><td>APERSONG</td><td>0       </td></tr>\n",
       "\t<tr><th scope=row>AGEZONG</th><td>AGEZONG </td><td>0       </td></tr>\n",
       "\t<tr><th scope=row>AWAOREG</th><td>AWAOREG </td><td>0       </td></tr>\n",
       "\t<tr><th scope=row>AZEILPL</th><td>AZEILPL </td><td>0       </td></tr>\n",
       "\t<tr><th scope=row>APLEZIER</th><td>APLEZIER</td><td>0       </td></tr>\n",
       "\t<tr><th scope=row>AFIETS</th><td>AFIETS  </td><td>0       </td></tr>\n",
       "\t<tr><th scope=row>AINBOED</th><td>AINBOED </td><td>0       </td></tr>\n",
       "\t<tr><th scope=row>ABYSTAND</th><td>ABYSTAND</td><td>0       </td></tr>\n",
       "</tbody>\n",
       "</table>\n"
      ],
      "text/latex": [
       "\\begin{tabular}{r|ll}\n",
       "  & var & rel.inf\\\\\n",
       "\\hline\n",
       "\tPPERSAUT & PPERSAUT   & 15.2230473\\\\\n",
       "\tMKOOPKLA & MKOOPKLA   &  9.8627481\\\\\n",
       "\tMOPLHOOG & MOPLHOOG   &  7.4299508\\\\\n",
       "\tMBERMIDD & MBERMIDD   &  5.3293693\\\\\n",
       "\tMGODGE & MGODGE     &  4.6340178\\\\\n",
       "\tPBRAND & PBRAND     &  4.4095427\\\\\n",
       "\tABRAND & ABRAND     &  4.1578551\\\\\n",
       "\tMINK3045 & MINK3045   &  3.9464247\\\\\n",
       "\tMAUT1 & MAUT1      &  2.8691540\\\\\n",
       "\tPWAPART & PWAPART    &  2.8346909\\\\\n",
       "\tMOSTYPE & MOSTYPE    &  2.6797645\\\\\n",
       "\tMAUT2 & MAUT2      &  2.6761175\\\\\n",
       "\tMGODPR & MGODPR     &  2.5490440\\\\\n",
       "\tMSKC & MSKC       &  2.4408033\\\\\n",
       "\tMSKA & MSKA       &  1.9913596\\\\\n",
       "\tMBERARBG & MBERARBG   &  1.9342682\\\\\n",
       "\tMSKB1 & MSKB1      &  1.6542176\\\\\n",
       "\tMRELGE & MRELGE     &  1.4561461\\\\\n",
       "\tMBERHOOG & MBERHOOG   &  1.4095402\\\\\n",
       "\tPBYSTAND & PBYSTAND   &  1.3726524\\\\\n",
       "\tMINKGEM & MINKGEM    &  1.3437966\\\\\n",
       "\tMINK7512 & MINK7512   &  1.2383475\\\\\n",
       "\tMFGEKIND & MFGEKIND   &  1.1782958\\\\\n",
       "\tMFWEKIND & MFWEKIND   &  1.1243197\\\\\n",
       "\tMGODOV & MGODOV     &  1.0461623\\\\\n",
       "\tMGODRK & MGODRK     &  0.9161981\\\\\n",
       "\tMAUT0 & MAUT0      &  0.9161387\\\\\n",
       "\tMZPART & MZPART     &  0.9067200\\\\\n",
       "\tMOSHOOFD & MOSHOOFD   &  0.8803523\\\\\n",
       "\tAPERSAUT & APERSAUT   &  0.8216796\\\\\n",
       "\t... & ... & ...\\\\\n",
       "\tPAANHANG & PAANHANG & 0       \\\\\n",
       "\tPTRACTOR & PTRACTOR & 0       \\\\\n",
       "\tPWERKT & PWERKT   & 0       \\\\\n",
       "\tPBROM & PBROM    & 0       \\\\\n",
       "\tPPERSONG & PPERSONG & 0       \\\\\n",
       "\tPGEZONG & PGEZONG  & 0       \\\\\n",
       "\tPWAOREG & PWAOREG  & 0       \\\\\n",
       "\tPZEILPL & PZEILPL  & 0       \\\\\n",
       "\tPPLEZIER & PPLEZIER & 0       \\\\\n",
       "\tPFIETS & PFIETS   & 0       \\\\\n",
       "\tPINBOED & PINBOED  & 0       \\\\\n",
       "\tAWAPART & AWAPART  & 0       \\\\\n",
       "\tAWABEDR & AWABEDR  & 0       \\\\\n",
       "\tAWALAND & AWALAND  & 0       \\\\\n",
       "\tABESAUT & ABESAUT  & 0       \\\\\n",
       "\tAMOTSCO & AMOTSCO  & 0       \\\\\n",
       "\tAVRAAUT & AVRAAUT  & 0       \\\\\n",
       "\tAAANHANG & AAANHANG & 0       \\\\\n",
       "\tATRACTOR & ATRACTOR & 0       \\\\\n",
       "\tAWERKT & AWERKT   & 0       \\\\\n",
       "\tABROM & ABROM    & 0       \\\\\n",
       "\tALEVEN & ALEVEN   & 0       \\\\\n",
       "\tAPERSONG & APERSONG & 0       \\\\\n",
       "\tAGEZONG & AGEZONG  & 0       \\\\\n",
       "\tAWAOREG & AWAOREG  & 0       \\\\\n",
       "\tAZEILPL & AZEILPL  & 0       \\\\\n",
       "\tAPLEZIER & APLEZIER & 0       \\\\\n",
       "\tAFIETS & AFIETS   & 0       \\\\\n",
       "\tAINBOED & AINBOED  & 0       \\\\\n",
       "\tABYSTAND & ABYSTAND & 0       \\\\\n",
       "\\end{tabular}\n"
      ],
      "text/markdown": [
       "\n",
       "| <!--/--> | var | rel.inf |\n",
       "|---|---|---|\n",
       "| PPERSAUT | PPERSAUT   | 15.2230473 |\n",
       "| MKOOPKLA | MKOOPKLA   |  9.8627481 |\n",
       "| MOPLHOOG | MOPLHOOG   |  7.4299508 |\n",
       "| MBERMIDD | MBERMIDD   |  5.3293693 |\n",
       "| MGODGE | MGODGE     |  4.6340178 |\n",
       "| PBRAND | PBRAND     |  4.4095427 |\n",
       "| ABRAND | ABRAND     |  4.1578551 |\n",
       "| MINK3045 | MINK3045   |  3.9464247 |\n",
       "| MAUT1 | MAUT1      |  2.8691540 |\n",
       "| PWAPART | PWAPART    |  2.8346909 |\n",
       "| MOSTYPE | MOSTYPE    |  2.6797645 |\n",
       "| MAUT2 | MAUT2      |  2.6761175 |\n",
       "| MGODPR | MGODPR     |  2.5490440 |\n",
       "| MSKC | MSKC       |  2.4408033 |\n",
       "| MSKA | MSKA       |  1.9913596 |\n",
       "| MBERARBG | MBERARBG   |  1.9342682 |\n",
       "| MSKB1 | MSKB1      |  1.6542176 |\n",
       "| MRELGE | MRELGE     |  1.4561461 |\n",
       "| MBERHOOG | MBERHOOG   |  1.4095402 |\n",
       "| PBYSTAND | PBYSTAND   |  1.3726524 |\n",
       "| MINKGEM | MINKGEM    |  1.3437966 |\n",
       "| MINK7512 | MINK7512   |  1.2383475 |\n",
       "| MFGEKIND | MFGEKIND   |  1.1782958 |\n",
       "| MFWEKIND | MFWEKIND   |  1.1243197 |\n",
       "| MGODOV | MGODOV     |  1.0461623 |\n",
       "| MGODRK | MGODRK     |  0.9161981 |\n",
       "| MAUT0 | MAUT0      |  0.9161387 |\n",
       "| MZPART | MZPART     |  0.9067200 |\n",
       "| MOSHOOFD | MOSHOOFD   |  0.8803523 |\n",
       "| APERSAUT | APERSAUT   |  0.8216796 |\n",
       "| ... | ... | ... |\n",
       "| PAANHANG | PAANHANG | 0        |\n",
       "| PTRACTOR | PTRACTOR | 0        |\n",
       "| PWERKT | PWERKT   | 0        |\n",
       "| PBROM | PBROM    | 0        |\n",
       "| PPERSONG | PPERSONG | 0        |\n",
       "| PGEZONG | PGEZONG  | 0        |\n",
       "| PWAOREG | PWAOREG  | 0        |\n",
       "| PZEILPL | PZEILPL  | 0        |\n",
       "| PPLEZIER | PPLEZIER | 0        |\n",
       "| PFIETS | PFIETS   | 0        |\n",
       "| PINBOED | PINBOED  | 0        |\n",
       "| AWAPART | AWAPART  | 0        |\n",
       "| AWABEDR | AWABEDR  | 0        |\n",
       "| AWALAND | AWALAND  | 0        |\n",
       "| ABESAUT | ABESAUT  | 0        |\n",
       "| AMOTSCO | AMOTSCO  | 0        |\n",
       "| AVRAAUT | AVRAAUT  | 0        |\n",
       "| AAANHANG | AAANHANG | 0        |\n",
       "| ATRACTOR | ATRACTOR | 0        |\n",
       "| AWERKT | AWERKT   | 0        |\n",
       "| ABROM | ABROM    | 0        |\n",
       "| ALEVEN | ALEVEN   | 0        |\n",
       "| APERSONG | APERSONG | 0        |\n",
       "| AGEZONG | AGEZONG  | 0        |\n",
       "| AWAOREG | AWAOREG  | 0        |\n",
       "| AZEILPL | AZEILPL  | 0        |\n",
       "| APLEZIER | APLEZIER | 0        |\n",
       "| AFIETS | AFIETS   | 0        |\n",
       "| AINBOED | AINBOED  | 0        |\n",
       "| ABYSTAND | ABYSTAND | 0        |\n",
       "\n"
      ],
      "text/plain": [
       "         var      rel.inf   \n",
       "PPERSAUT PPERSAUT 15.2230473\n",
       "MKOOPKLA MKOOPKLA  9.8627481\n",
       "MOPLHOOG MOPLHOOG  7.4299508\n",
       "MBERMIDD MBERMIDD  5.3293693\n",
       "MGODGE   MGODGE    4.6340178\n",
       "PBRAND   PBRAND    4.4095427\n",
       "ABRAND   ABRAND    4.1578551\n",
       "MINK3045 MINK3045  3.9464247\n",
       "MAUT1    MAUT1     2.8691540\n",
       "PWAPART  PWAPART   2.8346909\n",
       "MOSTYPE  MOSTYPE   2.6797645\n",
       "MAUT2    MAUT2     2.6761175\n",
       "MGODPR   MGODPR    2.5490440\n",
       "MSKC     MSKC      2.4408033\n",
       "MSKA     MSKA      1.9913596\n",
       "MBERARBG MBERARBG  1.9342682\n",
       "MSKB1    MSKB1     1.6542176\n",
       "MRELGE   MRELGE    1.4561461\n",
       "MBERHOOG MBERHOOG  1.4095402\n",
       "PBYSTAND PBYSTAND  1.3726524\n",
       "MINKGEM  MINKGEM   1.3437966\n",
       "MINK7512 MINK7512  1.2383475\n",
       "MFGEKIND MFGEKIND  1.1782958\n",
       "MFWEKIND MFWEKIND  1.1243197\n",
       "MGODOV   MGODOV    1.0461623\n",
       "MGODRK   MGODRK    0.9161981\n",
       "MAUT0    MAUT0     0.9161387\n",
       "MZPART   MZPART    0.9067200\n",
       "MOSHOOFD MOSHOOFD  0.8803523\n",
       "APERSAUT APERSAUT  0.8216796\n",
       "...      ...      ...       \n",
       "PAANHANG PAANHANG 0         \n",
       "PTRACTOR PTRACTOR 0         \n",
       "PWERKT   PWERKT   0         \n",
       "PBROM    PBROM    0         \n",
       "PPERSONG PPERSONG 0         \n",
       "PGEZONG  PGEZONG  0         \n",
       "PWAOREG  PWAOREG  0         \n",
       "PZEILPL  PZEILPL  0         \n",
       "PPLEZIER PPLEZIER 0         \n",
       "PFIETS   PFIETS   0         \n",
       "PINBOED  PINBOED  0         \n",
       "AWAPART  AWAPART  0         \n",
       "AWABEDR  AWABEDR  0         \n",
       "AWALAND  AWALAND  0         \n",
       "ABESAUT  ABESAUT  0         \n",
       "AMOTSCO  AMOTSCO  0         \n",
       "AVRAAUT  AVRAAUT  0         \n",
       "AAANHANG AAANHANG 0         \n",
       "ATRACTOR ATRACTOR 0         \n",
       "AWERKT   AWERKT   0         \n",
       "ABROM    ABROM    0         \n",
       "ALEVEN   ALEVEN   0         \n",
       "APERSONG APERSONG 0         \n",
       "AGEZONG  AGEZONG  0         \n",
       "AWAOREG  AWAOREG  0         \n",
       "AZEILPL  AZEILPL  0         \n",
       "APLEZIER APLEZIER 0         \n",
       "AFIETS   AFIETS   0         \n",
       "AINBOED  AINBOED  0         \n",
       "ABYSTAND ABYSTAND 0         "
      ]
     },
     "metadata": {},
     "output_type": "display_data"
    },
    {
     "data": {
      "image/png": "[encoded data removed]",
      "text/plain": [
       "plot without title"
      ]
     },
     "metadata": {},
     "output_type": "display_data"
    }
   ],
   "source": [
    "set.seed(4)\n",
    "boost.caravan = gbm(Purchase ~ ., data = caravan.train, distribution = \"bernoulli\", n.trees = 1000, shrinkage = 0.01)\n",
    "summary(boost.caravan)"
   ]
  },
  {
   "cell_type": "markdown",
   "metadata": {},
   "source": [
    "(c) Use the boosting model to predict the response on the test data.\n",
    "Predict that a person will make a purchase if the estimated probability of purchase is greater than 20 %. Form a confusion matrix. What fraction of the people predicted to make a purchase\n",
    "do in fact make one? How does this compare with the results\n",
    "obtained from applying KNN or logistic regression to this data\n",
    "set?"
   ]
  },
  {
   "cell_type": "code",
   "execution_count": 53,
   "metadata": {},
   "outputs": [
    {
     "name": "stderr",
     "output_type": "stream",
     "text": [
      "Using 1000 trees...\n",
      "\n"
     ]
    },
    {
     "name": "stdout",
     "output_type": "stream",
     "text": [
      "      y\n",
      "y_pred    0    1\n",
      "     0 4403  254\n",
      "     1  130   35\n"
     ]
    }
   ],
   "source": [
    "pred.prob = predict(boost.caravan, caravan.test, type = \"response\")\n",
    "cm=Predictions(pred.prob, caravan.test$Purchase, 0, 1, length(pred.prob), threshold=0.2)\n",
    "#print(pred.prob)\n",
    "print(cm)\n",
    "\n"
   ]
  },
  {
   "cell_type": "code",
   "execution_count": 54,
   "metadata": {},
   "outputs": [
    {
     "data": {
      "text/html": [
       "0.132495457298607"
      ],
      "text/latex": [
       "0.132495457298607"
      ],
      "text/markdown": [
       "0.132495457298607"
      ],
      "text/plain": [
       "[1] 0.1324955"
      ]
     },
     "metadata": {},
     "output_type": "display_data"
    }
   ],
   "source": [
    "true_pos(cm)"
   ]
  },
  {
   "cell_type": "code",
   "execution_count": 55,
   "metadata": {},
   "outputs": [
    {
     "name": "stderr",
     "output_type": "stream",
     "text": [
      "Warning message:\n",
      "\"glm.fit: fitted probabilities numerically 0 or 1 occurred\""
     ]
    }
   ],
   "source": [
    "set.seed(1)\n",
    "glm.fit = glm(Purchase~., data = caravan.train, family=binomial)"
   ]
  },
  {
   "cell_type": "code",
   "execution_count": 56,
   "metadata": {},
   "outputs": [
    {
     "name": "stderr",
     "output_type": "stream",
     "text": [
      "Warning message in predict.lm(object, newdata, se.fit, scale = 1, type = if (type == :\n",
      "\"prediction from a rank-deficient fit may be misleading\""
     ]
    },
    {
     "name": "stdout",
     "output_type": "stream",
     "text": [
      "      y\n",
      "y_pred    0    1\n",
      "     0 4183  231\n",
      "     1  350   58\n"
     ]
    }
   ],
   "source": [
    "pred.prob = predict(glm.fit, caravan.test, type = \"response\")\n",
    "cm=Predictions(pred.prob, caravan.test$Purchase, 0, 1, length(pred.prob), threshold=0.2)\n",
    "#print(pred.prob)\n",
    "print(cm)\n"
   ]
  },
  {
   "cell_type": "code",
   "execution_count": 57,
   "metadata": {},
   "outputs": [
    {
     "data": {
      "text/html": [
       "0.24050422955714"
      ],
      "text/latex": [
       "0.24050422955714"
      ],
      "text/markdown": [
       "0.24050422955714"
      ],
      "text/plain": [
       "[1] 0.2405042"
      ]
     },
     "metadata": {},
     "output_type": "display_data"
    }
   ],
   "source": [
    "true_pos(cm)"
   ]
  },
  {
   "cell_type": "markdown",
   "metadata": {},
   "source": [
    "Logistic regression worked out better"
   ]
  },
  {
   "cell_type": "markdown",
   "metadata": {},
   "source": [
    "## Problem 12"
   ]
  },
  {
   "cell_type": "markdown",
   "metadata": {},
   "source": [
    "12. Apply boosting, bagging, and random forests to a data set of your\n",
    "choice. Be sure to fit the models on a training set and to evaluate their\n",
    "performance on a test set. How accurate are the results compared\n",
    "to simple methods like linear or logistic regression? Which of these\n",
    "approaches yields the best performance?"
   ]
  },
  {
   "cell_type": "code",
   "execution_count": 58,
   "metadata": {},
   "outputs": [
    {
     "data": {
      "text/html": [
       "<table>\n",
       "<thead><tr><th></th><th scope=col>year</th><th scope=col>age</th><th scope=col>maritl</th><th scope=col>race</th><th scope=col>education</th><th scope=col>region</th><th scope=col>jobclass</th><th scope=col>health</th><th scope=col>health_ins</th><th scope=col>logwage</th><th scope=col>wage</th></tr></thead>\n",
       "<tbody>\n",
       "\t<tr><th scope=row>231655</th><td>2006                                                      </td><td>18                                                        </td><td>1. Never Married                                          </td><td>1. White                                                  </td><td><span style=white-space:pre-wrap>1. &lt; HS Grad   </span></td><td>2. Middle Atlantic                                        </td><td>1. Industrial                                             </td><td><span style=white-space:pre-wrap>1. &lt;=Good     </span> </td><td>2. No                                                     </td><td>4.318063                                                  </td><td> 75.04315                                                 </td></tr>\n",
       "\t<tr><th scope=row>86582</th><td>2004              </td><td>24                </td><td>1. Never Married  </td><td>1. White          </td><td>4. College Grad   </td><td>2. Middle Atlantic</td><td>2. Information    </td><td>2. &gt;=Very Good </td><td>2. No             </td><td>4.255273          </td><td> 70.47602         </td></tr>\n",
       "\t<tr><th scope=row>161300</th><td>2003                                                     </td><td>45                                                       </td><td><span style=white-space:pre-wrap>2. Married      </span> </td><td>1. White                                                 </td><td>3. Some College                                          </td><td>2. Middle Atlantic                                       </td><td>1. Industrial                                            </td><td><span style=white-space:pre-wrap>1. &lt;=Good     </span></td><td>1. Yes                                                   </td><td>4.875061                                                 </td><td>130.98218                                                </td></tr>\n",
       "\t<tr><th scope=row>155159</th><td>2003                                                    </td><td>43                                                      </td><td><span style=white-space:pre-wrap>2. Married      </span></td><td>3. Asian                                                </td><td>4. College Grad                                         </td><td>2. Middle Atlantic                                      </td><td>2. Information                                          </td><td>2. &gt;=Very Good                                       </td><td>1. Yes                                                  </td><td>5.041393                                                </td><td>154.68529                                               </td></tr>\n",
       "\t<tr><th scope=row>11443</th><td>2005                                                     </td><td>50                                                       </td><td><span style=white-space:pre-wrap>4. Divorced     </span> </td><td>1. White                                                 </td><td><span style=white-space:pre-wrap>2. HS Grad     </span>  </td><td>2. Middle Atlantic                                       </td><td>2. Information                                           </td><td><span style=white-space:pre-wrap>1. &lt;=Good     </span></td><td>1. Yes                                                   </td><td>4.318063                                                 </td><td> 75.04315                                                </td></tr>\n",
       "\t<tr><th scope=row>376662</th><td>2008                                                    </td><td>54                                                      </td><td><span style=white-space:pre-wrap>2. Married      </span></td><td>1. White                                                </td><td>4. College Grad                                         </td><td>2. Middle Atlantic                                      </td><td>2. Information                                          </td><td>2. &gt;=Very Good                                       </td><td>1. Yes                                                  </td><td>4.845098                                                </td><td>127.11574                                               </td></tr>\n",
       "</tbody>\n",
       "</table>\n"
      ],
      "text/latex": [
       "\\begin{tabular}{r|lllllllllll}\n",
       "  & year & age & maritl & race & education & region & jobclass & health & health\\_ins & logwage & wage\\\\\n",
       "\\hline\n",
       "\t231655 & 2006               & 18                 & 1. Never Married   & 1. White           & 1. < HS Grad       & 2. Middle Atlantic & 1. Industrial      & 1. <=Good          & 2. No              & 4.318063           &  75.04315         \\\\\n",
       "\t86582 & 2004               & 24                 & 1. Never Married   & 1. White           & 4. College Grad    & 2. Middle Atlantic & 2. Information     & 2. >=Very Good     & 2. No              & 4.255273           &  70.47602         \\\\\n",
       "\t161300 & 2003               & 45                 & 2. Married         & 1. White           & 3. Some College    & 2. Middle Atlantic & 1. Industrial      & 1. <=Good          & 1. Yes             & 4.875061           & 130.98218         \\\\\n",
       "\t155159 & 2003               & 43                 & 2. Married         & 3. Asian           & 4. College Grad    & 2. Middle Atlantic & 2. Information     & 2. >=Very Good     & 1. Yes             & 5.041393           & 154.68529         \\\\\n",
       "\t11443 & 2005               & 50                 & 4. Divorced        & 1. White           & 2. HS Grad         & 2. Middle Atlantic & 2. Information     & 1. <=Good          & 1. Yes             & 4.318063           &  75.04315         \\\\\n",
       "\t376662 & 2008               & 54                 & 2. Married         & 1. White           & 4. College Grad    & 2. Middle Atlantic & 2. Information     & 2. >=Very Good     & 1. Yes             & 4.845098           & 127.11574         \\\\\n",
       "\\end{tabular}\n"
      ],
      "text/markdown": [
       "\n",
       "| <!--/--> | year | age | maritl | race | education | region | jobclass | health | health_ins | logwage | wage |\n",
       "|---|---|---|---|---|---|---|---|---|---|---|---|\n",
       "| 231655 | 2006               | 18                 | 1. Never Married   | 1. White           | 1. < HS Grad       | 2. Middle Atlantic | 1. Industrial      | 1. <=Good          | 2. No              | 4.318063           |  75.04315          |\n",
       "| 86582 | 2004               | 24                 | 1. Never Married   | 1. White           | 4. College Grad    | 2. Middle Atlantic | 2. Information     | 2. >=Very Good     | 2. No              | 4.255273           |  70.47602          |\n",
       "| 161300 | 2003               | 45                 | 2. Married         | 1. White           | 3. Some College    | 2. Middle Atlantic | 1. Industrial      | 1. <=Good          | 1. Yes             | 4.875061           | 130.98218          |\n",
       "| 155159 | 2003               | 43                 | 2. Married         | 3. Asian           | 4. College Grad    | 2. Middle Atlantic | 2. Information     | 2. >=Very Good     | 1. Yes             | 5.041393           | 154.68529          |\n",
       "| 11443 | 2005               | 50                 | 4. Divorced        | 1. White           | 2. HS Grad         | 2. Middle Atlantic | 2. Information     | 1. <=Good          | 1. Yes             | 4.318063           |  75.04315          |\n",
       "| 376662 | 2008               | 54                 | 2. Married         | 1. White           | 4. College Grad    | 2. Middle Atlantic | 2. Information     | 2. >=Very Good     | 1. Yes             | 4.845098           | 127.11574          |\n",
       "\n"
      ],
      "text/plain": [
       "       year age maritl           race     education       region            \n",
       "231655 2006 18  1. Never Married 1. White 1. < HS Grad    2. Middle Atlantic\n",
       "86582  2004 24  1. Never Married 1. White 4. College Grad 2. Middle Atlantic\n",
       "161300 2003 45  2. Married       1. White 3. Some College 2. Middle Atlantic\n",
       "155159 2003 43  2. Married       3. Asian 4. College Grad 2. Middle Atlantic\n",
       "11443  2005 50  4. Divorced      1. White 2. HS Grad      2. Middle Atlantic\n",
       "376662 2008 54  2. Married       1. White 4. College Grad 2. Middle Atlantic\n",
       "       jobclass       health         health_ins logwage  wage     \n",
       "231655 1. Industrial  1. <=Good      2. No      4.318063  75.04315\n",
       "86582  2. Information 2. >=Very Good 2. No      4.255273  70.47602\n",
       "161300 1. Industrial  1. <=Good      1. Yes     4.875061 130.98218\n",
       "155159 2. Information 2. >=Very Good 1. Yes     5.041393 154.68529\n",
       "11443  2. Information 1. <=Good      1. Yes     4.318063  75.04315\n",
       "376662 2. Information 2. >=Very Good 1. Yes     4.845098 127.11574"
      ]
     },
     "metadata": {},
     "output_type": "display_data"
    }
   ],
   "source": [
    "head(Wage)"
   ]
  },
  {
   "cell_type": "code",
   "execution_count": 59,
   "metadata": {},
   "outputs": [
    {
     "data": {
      "text/html": [
       "<ol class=list-inline>\n",
       "\t<li>3000</li>\n",
       "\t<li>11</li>\n",
       "</ol>\n"
      ],
      "text/latex": [
       "\\begin{enumerate*}\n",
       "\\item 3000\n",
       "\\item 11\n",
       "\\end{enumerate*}\n"
      ],
      "text/markdown": [
       "1. 3000\n",
       "2. 11\n",
       "\n",
       "\n"
      ],
      "text/plain": [
       "[1] 3000   11"
      ]
     },
     "metadata": {},
     "output_type": "display_data"
    }
   ],
   "source": [
    "dim(Wage)"
   ]
  },
  {
   "cell_type": "code",
   "execution_count": 60,
   "metadata": {},
   "outputs": [],
   "source": [
    "train <- sample(dim(Wage)[1], 2000)\n",
    "df_tr<-Wage[train,]\n",
    "df_test<-Wage[-train,]"
   ]
  },
  {
   "cell_type": "code",
   "execution_count": 61,
   "metadata": {},
   "outputs": [
    {
     "name": "stderr",
     "output_type": "stream",
     "text": [
      "Warning message in gbm.fit(x = x, y = y, offset = offset, distribution = distribution, :\n",
      "\"variable 6: region has no variation.\""
     ]
    },
    {
     "data": {
      "text/html": [
       "<table>\n",
       "<thead><tr><th></th><th scope=col>var</th><th scope=col>rel.inf</th></tr></thead>\n",
       "<tbody>\n",
       "\t<tr><th scope=row>education</th><td>education </td><td>56.0027290</td></tr>\n",
       "\t<tr><th scope=row>health_ins</th><td>health_ins</td><td>17.9760663</td></tr>\n",
       "\t<tr><th scope=row>age</th><td>age       </td><td>10.8178319</td></tr>\n",
       "\t<tr><th scope=row>maritl</th><td>maritl    </td><td>10.3728255</td></tr>\n",
       "\t<tr><th scope=row>year</th><td>year      </td><td> 1.8414392</td></tr>\n",
       "\t<tr><th scope=row>health</th><td>health    </td><td> 1.6583514</td></tr>\n",
       "\t<tr><th scope=row>race</th><td>race      </td><td> 0.8772838</td></tr>\n",
       "\t<tr><th scope=row>jobclass</th><td>jobclass  </td><td> 0.4534731</td></tr>\n",
       "\t<tr><th scope=row>region</th><td>region    </td><td> 0.0000000</td></tr>\n",
       "</tbody>\n",
       "</table>\n"
      ],
      "text/latex": [
       "\\begin{tabular}{r|ll}\n",
       "  & var & rel.inf\\\\\n",
       "\\hline\n",
       "\teducation & education  & 56.0027290\\\\\n",
       "\thealth\\_ins & health\\_ins & 17.9760663  \\\\\n",
       "\tage & age        & 10.8178319\\\\\n",
       "\tmaritl & maritl     & 10.3728255\\\\\n",
       "\tyear & year       &  1.8414392\\\\\n",
       "\thealth & health     &  1.6583514\\\\\n",
       "\trace & race       &  0.8772838\\\\\n",
       "\tjobclass & jobclass   &  0.4534731\\\\\n",
       "\tregion & region     &  0.0000000\\\\\n",
       "\\end{tabular}\n"
      ],
      "text/markdown": [
       "\n",
       "| <!--/--> | var | rel.inf |\n",
       "|---|---|---|\n",
       "| education | education  | 56.0027290 |\n",
       "| health_ins | health_ins | 17.9760663 |\n",
       "| age | age        | 10.8178319 |\n",
       "| maritl | maritl     | 10.3728255 |\n",
       "| year | year       |  1.8414392 |\n",
       "| health | health     |  1.6583514 |\n",
       "| race | race       |  0.8772838 |\n",
       "| jobclass | jobclass   |  0.4534731 |\n",
       "| region | region     |  0.0000000 |\n",
       "\n"
      ],
      "text/plain": [
       "           var        rel.inf   \n",
       "education  education  56.0027290\n",
       "health_ins health_ins 17.9760663\n",
       "age        age        10.8178319\n",
       "maritl     maritl     10.3728255\n",
       "year       year        1.8414392\n",
       "health     health      1.6583514\n",
       "race       race        0.8772838\n",
       "jobclass   jobclass    0.4534731\n",
       "region     region      0.0000000"
      ]
     },
     "metadata": {},
     "output_type": "display_data"
    },
    {
     "data": {
      "image/png": "[encoded data removed]",
      "text/plain": [
       "plot without title"
      ]
     },
     "metadata": {},
     "output_type": "display_data"
    }
   ],
   "source": [
    "boost.wage <- gbm(wage ~ .-logwage, data = df_tr, distribution = \"gaussian\", n.trees = 1000, shrinkage = 0.01)\n",
    "summary(boost.wage)"
   ]
  },
  {
   "cell_type": "code",
   "execution_count": 64,
   "metadata": {},
   "outputs": [
    {
     "name": "stderr",
     "output_type": "stream",
     "text": [
      "Warning message in gbm.fit(x = x, y = y, offset = offset, distribution = distribution, :\n",
      "\"variable 6: region has no variation.\"Warning message in gbm.fit(x = x, y = y, offset = offset, distribution = distribution, :\n",
      "\"variable 6: region has no variation.\"Warning message in gbm.fit(x = x, y = y, offset = offset, distribution = distribution, :\n",
      "\"variable 6: region has no variation.\"Warning message in gbm.fit(x = x, y = y, offset = offset, distribution = distribution, :\n",
      "\"variable 6: region has no variation.\""
     ]
    },
    {
     "name": "stdout",
     "output_type": "stream",
     "text": [
      "[1] 1.389058 1.172183 1.574058 2.273878\n"
     ]
    },
    {
     "data": {
      "image/png": "[encoded data removed]",
      "text/plain": [
       "plot without title"
      ]
     },
     "metadata": {},
     "output_type": "display_data"
    }
   ],
   "source": [
    "lambda = c(0.1, 0.05, 0.01, 0.005)\n",
    "error=chose_lambda(df_tr, df_test, df_test$wage,  wage~., lambda)\n",
    "print(error)\n",
    "plot(lambda, error, xlab = 'lambda', ylab = 'Test MSE', type = 'l', col=\"blue\")"
   ]
  },
  {
   "cell_type": "code",
   "execution_count": 63,
   "metadata": {},
   "outputs": [
    {
     "data": {
      "text/html": [
       "1.17218298264046"
      ],
      "text/latex": [
       "1.17218298264046"
      ],
      "text/markdown": [
       "1.17218298264046"
      ],
      "text/plain": [
       "[1] 1.172183"
      ]
     },
     "metadata": {},
     "output_type": "display_data"
    },
    {
     "data": {
      "text/html": [
       "2"
      ],
      "text/latex": [
       "2"
      ],
      "text/markdown": [
       "2"
      ],
      "text/plain": [
       "[1] 2"
      ]
     },
     "metadata": {},
     "output_type": "display_data"
    }
   ],
   "source": [
    "min(error)\n",
    "which.min(error)"
   ]
  }
 ],
 "metadata": {
  "kernelspec": {
   "display_name": "R",
   "language": "R",
   "name": "ir"
  },
  "language_info": {
   "codemirror_mode": "r",
   "file_extension": ".r",
   "mimetype": "text/x-r-source",
   "name": "R",
   "pygments_lexer": "r",
   "version": "3.6.1"
  }
 },
 "nbformat": 4,
 "nbformat_minor": 4
}
