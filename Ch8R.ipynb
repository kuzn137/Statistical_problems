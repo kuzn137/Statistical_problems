{
 "cells": [
  {
   "cell_type": "markdown",
   "metadata": {},
   "source": [
    "# Chapter 8"
   ]
  },
  {
   "cell_type": "code",
   "execution_count": 72,
   "metadata": {},
   "outputs": [
    {
     "name": "stderr",
     "output_type": "stream",
     "text": [
      "Loading required package: Matrix\n",
      "Loading required package: foreach\n",
      "Loaded glmnet 2.0-16\n",
      "\n"
     ]
    }
   ],
   "source": [
    "library(randomForest)\n",
    "library(ISLR)\n",
    "library(MASS)\n",
    "library(tree)\n",
    "library (gbm)\n",
    "library(glmnet)\n",
    "#install.packages(\"Rfast\", repos='http://cran.us.r-project.org')"
   ]
  },
  {
   "cell_type": "markdown",
   "metadata": {},
   "source": [
    "## Problem 2"
   ]
  },
  {
   "cell_type": "markdown",
   "metadata": {},
   "source": [
    "It is mentioned in Section 8.2.3 that boosting using depth-one trees\n",
    "(or stumps) leads to an additive model.\n",
    "Explain why this is the case. You can begin with (8.12) in\n",
    "Algorithm 8.2."
   ]
  },
  {
   "cell_type": "markdown",
   "metadata": {},
   "source": [
    "If number of splits d =1 we have singl varible in functions in Eq.(12.8) and it is the same as additive models. "
   ]
  },
  {
   "cell_type": "markdown",
   "metadata": {},
   "source": [
    "## Problem3"
   ]
  },
  {
   "cell_type": "markdown",
   "metadata": {},
   "source": [
    "Consider the Gini index, classification error, and entropy in a simple classification setting with two classes. Create a single plot\n",
    "that displays each of these quantities as a function of $\\hat{p}_{m1}$. The x-axis should display $\\hat{p}_{m1}$, ranging from 0 to 1, and the y-axis should\n",
    "display the value of the Gini index, classification error, and entropy"
   ]
  },
  {
   "cell_type": "markdown",
   "metadata": {},
   "source": [
    "p=$\\hat{p}_{m1}$, then $\\hat{p}_{m2}$=1-p"
   ]
  },
  {
   "cell_type": "code",
   "execution_count": 118,
   "metadata": {},
   "outputs": [
    {
     "data": {
      "image/png": "[encoded data removed]",
      "text/plain": [
       "plot without title"
      ]
     },
     "metadata": {},
     "output_type": "display_data"
    }
   ],
   "source": [
    "p=seq(0,1,0.01)\n",
    "#entropy\n",
    "s=-log(p)*p-(1-p)*log(1-p)\n",
    "#error\n",
    "E=1-pmax(p, 1-p)\n",
    "#gini\n",
    "g=2*p*(1-p)\n",
    "\n",
    "plot(p, s, type = \"l\", col = \"green\")\n",
    "lines(p, g, type = \"l\", col = \"red\")\n",
    "lines(p, E, type = \"l\", col = \"blue\")\n",
    "legend(\"topright\",legend=c(\"gini\",\"entropy\", \"class error\"),pch=19,col=c(\"red\", \"green\", \"blue\"))"
   ]
  },
  {
   "cell_type": "markdown",
   "metadata": {},
   "source": [
    "## Problem 6"
   ]
  },
  {
   "cell_type": "markdown",
   "metadata": {},
   "source": [
    "Provide a detailed explanation of the algorithm that is used to fit a\n",
    "regression tree."
   ]
  },
  {
   "cell_type": "markdown",
   "metadata": {},
   "source": [
    "We do binary tree splitting on conditions. As the rsult we divide the predictor space (set of possible p features $X_i$ values) into J distinct non-overlapping regions $R_j$.\n",
    "For every observation that falls in $R_j$ we make the same prediction that is the mean of the response values for the training observations in R_j\n",
    "\n",
    "Grow tree until each terminal node has few observations than some minimum number.\n",
    "\n",
    "Apply pruning to obtain a sequence of best subtrees as function of parameter alpha.\n",
    "\n",
    "Chose alpha to minimize average Kfold crossvalidation error."
   ]
  },
  {
   "cell_type": "markdown",
   "metadata": {},
   "source": [
    "## Problem 7"
   ]
  },
  {
   "cell_type": "markdown",
   "metadata": {},
   "source": [
    "In the lab, we applied random forests to the Boston data using mtry=6\n",
    "and using ntree=25 and ntree=500. Create a plot displaying the test\n",
    "error resulting from random forests on this data set for a more comprehensive range of values for mtry and ntree. You can model your\n",
    "plot after Figure 8.10. Describe the results obtained."
   ]
  },
  {
   "cell_type": "code",
   "execution_count": 2,
   "metadata": {},
   "outputs": [
    {
     "data": {
      "text/html": [
       "<table>\n",
       "<thead><tr><th scope=col>crim</th><th scope=col>zn</th><th scope=col>indus</th><th scope=col>chas</th><th scope=col>nox</th><th scope=col>rm</th><th scope=col>age</th><th scope=col>dis</th><th scope=col>rad</th><th scope=col>tax</th><th scope=col>ptratio</th><th scope=col>black</th><th scope=col>lstat</th><th scope=col>medv</th></tr></thead>\n",
       "<tbody>\n",
       "\t<tr><td>0.00632</td><td>18     </td><td>2.31   </td><td>0      </td><td>0.538  </td><td>6.575  </td><td>65.2   </td><td>4.0900 </td><td>1      </td><td>296    </td><td>15.3   </td><td>396.90 </td><td>4.98   </td><td>24.0   </td></tr>\n",
       "\t<tr><td>0.02731</td><td> 0     </td><td>7.07   </td><td>0      </td><td>0.469  </td><td>6.421  </td><td>78.9   </td><td>4.9671 </td><td>2      </td><td>242    </td><td>17.8   </td><td>396.90 </td><td>9.14   </td><td>21.6   </td></tr>\n",
       "\t<tr><td>0.02729</td><td> 0     </td><td>7.07   </td><td>0      </td><td>0.469  </td><td>7.185  </td><td>61.1   </td><td>4.9671 </td><td>2      </td><td>242    </td><td>17.8   </td><td>392.83 </td><td>4.03   </td><td>34.7   </td></tr>\n",
       "\t<tr><td>0.03237</td><td> 0     </td><td>2.18   </td><td>0      </td><td>0.458  </td><td>6.998  </td><td>45.8   </td><td>6.0622 </td><td>3      </td><td>222    </td><td>18.7   </td><td>394.63 </td><td>2.94   </td><td>33.4   </td></tr>\n",
       "\t<tr><td>0.06905</td><td> 0     </td><td>2.18   </td><td>0      </td><td>0.458  </td><td>7.147  </td><td>54.2   </td><td>6.0622 </td><td>3      </td><td>222    </td><td>18.7   </td><td>396.90 </td><td>5.33   </td><td>36.2   </td></tr>\n",
       "\t<tr><td>0.02985</td><td> 0     </td><td>2.18   </td><td>0      </td><td>0.458  </td><td>6.430  </td><td>58.7   </td><td>6.0622 </td><td>3      </td><td>222    </td><td>18.7   </td><td>394.12 </td><td>5.21   </td><td>28.7   </td></tr>\n",
       "</tbody>\n",
       "</table>\n"
      ],
      "text/latex": [
       "\\begin{tabular}{r|llllllllllllll}\n",
       " crim & zn & indus & chas & nox & rm & age & dis & rad & tax & ptratio & black & lstat & medv\\\\\n",
       "\\hline\n",
       "\t 0.00632 & 18      & 2.31    & 0       & 0.538   & 6.575   & 65.2    & 4.0900  & 1       & 296     & 15.3    & 396.90  & 4.98    & 24.0   \\\\\n",
       "\t 0.02731 &  0      & 7.07    & 0       & 0.469   & 6.421   & 78.9    & 4.9671  & 2       & 242     & 17.8    & 396.90  & 9.14    & 21.6   \\\\\n",
       "\t 0.02729 &  0      & 7.07    & 0       & 0.469   & 7.185   & 61.1    & 4.9671  & 2       & 242     & 17.8    & 392.83  & 4.03    & 34.7   \\\\\n",
       "\t 0.03237 &  0      & 2.18    & 0       & 0.458   & 6.998   & 45.8    & 6.0622  & 3       & 222     & 18.7    & 394.63  & 2.94    & 33.4   \\\\\n",
       "\t 0.06905 &  0      & 2.18    & 0       & 0.458   & 7.147   & 54.2    & 6.0622  & 3       & 222     & 18.7    & 396.90  & 5.33    & 36.2   \\\\\n",
       "\t 0.02985 &  0      & 2.18    & 0       & 0.458   & 6.430   & 58.7    & 6.0622  & 3       & 222     & 18.7    & 394.12  & 5.21    & 28.7   \\\\\n",
       "\\end{tabular}\n"
      ],
      "text/markdown": [
       "\n",
       "| crim | zn | indus | chas | nox | rm | age | dis | rad | tax | ptratio | black | lstat | medv |\n",
       "|---|---|---|---|---|---|---|---|---|---|---|---|---|---|\n",
       "| 0.00632 | 18      | 2.31    | 0       | 0.538   | 6.575   | 65.2    | 4.0900  | 1       | 296     | 15.3    | 396.90  | 4.98    | 24.0    |\n",
       "| 0.02731 |  0      | 7.07    | 0       | 0.469   | 6.421   | 78.9    | 4.9671  | 2       | 242     | 17.8    | 396.90  | 9.14    | 21.6    |\n",
       "| 0.02729 |  0      | 7.07    | 0       | 0.469   | 7.185   | 61.1    | 4.9671  | 2       | 242     | 17.8    | 392.83  | 4.03    | 34.7    |\n",
       "| 0.03237 |  0      | 2.18    | 0       | 0.458   | 6.998   | 45.8    | 6.0622  | 3       | 222     | 18.7    | 394.63  | 2.94    | 33.4    |\n",
       "| 0.06905 |  0      | 2.18    | 0       | 0.458   | 7.147   | 54.2    | 6.0622  | 3       | 222     | 18.7    | 396.90  | 5.33    | 36.2    |\n",
       "| 0.02985 |  0      | 2.18    | 0       | 0.458   | 6.430   | 58.7    | 6.0622  | 3       | 222     | 18.7    | 394.12  | 5.21    | 28.7    |\n",
       "\n"
      ],
      "text/plain": [
       "  crim    zn indus chas nox   rm    age  dis    rad tax ptratio black  lstat\n",
       "1 0.00632 18 2.31  0    0.538 6.575 65.2 4.0900 1   296 15.3    396.90 4.98 \n",
       "2 0.02731  0 7.07  0    0.469 6.421 78.9 4.9671 2   242 17.8    396.90 9.14 \n",
       "3 0.02729  0 7.07  0    0.469 7.185 61.1 4.9671 2   242 17.8    392.83 4.03 \n",
       "4 0.03237  0 2.18  0    0.458 6.998 45.8 6.0622 3   222 18.7    394.63 2.94 \n",
       "5 0.06905  0 2.18  0    0.458 7.147 54.2 6.0622 3   222 18.7    396.90 5.33 \n",
       "6 0.02985  0 2.18  0    0.458 6.430 58.7 6.0622 3   222 18.7    394.12 5.21 \n",
       "  medv\n",
       "1 24.0\n",
       "2 21.6\n",
       "3 34.7\n",
       "4 33.4\n",
       "5 36.2\n",
       "6 28.7"
      ]
     },
     "metadata": {},
     "output_type": "display_data"
    }
   ],
   "source": [
    "head(Boston)"
   ]
  },
  {
   "cell_type": "code",
   "execution_count": 3,
   "metadata": {},
   "outputs": [],
   "source": [
    "test = sample (1:nrow(Boston), nrow(Boston)/3)"
   ]
  },
  {
   "cell_type": "code",
   "execution_count": 4,
   "metadata": {},
   "outputs": [],
   "source": [
    "set.seed(1)\n",
    "num_trees=500\n",
    "mtr=c(3, 6, 13)\n",
    "trees=rep(NA, num_trees/25)\n",
    "error=rep(NA, num_trees/25)\n",
    "errors<-matrix(list(), nrow=20, ncol=3)\n",
    "for(j in 1:3){\n",
    "for(i in seq(1, num_trees/25)){\n",
    "    rf.boston= randomForest( medv∼.,data=Boston[-test,],\n",
    "    mtry=mtr[j], ntree = 1+(i-1)*25, importance =TRUE)\n",
    "    yhat.bag = predict (rf.boston , newdata=Boston[test,])\n",
    "    error[i]=mean((yhat.bag-Boston$medv[test])^2)\n",
    "    } \n",
    "errors[1:20, j] = error\n",
    "}\n"
   ]
  },
  {
   "cell_type": "code",
   "execution_count": 5,
   "metadata": {},
   "outputs": [
    {
     "data": {
      "image/png": "[encoded data removed]",
      "text/plain": [
       "plot without title"
      ]
     },
     "metadata": {},
     "output_type": "display_data"
    }
   ],
   "source": [
    "plot(seq(1, num_trees, by = 25), errors[1:20, 1], xlab = 'n trees', ylab = 'Test MSE', type = 'l', col=\"blue\")\n",
    "lines(seq(1, num_trees, by = 25), errors[1:20, 2], col=\"red\")\n",
    "lines(seq(1, num_trees, by = 25), errors[1:20, 3], col=\"green\")\n",
    "legend(\"topright\", c(\"m = 13\", \"m = 6\", \"m = 3\"), col = c(\"green\", \"red\", \"blue\"), cex = 1, lty = 1)"
   ]
  },
  {
   "cell_type": "markdown",
   "metadata": {},
   "source": [
    "## Problem 8"
   ]
  },
  {
   "cell_type": "markdown",
   "metadata": {},
   "source": [
    "In the lab, a classification tree was applied to the Carseats data set after converting Sales into a qualitative response variable. Now we will\n",
    "seek to predict Sales using regression trees and related approaches,\n",
    "treating the response as a quantitative variable.\n"
   ]
  },
  {
   "cell_type": "markdown",
   "metadata": {},
   "source": [
    "(a) Split the data set into a training set and a test set."
   ]
  },
  {
   "cell_type": "code",
   "execution_count": 6,
   "metadata": {},
   "outputs": [
    {
     "data": {
      "text/html": [
       "<table>\n",
       "<thead><tr><th scope=col>Sales</th><th scope=col>CompPrice</th><th scope=col>Income</th><th scope=col>Advertising</th><th scope=col>Population</th><th scope=col>Price</th><th scope=col>ShelveLoc</th><th scope=col>Age</th><th scope=col>Education</th><th scope=col>Urban</th><th scope=col>US</th></tr></thead>\n",
       "<tbody>\n",
       "\t<tr><td> 9.50 </td><td>138   </td><td> 73   </td><td>11    </td><td>276   </td><td>120   </td><td>Bad   </td><td>42    </td><td>17    </td><td>Yes   </td><td>Yes   </td></tr>\n",
       "\t<tr><td>11.22 </td><td>111   </td><td> 48   </td><td>16    </td><td>260   </td><td> 83   </td><td>Good  </td><td>65    </td><td>10    </td><td>Yes   </td><td>Yes   </td></tr>\n",
       "\t<tr><td>10.06 </td><td>113   </td><td> 35   </td><td>10    </td><td>269   </td><td> 80   </td><td>Medium</td><td>59    </td><td>12    </td><td>Yes   </td><td>Yes   </td></tr>\n",
       "\t<tr><td> 7.40 </td><td>117   </td><td>100   </td><td> 4    </td><td>466   </td><td> 97   </td><td>Medium</td><td>55    </td><td>14    </td><td>Yes   </td><td>Yes   </td></tr>\n",
       "\t<tr><td> 4.15 </td><td>141   </td><td> 64   </td><td> 3    </td><td>340   </td><td>128   </td><td>Bad   </td><td>38    </td><td>13    </td><td>Yes   </td><td>No    </td></tr>\n",
       "\t<tr><td>10.81 </td><td>124   </td><td>113   </td><td>13    </td><td>501   </td><td> 72   </td><td>Bad   </td><td>78    </td><td>16    </td><td>No    </td><td>Yes   </td></tr>\n",
       "</tbody>\n",
       "</table>\n"
      ],
      "text/latex": [
       "\\begin{tabular}{r|lllllllllll}\n",
       " Sales & CompPrice & Income & Advertising & Population & Price & ShelveLoc & Age & Education & Urban & US\\\\\n",
       "\\hline\n",
       "\t  9.50  & 138    &  73    & 11     & 276    & 120    & Bad    & 42     & 17     & Yes    & Yes   \\\\\n",
       "\t 11.22  & 111    &  48    & 16     & 260    &  83    & Good   & 65     & 10     & Yes    & Yes   \\\\\n",
       "\t 10.06  & 113    &  35    & 10     & 269    &  80    & Medium & 59     & 12     & Yes    & Yes   \\\\\n",
       "\t  7.40  & 117    & 100    &  4     & 466    &  97    & Medium & 55     & 14     & Yes    & Yes   \\\\\n",
       "\t  4.15  & 141    &  64    &  3     & 340    & 128    & Bad    & 38     & 13     & Yes    & No    \\\\\n",
       "\t 10.81  & 124    & 113    & 13     & 501    &  72    & Bad    & 78     & 16     & No     & Yes   \\\\\n",
       "\\end{tabular}\n"
      ],
      "text/markdown": [
       "\n",
       "| Sales | CompPrice | Income | Advertising | Population | Price | ShelveLoc | Age | Education | Urban | US |\n",
       "|---|---|---|---|---|---|---|---|---|---|---|\n",
       "|  9.50  | 138    |  73    | 11     | 276    | 120    | Bad    | 42     | 17     | Yes    | Yes    |\n",
       "| 11.22  | 111    |  48    | 16     | 260    |  83    | Good   | 65     | 10     | Yes    | Yes    |\n",
       "| 10.06  | 113    |  35    | 10     | 269    |  80    | Medium | 59     | 12     | Yes    | Yes    |\n",
       "|  7.40  | 117    | 100    |  4     | 466    |  97    | Medium | 55     | 14     | Yes    | Yes    |\n",
       "|  4.15  | 141    |  64    |  3     | 340    | 128    | Bad    | 38     | 13     | Yes    | No     |\n",
       "| 10.81  | 124    | 113    | 13     | 501    |  72    | Bad    | 78     | 16     | No     | Yes    |\n",
       "\n"
      ],
      "text/plain": [
       "  Sales CompPrice Income Advertising Population Price ShelveLoc Age Education\n",
       "1  9.50 138        73    11          276        120   Bad       42  17       \n",
       "2 11.22 111        48    16          260         83   Good      65  10       \n",
       "3 10.06 113        35    10          269         80   Medium    59  12       \n",
       "4  7.40 117       100     4          466         97   Medium    55  14       \n",
       "5  4.15 141        64     3          340        128   Bad       38  13       \n",
       "6 10.81 124       113    13          501         72   Bad       78  16       \n",
       "  Urban US \n",
       "1 Yes   Yes\n",
       "2 Yes   Yes\n",
       "3 Yes   Yes\n",
       "4 Yes   Yes\n",
       "5 Yes   No \n",
       "6 No    Yes"
      ]
     },
     "metadata": {},
     "output_type": "display_data"
    }
   ],
   "source": [
    "head(Carseats)"
   ]
  },
  {
   "cell_type": "code",
   "execution_count": 7,
   "metadata": {},
   "outputs": [],
   "source": [
    "test = sample (1:nrow(Carseats), nrow(Carseats)/3)\n",
    "Carseats.train = Carseats[-test,]\n",
    "Carseats.test = Carseats[test,]"
   ]
  },
  {
   "cell_type": "markdown",
   "metadata": {},
   "source": [
    "Fit a regression tree to the training set. Plot the tree, and interpret the results. What test MSE do you obtain?"
   ]
  },
  {
   "cell_type": "code",
   "execution_count": 8,
   "metadata": {},
   "outputs": [
    {
     "data": {
      "image/png": "[encoded data removed]",
      "text/plain": [
       "plot without title"
      ]
     },
     "metadata": {},
     "output_type": "display_data"
    }
   ],
   "source": [
    "tree.carseats = tree(Sales∼., Carseats.train)\n",
    "tree.pred=predict(tree.carseats, Carseats.test)\n",
    "plot(tree.carseats)\n",
    "text(tree.carseats, cex=.5)"
   ]
  },
  {
   "cell_type": "code",
   "execution_count": 9,
   "metadata": {},
   "outputs": [
    {
     "data": {
      "text/html": [
       "5.00155583360291"
      ],
      "text/latex": [
       "5.00155583360291"
      ],
      "text/markdown": [
       "5.00155583360291"
      ],
      "text/plain": [
       "[1] 5.001556"
      ]
     },
     "metadata": {},
     "output_type": "display_data"
    }
   ],
   "source": [
    "mean((tree.pred-Carseats$Sales[test])^2)"
   ]
  },
  {
   "cell_type": "markdown",
   "metadata": {},
   "source": [
    "(c) Use cross-validation in order to determine the optimal level of\n",
    "tree complexity. Does pruning the tree improve the test MSE?"
   ]
  },
  {
   "cell_type": "code",
   "execution_count": 10,
   "metadata": {},
   "outputs": [
    {
     "data": {
      "image/png": "[encoded data removed]",
      "text/plain": [
       "plot without title"
      ]
     },
     "metadata": {},
     "output_type": "display_data"
    }
   ],
   "source": [
    "cv.carseats=cv.tree(tree.carseats)\n",
    "plot(cv.carseats$size ,cv.carseats$dev ,type='b')"
   ]
  },
  {
   "cell_type": "markdown",
   "metadata": {},
   "source": [
    "From plot above size 13, 15 must have minimum error on cv. "
   ]
  },
  {
   "cell_type": "code",
   "execution_count": 11,
   "metadata": {},
   "outputs": [
    {
     "data": {
      "image/png": "[encoded data removed]",
      "text/plain": [
       "plot without title"
      ]
     },
     "metadata": {},
     "output_type": "display_data"
    },
    {
     "data": {
      "image/png": "[encoded data removed]",
      "text/plain": [
       "plot without title"
      ]
     },
     "metadata": {},
     "output_type": "display_data"
    },
    {
     "data": {
      "image/png": "[encoded data removed]",
      "text/plain": [
       "plot without title"
      ]
     },
     "metadata": {},
     "output_type": "display_data"
    },
    {
     "data": {
      "image/png": "[encoded data removed]",
      "text/plain": [
       "plot without title"
      ]
     },
     "metadata": {},
     "output_type": "display_data"
    },
    {
     "data": {
      "image/png": "[encoded data removed]",
      "text/plain": [
       "plot without title"
      ]
     },
     "metadata": {},
     "output_type": "display_data"
    },
    {
     "data": {
      "image/png": "[encoded data removed]",
      "text/plain": [
       "plot without title"
      ]
     },
     "metadata": {},
     "output_type": "display_data"
    },
    {
     "data": {
      "image/png": "[encoded data removed]",
      "text/plain": [
       "plot without title"
      ]
     },
     "metadata": {},
     "output_type": "display_data"
    },
    {
     "data": {
      "image/png": "[encoded data removed]",
      "text/plain": [
       "plot without title"
      ]
     },
     "metadata": {},
     "output_type": "display_data"
    },
    {
     "data": {
      "image/png": "[encoded data removed]",
      "text/plain": [
       "plot without title"
      ]
     },
     "metadata": {},
     "output_type": "display_data"
    },
    {
     "data": {
      "image/png": "[encoded data removed]",
      "text/plain": [
       "plot without title"
      ]
     },
     "metadata": {},
     "output_type": "display_data"
    },
    {
     "data": {
      "image/png": "[encoded data removed]",
      "text/plain": [
       "plot without title"
      ]
     },
     "metadata": {},
     "output_type": "display_data"
    }
   ],
   "source": [
    "n=14\n",
    "num=rep(NA, n)\n",
    "error = rep(NA, n)\n",
    "for(i in 2:n){\n",
    "    prune.carseats=prune.tree(tree.carseats,best=i)\n",
    "    prune.pred=predict(prune.carseats, Carseats.test)\n",
    "    plot(prune.carseats)\n",
    "    text(prune.carseats, cex=.5)\n",
    "    error[i]=mean((prune.pred-Carseats$Sales[test])^2)\n",
    "    }"
   ]
  },
  {
   "cell_type": "code",
   "execution_count": 12,
   "metadata": {
    "scrolled": true
   },
   "outputs": [
    {
     "data": {
      "image/png": "[encoded data removed]",
      "text/plain": [
       "plot without title"
      ]
     },
     "metadata": {},
     "output_type": "display_data"
    }
   ],
   "source": [
    "plot(1:n, error,  xlab = 'n branches', ylab = 'Test MSE', type = 'l', col=\"blue\")"
   ]
  },
  {
   "cell_type": "markdown",
   "metadata": {},
   "source": [
    "For test the best number branches is 9."
   ]
  },
  {
   "cell_type": "code",
   "execution_count": 13,
   "metadata": {},
   "outputs": [
    {
     "data": {
      "text/html": [
       "5.18311819108659"
      ],
      "text/latex": [
       "5.18311819108659"
      ],
      "text/markdown": [
       "5.18311819108659"
      ],
      "text/plain": [
       "[1] 5.183118"
      ]
     },
     "metadata": {},
     "output_type": "display_data"
    },
    {
     "data": {
      "image/png": "[encoded data removed]",
      "text/plain": [
       "plot without title"
      ]
     },
     "metadata": {},
     "output_type": "display_data"
    }
   ],
   "source": [
    "prune.carseats=prune.tree(tree.carseats,best=14)\n",
    "prune.pred=predict(prune.carseats, Carseats.test)\n",
    "plot(prune.carseats)\n",
    "text(prune.carseats, cex=.5)\n",
    "mean((prune.pred-Carseats$Sales[test])^2)"
   ]
  },
  {
   "cell_type": "markdown",
   "metadata": {},
   "source": [
    "(d) Use the bagging approach in order to analyze this data. What\n",
    "test MSE do you obtain? Use the importance() function to determine which variables are most important."
   ]
  },
  {
   "cell_type": "code",
   "execution_count": 14,
   "metadata": {},
   "outputs": [
    {
     "data": {
      "text/plain": [
       "\n",
       "Call:\n",
       " randomForest(formula = Sales ~ ., data = Carseats.train, mtry = 10,      importance = TRUE) \n",
       "               Type of random forest: regression\n",
       "                     Number of trees: 500\n",
       "No. of variables tried at each split: 10\n",
       "\n",
       "          Mean of squared residuals: 2.481788\n",
       "                    % Var explained: 67.45"
      ]
     },
     "metadata": {},
     "output_type": "display_data"
    }
   ],
   "source": [
    "set.seed(1)\n",
    "bag.carseats= randomForest(Sales∼.,data=Carseats.train, mtry=10, importance =TRUE)\n",
    "bag.carseats"
   ]
  },
  {
   "cell_type": "code",
   "execution_count": 15,
   "metadata": {},
   "outputs": [
    {
     "data": {
      "text/html": [
       "2.99579603626562"
      ],
      "text/latex": [
       "2.99579603626562"
      ],
      "text/markdown": [
       "2.99579603626562"
      ],
      "text/plain": [
       "[1] 2.995796"
      ]
     },
     "metadata": {},
     "output_type": "display_data"
    }
   ],
   "source": [
    "pred.carseats = predict(bag.carseats, newdata = Carseats.test)\n",
    "mean((pred.carseats - Carseats$Sales[test])^2)"
   ]
  },
  {
   "cell_type": "markdown",
   "metadata": {},
   "source": [
    "MSE is improved"
   ]
  },
  {
   "cell_type": "code",
   "execution_count": 16,
   "metadata": {},
   "outputs": [
    {
     "data": {
      "text/html": [
       "<table>\n",
       "<thead><tr><th></th><th scope=col>%IncMSE</th><th scope=col>IncNodePurity</th></tr></thead>\n",
       "<tbody>\n",
       "\t<tr><th scope=row>CompPrice</th><td>30.2123568</td><td>197.051896</td></tr>\n",
       "\t<tr><th scope=row>Income</th><td> 9.8707270</td><td>126.184753</td></tr>\n",
       "\t<tr><th scope=row>Advertising</th><td>23.4976350</td><td>147.985578</td></tr>\n",
       "\t<tr><th scope=row>Population</th><td>-2.8748028</td><td> 62.753633</td></tr>\n",
       "\t<tr><th scope=row>Price</th><td>59.3195031</td><td>474.956746</td></tr>\n",
       "\t<tr><th scope=row>ShelveLoc</th><td>73.2325194</td><td>703.720164</td></tr>\n",
       "\t<tr><th scope=row>Age</th><td>20.1758940</td><td>189.682506</td></tr>\n",
       "\t<tr><th scope=row>Education</th><td> 2.1015965</td><td> 63.802962</td></tr>\n",
       "\t<tr><th scope=row>Urban</th><td>-0.5791662</td><td> 10.925591</td></tr>\n",
       "\t<tr><th scope=row>US</th><td> 3.1296417</td><td>  8.842788</td></tr>\n",
       "</tbody>\n",
       "</table>\n"
      ],
      "text/latex": [
       "\\begin{tabular}{r|ll}\n",
       "  & \\%IncMSE & IncNodePurity\\\\\n",
       "\\hline\n",
       "\tCompPrice & 30.2123568 & 197.051896\\\\\n",
       "\tIncome &  9.8707270 & 126.184753\\\\\n",
       "\tAdvertising & 23.4976350 & 147.985578\\\\\n",
       "\tPopulation & -2.8748028 &  62.753633\\\\\n",
       "\tPrice & 59.3195031 & 474.956746\\\\\n",
       "\tShelveLoc & 73.2325194 & 703.720164\\\\\n",
       "\tAge & 20.1758940 & 189.682506\\\\\n",
       "\tEducation &  2.1015965 &  63.802962\\\\\n",
       "\tUrban & -0.5791662 &  10.925591\\\\\n",
       "\tUS &  3.1296417 &   8.842788\\\\\n",
       "\\end{tabular}\n"
      ],
      "text/markdown": [
       "\n",
       "| <!--/--> | %IncMSE | IncNodePurity |\n",
       "|---|---|---|\n",
       "| CompPrice | 30.2123568 | 197.051896 |\n",
       "| Income |  9.8707270 | 126.184753 |\n",
       "| Advertising | 23.4976350 | 147.985578 |\n",
       "| Population | -2.8748028 |  62.753633 |\n",
       "| Price | 59.3195031 | 474.956746 |\n",
       "| ShelveLoc | 73.2325194 | 703.720164 |\n",
       "| Age | 20.1758940 | 189.682506 |\n",
       "| Education |  2.1015965 |  63.802962 |\n",
       "| Urban | -0.5791662 |  10.925591 |\n",
       "| US |  3.1296417 |   8.842788 |\n",
       "\n"
      ],
      "text/plain": [
       "            %IncMSE    IncNodePurity\n",
       "CompPrice   30.2123568 197.051896   \n",
       "Income       9.8707270 126.184753   \n",
       "Advertising 23.4976350 147.985578   \n",
       "Population  -2.8748028  62.753633   \n",
       "Price       59.3195031 474.956746   \n",
       "ShelveLoc   73.2325194 703.720164   \n",
       "Age         20.1758940 189.682506   \n",
       "Education    2.1015965  63.802962   \n",
       "Urban       -0.5791662  10.925591   \n",
       "US           3.1296417   8.842788   "
      ]
     },
     "metadata": {},
     "output_type": "display_data"
    }
   ],
   "source": [
    "importance (bag.carseats)"
   ]
  },
  {
   "cell_type": "code",
   "execution_count": 17,
   "metadata": {},
   "outputs": [
    {
     "data": {
      "image/png": "[encoded data removed]",
      "text/plain": [
       "plot without title"
      ]
     },
     "metadata": {},
     "output_type": "display_data"
    }
   ],
   "source": [
    "varImpPlot(bag.carseats)"
   ]
  },
  {
   "cell_type": "markdown",
   "metadata": {},
   "source": [
    "(e) Use random forests to analyze this data. What test MSE do you\n",
    "obtain? Use the importance() function to determine which variables are most important. Describe the effect of m, the number of\n",
    "variables considered at each split, on the error rate\n",
    "obtained."
   ]
  },
  {
   "cell_type": "code",
   "execution_count": 18,
   "metadata": {},
   "outputs": [],
   "source": [
    "set.seed(1)\n",
    "n=10\n",
    "error=rep(NA, n)\n",
    "for (i in 1:10){\n",
    "rf.carseats= randomForest(Sales∼.,data=Carseats.train, mtry=i, importance =TRUE)\n",
    "rf.carseats\n",
    "pred.carseats = predict(rf.carseats, newdata = Carseats.test)\n",
    "error[i]=mean((pred.carseats - Carseats$Sales[test])^2)\n",
    "}"
   ]
  },
  {
   "cell_type": "code",
   "execution_count": 19,
   "metadata": {},
   "outputs": [
    {
     "data": {
      "image/png": "[encoded data removed]",
      "text/plain": [
       "plot without title"
      ]
     },
     "metadata": {},
     "output_type": "display_data"
    }
   ],
   "source": [
    "plot(1:n, error,  xlab = 'n trees', ylab = 'Test MSE', type = 'l', col=\"blue\")"
   ]
  },
  {
   "cell_type": "code",
   "execution_count": 20,
   "metadata": {},
   "outputs": [
    {
     "data": {
      "text/html": [
       "2.95956051293945"
      ],
      "text/latex": [
       "2.95956051293945"
      ],
      "text/markdown": [
       "2.95956051293945"
      ],
      "text/plain": [
       "[1] 2.959561"
      ]
     },
     "metadata": {},
     "output_type": "display_data"
    }
   ],
   "source": [
    "min(error)"
   ]
  },
  {
   "cell_type": "markdown",
   "metadata": {},
   "source": [
    "## Problem 9"
   ]
  },
  {
   "cell_type": "code",
   "execution_count": 21,
   "metadata": {},
   "outputs": [],
   "source": [
    "?OJ"
   ]
  },
  {
   "cell_type": "code",
   "execution_count": 22,
   "metadata": {},
   "outputs": [
    {
     "data": {
      "text/html": [
       "<table>\n",
       "<thead><tr><th scope=col>Purchase</th><th scope=col>WeekofPurchase</th><th scope=col>StoreID</th><th scope=col>PriceCH</th><th scope=col>PriceMM</th><th scope=col>DiscCH</th><th scope=col>DiscMM</th><th scope=col>SpecialCH</th><th scope=col>SpecialMM</th><th scope=col>LoyalCH</th><th scope=col>SalePriceMM</th><th scope=col>SalePriceCH</th><th scope=col>PriceDiff</th><th scope=col>Store7</th><th scope=col>PctDiscMM</th><th scope=col>PctDiscCH</th><th scope=col>ListPriceDiff</th><th scope=col>STORE</th></tr></thead>\n",
       "<tbody>\n",
       "\t<tr><td>CH      </td><td>237     </td><td>1       </td><td>1.75    </td><td>1.99    </td><td>0.00    </td><td>0.0     </td><td>0       </td><td>0       </td><td>0.500000</td><td>1.99    </td><td>1.75    </td><td> 0.24   </td><td>No      </td><td>0.000000</td><td>0.000000</td><td>0.24    </td><td>1       </td></tr>\n",
       "\t<tr><td>CH      </td><td>239     </td><td>1       </td><td>1.75    </td><td>1.99    </td><td>0.00    </td><td>0.3     </td><td>0       </td><td>1       </td><td>0.600000</td><td>1.69    </td><td>1.75    </td><td>-0.06   </td><td>No      </td><td>0.150754</td><td>0.000000</td><td>0.24    </td><td>1       </td></tr>\n",
       "\t<tr><td>CH      </td><td>245     </td><td>1       </td><td>1.86    </td><td>2.09    </td><td>0.17    </td><td>0.0     </td><td>0       </td><td>0       </td><td>0.680000</td><td>2.09    </td><td>1.69    </td><td> 0.40   </td><td>No      </td><td>0.000000</td><td>0.091398</td><td>0.23    </td><td>1       </td></tr>\n",
       "\t<tr><td>MM      </td><td>227     </td><td>1       </td><td>1.69    </td><td>1.69    </td><td>0.00    </td><td>0.0     </td><td>0       </td><td>0       </td><td>0.400000</td><td>1.69    </td><td>1.69    </td><td> 0.00   </td><td>No      </td><td>0.000000</td><td>0.000000</td><td>0.00    </td><td>1       </td></tr>\n",
       "\t<tr><td>CH      </td><td>228     </td><td>7       </td><td>1.69    </td><td>1.69    </td><td>0.00    </td><td>0.0     </td><td>0       </td><td>0       </td><td>0.956535</td><td>1.69    </td><td>1.69    </td><td> 0.00   </td><td>Yes     </td><td>0.000000</td><td>0.000000</td><td>0.00    </td><td>0       </td></tr>\n",
       "\t<tr><td>CH      </td><td>230     </td><td>7       </td><td>1.69    </td><td>1.99    </td><td>0.00    </td><td>0.0     </td><td>0       </td><td>1       </td><td>0.965228</td><td>1.99    </td><td>1.69    </td><td> 0.30   </td><td>Yes     </td><td>0.000000</td><td>0.000000</td><td>0.30    </td><td>0       </td></tr>\n",
       "</tbody>\n",
       "</table>\n"
      ],
      "text/latex": [
       "\\begin{tabular}{r|llllllllllllllllll}\n",
       " Purchase & WeekofPurchase & StoreID & PriceCH & PriceMM & DiscCH & DiscMM & SpecialCH & SpecialMM & LoyalCH & SalePriceMM & SalePriceCH & PriceDiff & Store7 & PctDiscMM & PctDiscCH & ListPriceDiff & STORE\\\\\n",
       "\\hline\n",
       "\t CH       & 237      & 1        & 1.75     & 1.99     & 0.00     & 0.0      & 0        & 0        & 0.500000 & 1.99     & 1.75     &  0.24    & No       & 0.000000 & 0.000000 & 0.24     & 1       \\\\\n",
       "\t CH       & 239      & 1        & 1.75     & 1.99     & 0.00     & 0.3      & 0        & 1        & 0.600000 & 1.69     & 1.75     & -0.06    & No       & 0.150754 & 0.000000 & 0.24     & 1       \\\\\n",
       "\t CH       & 245      & 1        & 1.86     & 2.09     & 0.17     & 0.0      & 0        & 0        & 0.680000 & 2.09     & 1.69     &  0.40    & No       & 0.000000 & 0.091398 & 0.23     & 1       \\\\\n",
       "\t MM       & 227      & 1        & 1.69     & 1.69     & 0.00     & 0.0      & 0        & 0        & 0.400000 & 1.69     & 1.69     &  0.00    & No       & 0.000000 & 0.000000 & 0.00     & 1       \\\\\n",
       "\t CH       & 228      & 7        & 1.69     & 1.69     & 0.00     & 0.0      & 0        & 0        & 0.956535 & 1.69     & 1.69     &  0.00    & Yes      & 0.000000 & 0.000000 & 0.00     & 0       \\\\\n",
       "\t CH       & 230      & 7        & 1.69     & 1.99     & 0.00     & 0.0      & 0        & 1        & 0.965228 & 1.99     & 1.69     &  0.30    & Yes      & 0.000000 & 0.000000 & 0.30     & 0       \\\\\n",
       "\\end{tabular}\n"
      ],
      "text/markdown": [
       "\n",
       "| Purchase | WeekofPurchase | StoreID | PriceCH | PriceMM | DiscCH | DiscMM | SpecialCH | SpecialMM | LoyalCH | SalePriceMM | SalePriceCH | PriceDiff | Store7 | PctDiscMM | PctDiscCH | ListPriceDiff | STORE |\n",
       "|---|---|---|---|---|---|---|---|---|---|---|---|---|---|---|---|---|---|\n",
       "| CH       | 237      | 1        | 1.75     | 1.99     | 0.00     | 0.0      | 0        | 0        | 0.500000 | 1.99     | 1.75     |  0.24    | No       | 0.000000 | 0.000000 | 0.24     | 1        |\n",
       "| CH       | 239      | 1        | 1.75     | 1.99     | 0.00     | 0.3      | 0        | 1        | 0.600000 | 1.69     | 1.75     | -0.06    | No       | 0.150754 | 0.000000 | 0.24     | 1        |\n",
       "| CH       | 245      | 1        | 1.86     | 2.09     | 0.17     | 0.0      | 0        | 0        | 0.680000 | 2.09     | 1.69     |  0.40    | No       | 0.000000 | 0.091398 | 0.23     | 1        |\n",
       "| MM       | 227      | 1        | 1.69     | 1.69     | 0.00     | 0.0      | 0        | 0        | 0.400000 | 1.69     | 1.69     |  0.00    | No       | 0.000000 | 0.000000 | 0.00     | 1        |\n",
       "| CH       | 228      | 7        | 1.69     | 1.69     | 0.00     | 0.0      | 0        | 0        | 0.956535 | 1.69     | 1.69     |  0.00    | Yes      | 0.000000 | 0.000000 | 0.00     | 0        |\n",
       "| CH       | 230      | 7        | 1.69     | 1.99     | 0.00     | 0.0      | 0        | 1        | 0.965228 | 1.99     | 1.69     |  0.30    | Yes      | 0.000000 | 0.000000 | 0.30     | 0        |\n",
       "\n"
      ],
      "text/plain": [
       "  Purchase WeekofPurchase StoreID PriceCH PriceMM DiscCH DiscMM SpecialCH\n",
       "1 CH       237            1       1.75    1.99    0.00   0.0    0        \n",
       "2 CH       239            1       1.75    1.99    0.00   0.3    0        \n",
       "3 CH       245            1       1.86    2.09    0.17   0.0    0        \n",
       "4 MM       227            1       1.69    1.69    0.00   0.0    0        \n",
       "5 CH       228            7       1.69    1.69    0.00   0.0    0        \n",
       "6 CH       230            7       1.69    1.99    0.00   0.0    0        \n",
       "  SpecialMM LoyalCH  SalePriceMM SalePriceCH PriceDiff Store7 PctDiscMM\n",
       "1 0         0.500000 1.99        1.75         0.24     No     0.000000 \n",
       "2 1         0.600000 1.69        1.75        -0.06     No     0.150754 \n",
       "3 0         0.680000 2.09        1.69         0.40     No     0.000000 \n",
       "4 0         0.400000 1.69        1.69         0.00     No     0.000000 \n",
       "5 0         0.956535 1.69        1.69         0.00     Yes    0.000000 \n",
       "6 1         0.965228 1.99        1.69         0.30     Yes    0.000000 \n",
       "  PctDiscCH ListPriceDiff STORE\n",
       "1 0.000000  0.24          1    \n",
       "2 0.000000  0.24          1    \n",
       "3 0.091398  0.23          1    \n",
       "4 0.000000  0.00          1    \n",
       "5 0.000000  0.00          0    \n",
       "6 0.000000  0.30          0    "
      ]
     },
     "metadata": {},
     "output_type": "display_data"
    }
   ],
   "source": [
    "head(OJ)"
   ]
  },
  {
   "cell_type": "markdown",
   "metadata": {},
   "source": [
    "(a) Create a training set containing a random sample of 800 observations, and a test set containing the remaining observations."
   ]
  },
  {
   "cell_type": "code",
   "execution_count": 23,
   "metadata": {},
   "outputs": [],
   "source": [
    "train = sample (1:nrow(OJ), 800)\n",
    "OJ.train = OJ[train,]\n",
    "OJ.test = OJ[-train,]"
   ]
  },
  {
   "cell_type": "markdown",
   "metadata": {},
   "source": [
    "(b) Fit a tree to the training data, with Purchase as the response\n",
    "and the other variables as predictors. Use the summary() function\n",
    "to produce summary statistics about the tree, and describe the\n",
    "results obtained. What is the training error rate? How many\n",
    "terminal nodes does the tree have?"
   ]
  },
  {
   "cell_type": "code",
   "execution_count": 24,
   "metadata": {},
   "outputs": [
    {
     "data": {
      "text/plain": [
       "\n",
       "Classification tree:\n",
       "tree(formula = Purchase ~ ., data = OJ.train)\n",
       "Variables actually used in tree construction:\n",
       "[1] \"LoyalCH\"     \"PriceDiff\"   \"SalePriceMM\"\n",
       "Number of terminal nodes:  8 \n",
       "Residual mean deviance:  0.7541 = 597.3 / 792 \n",
       "Misclassification error rate: 0.16 = 128 / 800 "
      ]
     },
     "metadata": {},
     "output_type": "display_data"
    }
   ],
   "source": [
    "tree.OJ = tree(Purchase∼., OJ.train)\n",
    "summary(tree.OJ)"
   ]
  },
  {
   "cell_type": "markdown",
   "metadata": {},
   "source": [
    "(c) Type in the name of the tree object in order to get a detailed\n",
    "text output. Pick one of the terminal nodes, and interpret the\n",
    "information displayed."
   ]
  },
  {
   "cell_type": "code",
   "execution_count": 25,
   "metadata": {},
   "outputs": [
    {
     "data": {
      "text/plain": [
       "node), split, n, deviance, yval, (yprob)\n",
       "      * denotes terminal node\n",
       "\n",
       " 1) root 800 1070.00 CH ( 0.61000 0.39000 )  \n",
       "   2) LoyalCH < 0.50395 351  421.30 MM ( 0.28775 0.71225 )  \n",
       "     4) LoyalCH < 0.276142 171  127.40 MM ( 0.12281 0.87719 )  \n",
       "       8) LoyalCH < 0.0356415 59   10.14 MM ( 0.01695 0.98305 ) *\n",
       "       9) LoyalCH > 0.0356415 112  105.10 MM ( 0.17857 0.82143 ) *\n",
       "     5) LoyalCH > 0.276142 180  247.30 MM ( 0.44444 0.55556 )  \n",
       "      10) PriceDiff < 0.065 75   80.28 MM ( 0.22667 0.77333 ) *\n",
       "      11) PriceDiff > 0.065 105  141.30 CH ( 0.60000 0.40000 ) *\n",
       "   3) LoyalCH > 0.50395 449  360.50 CH ( 0.86192 0.13808 )  \n",
       "     6) LoyalCH < 0.753545 184  217.20 CH ( 0.72283 0.27717 )  \n",
       "      12) PriceDiff < -0.165 34   41.19 MM ( 0.29412 0.70588 ) *\n",
       "      13) PriceDiff > -0.165 150  141.40 CH ( 0.82000 0.18000 )  \n",
       "        26) SalePriceMM < 2.125 89  103.80 CH ( 0.73034 0.26966 ) *\n",
       "        27) SalePriceMM > 2.125 61   23.92 CH ( 0.95082 0.04918 ) *\n",
       "     7) LoyalCH > 0.753545 265   91.54 CH ( 0.95849 0.04151 ) *"
      ]
     },
     "metadata": {},
     "output_type": "display_data"
    }
   ],
   "source": [
    "tree.OJ"
   ]
  },
  {
   "cell_type": "markdown",
   "metadata": {},
   "source": [
    "Node 4. The split criterion is Customer brand loyalty for CH juice < 0.276142, number of observations is 171. It is a terminal node because of the asterisk. The deviance is 127.4. About 12% of the observations in that branch take the value of CH, and the remaining 87.7% take the value of MM.\n",
    "\n"
   ]
  },
  {
   "cell_type": "markdown",
   "metadata": {},
   "source": [
    "(d) Create a plot of the tree, and interpret the results"
   ]
  },
  {
   "cell_type": "code",
   "execution_count": 26,
   "metadata": {},
   "outputs": [
    {
     "data": {
      "image/png": "[encoded data removed]",
      "text/plain": [
       "plot without title"
      ]
     },
     "metadata": {},
     "output_type": "display_data"
    }
   ],
   "source": [
    "plot(tree.OJ)\n",
    "text(tree.OJ, cex=.5)"
   ]
  },
  {
   "cell_type": "markdown",
   "metadata": {},
   "source": [
    "(e) Predict the response on the test data, and produce a confusion\n",
    "matrix comparing the test labels to the predicted test labels.\n",
    "What is the test error rate?"
   ]
  },
  {
   "cell_type": "code",
   "execution_count": 27,
   "metadata": {},
   "outputs": [
    {
     "data": {
      "text/plain": [
       "         \n",
       "tree.pred  CH  MM\n",
       "       CH 152  34\n",
       "       MM  13  71"
      ]
     },
     "metadata": {},
     "output_type": "display_data"
    }
   ],
   "source": [
    "tree.pred=predict(tree.OJ, newdata=OJ.test,  type = \"class\")\n",
    "cm=table(tree.pred , OJ.test$Purchase)\n",
    "cm"
   ]
  },
  {
   "cell_type": "code",
   "execution_count": 28,
   "metadata": {},
   "outputs": [
    {
     "data": {
      "text/html": [
       "0.174074074074074"
      ],
      "text/latex": [
       "0.174074074074074"
      ],
      "text/markdown": [
       "0.174074074074074"
      ],
      "text/plain": [
       "[1] 0.1740741"
      ]
     },
     "metadata": {},
     "output_type": "display_data"
    }
   ],
   "source": [
    "#Misclassified\n",
    "(cm[2]+cm[3])/dim(OJ.test)[1]"
   ]
  },
  {
   "cell_type": "markdown",
   "metadata": {},
   "source": [
    "(f) Apply the cv.tree() function to the training set in order to\n",
    "determine the optimal tree size.\n"
   ]
  },
  {
   "cell_type": "code",
   "execution_count": 29,
   "metadata": {},
   "outputs": [
    {
     "data": {
      "text/plain": [
       "$size\n",
       "[1] 8 6 4 2 1\n",
       "\n",
       "$dev\n",
       "[1] 140 140 158 170 312\n",
       "\n",
       "$k\n",
       "[1]  -Inf   0.0   7.0  10.5 149.0\n",
       "\n",
       "$method\n",
       "[1] \"misclass\"\n",
       "\n",
       "attr(,\"class\")\n",
       "[1] \"prune\"         \"tree.sequence\""
      ]
     },
     "metadata": {},
     "output_type": "display_data"
    }
   ],
   "source": [
    "cv.OJ=cv.tree(tree.OJ, FUN = prune.misclass)\n",
    "cv.OJ"
   ]
  },
  {
   "cell_type": "markdown",
   "metadata": {},
   "source": [
    "(g) Produce a plot with tree size on the x-axis and cross-validated\n",
    "classification error rate on the y-axis."
   ]
  },
  {
   "cell_type": "code",
   "execution_count": 30,
   "metadata": {},
   "outputs": [
    {
     "data": {
      "image/png": "[encoded data removed]",
      "text/plain": [
       "plot without title"
      ]
     },
     "metadata": {},
     "output_type": "display_data"
    }
   ],
   "source": [
    "plot(cv.OJ$size ,cv.OJ$dev ,type='b')"
   ]
  },
  {
   "cell_type": "markdown",
   "metadata": {},
   "source": [
    "(h) Which tree size corresponds to the lowest cross-validated classification error rate?\n",
    "\n",
    "size 4"
   ]
  },
  {
   "cell_type": "markdown",
   "metadata": {},
   "source": [
    "(i) Produce a pruned tree corresponding to the optimal tree size\n",
    "obtained using cross-validation. If cross-validation does not lead\n",
    "to selection of a pruned tree, then create a pruned tree with five\n",
    "terminal nodes"
   ]
  },
  {
   "cell_type": "code",
   "execution_count": 41,
   "metadata": {},
   "outputs": [
    {
     "data": {
      "text/plain": [
       "          \n",
       "prune.pred  CH  MM\n",
       "        CH 152  34\n",
       "        MM  13  71"
      ]
     },
     "metadata": {},
     "output_type": "display_data"
    }
   ],
   "source": [
    "prune.OJ=prune.tree(tree.OJ,best=6)\n",
    "prune.pred=predict(prune.OJ, OJ.test, type='class')\n",
    "cm=table(prune.pred , OJ.test$Purchase)\n",
    "cm"
   ]
  },
  {
   "cell_type": "code",
   "execution_count": 42,
   "metadata": {},
   "outputs": [
    {
     "data": {
      "text/html": [
       "0.174074074074074"
      ],
      "text/latex": [
       "0.174074074074074"
      ],
      "text/markdown": [
       "0.174074074074074"
      ],
      "text/plain": [
       "[1] 0.1740741"
      ]
     },
     "metadata": {},
     "output_type": "display_data"
    }
   ],
   "source": [
    "#Misclassified\n",
    "(cm[2]+cm[3])/dim(OJ.test)[1]"
   ]
  },
  {
   "cell_type": "markdown",
   "metadata": {},
   "source": [
    "(j) Compare the training error rates between the pruned and unpruned trees. Which is higher?"
   ]
  },
  {
   "cell_type": "code",
   "execution_count": 33,
   "metadata": {},
   "outputs": [
    {
     "data": {
      "text/plain": [
       "\n",
       "Classification tree:\n",
       "snip.tree(tree = tree.OJ, nodes = 4:6)\n",
       "Variables actually used in tree construction:\n",
       "[1] \"LoyalCH\"\n",
       "Number of terminal nodes:  4 \n",
       "Residual mean deviance:  0.8586 = 683.4 / 796 \n",
       "Misclassification error rate: 0.2037 = 163 / 800 "
      ]
     },
     "metadata": {},
     "output_type": "display_data"
    }
   ],
   "source": [
    "summary(prune.OJ)"
   ]
  },
  {
   "cell_type": "code",
   "execution_count": 34,
   "metadata": {},
   "outputs": [
    {
     "data": {
      "text/plain": [
       "\n",
       "Classification tree:\n",
       "tree(formula = Purchase ~ ., data = OJ.train)\n",
       "Variables actually used in tree construction:\n",
       "[1] \"LoyalCH\"     \"PriceDiff\"   \"SalePriceMM\"\n",
       "Number of terminal nodes:  8 \n",
       "Residual mean deviance:  0.7541 = 597.3 / 792 \n",
       "Misclassification error rate: 0.16 = 128 / 800 "
      ]
     },
     "metadata": {},
     "output_type": "display_data"
    }
   ],
   "source": [
    "summary(tree.OJ)"
   ]
  },
  {
   "cell_type": "markdown",
   "metadata": {},
   "source": [
    "For pruned tree misclassification train error is a bit higher"
   ]
  },
  {
   "cell_type": "markdown",
   "metadata": {},
   "source": [
    "(k) Compare the test error rates between the pruned and unpruned\n",
    "trees. Which is higher?"
   ]
  },
  {
   "cell_type": "markdown",
   "metadata": {},
   "source": [
    "Test error is the same for pruned tree"
   ]
  },
  {
   "cell_type": "markdown",
   "metadata": {},
   "source": [
    "## Problem 10"
   ]
  },
  {
   "cell_type": "code",
   "execution_count": 74,
   "metadata": {},
   "outputs": [
    {
     "data": {
      "text/html": [
       "<table>\n",
       "<thead><tr><th></th><th scope=col>AtBat</th><th scope=col>Hits</th><th scope=col>HmRun</th><th scope=col>Runs</th><th scope=col>RBI</th><th scope=col>Walks</th><th scope=col>Years</th><th scope=col>CAtBat</th><th scope=col>CHits</th><th scope=col>CHmRun</th><th scope=col>CRuns</th><th scope=col>CRBI</th><th scope=col>CWalks</th><th scope=col>League</th><th scope=col>Division</th><th scope=col>PutOuts</th><th scope=col>Assists</th><th scope=col>Errors</th><th scope=col>Salary</th><th scope=col>NewLeague</th></tr></thead>\n",
       "<tbody>\n",
       "\t<tr><th scope=row>-Andy Allanson</th><td>293  </td><td> 66  </td><td> 1   </td><td>30   </td><td>29   </td><td>14   </td><td> 1   </td><td> 293 </td><td>  66 </td><td>  1  </td><td> 30  </td><td> 29  </td><td> 14  </td><td>A    </td><td>E    </td><td>446  </td><td> 33  </td><td>20   </td><td>   NA</td><td>A    </td></tr>\n",
       "\t<tr><th scope=row>-Alan Ashby</th><td>315  </td><td> 81  </td><td> 7   </td><td>24   </td><td>38   </td><td>39   </td><td>14   </td><td>3449 </td><td> 835 </td><td> 69  </td><td>321  </td><td>414  </td><td>375  </td><td>N    </td><td>W    </td><td>632  </td><td> 43  </td><td>10   </td><td>475.0</td><td>N    </td></tr>\n",
       "\t<tr><th scope=row>-Alvin Davis</th><td>479  </td><td>130  </td><td>18   </td><td>66   </td><td>72   </td><td>76   </td><td> 3   </td><td>1624 </td><td> 457 </td><td> 63  </td><td>224  </td><td>266  </td><td>263  </td><td>A    </td><td>W    </td><td>880  </td><td> 82  </td><td>14   </td><td>480.0</td><td>A    </td></tr>\n",
       "\t<tr><th scope=row>-Andre Dawson</th><td>496  </td><td>141  </td><td>20   </td><td>65   </td><td>78   </td><td>37   </td><td>11   </td><td>5628 </td><td>1575 </td><td>225  </td><td>828  </td><td>838  </td><td>354  </td><td>N    </td><td>E    </td><td>200  </td><td> 11  </td><td> 3   </td><td>500.0</td><td>N    </td></tr>\n",
       "\t<tr><th scope=row>-Andres Galarraga</th><td>321  </td><td> 87  </td><td>10   </td><td>39   </td><td>42   </td><td>30   </td><td> 2   </td><td> 396 </td><td> 101 </td><td> 12  </td><td> 48  </td><td> 46  </td><td> 33  </td><td>N    </td><td>E    </td><td>805  </td><td> 40  </td><td> 4   </td><td> 91.5</td><td>N    </td></tr>\n",
       "\t<tr><th scope=row>-Alfredo Griffin</th><td>594  </td><td>169  </td><td> 4   </td><td>74   </td><td>51   </td><td>35   </td><td>11   </td><td>4408 </td><td>1133 </td><td> 19  </td><td>501  </td><td>336  </td><td>194  </td><td>A    </td><td>W    </td><td>282  </td><td>421  </td><td>25   </td><td>750.0</td><td>A    </td></tr>\n",
       "</tbody>\n",
       "</table>\n"
      ],
      "text/latex": [
       "\\begin{tabular}{r|llllllllllllllllllll}\n",
       "  & AtBat & Hits & HmRun & Runs & RBI & Walks & Years & CAtBat & CHits & CHmRun & CRuns & CRBI & CWalks & League & Division & PutOuts & Assists & Errors & Salary & NewLeague\\\\\n",
       "\\hline\n",
       "\t-Andy Allanson & 293   &  66   &  1    & 30    & 29    & 14    &  1    &  293  &   66  &   1   &  30   &  29   &  14   & A     & E     & 446   &  33   & 20    &    NA & A    \\\\\n",
       "\t-Alan Ashby & 315   &  81   &  7    & 24    & 38    & 39    & 14    & 3449  &  835  &  69   & 321   & 414   & 375   & N     & W     & 632   &  43   & 10    & 475.0 & N    \\\\\n",
       "\t-Alvin Davis & 479   & 130   & 18    & 66    & 72    & 76    &  3    & 1624  &  457  &  63   & 224   & 266   & 263   & A     & W     & 880   &  82   & 14    & 480.0 & A    \\\\\n",
       "\t-Andre Dawson & 496   & 141   & 20    & 65    & 78    & 37    & 11    & 5628  & 1575  & 225   & 828   & 838   & 354   & N     & E     & 200   &  11   &  3    & 500.0 & N    \\\\\n",
       "\t-Andres Galarraga & 321   &  87   & 10    & 39    & 42    & 30    &  2    &  396  &  101  &  12   &  48   &  46   &  33   & N     & E     & 805   &  40   &  4    &  91.5 & N    \\\\\n",
       "\t-Alfredo Griffin & 594   & 169   &  4    & 74    & 51    & 35    & 11    & 4408  & 1133  &  19   & 501   & 336   & 194   & A     & W     & 282   & 421   & 25    & 750.0 & A    \\\\\n",
       "\\end{tabular}\n"
      ],
      "text/markdown": [
       "\n",
       "| <!--/--> | AtBat | Hits | HmRun | Runs | RBI | Walks | Years | CAtBat | CHits | CHmRun | CRuns | CRBI | CWalks | League | Division | PutOuts | Assists | Errors | Salary | NewLeague |\n",
       "|---|---|---|---|---|---|---|---|---|---|---|---|---|---|---|---|---|---|---|---|---|\n",
       "| -Andy Allanson | 293   |  66   |  1    | 30    | 29    | 14    |  1    |  293  |   66  |   1   |  30   |  29   |  14   | A     | E     | 446   |  33   | 20    |    NA | A     |\n",
       "| -Alan Ashby | 315   |  81   |  7    | 24    | 38    | 39    | 14    | 3449  |  835  |  69   | 321   | 414   | 375   | N     | W     | 632   |  43   | 10    | 475.0 | N     |\n",
       "| -Alvin Davis | 479   | 130   | 18    | 66    | 72    | 76    |  3    | 1624  |  457  |  63   | 224   | 266   | 263   | A     | W     | 880   |  82   | 14    | 480.0 | A     |\n",
       "| -Andre Dawson | 496   | 141   | 20    | 65    | 78    | 37    | 11    | 5628  | 1575  | 225   | 828   | 838   | 354   | N     | E     | 200   |  11   |  3    | 500.0 | N     |\n",
       "| -Andres Galarraga | 321   |  87   | 10    | 39    | 42    | 30    |  2    |  396  |  101  |  12   |  48   |  46   |  33   | N     | E     | 805   |  40   |  4    |  91.5 | N     |\n",
       "| -Alfredo Griffin | 594   | 169   |  4    | 74    | 51    | 35    | 11    | 4408  | 1133  |  19   | 501   | 336   | 194   | A     | W     | 282   | 421   | 25    | 750.0 | A     |\n",
       "\n"
      ],
      "text/plain": [
       "                  AtBat Hits HmRun Runs RBI Walks Years CAtBat CHits CHmRun\n",
       "-Andy Allanson    293    66   1    30   29  14     1     293     66    1   \n",
       "-Alan Ashby       315    81   7    24   38  39    14    3449    835   69   \n",
       "-Alvin Davis      479   130  18    66   72  76     3    1624    457   63   \n",
       "-Andre Dawson     496   141  20    65   78  37    11    5628   1575  225   \n",
       "-Andres Galarraga 321    87  10    39   42  30     2     396    101   12   \n",
       "-Alfredo Griffin  594   169   4    74   51  35    11    4408   1133   19   \n",
       "                  CRuns CRBI CWalks League Division PutOuts Assists Errors\n",
       "-Andy Allanson     30    29   14    A      E        446      33     20    \n",
       "-Alan Ashby       321   414  375    N      W        632      43     10    \n",
       "-Alvin Davis      224   266  263    A      W        880      82     14    \n",
       "-Andre Dawson     828   838  354    N      E        200      11      3    \n",
       "-Andres Galarraga  48    46   33    N      E        805      40      4    \n",
       "-Alfredo Griffin  501   336  194    A      W        282     421     25    \n",
       "                  Salary NewLeague\n",
       "-Andy Allanson       NA  A        \n",
       "-Alan Ashby       475.0  N        \n",
       "-Alvin Davis      480.0  A        \n",
       "-Andre Dawson     500.0  N        \n",
       "-Andres Galarraga  91.5  N        \n",
       "-Alfredo Griffin  750.0  A        "
      ]
     },
     "metadata": {},
     "output_type": "display_data"
    }
   ],
   "source": [
    "head(Hitters)"
   ]
  },
  {
   "cell_type": "markdown",
   "metadata": {},
   "source": [
    "(a) Remove the observations for whom the salary information is\n",
    "unknown, and then log-transform the salaries."
   ]
  },
  {
   "cell_type": "code",
   "execution_count": 75,
   "metadata": {},
   "outputs": [],
   "source": [
    "df_Hitters=Hitters[!is.na(Hitters$Salary), ]\n",
    "df_Hitters$Salary = log(df_Hitters$Salary)"
   ]
  },
  {
   "cell_type": "markdown",
   "metadata": {},
   "source": [
    "b) Create a training set consisting of the first 200 observations, and\n",
    "a test set consisting of the remaining observations"
   ]
  },
  {
   "cell_type": "code",
   "execution_count": 76,
   "metadata": {},
   "outputs": [],
   "source": [
    "train=1:200\n",
    "df_train=df_Hitters[train,]\n",
    "df_test = df_Hitters[-train,]"
   ]
  },
  {
   "cell_type": "markdown",
   "metadata": {},
   "source": [
    "(c) Perform boosting on the training set with 1,000 trees for a range\n",
    "of values of the shrinkage parameter λ. Produce a plot with\n",
    "different shrinkage values on the x-axis and the corresponding\n",
    "training set MSE on the y-axis"
   ]
  },
  {
   "cell_type": "code",
   "execution_count": 104,
   "metadata": {},
   "outputs": [
    {
     "data": {
      "image/png": "[encoded data removed]",
      "text/plain": [
       "plot without title"
      ]
     },
     "metadata": {},
     "output_type": "display_data"
    }
   ],
   "source": [
    "set.seed(1)\n",
    "error=rep(NA, 5)\n",
    "for(i in 1:5){\n",
    "    lambda = c(0.1, 0.05, 0.01, 0.005, 0.001)\n",
    "    boost.Hitters=gbm(Salary ∼.,data=df_train, distribution=\"gaussian\", n.trees=1000, interaction.depth=4, shrinkage = lambda[i])\n",
    "    pred = predict(boost.Hitters, df_train, n.trees=1000)\n",
    "    error[i] = mean((pred-df_train$Salary)^2)\n",
    "}\n",
    "plot(lambda, error, xlab = 'lambda', ylab = 'Train MSE', type = 'l', col=\"blue\")"
   ]
  },
  {
   "cell_type": "code",
   "execution_count": 105,
   "metadata": {},
   "outputs": [
    {
     "data": {
      "text/html": [
       "0.00153719637219674"
      ],
      "text/latex": [
       "0.00153719637219674"
      ],
      "text/markdown": [
       "0.00153719637219674"
      ],
      "text/plain": [
       "[1] 0.001537196"
      ]
     },
     "metadata": {},
     "output_type": "display_data"
    },
    {
     "data": {
      "text/html": [
       "1"
      ],
      "text/latex": [
       "1"
      ],
      "text/markdown": [
       "1"
      ],
      "text/plain": [
       "[1] 1"
      ]
     },
     "metadata": {},
     "output_type": "display_data"
    }
   ],
   "source": [
    "min(error)\n",
    "which.min(error)"
   ]
  },
  {
   "cell_type": "markdown",
   "metadata": {},
   "source": [
    "(d)Produce a plot with different shrinkage values on the x-axis and the corresponding test set MSE on the y-axis."
   ]
  },
  {
   "cell_type": "code",
   "execution_count": 80,
   "metadata": {},
   "outputs": [
    {
     "data": {
      "image/png": "[encoded data removed]",
      "text/plain": [
       "plot without title"
      ]
     },
     "metadata": {},
     "output_type": "display_data"
    }
   ],
   "source": [
    "set.seed(1)\n",
    "error=rep(NA, 5)\n",
    "for(i in 1:5){\n",
    "    lambda = c(0.1, 0.05, 0.01, 0.005, 0.001)\n",
    "    boost.Hitters=gbm(Salary ∼.,data=df_train, distribution=\"gaussian\", n.trees=1000, interaction.depth=4, shrinkage = lambda[i])\n",
    "    pred = predict(boost.Hitters, df_test, n.trees=1000)\n",
    "    error[i] = mean((pred-df_test$Salary)^2)\n",
    "}\n",
    "plot(lambda, error, xlab = 'lambda', ylab = 'Test MSE', type = 'l', col=\"blue\")"
   ]
  },
  {
   "cell_type": "code",
   "execution_count": 81,
   "metadata": {},
   "outputs": [
    {
     "data": {
      "text/html": [
       "0.27114582381248"
      ],
      "text/latex": [
       "0.27114582381248"
      ],
      "text/markdown": [
       "0.27114582381248"
      ],
      "text/plain": [
       "[1] 0.2711458"
      ]
     },
     "metadata": {},
     "output_type": "display_data"
    },
    {
     "data": {
      "text/html": [
       "0.05"
      ],
      "text/latex": [
       "0.05"
      ],
      "text/markdown": [
       "0.05"
      ],
      "text/plain": [
       "[1] 0.05"
      ]
     },
     "metadata": {},
     "output_type": "display_data"
    }
   ],
   "source": [
    "min(error)\n",
    "lambda[which.min(error)]"
   ]
  },
  {
   "cell_type": "markdown",
   "metadata": {},
   "source": [
    "(e) Compare the test MSE of boosting to the test MSE that results\n",
    "from applying two of the regression approaches seen in\n",
    "Chapters 3 and 6."
   ]
  },
  {
   "cell_type": "code",
   "execution_count": 82,
   "metadata": {},
   "outputs": [
    {
     "data": {
      "text/html": [
       "0.491795937545494"
      ],
      "text/latex": [
       "0.491795937545494"
      ],
      "text/markdown": [
       "0.491795937545494"
      ],
      "text/plain": [
       "[1] 0.4917959"
      ]
     },
     "metadata": {},
     "output_type": "display_data"
    }
   ],
   "source": [
    "lm.fit = lm(Salary ~ ., data = df_train)\n",
    "pred1 = predict(lm.fit, df_test)\n",
    "mean((pred1 - df_test$Salary)^2)"
   ]
  },
  {
   "cell_type": "code",
   "execution_count": 89,
   "metadata": {},
   "outputs": [
    {
     "data": {
      "text/html": [
       "0.448566846782902"
      ],
      "text/latex": [
       "0.448566846782902"
      ],
      "text/markdown": [
       "0.448566846782902"
      ],
      "text/plain": [
       "[1] 0.4485668"
      ]
     },
     "metadata": {},
     "output_type": "display_data"
    }
   ],
   "source": [
    "m = model.matrix(Salary ~ ., data = df_train)\n",
    "m.test = model.matrix(Salary ~ ., data = df_test)\n",
    "y = df_train$Salary\n",
    "lasso.fit = glmnet(m, y, alpha = 1)\n",
    "lasso_pred = predict(lasso.fit, s = 0.05, newx = m.test)\n",
    "mean((lasso_pred - df_test$Salary)^2)"
   ]
  },
  {
   "cell_type": "markdown",
   "metadata": {},
   "source": [
    "Linear regression and Lasso errors are larger on test than for boosting "
   ]
  },
  {
   "cell_type": "markdown",
   "metadata": {},
   "source": [
    "(f) Which variables appear to be the most important predictors in\n",
    "the boosted model?"
   ]
  },
  {
   "cell_type": "code",
   "execution_count": 95,
   "metadata": {},
   "outputs": [
    {
     "data": {
      "text/html": [
       "<table>\n",
       "<thead><tr><th></th><th scope=col>var</th><th scope=col>rel.inf</th></tr></thead>\n",
       "<tbody>\n",
       "\t<tr><th scope=row>CAtBat</th><td>CAtBat    </td><td>16.2340222</td></tr>\n",
       "\t<tr><th scope=row>CHits</th><td>CHits     </td><td>12.1414560</td></tr>\n",
       "\t<tr><th scope=row>CWalks</th><td>CWalks    </td><td> 9.5498092</td></tr>\n",
       "\t<tr><th scope=row>CRBI</th><td>CRBI      </td><td> 9.5415780</td></tr>\n",
       "\t<tr><th scope=row>Years</th><td>Years     </td><td> 6.7652337</td></tr>\n",
       "\t<tr><th scope=row>PutOuts</th><td>PutOuts   </td><td> 6.7516744</td></tr>\n",
       "\t<tr><th scope=row>Walks</th><td>Walks     </td><td> 5.9215654</td></tr>\n",
       "\t<tr><th scope=row>CHmRun</th><td>CHmRun    </td><td> 5.5354326</td></tr>\n",
       "\t<tr><th scope=row>RBI</th><td>RBI       </td><td> 4.7670135</td></tr>\n",
       "\t<tr><th scope=row>CRuns</th><td>CRuns     </td><td> 3.9740767</td></tr>\n",
       "\t<tr><th scope=row>Hits</th><td>Hits      </td><td> 3.6776301</td></tr>\n",
       "\t<tr><th scope=row>Assists</th><td>Assists   </td><td> 3.1692773</td></tr>\n",
       "\t<tr><th scope=row>HmRun</th><td>HmRun     </td><td> 3.0897062</td></tr>\n",
       "\t<tr><th scope=row>AtBat</th><td>AtBat     </td><td> 2.9757632</td></tr>\n",
       "\t<tr><th scope=row>Runs</th><td>Runs      </td><td> 2.4217247</td></tr>\n",
       "\t<tr><th scope=row>Errors</th><td>Errors    </td><td> 2.1579447</td></tr>\n",
       "\t<tr><th scope=row>NewLeague</th><td>NewLeague </td><td> 0.5299279</td></tr>\n",
       "\t<tr><th scope=row>Division</th><td>Division  </td><td> 0.5219339</td></tr>\n",
       "\t<tr><th scope=row>League</th><td>League    </td><td> 0.2742304</td></tr>\n",
       "</tbody>\n",
       "</table>\n"
      ],
      "text/latex": [
       "\\begin{tabular}{r|ll}\n",
       "  & var & rel.inf\\\\\n",
       "\\hline\n",
       "\tCAtBat & CAtBat     & 16.2340222\\\\\n",
       "\tCHits & CHits      & 12.1414560\\\\\n",
       "\tCWalks & CWalks     &  9.5498092\\\\\n",
       "\tCRBI & CRBI       &  9.5415780\\\\\n",
       "\tYears & Years      &  6.7652337\\\\\n",
       "\tPutOuts & PutOuts    &  6.7516744\\\\\n",
       "\tWalks & Walks      &  5.9215654\\\\\n",
       "\tCHmRun & CHmRun     &  5.5354326\\\\\n",
       "\tRBI & RBI        &  4.7670135\\\\\n",
       "\tCRuns & CRuns      &  3.9740767\\\\\n",
       "\tHits & Hits       &  3.6776301\\\\\n",
       "\tAssists & Assists    &  3.1692773\\\\\n",
       "\tHmRun & HmRun      &  3.0897062\\\\\n",
       "\tAtBat & AtBat      &  2.9757632\\\\\n",
       "\tRuns & Runs       &  2.4217247\\\\\n",
       "\tErrors & Errors     &  2.1579447\\\\\n",
       "\tNewLeague & NewLeague  &  0.5299279\\\\\n",
       "\tDivision & Division   &  0.5219339\\\\\n",
       "\tLeague & League     &  0.2742304\\\\\n",
       "\\end{tabular}\n"
      ],
      "text/markdown": [
       "\n",
       "| <!--/--> | var | rel.inf |\n",
       "|---|---|---|\n",
       "| CAtBat | CAtBat     | 16.2340222 |\n",
       "| CHits | CHits      | 12.1414560 |\n",
       "| CWalks | CWalks     |  9.5498092 |\n",
       "| CRBI | CRBI       |  9.5415780 |\n",
       "| Years | Years      |  6.7652337 |\n",
       "| PutOuts | PutOuts    |  6.7516744 |\n",
       "| Walks | Walks      |  5.9215654 |\n",
       "| CHmRun | CHmRun     |  5.5354326 |\n",
       "| RBI | RBI        |  4.7670135 |\n",
       "| CRuns | CRuns      |  3.9740767 |\n",
       "| Hits | Hits       |  3.6776301 |\n",
       "| Assists | Assists    |  3.1692773 |\n",
       "| HmRun | HmRun      |  3.0897062 |\n",
       "| AtBat | AtBat      |  2.9757632 |\n",
       "| Runs | Runs       |  2.4217247 |\n",
       "| Errors | Errors     |  2.1579447 |\n",
       "| NewLeague | NewLeague  |  0.5299279 |\n",
       "| Division | Division   |  0.5219339 |\n",
       "| League | League     |  0.2742304 |\n",
       "\n"
      ],
      "text/plain": [
       "          var       rel.inf   \n",
       "CAtBat    CAtBat    16.2340222\n",
       "CHits     CHits     12.1414560\n",
       "CWalks    CWalks     9.5498092\n",
       "CRBI      CRBI       9.5415780\n",
       "Years     Years      6.7652337\n",
       "PutOuts   PutOuts    6.7516744\n",
       "Walks     Walks      5.9215654\n",
       "CHmRun    CHmRun     5.5354326\n",
       "RBI       RBI        4.7670135\n",
       "CRuns     CRuns      3.9740767\n",
       "Hits      Hits       3.6776301\n",
       "Assists   Assists    3.1692773\n",
       "HmRun     HmRun      3.0897062\n",
       "AtBat     AtBat      2.9757632\n",
       "Runs      Runs       2.4217247\n",
       "Errors    Errors     2.1579447\n",
       "NewLeague NewLeague  0.5299279\n",
       "Division  Division   0.5219339\n",
       "League    League     0.2742304"
      ]
     },
     "metadata": {},
     "output_type": "display_data"
    },
    {
     "data": {
      "image/png": "[encoded data removed]",
      "text/plain": [
       "plot without title"
      ]
     },
     "metadata": {},
     "output_type": "display_data"
    }
   ],
   "source": [
    "boost.hitters <- gbm(Salary ~ ., data = df_train, distribution = \"gaussian\", n.trees = 1000, shrinkage = lambda[which.min(error)])\n",
    "summary(boost.hitters)"
   ]
  },
  {
   "cell_type": "markdown",
   "metadata": {},
   "source": [
    "CatBat is most impotant feature"
   ]
  },
  {
   "cell_type": "markdown",
   "metadata": {},
   "source": [
    "(g) Now apply bagging to the training set. What is the test set MSE\n",
    "for this approach?"
   ]
  },
  {
   "cell_type": "code",
   "execution_count": 101,
   "metadata": {},
   "outputs": [
    {
     "data": {
      "text/plain": [
       "\n",
       "Call:\n",
       " randomForest(formula = Salary ~ ., data = df_train, mtry = 19,      importance = TRUE) \n",
       "               Type of random forest: regression\n",
       "                     Number of trees: 500\n",
       "No. of variables tried at each split: 19\n",
       "\n",
       "          Mean of squared residuals: 0.2178554\n",
       "                    % Var explained: 73.82"
      ]
     },
     "metadata": {},
     "output_type": "display_data"
    }
   ],
   "source": [
    "set.seed(1)\n",
    "bag.hitters= randomForest(Salary∼.,data=df_train, mtry=19, importance =TRUE)\n",
    "bag.hitters"
   ]
  },
  {
   "cell_type": "code",
   "execution_count": 103,
   "metadata": {},
   "outputs": [
    {
     "data": {
      "text/html": [
       "0.230118355301682"
      ],
      "text/latex": [
       "0.230118355301682"
      ],
      "text/markdown": [
       "0.230118355301682"
      ],
      "text/plain": [
       "[1] 0.2301184"
      ]
     },
     "metadata": {},
     "output_type": "display_data"
    }
   ],
   "source": [
    "pred.hitters = predict(bag.hitters, newdata = df_test)\n",
    "mean((pred.hitters - df_test$Salary)^2)"
   ]
  },
  {
   "cell_type": "markdown",
   "metadata": {},
   "source": [
    "Bagging gives a bit lower error on test and higher on train. Boosting is overfitting more on training."
   ]
  }
 ],
 "metadata": {
  "kernelspec": {
   "display_name": "R",
   "language": "R",
   "name": "ir"
  },
  "language_info": {
   "codemirror_mode": "r",
   "file_extension": ".r",
   "mimetype": "text/x-r-source",
   "name": "R",
   "pygments_lexer": "r",
   "version": "3.6.1"
  }
 },
 "nbformat": 4,
 "nbformat_minor": 4
}
