{
 "cells": [
  {
   "cell_type": "markdown",
   "metadata": {},
   "source": [
    "# Chapter 2"
   ]
  },
  {
   "cell_type": "markdown",
   "metadata": {},
   "source": [
    "## Problem 1"
   ]
  },
  {
   "cell_type": "markdown",
   "metadata": {},
   "source": [
    "For each of parts (a) through (d), indicate whether we would generally\n",
    "expect the performance of a flexible statistical learning method to be\n",
    "better or worse than an inflexible method. Justify your answer."
   ]
  },
  {
   "cell_type": "markdown",
   "metadata": {},
   "source": [
    "(a) The sample size n is extremely large, and the number of predictors p is small.\n",
    "\n",
    "Flexible method is better"
   ]
  },
  {
   "cell_type": "markdown",
   "metadata": {},
   "source": [
    "(b) The number of predictors p is extremely large, and the number\n",
    "of observations n is small.\n",
    "\n",
    "worse"
   ]
  },
  {
   "cell_type": "markdown",
   "metadata": {},
   "source": [
    "(c) The relationship between the predictors and response is highly\n",
    "non-linear.\n",
    " \n",
    "better"
   ]
  },
  {
   "cell_type": "markdown",
   "metadata": {},
   "source": [
    "(d)  The variance of the error terms, i.e. σ2 = Var(), is extremely high.\n",
    "\n",
    "worse"
   ]
  },
  {
   "cell_type": "markdown",
   "metadata": {},
   "source": [
    "## Problem 2"
   ]
  },
  {
   "cell_type": "markdown",
   "metadata": {},
   "source": [
    "2. Explain whether each scenario is a classification or regression problem, and indicate whether we are most interested in inference or prediction. Finally, provide n and p.\n",
    "\n",
    "(a) We collect a set of data on the top 500 firms in the US. For each\n",
    "firm we record profit, number of employees, industry and the\n",
    "CEO salary. We are interested in understanding which factors\n",
    "affect CEO salary.\n",
    "\n",
    "Regression, salary is numerical, n=500, p=3\n",
    "\n",
    "(b) We are considering launching a new product and wish to know\n",
    "whether it will be a success or a failure. We collect data on 20\n",
    "similar products that were previously launched. For each product we have recorded whether it was a success or failure, price\n",
    "charged for the product, marketing budget, competition price,\n",
    "and ten other variables.\n",
    "\n",
    "Classification, success or a failure are not numerical, n=20, p=13\n",
    "\n",
    "(c) We are interested in predicting the % change in the USD/Euro\n",
    "exchange rate in relation to the weekly changes in the world\n",
    "stock markets. Hence we collect weekly data for all of 2012. For\n",
    "each week we record the % change in the USD/Euro, the %\n",
    "change in the US market, the % change in the British market,\n",
    "and the % change in the German market.\n",
    "\n",
    "Regression, n=52, p=3"
   ]
  },
  {
   "cell_type": "markdown",
   "metadata": {},
   "source": [
    "## Problem 5"
   ]
  },
  {
   "cell_type": "markdown",
   "metadata": {},
   "source": [
    "What are the advantages and disadvantages of a very flexible (versus\n",
    "a less flexible) approach for regression or classification? Under what\n",
    "circumstances might a more flexible approach be preferred to a less\n",
    "flexible approach? When might a less flexible approach be preferred?"
   ]
  },
  {
   "cell_type": "markdown",
   "metadata": {},
   "source": [
    "As we use more flexible methods the variance will increase, bias decrease. The more flexible methods may be preferable for large datasets or cases where we have less variance and otherwise. "
   ]
  },
  {
   "cell_type": "markdown",
   "metadata": {},
   "source": [
    "## Problem 6"
   ]
  },
  {
   "cell_type": "markdown",
   "metadata": {},
   "source": [
    "Describe the differences between a parametric and a non-parametric\n",
    "statistical learning approach. What are the advantages of a parametric approach to regression or classification (as opposed to a nonparametric approach)? What are its disadvantages?"
   ]
  },
  {
   "cell_type": "markdown",
   "metadata": {},
   "source": [
    "Non-parametric methods do not make explicit assumpsions about function form as parametric do. Advantage of non-parametric methods is that we do not make assumption about the function. KNN is non-parametric method. Linear regression is parametric."
   ]
  },
  {
   "cell_type": "markdown",
   "metadata": {},
   "source": [
    "## Problem 7"
   ]
  },
  {
   "cell_type": "markdown",
   "metadata": {},
   "source": [
    "The table below provides a training data set containing six observations, three predictors, and one qualitative response variable.\n",
    "\n",
    "Obs. X1 X2 X3 Y\n",
    "\n",
    "   1  0 3 0 Red\n",
    "   \n",
    "   2  2 0 0 Red\n",
    "   \n",
    "   3  0 1 3 Red\n",
    "   \n",
    "   4  0 1 2 Green\n",
    "   \n",
    "   5 −1 0 1 Green\n",
    "   \n",
    "   6  1 1 1 Red\n",
    "   \n",
    "Suppose we wish to use this data set to make a prediction for Y when\n",
    "X1 = X2 = X3 = 0 using K-nearest neighbors."
   ]
  },
  {
   "cell_type": "markdown",
   "metadata": {},
   "source": [
    "(a) Compute the Euclidean distance between each observation and\n",
    "the test point, X1 = X2 = X3 = 0.\n",
    "\n",
    "Distances to the point $X_1 = X_2 =X_3 = 0$:\n",
    "1. 3; 2. 2; 3. $\\sqrt{10}$; 4. $\\sqrt{5}$; 5. $\\sqrt{2}$; 6.$\\sqrt{3}$ \n",
    "\n",
    "(b) What is our prediction with K = 1? Why?\n",
    "\n",
    "If K =1, the closest point is 5 and Y= green.\n",
    "\n",
    "(c) What is our prediction with K = 3? Why?\n",
    "\n",
    "If K=3, closest points are 5, 6 and 2 and Y= red.\n",
    "\n",
    "(d) If the Bayes decision boundary in this problem is highly nonlinear, then would we expect the best value for K to be large or\n",
    "small? Why?\n",
    "\n",
    "For highly nonlinear decision boundary lower K is better. Higher K quickly becomes nonflexible.\n",
    "\n"
   ]
  },
  {
   "cell_type": "markdown",
   "metadata": {},
   "source": [
    "## Problem  8"
   ]
  },
  {
   "cell_type": "markdown",
   "metadata": {},
   "source": [
    "(a) Use the read.csv() function to read the data into R. Call the\n",
    "loaded data college. Make sure that you have the directory set\n",
    "to the correct location for the data."
   ]
  },
  {
   "cell_type": "markdown",
   "metadata": {},
   "source": [
    "College dataset"
   ]
  },
  {
   "cell_type": "code",
   "execution_count": 17,
   "metadata": {},
   "outputs": [
    {
     "data": {
      "text/html": [
       "<table>\n",
       "<thead><tr><th scope=col>X</th><th scope=col>Private</th><th scope=col>Apps</th><th scope=col>Accept</th><th scope=col>Enroll</th><th scope=col>Top10perc</th><th scope=col>Top25perc</th><th scope=col>F.Undergrad</th><th scope=col>P.Undergrad</th><th scope=col>Outstate</th><th scope=col>Room.Board</th><th scope=col>Books</th><th scope=col>Personal</th><th scope=col>PhD</th><th scope=col>Terminal</th><th scope=col>S.F.Ratio</th><th scope=col>perc.alumni</th><th scope=col>Expend</th><th scope=col>Grad.Rate</th></tr></thead>\n",
       "<tbody>\n",
       "\t<tr><td>Abilene Christian University</td><td>Yes                         </td><td>1660                        </td><td>1232                        </td><td>721                         </td><td>23                          </td><td>52                          </td><td>2885                        </td><td> 537                        </td><td> 7440                       </td><td>3300                        </td><td>450                         </td><td>2200                        </td><td>70                          </td><td>78                          </td><td>18.1                        </td><td>12                          </td><td> 7041                       </td><td>60                          </td></tr>\n",
       "\t<tr><td>Adelphi University          </td><td>Yes                         </td><td>2186                        </td><td>1924                        </td><td>512                         </td><td>16                          </td><td>29                          </td><td>2683                        </td><td>1227                        </td><td>12280                       </td><td>6450                        </td><td>750                         </td><td>1500                        </td><td>29                          </td><td>30                          </td><td>12.2                        </td><td>16                          </td><td>10527                       </td><td>56                          </td></tr>\n",
       "\t<tr><td>Adrian College              </td><td>Yes                         </td><td>1428                        </td><td>1097                        </td><td>336                         </td><td>22                          </td><td>50                          </td><td>1036                        </td><td>  99                        </td><td>11250                       </td><td>3750                        </td><td>400                         </td><td>1165                        </td><td>53                          </td><td>66                          </td><td>12.9                        </td><td>30                          </td><td> 8735                       </td><td>54                          </td></tr>\n",
       "\t<tr><td>Agnes Scott College         </td><td>Yes                         </td><td> 417                        </td><td> 349                        </td><td>137                         </td><td>60                          </td><td>89                          </td><td> 510                        </td><td>  63                        </td><td>12960                       </td><td>5450                        </td><td>450                         </td><td> 875                        </td><td>92                          </td><td>97                          </td><td> 7.7                        </td><td>37                          </td><td>19016                       </td><td>59                          </td></tr>\n",
       "\t<tr><td>Alaska Pacific University   </td><td>Yes                         </td><td> 193                        </td><td> 146                        </td><td> 55                         </td><td>16                          </td><td>44                          </td><td> 249                        </td><td> 869                        </td><td> 7560                       </td><td>4120                        </td><td>800                         </td><td>1500                        </td><td>76                          </td><td>72                          </td><td>11.9                        </td><td> 2                          </td><td>10922                       </td><td>15                          </td></tr>\n",
       "\t<tr><td>Albertson College           </td><td>Yes                         </td><td> 587                        </td><td> 479                        </td><td>158                         </td><td>38                          </td><td>62                          </td><td> 678                        </td><td>  41                        </td><td>13500                       </td><td>3335                        </td><td>500                         </td><td> 675                        </td><td>67                          </td><td>73                          </td><td> 9.4                        </td><td>11                          </td><td> 9727                       </td><td>55                          </td></tr>\n",
       "</tbody>\n",
       "</table>\n"
      ],
      "text/latex": [
       "\\begin{tabular}{r|lllllllllllllllllll}\n",
       " X & Private & Apps & Accept & Enroll & Top10perc & Top25perc & F.Undergrad & P.Undergrad & Outstate & Room.Board & Books & Personal & PhD & Terminal & S.F.Ratio & perc.alumni & Expend & Grad.Rate\\\\\n",
       "\\hline\n",
       "\t Abilene Christian University & Yes                          & 1660                         & 1232                         & 721                          & 23                           & 52                           & 2885                         &  537                         &  7440                        & 3300                         & 450                          & 2200                         & 70                           & 78                           & 18.1                         & 12                           &  7041                        & 60                          \\\\\n",
       "\t Adelphi University           & Yes                          & 2186                         & 1924                         & 512                          & 16                           & 29                           & 2683                         & 1227                         & 12280                        & 6450                         & 750                          & 1500                         & 29                           & 30                           & 12.2                         & 16                           & 10527                        & 56                          \\\\\n",
       "\t Adrian College               & Yes                          & 1428                         & 1097                         & 336                          & 22                           & 50                           & 1036                         &   99                         & 11250                        & 3750                         & 400                          & 1165                         & 53                           & 66                           & 12.9                         & 30                           &  8735                        & 54                          \\\\\n",
       "\t Agnes Scott College          & Yes                          &  417                         &  349                         & 137                          & 60                           & 89                           &  510                         &   63                         & 12960                        & 5450                         & 450                          &  875                         & 92                           & 97                           &  7.7                         & 37                           & 19016                        & 59                          \\\\\n",
       "\t Alaska Pacific University    & Yes                          &  193                         &  146                         &  55                          & 16                           & 44                           &  249                         &  869                         &  7560                        & 4120                         & 800                          & 1500                         & 76                           & 72                           & 11.9                         &  2                           & 10922                        & 15                          \\\\\n",
       "\t Albertson College            & Yes                          &  587                         &  479                         & 158                          & 38                           & 62                           &  678                         &   41                         & 13500                        & 3335                         & 500                          &  675                         & 67                           & 73                           &  9.4                         & 11                           &  9727                        & 55                          \\\\\n",
       "\\end{tabular}\n"
      ],
      "text/markdown": [
       "\n",
       "| X | Private | Apps | Accept | Enroll | Top10perc | Top25perc | F.Undergrad | P.Undergrad | Outstate | Room.Board | Books | Personal | PhD | Terminal | S.F.Ratio | perc.alumni | Expend | Grad.Rate |\n",
       "|---|---|---|---|---|---|---|---|---|---|---|---|---|---|---|---|---|---|---|\n",
       "| Abilene Christian University | Yes                          | 1660                         | 1232                         | 721                          | 23                           | 52                           | 2885                         |  537                         |  7440                        | 3300                         | 450                          | 2200                         | 70                           | 78                           | 18.1                         | 12                           |  7041                        | 60                           |\n",
       "| Adelphi University           | Yes                          | 2186                         | 1924                         | 512                          | 16                           | 29                           | 2683                         | 1227                         | 12280                        | 6450                         | 750                          | 1500                         | 29                           | 30                           | 12.2                         | 16                           | 10527                        | 56                           |\n",
       "| Adrian College               | Yes                          | 1428                         | 1097                         | 336                          | 22                           | 50                           | 1036                         |   99                         | 11250                        | 3750                         | 400                          | 1165                         | 53                           | 66                           | 12.9                         | 30                           |  8735                        | 54                           |\n",
       "| Agnes Scott College          | Yes                          |  417                         |  349                         | 137                          | 60                           | 89                           |  510                         |   63                         | 12960                        | 5450                         | 450                          |  875                         | 92                           | 97                           |  7.7                         | 37                           | 19016                        | 59                           |\n",
       "| Alaska Pacific University    | Yes                          |  193                         |  146                         |  55                          | 16                           | 44                           |  249                         |  869                         |  7560                        | 4120                         | 800                          | 1500                         | 76                           | 72                           | 11.9                         |  2                           | 10922                        | 15                           |\n",
       "| Albertson College            | Yes                          |  587                         |  479                         | 158                          | 38                           | 62                           |  678                         |   41                         | 13500                        | 3335                         | 500                          |  675                         | 67                           | 73                           |  9.4                         | 11                           |  9727                        | 55                           |\n",
       "\n"
      ],
      "text/plain": [
       "  X                            Private Apps Accept Enroll Top10perc Top25perc\n",
       "1 Abilene Christian University Yes     1660 1232   721    23        52       \n",
       "2 Adelphi University           Yes     2186 1924   512    16        29       \n",
       "3 Adrian College               Yes     1428 1097   336    22        50       \n",
       "4 Agnes Scott College          Yes      417  349   137    60        89       \n",
       "5 Alaska Pacific University    Yes      193  146    55    16        44       \n",
       "6 Albertson College            Yes      587  479   158    38        62       \n",
       "  F.Undergrad P.Undergrad Outstate Room.Board Books Personal PhD Terminal\n",
       "1 2885         537         7440    3300       450   2200     70  78      \n",
       "2 2683        1227        12280    6450       750   1500     29  30      \n",
       "3 1036          99        11250    3750       400   1165     53  66      \n",
       "4  510          63        12960    5450       450    875     92  97      \n",
       "5  249         869         7560    4120       800   1500     76  72      \n",
       "6  678          41        13500    3335       500    675     67  73      \n",
       "  S.F.Ratio perc.alumni Expend Grad.Rate\n",
       "1 18.1      12           7041  60       \n",
       "2 12.2      16          10527  56       \n",
       "3 12.9      30           8735  54       \n",
       "4  7.7      37          19016  59       \n",
       "5 11.9       2          10922  15       \n",
       "6  9.4      11           9727  55       "
      ]
     },
     "metadata": {},
     "output_type": "display_data"
    }
   ],
   "source": [
    "college<-read.csv(\"College.csv\")\n",
    "head(college)"
   ]
  },
  {
   "cell_type": "markdown",
   "metadata": {},
   "source": [
    "b) Look at the data using the fix() function. You should notice\n",
    "that the first column is just the name of each university. We don’t\n",
    "really want R to treat this as data. However, it may be handy to\n",
    "have these names for later."
   ]
  },
  {
   "cell_type": "code",
   "execution_count": 18,
   "metadata": {},
   "outputs": [],
   "source": [
    "rownames(college)=college[,1]"
   ]
  },
  {
   "cell_type": "code",
   "execution_count": 19,
   "metadata": {},
   "outputs": [
    {
     "data": {
      "text/html": [
       "<table>\n",
       "<thead><tr><th></th><th scope=col>Private</th><th scope=col>Apps</th><th scope=col>Accept</th><th scope=col>Enroll</th><th scope=col>Top10perc</th><th scope=col>Top25perc</th><th scope=col>F.Undergrad</th><th scope=col>P.Undergrad</th><th scope=col>Outstate</th><th scope=col>Room.Board</th><th scope=col>Books</th><th scope=col>Personal</th><th scope=col>PhD</th><th scope=col>Terminal</th><th scope=col>S.F.Ratio</th><th scope=col>perc.alumni</th><th scope=col>Expend</th><th scope=col>Grad.Rate</th></tr></thead>\n",
       "<tbody>\n",
       "\t<tr><th scope=row>Abilene Christian University</th><td>Yes  </td><td>1660 </td><td>1232 </td><td>721  </td><td>23   </td><td>52   </td><td>2885 </td><td> 537 </td><td> 7440</td><td>3300 </td><td>450  </td><td>2200 </td><td>70   </td><td>78   </td><td>18.1 </td><td>12   </td><td> 7041</td><td>60   </td></tr>\n",
       "\t<tr><th scope=row>Adelphi University</th><td>Yes  </td><td>2186 </td><td>1924 </td><td>512  </td><td>16   </td><td>29   </td><td>2683 </td><td>1227 </td><td>12280</td><td>6450 </td><td>750  </td><td>1500 </td><td>29   </td><td>30   </td><td>12.2 </td><td>16   </td><td>10527</td><td>56   </td></tr>\n",
       "\t<tr><th scope=row>Adrian College</th><td>Yes  </td><td>1428 </td><td>1097 </td><td>336  </td><td>22   </td><td>50   </td><td>1036 </td><td>  99 </td><td>11250</td><td>3750 </td><td>400  </td><td>1165 </td><td>53   </td><td>66   </td><td>12.9 </td><td>30   </td><td> 8735</td><td>54   </td></tr>\n",
       "\t<tr><th scope=row>Agnes Scott College</th><td>Yes  </td><td> 417 </td><td> 349 </td><td>137  </td><td>60   </td><td>89   </td><td> 510 </td><td>  63 </td><td>12960</td><td>5450 </td><td>450  </td><td> 875 </td><td>92   </td><td>97   </td><td> 7.7 </td><td>37   </td><td>19016</td><td>59   </td></tr>\n",
       "\t<tr><th scope=row>Alaska Pacific University</th><td>Yes  </td><td> 193 </td><td> 146 </td><td> 55  </td><td>16   </td><td>44   </td><td> 249 </td><td> 869 </td><td> 7560</td><td>4120 </td><td>800  </td><td>1500 </td><td>76   </td><td>72   </td><td>11.9 </td><td> 2   </td><td>10922</td><td>15   </td></tr>\n",
       "\t<tr><th scope=row>Albertson College</th><td>Yes  </td><td> 587 </td><td> 479 </td><td>158  </td><td>38   </td><td>62   </td><td> 678 </td><td>  41 </td><td>13500</td><td>3335 </td><td>500  </td><td> 675 </td><td>67   </td><td>73   </td><td> 9.4 </td><td>11   </td><td> 9727</td><td>55   </td></tr>\n",
       "</tbody>\n",
       "</table>\n"
      ],
      "text/latex": [
       "\\begin{tabular}{r|llllllllllllllllll}\n",
       "  & Private & Apps & Accept & Enroll & Top10perc & Top25perc & F.Undergrad & P.Undergrad & Outstate & Room.Board & Books & Personal & PhD & Terminal & S.F.Ratio & perc.alumni & Expend & Grad.Rate\\\\\n",
       "\\hline\n",
       "\tAbilene Christian University & Yes   & 1660  & 1232  & 721   & 23    & 52    & 2885  &  537  &  7440 & 3300  & 450   & 2200  & 70    & 78    & 18.1  & 12    &  7041 & 60   \\\\\n",
       "\tAdelphi University & Yes   & 2186  & 1924  & 512   & 16    & 29    & 2683  & 1227  & 12280 & 6450  & 750   & 1500  & 29    & 30    & 12.2  & 16    & 10527 & 56   \\\\\n",
       "\tAdrian College & Yes   & 1428  & 1097  & 336   & 22    & 50    & 1036  &   99  & 11250 & 3750  & 400   & 1165  & 53    & 66    & 12.9  & 30    &  8735 & 54   \\\\\n",
       "\tAgnes Scott College & Yes   &  417  &  349  & 137   & 60    & 89    &  510  &   63  & 12960 & 5450  & 450   &  875  & 92    & 97    &  7.7  & 37    & 19016 & 59   \\\\\n",
       "\tAlaska Pacific University & Yes   &  193  &  146  &  55   & 16    & 44    &  249  &  869  &  7560 & 4120  & 800   & 1500  & 76    & 72    & 11.9  &  2    & 10922 & 15   \\\\\n",
       "\tAlbertson College & Yes   &  587  &  479  & 158   & 38    & 62    &  678  &   41  & 13500 & 3335  & 500   &  675  & 67    & 73    &  9.4  & 11    &  9727 & 55   \\\\\n",
       "\\end{tabular}\n"
      ],
      "text/markdown": [
       "\n",
       "| <!--/--> | Private | Apps | Accept | Enroll | Top10perc | Top25perc | F.Undergrad | P.Undergrad | Outstate | Room.Board | Books | Personal | PhD | Terminal | S.F.Ratio | perc.alumni | Expend | Grad.Rate |\n",
       "|---|---|---|---|---|---|---|---|---|---|---|---|---|---|---|---|---|---|---|\n",
       "| Abilene Christian University | Yes   | 1660  | 1232  | 721   | 23    | 52    | 2885  |  537  |  7440 | 3300  | 450   | 2200  | 70    | 78    | 18.1  | 12    |  7041 | 60    |\n",
       "| Adelphi University | Yes   | 2186  | 1924  | 512   | 16    | 29    | 2683  | 1227  | 12280 | 6450  | 750   | 1500  | 29    | 30    | 12.2  | 16    | 10527 | 56    |\n",
       "| Adrian College | Yes   | 1428  | 1097  | 336   | 22    | 50    | 1036  |   99  | 11250 | 3750  | 400   | 1165  | 53    | 66    | 12.9  | 30    |  8735 | 54    |\n",
       "| Agnes Scott College | Yes   |  417  |  349  | 137   | 60    | 89    |  510  |   63  | 12960 | 5450  | 450   |  875  | 92    | 97    |  7.7  | 37    | 19016 | 59    |\n",
       "| Alaska Pacific University | Yes   |  193  |  146  |  55   | 16    | 44    |  249  |  869  |  7560 | 4120  | 800   | 1500  | 76    | 72    | 11.9  |  2    | 10922 | 15    |\n",
       "| Albertson College | Yes   |  587  |  479  | 158   | 38    | 62    |  678  |   41  | 13500 | 3335  | 500   |  675  | 67    | 73    |  9.4  | 11    |  9727 | 55    |\n",
       "\n"
      ],
      "text/plain": [
       "                             Private Apps Accept Enroll Top10perc Top25perc\n",
       "Abilene Christian University Yes     1660 1232   721    23        52       \n",
       "Adelphi University           Yes     2186 1924   512    16        29       \n",
       "Adrian College               Yes     1428 1097   336    22        50       \n",
       "Agnes Scott College          Yes      417  349   137    60        89       \n",
       "Alaska Pacific University    Yes      193  146    55    16        44       \n",
       "Albertson College            Yes      587  479   158    38        62       \n",
       "                             F.Undergrad P.Undergrad Outstate Room.Board Books\n",
       "Abilene Christian University 2885         537         7440    3300       450  \n",
       "Adelphi University           2683        1227        12280    6450       750  \n",
       "Adrian College               1036          99        11250    3750       400  \n",
       "Agnes Scott College           510          63        12960    5450       450  \n",
       "Alaska Pacific University     249         869         7560    4120       800  \n",
       "Albertson College             678          41        13500    3335       500  \n",
       "                             Personal PhD Terminal S.F.Ratio perc.alumni Expend\n",
       "Abilene Christian University 2200     70  78       18.1      12           7041 \n",
       "Adelphi University           1500     29  30       12.2      16          10527 \n",
       "Adrian College               1165     53  66       12.9      30           8735 \n",
       "Agnes Scott College           875     92  97        7.7      37          19016 \n",
       "Alaska Pacific University    1500     76  72       11.9       2          10922 \n",
       "Albertson College             675     67  73        9.4      11           9727 \n",
       "                             Grad.Rate\n",
       "Abilene Christian University 60       \n",
       "Adelphi University           56       \n",
       "Adrian College               54       \n",
       "Agnes Scott College          59       \n",
       "Alaska Pacific University    15       \n",
       "Albertson College            55       "
      ]
     },
     "metadata": {},
     "output_type": "display_data"
    }
   ],
   "source": [
    "college=college[,-1]\n",
    "head(college)"
   ]
  },
  {
   "cell_type": "markdown",
   "metadata": {},
   "source": [
    "(c) i. Use the summary() function to produce a numerical summary\n",
    "of the variables in the data set"
   ]
  },
  {
   "cell_type": "code",
   "execution_count": 20,
   "metadata": {},
   "outputs": [
    {
     "data": {
      "text/plain": [
       " Private        Apps           Accept          Enroll       Top10perc    \n",
       " No :212   Min.   :   81   Min.   :   72   Min.   :  35   Min.   : 1.00  \n",
       " Yes:565   1st Qu.:  776   1st Qu.:  604   1st Qu.: 242   1st Qu.:15.00  \n",
       "           Median : 1558   Median : 1110   Median : 434   Median :23.00  \n",
       "           Mean   : 3002   Mean   : 2019   Mean   : 780   Mean   :27.56  \n",
       "           3rd Qu.: 3624   3rd Qu.: 2424   3rd Qu.: 902   3rd Qu.:35.00  \n",
       "           Max.   :48094   Max.   :26330   Max.   :6392   Max.   :96.00  \n",
       "   Top25perc      F.Undergrad     P.Undergrad         Outstate    \n",
       " Min.   :  9.0   Min.   :  139   Min.   :    1.0   Min.   : 2340  \n",
       " 1st Qu.: 41.0   1st Qu.:  992   1st Qu.:   95.0   1st Qu.: 7320  \n",
       " Median : 54.0   Median : 1707   Median :  353.0   Median : 9990  \n",
       " Mean   : 55.8   Mean   : 3700   Mean   :  855.3   Mean   :10441  \n",
       " 3rd Qu.: 69.0   3rd Qu.: 4005   3rd Qu.:  967.0   3rd Qu.:12925  \n",
       " Max.   :100.0   Max.   :31643   Max.   :21836.0   Max.   :21700  \n",
       "   Room.Board       Books           Personal         PhD        \n",
       " Min.   :1780   Min.   :  96.0   Min.   : 250   Min.   :  8.00  \n",
       " 1st Qu.:3597   1st Qu.: 470.0   1st Qu.: 850   1st Qu.: 62.00  \n",
       " Median :4200   Median : 500.0   Median :1200   Median : 75.00  \n",
       " Mean   :4358   Mean   : 549.4   Mean   :1341   Mean   : 72.66  \n",
       " 3rd Qu.:5050   3rd Qu.: 600.0   3rd Qu.:1700   3rd Qu.: 85.00  \n",
       " Max.   :8124   Max.   :2340.0   Max.   :6800   Max.   :103.00  \n",
       "    Terminal       S.F.Ratio      perc.alumni        Expend     \n",
       " Min.   : 24.0   Min.   : 2.50   Min.   : 0.00   Min.   : 3186  \n",
       " 1st Qu.: 71.0   1st Qu.:11.50   1st Qu.:13.00   1st Qu.: 6751  \n",
       " Median : 82.0   Median :13.60   Median :21.00   Median : 8377  \n",
       " Mean   : 79.7   Mean   :14.09   Mean   :22.74   Mean   : 9660  \n",
       " 3rd Qu.: 92.0   3rd Qu.:16.50   3rd Qu.:31.00   3rd Qu.:10830  \n",
       " Max.   :100.0   Max.   :39.80   Max.   :64.00   Max.   :56233  \n",
       "   Grad.Rate     \n",
       " Min.   : 10.00  \n",
       " 1st Qu.: 53.00  \n",
       " Median : 65.00  \n",
       " Mean   : 65.46  \n",
       " 3rd Qu.: 78.00  \n",
       " Max.   :118.00  "
      ]
     },
     "metadata": {},
     "output_type": "display_data"
    }
   ],
   "source": [
    "summary(college)"
   ]
  },
  {
   "cell_type": "markdown",
   "metadata": {},
   "source": [
    " Data types"
   ]
  },
  {
   "cell_type": "code",
   "execution_count": 21,
   "metadata": {},
   "outputs": [
    {
     "data": {
      "text/html": [
       "<dl class=dl-horizontal>\n",
       "\t<dt>Private</dt>\n",
       "\t\t<dd>'factor'</dd>\n",
       "\t<dt>Apps</dt>\n",
       "\t\t<dd>'integer'</dd>\n",
       "\t<dt>Accept</dt>\n",
       "\t\t<dd>'integer'</dd>\n",
       "\t<dt>Enroll</dt>\n",
       "\t\t<dd>'integer'</dd>\n",
       "\t<dt>Top10perc</dt>\n",
       "\t\t<dd>'integer'</dd>\n",
       "\t<dt>Top25perc</dt>\n",
       "\t\t<dd>'integer'</dd>\n",
       "\t<dt>F.Undergrad</dt>\n",
       "\t\t<dd>'integer'</dd>\n",
       "\t<dt>P.Undergrad</dt>\n",
       "\t\t<dd>'integer'</dd>\n",
       "\t<dt>Outstate</dt>\n",
       "\t\t<dd>'integer'</dd>\n",
       "\t<dt>Room.Board</dt>\n",
       "\t\t<dd>'integer'</dd>\n",
       "\t<dt>Books</dt>\n",
       "\t\t<dd>'integer'</dd>\n",
       "\t<dt>Personal</dt>\n",
       "\t\t<dd>'integer'</dd>\n",
       "\t<dt>PhD</dt>\n",
       "\t\t<dd>'integer'</dd>\n",
       "\t<dt>Terminal</dt>\n",
       "\t\t<dd>'integer'</dd>\n",
       "\t<dt>S.F.Ratio</dt>\n",
       "\t\t<dd>'numeric'</dd>\n",
       "\t<dt>perc.alumni</dt>\n",
       "\t\t<dd>'integer'</dd>\n",
       "\t<dt>Expend</dt>\n",
       "\t\t<dd>'integer'</dd>\n",
       "\t<dt>Grad.Rate</dt>\n",
       "\t\t<dd>'integer'</dd>\n",
       "</dl>\n"
      ],
      "text/latex": [
       "\\begin{description*}\n",
       "\\item[Private] 'factor'\n",
       "\\item[Apps] 'integer'\n",
       "\\item[Accept] 'integer'\n",
       "\\item[Enroll] 'integer'\n",
       "\\item[Top10perc] 'integer'\n",
       "\\item[Top25perc] 'integer'\n",
       "\\item[F.Undergrad] 'integer'\n",
       "\\item[P.Undergrad] 'integer'\n",
       "\\item[Outstate] 'integer'\n",
       "\\item[Room.Board] 'integer'\n",
       "\\item[Books] 'integer'\n",
       "\\item[Personal] 'integer'\n",
       "\\item[PhD] 'integer'\n",
       "\\item[Terminal] 'integer'\n",
       "\\item[S.F.Ratio] 'numeric'\n",
       "\\item[perc.alumni] 'integer'\n",
       "\\item[Expend] 'integer'\n",
       "\\item[Grad.Rate] 'integer'\n",
       "\\end{description*}\n"
      ],
      "text/markdown": [
       "Private\n",
       ":   'factor'Apps\n",
       ":   'integer'Accept\n",
       ":   'integer'Enroll\n",
       ":   'integer'Top10perc\n",
       ":   'integer'Top25perc\n",
       ":   'integer'F.Undergrad\n",
       ":   'integer'P.Undergrad\n",
       ":   'integer'Outstate\n",
       ":   'integer'Room.Board\n",
       ":   'integer'Books\n",
       ":   'integer'Personal\n",
       ":   'integer'PhD\n",
       ":   'integer'Terminal\n",
       ":   'integer'S.F.Ratio\n",
       ":   'numeric'perc.alumni\n",
       ":   'integer'Expend\n",
       ":   'integer'Grad.Rate\n",
       ":   'integer'\n",
       "\n"
      ],
      "text/plain": [
       "    Private        Apps      Accept      Enroll   Top10perc   Top25perc \n",
       "   \"factor\"   \"integer\"   \"integer\"   \"integer\"   \"integer\"   \"integer\" \n",
       "F.Undergrad P.Undergrad    Outstate  Room.Board       Books    Personal \n",
       "  \"integer\"   \"integer\"   \"integer\"   \"integer\"   \"integer\"   \"integer\" \n",
       "        PhD    Terminal   S.F.Ratio perc.alumni      Expend   Grad.Rate \n",
       "  \"integer\"   \"integer\"   \"numeric\"   \"integer\"   \"integer\"   \"integer\" "
      ]
     },
     "metadata": {},
     "output_type": "display_data"
    }
   ],
   "source": [
    "sapply(college, class)"
   ]
  },
  {
   "cell_type": "markdown",
   "metadata": {},
   "source": [
    "ii. Use the pairs() function to produce a scatterplot matrix of\n",
    "the first ten columns or variables of the data. Recall that\n",
    "you can reference the first ten columns of a matrix A using\n",
    "A[,1:10]."
   ]
  },
  {
   "cell_type": "code",
   "execution_count": 22,
   "metadata": {},
   "outputs": [
    {
     "data": {
      "image/png": "[encoded data removed]",
      "text/plain": [
       "plot without title"
      ]
     },
     "metadata": {},
     "output_type": "display_data"
    }
   ],
   "source": [
    "pairs(college[,1:10])"
   ]
  },
  {
   "cell_type": "markdown",
   "metadata": {},
   "source": [
    "iii. Use the plot() function to produce side-by-side boxplots of\n",
    "Outstate versus Private."
   ]
  },
  {
   "cell_type": "code",
   "execution_count": 23,
   "metadata": {},
   "outputs": [
    {
     "data": {
      "image/png": "[encoded data removed]",
      "text/plain": [
       "plot without title"
      ]
     },
     "metadata": {},
     "output_type": "display_data"
    }
   ],
   "source": [
    "plot(college$Private, college$Outstate,\n",
    "     xlab = \"Private University\", ylab = \"Tuition in $\")"
   ]
  },
  {
   "cell_type": "markdown",
   "metadata": {},
   "source": [
    "iv. Create a new qualitative variable, called Elite, by binning\n",
    "the Top10perc variable. We are going to divide universities\n",
    "into two groups based on whether or not the proportion\n",
    "of students coming from the top 10 % of their high school\n",
    "classes exceeds 50 %."
   ]
  },
  {
   "cell_type": "code",
   "execution_count": 24,
   "metadata": {},
   "outputs": [
    {
     "data": {
      "text/html": [
       "<dl class=dl-horizontal>\n",
       "\t<dt>No</dt>\n",
       "\t\t<dd>699</dd>\n",
       "\t<dt>Yes</dt>\n",
       "\t\t<dd>78</dd>\n",
       "</dl>\n"
      ],
      "text/latex": [
       "\\begin{description*}\n",
       "\\item[No] 699\n",
       "\\item[Yes] 78\n",
       "\\end{description*}\n"
      ],
      "text/markdown": [
       "No\n",
       ":   699Yes\n",
       ":   78\n",
       "\n"
      ],
      "text/plain": [
       " No Yes \n",
       "699  78 "
      ]
     },
     "metadata": {},
     "output_type": "display_data"
    },
    {
     "data": {
      "text/html": [
       "<table>\n",
       "<thead><tr><th></th><th scope=col>Private</th><th scope=col>Apps</th><th scope=col>Accept</th><th scope=col>Enroll</th><th scope=col>Top10perc</th><th scope=col>Top25perc</th><th scope=col>F.Undergrad</th><th scope=col>P.Undergrad</th><th scope=col>Outstate</th><th scope=col>Room.Board</th><th scope=col>Books</th><th scope=col>Personal</th><th scope=col>PhD</th><th scope=col>Terminal</th><th scope=col>S.F.Ratio</th><th scope=col>perc.alumni</th><th scope=col>Expend</th><th scope=col>Grad.Rate</th><th scope=col>Elite</th></tr></thead>\n",
       "<tbody>\n",
       "\t<tr><th scope=row>Abilene Christian University</th><td>Yes  </td><td>1660 </td><td>1232 </td><td>721  </td><td>23   </td><td>52   </td><td>2885 </td><td> 537 </td><td> 7440</td><td>3300 </td><td>450  </td><td>2200 </td><td>70   </td><td>78   </td><td>18.1 </td><td>12   </td><td> 7041</td><td>60   </td><td>No   </td></tr>\n",
       "\t<tr><th scope=row>Adelphi University</th><td>Yes  </td><td>2186 </td><td>1924 </td><td>512  </td><td>16   </td><td>29   </td><td>2683 </td><td>1227 </td><td>12280</td><td>6450 </td><td>750  </td><td>1500 </td><td>29   </td><td>30   </td><td>12.2 </td><td>16   </td><td>10527</td><td>56   </td><td>No   </td></tr>\n",
       "\t<tr><th scope=row>Adrian College</th><td>Yes  </td><td>1428 </td><td>1097 </td><td>336  </td><td>22   </td><td>50   </td><td>1036 </td><td>  99 </td><td>11250</td><td>3750 </td><td>400  </td><td>1165 </td><td>53   </td><td>66   </td><td>12.9 </td><td>30   </td><td> 8735</td><td>54   </td><td>No   </td></tr>\n",
       "\t<tr><th scope=row>Agnes Scott College</th><td>Yes  </td><td> 417 </td><td> 349 </td><td>137  </td><td>60   </td><td>89   </td><td> 510 </td><td>  63 </td><td>12960</td><td>5450 </td><td>450  </td><td> 875 </td><td>92   </td><td>97   </td><td> 7.7 </td><td>37   </td><td>19016</td><td>59   </td><td>Yes  </td></tr>\n",
       "\t<tr><th scope=row>Alaska Pacific University</th><td>Yes  </td><td> 193 </td><td> 146 </td><td> 55  </td><td>16   </td><td>44   </td><td> 249 </td><td> 869 </td><td> 7560</td><td>4120 </td><td>800  </td><td>1500 </td><td>76   </td><td>72   </td><td>11.9 </td><td> 2   </td><td>10922</td><td>15   </td><td>No   </td></tr>\n",
       "\t<tr><th scope=row>Albertson College</th><td>Yes  </td><td> 587 </td><td> 479 </td><td>158  </td><td>38   </td><td>62   </td><td> 678 </td><td>  41 </td><td>13500</td><td>3335 </td><td>500  </td><td> 675 </td><td>67   </td><td>73   </td><td> 9.4 </td><td>11   </td><td> 9727</td><td>55   </td><td>No   </td></tr>\n",
       "</tbody>\n",
       "</table>\n"
      ],
      "text/latex": [
       "\\begin{tabular}{r|lllllllllllllllllll}\n",
       "  & Private & Apps & Accept & Enroll & Top10perc & Top25perc & F.Undergrad & P.Undergrad & Outstate & Room.Board & Books & Personal & PhD & Terminal & S.F.Ratio & perc.alumni & Expend & Grad.Rate & Elite\\\\\n",
       "\\hline\n",
       "\tAbilene Christian University & Yes   & 1660  & 1232  & 721   & 23    & 52    & 2885  &  537  &  7440 & 3300  & 450   & 2200  & 70    & 78    & 18.1  & 12    &  7041 & 60    & No   \\\\\n",
       "\tAdelphi University & Yes   & 2186  & 1924  & 512   & 16    & 29    & 2683  & 1227  & 12280 & 6450  & 750   & 1500  & 29    & 30    & 12.2  & 16    & 10527 & 56    & No   \\\\\n",
       "\tAdrian College & Yes   & 1428  & 1097  & 336   & 22    & 50    & 1036  &   99  & 11250 & 3750  & 400   & 1165  & 53    & 66    & 12.9  & 30    &  8735 & 54    & No   \\\\\n",
       "\tAgnes Scott College & Yes   &  417  &  349  & 137   & 60    & 89    &  510  &   63  & 12960 & 5450  & 450   &  875  & 92    & 97    &  7.7  & 37    & 19016 & 59    & Yes  \\\\\n",
       "\tAlaska Pacific University & Yes   &  193  &  146  &  55   & 16    & 44    &  249  &  869  &  7560 & 4120  & 800   & 1500  & 76    & 72    & 11.9  &  2    & 10922 & 15    & No   \\\\\n",
       "\tAlbertson College & Yes   &  587  &  479  & 158   & 38    & 62    &  678  &   41  & 13500 & 3335  & 500   &  675  & 67    & 73    &  9.4  & 11    &  9727 & 55    & No   \\\\\n",
       "\\end{tabular}\n"
      ],
      "text/markdown": [
       "\n",
       "| <!--/--> | Private | Apps | Accept | Enroll | Top10perc | Top25perc | F.Undergrad | P.Undergrad | Outstate | Room.Board | Books | Personal | PhD | Terminal | S.F.Ratio | perc.alumni | Expend | Grad.Rate | Elite |\n",
       "|---|---|---|---|---|---|---|---|---|---|---|---|---|---|---|---|---|---|---|---|\n",
       "| Abilene Christian University | Yes   | 1660  | 1232  | 721   | 23    | 52    | 2885  |  537  |  7440 | 3300  | 450   | 2200  | 70    | 78    | 18.1  | 12    |  7041 | 60    | No    |\n",
       "| Adelphi University | Yes   | 2186  | 1924  | 512   | 16    | 29    | 2683  | 1227  | 12280 | 6450  | 750   | 1500  | 29    | 30    | 12.2  | 16    | 10527 | 56    | No    |\n",
       "| Adrian College | Yes   | 1428  | 1097  | 336   | 22    | 50    | 1036  |   99  | 11250 | 3750  | 400   | 1165  | 53    | 66    | 12.9  | 30    |  8735 | 54    | No    |\n",
       "| Agnes Scott College | Yes   |  417  |  349  | 137   | 60    | 89    |  510  |   63  | 12960 | 5450  | 450   |  875  | 92    | 97    |  7.7  | 37    | 19016 | 59    | Yes   |\n",
       "| Alaska Pacific University | Yes   |  193  |  146  |  55   | 16    | 44    |  249  |  869  |  7560 | 4120  | 800   | 1500  | 76    | 72    | 11.9  |  2    | 10922 | 15    | No    |\n",
       "| Albertson College | Yes   |  587  |  479  | 158   | 38    | 62    |  678  |   41  | 13500 | 3335  | 500   |  675  | 67    | 73    |  9.4  | 11    |  9727 | 55    | No    |\n",
       "\n"
      ],
      "text/plain": [
       "                             Private Apps Accept Enroll Top10perc Top25perc\n",
       "Abilene Christian University Yes     1660 1232   721    23        52       \n",
       "Adelphi University           Yes     2186 1924   512    16        29       \n",
       "Adrian College               Yes     1428 1097   336    22        50       \n",
       "Agnes Scott College          Yes      417  349   137    60        89       \n",
       "Alaska Pacific University    Yes      193  146    55    16        44       \n",
       "Albertson College            Yes      587  479   158    38        62       \n",
       "                             F.Undergrad P.Undergrad Outstate Room.Board Books\n",
       "Abilene Christian University 2885         537         7440    3300       450  \n",
       "Adelphi University           2683        1227        12280    6450       750  \n",
       "Adrian College               1036          99        11250    3750       400  \n",
       "Agnes Scott College           510          63        12960    5450       450  \n",
       "Alaska Pacific University     249         869         7560    4120       800  \n",
       "Albertson College             678          41        13500    3335       500  \n",
       "                             Personal PhD Terminal S.F.Ratio perc.alumni Expend\n",
       "Abilene Christian University 2200     70  78       18.1      12           7041 \n",
       "Adelphi University           1500     29  30       12.2      16          10527 \n",
       "Adrian College               1165     53  66       12.9      30           8735 \n",
       "Agnes Scott College           875     92  97        7.7      37          19016 \n",
       "Alaska Pacific University    1500     76  72       11.9       2          10922 \n",
       "Albertson College             675     67  73        9.4      11           9727 \n",
       "                             Grad.Rate Elite\n",
       "Abilene Christian University 60        No   \n",
       "Adelphi University           56        No   \n",
       "Adrian College               54        No   \n",
       "Agnes Scott College          59        Yes  \n",
       "Alaska Pacific University    15        No   \n",
       "Albertson College            55        No   "
      ]
     },
     "metadata": {},
     "output_type": "display_data"
    }
   ],
   "source": [
    "Elite = rep(\"No\", nrow(college))\n",
    "Elite[college$Top10perc > 50]=\"Yes\"\n",
    "Elite=as.factor(Elite)\n",
    "college=data.frame(college,Elite)\n",
    "summary(Elite)\n",
    "head(college)"
   ]
  },
  {
   "cell_type": "code",
   "execution_count": 25,
   "metadata": {},
   "outputs": [
    {
     "data": {
      "image/png": "[encoded data removed]",
      "text/plain": [
       "plot without title"
      ]
     },
     "metadata": {},
     "output_type": "display_data"
    }
   ],
   "source": [
    "plot(college$Elite, college$Outstate, \n",
    "     xlab = \"Elite University\", ylab = \"Tuition in $\")"
   ]
  },
  {
   "cell_type": "markdown",
   "metadata": {},
   "source": [
    "v. Use the hist() function to produce some histograms with\n",
    "differing numbers of bins for a few of the quantitative variables. You may find the command par(mfrow=c(2,2)) useful:\n",
    "it will divide the print window into four regions so that four\n",
    "plots can be made simultaneously. Modifying the arguments\n",
    "to this function will divide the screen in other ways."
   ]
  },
  {
   "cell_type": "code",
   "execution_count": 26,
   "metadata": {
    "scrolled": false
   },
   "outputs": [
    {
     "data": {
      "image/png": "[encoded data removed]",
      "text/plain": [
       "Plot with title \"\""
      ]
     },
     "metadata": {},
     "output_type": "display_data"
    }
   ],
   "source": [
    "par(mfrow=c(2,2))\n",
    "hist(college$Enroll, xlab = \"Enrolled\", main = \"\")\n",
    "hist(college$Apps, col=4, xlab = \"Applications Received\", main = \"\")\n",
    "hist(college$Grad.Rate, col=2, xlab = \"Graduation rate\", main = \"\")\n",
    "hist(college$S.F.Ratio, col=3, breaks=10, xlab = \"Student/faculty ratio\", main = \"\")"
   ]
  },
  {
   "cell_type": "markdown",
   "metadata": {},
   "source": [
    "vi. Continue exploring the data, and provide a brief summary\n",
    "of what you discover."
   ]
  },
  {
   "cell_type": "markdown",
   "metadata": {},
   "source": [
    "College with maximum percent of faculty with PhD"
   ]
  },
  {
   "cell_type": "code",
   "execution_count": 27,
   "metadata": {},
   "outputs": [
    {
     "data": {
      "text/html": [
       "'Texas A&amp;M University at Galveston'"
      ],
      "text/latex": [
       "'Texas A\\&M University at Galveston'"
      ],
      "text/markdown": [
       "'Texas A&amp;M University at Galveston'"
      ],
      "text/plain": [
       "[1] \"Texas A&M University at Galveston\""
      ]
     },
     "metadata": {},
     "output_type": "display_data"
    }
   ],
   "source": [
    "row.names(college)[which.max(college$PhD)]"
   ]
  },
  {
   "cell_type": "code",
   "execution_count": 28,
   "metadata": {
    "scrolled": true
   },
   "outputs": [
    {
     "data": {
      "image/png": "[encoded data removed]",
      "text/plain": [
       "plot without title"
      ]
     },
     "metadata": {},
     "output_type": "display_data"
    }
   ],
   "source": [
    "plot(college$Private, college$Outstate,\n",
    "     xlab = \"Private University\", ylab = \"S.F.Ratio\")"
   ]
  },
  {
   "cell_type": "markdown",
   "metadata": {},
   "source": [
    "College with maximum percent of students from top 10% of high school class"
   ]
  },
  {
   "cell_type": "code",
   "execution_count": 29,
   "metadata": {},
   "outputs": [
    {
     "data": {
      "text/html": [
       "'Massachusetts Institute of Technology'"
      ],
      "text/latex": [
       "'Massachusetts Institute of Technology'"
      ],
      "text/markdown": [
       "'Massachusetts Institute of Technology'"
      ],
      "text/plain": [
       "[1] \"Massachusetts Institute of Technology\""
      ]
     },
     "metadata": {},
     "output_type": "display_data"
    }
   ],
   "source": [
    "row.names(college)[which.max(college$Top10perc)]  "
   ]
  },
  {
   "cell_type": "markdown",
   "metadata": {},
   "source": [
    "## Problem 9"
   ]
  },
  {
   "cell_type": "code",
   "execution_count": 30,
   "metadata": {},
   "outputs": [
    {
     "data": {
      "text/html": [
       "<ol class=list-inline>\n",
       "\t<li>392</li>\n",
       "\t<li>9</li>\n",
       "</ol>\n"
      ],
      "text/latex": [
       "\\begin{enumerate*}\n",
       "\\item 392\n",
       "\\item 9\n",
       "\\end{enumerate*}\n"
      ],
      "text/markdown": [
       "1. 392\n",
       "2. 9\n",
       "\n",
       "\n"
      ],
      "text/plain": [
       "[1] 392   9"
      ]
     },
     "metadata": {},
     "output_type": "display_data"
    }
   ],
   "source": [
    "Auto <- read.csv(\"http://faculty.marshall.usc.edu/gareth-james/ISL/Auto.csv\", \n",
    "                 header = TRUE, na.strings = \"?\")\n",
    "Auto <- na.omit(Auto)\n",
    "dim(Auto)"
   ]
  },
  {
   "cell_type": "markdown",
   "metadata": {},
   "source": [
    "(a) Which of the predictors are quantitative, and which are qualitative?"
   ]
  },
  {
   "cell_type": "code",
   "execution_count": 31,
   "metadata": {},
   "outputs": [
    {
     "data": {
      "text/html": [
       "<dl class=dl-horizontal>\n",
       "\t<dt>mpg</dt>\n",
       "\t\t<dd>'numeric'</dd>\n",
       "\t<dt>cylinders</dt>\n",
       "\t\t<dd>'integer'</dd>\n",
       "\t<dt>displacement</dt>\n",
       "\t\t<dd>'numeric'</dd>\n",
       "\t<dt>horsepower</dt>\n",
       "\t\t<dd>'integer'</dd>\n",
       "\t<dt>weight</dt>\n",
       "\t\t<dd>'integer'</dd>\n",
       "\t<dt>acceleration</dt>\n",
       "\t\t<dd>'numeric'</dd>\n",
       "\t<dt>year</dt>\n",
       "\t\t<dd>'integer'</dd>\n",
       "\t<dt>origin</dt>\n",
       "\t\t<dd>'integer'</dd>\n",
       "\t<dt>name</dt>\n",
       "\t\t<dd>'factor'</dd>\n",
       "</dl>\n"
      ],
      "text/latex": [
       "\\begin{description*}\n",
       "\\item[mpg] 'numeric'\n",
       "\\item[cylinders] 'integer'\n",
       "\\item[displacement] 'numeric'\n",
       "\\item[horsepower] 'integer'\n",
       "\\item[weight] 'integer'\n",
       "\\item[acceleration] 'numeric'\n",
       "\\item[year] 'integer'\n",
       "\\item[origin] 'integer'\n",
       "\\item[name] 'factor'\n",
       "\\end{description*}\n"
      ],
      "text/markdown": [
       "mpg\n",
       ":   'numeric'cylinders\n",
       ":   'integer'displacement\n",
       ":   'numeric'horsepower\n",
       ":   'integer'weight\n",
       ":   'integer'acceleration\n",
       ":   'numeric'year\n",
       ":   'integer'origin\n",
       ":   'integer'name\n",
       ":   'factor'\n",
       "\n"
      ],
      "text/plain": [
       "         mpg    cylinders displacement   horsepower       weight acceleration \n",
       "   \"numeric\"    \"integer\"    \"numeric\"    \"integer\"    \"integer\"    \"numeric\" \n",
       "        year       origin         name \n",
       "   \"integer\"    \"integer\"     \"factor\" "
      ]
     },
     "metadata": {},
     "output_type": "display_data"
    }
   ],
   "source": [
    "sapply(Auto, class)"
   ]
  },
  {
   "cell_type": "code",
   "execution_count": 32,
   "metadata": {},
   "outputs": [
    {
     "data": {
      "text/html": [
       "<ol class=list-inline>\n",
       "\t<li>8</li>\n",
       "\t<li>9</li>\n",
       "</ol>\n"
      ],
      "text/latex": [
       "\\begin{enumerate*}\n",
       "\\item 8\n",
       "\\item 9\n",
       "\\end{enumerate*}\n"
      ],
      "text/markdown": [
       "1. 8\n",
       "2. 9\n",
       "\n",
       "\n"
      ],
      "text/plain": [
       "[1] 8 9"
      ]
     },
     "metadata": {},
     "output_type": "display_data"
    }
   ],
   "source": [
    "qual_columns <- which(names(Auto) %in% c(\"name\", \"origin\"))\n",
    "qual_columns"
   ]
  },
  {
   "cell_type": "markdown",
   "metadata": {},
   "source": [
    "(b) What is the range of each quantitative predictor? You can answer this using the range() function. "
   ]
  },
  {
   "cell_type": "code",
   "execution_count": 33,
   "metadata": {},
   "outputs": [
    {
     "data": {
      "text/html": [
       "<table>\n",
       "<thead><tr><th scope=col>mpg</th><th scope=col>cylinders</th><th scope=col>displacement</th><th scope=col>horsepower</th><th scope=col>weight</th><th scope=col>acceleration</th><th scope=col>year</th></tr></thead>\n",
       "<tbody>\n",
       "\t<tr><td> 9.0</td><td>3   </td><td> 68 </td><td> 46 </td><td>1613</td><td> 8.0</td><td>70  </td></tr>\n",
       "\t<tr><td>46.6</td><td>8   </td><td>455 </td><td>230 </td><td>5140</td><td>24.8</td><td>82  </td></tr>\n",
       "</tbody>\n",
       "</table>\n"
      ],
      "text/latex": [
       "\\begin{tabular}{lllllll}\n",
       " mpg & cylinders & displacement & horsepower & weight & acceleration & year\\\\\n",
       "\\hline\n",
       "\t  9.0 & 3    &  68  &  46  & 1613 &  8.0 & 70  \\\\\n",
       "\t 46.6 & 8    & 455  & 230  & 5140 & 24.8 & 82  \\\\\n",
       "\\end{tabular}\n"
      ],
      "text/markdown": [
       "\n",
       "| mpg | cylinders | displacement | horsepower | weight | acceleration | year |\n",
       "|---|---|---|---|---|---|---|\n",
       "|  9.0 | 3    |  68  |  46  | 1613 |  8.0 | 70   |\n",
       "| 46.6 | 8    | 455  | 230  | 5140 | 24.8 | 82   |\n",
       "\n"
      ],
      "text/plain": [
       "     mpg  cylinders displacement horsepower weight acceleration year\n",
       "[1,]  9.0 3          68           46        1613    8.0         70  \n",
       "[2,] 46.6 8         455          230        5140   24.8         82  "
      ]
     },
     "metadata": {},
     "output_type": "display_data"
    }
   ],
   "source": [
    "sapply(Auto[, -qual_columns], range)"
   ]
  },
  {
   "cell_type": "markdown",
   "metadata": {},
   "source": [
    "(c) What is the mean and standard deviation of each quantitative\n",
    "predictor?"
   ]
  },
  {
   "cell_type": "code",
   "execution_count": 34,
   "metadata": {},
   "outputs": [
    {
     "data": {
      "text/html": [
       "<dl class=dl-horizontal>\n",
       "\t<dt>mpg</dt>\n",
       "\t\t<dd>23.4459183673469</dd>\n",
       "\t<dt>cylinders</dt>\n",
       "\t\t<dd>5.4719387755102</dd>\n",
       "\t<dt>displacement</dt>\n",
       "\t\t<dd>194.411989795918</dd>\n",
       "\t<dt>horsepower</dt>\n",
       "\t\t<dd>104.469387755102</dd>\n",
       "\t<dt>weight</dt>\n",
       "\t\t<dd>2977.58418367347</dd>\n",
       "\t<dt>acceleration</dt>\n",
       "\t\t<dd>15.5413265306122</dd>\n",
       "\t<dt>year</dt>\n",
       "\t\t<dd>75.9795918367347</dd>\n",
       "</dl>\n"
      ],
      "text/latex": [
       "\\begin{description*}\n",
       "\\item[mpg] 23.4459183673469\n",
       "\\item[cylinders] 5.4719387755102\n",
       "\\item[displacement] 194.411989795918\n",
       "\\item[horsepower] 104.469387755102\n",
       "\\item[weight] 2977.58418367347\n",
       "\\item[acceleration] 15.5413265306122\n",
       "\\item[year] 75.9795918367347\n",
       "\\end{description*}\n"
      ],
      "text/markdown": [
       "mpg\n",
       ":   23.4459183673469cylinders\n",
       ":   5.4719387755102displacement\n",
       ":   194.411989795918horsepower\n",
       ":   104.469387755102weight\n",
       ":   2977.58418367347acceleration\n",
       ":   15.5413265306122year\n",
       ":   75.9795918367347\n",
       "\n"
      ],
      "text/plain": [
       "         mpg    cylinders displacement   horsepower       weight acceleration \n",
       "   23.445918     5.471939   194.411990   104.469388  2977.584184    15.541327 \n",
       "        year \n",
       "   75.979592 "
      ]
     },
     "metadata": {},
     "output_type": "display_data"
    }
   ],
   "source": [
    "sapply(Auto[, -qual_columns], mean)"
   ]
  },
  {
   "cell_type": "code",
   "execution_count": 35,
   "metadata": {},
   "outputs": [
    {
     "data": {
      "text/html": [
       "<dl class=dl-horizontal>\n",
       "\t<dt>mpg</dt>\n",
       "\t\t<dd>7.8050074865718</dd>\n",
       "\t<dt>cylinders</dt>\n",
       "\t\t<dd>1.70578324745278</dd>\n",
       "\t<dt>displacement</dt>\n",
       "\t\t<dd>104.644003908905</dd>\n",
       "\t<dt>horsepower</dt>\n",
       "\t\t<dd>38.4911599328285</dd>\n",
       "\t<dt>weight</dt>\n",
       "\t\t<dd>849.402560042949</dd>\n",
       "\t<dt>acceleration</dt>\n",
       "\t\t<dd>2.75886411918808</dd>\n",
       "\t<dt>year</dt>\n",
       "\t\t<dd>3.68373654357783</dd>\n",
       "</dl>\n"
      ],
      "text/latex": [
       "\\begin{description*}\n",
       "\\item[mpg] 7.8050074865718\n",
       "\\item[cylinders] 1.70578324745278\n",
       "\\item[displacement] 104.644003908905\n",
       "\\item[horsepower] 38.4911599328285\n",
       "\\item[weight] 849.402560042949\n",
       "\\item[acceleration] 2.75886411918808\n",
       "\\item[year] 3.68373654357783\n",
       "\\end{description*}\n"
      ],
      "text/markdown": [
       "mpg\n",
       ":   7.8050074865718cylinders\n",
       ":   1.70578324745278displacement\n",
       ":   104.644003908905horsepower\n",
       ":   38.4911599328285weight\n",
       ":   849.402560042949acceleration\n",
       ":   2.75886411918808year\n",
       ":   3.68373654357783\n",
       "\n"
      ],
      "text/plain": [
       "         mpg    cylinders displacement   horsepower       weight acceleration \n",
       "    7.805007     1.705783   104.644004    38.491160   849.402560     2.758864 \n",
       "        year \n",
       "    3.683737 "
      ]
     },
     "metadata": {},
     "output_type": "display_data"
    }
   ],
   "source": [
    "sapply(Auto[, -qual_columns], sd)"
   ]
  },
  {
   "cell_type": "markdown",
   "metadata": {},
   "source": [
    "(d) Now remove the 10th through 85th observations. What is the\n",
    "range, mean, and standard deviation of each predictor in the\n",
    "subset of the data that remains?"
   ]
  },
  {
   "cell_type": "code",
   "execution_count": 36,
   "metadata": {},
   "outputs": [
    {
     "data": {
      "text/html": [
       "<dl class=dl-horizontal>\n",
       "\t<dt>mpg</dt>\n",
       "\t\t<dd>24.4044303797468</dd>\n",
       "\t<dt>cylinders</dt>\n",
       "\t\t<dd>5.37341772151899</dd>\n",
       "\t<dt>displacement</dt>\n",
       "\t\t<dd>187.240506329114</dd>\n",
       "\t<dt>horsepower</dt>\n",
       "\t\t<dd>100.721518987342</dd>\n",
       "\t<dt>weight</dt>\n",
       "\t\t<dd>2935.97151898734</dd>\n",
       "\t<dt>acceleration</dt>\n",
       "\t\t<dd>15.7268987341772</dd>\n",
       "\t<dt>year</dt>\n",
       "\t\t<dd>77.1455696202532</dd>\n",
       "</dl>\n"
      ],
      "text/latex": [
       "\\begin{description*}\n",
       "\\item[mpg] 24.4044303797468\n",
       "\\item[cylinders] 5.37341772151899\n",
       "\\item[displacement] 187.240506329114\n",
       "\\item[horsepower] 100.721518987342\n",
       "\\item[weight] 2935.97151898734\n",
       "\\item[acceleration] 15.7268987341772\n",
       "\\item[year] 77.1455696202532\n",
       "\\end{description*}\n"
      ],
      "text/markdown": [
       "mpg\n",
       ":   24.4044303797468cylinders\n",
       ":   5.37341772151899displacement\n",
       ":   187.240506329114horsepower\n",
       ":   100.721518987342weight\n",
       ":   2935.97151898734acceleration\n",
       ":   15.7268987341772year\n",
       ":   77.1455696202532\n",
       "\n"
      ],
      "text/plain": [
       "         mpg    cylinders displacement   horsepower       weight acceleration \n",
       "   24.404430     5.373418   187.240506   100.721519  2935.971519    15.726899 \n",
       "        year \n",
       "   77.145570 "
      ]
     },
     "metadata": {},
     "output_type": "display_data"
    }
   ],
   "source": [
    "sapply(Auto[-seq(10, 85), -qual_columns], mean)"
   ]
  },
  {
   "cell_type": "code",
   "execution_count": 37,
   "metadata": {},
   "outputs": [
    {
     "data": {
      "text/html": [
       "<dl class=dl-horizontal>\n",
       "\t<dt>mpg</dt>\n",
       "\t\t<dd>7.86728282443069</dd>\n",
       "\t<dt>cylinders</dt>\n",
       "\t\t<dd>1.65417865185607</dd>\n",
       "\t<dt>displacement</dt>\n",
       "\t\t<dd>99.6783672303628</dd>\n",
       "\t<dt>horsepower</dt>\n",
       "\t\t<dd>35.7088532738003</dd>\n",
       "\t<dt>weight</dt>\n",
       "\t\t<dd>811.30020815829</dd>\n",
       "\t<dt>acceleration</dt>\n",
       "\t\t<dd>2.69372071752036</dd>\n",
       "\t<dt>year</dt>\n",
       "\t\t<dd>3.10621690872137</dd>\n",
       "</dl>\n"
      ],
      "text/latex": [
       "\\begin{description*}\n",
       "\\item[mpg] 7.86728282443069\n",
       "\\item[cylinders] 1.65417865185607\n",
       "\\item[displacement] 99.6783672303628\n",
       "\\item[horsepower] 35.7088532738003\n",
       "\\item[weight] 811.30020815829\n",
       "\\item[acceleration] 2.69372071752036\n",
       "\\item[year] 3.10621690872137\n",
       "\\end{description*}\n"
      ],
      "text/markdown": [
       "mpg\n",
       ":   7.86728282443069cylinders\n",
       ":   1.65417865185607displacement\n",
       ":   99.6783672303628horsepower\n",
       ":   35.7088532738003weight\n",
       ":   811.30020815829acceleration\n",
       ":   2.69372071752036year\n",
       ":   3.10621690872137\n",
       "\n"
      ],
      "text/plain": [
       "         mpg    cylinders displacement   horsepower       weight acceleration \n",
       "    7.867283     1.654179    99.678367    35.708853   811.300208     2.693721 \n",
       "        year \n",
       "    3.106217 "
      ]
     },
     "metadata": {},
     "output_type": "display_data"
    }
   ],
   "source": [
    "sapply(Auto[-seq(10, 85), -qual_columns], sd)"
   ]
  },
  {
   "cell_type": "markdown",
   "metadata": {},
   "source": [
    "(e) Using the full data set, investigate the predictors graphically,\n",
    "using scatterplots or other tools of your choice. Create some plots\n",
    "highlighting the relationships among the predictors. Comment\n",
    "on your findings."
   ]
  },
  {
   "cell_type": "code",
   "execution_count": 38,
   "metadata": {},
   "outputs": [
    {
     "data": {
      "image/png": "[encoded data removed]",
      "text/plain": [
       "plot without title"
      ]
     },
     "metadata": {},
     "output_type": "display_data"
    }
   ],
   "source": [
    "pairs(Auto)"
   ]
  },
  {
   "cell_type": "markdown",
   "metadata": {},
   "source": [
    "(f) Suppose that we wish to predict gas mileage (mpg) on the basis\n",
    "of the other variables. Do your plots suggest that any of the\n",
    "other variables might be useful in predicting mpg? Justify your\n",
    "answer."
   ]
  },
  {
   "cell_type": "markdown",
   "metadata": {},
   "source": [
    "From plots mpg may depend on displacement, horsepower, weights, cylinders."
   ]
  },
  {
   "cell_type": "code",
   "execution_count": 39,
   "metadata": {},
   "outputs": [
    {
     "data": {
      "text/html": [
       "<table>\n",
       "<thead><tr><th scope=col>crim</th><th scope=col>zn</th><th scope=col>indus</th><th scope=col>chas</th><th scope=col>nox</th><th scope=col>rm</th><th scope=col>age</th><th scope=col>dis</th><th scope=col>rad</th><th scope=col>tax</th><th scope=col>ptratio</th><th scope=col>black</th><th scope=col>lstat</th><th scope=col>medv</th></tr></thead>\n",
       "<tbody>\n",
       "\t<tr><td>0.00632</td><td>18     </td><td>2.31   </td><td>0      </td><td>0.538  </td><td>6.575  </td><td>65.2   </td><td>4.0900 </td><td>1      </td><td>296    </td><td>15.3   </td><td>396.90 </td><td>4.98   </td><td>24.0   </td></tr>\n",
       "\t<tr><td>0.02731</td><td> 0     </td><td>7.07   </td><td>0      </td><td>0.469  </td><td>6.421  </td><td>78.9   </td><td>4.9671 </td><td>2      </td><td>242    </td><td>17.8   </td><td>396.90 </td><td>9.14   </td><td>21.6   </td></tr>\n",
       "\t<tr><td>0.02729</td><td> 0     </td><td>7.07   </td><td>0      </td><td>0.469  </td><td>7.185  </td><td>61.1   </td><td>4.9671 </td><td>2      </td><td>242    </td><td>17.8   </td><td>392.83 </td><td>4.03   </td><td>34.7   </td></tr>\n",
       "\t<tr><td>0.03237</td><td> 0     </td><td>2.18   </td><td>0      </td><td>0.458  </td><td>6.998  </td><td>45.8   </td><td>6.0622 </td><td>3      </td><td>222    </td><td>18.7   </td><td>394.63 </td><td>2.94   </td><td>33.4   </td></tr>\n",
       "\t<tr><td>0.06905</td><td> 0     </td><td>2.18   </td><td>0      </td><td>0.458  </td><td>7.147  </td><td>54.2   </td><td>6.0622 </td><td>3      </td><td>222    </td><td>18.7   </td><td>396.90 </td><td>5.33   </td><td>36.2   </td></tr>\n",
       "\t<tr><td>0.02985</td><td> 0     </td><td>2.18   </td><td>0      </td><td>0.458  </td><td>6.430  </td><td>58.7   </td><td>6.0622 </td><td>3      </td><td>222    </td><td>18.7   </td><td>394.12 </td><td>5.21   </td><td>28.7   </td></tr>\n",
       "</tbody>\n",
       "</table>\n"
      ],
      "text/latex": [
       "\\begin{tabular}{r|llllllllllllll}\n",
       " crim & zn & indus & chas & nox & rm & age & dis & rad & tax & ptratio & black & lstat & medv\\\\\n",
       "\\hline\n",
       "\t 0.00632 & 18      & 2.31    & 0       & 0.538   & 6.575   & 65.2    & 4.0900  & 1       & 296     & 15.3    & 396.90  & 4.98    & 24.0   \\\\\n",
       "\t 0.02731 &  0      & 7.07    & 0       & 0.469   & 6.421   & 78.9    & 4.9671  & 2       & 242     & 17.8    & 396.90  & 9.14    & 21.6   \\\\\n",
       "\t 0.02729 &  0      & 7.07    & 0       & 0.469   & 7.185   & 61.1    & 4.9671  & 2       & 242     & 17.8    & 392.83  & 4.03    & 34.7   \\\\\n",
       "\t 0.03237 &  0      & 2.18    & 0       & 0.458   & 6.998   & 45.8    & 6.0622  & 3       & 222     & 18.7    & 394.63  & 2.94    & 33.4   \\\\\n",
       "\t 0.06905 &  0      & 2.18    & 0       & 0.458   & 7.147   & 54.2    & 6.0622  & 3       & 222     & 18.7    & 396.90  & 5.33    & 36.2   \\\\\n",
       "\t 0.02985 &  0      & 2.18    & 0       & 0.458   & 6.430   & 58.7    & 6.0622  & 3       & 222     & 18.7    & 394.12  & 5.21    & 28.7   \\\\\n",
       "\\end{tabular}\n"
      ],
      "text/markdown": [
       "\n",
       "| crim | zn | indus | chas | nox | rm | age | dis | rad | tax | ptratio | black | lstat | medv |\n",
       "|---|---|---|---|---|---|---|---|---|---|---|---|---|---|\n",
       "| 0.00632 | 18      | 2.31    | 0       | 0.538   | 6.575   | 65.2    | 4.0900  | 1       | 296     | 15.3    | 396.90  | 4.98    | 24.0    |\n",
       "| 0.02731 |  0      | 7.07    | 0       | 0.469   | 6.421   | 78.9    | 4.9671  | 2       | 242     | 17.8    | 396.90  | 9.14    | 21.6    |\n",
       "| 0.02729 |  0      | 7.07    | 0       | 0.469   | 7.185   | 61.1    | 4.9671  | 2       | 242     | 17.8    | 392.83  | 4.03    | 34.7    |\n",
       "| 0.03237 |  0      | 2.18    | 0       | 0.458   | 6.998   | 45.8    | 6.0622  | 3       | 222     | 18.7    | 394.63  | 2.94    | 33.4    |\n",
       "| 0.06905 |  0      | 2.18    | 0       | 0.458   | 7.147   | 54.2    | 6.0622  | 3       | 222     | 18.7    | 396.90  | 5.33    | 36.2    |\n",
       "| 0.02985 |  0      | 2.18    | 0       | 0.458   | 6.430   | 58.7    | 6.0622  | 3       | 222     | 18.7    | 394.12  | 5.21    | 28.7    |\n",
       "\n"
      ],
      "text/plain": [
       "  crim    zn indus chas nox   rm    age  dis    rad tax ptratio black  lstat\n",
       "1 0.00632 18 2.31  0    0.538 6.575 65.2 4.0900 1   296 15.3    396.90 4.98 \n",
       "2 0.02731  0 7.07  0    0.469 6.421 78.9 4.9671 2   242 17.8    396.90 9.14 \n",
       "3 0.02729  0 7.07  0    0.469 7.185 61.1 4.9671 2   242 17.8    392.83 4.03 \n",
       "4 0.03237  0 2.18  0    0.458 6.998 45.8 6.0622 3   222 18.7    394.63 2.94 \n",
       "5 0.06905  0 2.18  0    0.458 7.147 54.2 6.0622 3   222 18.7    396.90 5.33 \n",
       "6 0.02985  0 2.18  0    0.458 6.430 58.7 6.0622 3   222 18.7    394.12 5.21 \n",
       "  medv\n",
       "1 24.0\n",
       "2 21.6\n",
       "3 34.7\n",
       "4 33.4\n",
       "5 36.2\n",
       "6 28.7"
      ]
     },
     "metadata": {},
     "output_type": "display_data"
    }
   ],
   "source": [
    "library(MASS)\n",
    "head(Boston)"
   ]
  },
  {
   "cell_type": "code",
   "execution_count": 40,
   "metadata": {},
   "outputs": [
    {
     "data": {
      "image/png": "[encoded data removed]",
      "text/plain": [
       "plot without title"
      ]
     },
     "metadata": {},
     "output_type": "display_data"
    }
   ],
   "source": [
    "pairs(Boston)"
   ]
  },
  {
   "cell_type": "markdown",
   "metadata": {},
   "source": [
    "(c) From figures the predictors that may be associated with crime rate are 'indus', 'nox', 'dis', 'age', 'lstat', 'medv'"
   ]
  },
  {
   "cell_type": "markdown",
   "metadata": {},
   "source": [
    "(d) To see maximum, minimum and mean, see summary below. Some suburbs have very high crime compared to median and mean, like outliers, as the result mean is much higher than median. "
   ]
  },
  {
   "cell_type": "code",
   "execution_count": 41,
   "metadata": {},
   "outputs": [
    {
     "data": {
      "text/plain": [
       "      crim                zn             indus            chas        \n",
       " Min.   : 0.00632   Min.   :  0.00   Min.   : 0.46   Min.   :0.00000  \n",
       " 1st Qu.: 0.08204   1st Qu.:  0.00   1st Qu.: 5.19   1st Qu.:0.00000  \n",
       " Median : 0.25651   Median :  0.00   Median : 9.69   Median :0.00000  \n",
       " Mean   : 3.61352   Mean   : 11.36   Mean   :11.14   Mean   :0.06917  \n",
       " 3rd Qu.: 3.67708   3rd Qu.: 12.50   3rd Qu.:18.10   3rd Qu.:0.00000  \n",
       " Max.   :88.97620   Max.   :100.00   Max.   :27.74   Max.   :1.00000  \n",
       "      nox               rm             age              dis        \n",
       " Min.   :0.3850   Min.   :3.561   Min.   :  2.90   Min.   : 1.130  \n",
       " 1st Qu.:0.4490   1st Qu.:5.886   1st Qu.: 45.02   1st Qu.: 2.100  \n",
       " Median :0.5380   Median :6.208   Median : 77.50   Median : 3.207  \n",
       " Mean   :0.5547   Mean   :6.285   Mean   : 68.57   Mean   : 3.795  \n",
       " 3rd Qu.:0.6240   3rd Qu.:6.623   3rd Qu.: 94.08   3rd Qu.: 5.188  \n",
       " Max.   :0.8710   Max.   :8.780   Max.   :100.00   Max.   :12.127  \n",
       "      rad              tax           ptratio          black       \n",
       " Min.   : 1.000   Min.   :187.0   Min.   :12.60   Min.   :  0.32  \n",
       " 1st Qu.: 4.000   1st Qu.:279.0   1st Qu.:17.40   1st Qu.:375.38  \n",
       " Median : 5.000   Median :330.0   Median :19.05   Median :391.44  \n",
       " Mean   : 9.549   Mean   :408.2   Mean   :18.46   Mean   :356.67  \n",
       " 3rd Qu.:24.000   3rd Qu.:666.0   3rd Qu.:20.20   3rd Qu.:396.23  \n",
       " Max.   :24.000   Max.   :711.0   Max.   :22.00   Max.   :396.90  \n",
       "     lstat            medv      \n",
       " Min.   : 1.73   Min.   : 5.00  \n",
       " 1st Qu.: 6.95   1st Qu.:17.02  \n",
       " Median :11.36   Median :21.20  \n",
       " Mean   :12.65   Mean   :22.53  \n",
       " 3rd Qu.:16.95   3rd Qu.:25.00  \n",
       " Max.   :37.97   Max.   :50.00  "
      ]
     },
     "metadata": {},
     "output_type": "display_data"
    }
   ],
   "source": [
    "summary(Boston)"
   ]
  },
  {
   "cell_type": "markdown",
   "metadata": {},
   "source": [
    "(e) How many of the suburbs in this data set bound the Charles river?"
   ]
  },
  {
   "cell_type": "code",
   "execution_count": 42,
   "metadata": {},
   "outputs": [
    {
     "data": {
      "text/html": [
       "35"
      ],
      "text/latex": [
       "35"
      ],
      "text/markdown": [
       "35"
      ],
      "text/plain": [
       "[1] 35"
      ]
     },
     "metadata": {},
     "output_type": "display_data"
    }
   ],
   "source": [
    "sum(Boston$chas)"
   ]
  },
  {
   "cell_type": "markdown",
   "metadata": {},
   "source": [
    "(f) Median pupil-teacher ratio is 19.05 from summary."
   ]
  },
  {
   "cell_type": "markdown",
   "metadata": {},
   "source": [
    "(g) Suburb with lowest median value of owner-occupied homes."
   ]
  },
  {
   "cell_type": "code",
   "execution_count": 43,
   "metadata": {},
   "outputs": [
    {
     "data": {
      "text/html": [
       "'399'"
      ],
      "text/latex": [
       "'399'"
      ],
      "text/markdown": [
       "'399'"
      ],
      "text/plain": [
       "[1] \"399\""
      ]
     },
     "metadata": {},
     "output_type": "display_data"
    }
   ],
   "source": [
    "row.names(Boston)[which.min(Boston$medv)]"
   ]
  },
  {
   "cell_type": "markdown",
   "metadata": {},
   "source": [
    "(h) Number of suburbs with more than 7 and more than 8 rooms per dwelling"
   ]
  },
  {
   "cell_type": "code",
   "execution_count": 44,
   "metadata": {},
   "outputs": [
    {
     "data": {
      "text/html": [
       "64"
      ],
      "text/latex": [
       "64"
      ],
      "text/markdown": [
       "64"
      ],
      "text/plain": [
       "[1] 64"
      ]
     },
     "metadata": {},
     "output_type": "display_data"
    }
   ],
   "source": [
    "sum(Boston$rm>7)"
   ]
  },
  {
   "cell_type": "code",
   "execution_count": 45,
   "metadata": {},
   "outputs": [
    {
     "data": {
      "text/html": [
       "13"
      ],
      "text/latex": [
       "13"
      ],
      "text/markdown": [
       "13"
      ],
      "text/plain": [
       "[1] 13"
      ]
     },
     "metadata": {},
     "output_type": "display_data"
    }
   ],
   "source": [
    "sum(Boston$rm>8)"
   ]
  }
 ],
 "metadata": {
  "kernelspec": {
   "display_name": "R",
   "language": "R",
   "name": "ir"
  },
  "language_info": {
   "codemirror_mode": "r",
   "file_extension": ".r",
   "mimetype": "text/x-r-source",
   "name": "R",
   "pygments_lexer": "r",
   "version": "3.6.1"
  }
 },
 "nbformat": 4,
 "nbformat_minor": 4
}
