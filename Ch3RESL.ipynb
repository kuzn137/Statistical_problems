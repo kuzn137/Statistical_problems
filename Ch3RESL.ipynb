{
 "cells": [
  {
   "cell_type": "markdown",
   "metadata": {},
   "source": [
    "## Chapter 3"
   ]
  },
  {
   "cell_type": "markdown",
   "metadata": {},
   "source": [
    "## Problem 1"
   ]
  },
  {
   "cell_type": "markdown",
   "metadata": {},
   "source": [
    "Show that the F statistic (3.13) for dropping a single coefficient\n",
    "from a model is equal to the square of the corresponding z-score (3.12)."
   ]
  },
  {
   "cell_type": "markdown",
   "metadata": {},
   "source": [
    "$p_1-p_0=1$, $RSS = (Y-X\\beta)^T(Y-X\\beta)$, \n",
    "\n",
    "$\\frac{(RSS_0-RSS_1)}{RSS_1/(N-p_1-1)} = \\beta_j^2/(\\sigma^2(X^TX)_j)$"
   ]
  },
  {
   "cell_type": "markdown",
   "metadata": {},
   "source": [
    "## Problem 2"
   ]
  },
  {
   "cell_type": "markdown",
   "metadata": {},
   "source": [
    "Given data on two variables X and Y , consider fitting a cubic\n",
    "polynomial regression model $f(X) =\n",
    "\\sum^3_{j=0} β_jX_j$. In addition to plotting\n",
    "the fitted curve, you would like a 95% confidence band about the curve.\n",
    "Consider the following two approaches:\n",
    "1. At each point x_0, form a 95% confidence interval for the linear function\n",
    "$a^T\\beta =\\sum^3_{j=0} β_jx_j$\n",
    "\n",
    "2. Form a 95% confidence set for β as in (3.15), which in turn generates\n",
    "confidence intervals for f(x0).\n",
    "\n",
    "How do these approaches differ? Which band is likely to be wider? Conduct\n",
    "a small simulation experiment to compare the two methods.\n"
   ]
  },
  {
   "cell_type": "markdown",
   "metadata": {},
   "source": [
    "The first approach consider percentile for normal distribution for each $\\beta$. The second approach we consider percentile for chi distribution for set of $\\beta$s. I would expect second band to be wider all beta contribute at the same time."
   ]
  },
  {
   "cell_type": "code",
   "execution_count": 10,
   "metadata": {},
   "outputs": [
    {
     "data": {
      "text/html": [
       "<table>\n",
       "<thead><tr><th scope=col>X</th><th scope=col>Y</th></tr></thead>\n",
       "<tbody>\n",
       "\t<tr><td>-0.714649289</td><td> 1.34178604 </td></tr>\n",
       "\t<tr><td> 0.211834952</td><td> 0.77209124 </td></tr>\n",
       "\t<tr><td>-0.744170535</td><td> 0.35824934 </td></tr>\n",
       "\t<tr><td>-0.005034035</td><td>-0.37705148 </td></tr>\n",
       "\t<tr><td> 0.501152492</td><td>-0.32702079 </td></tr>\n",
       "\t<tr><td> 0.477695746</td><td> 2.57795193 </td></tr>\n",
       "\t<tr><td>-0.295726741</td><td>-0.03037306 </td></tr>\n",
       "\t<tr><td> 0.030033769</td><td>-0.88860936 </td></tr>\n",
       "\t<tr><td>-1.986367273</td><td>-4.83334215 </td></tr>\n",
       "\t<tr><td>-0.793572458</td><td>-1.59552720 </td></tr>\n",
       "\t<tr><td>-0.315924471</td><td>-1.71847204 </td></tr>\n",
       "\t<tr><td>-1.020811562</td><td>-0.70343465 </td></tr>\n",
       "\t<tr><td> 0.180141298</td><td> 2.45490844 </td></tr>\n",
       "\t<tr><td> 0.783028967</td><td> 5.74292494 </td></tr>\n",
       "\t<tr><td> 0.223426504</td><td> 1.68661355 </td></tr>\n",
       "\t<tr><td> 0.739032977</td><td> 1.85203442 </td></tr>\n",
       "\t<tr><td>-0.351894081</td><td>-1.29154214 </td></tr>\n",
       "\t<tr><td> 0.663241158</td><td> 1.69180918 </td></tr>\n",
       "\t<tr><td>-0.891286485</td><td>-0.72341026 </td></tr>\n",
       "\t<tr><td>-0.662344786</td><td>-0.39135546 </td></tr>\n",
       "</tbody>\n",
       "</table>\n"
      ],
      "text/latex": [
       "\\begin{tabular}{r|ll}\n",
       " X & Y\\\\\n",
       "\\hline\n",
       "\t -0.714649289 &  1.34178604 \\\\\n",
       "\t  0.211834952 &  0.77209124 \\\\\n",
       "\t -0.744170535 &  0.35824934 \\\\\n",
       "\t -0.005034035 & -0.37705148 \\\\\n",
       "\t  0.501152492 & -0.32702079 \\\\\n",
       "\t  0.477695746 &  2.57795193 \\\\\n",
       "\t -0.295726741 & -0.03037306 \\\\\n",
       "\t  0.030033769 & -0.88860936 \\\\\n",
       "\t -1.986367273 & -4.83334215 \\\\\n",
       "\t -0.793572458 & -1.59552720 \\\\\n",
       "\t -0.315924471 & -1.71847204 \\\\\n",
       "\t -1.020811562 & -0.70343465 \\\\\n",
       "\t  0.180141298 &  2.45490844 \\\\\n",
       "\t  0.783028967 &  5.74292494 \\\\\n",
       "\t  0.223426504 &  1.68661355 \\\\\n",
       "\t  0.739032977 &  1.85203442 \\\\\n",
       "\t -0.351894081 & -1.29154214 \\\\\n",
       "\t  0.663241158 &  1.69180918 \\\\\n",
       "\t -0.891286485 & -0.72341026 \\\\\n",
       "\t -0.662344786 & -0.39135546 \\\\\n",
       "\\end{tabular}\n"
      ],
      "text/markdown": [
       "\n",
       "| X | Y |\n",
       "|---|---|\n",
       "| -0.714649289 |  1.34178604  |\n",
       "|  0.211834952 |  0.77209124  |\n",
       "| -0.744170535 |  0.35824934  |\n",
       "| -0.005034035 | -0.37705148  |\n",
       "|  0.501152492 | -0.32702079  |\n",
       "|  0.477695746 |  2.57795193  |\n",
       "| -0.295726741 | -0.03037306  |\n",
       "|  0.030033769 | -0.88860936  |\n",
       "| -1.986367273 | -4.83334215  |\n",
       "| -0.793572458 | -1.59552720  |\n",
       "| -0.315924471 | -1.71847204  |\n",
       "| -1.020811562 | -0.70343465  |\n",
       "|  0.180141298 |  2.45490844  |\n",
       "|  0.783028967 |  5.74292494  |\n",
       "|  0.223426504 |  1.68661355  |\n",
       "|  0.739032977 |  1.85203442  |\n",
       "| -0.351894081 | -1.29154214  |\n",
       "|  0.663241158 |  1.69180918  |\n",
       "| -0.891286485 | -0.72341026  |\n",
       "| -0.662344786 | -0.39135546  |\n",
       "\n"
      ],
      "text/plain": [
       "   X            Y          \n",
       "1  -0.714649289  1.34178604\n",
       "2   0.211834952  0.77209124\n",
       "3  -0.744170535  0.35824934\n",
       "4  -0.005034035 -0.37705148\n",
       "5   0.501152492 -0.32702079\n",
       "6   0.477695746  2.57795193\n",
       "7  -0.295726741 -0.03037306\n",
       "8   0.030033769 -0.88860936\n",
       "9  -1.986367273 -4.83334215\n",
       "10 -0.793572458 -1.59552720\n",
       "11 -0.315924471 -1.71847204\n",
       "12 -1.020811562 -0.70343465\n",
       "13  0.180141298  2.45490844\n",
       "14  0.783028967  5.74292494\n",
       "15  0.223426504  1.68661355\n",
       "16  0.739032977  1.85203442\n",
       "17 -0.351894081 -1.29154214\n",
       "18  0.663241158  1.69180918\n",
       "19 -0.891286485 -0.72341026\n",
       "20 -0.662344786 -0.39135546"
      ]
     },
     "metadata": {},
     "output_type": "display_data"
    }
   ],
   "source": [
    "X=rnorm(20)\n",
    "Y = 2*X+X^2+0.6*X^3+rnorm(20)\n",
    "df = data.frame(X, Y)\n",
    "df"
   ]
  },
  {
   "cell_type": "code",
   "execution_count": 12,
   "metadata": {},
   "outputs": [
    {
     "data": {
      "text/html": [
       "<table>\n",
       "<thead><tr><th></th><th scope=col>2.5 %</th><th scope=col>97.5 %</th></tr></thead>\n",
       "<tbody>\n",
       "\t<tr><th scope=row>(Intercept)</th><td>-1.02638263</td><td>0.9926408  </td></tr>\n",
       "\t<tr><th scope=row>X</th><td> 0.38231752</td><td>3.0363725  </td></tr>\n",
       "\t<tr><th scope=row>I(X^2)</th><td> 0.04011944</td><td>5.2503809  </td></tr>\n",
       "\t<tr><th scope=row>I(X^3)</th><td> 0.12911475</td><td>2.8934194  </td></tr>\n",
       "</tbody>\n",
       "</table>\n"
      ],
      "text/latex": [
       "\\begin{tabular}{r|ll}\n",
       "  & 2.5 \\% & 97.5 \\%\\\\\n",
       "\\hline\n",
       "\t(Intercept) & -1.02638263 & 0.9926408  \\\\\n",
       "\tX &  0.38231752 & 3.0363725  \\\\\n",
       "\tI(X\\textasciicircum{}2) &  0.04011944 & 5.2503809  \\\\\n",
       "\tI(X\\textasciicircum{}3) &  0.12911475 & 2.8934194  \\\\\n",
       "\\end{tabular}\n"
      ],
      "text/markdown": [
       "\n",
       "| <!--/--> | 2.5 % | 97.5 % |\n",
       "|---|---|---|\n",
       "| (Intercept) | -1.02638263 | 0.9926408   |\n",
       "| X |  0.38231752 | 3.0363725   |\n",
       "| I(X^2) |  0.04011944 | 5.2503809   |\n",
       "| I(X^3) |  0.12911475 | 2.8934194   |\n",
       "\n"
      ],
      "text/plain": [
       "            2.5 %       97.5 %   \n",
       "(Intercept) -1.02638263 0.9926408\n",
       "X            0.38231752 3.0363725\n",
       "I(X^2)       0.04011944 5.2503809\n",
       "I(X^3)       0.12911475 2.8934194"
      ]
     },
     "metadata": {},
     "output_type": "display_data"
    }
   ],
   "source": [
    "m = lm(Y~X+I(X^2)+I(X^3), data=df)\n",
    "confint(m)"
   ]
  },
  {
   "cell_type": "markdown",
   "metadata": {},
   "source": []
  }
 ],
 "metadata": {
  "kernelspec": {
   "display_name": "R",
   "language": "R",
   "name": "ir"
  },
  "language_info": {
   "codemirror_mode": "r",
   "file_extension": ".r",
   "mimetype": "text/x-r-source",
   "name": "R",
   "pygments_lexer": "r",
   "version": "3.6.1"
  }
 },
 "nbformat": 4,
 "nbformat_minor": 4
}
