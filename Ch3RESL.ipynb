{
 "cells": [
  {
   "cell_type": "markdown",
   "metadata": {},
   "source": [
    "## Chapter 3"
   ]
  },
  {
   "cell_type": "markdown",
   "metadata": {},
   "source": [
    "## Problem 1"
   ]
  },
  {
   "cell_type": "markdown",
   "metadata": {},
   "source": [
    "Show that the F statistic (3.13) for dropping a single coefficient\n",
    "from a model is equal to the square of the corresponding z-score (3.12)."
   ]
  },
  {
   "cell_type": "markdown",
   "metadata": {},
   "source": [
    "$p_1-p_0=1$, $RSS = (Y-X\\beta)^T(Y-X\\beta)$, \n",
    "\n",
    "$\\frac{(RSS_0-RSS_1)}{RSS_1/(N-p_1-1)} = \\beta_j^2/(\\sigma^2(X^TX)_j)$"
   ]
  },
  {
   "cell_type": "markdown",
   "metadata": {},
   "source": [
    "## Problem 2"
   ]
  },
  {
   "cell_type": "markdown",
   "metadata": {},
   "source": [
    "Given data on two variables X and Y , consider fitting a cubic\n",
    "polynomial regression model $f(X) =\n",
    "\\sum^3_{j=0} \\beta_jX_j$. In addition to plotting\n",
    "the fitted curve, you would like a 95% confidence band about the curve.\n",
    "Consider the following two approaches:\n",
    "1. At each point x_0, form a 95% confidence interval for the linear function\n",
    "$a^T\\beta =\\sum^3_{j=0} \\beta_jx_j$\n",
    "\n",
    "2. Form a 95% confidence set for β as in (3.15), which in turn generates\n",
    "confidence intervals for f(x0).\n",
    "\n",
    "How do these approaches differ? Which band is likely to be wider? Conduct\n",
    "a small simulation experiment to compare the two methods.\n"
   ]
  },
  {
   "cell_type": "markdown",
   "metadata": {},
   "source": [
    "The first approach consider percentile for normal distribution for each $\\beta$. The second approach we consider percentile for chi distribution for set of $\\beta$s. I would expect second band to be wider all beta contribute at the same time."
   ]
  },
  {
   "cell_type": "code",
   "execution_count": 32,
   "metadata": {},
   "outputs": [
    {
     "data": {
      "text/html": [
       "<table>\n",
       "<thead><tr><th scope=col>X</th><th scope=col>Y</th></tr></thead>\n",
       "<tbody>\n",
       "\t<tr><td> 1.99676405</td><td>12.5180369 </td></tr>\n",
       "\t<tr><td> 0.14887276</td><td> 1.1051888 </td></tr>\n",
       "\t<tr><td> 0.02975812</td><td>-0.9762164 </td></tr>\n",
       "\t<tr><td>-0.10232201</td><td>-2.0374831 </td></tr>\n",
       "\t<tr><td> 1.30950677</td><td> 5.1682533 </td></tr>\n",
       "\t<tr><td>-1.64164290</td><td>-4.0566385 </td></tr>\n",
       "</tbody>\n",
       "</table>\n"
      ],
      "text/latex": [
       "\\begin{tabular}{r|ll}\n",
       " X & Y\\\\\n",
       "\\hline\n",
       "\t  1.99676405 & 12.5180369 \\\\\n",
       "\t  0.14887276 &  1.1051888 \\\\\n",
       "\t  0.02975812 & -0.9762164 \\\\\n",
       "\t -0.10232201 & -2.0374831 \\\\\n",
       "\t  1.30950677 &  5.1682533 \\\\\n",
       "\t -1.64164290 & -4.0566385 \\\\\n",
       "\\end{tabular}\n"
      ],
      "text/markdown": [
       "\n",
       "| X | Y |\n",
       "|---|---|\n",
       "|  1.99676405 | 12.5180369  |\n",
       "|  0.14887276 |  1.1051888  |\n",
       "|  0.02975812 | -0.9762164  |\n",
       "| -0.10232201 | -2.0374831  |\n",
       "|  1.30950677 |  5.1682533  |\n",
       "| -1.64164290 | -4.0566385  |\n",
       "\n"
      ],
      "text/plain": [
       "  X           Y         \n",
       "1  1.99676405 12.5180369\n",
       "2  0.14887276  1.1051888\n",
       "3  0.02975812 -0.9762164\n",
       "4 -0.10232201 -2.0374831\n",
       "5  1.30950677  5.1682533\n",
       "6 -1.64164290 -4.0566385"
      ]
     },
     "metadata": {},
     "output_type": "display_data"
    }
   ],
   "source": [
    "X=rnorm(20)\n",
    "Y = 2*X+X^2+0.6*X^3+rnorm(20)\n",
    "df = data.frame(X, Y)\n",
    "head(df)"
   ]
  },
  {
   "cell_type": "code",
   "execution_count": 33,
   "metadata": {},
   "outputs": [
    {
     "data": {
      "text/html": [
       "<table>\n",
       "<thead><tr><th></th><th scope=col>2.5 %</th><th scope=col>97.5 %</th></tr></thead>\n",
       "<tbody>\n",
       "\t<tr><th scope=row>(Intercept)</th><td>-1.1396592 </td><td>-0.01312149</td></tr>\n",
       "\t<tr><th scope=row>X</th><td> 0.9334383 </td><td> 3.42163117</td></tr>\n",
       "\t<tr><th scope=row>I(X^2)</th><td> 0.5351249 </td><td> 1.51890494</td></tr>\n",
       "\t<tr><th scope=row>I(X^3)</th><td> 0.1749300 </td><td> 0.97235379</td></tr>\n",
       "</tbody>\n",
       "</table>\n"
      ],
      "text/latex": [
       "\\begin{tabular}{r|ll}\n",
       "  & 2.5 \\% & 97.5 \\%\\\\\n",
       "\\hline\n",
       "\t(Intercept) & -1.1396592  & -0.01312149\\\\\n",
       "\tX &  0.9334383  &  3.42163117\\\\\n",
       "\tI(X\\textasciicircum{}2) &  0.5351249  &  1.51890494\\\\\n",
       "\tI(X\\textasciicircum{}3) &  0.1749300  &  0.97235379\\\\\n",
       "\\end{tabular}\n"
      ],
      "text/markdown": [
       "\n",
       "| <!--/--> | 2.5 % | 97.5 % |\n",
       "|---|---|---|\n",
       "| (Intercept) | -1.1396592  | -0.01312149 |\n",
       "| X |  0.9334383  |  3.42163117 |\n",
       "| I(X^2) |  0.5351249  |  1.51890494 |\n",
       "| I(X^3) |  0.1749300  |  0.97235379 |\n",
       "\n"
      ],
      "text/plain": [
       "            2.5 %      97.5 %     \n",
       "(Intercept) -1.1396592 -0.01312149\n",
       "X            0.9334383  3.42163117\n",
       "I(X^2)       0.5351249  1.51890494\n",
       "I(X^3)       0.1749300  0.97235379"
      ]
     },
     "metadata": {},
     "output_type": "display_data"
    }
   ],
   "source": [
    "m = lm(Y~X+I(X^2)+I(X^3), data=df)\n",
    "confint(m)"
   ]
  },
  {
   "cell_type": "code",
   "execution_count": 34,
   "metadata": {},
   "outputs": [
    {
     "data": {
      "text/plain": [
       "\n",
       "Call:\n",
       "lm(formula = Y ~ X + I(X^2) + I(X^3), data = df)\n",
       "\n",
       "Residuals:\n",
       "    Min      1Q  Median      3Q     Max \n",
       "-1.6461 -0.4081 -0.1458  0.4246  2.1160 \n",
       "\n",
       "Coefficients:\n",
       "            Estimate Std. Error t value Pr(>|t|)    \n",
       "(Intercept)  -0.5764     0.2657  -2.169 0.045470 *  \n",
       "X             2.1775     0.5869   3.710 0.001900 ** \n",
       "I(X^2)        1.0270     0.2320   4.426 0.000424 ***\n",
       "I(X^3)        0.5736     0.1881   3.050 0.007639 ** \n",
       "---\n",
       "Signif. codes:  0 '***' 0.001 '**' 0.01 '*' 0.05 '.' 0.1 ' ' 1\n",
       "\n",
       "Residual standard error: 0.9701 on 16 degrees of freedom\n",
       "Multiple R-squared:  0.978,\tAdjusted R-squared:  0.9739 \n",
       "F-statistic: 237.1 on 3 and 16 DF,  p-value: 1.812e-13\n"
      ]
     },
     "metadata": {},
     "output_type": "display_data"
    }
   ],
   "source": [
    "summary(m)"
   ]
  },
  {
   "cell_type": "code",
   "execution_count": 35,
   "metadata": {},
   "outputs": [
    {
     "data": {
      "text/html": [
       "<table>\n",
       "<thead><tr><th></th><th scope=col>2.5 %</th><th scope=col>97.5 %</th></tr></thead>\n",
       "<tbody>\n",
       "\t<tr><th scope=row>(Intercept)</th><td> 1.8172327</td><td> 2.736903 </td></tr>\n",
       "\t<tr><th scope=row>poly(X, 3)1</th><td>22.5039022</td><td>26.616793 </td></tr>\n",
       "\t<tr><th scope=row>poly(X, 3)2</th><td> 5.5220314</td><td> 9.634923 </td></tr>\n",
       "\t<tr><th scope=row>poly(X, 3)3</th><td> 0.9022406</td><td> 5.015132 </td></tr>\n",
       "</tbody>\n",
       "</table>\n"
      ],
      "text/latex": [
       "\\begin{tabular}{r|ll}\n",
       "  & 2.5 \\% & 97.5 \\%\\\\\n",
       "\\hline\n",
       "\t(Intercept) &  1.8172327 &  2.736903 \\\\\n",
       "\tpoly(X, 3)1 & 22.5039022 & 26.616793 \\\\\n",
       "\tpoly(X, 3)2 &  5.5220314 &  9.634923 \\\\\n",
       "\tpoly(X, 3)3 &  0.9022406 &  5.015132 \\\\\n",
       "\\end{tabular}\n"
      ],
      "text/markdown": [
       "\n",
       "| <!--/--> | 2.5 % | 97.5 % |\n",
       "|---|---|---|\n",
       "| (Intercept) |  1.8172327 |  2.736903  |\n",
       "| poly(X, 3)1 | 22.5039022 | 26.616793  |\n",
       "| poly(X, 3)2 |  5.5220314 |  9.634923  |\n",
       "| poly(X, 3)3 |  0.9022406 |  5.015132  |\n",
       "\n"
      ],
      "text/plain": [
       "            2.5 %      97.5 %   \n",
       "(Intercept)  1.8172327  2.736903\n",
       "poly(X, 3)1 22.5039022 26.616793\n",
       "poly(X, 3)2  5.5220314  9.634923\n",
       "poly(X, 3)3  0.9022406  5.015132"
      ]
     },
     "metadata": {},
     "output_type": "display_data"
    }
   ],
   "source": [
    "m = lm(Y~poly(X,3), data=df)\n",
    "confint(m)"
   ]
  },
  {
   "cell_type": "code",
   "execution_count": 36,
   "metadata": {},
   "outputs": [
    {
     "data": {
      "text/plain": [
       "\n",
       "Call:\n",
       "lm(formula = Y ~ poly(X, 3), data = df)\n",
       "\n",
       "Residuals:\n",
       "    Min      1Q  Median      3Q     Max \n",
       "-1.6461 -0.4081 -0.1458  0.4246  2.1160 \n",
       "\n",
       "Coefficients:\n",
       "            Estimate Std. Error t value Pr(>|t|)    \n",
       "(Intercept)   2.2771     0.2169  10.498 1.39e-08 ***\n",
       "poly(X, 3)1  24.5603     0.9701  25.318 2.46e-14 ***\n",
       "poly(X, 3)2   7.5785     0.9701   7.812 7.53e-07 ***\n",
       "poly(X, 3)3   2.9587     0.9701   3.050  0.00764 ** \n",
       "---\n",
       "Signif. codes:  0 '***' 0.001 '**' 0.01 '*' 0.05 '.' 0.1 ' ' 1\n",
       "\n",
       "Residual standard error: 0.9701 on 16 degrees of freedom\n",
       "Multiple R-squared:  0.978,\tAdjusted R-squared:  0.9739 \n",
       "F-statistic: 237.1 on 3 and 16 DF,  p-value: 1.812e-13\n"
      ]
     },
     "metadata": {},
     "output_type": "display_data"
    }
   ],
   "source": [
    "summary(m)"
   ]
  },
  {
   "cell_type": "markdown",
   "metadata": {},
   "source": [
    "At least if to consider poly function the confidence intervals are wider for the same error"
   ]
  },
  {
   "cell_type": "markdown",
   "metadata": {},
   "source": [
    "## Problem 3"
   ]
  },
  {
   "cell_type": "markdown",
   "metadata": {},
   "source": [
    "Gauss–Markov theorem:\n",
    "(a) Prove the Gauss–Markov theorem: the least squares estimate of a\n",
    "parameter $a^T$β has variance no bigger than that of any other linear\n",
    "unbiased estimate of $a^T$β (Section 3.2.2)."
   ]
  },
  {
   "cell_type": "markdown",
   "metadata": {},
   "source": [
    "Let take estimater which differs from least square estimator by bector $b^T$. So that\n",
    "\n",
    "$E(c^T Y) = E(a^T\\beta+b^TY) = E(a^T\\beta) + E(b^tX\\beta)$\n",
    "\n",
    "because we have unbias estimator \n",
    "\n",
    "$=a^T\\beta$ Eq.(3.18)\n",
    "\n",
    "$b^TX = 0$, taking this into account to remove cross products\n",
    "\n",
    "$(c^Ty) = c^TVar(y)c = \\sigma^2 c^Tc = Var(a^T\\beta - b^TY)(a^T \\beta - b^TY)^T = \\sigma^2 (a^Ta/(X^TX)+b^Tb) > Var(a^T\\beta)$"
   ]
  },
  {
   "cell_type": "markdown",
   "metadata": {},
   "source": [
    "(b) The matrix inequality B =< A holds if A − B is positive semidefinite.\n",
    "Show that if $\\hat{V}$ is the variance-covariance matrix of the least squares\n",
    "estimate of β and $V$ is the variance-covariance matrix of any other\n",
    "linear unbiased estimate, then $\\hat{V} =< V$."
   ]
  },
  {
   "cell_type": "markdown",
   "metadata": {},
   "source": [
    "Positive semidefinite $X^T(A-B)X >= 0$ for any real X. $\\hat{V} = E(a^T\\beta a\\beta^T)-E(a^T\\beta)E(a\\beta^T)$, $V = E(c^T\\beta c\\beta^T)-E(c^T\\beta)E(c\\beta^T)$ from part (a) = $\\hat{V}+E(b^Tb)>=\\hat{V}$"
   ]
  },
  {
   "cell_type": "markdown",
   "metadata": {},
   "source": [
    "## Problem 4"
   ]
  },
  {
   "cell_type": "markdown",
   "metadata": {},
   "source": [
    "Show how the vector of least squares coefficients can be obtained\n",
    "from a single pass of the Gram–Schmidt procedure (Algorithm 3.1). Represent\n",
    "your solution in terms of the QR decomposition of X."
   ]
  },
  {
   "cell_type": "markdown",
   "metadata": {},
   "source": [
    "By definition $\\beta=X^TY/(XX^{T})$, $x_j =z_j + \\sum_{k=1}^{j-1} \\gamma_{jk}z_k $ or $X=Z\\Gamma$\n",
    "\n",
    "QR dicomposition: $X=QR$, where Q is orthogonal matrix, R is upper triangular matrix, Z=QD, $\\Gamma=D^{-1}R$, D is diagonal matrix.\n",
    "\n",
    "$\\beta = Q^TR^TY/(QRQ^{T}R^{T})=Q^TY/R$\n",
    "\n",
    "Using that R is upper triangular matrix (see also wiki QR decomposition)\n",
    "$r_{pp}\\beta_{p} = <q_{p}, y>$\n",
    "\n",
    "$\\beta_{p} = <z_p, y>/||z_{p}||^2$\n",
    "\n",
    "Substituting back for equation for $\\beta_j$,\n",
    "\n",
    "$r_{p-1, p-1}\\beta_{p-1} +r_{p-1, p}\\beta_p=<q_p, y>$  \n",
    "\n",
    "$\\beta_{p-1} +\\gamma_{p-1,p}\\beta_p=<z_{p-1}, y>/||z_{p-1}||^2$  "
   ]
  },
  {
   "cell_type": "markdown",
   "metadata": {},
   "source": [
    "## Problem 5"
   ]
  },
  {
   "cell_type": "markdown",
   "metadata": {},
   "source": [
    "Consider the ridge regression problem (3.41). Show that this problem\n",
    "is equivalent to the problem\n",
    "\n",
    "$\\hat{\\beta^c}= argmin_{\\beta_c}{(\\sum_{i=1}^{N}(y_i-\\beta_0^c-\\sum_{j=1}^p(x_{ij}-\\bar{x}_j)\\beta^c_j)^2+\\lambda\\sum_{j=1}^p\\beta_j^{c2})}$\n",
    "\n",
    "Give the correspondence between βc and the original β in (3.41). Characterize\n",
    "the solution to this modified criterion. Show that a similar result\n",
    "holds for the lasso.\n",
    "\n",
    "\n",
    "We can write $\\hat{\\beta^c}= argmin_{\\beta_c}{(\\sum_{i=1}^{N}(y_i-(\\beta_0^c-\\sum_{j=1}^p\\bar{x}_{j})-\\sum_{j=1}^px_{ij}\\beta^c_j)^2+\\lambda\\sum_{j=1}^p\\beta_j^{c2})}$\n",
    "\n",
    "$\\beta_0 = \\beta_0^c-\\sum_{j=1}^p\\bar{x}_{j}$, $\\beta_j=\\beta_j^c$ $j>0$\n",
    "\n",
    "It does not depend on regulization term if it does not contain $\\beta_0$"
   ]
  },
  {
   "cell_type": "markdown",
   "metadata": {},
   "source": [
    "## Problem 6"
   ]
  },
  {
   "cell_type": "markdown",
   "metadata": {},
   "source": [
    "Show that the ridge regression estimate is the mean (and mode)\n",
    "of the posterior distribution, under a Gaussian prior $\\beta ~ N(0, \\tau I)$, and\n",
    "Gaussian sampling model $y ~ N(X\\beta, \\sigma^2I)$. Find the relationship between\n",
    "the regularization parameter $\\lambda$ in the ridge formula, and the variances $\\tau$\n",
    "and $\\sigma^2$.\n",
    "\n",
    "$\\hat{\\beta}_R = X^Ty(X^TX+\\lambda I)^{-1}$\n",
    "\n",
    "From Gaussian distribution:\n",
    "\n",
    "$\\hat{\\beta}_R = argmax_{\\beta}(L(y|\\beta)\\pi(\\beta))$, where L is Gaussian likelyhood, $\\pi(\\beta)$ is probability, $p(\\beta|y)=p(y|\\beta)\\pi(\\beta)$.\n",
    "Taking log from argument\n",
    "\n",
    "$\\hat{\\beta}_R = argmax_{\\beta}(-(y-X\\beta)^T(y-X\\beta)/\\sigma^2-\\beta^T\\beta/\\tau^2)=argmin_{\\beta}((\\beta^TX^TX\\beta-\\beta^TX^Ty-y^TX\\beta)/\\sigma^2+\\beta^T\\beta/\\tau^2)$ \n",
    "\n",
    "If gradient by $\\beta$ in argmin is 0 we have\n",
    "\n",
    "$\\hat{\\beta}_R = X^Ty(X^TX + \\sigma^2/\\tau^2  I)^{-1}$"
   ]
  },
  {
   "cell_type": "markdown",
   "metadata": {},
   "source": [
    "## Problem 7"
   ]
  },
  {
   "cell_type": "raw",
   "metadata": {},
   "source": [
    "This problem is similar or even part of problem 6 where $log(L(y|\\beta)\\pi(\\beta))$ is written by components."
   ]
  },
  {
   "cell_type": "markdown",
   "metadata": {},
   "source": [
    "## Problem 8"
   ]
  },
  {
   "cell_type": "markdown",
   "metadata": {},
   "source": [
    "Consider the QR decomposition of the uncentered N × (p + 1)\n",
    "matrix X (whose first column is all ones), and the SVD of the N × p\n",
    "centered matrix $\\hat{X}$. Show that Q2 and U span the same subspace, where\n",
    "Q2 is the sub-matrix of Q with the first column removed. Under what\n",
    "circumstances will they be the same, up to sign flips?"
   ]
  },
  {
   "cell_type": "markdown",
   "metadata": {},
   "source": [
    "Q is orthoganal matrix the columns of Q are $q_1, .., q_{p+1}$.  By QR decomposition $span(q_i,... q_j) = span(x_i, ..,x_j), 1<=j<=p+1$ or for Q2 if we shift indexes by -1  $span(q_i,... q_j) = span(x_i, ..,x_j), 1<=j<=p$ (1)\n",
    "\n",
    "We can write $\\hat{x}_i = \\sum_{j<i} a_jq_j$, so $span(q_1, .., q_i)=span(x_1,.., x_i)$ (2)\n",
    "For SVD $span(u_1,.., u_p) = span(\\hat{x}_1,.., \\hat{x}_p)$ (3). Therefore from (1) -(3) $span(q_i,... q_j) = span(u_1,.., u_p)$, Q2 and U span the same subspace.\n",
    "\n",
    "If $sign(\\hat{x_i})=sign(x_i)$(X is without original first column) for any $i$ they must be the same up to sign flip."
   ]
  },
  {
   "cell_type": "markdown",
   "metadata": {},
   "source": [
    "## Problem 9"
   ]
  },
  {
   "cell_type": "markdown",
   "metadata": {},
   "source": [
    "Forward stepwise regression. Suppose we have the QR decomposition\n",
    "for the N×q matrix X1 in a multiple regression problem with response\n",
    "y, and we have an additional p−q predictors in the matrix X2. Denote the\n",
    "current residual by r. We wish to establish which one of these additional\n",
    "variables will reduce the residual-sum-of squares the most when included\n",
    "with those in X1. Describe an efficient procedure for doing this."
   ]
  },
  {
   "cell_type": "markdown",
   "metadata": {},
   "source": [
    "Add $X_{21}$ to matrix $X_{1}$, do QR decomposition, find $\\beta$ and new residual r. Compare it to initial r if r get smaller save $X_{21}$ and corresponding sum. Try the same on next, compare with the current saved smallest r. Do it for all predictors in $X_2$. This way find which predictor has smallest r."
   ]
  },
  {
   "cell_type": "markdown",
   "metadata": {},
   "source": [
    "## Problem 10"
   ]
  },
  {
   "cell_type": "markdown",
   "metadata": {},
   "source": [
    "Backward stepwise regression. Suppose we have the multiple regression\n",
    "fit of y on X, along with the standard errors and Z-scores as in\n",
    "Table 3.2. We wish to establish which variable, when dropped, will increase\n",
    "the residual sum-of-squares the least. How would you do this?"
   ]
  },
  {
   "cell_type": "markdown",
   "metadata": {},
   "source": [
    "Consider most of p-1 models removing 1 feature. Choose model with smallest  residual sum-of-squares. I would start from highest absolute value of z score, but not rely too much on it. If the residual sum-of-squares really started to increase more for smaller Z score and Z scores distribution does not change much in new models, then it may be Ok not to check features with smallest  scores."
   ]
  },
  {
   "cell_type": "markdown",
   "metadata": {},
   "source": [
    "## Problem 11"
   ]
  },
  {
   "cell_type": "markdown",
   "metadata": {},
   "source": [
    "Show that the solution to the multivariate linear regression problem (3.40) is given by (3.39). What happens if the covariance matrices $\\sum_i$\n",
    "are different for each observation?"
   ]
  },
  {
   "cell_type": "markdown",
   "metadata": {},
   "source": [
    "If we have the same $\\epsilon_k$ for all observations it does not participate in $\\sum_i$, minimizing $RSS(B, \\sum)$ we come\n",
    "again to equation $X^T\\sum^{-1}(Y-X\\hat{B}) = 0$ in case if $\\sum$ is independent from $i$, $\\hat{B}=X^TY/(X^TX)$. If $\\sum_ik$\n",
    "are deferent for different i, we have like different weights in equation and we must leave $\\sum$ in it  $\\hat{B}=X^T\\sum^{-1}Y/(X^TX)$"
   ]
  },
  {
   "cell_type": "markdown",
   "metadata": {},
   "source": [
    "## Problem 12"
   ]
  },
  {
   "cell_type": "markdown",
   "metadata": {},
   "source": [
    "Show that the ridge regression estimates can be obtained by\n",
    "ordinary least squares regression on an augmented data set. We augment\n",
    "the centered matrix X with p additional rows $\\sqrt{\\lambda}I$, and augment y with p\n",
    "zeros. By introducing artificial data having response value zero, the fitting\n",
    "procedure is forced to shrink the coefficients toward zero. This is related to\n",
    "the idea of hints due to Abu-Mostafa (1995), where model constraints are\n",
    "implemented by adding artificial data examples that satisfy them."
   ]
  },
  {
   "cell_type": "markdown",
   "metadata": {},
   "source": [
    "Loss function is $\\sum_{j=1}^{N+p}\\sum_{k=0}^p(y_{j}-x_{jk}\\beta_k)^2=\\sum_{j=1}^{N}\\sum_{k=0}^p(y_{j}-x_{jk}\\beta_k)^2+\\sum_{j=N+1}^{N+p}\\lambda(\\sum_{k=0}^p I_{jk}\\beta_k)^2 =\\sum_{j=1}^{N}\\sum_{k=0}^p(y_{j}-x_{jk}\\beta_k)^2+\\sum_{k=0}^p\\lambda\\beta_k^2$"
   ]
  },
  {
   "cell_type": "markdown",
   "metadata": {},
   "source": [
    "## Problem 13"
   ]
  },
  {
   "cell_type": "markdown",
   "metadata": {},
   "source": [
    "Derive the expression (3.62), and show that $\\hat{\\beta}_{pcr}(p) = \\hat{\\beta}_{ls}$."
   ]
  },
  {
   "cell_type": "markdown",
   "metadata": {},
   "source": [
    "$z_m = Xv_m$, substituting in (3.61) we get $\\hat{y}_{pcr} =\\bar{y}{\\bar{1}}+ X\\sum_{m=1}^M\\hat{\\theta}_mv_m$, $\\hat{\\beta}_{pcr} = \\sum_{m=1}^M\\hat{\\theta}_mv_m = \\hat{\\beta}_{ls}$, because $\\hat{y}_{ls}=\\bar{y}{\\bar{1}}+X\\hat{\\beta}_{ls}$"
   ]
  },
  {
   "cell_type": "markdown",
   "metadata": {},
   "source": [
    "## Problem 14"
   ]
  },
  {
   "cell_type": "markdown",
   "metadata": {},
   "source": [
    "Show that in the orthogonal case, PLS stops after m = 1 steps,\n",
    "because subsequent $\\hat{\\phi}_{mj}$ in step 2 in Algorithm 3.3 are zero."
   ]
  },
  {
   "cell_type": "markdown",
   "metadata": {},
   "source": [
    "Consider $x_j^{(m)}$, equation in part 2(d). In orthogonal case in part 2 (d) of Algorithm 3.3 we obtain that in $<z_m, x_j^{(m-1)}>=\\hat{\\phi}_{mj}x_j^{(m-1)2}$, m=2, we have only this component. Then $<x_j^{(m)},y> = <x_j^{(m-1)},y>-(\\hat{\\phi}_{mj}x_j^{(m-1)2}<z_m, y>)/\\sum_{j=1}^p{\\hat{\\phi}_{mj}^2x_j^{(m-1)2}}=\\hat{\\phi}_{mj}-\\hat{\\phi}_{mj}=0$, $z_m = \\sum_{j=1}^p \\phi_{mj}x^{(m-1)}_j$."
   ]
  },
  {
   "cell_type": "markdown",
   "metadata": {},
   "source": [
    "## Problem 15"
   ]
  },
  {
   "cell_type": "markdown",
   "metadata": {},
   "source": [
    "Verify expression (3.64), and hence show that the partial least\n",
    "squares directions are a compromise between the ordinary regression coefficient\n",
    "and the principal component directions."
   ]
  },
  {
   "cell_type": "markdown",
   "metadata": {},
   "source": [
    "Algorithm 3.3 is maximization of covariance matrix $max arg_{||\\alpha=1||}cov(Y, \\alpha X)^2 = max arg_{||\\alpha=1||} corr(Y, \\alpha X)^2Var(Y) Var(\\alpha X)$) (*)\n",
    "\n",
    "$cov_{||\\alpha=1||}(Y, \\alpha X)^2 = \\alpha^TX^TYY^TX\\alpha |_{\\alpha=1}$\n",
    "\n",
    "Condition of maximum eigen value and eigen vector pair of this symmetic matrix $X^TYY^TX$  is (*)\n",
    "\n",
    "In Algorithm 3.3 $\\phi_{mj}$ are products $<x_{j}, y>$, we find eigen values and vectors, at the end $\\phi_{mj}$ = 0 we come to (*) and 3.64.\n"
   ]
  },
  {
   "cell_type": "markdown",
   "metadata": {},
   "source": [
    "## Problem 16"
   ]
  },
  {
   "cell_type": "markdown",
   "metadata": {},
   "source": [
    "Derive the entries in Table 3.4, the explicit forms for estimators\n",
    "in the orthogonal case."
   ]
  },
  {
   "cell_type": "markdown",
   "metadata": {},
   "source": [
    "In orthogonal case $XX^T =1$ therefore\n",
    "\n",
    "The best subset is just linear estimator with condition based on best set $\\beta_i>=\\beta_{(M)}$,\n",
    "\n",
    "$X^TY/(X^TX)=\\hat{\\beta}_iI(\\hat{\\beta}_i>=\\hat{\\beta}_{(M)})$\n",
    "\n",
    "In the Ridge case\n",
    "\n",
    "Minimizing Loss function is $(Y-X\\beta_j)^2 + \\lambda \\beta_{j}^2$, take derivative by $\\beta$,\n",
    "\n",
    "$X^TY-\\beta_j - \\lambda\\beta_j = 0$ -> estimator $\\beta_j=X^TY/(1+\\lambda)=\\hat{\\beta}_j/(1+\\lambda)$\n",
    "\n",
    "For Lasso:\n",
    "\n",
    "Minimizing Loss function is $(Y-X\\beta_j)^2 + \\lambda \\beta_{j}$, take derivative by $\\beta$,\n",
    "\n",
    "$X^TY-\\beta_j - \\lambda = 0$ -> estimator $ \\beta_j =X^TY-\\lambda= \\hat{\\beta}_j-\\lambda=sign(\\hat{\\beta}_j)(\\hat{\\beta}_j-\\lambda)_+$"
   ]
  },
  {
   "cell_type": "markdown",
   "metadata": {},
   "source": [
    "## Problem 17"
   ]
  },
  {
   "cell_type": "markdown",
   "metadata": {},
   "source": [
    "Repeat the analysis of Table 3.3 on the spam data discussed in\n",
    "Chapter 1."
   ]
  },
  {
   "cell_type": "code",
   "execution_count": 249,
   "metadata": {},
   "outputs": [
    {
     "name": "stdout",
     "output_type": "stream",
     "text": [
      "package 'pls' successfully unpacked and MD5 sums checked\n",
      "\n",
      "The downloaded binary packages are in\n",
      "\tC:\\Users\\kuzn1\\AppData\\Local\\Temp\\RtmpOqA4vz\\downloaded_packages\n"
     ]
    },
    {
     "data": {
      "text/html": [
       "<table>\n",
       "<thead><tr><th scope=col>make</th><th scope=col>address</th><th scope=col>all</th><th scope=col>num3d</th><th scope=col>our</th><th scope=col>over</th><th scope=col>remove</th><th scope=col>internet</th><th scope=col>order</th><th scope=col>mail</th><th scope=col>...</th><th scope=col>charSemicolon</th><th scope=col>charRoundbracket</th><th scope=col>charSquarebracket</th><th scope=col>charExclamation</th><th scope=col>charDollar</th><th scope=col>charHash</th><th scope=col>capitalAve</th><th scope=col>capitalLong</th><th scope=col>capitalTotal</th><th scope=col>type</th></tr></thead>\n",
       "<tbody>\n",
       "\t<tr><td>0.00 </td><td>0.64 </td><td>0.64 </td><td>0    </td><td>0.32 </td><td>0.00 </td><td>0.00 </td><td>0.00 </td><td>0.00 </td><td>0.00 </td><td>...  </td><td>0.00 </td><td>0.000</td><td>0    </td><td>0.778</td><td>0.000</td><td>0.000</td><td>3.756</td><td> 61  </td><td> 278 </td><td>spam </td></tr>\n",
       "\t<tr><td>0.21 </td><td>0.28 </td><td>0.50 </td><td>0    </td><td>0.14 </td><td>0.28 </td><td>0.21 </td><td>0.07 </td><td>0.00 </td><td>0.94 </td><td>...  </td><td>0.00 </td><td>0.132</td><td>0    </td><td>0.372</td><td>0.180</td><td>0.048</td><td>5.114</td><td>101  </td><td>1028 </td><td>spam </td></tr>\n",
       "\t<tr><td>0.06 </td><td>0.00 </td><td>0.71 </td><td>0    </td><td>1.23 </td><td>0.19 </td><td>0.19 </td><td>0.12 </td><td>0.64 </td><td>0.25 </td><td>...  </td><td>0.01 </td><td>0.143</td><td>0    </td><td>0.276</td><td>0.184</td><td>0.010</td><td>9.821</td><td>485  </td><td>2259 </td><td>spam </td></tr>\n",
       "\t<tr><td>0.00 </td><td>0.00 </td><td>0.00 </td><td>0    </td><td>0.63 </td><td>0.00 </td><td>0.31 </td><td>0.63 </td><td>0.31 </td><td>0.63 </td><td>...  </td><td>0.00 </td><td>0.137</td><td>0    </td><td>0.137</td><td>0.000</td><td>0.000</td><td>3.537</td><td> 40  </td><td> 191 </td><td>spam </td></tr>\n",
       "\t<tr><td>0.00 </td><td>0.00 </td><td>0.00 </td><td>0    </td><td>0.63 </td><td>0.00 </td><td>0.31 </td><td>0.63 </td><td>0.31 </td><td>0.63 </td><td>...  </td><td>0.00 </td><td>0.135</td><td>0    </td><td>0.135</td><td>0.000</td><td>0.000</td><td>3.537</td><td> 40  </td><td> 191 </td><td>spam </td></tr>\n",
       "\t<tr><td>0.00 </td><td>0.00 </td><td>0.00 </td><td>0    </td><td>1.85 </td><td>0.00 </td><td>0.00 </td><td>1.85 </td><td>0.00 </td><td>0.00 </td><td>...  </td><td>0.00 </td><td>0.223</td><td>0    </td><td>0.000</td><td>0.000</td><td>0.000</td><td>3.000</td><td> 15  </td><td>  54 </td><td>spam </td></tr>\n",
       "</tbody>\n",
       "</table>\n"
      ],
      "text/latex": [
       "\\begin{tabular}{r|llllllllllllllllllllllllllllllllllllllllllllllllllllllllll}\n",
       " make & address & all & num3d & our & over & remove & internet & order & mail & ... & charSemicolon & charRoundbracket & charSquarebracket & charExclamation & charDollar & charHash & capitalAve & capitalLong & capitalTotal & type\\\\\n",
       "\\hline\n",
       "\t 0.00  & 0.64  & 0.64  & 0     & 0.32  & 0.00  & 0.00  & 0.00  & 0.00  & 0.00  & ...   & 0.00  & 0.000 & 0     & 0.778 & 0.000 & 0.000 & 3.756 &  61   &  278  & spam \\\\\n",
       "\t 0.21  & 0.28  & 0.50  & 0     & 0.14  & 0.28  & 0.21  & 0.07  & 0.00  & 0.94  & ...   & 0.00  & 0.132 & 0     & 0.372 & 0.180 & 0.048 & 5.114 & 101   & 1028  & spam \\\\\n",
       "\t 0.06  & 0.00  & 0.71  & 0     & 1.23  & 0.19  & 0.19  & 0.12  & 0.64  & 0.25  & ...   & 0.01  & 0.143 & 0     & 0.276 & 0.184 & 0.010 & 9.821 & 485   & 2259  & spam \\\\\n",
       "\t 0.00  & 0.00  & 0.00  & 0     & 0.63  & 0.00  & 0.31  & 0.63  & 0.31  & 0.63  & ...   & 0.00  & 0.137 & 0     & 0.137 & 0.000 & 0.000 & 3.537 &  40   &  191  & spam \\\\\n",
       "\t 0.00  & 0.00  & 0.00  & 0     & 0.63  & 0.00  & 0.31  & 0.63  & 0.31  & 0.63  & ...   & 0.00  & 0.135 & 0     & 0.135 & 0.000 & 0.000 & 3.537 &  40   &  191  & spam \\\\\n",
       "\t 0.00  & 0.00  & 0.00  & 0     & 1.85  & 0.00  & 0.00  & 1.85  & 0.00  & 0.00  & ...   & 0.00  & 0.223 & 0     & 0.000 & 0.000 & 0.000 & 3.000 &  15   &   54  & spam \\\\\n",
       "\\end{tabular}\n"
      ],
      "text/markdown": [
       "\n",
       "| make | address | all | num3d | our | over | remove | internet | order | mail | ... | charSemicolon | charRoundbracket | charSquarebracket | charExclamation | charDollar | charHash | capitalAve | capitalLong | capitalTotal | type |\n",
       "|---|---|---|---|---|---|---|---|---|---|---|---|---|---|---|---|---|---|---|---|---|\n",
       "| 0.00  | 0.64  | 0.64  | 0     | 0.32  | 0.00  | 0.00  | 0.00  | 0.00  | 0.00  | ...   | 0.00  | 0.000 | 0     | 0.778 | 0.000 | 0.000 | 3.756 |  61   |  278  | spam  |\n",
       "| 0.21  | 0.28  | 0.50  | 0     | 0.14  | 0.28  | 0.21  | 0.07  | 0.00  | 0.94  | ...   | 0.00  | 0.132 | 0     | 0.372 | 0.180 | 0.048 | 5.114 | 101   | 1028  | spam  |\n",
       "| 0.06  | 0.00  | 0.71  | 0     | 1.23  | 0.19  | 0.19  | 0.12  | 0.64  | 0.25  | ...   | 0.01  | 0.143 | 0     | 0.276 | 0.184 | 0.010 | 9.821 | 485   | 2259  | spam  |\n",
       "| 0.00  | 0.00  | 0.00  | 0     | 0.63  | 0.00  | 0.31  | 0.63  | 0.31  | 0.63  | ...   | 0.00  | 0.137 | 0     | 0.137 | 0.000 | 0.000 | 3.537 |  40   |  191  | spam  |\n",
       "| 0.00  | 0.00  | 0.00  | 0     | 0.63  | 0.00  | 0.31  | 0.63  | 0.31  | 0.63  | ...   | 0.00  | 0.135 | 0     | 0.135 | 0.000 | 0.000 | 3.537 |  40   |  191  | spam  |\n",
       "| 0.00  | 0.00  | 0.00  | 0     | 1.85  | 0.00  | 0.00  | 1.85  | 0.00  | 0.00  | ...   | 0.00  | 0.223 | 0     | 0.000 | 0.000 | 0.000 | 3.000 |  15   |   54  | spam  |\n",
       "\n"
      ],
      "text/plain": [
       "  make address all  num3d our  over remove internet order mail ...\n",
       "1 0.00 0.64    0.64 0     0.32 0.00 0.00   0.00     0.00  0.00 ...\n",
       "2 0.21 0.28    0.50 0     0.14 0.28 0.21   0.07     0.00  0.94 ...\n",
       "3 0.06 0.00    0.71 0     1.23 0.19 0.19   0.12     0.64  0.25 ...\n",
       "4 0.00 0.00    0.00 0     0.63 0.00 0.31   0.63     0.31  0.63 ...\n",
       "5 0.00 0.00    0.00 0     0.63 0.00 0.31   0.63     0.31  0.63 ...\n",
       "6 0.00 0.00    0.00 0     1.85 0.00 0.00   1.85     0.00  0.00 ...\n",
       "  charSemicolon charRoundbracket charSquarebracket charExclamation charDollar\n",
       "1 0.00          0.000            0                 0.778           0.000     \n",
       "2 0.00          0.132            0                 0.372           0.180     \n",
       "3 0.01          0.143            0                 0.276           0.184     \n",
       "4 0.00          0.137            0                 0.137           0.000     \n",
       "5 0.00          0.135            0                 0.135           0.000     \n",
       "6 0.00          0.223            0                 0.000           0.000     \n",
       "  charHash capitalAve capitalLong capitalTotal type\n",
       "1 0.000    3.756       61          278         spam\n",
       "2 0.048    5.114      101         1028         spam\n",
       "3 0.010    9.821      485         2259         spam\n",
       "4 0.000    3.537       40          191         spam\n",
       "5 0.000    3.537       40          191         spam\n",
       "6 0.000    3.000       15           54         spam"
      ]
     },
     "metadata": {},
     "output_type": "display_data"
    },
    {
     "name": "stderr",
     "output_type": "stream",
     "text": [
      "Warning message:\n",
      "\"package 'pls' was built under R version 3.6.3\"\n",
      "Attaching package: 'pls'\n",
      "\n",
      "The following object is masked from 'package:stats':\n",
      "\n",
      "    loadings\n",
      "\n"
     ]
    }
   ],
   "source": [
    "install.packages(\"pls\", repos='http://cran.us.r-project.org')\n",
    "library(kernlab)\n",
    "library(data.table)\n",
    "data(spam)\n",
    "head(spam)\n",
    "library(leaps)\n",
    "library(glmnet)\n",
    "library (\"MASS\")\n",
    "library (\"pls\")"
   ]
  },
  {
   "cell_type": "code",
   "execution_count": 84,
   "metadata": {},
   "outputs": [],
   "source": [
    "regsubplot=function(reg.sum){\n",
    "    par(mfrow = c(2, 2))\n",
    "    plot(1:20, reg.sum$adjr2, type=\"b\", col=\"blue\", xlab = \"Model\", ylab = \"R2\")\n",
    "    plot(1:20, reg.sum$cp, type=\"b\", col=\"blue\",xlab = \"Model\", ylab = \"C_p\")\n",
    "    plot(1:20, reg.sum$bic, type=\"b\", , col = \"blue\", xlab = \"Model\", ylab = \"BIC\")\n",
    "   }"
   ]
  },
  {
   "cell_type": "markdown",
   "metadata": {},
   "source": [
    "I'm going to predict \"your\", it is one of the word that occurrence changes much depending on spam or not."
   ]
  },
  {
   "cell_type": "code",
   "execution_count": 168,
   "metadata": {},
   "outputs": [
    {
     "data": {
      "text/html": [
       "<ol class=list-inline>\n",
       "\t<li>'make'</li>\n",
       "\t<li>'address'</li>\n",
       "\t<li>'all'</li>\n",
       "\t<li>'num3d'</li>\n",
       "\t<li>'our'</li>\n",
       "\t<li>'over'</li>\n",
       "\t<li>'remove'</li>\n",
       "\t<li>'internet'</li>\n",
       "\t<li>'order'</li>\n",
       "\t<li>'mail'</li>\n",
       "\t<li>'receive'</li>\n",
       "\t<li>'will'</li>\n",
       "\t<li>'people'</li>\n",
       "\t<li>'report'</li>\n",
       "\t<li>'addresses'</li>\n",
       "\t<li>'free'</li>\n",
       "\t<li>'business'</li>\n",
       "\t<li>'email'</li>\n",
       "\t<li>'you'</li>\n",
       "\t<li>'credit'</li>\n",
       "\t<li>'your'</li>\n",
       "\t<li>'font'</li>\n",
       "\t<li>'num000'</li>\n",
       "\t<li>'money'</li>\n",
       "\t<li>'hp'</li>\n",
       "\t<li>'hpl'</li>\n",
       "\t<li>'george'</li>\n",
       "\t<li>'num650'</li>\n",
       "\t<li>'lab'</li>\n",
       "\t<li>'labs'</li>\n",
       "\t<li>'telnet'</li>\n",
       "\t<li>'num857'</li>\n",
       "\t<li>'data'</li>\n",
       "\t<li>'num415'</li>\n",
       "\t<li>'num85'</li>\n",
       "\t<li>'technology'</li>\n",
       "\t<li>'num1999'</li>\n",
       "\t<li>'parts'</li>\n",
       "\t<li>'pm'</li>\n",
       "\t<li>'direct'</li>\n",
       "\t<li>'cs'</li>\n",
       "\t<li>'meeting'</li>\n",
       "\t<li>'original'</li>\n",
       "\t<li>'project'</li>\n",
       "\t<li>'re'</li>\n",
       "\t<li>'edu'</li>\n",
       "\t<li>'table'</li>\n",
       "\t<li>'conference'</li>\n",
       "\t<li>'charSemicolon'</li>\n",
       "\t<li>'charRoundbracket'</li>\n",
       "\t<li>'charSquarebracket'</li>\n",
       "\t<li>'charExclamation'</li>\n",
       "\t<li>'charDollar'</li>\n",
       "\t<li>'charHash'</li>\n",
       "\t<li>'capitalAve'</li>\n",
       "\t<li>'capitalLong'</li>\n",
       "\t<li>'capitalTotal'</li>\n",
       "\t<li>'type'</li>\n",
       "\t<li>'typen'</li>\n",
       "</ol>\n"
      ],
      "text/latex": [
       "\\begin{enumerate*}\n",
       "\\item 'make'\n",
       "\\item 'address'\n",
       "\\item 'all'\n",
       "\\item 'num3d'\n",
       "\\item 'our'\n",
       "\\item 'over'\n",
       "\\item 'remove'\n",
       "\\item 'internet'\n",
       "\\item 'order'\n",
       "\\item 'mail'\n",
       "\\item 'receive'\n",
       "\\item 'will'\n",
       "\\item 'people'\n",
       "\\item 'report'\n",
       "\\item 'addresses'\n",
       "\\item 'free'\n",
       "\\item 'business'\n",
       "\\item 'email'\n",
       "\\item 'you'\n",
       "\\item 'credit'\n",
       "\\item 'your'\n",
       "\\item 'font'\n",
       "\\item 'num000'\n",
       "\\item 'money'\n",
       "\\item 'hp'\n",
       "\\item 'hpl'\n",
       "\\item 'george'\n",
       "\\item 'num650'\n",
       "\\item 'lab'\n",
       "\\item 'labs'\n",
       "\\item 'telnet'\n",
       "\\item 'num857'\n",
       "\\item 'data'\n",
       "\\item 'num415'\n",
       "\\item 'num85'\n",
       "\\item 'technology'\n",
       "\\item 'num1999'\n",
       "\\item 'parts'\n",
       "\\item 'pm'\n",
       "\\item 'direct'\n",
       "\\item 'cs'\n",
       "\\item 'meeting'\n",
       "\\item 'original'\n",
       "\\item 'project'\n",
       "\\item 're'\n",
       "\\item 'edu'\n",
       "\\item 'table'\n",
       "\\item 'conference'\n",
       "\\item 'charSemicolon'\n",
       "\\item 'charRoundbracket'\n",
       "\\item 'charSquarebracket'\n",
       "\\item 'charExclamation'\n",
       "\\item 'charDollar'\n",
       "\\item 'charHash'\n",
       "\\item 'capitalAve'\n",
       "\\item 'capitalLong'\n",
       "\\item 'capitalTotal'\n",
       "\\item 'type'\n",
       "\\item 'typen'\n",
       "\\end{enumerate*}\n"
      ],
      "text/markdown": [
       "1. 'make'\n",
       "2. 'address'\n",
       "3. 'all'\n",
       "4. 'num3d'\n",
       "5. 'our'\n",
       "6. 'over'\n",
       "7. 'remove'\n",
       "8. 'internet'\n",
       "9. 'order'\n",
       "10. 'mail'\n",
       "11. 'receive'\n",
       "12. 'will'\n",
       "13. 'people'\n",
       "14. 'report'\n",
       "15. 'addresses'\n",
       "16. 'free'\n",
       "17. 'business'\n",
       "18. 'email'\n",
       "19. 'you'\n",
       "20. 'credit'\n",
       "21. 'your'\n",
       "22. 'font'\n",
       "23. 'num000'\n",
       "24. 'money'\n",
       "25. 'hp'\n",
       "26. 'hpl'\n",
       "27. 'george'\n",
       "28. 'num650'\n",
       "29. 'lab'\n",
       "30. 'labs'\n",
       "31. 'telnet'\n",
       "32. 'num857'\n",
       "33. 'data'\n",
       "34. 'num415'\n",
       "35. 'num85'\n",
       "36. 'technology'\n",
       "37. 'num1999'\n",
       "38. 'parts'\n",
       "39. 'pm'\n",
       "40. 'direct'\n",
       "41. 'cs'\n",
       "42. 'meeting'\n",
       "43. 'original'\n",
       "44. 'project'\n",
       "45. 're'\n",
       "46. 'edu'\n",
       "47. 'table'\n",
       "48. 'conference'\n",
       "49. 'charSemicolon'\n",
       "50. 'charRoundbracket'\n",
       "51. 'charSquarebracket'\n",
       "52. 'charExclamation'\n",
       "53. 'charDollar'\n",
       "54. 'charHash'\n",
       "55. 'capitalAve'\n",
       "56. 'capitalLong'\n",
       "57. 'capitalTotal'\n",
       "58. 'type'\n",
       "59. 'typen'\n",
       "\n",
       "\n"
      ],
      "text/plain": [
       " [1] \"make\"              \"address\"           \"all\"              \n",
       " [4] \"num3d\"             \"our\"               \"over\"             \n",
       " [7] \"remove\"            \"internet\"          \"order\"            \n",
       "[10] \"mail\"              \"receive\"           \"will\"             \n",
       "[13] \"people\"            \"report\"            \"addresses\"        \n",
       "[16] \"free\"              \"business\"          \"email\"            \n",
       "[19] \"you\"               \"credit\"            \"your\"             \n",
       "[22] \"font\"              \"num000\"            \"money\"            \n",
       "[25] \"hp\"                \"hpl\"               \"george\"           \n",
       "[28] \"num650\"            \"lab\"               \"labs\"             \n",
       "[31] \"telnet\"            \"num857\"            \"data\"             \n",
       "[34] \"num415\"            \"num85\"             \"technology\"       \n",
       "[37] \"num1999\"           \"parts\"             \"pm\"               \n",
       "[40] \"direct\"            \"cs\"                \"meeting\"          \n",
       "[43] \"original\"          \"project\"           \"re\"               \n",
       "[46] \"edu\"               \"table\"             \"conference\"       \n",
       "[49] \"charSemicolon\"     \"charRoundbracket\"  \"charSquarebracket\"\n",
       "[52] \"charExclamation\"   \"charDollar\"        \"charHash\"         \n",
       "[55] \"capitalAve\"        \"capitalLong\"       \"capitalTotal\"     \n",
       "[58] \"type\"              \"typen\"            "
      ]
     },
     "metadata": {},
     "output_type": "display_data"
    },
    {
     "data": {
      "text/html": [
       "<table>\n",
       "<thead><tr><th scope=col>make</th><th scope=col>address</th><th scope=col>all</th><th scope=col>num3d</th><th scope=col>our</th><th scope=col>over</th><th scope=col>remove</th><th scope=col>internet</th><th scope=col>order</th><th scope=col>mail</th><th scope=col>...</th><th scope=col>charSemicolon</th><th scope=col>charRoundbracket</th><th scope=col>charSquarebracket</th><th scope=col>charExclamation</th><th scope=col>charDollar</th><th scope=col>charHash</th><th scope=col>capitalAve</th><th scope=col>capitalLong</th><th scope=col>capitalTotal</th><th scope=col>typen</th></tr></thead>\n",
       "<tbody>\n",
       "\t<tr><td>0.00 </td><td>0.64 </td><td>0.64 </td><td>0    </td><td>0.32 </td><td>0.00 </td><td>0.00 </td><td>0.00 </td><td>0.00 </td><td>0.00 </td><td>...  </td><td>0.00 </td><td>0.000</td><td>0    </td><td>0.778</td><td>0.000</td><td>0.000</td><td>3.756</td><td> 61  </td><td> 278 </td><td>1    </td></tr>\n",
       "\t<tr><td>0.21 </td><td>0.28 </td><td>0.50 </td><td>0    </td><td>0.14 </td><td>0.28 </td><td>0.21 </td><td>0.07 </td><td>0.00 </td><td>0.94 </td><td>...  </td><td>0.00 </td><td>0.132</td><td>0    </td><td>0.372</td><td>0.180</td><td>0.048</td><td>5.114</td><td>101  </td><td>1028 </td><td>1    </td></tr>\n",
       "\t<tr><td>0.06 </td><td>0.00 </td><td>0.71 </td><td>0    </td><td>1.23 </td><td>0.19 </td><td>0.19 </td><td>0.12 </td><td>0.64 </td><td>0.25 </td><td>...  </td><td>0.01 </td><td>0.143</td><td>0    </td><td>0.276</td><td>0.184</td><td>0.010</td><td>9.821</td><td>485  </td><td>2259 </td><td>1    </td></tr>\n",
       "\t<tr><td>0.00 </td><td>0.00 </td><td>0.00 </td><td>0    </td><td>0.63 </td><td>0.00 </td><td>0.31 </td><td>0.63 </td><td>0.31 </td><td>0.63 </td><td>...  </td><td>0.00 </td><td>0.137</td><td>0    </td><td>0.137</td><td>0.000</td><td>0.000</td><td>3.537</td><td> 40  </td><td> 191 </td><td>1    </td></tr>\n",
       "\t<tr><td>0.00 </td><td>0.00 </td><td>0.00 </td><td>0    </td><td>0.63 </td><td>0.00 </td><td>0.31 </td><td>0.63 </td><td>0.31 </td><td>0.63 </td><td>...  </td><td>0.00 </td><td>0.135</td><td>0    </td><td>0.135</td><td>0.000</td><td>0.000</td><td>3.537</td><td> 40  </td><td> 191 </td><td>1    </td></tr>\n",
       "\t<tr><td>0.00 </td><td>0.00 </td><td>0.00 </td><td>0    </td><td>1.85 </td><td>0.00 </td><td>0.00 </td><td>1.85 </td><td>0.00 </td><td>0.00 </td><td>...  </td><td>0.00 </td><td>0.223</td><td>0    </td><td>0.000</td><td>0.000</td><td>0.000</td><td>3.000</td><td> 15  </td><td>  54 </td><td>1    </td></tr>\n",
       "</tbody>\n",
       "</table>\n"
      ],
      "text/latex": [
       "\\begin{tabular}{r|llllllllllllllllllllllllllllllllllllllllllllllllllllllllll}\n",
       " make & address & all & num3d & our & over & remove & internet & order & mail & ... & charSemicolon & charRoundbracket & charSquarebracket & charExclamation & charDollar & charHash & capitalAve & capitalLong & capitalTotal & typen\\\\\n",
       "\\hline\n",
       "\t 0.00  & 0.64  & 0.64  & 0     & 0.32  & 0.00  & 0.00  & 0.00  & 0.00  & 0.00  & ...   & 0.00  & 0.000 & 0     & 0.778 & 0.000 & 0.000 & 3.756 &  61   &  278  & 1    \\\\\n",
       "\t 0.21  & 0.28  & 0.50  & 0     & 0.14  & 0.28  & 0.21  & 0.07  & 0.00  & 0.94  & ...   & 0.00  & 0.132 & 0     & 0.372 & 0.180 & 0.048 & 5.114 & 101   & 1028  & 1    \\\\\n",
       "\t 0.06  & 0.00  & 0.71  & 0     & 1.23  & 0.19  & 0.19  & 0.12  & 0.64  & 0.25  & ...   & 0.01  & 0.143 & 0     & 0.276 & 0.184 & 0.010 & 9.821 & 485   & 2259  & 1    \\\\\n",
       "\t 0.00  & 0.00  & 0.00  & 0     & 0.63  & 0.00  & 0.31  & 0.63  & 0.31  & 0.63  & ...   & 0.00  & 0.137 & 0     & 0.137 & 0.000 & 0.000 & 3.537 &  40   &  191  & 1    \\\\\n",
       "\t 0.00  & 0.00  & 0.00  & 0     & 0.63  & 0.00  & 0.31  & 0.63  & 0.31  & 0.63  & ...   & 0.00  & 0.135 & 0     & 0.135 & 0.000 & 0.000 & 3.537 &  40   &  191  & 1    \\\\\n",
       "\t 0.00  & 0.00  & 0.00  & 0     & 1.85  & 0.00  & 0.00  & 1.85  & 0.00  & 0.00  & ...   & 0.00  & 0.223 & 0     & 0.000 & 0.000 & 0.000 & 3.000 &  15   &   54  & 1    \\\\\n",
       "\\end{tabular}\n"
      ],
      "text/markdown": [
       "\n",
       "| make | address | all | num3d | our | over | remove | internet | order | mail | ... | charSemicolon | charRoundbracket | charSquarebracket | charExclamation | charDollar | charHash | capitalAve | capitalLong | capitalTotal | typen |\n",
       "|---|---|---|---|---|---|---|---|---|---|---|---|---|---|---|---|---|---|---|---|---|\n",
       "| 0.00  | 0.64  | 0.64  | 0     | 0.32  | 0.00  | 0.00  | 0.00  | 0.00  | 0.00  | ...   | 0.00  | 0.000 | 0     | 0.778 | 0.000 | 0.000 | 3.756 |  61   |  278  | 1     |\n",
       "| 0.21  | 0.28  | 0.50  | 0     | 0.14  | 0.28  | 0.21  | 0.07  | 0.00  | 0.94  | ...   | 0.00  | 0.132 | 0     | 0.372 | 0.180 | 0.048 | 5.114 | 101   | 1028  | 1     |\n",
       "| 0.06  | 0.00  | 0.71  | 0     | 1.23  | 0.19  | 0.19  | 0.12  | 0.64  | 0.25  | ...   | 0.01  | 0.143 | 0     | 0.276 | 0.184 | 0.010 | 9.821 | 485   | 2259  | 1     |\n",
       "| 0.00  | 0.00  | 0.00  | 0     | 0.63  | 0.00  | 0.31  | 0.63  | 0.31  | 0.63  | ...   | 0.00  | 0.137 | 0     | 0.137 | 0.000 | 0.000 | 3.537 |  40   |  191  | 1     |\n",
       "| 0.00  | 0.00  | 0.00  | 0     | 0.63  | 0.00  | 0.31  | 0.63  | 0.31  | 0.63  | ...   | 0.00  | 0.135 | 0     | 0.135 | 0.000 | 0.000 | 3.537 |  40   |  191  | 1     |\n",
       "| 0.00  | 0.00  | 0.00  | 0     | 1.85  | 0.00  | 0.00  | 1.85  | 0.00  | 0.00  | ...   | 0.00  | 0.223 | 0     | 0.000 | 0.000 | 0.000 | 3.000 |  15   |   54  | 1     |\n",
       "\n"
      ],
      "text/plain": [
       "  make address all  num3d our  over remove internet order mail ...\n",
       "1 0.00 0.64    0.64 0     0.32 0.00 0.00   0.00     0.00  0.00 ...\n",
       "2 0.21 0.28    0.50 0     0.14 0.28 0.21   0.07     0.00  0.94 ...\n",
       "3 0.06 0.00    0.71 0     1.23 0.19 0.19   0.12     0.64  0.25 ...\n",
       "4 0.00 0.00    0.00 0     0.63 0.00 0.31   0.63     0.31  0.63 ...\n",
       "5 0.00 0.00    0.00 0     0.63 0.00 0.31   0.63     0.31  0.63 ...\n",
       "6 0.00 0.00    0.00 0     1.85 0.00 0.00   1.85     0.00  0.00 ...\n",
       "  charSemicolon charRoundbracket charSquarebracket charExclamation charDollar\n",
       "1 0.00          0.000            0                 0.778           0.000     \n",
       "2 0.00          0.132            0                 0.372           0.180     \n",
       "3 0.01          0.143            0                 0.276           0.184     \n",
       "4 0.00          0.137            0                 0.137           0.000     \n",
       "5 0.00          0.135            0                 0.135           0.000     \n",
       "6 0.00          0.223            0                 0.000           0.000     \n",
       "  charHash capitalAve capitalLong capitalTotal typen\n",
       "1 0.000    3.756       61          278         1    \n",
       "2 0.048    5.114      101         1028         1    \n",
       "3 0.010    9.821      485         2259         1    \n",
       "4 0.000    3.537       40          191         1    \n",
       "5 0.000    3.537       40          191         1    \n",
       "6 0.000    3.000       15           54         1    "
      ]
     },
     "metadata": {},
     "output_type": "display_data"
    }
   ],
   "source": [
    "l=dim(spam)[1]\n",
    "test=sample(seq(l), 1000, replace = FALSE)\n",
    "#spam=data.table(spam)\n",
    "colnames(spam)\n",
    "#sapply(spam, class)\n",
    "spam=as.data.table(spam)\n",
    "\n",
    "#dim(spam[type=='spam'])[1] \n",
    "spam$typen = 0\n",
    "spam$typen[spam_n$type==\"spam\"] = 1\n",
    "spam_n=spam[, -c(\"type\")]\n",
    "spam_test = spam_n[test,]\n",
    "spam_train = spam_n[-test,]\n",
    "head(spam_n)"
   ]
  },
  {
   "cell_type": "markdown",
   "metadata": {},
   "source": [
    "### Linear regression"
   ]
  },
  {
   "cell_type": "code",
   "execution_count": 170,
   "metadata": {},
   "outputs": [
    {
     "data": {
      "text/plain": [
       "\n",
       "Call:\n",
       "lm(formula = typen ~ . - 1, data = spam_n)\n",
       "\n",
       "Residuals:\n",
       "     Min       1Q   Median       3Q      Max \n",
       "-2.56714 -0.16513 -0.01664  0.20251  1.07421 \n",
       "\n",
       "Coefficients:\n",
       "                    Estimate Std. Error t value Pr(>|t|)    \n",
       "make              -3.321e-02  1.730e-02  -1.919 0.055015 .  \n",
       "address            1.445e-03  3.831e-03   0.377 0.706027    \n",
       "all                6.887e-02  1.023e-02   6.729 1.92e-11 ***\n",
       "num3d              1.488e-02  3.569e-03   4.170 3.10e-05 ***\n",
       "our                1.045e-01  7.724e-03  13.529  < 2e-16 ***\n",
       "over               1.557e-01  1.890e-02   8.240 2.24e-16 ***\n",
       "remove             2.361e-01  1.339e-02  17.640  < 2e-16 ***\n",
       "internet           1.148e-01  1.292e-02   8.888  < 2e-16 ***\n",
       "order              9.540e-02  1.954e-02   4.883 1.08e-06 ***\n",
       "mail               2.442e-02  8.015e-03   3.047 0.002325 ** \n",
       "receive            4.260e-02  2.708e-02   1.573 0.115727    \n",
       "will              -2.967e-03  5.911e-03  -0.502 0.615696    \n",
       "people             4.462e-02  1.711e-02   2.607 0.009153 ** \n",
       "report             1.782e-02  1.520e-02   1.173 0.241057    \n",
       "addresses          1.423e-02  2.268e-02   0.628 0.530262    \n",
       "free               8.739e-02  6.178e-03  14.146  < 2e-16 ***\n",
       "business           5.608e-02  1.225e-02   4.578 4.81e-06 ***\n",
       "email              6.587e-02  1.006e-02   6.546 6.58e-11 ***\n",
       "you                3.510e-02  2.953e-03  11.886  < 2e-16 ***\n",
       "credit             6.934e-02  1.015e-02   6.831 9.55e-12 ***\n",
       "your               6.645e-02  4.746e-03  14.001  < 2e-16 ***\n",
       "font               5.395e-02  5.493e-03   9.822  < 2e-16 ***\n",
       "num000             1.816e-01  1.642e-02  11.057  < 2e-16 ***\n",
       "money              8.677e-02  1.180e-02   7.354 2.27e-13 ***\n",
       "hp                -1.115e-02  3.706e-03  -3.007 0.002652 ** \n",
       "hpl               -1.132e-02  6.929e-03  -1.634 0.102303    \n",
       "george            -2.895e-03  1.456e-03  -1.988 0.046823 *  \n",
       "num650             6.757e-03  1.308e-02   0.516 0.605591    \n",
       "lab               -8.492e-03  1.155e-02  -0.735 0.462132    \n",
       "labs              -4.898e-02  1.662e-02  -2.946 0.003232 ** \n",
       "telnet            -2.660e-02  2.003e-02  -1.328 0.184177    \n",
       "num857            -9.721e-02  1.741e-01  -0.558 0.576545    \n",
       "data              -1.700e-02  9.013e-03  -1.886 0.059371 .  \n",
       "num415             8.468e-02  1.714e-01   0.494 0.621315    \n",
       "num85             -2.114e-02  1.260e-02  -1.679 0.093301 .  \n",
       "technology         6.252e-02  2.015e-02   3.102 0.001931 ** \n",
       "num1999           -6.526e-03  1.303e-02  -0.501 0.616595    \n",
       "parts             -4.930e-02  2.320e-02  -2.124 0.033685 *  \n",
       "pm                -1.785e-02  1.210e-02  -1.475 0.140190    \n",
       "direct             4.302e-02  2.813e-02   1.530 0.126170    \n",
       "cs                 8.134e-04  1.484e-02   0.055 0.956296    \n",
       "meeting           -2.260e-02  7.805e-03  -2.896 0.003797 ** \n",
       "original          -4.790e-02  2.431e-02  -1.970 0.048891 *  \n",
       "project           -1.350e-02  8.042e-03  -1.678 0.093360 .  \n",
       "re                -2.209e-02  5.060e-03  -4.365 1.30e-05 ***\n",
       "edu               -2.014e-02  5.872e-03  -3.429 0.000611 ***\n",
       "table             -1.528e-01  6.547e-02  -2.334 0.019651 *  \n",
       "conference        -3.053e-02  1.744e-02  -1.750 0.080154 .  \n",
       "charSemicolon     -1.182e-01  2.273e-02  -5.201 2.06e-07 ***\n",
       "charRoundbracket   5.611e-02  2.199e-02   2.552 0.010744 *  \n",
       "charSquarebracket  9.957e-03  4.616e-02   0.216 0.829235    \n",
       "charExclamation    7.633e-02  6.317e-03  12.083  < 2e-16 ***\n",
       "charDollar         2.382e-01  2.242e-02  10.624  < 2e-16 ***\n",
       "charHash           3.028e-02  1.200e-02   2.524 0.011635 *  \n",
       "capitalAve         5.831e-04  1.880e-04   3.102 0.001933 ** \n",
       "capitalLong       -4.652e-05  3.774e-05  -1.233 0.217788    \n",
       "capitalTotal       1.124e-04  9.783e-06  11.487  < 2e-16 ***\n",
       "---\n",
       "Signif. codes:  0 '***' 0.001 '**' 0.01 '*' 0.05 '.' 0.1 ' ' 1\n",
       "\n",
       "Residual standard error: 0.3369 on 4544 degrees of freedom\n",
       "Multiple R-squared:  0.7156,\tAdjusted R-squared:  0.712 \n",
       "F-statistic: 200.6 on 57 and 4544 DF,  p-value: < 2.2e-16\n"
      ]
     },
     "metadata": {},
     "output_type": "display_data"
    }
   ],
   "source": [
    "ls <- lm (typen~.-1, spam_n)\n",
    "summary(ls)"
   ]
  },
  {
   "cell_type": "markdown",
   "metadata": {},
   "source": [
    "### Best subset (backward)"
   ]
  },
  {
   "cell_type": "code",
   "execution_count": 241,
   "metadata": {},
   "outputs": [
    {
     "data": {
      "text/plain": [
       "Subset selection object\n",
       "Call: regsubsets.formula(typen ~ . - 1, data = spam_n, method = \"backward\", \n",
       "    nvmax = nvmax)\n",
       "56 Variables  (and intercept)\n",
       "                  Forced in Forced out\n",
       "address               FALSE      FALSE\n",
       "all                   FALSE      FALSE\n",
       "num3d                 FALSE      FALSE\n",
       "our                   FALSE      FALSE\n",
       "over                  FALSE      FALSE\n",
       "remove                FALSE      FALSE\n",
       "internet              FALSE      FALSE\n",
       "order                 FALSE      FALSE\n",
       "mail                  FALSE      FALSE\n",
       "receive               FALSE      FALSE\n",
       "will                  FALSE      FALSE\n",
       "people                FALSE      FALSE\n",
       "report                FALSE      FALSE\n",
       "addresses             FALSE      FALSE\n",
       "free                  FALSE      FALSE\n",
       "business              FALSE      FALSE\n",
       "email                 FALSE      FALSE\n",
       "you                   FALSE      FALSE\n",
       "credit                FALSE      FALSE\n",
       "your                  FALSE      FALSE\n",
       "font                  FALSE      FALSE\n",
       "num000                FALSE      FALSE\n",
       "money                 FALSE      FALSE\n",
       "hp                    FALSE      FALSE\n",
       "hpl                   FALSE      FALSE\n",
       "george                FALSE      FALSE\n",
       "num650                FALSE      FALSE\n",
       "lab                   FALSE      FALSE\n",
       "labs                  FALSE      FALSE\n",
       "telnet                FALSE      FALSE\n",
       "num857                FALSE      FALSE\n",
       "data                  FALSE      FALSE\n",
       "num415                FALSE      FALSE\n",
       "num85                 FALSE      FALSE\n",
       "technology            FALSE      FALSE\n",
       "num1999               FALSE      FALSE\n",
       "parts                 FALSE      FALSE\n",
       "pm                    FALSE      FALSE\n",
       "direct                FALSE      FALSE\n",
       "cs                    FALSE      FALSE\n",
       "meeting               FALSE      FALSE\n",
       "original              FALSE      FALSE\n",
       "project               FALSE      FALSE\n",
       "re                    FALSE      FALSE\n",
       "edu                   FALSE      FALSE\n",
       "table                 FALSE      FALSE\n",
       "conference            FALSE      FALSE\n",
       "charSemicolon         FALSE      FALSE\n",
       "charRoundbracket      FALSE      FALSE\n",
       "charSquarebracket     FALSE      FALSE\n",
       "charExclamation       FALSE      FALSE\n",
       "charDollar            FALSE      FALSE\n",
       "charHash              FALSE      FALSE\n",
       "capitalAve            FALSE      FALSE\n",
       "capitalLong           FALSE      FALSE\n",
       "capitalTotal          FALSE      FALSE\n",
       "1 subsets of each size up to 30\n",
       "Selection Algorithm: backward\n",
       "          address all num3d our over remove internet order mail receive will\n",
       "1  ( 1 )  \" \"     \" \" \" \"   \" \" \" \"  \" \"    \" \"      \" \"   \" \"  \" \"     \" \" \n",
       "2  ( 1 )  \" \"     \" \" \" \"   \" \" \" \"  \" \"    \" \"      \" \"   \" \"  \" \"     \" \" \n",
       "3  ( 1 )  \" \"     \" \" \" \"   \" \" \" \"  \"*\"    \" \"      \" \"   \" \"  \" \"     \" \" \n",
       "4  ( 1 )  \" \"     \" \" \" \"   \" \" \" \"  \"*\"    \" \"      \" \"   \" \"  \" \"     \" \" \n",
       "5  ( 1 )  \" \"     \" \" \" \"   \" \" \" \"  \"*\"    \" \"      \" \"   \" \"  \" \"     \" \" \n",
       "6  ( 1 )  \" \"     \" \" \" \"   \" \" \" \"  \"*\"    \" \"      \" \"   \" \"  \" \"     \" \" \n",
       "7  ( 1 )  \" \"     \" \" \" \"   \"*\" \" \"  \"*\"    \" \"      \" \"   \" \"  \" \"     \" \" \n",
       "8  ( 1 )  \" \"     \" \" \" \"   \"*\" \" \"  \"*\"    \" \"      \" \"   \" \"  \" \"     \" \" \n",
       "9  ( 1 )  \" \"     \" \" \" \"   \"*\" \" \"  \"*\"    \" \"      \" \"   \" \"  \" \"     \" \" \n",
       "10  ( 1 ) \" \"     \" \" \" \"   \"*\" \" \"  \"*\"    \"*\"      \" \"   \" \"  \" \"     \" \" \n",
       "11  ( 1 ) \" \"     \" \" \" \"   \"*\" \" \"  \"*\"    \"*\"      \" \"   \" \"  \" \"     \" \" \n",
       "12  ( 1 ) \" \"     \" \" \" \"   \"*\" \"*\"  \"*\"    \"*\"      \" \"   \" \"  \" \"     \" \" \n",
       "13  ( 1 ) \" \"     \" \" \" \"   \"*\" \"*\"  \"*\"    \"*\"      \" \"   \" \"  \" \"     \" \" \n",
       "14  ( 1 ) \" \"     \" \" \" \"   \"*\" \"*\"  \"*\"    \"*\"      \" \"   \" \"  \" \"     \" \" \n",
       "15  ( 1 ) \" \"     \" \" \" \"   \"*\" \"*\"  \"*\"    \"*\"      \" \"   \" \"  \" \"     \" \" \n",
       "16  ( 1 ) \" \"     \" \" \" \"   \"*\" \"*\"  \"*\"    \"*\"      \" \"   \" \"  \" \"     \" \" \n",
       "17  ( 1 ) \" \"     \" \" \" \"   \"*\" \"*\"  \"*\"    \"*\"      \" \"   \" \"  \" \"     \" \" \n",
       "18  ( 1 ) \" \"     \" \" \" \"   \"*\" \"*\"  \"*\"    \"*\"      \" \"   \" \"  \" \"     \" \" \n",
       "19  ( 1 ) \" \"     \" \" \" \"   \"*\" \"*\"  \"*\"    \"*\"      \" \"   \" \"  \" \"     \" \" \n",
       "20  ( 1 ) \" \"     \" \" \" \"   \"*\" \"*\"  \"*\"    \"*\"      \" \"   \" \"  \" \"     \" \" \n",
       "21  ( 1 ) \" \"     \" \" \" \"   \"*\" \"*\"  \"*\"    \"*\"      \" \"   \" \"  \" \"     \" \" \n",
       "22  ( 1 ) \" \"     \" \" \" \"   \"*\" \"*\"  \"*\"    \"*\"      \" \"   \" \"  \" \"     \" \" \n",
       "23  ( 1 ) \" \"     \" \" \" \"   \"*\" \"*\"  \"*\"    \"*\"      \"*\"   \" \"  \" \"     \" \" \n",
       "24  ( 1 ) \" \"     \" \" \" \"   \"*\" \"*\"  \"*\"    \"*\"      \"*\"   \" \"  \" \"     \" \" \n",
       "25  ( 1 ) \" \"     \" \" \" \"   \"*\" \"*\"  \"*\"    \"*\"      \"*\"   \" \"  \" \"     \"*\" \n",
       "26  ( 1 ) \" \"     \" \" \" \"   \"*\" \"*\"  \"*\"    \"*\"      \"*\"   \" \"  \" \"     \"*\" \n",
       "27  ( 1 ) \" \"     \" \" \" \"   \"*\" \"*\"  \"*\"    \"*\"      \"*\"   \" \"  \" \"     \"*\" \n",
       "28  ( 1 ) \" \"     \"*\" \" \"   \"*\" \"*\"  \"*\"    \"*\"      \"*\"   \" \"  \" \"     \"*\" \n",
       "29  ( 1 ) \" \"     \"*\" \" \"   \"*\" \"*\"  \"*\"    \"*\"      \"*\"   \" \"  \" \"     \"*\" \n",
       "30  ( 1 ) \" \"     \"*\" \" \"   \"*\" \"*\"  \"*\"    \"*\"      \"*\"   \" \"  \" \"     \"*\" \n",
       "          people report addresses free business email you credit your font\n",
       "1  ( 1 )  \" \"    \" \"    \" \"       \" \"  \" \"      \" \"   \" \" \" \"    \"*\"  \" \" \n",
       "2  ( 1 )  \" \"    \" \"    \" \"       \" \"  \" \"      \" \"   \" \" \" \"    \"*\"  \" \" \n",
       "3  ( 1 )  \" \"    \" \"    \" \"       \" \"  \" \"      \" \"   \" \" \" \"    \"*\"  \" \" \n",
       "4  ( 1 )  \" \"    \" \"    \" \"       \" \"  \" \"      \" \"   \" \" \" \"    \"*\"  \" \" \n",
       "5  ( 1 )  \" \"    \" \"    \" \"       \"*\"  \" \"      \" \"   \" \" \" \"    \"*\"  \" \" \n",
       "6  ( 1 )  \" \"    \" \"    \" \"       \"*\"  \" \"      \" \"   \" \" \" \"    \"*\"  \" \" \n",
       "7  ( 1 )  \" \"    \" \"    \" \"       \"*\"  \" \"      \" \"   \" \" \" \"    \"*\"  \" \" \n",
       "8  ( 1 )  \" \"    \" \"    \" \"       \"*\"  \" \"      \" \"   \" \" \" \"    \"*\"  \" \" \n",
       "9  ( 1 )  \" \"    \" \"    \" \"       \"*\"  \" \"      \" \"   \" \" \" \"    \"*\"  \" \" \n",
       "10  ( 1 ) \" \"    \" \"    \" \"       \"*\"  \" \"      \" \"   \" \" \" \"    \"*\"  \" \" \n",
       "11  ( 1 ) \" \"    \" \"    \" \"       \"*\"  \" \"      \" \"   \" \" \" \"    \"*\"  \" \" \n",
       "12  ( 1 ) \" \"    \" \"    \" \"       \"*\"  \" \"      \" \"   \" \" \" \"    \"*\"  \" \" \n",
       "13  ( 1 ) \" \"    \" \"    \" \"       \"*\"  \" \"      \" \"   \" \" \"*\"    \"*\"  \" \" \n",
       "14  ( 1 ) \" \"    \" \"    \" \"       \"*\"  \" \"      \" \"   \" \" \"*\"    \"*\"  \" \" \n",
       "15  ( 1 ) \" \"    \" \"    \" \"       \"*\"  \" \"      \" \"   \" \" \"*\"    \"*\"  \" \" \n",
       "16  ( 1 ) \" \"    \" \"    \" \"       \"*\"  \" \"      \" \"   \" \" \"*\"    \"*\"  \" \" \n",
       "17  ( 1 ) \" \"    \" \"    \" \"       \"*\"  \" \"      \" \"   \" \" \"*\"    \"*\"  \"*\" \n",
       "18  ( 1 ) \" \"    \" \"    \" \"       \"*\"  \" \"      \" \"   \" \" \"*\"    \"*\"  \"*\" \n",
       "19  ( 1 ) \" \"    \" \"    \" \"       \"*\"  \" \"      \" \"   \" \" \"*\"    \"*\"  \"*\" \n",
       "20  ( 1 ) \" \"    \" \"    \" \"       \"*\"  \" \"      \"*\"   \" \" \"*\"    \"*\"  \"*\" \n",
       "21  ( 1 ) \" \"    \" \"    \" \"       \"*\"  \" \"      \"*\"   \"*\" \"*\"    \"*\"  \"*\" \n",
       "22  ( 1 ) \" \"    \" \"    \" \"       \"*\"  \" \"      \"*\"   \"*\" \"*\"    \"*\"  \"*\" \n",
       "23  ( 1 ) \" \"    \" \"    \" \"       \"*\"  \" \"      \"*\"   \"*\" \"*\"    \"*\"  \"*\" \n",
       "24  ( 1 ) \" \"    \" \"    \" \"       \"*\"  \" \"      \"*\"   \"*\" \"*\"    \"*\"  \"*\" \n",
       "25  ( 1 ) \" \"    \" \"    \" \"       \"*\"  \" \"      \"*\"   \"*\" \"*\"    \"*\"  \"*\" \n",
       "26  ( 1 ) \" \"    \" \"    \" \"       \"*\"  \"*\"      \"*\"   \"*\" \"*\"    \"*\"  \"*\" \n",
       "27  ( 1 ) \" \"    \" \"    \" \"       \"*\"  \"*\"      \"*\"   \"*\" \"*\"    \"*\"  \"*\" \n",
       "28  ( 1 ) \" \"    \" \"    \" \"       \"*\"  \"*\"      \"*\"   \"*\" \"*\"    \"*\"  \"*\" \n",
       "29  ( 1 ) \" \"    \" \"    \" \"       \"*\"  \"*\"      \"*\"   \"*\" \"*\"    \"*\"  \"*\" \n",
       "30  ( 1 ) \" \"    \" \"    \" \"       \"*\"  \"*\"      \"*\"   \"*\" \"*\"    \"*\"  \"*\" \n",
       "          num000 money hp  hpl george num650 lab labs telnet num857 data num415\n",
       "1  ( 1 )  \" \"    \" \"   \" \" \" \" \" \"    \" \"    \" \" \" \"  \" \"    \" \"    \" \"  \" \"   \n",
       "2  ( 1 )  \"*\"    \" \"   \" \" \" \" \" \"    \" \"    \" \" \" \"  \" \"    \" \"    \" \"  \" \"   \n",
       "3  ( 1 )  \"*\"    \" \"   \" \" \" \" \" \"    \" \"    \" \" \" \"  \" \"    \" \"    \" \"  \" \"   \n",
       "4  ( 1 )  \"*\"    \" \"   \" \" \" \" \" \"    \" \"    \" \" \" \"  \" \"    \" \"    \" \"  \" \"   \n",
       "5  ( 1 )  \"*\"    \" \"   \" \" \" \" \" \"    \" \"    \" \" \" \"  \" \"    \" \"    \" \"  \" \"   \n",
       "6  ( 1 )  \"*\"    \" \"   \" \" \" \" \" \"    \" \"    \" \" \" \"  \" \"    \" \"    \" \"  \" \"   \n",
       "7  ( 1 )  \"*\"    \" \"   \" \" \" \" \" \"    \" \"    \" \" \" \"  \" \"    \" \"    \" \"  \" \"   \n",
       "8  ( 1 )  \"*\"    \" \"   \" \" \" \" \" \"    \" \"    \" \" \" \"  \" \"    \" \"    \" \"  \" \"   \n",
       "9  ( 1 )  \"*\"    \" \"   \"*\" \" \" \" \"    \" \"    \" \" \" \"  \" \"    \" \"    \" \"  \" \"   \n",
       "10  ( 1 ) \"*\"    \" \"   \"*\" \" \" \" \"    \" \"    \" \" \" \"  \" \"    \" \"    \" \"  \" \"   \n",
       "11  ( 1 ) \"*\"    \"*\"   \"*\" \" \" \" \"    \" \"    \" \" \" \"  \" \"    \" \"    \" \"  \" \"   \n",
       "12  ( 1 ) \"*\"    \"*\"   \"*\" \" \" \" \"    \" \"    \" \" \" \"  \" \"    \" \"    \" \"  \" \"   \n",
       "13  ( 1 ) \"*\"    \"*\"   \"*\" \" \" \" \"    \" \"    \" \" \" \"  \" \"    \" \"    \" \"  \" \"   \n",
       "14  ( 1 ) \"*\"    \"*\"   \"*\" \" \" \" \"    \" \"    \" \" \" \"  \" \"    \" \"    \" \"  \" \"   \n",
       "15  ( 1 ) \"*\"    \"*\"   \"*\" \" \" \"*\"    \" \"    \" \" \" \"  \" \"    \" \"    \" \"  \" \"   \n",
       "16  ( 1 ) \"*\"    \"*\"   \"*\" \" \" \"*\"    \" \"    \" \" \" \"  \" \"    \" \"    \" \"  \" \"   \n",
       "17  ( 1 ) \"*\"    \"*\"   \"*\" \" \" \"*\"    \" \"    \" \" \" \"  \" \"    \" \"    \" \"  \" \"   \n",
       "18  ( 1 ) \"*\"    \"*\"   \"*\" \" \" \"*\"    \" \"    \" \" \" \"  \" \"    \" \"    \" \"  \" \"   \n",
       "19  ( 1 ) \"*\"    \"*\"   \"*\" \" \" \"*\"    \" \"    \" \" \" \"  \" \"    \" \"    \" \"  \" \"   \n",
       "20  ( 1 ) \"*\"    \"*\"   \"*\" \" \" \"*\"    \" \"    \" \" \" \"  \" \"    \" \"    \" \"  \" \"   \n",
       "21  ( 1 ) \"*\"    \"*\"   \"*\" \" \" \"*\"    \" \"    \" \" \" \"  \" \"    \" \"    \" \"  \" \"   \n",
       "22  ( 1 ) \"*\"    \"*\"   \"*\" \" \" \"*\"    \" \"    \" \" \" \"  \" \"    \" \"    \"*\"  \" \"   \n",
       "23  ( 1 ) \"*\"    \"*\"   \"*\" \" \" \"*\"    \" \"    \" \" \" \"  \" \"    \" \"    \"*\"  \" \"   \n",
       "24  ( 1 ) \"*\"    \"*\"   \"*\" \"*\" \"*\"    \" \"    \" \" \" \"  \" \"    \" \"    \"*\"  \" \"   \n",
       "25  ( 1 ) \"*\"    \"*\"   \"*\" \"*\" \"*\"    \" \"    \" \" \" \"  \" \"    \" \"    \"*\"  \" \"   \n",
       "26  ( 1 ) \"*\"    \"*\"   \"*\" \"*\" \"*\"    \" \"    \" \" \" \"  \" \"    \" \"    \"*\"  \" \"   \n",
       "27  ( 1 ) \"*\"    \"*\"   \"*\" \"*\" \"*\"    \" \"    \" \" \" \"  \" \"    \" \"    \"*\"  \" \"   \n",
       "28  ( 1 ) \"*\"    \"*\"   \"*\" \"*\" \"*\"    \" \"    \" \" \" \"  \" \"    \" \"    \"*\"  \" \"   \n",
       "29  ( 1 ) \"*\"    \"*\"   \"*\" \"*\" \"*\"    \" \"    \" \" \" \"  \" \"    \" \"    \"*\"  \" \"   \n",
       "30  ( 1 ) \"*\"    \"*\"   \"*\" \"*\" \"*\"    \" \"    \" \" \" \"  \" \"    \" \"    \"*\"  \" \"   \n",
       "          num85 technology num1999 parts pm  direct cs  meeting original\n",
       "1  ( 1 )  \" \"   \" \"        \" \"     \" \"   \" \" \" \"    \" \" \" \"     \" \"     \n",
       "2  ( 1 )  \" \"   \" \"        \" \"     \" \"   \" \" \" \"    \" \" \" \"     \" \"     \n",
       "3  ( 1 )  \" \"   \" \"        \" \"     \" \"   \" \" \" \"    \" \" \" \"     \" \"     \n",
       "4  ( 1 )  \" \"   \" \"        \" \"     \" \"   \" \" \" \"    \" \" \" \"     \" \"     \n",
       "5  ( 1 )  \" \"   \" \"        \" \"     \" \"   \" \" \" \"    \" \" \" \"     \" \"     \n",
       "6  ( 1 )  \" \"   \" \"        \" \"     \" \"   \" \" \" \"    \" \" \" \"     \" \"     \n",
       "7  ( 1 )  \" \"   \" \"        \" \"     \" \"   \" \" \" \"    \" \" \" \"     \" \"     \n",
       "8  ( 1 )  \" \"   \" \"        \" \"     \" \"   \" \" \" \"    \" \" \" \"     \" \"     \n",
       "9  ( 1 )  \" \"   \" \"        \" \"     \" \"   \" \" \" \"    \" \" \" \"     \" \"     \n",
       "10  ( 1 ) \" \"   \" \"        \" \"     \" \"   \" \" \" \"    \" \" \" \"     \" \"     \n",
       "11  ( 1 ) \" \"   \" \"        \" \"     \" \"   \" \" \" \"    \" \" \" \"     \" \"     \n",
       "12  ( 1 ) \" \"   \" \"        \" \"     \" \"   \" \" \" \"    \" \" \" \"     \" \"     \n",
       "13  ( 1 ) \" \"   \" \"        \" \"     \" \"   \" \" \" \"    \" \" \" \"     \" \"     \n",
       "14  ( 1 ) \" \"   \" \"        \" \"     \" \"   \" \" \" \"    \" \" \"*\"     \" \"     \n",
       "15  ( 1 ) \" \"   \" \"        \" \"     \" \"   \" \" \" \"    \" \" \"*\"     \" \"     \n",
       "16  ( 1 ) \" \"   \" \"        \" \"     \" \"   \" \" \" \"    \" \" \"*\"     \" \"     \n",
       "17  ( 1 ) \" \"   \" \"        \" \"     \" \"   \" \" \" \"    \" \" \"*\"     \" \"     \n",
       "18  ( 1 ) \" \"   \" \"        \" \"     \" \"   \" \" \" \"    \" \" \"*\"     \" \"     \n",
       "19  ( 1 ) \" \"   \" \"        \" \"     \" \"   \" \" \" \"    \" \" \"*\"     \" \"     \n",
       "20  ( 1 ) \" \"   \" \"        \" \"     \" \"   \" \" \" \"    \" \" \"*\"     \" \"     \n",
       "21  ( 1 ) \" \"   \" \"        \" \"     \" \"   \" \" \" \"    \" \" \"*\"     \" \"     \n",
       "22  ( 1 ) \" \"   \" \"        \" \"     \" \"   \" \" \" \"    \" \" \"*\"     \" \"     \n",
       "23  ( 1 ) \" \"   \" \"        \" \"     \" \"   \" \" \" \"    \" \" \"*\"     \" \"     \n",
       "24  ( 1 ) \" \"   \" \"        \" \"     \" \"   \" \" \" \"    \" \" \"*\"     \" \"     \n",
       "25  ( 1 ) \" \"   \" \"        \" \"     \" \"   \" \" \" \"    \" \" \"*\"     \" \"     \n",
       "26  ( 1 ) \" \"   \" \"        \" \"     \" \"   \" \" \" \"    \" \" \"*\"     \" \"     \n",
       "27  ( 1 ) \" \"   \" \"        \" \"     \" \"   \" \" \" \"    \" \" \"*\"     \" \"     \n",
       "28  ( 1 ) \" \"   \" \"        \" \"     \" \"   \" \" \" \"    \" \" \"*\"     \" \"     \n",
       "29  ( 1 ) \" \"   \" \"        \" \"     \" \"   \" \" \" \"    \" \" \"*\"     \"*\"     \n",
       "30  ( 1 ) \" \"   \" \"        \" \"     \" \"   \" \" \" \"    \" \" \"*\"     \"*\"     \n",
       "          project re  edu table conference charSemicolon charRoundbracket\n",
       "1  ( 1 )  \" \"     \" \" \" \" \" \"   \" \"        \" \"           \" \"             \n",
       "2  ( 1 )  \" \"     \" \" \" \" \" \"   \" \"        \" \"           \" \"             \n",
       "3  ( 1 )  \" \"     \" \" \" \" \" \"   \" \"        \" \"           \" \"             \n",
       "4  ( 1 )  \" \"     \" \" \" \" \" \"   \" \"        \" \"           \" \"             \n",
       "5  ( 1 )  \" \"     \" \" \" \" \" \"   \" \"        \" \"           \" \"             \n",
       "6  ( 1 )  \" \"     \" \" \" \" \" \"   \" \"        \" \"           \" \"             \n",
       "7  ( 1 )  \" \"     \" \" \" \" \" \"   \" \"        \" \"           \" \"             \n",
       "8  ( 1 )  \" \"     \" \" \" \" \" \"   \" \"        \" \"           \" \"             \n",
       "9  ( 1 )  \" \"     \" \" \" \" \" \"   \" \"        \" \"           \" \"             \n",
       "10  ( 1 ) \" \"     \" \" \" \" \" \"   \" \"        \" \"           \" \"             \n",
       "11  ( 1 ) \" \"     \" \" \" \" \" \"   \" \"        \" \"           \" \"             \n",
       "12  ( 1 ) \" \"     \" \" \" \" \" \"   \" \"        \" \"           \" \"             \n",
       "13  ( 1 ) \" \"     \" \" \" \" \" \"   \" \"        \" \"           \" \"             \n",
       "14  ( 1 ) \" \"     \" \" \" \" \" \"   \" \"        \" \"           \" \"             \n",
       "15  ( 1 ) \" \"     \" \" \" \" \" \"   \" \"        \" \"           \" \"             \n",
       "16  ( 1 ) \" \"     \" \" \"*\" \" \"   \" \"        \" \"           \" \"             \n",
       "17  ( 1 ) \" \"     \" \" \"*\" \" \"   \" \"        \" \"           \" \"             \n",
       "18  ( 1 ) \" \"     \" \" \"*\" \" \"   \" \"        \"*\"           \" \"             \n",
       "19  ( 1 ) \" \"     \"*\" \"*\" \" \"   \" \"        \"*\"           \" \"             \n",
       "20  ( 1 ) \" \"     \"*\" \"*\" \" \"   \" \"        \"*\"           \" \"             \n",
       "21  ( 1 ) \" \"     \"*\" \"*\" \" \"   \" \"        \"*\"           \" \"             \n",
       "22  ( 1 ) \" \"     \"*\" \"*\" \" \"   \" \"        \"*\"           \" \"             \n",
       "23  ( 1 ) \" \"     \"*\" \"*\" \" \"   \" \"        \"*\"           \" \"             \n",
       "24  ( 1 ) \" \"     \"*\" \"*\" \" \"   \" \"        \"*\"           \" \"             \n",
       "25  ( 1 ) \" \"     \"*\" \"*\" \" \"   \" \"        \"*\"           \" \"             \n",
       "26  ( 1 ) \" \"     \"*\" \"*\" \" \"   \" \"        \"*\"           \" \"             \n",
       "27  ( 1 ) \"*\"     \"*\" \"*\" \" \"   \" \"        \"*\"           \" \"             \n",
       "28  ( 1 ) \"*\"     \"*\" \"*\" \" \"   \" \"        \"*\"           \" \"             \n",
       "29  ( 1 ) \"*\"     \"*\" \"*\" \" \"   \" \"        \"*\"           \" \"             \n",
       "30  ( 1 ) \"*\"     \"*\" \"*\" \" \"   \"*\"        \"*\"           \" \"             \n",
       "          charSquarebracket charExclamation charDollar charHash capitalAve\n",
       "1  ( 1 )  \" \"               \" \"             \" \"        \" \"      \" \"       \n",
       "2  ( 1 )  \" \"               \" \"             \" \"        \" \"      \" \"       \n",
       "3  ( 1 )  \" \"               \" \"             \" \"        \" \"      \" \"       \n",
       "4  ( 1 )  \" \"               \" \"             \" \"        \" \"      \" \"       \n",
       "5  ( 1 )  \" \"               \" \"             \" \"        \" \"      \" \"       \n",
       "6  ( 1 )  \" \"               \"*\"             \" \"        \" \"      \" \"       \n",
       "7  ( 1 )  \" \"               \"*\"             \" \"        \" \"      \" \"       \n",
       "8  ( 1 )  \" \"               \"*\"             \"*\"        \" \"      \" \"       \n",
       "9  ( 1 )  \" \"               \"*\"             \"*\"        \" \"      \" \"       \n",
       "10  ( 1 ) \" \"               \"*\"             \"*\"        \" \"      \" \"       \n",
       "11  ( 1 ) \" \"               \"*\"             \"*\"        \" \"      \" \"       \n",
       "12  ( 1 ) \" \"               \"*\"             \"*\"        \" \"      \" \"       \n",
       "13  ( 1 ) \" \"               \"*\"             \"*\"        \" \"      \" \"       \n",
       "14  ( 1 ) \" \"               \"*\"             \"*\"        \" \"      \" \"       \n",
       "15  ( 1 ) \" \"               \"*\"             \"*\"        \" \"      \" \"       \n",
       "16  ( 1 ) \" \"               \"*\"             \"*\"        \" \"      \" \"       \n",
       "17  ( 1 ) \" \"               \"*\"             \"*\"        \" \"      \" \"       \n",
       "18  ( 1 ) \" \"               \"*\"             \"*\"        \" \"      \" \"       \n",
       "19  ( 1 ) \" \"               \"*\"             \"*\"        \" \"      \" \"       \n",
       "20  ( 1 ) \" \"               \"*\"             \"*\"        \" \"      \" \"       \n",
       "21  ( 1 ) \" \"               \"*\"             \"*\"        \" \"      \" \"       \n",
       "22  ( 1 ) \" \"               \"*\"             \"*\"        \" \"      \" \"       \n",
       "23  ( 1 ) \" \"               \"*\"             \"*\"        \" \"      \" \"       \n",
       "24  ( 1 ) \" \"               \"*\"             \"*\"        \" \"      \" \"       \n",
       "25  ( 1 ) \" \"               \"*\"             \"*\"        \" \"      \" \"       \n",
       "26  ( 1 ) \" \"               \"*\"             \"*\"        \" \"      \" \"       \n",
       "27  ( 1 ) \" \"               \"*\"             \"*\"        \" \"      \" \"       \n",
       "28  ( 1 ) \" \"               \"*\"             \"*\"        \" \"      \" \"       \n",
       "29  ( 1 ) \" \"               \"*\"             \"*\"        \" \"      \" \"       \n",
       "30  ( 1 ) \" \"               \"*\"             \"*\"        \" \"      \" \"       \n",
       "          capitalLong capitalTotal\n",
       "1  ( 1 )  \" \"         \" \"         \n",
       "2  ( 1 )  \" \"         \" \"         \n",
       "3  ( 1 )  \" \"         \" \"         \n",
       "4  ( 1 )  \" \"         \"*\"         \n",
       "5  ( 1 )  \" \"         \"*\"         \n",
       "6  ( 1 )  \" \"         \"*\"         \n",
       "7  ( 1 )  \" \"         \"*\"         \n",
       "8  ( 1 )  \" \"         \"*\"         \n",
       "9  ( 1 )  \" \"         \"*\"         \n",
       "10  ( 1 ) \" \"         \"*\"         \n",
       "11  ( 1 ) \" \"         \"*\"         \n",
       "12  ( 1 ) \" \"         \"*\"         \n",
       "13  ( 1 ) \" \"         \"*\"         \n",
       "14  ( 1 ) \" \"         \"*\"         \n",
       "15  ( 1 ) \" \"         \"*\"         \n",
       "16  ( 1 ) \" \"         \"*\"         \n",
       "17  ( 1 ) \" \"         \"*\"         \n",
       "18  ( 1 ) \" \"         \"*\"         \n",
       "19  ( 1 ) \" \"         \"*\"         \n",
       "20  ( 1 ) \" \"         \"*\"         \n",
       "21  ( 1 ) \" \"         \"*\"         \n",
       "22  ( 1 ) \" \"         \"*\"         \n",
       "23  ( 1 ) \" \"         \"*\"         \n",
       "24  ( 1 ) \" \"         \"*\"         \n",
       "25  ( 1 ) \" \"         \"*\"         \n",
       "26  ( 1 ) \" \"         \"*\"         \n",
       "27  ( 1 ) \" \"         \"*\"         \n",
       "28  ( 1 ) \" \"         \"*\"         \n",
       "29  ( 1 ) \" \"         \"*\"         \n",
       "30  ( 1 ) \" \"         \"*\"         "
      ]
     },
     "metadata": {},
     "output_type": "display_data"
    }
   ],
   "source": [
    "nvmax = 30\n",
    "reg.fit=regsubsets(typen~.-1, data=spam_n,  method=\"backward\", nvmax = nvmax) # \"backwards\" specified to speed up\n",
    "reg.sum=summary(reg.fit)\n",
    "reg.sum"
   ]
  },
  {
   "cell_type": "code",
   "execution_count": 242,
   "metadata": {},
   "outputs": [
    {
     "data": {
      "image/png": "[encoded data removed]",
      "text/plain": [
       "plot without title"
      ]
     },
     "metadata": {},
     "output_type": "display_data"
    }
   ],
   "source": [
    " plot(1:nvmax, reg.sum$adjr2, type=\"b\", col=\"blue\", xlab = \"Model\", ylab = \"R2\")"
   ]
  },
  {
   "cell_type": "code",
   "execution_count": 243,
   "metadata": {},
   "outputs": [],
   "source": [
    "modelsMSE = function(reg.fit, formula, df, out,  n){\n",
    "    df.mat = model.matrix(formula, data = df, nvmax = n)\n",
    "    val.mse = rep(NA, n)\n",
    "    for (i in 1:n) {\n",
    "        coef= coef(reg.fit, id = i)\n",
    "        pred = df.mat[, names(coef)] %*% coef\n",
    "        val.mse[i] = mean((pred - out)^2)\n",
    "    }\n",
    "    return(val.mse)\n",
    "}"
   ]
  },
  {
   "cell_type": "code",
   "execution_count": 231,
   "metadata": {},
   "outputs": [
    {
     "data": {
      "text/html": [
       "<dl class=dl-horizontal>\n",
       "\t<dt>(Intercept)</dt>\n",
       "\t\t<dd>0.175405965242716</dd>\n",
       "\t<dt>all</dt>\n",
       "\t\t<dd>0.0388046878761493</dd>\n",
       "\t<dt>our</dt>\n",
       "\t\t<dd>0.0873991283652079</dd>\n",
       "\t<dt>over</dt>\n",
       "\t\t<dd>0.122217554295248</dd>\n",
       "\t<dt>remove</dt>\n",
       "\t\t<dd>0.225276699992079</dd>\n",
       "\t<dt>internet</dt>\n",
       "\t\t<dd>0.101782738842299</dd>\n",
       "\t<dt>order</dt>\n",
       "\t\t<dd>0.08348317820644</dd>\n",
       "\t<dt>will</dt>\n",
       "\t\t<dd>-0.0269670576891612</dd>\n",
       "\t<dt>free</dt>\n",
       "\t\t<dd>0.077020746044655</dd>\n",
       "\t<dt>business</dt>\n",
       "\t\t<dd>0.0534689094439639</dd>\n",
       "\t<dt>email</dt>\n",
       "\t\t<dd>0.0542198606656897</dd>\n",
       "\t<dt>you</dt>\n",
       "\t\t<dd>0.0164774210544767</dd>\n",
       "\t<dt>credit</dt>\n",
       "\t\t<dd>0.0666623059647251</dd>\n",
       "\t<dt>your</dt>\n",
       "\t\t<dd>0.0553324688520559</dd>\n",
       "\t<dt>font</dt>\n",
       "\t\t<dd>0.0498188799326522</dd>\n",
       "\t<dt>num000</dt>\n",
       "\t\t<dd>0.183894937956481</dd>\n",
       "\t<dt>money</dt>\n",
       "\t\t<dd>0.0881615879105941</dd>\n",
       "\t<dt>hp</dt>\n",
       "\t\t<dd>-0.0241682799509285</dd>\n",
       "\t<dt>hpl</dt>\n",
       "\t\t<dd>-0.0277586807734138</dd>\n",
       "\t<dt>george</dt>\n",
       "\t\t<dd>-0.0112020988868922</dd>\n",
       "\t<dt>data</dt>\n",
       "\t\t<dd>-0.0456020180298155</dd>\n",
       "\t<dt>meeting</dt>\n",
       "\t\t<dd>-0.0423612771049545</dd>\n",
       "\t<dt>original</dt>\n",
       "\t\t<dd>-0.0869057833220619</dd>\n",
       "\t<dt>project</dt>\n",
       "\t\t<dd>-0.031779120929748</dd>\n",
       "\t<dt>re</dt>\n",
       "\t\t<dd>-0.0359208432922262</dd>\n",
       "\t<dt>edu</dt>\n",
       "\t\t<dd>-0.0403810909424223</dd>\n",
       "\t<dt>conference</dt>\n",
       "\t\t<dd>-0.0584195513696613</dd>\n",
       "\t<dt>charSemicolon</dt>\n",
       "\t\t<dd>-0.148165640863251</dd>\n",
       "\t<dt>charExclamation</dt>\n",
       "\t\t<dd>0.0700617610333988</dd>\n",
       "\t<dt>charDollar</dt>\n",
       "\t\t<dd>0.238961816989986</dd>\n",
       "\t<dt>capitalTotal</dt>\n",
       "\t\t<dd>9.22501650809629e-05</dd>\n",
       "</dl>\n"
      ],
      "text/latex": [
       "\\begin{description*}\n",
       "\\item[(Intercept)] 0.175405965242716\n",
       "\\item[all] 0.0388046878761493\n",
       "\\item[our] 0.0873991283652079\n",
       "\\item[over] 0.122217554295248\n",
       "\\item[remove] 0.225276699992079\n",
       "\\item[internet] 0.101782738842299\n",
       "\\item[order] 0.08348317820644\n",
       "\\item[will] -0.0269670576891612\n",
       "\\item[free] 0.077020746044655\n",
       "\\item[business] 0.0534689094439639\n",
       "\\item[email] 0.0542198606656897\n",
       "\\item[you] 0.0164774210544767\n",
       "\\item[credit] 0.0666623059647251\n",
       "\\item[your] 0.0553324688520559\n",
       "\\item[font] 0.0498188799326522\n",
       "\\item[num000] 0.183894937956481\n",
       "\\item[money] 0.0881615879105941\n",
       "\\item[hp] -0.0241682799509285\n",
       "\\item[hpl] -0.0277586807734138\n",
       "\\item[george] -0.0112020988868922\n",
       "\\item[data] -0.0456020180298155\n",
       "\\item[meeting] -0.0423612771049545\n",
       "\\item[original] -0.0869057833220619\n",
       "\\item[project] -0.031779120929748\n",
       "\\item[re] -0.0359208432922262\n",
       "\\item[edu] -0.0403810909424223\n",
       "\\item[conference] -0.0584195513696613\n",
       "\\item[charSemicolon] -0.148165640863251\n",
       "\\item[charExclamation] 0.0700617610333988\n",
       "\\item[charDollar] 0.238961816989986\n",
       "\\item[capitalTotal] 9.22501650809629e-05\n",
       "\\end{description*}\n"
      ],
      "text/markdown": [
       "(Intercept)\n",
       ":   0.175405965242716all\n",
       ":   0.0388046878761493our\n",
       ":   0.0873991283652079over\n",
       ":   0.122217554295248remove\n",
       ":   0.225276699992079internet\n",
       ":   0.101782738842299order\n",
       ":   0.08348317820644will\n",
       ":   -0.0269670576891612free\n",
       ":   0.077020746044655business\n",
       ":   0.0534689094439639email\n",
       ":   0.0542198606656897you\n",
       ":   0.0164774210544767credit\n",
       ":   0.0666623059647251your\n",
       ":   0.0553324688520559font\n",
       ":   0.0498188799326522num000\n",
       ":   0.183894937956481money\n",
       ":   0.0881615879105941hp\n",
       ":   -0.0241682799509285hpl\n",
       ":   -0.0277586807734138george\n",
       ":   -0.0112020988868922data\n",
       ":   -0.0456020180298155meeting\n",
       ":   -0.0423612771049545original\n",
       ":   -0.0869057833220619project\n",
       ":   -0.031779120929748re\n",
       ":   -0.0359208432922262edu\n",
       ":   -0.0403810909424223conference\n",
       ":   -0.0584195513696613charSemicolon\n",
       ":   -0.148165640863251charExclamation\n",
       ":   0.0700617610333988charDollar\n",
       ":   0.238961816989986capitalTotal\n",
       ":   9.22501650809629e-05\n",
       "\n"
      ],
      "text/plain": [
       "    (Intercept)             all             our            over          remove \n",
       "   1.754060e-01    3.880469e-02    8.739913e-02    1.222176e-01    2.252767e-01 \n",
       "       internet           order            will            free        business \n",
       "   1.017827e-01    8.348318e-02   -2.696706e-02    7.702075e-02    5.346891e-02 \n",
       "          email             you          credit            your            font \n",
       "   5.421986e-02    1.647742e-02    6.666231e-02    5.533247e-02    4.981888e-02 \n",
       "         num000           money              hp             hpl          george \n",
       "   1.838949e-01    8.816159e-02   -2.416828e-02   -2.775868e-02   -1.120210e-02 \n",
       "           data         meeting        original         project              re \n",
       "  -4.560202e-02   -4.236128e-02   -8.690578e-02   -3.177912e-02   -3.592084e-02 \n",
       "            edu      conference   charSemicolon charExclamation      charDollar \n",
       "  -4.038109e-02   -5.841955e-02   -1.481656e-01    7.006176e-02    2.389618e-01 \n",
       "   capitalTotal \n",
       "   9.225017e-05 "
      ]
     },
     "metadata": {},
     "output_type": "display_data"
    }
   ],
   "source": [
    "coef = coef(reg.fit, id=nvmax)\n",
    "coef"
   ]
  },
  {
   "cell_type": "markdown",
   "metadata": {},
   "source": [
    "### Ridge"
   ]
  },
  {
   "cell_type": "code",
   "execution_count": 237,
   "metadata": {},
   "outputs": [
    {
     "data": {
      "text/html": [
       "0.0829700841231945"
      ],
      "text/latex": [
       "0.0829700841231945"
      ],
      "text/markdown": [
       "0.0829700841231945"
      ],
      "text/plain": [
       "[1] 0.08297008"
      ]
     },
     "metadata": {},
     "output_type": "display_data"
    },
    {
     "data": {
      "image/png": "[encoded data removed]",
      "text/plain": [
       "plot without title"
      ]
     },
     "metadata": {},
     "output_type": "display_data"
    }
   ],
   "source": [
    "X = model.matrix(typen ~ .-1, spam_n)[,-1]\n",
    "ridge.mod = glmnet(X, spam_n$typen, alpha=0,  lambda=seq(0.01, 1, by = 0.05))\n",
    "cv.ridge = cv.glmnet(X, spam_n$typen, alpha=0)\n",
    "plot(cv.ridge)\n",
    "bestlam=cv.ridge$lambda.min\n",
    "bestlam"
   ]
  },
  {
   "cell_type": "code",
   "execution_count": 238,
   "metadata": {},
   "outputs": [
    {
     "data": {
      "text/html": [
       "0.111124630016847"
      ],
      "text/latex": [
       "0.111124630016847"
      ],
      "text/markdown": [
       "0.111124630016847"
      ],
      "text/plain": [
       "[1] 0.1111246"
      ]
     },
     "metadata": {},
     "output_type": "display_data"
    },
    {
     "data": {
      "text/plain": [
       "57 x 1 sparse Matrix of class \"dgCMatrix\"\n",
       "                             s0\n",
       "(Intercept)        2.045961e-01\n",
       "address           -9.987873e-03\n",
       "all                3.951851e-02\n",
       "num3d              1.084271e-02\n",
       "our                7.564560e-02\n",
       "over               1.140962e-01\n",
       "remove             1.913853e-01\n",
       "internet           8.789169e-02\n",
       "order              7.194410e-02\n",
       "mail               1.584215e-02\n",
       "receive            6.562422e-02\n",
       "will              -2.375881e-02\n",
       "people             1.863612e-02\n",
       "report             7.852027e-03\n",
       "addresses          3.471682e-02\n",
       "free               6.822427e-02\n",
       "business           5.649567e-02\n",
       "email              5.199150e-02\n",
       "you                1.480581e-02\n",
       "credit             5.808434e-02\n",
       "your               4.742905e-02\n",
       "font               3.694583e-02\n",
       "num000             1.562075e-01\n",
       "money              7.978391e-02\n",
       "hp                -2.089995e-02\n",
       "hpl               -2.259855e-02\n",
       "george            -1.074220e-02\n",
       "num650            -2.244529e-03\n",
       "lab               -8.814404e-03\n",
       "labs              -4.065860e-02\n",
       "telnet            -1.498320e-02\n",
       "num857             2.082423e-02\n",
       "data              -3.793214e-02\n",
       "num415             2.160390e-02\n",
       "num85             -2.546715e-02\n",
       "technology         1.511214e-02\n",
       "num1999           -3.540481e-02\n",
       "parts             -4.540069e-02\n",
       "pm                -2.272798e-02\n",
       "direct             3.531117e-02\n",
       "cs                -1.564696e-02\n",
       "meeting           -3.335695e-02\n",
       "original          -6.200960e-02\n",
       "project           -2.951554e-02\n",
       "re                -3.112001e-02\n",
       "edu               -3.325042e-02\n",
       "table             -1.721247e-01\n",
       "conference        -5.323816e-02\n",
       "charSemicolon     -1.082347e-01\n",
       "charRoundbracket  -5.194282e-02\n",
       "charSquarebracket -5.445367e-02\n",
       "charExclamation    6.069428e-02\n",
       "charDollar         2.143527e-01\n",
       "charHash           2.741387e-02\n",
       "capitalAve         2.414626e-04\n",
       "capitalLong        7.815624e-05\n",
       "capitalTotal       6.951505e-05"
      ]
     },
     "metadata": {},
     "output_type": "display_data"
    }
   ],
   "source": [
    "ridge.pred=predict(ridge.mod, s=bestlam, newx=X[test,])\n",
    "mean((ridge.pred-spam_test$typen)^2)\n",
    "ridge.mod = glmnet(X, spam_n$typen, alpha=0,  lambda=bestlam)\n",
    "coef(ridge.mod)"
   ]
  },
  {
   "cell_type": "markdown",
   "metadata": {},
   "source": [
    "### Lasso"
   ]
  },
  {
   "cell_type": "code",
   "execution_count": 239,
   "metadata": {},
   "outputs": [
    {
     "data": {
      "text/html": [
       "0.00123207941329944"
      ],
      "text/latex": [
       "0.00123207941329944"
      ],
      "text/markdown": [
       "0.00123207941329944"
      ],
      "text/plain": [
       "[1] 0.001232079"
      ]
     },
     "metadata": {},
     "output_type": "display_data"
    },
    {
     "data": {
      "image/png": "[encoded data removed]",
      "text/plain": [
       "plot without title"
      ]
     },
     "metadata": {},
     "output_type": "display_data"
    }
   ],
   "source": [
    "lasso.mod = glmnet(X, spam_n$typen, alpha=1,  lambda=seq(0.01, 1, by = 0.05))\n",
    "cv.lasso = cv.glmnet(X, spam_n$typen, alpha=1)\n",
    "plot(cv.lasso)\n",
    "bestlam=cv.lasso$lambda.min\n",
    "bestlam"
   ]
  },
  {
   "cell_type": "code",
   "execution_count": 240,
   "metadata": {},
   "outputs": [
    {
     "data": {
      "text/html": [
       "0.113952882060378"
      ],
      "text/latex": [
       "0.113952882060378"
      ],
      "text/markdown": [
       "0.113952882060378"
      ],
      "text/plain": [
       "[1] 0.1139529"
      ]
     },
     "metadata": {},
     "output_type": "display_data"
    },
    {
     "data": {
      "text/plain": [
       "57 x 1 sparse Matrix of class \"dgCMatrix\"\n",
       "                             s0\n",
       "(Intercept)        1.960860e-01\n",
       "address           -1.060908e-02\n",
       "all                3.802224e-02\n",
       "num3d              1.109774e-02\n",
       "our                8.365492e-02\n",
       "over               1.173409e-01\n",
       "remove             2.148908e-01\n",
       "internet           9.498568e-02\n",
       "order              6.972901e-02\n",
       "mail               1.431110e-02\n",
       "receive            4.530274e-02\n",
       "will              -2.740092e-02\n",
       "people             9.527623e-03\n",
       "report             2.002789e-03\n",
       "addresses          2.004823e-02\n",
       "free               7.434947e-02\n",
       "business           5.046285e-02\n",
       "email              5.363467e-02\n",
       "you                1.399383e-02\n",
       "credit             6.186285e-02\n",
       "your               5.196741e-02\n",
       "font               4.367510e-02\n",
       "num000             1.714515e-01\n",
       "money              8.493971e-02\n",
       "hp                -2.267737e-02\n",
       "hpl               -2.109145e-02\n",
       "george            -1.167486e-02\n",
       "num650             .           \n",
       "lab               -2.869286e-03\n",
       "labs              -4.461262e-02\n",
       "telnet            -1.205784e-02\n",
       "num857             2.897086e-02\n",
       "data              -4.017510e-02\n",
       "num415             7.287195e-03\n",
       "num85             -2.699180e-02\n",
       "technology         1.952374e-02\n",
       "num1999           -3.283372e-02\n",
       "parts             -4.721912e-02\n",
       "pm                -1.905953e-02\n",
       "direct             3.858281e-02\n",
       "cs                -8.108821e-03\n",
       "meeting           -3.757945e-02\n",
       "original          -6.028592e-02\n",
       "project           -3.096671e-02\n",
       "re                -3.405698e-02\n",
       "edu               -3.658102e-02\n",
       "table             -1.787065e-01\n",
       "conference        -5.419426e-02\n",
       "charSemicolon     -1.325048e-01\n",
       "charRoundbracket  -5.190960e-02\n",
       "charSquarebracket -4.817470e-02\n",
       "charExclamation    6.713084e-02\n",
       "charDollar         2.308513e-01\n",
       "charHash           2.503894e-02\n",
       "capitalAve         2.092017e-04\n",
       "capitalLong        6.193022e-05\n",
       "capitalTotal       7.957307e-05"
      ]
     },
     "metadata": {},
     "output_type": "display_data"
    }
   ],
   "source": [
    "lasso.pred=predict(lasso.mod, s=bestlam, newx=X[test,])\n",
    "mean((lasso.pred-spam_test$typen)^2)\n",
    "lasso.mod = glmnet(X, spam_n$typen, alpha=1,  lambda=bestlam)\n",
    "coef(lasso.mod)"
   ]
  },
  {
   "cell_type": "markdown",
   "metadata": {},
   "source": [
    "### PCR"
   ]
  },
  {
   "cell_type": "code",
   "execution_count": 251,
   "metadata": {},
   "outputs": [
    {
     "data": {
      "image/png": "[encoded data removed]",
      "text/plain": [
       "Plot with title \"typen\""
      ]
     },
     "metadata": {},
     "output_type": "display_data"
    }
   ],
   "source": [
    "pcr.fit = pcr(typen~.-1, data=spam_n, validation = 'CV')\n",
    "validationplot(pcr.fit, val.type=\"MSEP\")"
   ]
  },
  {
   "cell_type": "code",
   "execution_count": 253,
   "metadata": {},
   "outputs": [
    {
     "data": {
      "text/html": [
       "<ol class=list-inline>\n",
       "\t<li>-0.0498190288944038</li>\n",
       "\t<li>-0.0120462356832261</li>\n",
       "\t<li>0.039278579066534</li>\n",
       "\t<li>0.011917287166873</li>\n",
       "\t<li>0.0842077237694444</li>\n",
       "\t<li>0.118840539691057</li>\n",
       "\t<li>0.212940544302354</li>\n",
       "\t<li>0.0939888974333124</li>\n",
       "\t<li>0.0724740306621428</li>\n",
       "\t<li>0.015067395568091</li>\n",
       "\t<li>0.0568567170128131</li>\n",
       "\t<li>-0.0278594942276627</li>\n",
       "\t<li>0.0119040396077201</li>\n",
       "\t<li>0.00485997980117074</li>\n",
       "\t<li>0.0185245238632792</li>\n",
       "\t<li>0.0750613606291233</li>\n",
       "\t<li>0.05171571348012</li>\n",
       "\t<li>0.0553979180302765</li>\n",
       "\t<li>0.0141333699121775</li>\n",
       "\t<li>0.0617219768990694</li>\n",
       "\t<li>0.0526937283591076</li>\n",
       "\t<li>0.0447669999733873</li>\n",
       "\t<li>0.174800431470861</li>\n",
       "\t<li>0.0908907931300591</li>\n",
       "\t<li>-0.0231749677785555</li>\n",
       "\t<li>-0.0216289521262598</li>\n",
       "\t<li>-0.0122016023637027</li>\n",
       "\t<li>0.00398741601190801</li>\n",
       "\t<li>-0.00744954418357095</li>\n",
       "\t<li>-0.0519483778814509</li>\n",
       "\t<li>-0.0232939752859471</li>\n",
       "\t<li>0.00633175996416542</li>\n",
       "\t<li>-0.0419834167119732</li>\n",
       "\t<li>0.0511417650913732</li>\n",
       "\t<li>-0.0311687177117948</li>\n",
       "\t<li>0.0264800624687855</li>\n",
       "\t<li>-0.0332125168206095</li>\n",
       "\t<li>-0.0534386057896988</li>\n",
       "\t<li>-0.0197545953365614</li>\n",
       "\t<li>0.0407608890126569</li>\n",
       "\t<li>-0.00836408577103406</li>\n",
       "\t<li>-0.036926520881412</li>\n",
       "\t<li>-0.0632389776030244</li>\n",
       "\t<li>-0.0323800300873051</li>\n",
       "\t<li>-0.0352532827577344</li>\n",
       "\t<li>-0.037814111080616</li>\n",
       "\t<li>-0.195177399719785</li>\n",
       "\t<li>-0.0582229385815657</li>\n",
       "\t<li>-0.140102484185709</li>\n",
       "\t<li>-0.0599593550410539</li>\n",
       "\t<li>-0.0590515789957205</li>\n",
       "\t<li>0.0680529871324927</li>\n",
       "\t<li>0.233177985624515</li>\n",
       "\t<li>0.0276934327001119</li>\n",
       "\t<li>0.000232670765718969</li>\n",
       "\t<li>6.67538218019964e-05</li>\n",
       "\t<li>7.98621908652526e-05</li>\n",
       "</ol>\n"
      ],
      "text/latex": [
       "\\begin{enumerate*}\n",
       "\\item -0.0498190288944038\n",
       "\\item -0.0120462356832261\n",
       "\\item 0.039278579066534\n",
       "\\item 0.011917287166873\n",
       "\\item 0.0842077237694444\n",
       "\\item 0.118840539691057\n",
       "\\item 0.212940544302354\n",
       "\\item 0.0939888974333124\n",
       "\\item 0.0724740306621428\n",
       "\\item 0.015067395568091\n",
       "\\item 0.0568567170128131\n",
       "\\item -0.0278594942276627\n",
       "\\item 0.0119040396077201\n",
       "\\item 0.00485997980117074\n",
       "\\item 0.0185245238632792\n",
       "\\item 0.0750613606291233\n",
       "\\item 0.05171571348012\n",
       "\\item 0.0553979180302765\n",
       "\\item 0.0141333699121775\n",
       "\\item 0.0617219768990694\n",
       "\\item 0.0526937283591076\n",
       "\\item 0.0447669999733873\n",
       "\\item 0.174800431470861\n",
       "\\item 0.0908907931300591\n",
       "\\item -0.0231749677785555\n",
       "\\item -0.0216289521262598\n",
       "\\item -0.0122016023637027\n",
       "\\item 0.00398741601190801\n",
       "\\item -0.00744954418357095\n",
       "\\item -0.0519483778814509\n",
       "\\item -0.0232939752859471\n",
       "\\item 0.00633175996416542\n",
       "\\item -0.0419834167119732\n",
       "\\item 0.0511417650913732\n",
       "\\item -0.0311687177117948\n",
       "\\item 0.0264800624687855\n",
       "\\item -0.0332125168206095\n",
       "\\item -0.0534386057896988\n",
       "\\item -0.0197545953365614\n",
       "\\item 0.0407608890126569\n",
       "\\item -0.00836408577103406\n",
       "\\item -0.036926520881412\n",
       "\\item -0.0632389776030244\n",
       "\\item -0.0323800300873051\n",
       "\\item -0.0352532827577344\n",
       "\\item -0.037814111080616\n",
       "\\item -0.195177399719785\n",
       "\\item -0.0582229385815657\n",
       "\\item -0.140102484185709\n",
       "\\item -0.0599593550410539\n",
       "\\item -0.0590515789957205\n",
       "\\item 0.0680529871324927\n",
       "\\item 0.233177985624515\n",
       "\\item 0.0276934327001119\n",
       "\\item 0.000232670765718969\n",
       "\\item 6.67538218019964e-05\n",
       "\\item 7.98621908652526e-05\n",
       "\\end{enumerate*}\n"
      ],
      "text/markdown": [
       "1. -0.0498190288944038\n",
       "2. -0.0120462356832261\n",
       "3. 0.039278579066534\n",
       "4. 0.011917287166873\n",
       "5. 0.0842077237694444\n",
       "6. 0.118840539691057\n",
       "7. 0.212940544302354\n",
       "8. 0.0939888974333124\n",
       "9. 0.0724740306621428\n",
       "10. 0.015067395568091\n",
       "11. 0.0568567170128131\n",
       "12. -0.0278594942276627\n",
       "13. 0.0119040396077201\n",
       "14. 0.00485997980117074\n",
       "15. 0.0185245238632792\n",
       "16. 0.0750613606291233\n",
       "17. 0.05171571348012\n",
       "18. 0.0553979180302765\n",
       "19. 0.0141333699121775\n",
       "20. 0.0617219768990694\n",
       "21. 0.0526937283591076\n",
       "22. 0.0447669999733873\n",
       "23. 0.174800431470861\n",
       "24. 0.0908907931300591\n",
       "25. -0.0231749677785555\n",
       "26. -0.0216289521262598\n",
       "27. -0.0122016023637027\n",
       "28. 0.00398741601190801\n",
       "29. -0.00744954418357095\n",
       "30. -0.0519483778814509\n",
       "31. -0.0232939752859471\n",
       "32. 0.00633175996416542\n",
       "33. -0.0419834167119732\n",
       "34. 0.0511417650913732\n",
       "35. -0.0311687177117948\n",
       "36. 0.0264800624687855\n",
       "37. -0.0332125168206095\n",
       "38. -0.0534386057896988\n",
       "39. -0.0197545953365614\n",
       "40. 0.0407608890126569\n",
       "41. -0.00836408577103406\n",
       "42. -0.036926520881412\n",
       "43. -0.0632389776030244\n",
       "44. -0.0323800300873051\n",
       "45. -0.0352532827577344\n",
       "46. -0.037814111080616\n",
       "47. -0.195177399719785\n",
       "48. -0.0582229385815657\n",
       "49. -0.140102484185709\n",
       "50. -0.0599593550410539\n",
       "51. -0.0590515789957205\n",
       "52. 0.0680529871324927\n",
       "53. 0.233177985624515\n",
       "54. 0.0276934327001119\n",
       "55. 0.000232670765718969\n",
       "56. 6.67538218019964e-05\n",
       "57. 7.98621908652526e-05\n",
       "\n",
       "\n"
      ],
      "text/plain": [
       ", , 57 comps\n",
       "\n",
       "                          typen\n",
       "make              -4.981903e-02\n",
       "address           -1.204624e-02\n",
       "all                3.927858e-02\n",
       "num3d              1.191729e-02\n",
       "our                8.420772e-02\n",
       "over               1.188405e-01\n",
       "remove             2.129405e-01\n",
       "internet           9.398890e-02\n",
       "order              7.247403e-02\n",
       "mail               1.506740e-02\n",
       "receive            5.685672e-02\n",
       "will              -2.785949e-02\n",
       "people             1.190404e-02\n",
       "report             4.859980e-03\n",
       "addresses          1.852452e-02\n",
       "free               7.506136e-02\n",
       "business           5.171571e-02\n",
       "email              5.539792e-02\n",
       "you                1.413337e-02\n",
       "credit             6.172198e-02\n",
       "your               5.269373e-02\n",
       "font               4.476700e-02\n",
       "num000             1.748004e-01\n",
       "money              9.089079e-02\n",
       "hp                -2.317497e-02\n",
       "hpl               -2.162895e-02\n",
       "george            -1.220160e-02\n",
       "num650             3.987416e-03\n",
       "lab               -7.449544e-03\n",
       "labs              -5.194838e-02\n",
       "telnet            -2.329398e-02\n",
       "num857             6.331760e-03\n",
       "data              -4.198342e-02\n",
       "num415             5.114177e-02\n",
       "num85             -3.116872e-02\n",
       "technology         2.648006e-02\n",
       "num1999           -3.321252e-02\n",
       "parts             -5.343861e-02\n",
       "pm                -1.975460e-02\n",
       "direct             4.076089e-02\n",
       "cs                -8.364086e-03\n",
       "meeting           -3.692652e-02\n",
       "original          -6.323898e-02\n",
       "project           -3.238003e-02\n",
       "re                -3.525328e-02\n",
       "edu               -3.781411e-02\n",
       "table             -1.951774e-01\n",
       "conference        -5.822294e-02\n",
       "charSemicolon     -1.401025e-01\n",
       "charRoundbracket  -5.995936e-02\n",
       "charSquarebracket -5.905158e-02\n",
       "charExclamation    6.805299e-02\n",
       "charDollar         2.331780e-01\n",
       "charHash           2.769343e-02\n",
       "capitalAve         2.326708e-04\n",
       "capitalLong        6.675382e-05\n",
       "capitalTotal       7.986219e-05\n"
      ]
     },
     "metadata": {},
     "output_type": "display_data"
    }
   ],
   "source": [
    "coef(pcr.fit)"
   ]
  },
  {
   "cell_type": "markdown",
   "metadata": {},
   "source": [
    "It looks like the more components the less is error."
   ]
  },
  {
   "cell_type": "code",
   "execution_count": 256,
   "metadata": {},
   "outputs": [
    {
     "data": {
      "image/png": "[encoded data removed]",
      "text/plain": [
       "Plot with title \"typen\""
      ]
     },
     "metadata": {},
     "output_type": "display_data"
    }
   ],
   "source": [
    "plsr.fit <- plsr( formula = typen~.-1, data = spam_n, validation =\"CV\")\n",
    "validationplot(plsr.fit, val.type=\"MSEP\")"
   ]
  },
  {
   "cell_type": "code",
   "execution_count": 267,
   "metadata": {
    "scrolled": true
   },
   "outputs": [
    {
     "data": {
      "text/html": [
       "<ol class=list-inline>\n",
       "\t<li>-0.0498190288944005</li>\n",
       "\t<li>-0.012046235683228</li>\n",
       "\t<li>0.0392785790665173</li>\n",
       "\t<li>0.0119172871668737</li>\n",
       "\t<li>0.084207723769436</li>\n",
       "\t<li>0.118840539691063</li>\n",
       "\t<li>0.212940544302367</li>\n",
       "\t<li>0.0939888974332921</li>\n",
       "\t<li>0.0724740306621641</li>\n",
       "\t<li>0.0150673955680995</li>\n",
       "\t<li>0.0568567170127904</li>\n",
       "\t<li>-0.0278594942276625</li>\n",
       "\t<li>0.0119040396077291</li>\n",
       "\t<li>0.0048599798011769</li>\n",
       "\t<li>0.0185245238632685</li>\n",
       "\t<li>0.0750613606291173</li>\n",
       "\t<li>0.0517157134801144</li>\n",
       "\t<li>0.0553979180302926</li>\n",
       "\t<li>0.0141333699121747</li>\n",
       "\t<li>0.061721976899061</li>\n",
       "\t<li>0.0526937283591158</li>\n",
       "\t<li>0.044766999973389</li>\n",
       "\t<li>0.174800431470832</li>\n",
       "\t<li>0.0908907931300431</li>\n",
       "\t<li>-0.0231749677785549</li>\n",
       "\t<li>-0.0216289521262628</li>\n",
       "\t<li>-0.0122016023637025</li>\n",
       "\t<li>0.0039874160118994</li>\n",
       "\t<li>-0.00744954418357287</li>\n",
       "\t<li>-0.0519483778814474</li>\n",
       "\t<li>-0.023293975285973</li>\n",
       "\t<li>0.00633175996590217</li>\n",
       "\t<li>-0.0419834167119703</li>\n",
       "\t<li>0.0511417650896758</li>\n",
       "\t<li>-0.0311687177117882</li>\n",
       "\t<li>0.0264800624687894</li>\n",
       "\t<li>-0.0332125168206228</li>\n",
       "\t<li>-0.0534386057896923</li>\n",
       "\t<li>-0.0197545953365515</li>\n",
       "\t<li>0.0407608890126448</li>\n",
       "\t<li>-0.00836408577104082</li>\n",
       "\t<li>-0.036926520881417</li>\n",
       "\t<li>-0.0632389776030251</li>\n",
       "\t<li>-0.032380030087302</li>\n",
       "\t<li>-0.0352532827577358</li>\n",
       "\t<li>-0.0378141110806138</li>\n",
       "\t<li>-0.195177399719816</li>\n",
       "\t<li>-0.0582229385815678</li>\n",
       "\t<li>-0.140102484185718</li>\n",
       "\t<li>-0.0599593550410568</li>\n",
       "\t<li>-0.0590515789957213</li>\n",
       "\t<li>0.0680529871325027</li>\n",
       "\t<li>0.233177985624494</li>\n",
       "\t<li>0.0276934327001088</li>\n",
       "\t<li>0.000232670765718996</li>\n",
       "\t<li>6.67538218020198e-05</li>\n",
       "\t<li>7.98621908652846e-05</li>\n",
       "</ol>\n"
      ],
      "text/latex": [
       "\\begin{enumerate*}\n",
       "\\item -0.0498190288944005\n",
       "\\item -0.012046235683228\n",
       "\\item 0.0392785790665173\n",
       "\\item 0.0119172871668737\n",
       "\\item 0.084207723769436\n",
       "\\item 0.118840539691063\n",
       "\\item 0.212940544302367\n",
       "\\item 0.0939888974332921\n",
       "\\item 0.0724740306621641\n",
       "\\item 0.0150673955680995\n",
       "\\item 0.0568567170127904\n",
       "\\item -0.0278594942276625\n",
       "\\item 0.0119040396077291\n",
       "\\item 0.0048599798011769\n",
       "\\item 0.0185245238632685\n",
       "\\item 0.0750613606291173\n",
       "\\item 0.0517157134801144\n",
       "\\item 0.0553979180302926\n",
       "\\item 0.0141333699121747\n",
       "\\item 0.061721976899061\n",
       "\\item 0.0526937283591158\n",
       "\\item 0.044766999973389\n",
       "\\item 0.174800431470832\n",
       "\\item 0.0908907931300431\n",
       "\\item -0.0231749677785549\n",
       "\\item -0.0216289521262628\n",
       "\\item -0.0122016023637025\n",
       "\\item 0.0039874160118994\n",
       "\\item -0.00744954418357287\n",
       "\\item -0.0519483778814474\n",
       "\\item -0.023293975285973\n",
       "\\item 0.00633175996590217\n",
       "\\item -0.0419834167119703\n",
       "\\item 0.0511417650896758\n",
       "\\item -0.0311687177117882\n",
       "\\item 0.0264800624687894\n",
       "\\item -0.0332125168206228\n",
       "\\item -0.0534386057896923\n",
       "\\item -0.0197545953365515\n",
       "\\item 0.0407608890126448\n",
       "\\item -0.00836408577104082\n",
       "\\item -0.036926520881417\n",
       "\\item -0.0632389776030251\n",
       "\\item -0.032380030087302\n",
       "\\item -0.0352532827577358\n",
       "\\item -0.0378141110806138\n",
       "\\item -0.195177399719816\n",
       "\\item -0.0582229385815678\n",
       "\\item -0.140102484185718\n",
       "\\item -0.0599593550410568\n",
       "\\item -0.0590515789957213\n",
       "\\item 0.0680529871325027\n",
       "\\item 0.233177985624494\n",
       "\\item 0.0276934327001088\n",
       "\\item 0.000232670765718996\n",
       "\\item 6.67538218020198e-05\n",
       "\\item 7.98621908652846e-05\n",
       "\\end{enumerate*}\n"
      ],
      "text/markdown": [
       "1. -0.0498190288944005\n",
       "2. -0.012046235683228\n",
       "3. 0.0392785790665173\n",
       "4. 0.0119172871668737\n",
       "5. 0.084207723769436\n",
       "6. 0.118840539691063\n",
       "7. 0.212940544302367\n",
       "8. 0.0939888974332921\n",
       "9. 0.0724740306621641\n",
       "10. 0.0150673955680995\n",
       "11. 0.0568567170127904\n",
       "12. -0.0278594942276625\n",
       "13. 0.0119040396077291\n",
       "14. 0.0048599798011769\n",
       "15. 0.0185245238632685\n",
       "16. 0.0750613606291173\n",
       "17. 0.0517157134801144\n",
       "18. 0.0553979180302926\n",
       "19. 0.0141333699121747\n",
       "20. 0.061721976899061\n",
       "21. 0.0526937283591158\n",
       "22. 0.044766999973389\n",
       "23. 0.174800431470832\n",
       "24. 0.0908907931300431\n",
       "25. -0.0231749677785549\n",
       "26. -0.0216289521262628\n",
       "27. -0.0122016023637025\n",
       "28. 0.0039874160118994\n",
       "29. -0.00744954418357287\n",
       "30. -0.0519483778814474\n",
       "31. -0.023293975285973\n",
       "32. 0.00633175996590217\n",
       "33. -0.0419834167119703\n",
       "34. 0.0511417650896758\n",
       "35. -0.0311687177117882\n",
       "36. 0.0264800624687894\n",
       "37. -0.0332125168206228\n",
       "38. -0.0534386057896923\n",
       "39. -0.0197545953365515\n",
       "40. 0.0407608890126448\n",
       "41. -0.00836408577104082\n",
       "42. -0.036926520881417\n",
       "43. -0.0632389776030251\n",
       "44. -0.032380030087302\n",
       "45. -0.0352532827577358\n",
       "46. -0.0378141110806138\n",
       "47. -0.195177399719816\n",
       "48. -0.0582229385815678\n",
       "49. -0.140102484185718\n",
       "50. -0.0599593550410568\n",
       "51. -0.0590515789957213\n",
       "52. 0.0680529871325027\n",
       "53. 0.233177985624494\n",
       "54. 0.0276934327001088\n",
       "55. 0.000232670765718996\n",
       "56. 6.67538218020198e-05\n",
       "57. 7.98621908652846e-05\n",
       "\n",
       "\n"
      ],
      "text/plain": [
       ", , 57 comps\n",
       "\n",
       "                          typen\n",
       "make              -4.981903e-02\n",
       "address           -1.204624e-02\n",
       "all                3.927858e-02\n",
       "num3d              1.191729e-02\n",
       "our                8.420772e-02\n",
       "over               1.188405e-01\n",
       "remove             2.129405e-01\n",
       "internet           9.398890e-02\n",
       "order              7.247403e-02\n",
       "mail               1.506740e-02\n",
       "receive            5.685672e-02\n",
       "will              -2.785949e-02\n",
       "people             1.190404e-02\n",
       "report             4.859980e-03\n",
       "addresses          1.852452e-02\n",
       "free               7.506136e-02\n",
       "business           5.171571e-02\n",
       "email              5.539792e-02\n",
       "you                1.413337e-02\n",
       "credit             6.172198e-02\n",
       "your               5.269373e-02\n",
       "font               4.476700e-02\n",
       "num000             1.748004e-01\n",
       "money              9.089079e-02\n",
       "hp                -2.317497e-02\n",
       "hpl               -2.162895e-02\n",
       "george            -1.220160e-02\n",
       "num650             3.987416e-03\n",
       "lab               -7.449544e-03\n",
       "labs              -5.194838e-02\n",
       "telnet            -2.329398e-02\n",
       "num857             6.331760e-03\n",
       "data              -4.198342e-02\n",
       "num415             5.114177e-02\n",
       "num85             -3.116872e-02\n",
       "technology         2.648006e-02\n",
       "num1999           -3.321252e-02\n",
       "parts             -5.343861e-02\n",
       "pm                -1.975460e-02\n",
       "direct             4.076089e-02\n",
       "cs                -8.364086e-03\n",
       "meeting           -3.692652e-02\n",
       "original          -6.323898e-02\n",
       "project           -3.238003e-02\n",
       "re                -3.525328e-02\n",
       "edu               -3.781411e-02\n",
       "table             -1.951774e-01\n",
       "conference        -5.822294e-02\n",
       "charSemicolon     -1.401025e-01\n",
       "charRoundbracket  -5.995936e-02\n",
       "charSquarebracket -5.905158e-02\n",
       "charExclamation    6.805299e-02\n",
       "charDollar         2.331780e-01\n",
       "charHash           2.769343e-02\n",
       "capitalAve         2.326708e-04\n",
       "capitalLong        6.675382e-05\n",
       "capitalTotal       7.986219e-05\n"
      ]
     },
     "metadata": {},
     "output_type": "display_data"
    }
   ],
   "source": [
    "coef(pls.fit)"
   ]
  },
  {
   "cell_type": "markdown",
   "metadata": {},
   "source": [
    "I do not see too noticeable change in coefficients. The best choice lambda in Ridge and Lasso are relatively small."
   ]
  },
  {
   "cell_type": "markdown",
   "metadata": {},
   "source": [
    "## Problem 18"
   ]
  },
  {
   "cell_type": "markdown",
   "metadata": {},
   "source": [
    "Read about conjugate gradient algorithms (Murray et al., 1981, for\n",
    "example), and establish a connection between these algorithms and partial\n",
    "least squares."
   ]
  },
  {
   "cell_type": "markdown",
   "metadata": {},
   "source": [
    "Conjugate gradient algorithm https://en.wikipedia.org/wiki/Conjugate_gradient_method is the same as Algorithm 3.3\n",
    "Conjugate gradient algorithm is for solving Eq. $Y= Xb$.\n",
    "\n",
    "We'll try to show that PLS estimator $\\hat{b}_{PLS}^{s} = W_s(V_s^TW_s)^{-1}T_s^Ty$ is the same as $\\hat{b}_{CG}$, where PLS weights are $w_s=X^T_{i-1}y_{i-1}/||X_{i-1}^Ty||, ||X_{i-1}^Ty||=\\sqrt{X_{i-1}^Ty_{i-1}y_{i-1}^TX_{i-1}}$, $t_s=X_{i-1}^Tw_s/||X_{i-1}^Tw_s||$, $v_s=X_{i-1}^Tt_s$. \n",
    "\n",
    "\n",
    "Residual $r_0=X^Ty-X^TXb_0$, $p_0=X^Ty$, \n",
    "$b_0=0$,\n",
    "$a_i=r_i^Tr_i/(p_i^TX^TXp_i)$,\n",
    "\n",
    "$b_{i+1}=b_i+a_ir_i$,\n",
    "$r_{i+1}=r_i-a_iXp_i$\n",
    "\n",
    "$\\beta_k = r^T_kr_{k+1}/(r^T_kr_k)$\n",
    "\n",
    "$p_{k+1}=r_{k+1}+\\beta_kp_k$\n",
    "\n",
    "$r_i^Tr_j =0$, $p_i^TAp_j =0$\n",
    "r and p span the same Krylov subspace $K(X^TX, X^TY)$.\n",
    "\n",
    "From equation above and identical spans for p and r\n",
    "\n",
    "$\\hat{b}_{GC}^{(s)} = P_{S}(P_{S}^TXXP_{S})^{-1}P_{S}^TX^Ty$\n",
    "\n",
    "From Eq. for PLS weights and $Sp(W_S)$ is identical to $Sp(P_S)$\n",
    "\n",
    "$\\hat{b}_{GC} = \\hat{b}_{PLS}$\n"
   ]
  },
  {
   "cell_type": "markdown",
   "metadata": {},
   "source": [
    "## Problem 19"
   ]
  },
  {
   "cell_type": "markdown",
   "metadata": {},
   "source": [
    "Show that $||\\hat{\\beta}^{ridge}_k||$ increases as its tuning parameter λ → 0. Does\n",
    "the same property hold for the lasso and partial least squares estimates?\n",
    "For the latter, consider the “tuning parameter” to be the successive steps\n",
    "in the algorithm."
   ]
  },
  {
   "cell_type": "markdown",
   "metadata": {},
   "source": [
    "For ridge minimum $X^TY-\\beta_j - \\lambda\\beta_j = 0$ as we showed estimator is $\\beta_j=X^TY/(1+\\lambda)$, its absolute value decreasing as lambda increases and otherwise. \n",
    "\n",
    "For Lasso $\\beta_j =X^TY-\\lambda$, the effect is the same\n",
    "\n",
    "For PLS absolute $y^{(m)}$ increases with number of step increase from algorithm description, so $y^{(m)} = \\hat{\\beta}(m) X$,\n",
    "absolute value of $\\beta$ increases. "
   ]
  },
  {
   "cell_type": "markdown",
   "metadata": {},
   "source": [
    "## Problem 20"
   ]
  },
  {
   "cell_type": "markdown",
   "metadata": {},
   "source": [
    "Consider the canonical-correlation problem (3.67). Show that the\n",
    "leading pair of canonical variates u1 and v1 solve the problem\n",
    "$max_{u^T (Y^TY)u=1, v^T (X^TX)v=1}(u^T (Y^TX)v)$, (3.86)\n",
    "a generalized SVD problem. Show that the solution is given by $u_1 =(Y^TY)^{-1/2}u^*_1$, and $v_1 = (X^TX)^{-1/2}v^*_1$, \n",
    "where $u^*_1$ and $v^*_1$ are the leading left\n",
    "and right singular vectors in $(Y^TY)^{-1/2}(Y^TX)(X^TX)^{-1/2} = U^*D^*V^{*T}$. (3.87)\n",
    "Show that the entire sequence $u_m$, $v_m$, m = 1, . . . ,min(K, p) is also given\n",
    "by (3.87)."
   ]
  },
  {
   "cell_type": "markdown",
   "metadata": {},
   "source": [
    "First components has best correlation by definition $argmax_{u_1, v_1}(Corr^2(Yu_1Xv_1))=argmax\\left((Yu_1)^TXv_1/\\left(\\sqrt{(Yu_1)^TYu_1}\\sqrt{(Xv_1)^T_1Xv_1}\\right)\\right)=\n",
    "argmax\\left(u_1^TY^TXv_1/\\left(\\sqrt{u_1^TY^TYu_1}\\sqrt{(v_1^TX^T_1Xv_1}\\right)\\right)$\n",
    "It solves (3.86).\n",
    "The columns of Yu and Xv are crossorthogonal. That is,\n",
    "$u^TY^TXv = D^*$ re (3.87), using conditions in (3.86), where $D^*$ is diagonal matrix. Whole sequence is orthogonal and can be similar obtained by (3.87)\n",
    "\n"
   ]
  },
  {
   "cell_type": "code",
   "execution_count": null,
   "metadata": {},
   "outputs": [],
   "source": []
  }
 ],
 "metadata": {
  "kernelspec": {
   "display_name": "R",
   "language": "R",
   "name": "ir"
  },
  "language_info": {
   "codemirror_mode": "r",
   "file_extension": ".r",
   "mimetype": "text/x-r-source",
   "name": "R",
   "pygments_lexer": "r",
   "version": "3.6.1"
  }
 },
 "nbformat": 4,
 "nbformat_minor": 4
}
