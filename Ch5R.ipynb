{
 "cells": [
  {
   "cell_type": "markdown",
   "metadata": {},
   "source": [
    "# Chapter 5"
   ]
  },
  {
   "cell_type": "markdown",
   "metadata": {},
   "source": [
    "## Problem 1"
   ]
  },
  {
   "cell_type": "markdown",
   "metadata": {},
   "source": [
    "1. Using basic statistical properties of the variance, as well as singlevariable calculus, derive (5.6). In other words, prove that α given by\n",
    "(5.6) does indeed minimize Var(αX + (1 − α)Y ).\n"
   ]
  },
  {
   "cell_type": "markdown",
   "metadata": {},
   "source": [
    "$Var(\\alpha X+(1-\\alpha)Y)= \\alpha^2\\sigma_X^2+(1-\\alpha)^2\\sigma_Y^2+2\\alpha(1-\\alpha)\\sigma_{XY}$"
   ]
  },
  {
   "cell_type": "markdown",
   "metadata": {},
   "source": [
    "$\\frac{d}{d\\alpha}\\left(\\alpha^2(\\sigma_X^2+\\sigma_{Y}^2-2\\sigma_{XY})-2\\alpha(\\sigma_Y^2-\\sigma_{XY})+\\sigma_Y^2\\right) = 0$ results to (5.6)"
   ]
  },
  {
   "cell_type": "markdown",
   "metadata": {},
   "source": [
    "## Problem 2"
   ]
  },
  {
   "cell_type": "markdown",
   "metadata": {},
   "source": [
    "We will now derive the probability that a given observation is part\n",
    "of a bootstrap sample. Suppose that we obtain a bootstrap sample\n",
    "from a set of n observations."
   ]
  },
  {
   "cell_type": "markdown",
   "metadata": {},
   "source": [
    "(a) What is the probability that the first bootstrap observation is\n",
    "not the jth observation from the original sample? Justify your\n",
    "answer.\n",
    "\n",
    "1-1/n, probability of 1st is any observation of original sample is 1, exclude probability that it is jth observation."
   ]
  },
  {
   "cell_type": "markdown",
   "metadata": {},
   "source": [
    "(b) What is the probability that the second bootstrap observation\n",
    "is not the jth observation from the original sample?\n",
    "\n",
    "1-1/n, similar"
   ]
  },
  {
   "cell_type": "markdown",
   "metadata": {},
   "source": [
    "(c) Argue that the probability that the jth observation is not in the\n",
    "bootstrap sample is (1 − 1/n)n.\n",
    "\n",
    "\n",
    "So probability that any observation is not jth obsevation in original sample is the product of probabilities above for each n observations $p_{out}=(1-1/n)^n$"
   ]
  },
  {
   "cell_type": "markdown",
   "metadata": {},
   "source": [
    "(d) When n = 5, what is the probability that the jth observation is\n",
    "in the bootstrap sample?\n",
    "(e) When n = 100, what is the probability that the jth observation\n",
    "\n",
    "Probability that jth obserbvation is in bootstrap set is (1-p_{out})"
   ]
  },
  {
   "cell_type": "code",
   "execution_count": 131,
   "metadata": {},
   "outputs": [
    {
     "data": {
      "text/html": [
       "0.67232"
      ],
      "text/latex": [
       "0.67232"
      ],
      "text/markdown": [
       "0.67232"
      ],
      "text/plain": [
       "[1] 0.67232"
      ]
     },
     "metadata": {},
     "output_type": "display_data"
    }
   ],
   "source": [
    "Probin=function(n){\n",
    "    return(1-(1-1/n)^n)\n",
    "}\n",
    "Probin(5)"
   ]
  },
  {
   "cell_type": "markdown",
   "metadata": {},
   "source": [
    "(e) When n = 100, what is the probability that the jth observation\n",
    "is in the bootstrap sample?\n",
    "\n",
    "n=100"
   ]
  },
  {
   "cell_type": "code",
   "execution_count": 132,
   "metadata": {},
   "outputs": [
    {
     "data": {
      "text/html": [
       "0.633967658726771"
      ],
      "text/latex": [
       "0.633967658726771"
      ],
      "text/markdown": [
       "0.633967658726771"
      ],
      "text/plain": [
       "[1] 0.6339677"
      ]
     },
     "metadata": {},
     "output_type": "display_data"
    }
   ],
   "source": [
    "Probin(100)"
   ]
  },
  {
   "cell_type": "markdown",
   "metadata": {},
   "source": [
    "(f) When n = 10,000, what is the probability that the jth observation is in the bootstrap sample?\n",
    "\n",
    "n =10000"
   ]
  },
  {
   "cell_type": "code",
   "execution_count": 133,
   "metadata": {},
   "outputs": [
    {
     "data": {
      "text/html": [
       "0.63213895356703"
      ],
      "text/latex": [
       "0.63213895356703"
      ],
      "text/markdown": [
       "0.63213895356703"
      ],
      "text/plain": [
       "[1] 0.632139"
      ]
     },
     "metadata": {},
     "output_type": "display_data"
    }
   ],
   "source": [
    "Probin(10000)"
   ]
  },
  {
   "cell_type": "markdown",
   "metadata": {},
   "source": [
    "(g)  Create a plot that displays, for each integer value of n from 1\n",
    "to 100, 000, the probability that the jth observation is in the\n",
    "bootstrap sample. Comment on what you observe.\n",
    "\n",
    "Plot of probability that the jth observation is in sample."
   ]
  },
  {
   "cell_type": "code",
   "execution_count": 134,
   "metadata": {},
   "outputs": [],
   "source": [
    "x=1:100000"
   ]
  },
  {
   "cell_type": "code",
   "execution_count": 135,
   "metadata": {},
   "outputs": [
    {
     "data": {
      "image/png": "[encoded data removed]",
      "text/plain": [
       "plot without title"
      ]
     },
     "metadata": {},
     "output_type": "display_data"
    }
   ],
   "source": [
    "plot(log(x), Probin(x), col = \"blue\", xlab = \"log(n)\", ylab = \"p\", type='l')"
   ]
  },
  {
   "cell_type": "markdown",
   "metadata": {},
   "source": [
    "(h) We will now investigate numerically the probability that a bootstrap sample of size n = 100 contains the jth observation. Here\n",
    "j = 4. We repeatedly create bootstrap samples, and each time\n",
    "we record whether or not the fourth observation is contained in\n",
    "the bootstrap sample."
   ]
  },
  {
   "cell_type": "code",
   "execution_count": 136,
   "metadata": {},
   "outputs": [
    {
     "data": {
      "text/html": [
       "0.6319"
      ],
      "text/latex": [
       "0.6319"
      ],
      "text/markdown": [
       "0.6319"
      ],
      "text/plain": [
       "[1] 0.6319"
      ]
     },
     "metadata": {},
     "output_type": "display_data"
    }
   ],
   "source": [
    "store=rep(NA,10000)\n",
    "for(i in 1:10000){\n",
    "    store[i]=sum(sample(1:100, rep=TRUE)==4)>0\n",
    "}\n",
    "mean(store)"
   ]
  },
  {
   "cell_type": "markdown",
   "metadata": {},
   "source": [
    " The probability converging to 0.63 at large n, so the mean probability is close to this number."
   ]
  },
  {
   "cell_type": "markdown",
   "metadata": {},
   "source": [
    "## Problem 3"
   ]
  },
  {
   "cell_type": "markdown",
   "metadata": {},
   "source": [
    "(a) Explain how k-fold cross-validation is implemented\n",
    "\n",
    "The dataset is divided randomly by k equal parts. Eeach subset is used as validation set when the rest is used for model training."
   ]
  },
  {
   "cell_type": "markdown",
   "metadata": {},
   "source": [
    "(b) What are the advantages and disadvantages of k-fold crossvalidation relative to:\n",
    "i. The validation set approach?\n",
    "ii. LOOCV?\n",
    "\n",
    "i. Advange: We can check how well model performs on any subsets. Disadvantage: It is slower.\n",
    "ii. Disadvantage: Les observations for training. Advantage: It is faster."
   ]
  },
  {
   "cell_type": "markdown",
   "metadata": {},
   "source": [
    "## Problem 4"
   ]
  },
  {
   "cell_type": "markdown",
   "metadata": {},
   "source": [
    "Suppose that we use some statistical learning method to make a prediction for the response Y for a particular value of the predictor X.\n",
    "Carefully describe how we might estimate the standard deviation of\n",
    "our prediction\n",
    "\n",
    "Do the bootstrap, find X for different generated samples then find std for Xsin all samples. "
   ]
  },
  {
   "cell_type": "markdown",
   "metadata": {},
   "source": [
    "## Functions"
   ]
  },
  {
   "cell_type": "code",
   "execution_count": 137,
   "metadata": {},
   "outputs": [],
   "source": [
    "PredictClassification=function(model, formula, data, datapredict, family=NULL, subset=NULL){\n",
    "    model_fits = do.call(model, list(formula, data=quote(data), family=quote(family), subset=subset))\n",
    "    print(model_fits)\n",
    "    print(summary(model_fits))\n",
    "    return(predict(model_fits, datapredict, type=\"response\"))\n",
    "}\n",
    "Predictions=function(y_probs, y, l1, l2, length, threshold=0.5){\n",
    "    y_pred = rep(l1, length)\n",
    "    y_pred[y_probs>threshold]=l2\n",
    "    #confusion matrix\n",
    "    cm=table(y_pred, y)\n",
    "    return(cm)\n",
    "}\n",
    "PrintResult=function(cm, test.X){\n",
    "   l=dim(test.X)[1]\n",
    "   accuracy=(cm[1]+cm[4])/l\n",
    "   error = 1- accuracy\n",
    "   tp = cm[4]/sum(test.X$default=='Yes')\n",
    "   fp = 1 - tp\n",
    "   print(\"over all accuracy\")\n",
    "   print(accuracy)\n",
    "   print(\"error\")\n",
    "   print(error)\n",
    "   print(\"true positive\")\n",
    "   print(tp)\n",
    "   print(\"false positive\")\n",
    "   print(fp)    \n",
    "}"
   ]
  },
  {
   "cell_type": "markdown",
   "metadata": {},
   "source": [
    "## Problem 5"
   ]
  },
  {
   "cell_type": "code",
   "execution_count": 138,
   "metadata": {},
   "outputs": [
    {
     "data": {
      "text/html": [
       "<table>\n",
       "<thead><tr><th scope=col>default</th><th scope=col>student</th><th scope=col>balance</th><th scope=col>income</th></tr></thead>\n",
       "<tbody>\n",
       "\t<tr><td>No       </td><td>No       </td><td> 729.5265</td><td>44361.625</td></tr>\n",
       "\t<tr><td>No       </td><td>Yes      </td><td> 817.1804</td><td>12106.135</td></tr>\n",
       "\t<tr><td>No       </td><td>No       </td><td>1073.5492</td><td>31767.139</td></tr>\n",
       "\t<tr><td>No       </td><td>No       </td><td> 529.2506</td><td>35704.494</td></tr>\n",
       "\t<tr><td>No       </td><td>No       </td><td> 785.6559</td><td>38463.496</td></tr>\n",
       "\t<tr><td>No       </td><td>Yes      </td><td> 919.5885</td><td> 7491.559</td></tr>\n",
       "</tbody>\n",
       "</table>\n"
      ],
      "text/latex": [
       "\\begin{tabular}{r|llll}\n",
       " default & student & balance & income\\\\\n",
       "\\hline\n",
       "\t No        & No        &  729.5265 & 44361.625\\\\\n",
       "\t No        & Yes       &  817.1804 & 12106.135\\\\\n",
       "\t No        & No        & 1073.5492 & 31767.139\\\\\n",
       "\t No        & No        &  529.2506 & 35704.494\\\\\n",
       "\t No        & No        &  785.6559 & 38463.496\\\\\n",
       "\t No        & Yes       &  919.5885 &  7491.559\\\\\n",
       "\\end{tabular}\n"
      ],
      "text/markdown": [
       "\n",
       "| default | student | balance | income |\n",
       "|---|---|---|---|\n",
       "| No        | No        |  729.5265 | 44361.625 |\n",
       "| No        | Yes       |  817.1804 | 12106.135 |\n",
       "| No        | No        | 1073.5492 | 31767.139 |\n",
       "| No        | No        |  529.2506 | 35704.494 |\n",
       "| No        | No        |  785.6559 | 38463.496 |\n",
       "| No        | Yes       |  919.5885 |  7491.559 |\n",
       "\n"
      ],
      "text/plain": [
       "  default student balance   income   \n",
       "1 No      No       729.5265 44361.625\n",
       "2 No      Yes      817.1804 12106.135\n",
       "3 No      No      1073.5492 31767.139\n",
       "4 No      No       529.2506 35704.494\n",
       "5 No      No       785.6559 38463.496\n",
       "6 No      Yes      919.5885  7491.559"
      ]
     },
     "metadata": {},
     "output_type": "display_data"
    }
   ],
   "source": [
    "library(ISLR)\n",
    "library(boot)\n",
    "library(caret)\n",
    "library(MASS)\n",
    "head(Default)"
   ]
  },
  {
   "cell_type": "code",
   "execution_count": 139,
   "metadata": {},
   "outputs": [
    {
     "name": "stdout",
     "output_type": "stream",
     "text": [
      "[1] 333\n"
     ]
    }
   ],
   "source": [
    "cy=sum(Default$default=='Yes')\n",
    "print(cy)"
   ]
  },
  {
   "cell_type": "code",
   "execution_count": 140,
   "metadata": {},
   "outputs": [
    {
     "name": "stdout",
     "output_type": "stream",
     "text": [
      "[1] 10000\n"
     ]
    }
   ],
   "source": [
    "l=dim(Default)[1]\n",
    "print(l)"
   ]
  },
  {
   "cell_type": "markdown",
   "metadata": {},
   "source": [
    "(a) Fit a logistic regression model that uses income and balance to\n",
    "predict default."
   ]
  },
  {
   "cell_type": "markdown",
   "metadata": {},
   "source": [
    "The outcome is very imbalanced"
   ]
  },
  {
   "cell_type": "code",
   "execution_count": 141,
   "metadata": {
    "scrolled": true
   },
   "outputs": [
    {
     "name": "stdout",
     "output_type": "stream",
     "text": [
      "\n",
      "Call:  glm(formula = default ~ balance + income, family = family, data = data, \n",
      "    subset = NULL)\n",
      "\n",
      "Coefficients:\n",
      "(Intercept)      balance       income  \n",
      " -1.154e+01    5.647e-03    2.081e-05  \n",
      "\n",
      "Degrees of Freedom: 9999 Total (i.e. Null);  9997 Residual\n",
      "Null Deviance:\t    2921 \n",
      "Residual Deviance: 1579 \tAIC: 1585\n",
      "\n",
      "Call:\n",
      "glm(formula = default ~ balance + income, family = family, data = data, \n",
      "    subset = NULL)\n",
      "\n",
      "Deviance Residuals: \n",
      "    Min       1Q   Median       3Q      Max  \n",
      "-2.4725  -0.1444  -0.0574  -0.0211   3.7245  \n",
      "\n",
      "Coefficients:\n",
      "              Estimate Std. Error z value Pr(>|z|)    \n",
      "(Intercept) -1.154e+01  4.348e-01 -26.545  < 2e-16 ***\n",
      "balance      5.647e-03  2.274e-04  24.836  < 2e-16 ***\n",
      "income       2.081e-05  4.985e-06   4.174 2.99e-05 ***\n",
      "---\n",
      "Signif. codes:  0 '***' 0.001 '**' 0.01 '*' 0.05 '.' 0.1 ' ' 1\n",
      "\n",
      "(Dispersion parameter for binomial family taken to be 1)\n",
      "\n",
      "    Null deviance: 2920.6  on 9999  degrees of freedom\n",
      "Residual deviance: 1579.0  on 9997  degrees of freedom\n",
      "AIC: 1585\n",
      "\n",
      "Number of Fisher Scoring iterations: 8\n",
      "\n"
     ]
    }
   ],
   "source": [
    "glm.probs=PredictClassification('glm', default~balance+income, Default, Default, family=binomial)"
   ]
  },
  {
   "cell_type": "code",
   "execution_count": 142,
   "metadata": {},
   "outputs": [
    {
     "data": {
      "text/plain": [
       "      y\n",
       "y_pred   No  Yes\n",
       "   No  9600  202\n",
       "   Yes   67  131"
      ]
     },
     "metadata": {},
     "output_type": "display_data"
    }
   ],
   "source": [
    "cm=Predictions(glm.probs, Default$default, \"No\", \"Yes\", l, threshold=0.4)  \n",
    "cm"
   ]
  },
  {
   "cell_type": "code",
   "execution_count": 143,
   "metadata": {},
   "outputs": [
    {
     "name": "stdout",
     "output_type": "stream",
     "text": [
      "[1] \"over all accuracy\"\n",
      "[1] 0.9731\n",
      "[1] \"error\"\n",
      "[1] 0.0269\n",
      "[1] \"true positive\"\n",
      "[1] 0.3933934\n",
      "[1] \"false positive\"\n",
      "[1] 0.6066066\n"
     ]
    }
   ],
   "source": [
    "PrintResult(cm, Default)"
   ]
  },
  {
   "cell_type": "markdown",
   "metadata": {},
   "source": [
    "(b) Using the validation set approach, estimate the test error of this\n",
    "model. In order to do this, you must perform the following steps:\n",
    "\n",
    "i. Split the sample set into a training set and a validation set."
   ]
  },
  {
   "cell_type": "code",
   "execution_count": 144,
   "metadata": {},
   "outputs": [],
   "source": [
    "set.seed(1)\n",
    "lt=2000\n",
    "test=sample(1:lt)\n",
    "test.X=Default[test,]"
   ]
  },
  {
   "cell_type": "markdown",
   "metadata": {},
   "source": [
    "ii. Fit a multiple logistic regression model using only the training observations."
   ]
  },
  {
   "cell_type": "code",
   "execution_count": 145,
   "metadata": {
    "scrolled": true
   },
   "outputs": [
    {
     "name": "stdout",
     "output_type": "stream",
     "text": [
      "\n",
      "Call:  glm(formula = default ~ balance + income, family = family, data = data, \n",
      "    subset = NULL)\n",
      "\n",
      "Coefficients:\n",
      "(Intercept)      balance       income  \n",
      " -1.127e+01    5.526e-03    1.706e-05  \n",
      "\n",
      "Degrees of Freedom: 7999 Total (i.e. Null);  7997 Residual\n",
      "Null Deviance:\t    2314 \n",
      "Residual Deviance: 1263 \tAIC: 1269\n",
      "\n",
      "Call:\n",
      "glm(formula = default ~ balance + income, family = family, data = data, \n",
      "    subset = NULL)\n",
      "\n",
      "Deviance Residuals: \n",
      "    Min       1Q   Median       3Q      Max  \n",
      "-2.3910  -0.1461  -0.0590  -0.0220   3.7094  \n",
      "\n",
      "Coefficients:\n",
      "              Estimate Std. Error z value Pr(>|z|)    \n",
      "(Intercept) -1.127e+01  4.769e-01 -23.633  < 2e-16 ***\n",
      "balance      5.526e-03  2.493e-04  22.164  < 2e-16 ***\n",
      "income       1.706e-05  5.564e-06   3.066  0.00217 ** \n",
      "---\n",
      "Signif. codes:  0 '***' 0.001 '**' 0.01 '*' 0.05 '.' 0.1 ' ' 1\n",
      "\n",
      "(Dispersion parameter for binomial family taken to be 1)\n",
      "\n",
      "    Null deviance: 2313.6  on 7999  degrees of freedom\n",
      "Residual deviance: 1263.2  on 7997  degrees of freedom\n",
      "AIC: 1269.2\n",
      "\n",
      "Number of Fisher Scoring iterations: 8\n",
      "\n"
     ]
    }
   ],
   "source": [
    "glm.probs=PredictClassification('glm',formula = default ~ balance + income, data = Default[-test,], test.X, family = binomial)"
   ]
  },
  {
   "cell_type": "markdown",
   "metadata": {},
   "source": [
    "iii. Obtain a prediction of default status for each individual in\n",
    "the validation set by computing the posterior probability of\n",
    "default for that individual, and classifying the individual to\n",
    "the default category if the posterior probability is greater\n",
    "than 0.5."
   ]
  },
  {
   "cell_type": "code",
   "execution_count": 146,
   "metadata": {},
   "outputs": [
    {
     "data": {
      "text/plain": [
       "      y\n",
       "y_pred   No  Yes\n",
       "   No  1927   52\n",
       "   Yes    3   18"
      ]
     },
     "metadata": {},
     "output_type": "display_data"
    }
   ],
   "source": [
    "cm=Predictions(glm.probs, test.X$default, \"No\", \"Yes\", lt, threshold=0.5)  \n",
    "cm"
   ]
  },
  {
   "cell_type": "markdown",
   "metadata": {},
   "source": [
    "iv. Compute the validation set error, which is the fraction of\n",
    "the observations in the validation set that are misclassified.\n"
   ]
  },
  {
   "cell_type": "code",
   "execution_count": 147,
   "metadata": {},
   "outputs": [
    {
     "name": "stdout",
     "output_type": "stream",
     "text": [
      "[1] \"over all accuracy\"\n",
      "[1] 0.9725\n",
      "[1] \"error\"\n",
      "[1] 0.0275\n",
      "[1] \"true positive\"\n",
      "[1] 0.2571429\n",
      "[1] \"false positive\"\n",
      "[1] 0.7428571\n"
     ]
    }
   ],
   "source": [
    "PrintResult(cm, test.X)"
   ]
  },
  {
   "cell_type": "markdown",
   "metadata": {},
   "source": [
    "The outcome is imbalanced. This explaines small error over all. Theres small percentage of false negative but large of false positive, which are more important. So it would be good to make smaller probability threshold identifying positive outcome."
   ]
  },
  {
   "cell_type": "markdown",
   "metadata": {},
   "source": [
    "(c) Repeat the process in (b) three times, using three different splits\n",
    "of the observations into a training set and a validation set. Comment on the results obtained."
   ]
  },
  {
   "cell_type": "code",
   "execution_count": 148,
   "metadata": {},
   "outputs": [],
   "source": [
    "set.seed(1)\n",
    "lt=1000\n",
    "train=sample(seq(l),l-lt,)\n",
    "test.X=Default[-train,]"
   ]
  },
  {
   "cell_type": "code",
   "execution_count": 149,
   "metadata": {},
   "outputs": [
    {
     "name": "stdout",
     "output_type": "stream",
     "text": [
      "\n",
      "Call:  glm(formula = default ~ balance + income, family = family, data = data, \n",
      "    subset = NULL)\n",
      "\n",
      "Coefficients:\n",
      "(Intercept)      balance       income  \n",
      " -1.167e+01    5.652e-03    2.384e-05  \n",
      "\n",
      "Degrees of Freedom: 8999 Total (i.e. Null);  8997 Residual\n",
      "Null Deviance:\t    2604 \n",
      "Residual Deviance: 1396 \tAIC: 1402\n",
      "\n",
      "Call:\n",
      "glm(formula = default ~ balance + income, family = family, data = data, \n",
      "    subset = NULL)\n",
      "\n",
      "Deviance Residuals: \n",
      "    Min       1Q   Median       3Q      Max  \n",
      "-2.4873  -0.1420  -0.0567  -0.0210   3.7315  \n",
      "\n",
      "Coefficients:\n",
      "              Estimate Std. Error z value Pr(>|z|)    \n",
      "(Intercept) -1.167e+01  4.629e-01 -25.204  < 2e-16 ***\n",
      "balance      5.652e-03  2.401e-04  23.542  < 2e-16 ***\n",
      "income       2.384e-05  5.313e-06   4.487 7.22e-06 ***\n",
      "---\n",
      "Signif. codes:  0 '***' 0.001 '**' 0.01 '*' 0.05 '.' 0.1 ' ' 1\n",
      "\n",
      "(Dispersion parameter for binomial family taken to be 1)\n",
      "\n",
      "    Null deviance: 2603.6  on 8999  degrees of freedom\n",
      "Residual deviance: 1396.1  on 8997  degrees of freedom\n",
      "AIC: 1402.1\n",
      "\n",
      "Number of Fisher Scoring iterations: 8\n",
      "\n"
     ]
    }
   ],
   "source": [
    "glm.probs=PredictClassification('glm',formula = default ~ balance + income, data = Default[train,], test.X, family = binomial)"
   ]
  },
  {
   "cell_type": "code",
   "execution_count": 150,
   "metadata": {},
   "outputs": [
    {
     "data": {
      "text/plain": [
       "      y\n",
       "y_pred  No Yes\n",
       "   No  962  28\n",
       "   Yes   1   9"
      ]
     },
     "metadata": {},
     "output_type": "display_data"
    }
   ],
   "source": [
    "cm=Predictions(glm.probs, test.X$default, \"No\", \"Yes\", lt, threshold=0.5)  \n",
    "cm"
   ]
  },
  {
   "cell_type": "code",
   "execution_count": 151,
   "metadata": {},
   "outputs": [
    {
     "name": "stdout",
     "output_type": "stream",
     "text": [
      "[1] \"over all accuracy\"\n",
      "[1] 0.971\n",
      "[1] \"error\"\n",
      "[1] 0.029\n",
      "[1] \"true positive\"\n",
      "[1] 0.2432432\n",
      "[1] \"false positive\"\n",
      "[1] 0.7567568\n"
     ]
    }
   ],
   "source": [
    "PrintResult(cm, test.X)"
   ]
  },
  {
   "cell_type": "code",
   "execution_count": 152,
   "metadata": {},
   "outputs": [],
   "source": [
    "set.seed(1)\n",
    "lt=3000\n",
    "train=sample(seq(l), l-lt, replace = FALSE)\n",
    "test.X=Default[-train,]"
   ]
  },
  {
   "cell_type": "code",
   "execution_count": 153,
   "metadata": {},
   "outputs": [
    {
     "name": "stdout",
     "output_type": "stream",
     "text": [
      "\n",
      "Call:  glm(formula = default ~ balance + income, family = family, data = data, \n",
      "    subset = NULL)\n",
      "\n",
      "Coefficients:\n",
      "(Intercept)      balance       income  \n",
      " -1.167e+01    5.574e-03    2.560e-05  \n",
      "\n",
      "Degrees of Freedom: 6999 Total (i.e. Null);  6997 Residual\n",
      "Null Deviance:\t    2030 \n",
      "Residual Deviance: 1080 \tAIC: 1086\n",
      "\n",
      "Call:\n",
      "glm(formula = default ~ balance + income, family = family, data = data, \n",
      "    subset = NULL)\n",
      "\n",
      "Deviance Residuals: \n",
      "    Min       1Q   Median       3Q      Max  \n",
      "-2.4481  -0.1402  -0.0561  -0.0211   3.3484  \n",
      "\n",
      "Coefficients:\n",
      "              Estimate Std. Error z value Pr(>|z|)    \n",
      "(Intercept) -1.167e+01  5.214e-01 -22.379  < 2e-16 ***\n",
      "balance      5.574e-03  2.678e-04  20.816  < 2e-16 ***\n",
      "income       2.560e-05  6.012e-06   4.258 2.06e-05 ***\n",
      "---\n",
      "Signif. codes:  0 '***' 0.001 '**' 0.01 '*' 0.05 '.' 0.1 ' ' 1\n",
      "\n",
      "(Dispersion parameter for binomial family taken to be 1)\n",
      "\n",
      "    Null deviance: 2030.3  on 6999  degrees of freedom\n",
      "Residual deviance: 1079.6  on 6997  degrees of freedom\n",
      "AIC: 1085.6\n",
      "\n",
      "Number of Fisher Scoring iterations: 8\n",
      "\n"
     ]
    }
   ],
   "source": [
    "glm.probs=PredictClassification('glm',formula = default ~ balance + income, data = Default[train,], test.X, family = binomial)"
   ]
  },
  {
   "cell_type": "code",
   "execution_count": 154,
   "metadata": {},
   "outputs": [
    {
     "data": {
      "text/plain": [
       "      y\n",
       "y_pred   No  Yes\n",
       "   No  2896   78\n",
       "   Yes    2   24"
      ]
     },
     "metadata": {},
     "output_type": "display_data"
    }
   ],
   "source": [
    "accuracy=Predictions(glm.probs, test.X$default, \"No\", \"Yes\", lt, threshold=0.5)  \n",
    "accuracy"
   ]
  },
  {
   "cell_type": "code",
   "execution_count": 155,
   "metadata": {},
   "outputs": [
    {
     "name": "stdout",
     "output_type": "stream",
     "text": [
      "[1] \"over all accuracy\"\n",
      "[1] 0.3236667\n",
      "[1] \"error\"\n",
      "[1] 0.6763333\n",
      "[1] \"true positive\"\n",
      "[1] 0.08823529\n",
      "[1] \"false positive\"\n",
      "[1] 0.9117647\n"
     ]
    }
   ],
   "source": [
    "PrintResult(cm, test.X)"
   ]
  },
  {
   "cell_type": "markdown",
   "metadata": {},
   "source": [
    "The larger test and smaler train set the percentage of false positive is large."
   ]
  },
  {
   "cell_type": "markdown",
   "metadata": {},
   "source": [
    "(d) Now consider a logistic regression model that predicts the probability of default using income, balance, and a dummy variable\n",
    "for student. Estimate the test error for this model using the validation set approach. Comment on whether or not including a\n",
    "dummy variable for student leads to a reduction in the test error\n",
    "rate."
   ]
  },
  {
   "cell_type": "markdown",
   "metadata": {},
   "source": [
    "Adding students"
   ]
  },
  {
   "cell_type": "code",
   "execution_count": 156,
   "metadata": {},
   "outputs": [
    {
     "name": "stdout",
     "output_type": "stream",
     "text": [
      "\n",
      "Call:  glm(formula = default ~ balance + income + student, family = family, \n",
      "    data = data, subset = NULL)\n",
      "\n",
      "Coefficients:\n",
      "(Intercept)      balance       income   studentYes  \n",
      " -1.095e+01    5.678e-03    6.273e-06   -7.167e-01  \n",
      "\n",
      "Degrees of Freedom: 6999 Total (i.e. Null);  6996 Residual\n",
      "Null Deviance:\t    2030 \n",
      "Residual Deviance: 1074 \tAIC: 1082\n",
      "\n",
      "Call:\n",
      "glm(formula = default ~ balance + income + student, family = family, \n",
      "    data = data, subset = NULL)\n",
      "\n",
      "Deviance Residuals: \n",
      "    Min       1Q   Median       3Q      Max  \n",
      "-2.4482  -0.1374  -0.0540  -0.0202   3.4027  \n",
      "\n",
      "Coefficients:\n",
      "              Estimate Std. Error z value Pr(>|z|)    \n",
      "(Intercept) -1.095e+01  5.880e-01 -18.616   <2e-16 ***\n",
      "balance      5.678e-03  2.741e-04  20.715   <2e-16 ***\n",
      "income       6.273e-06  9.845e-06   0.637    0.524    \n",
      "studentYes  -7.167e-01  2.886e-01  -2.483    0.013 *  \n",
      "---\n",
      "Signif. codes:  0 '***' 0.001 '**' 0.01 '*' 0.05 '.' 0.1 ' ' 1\n",
      "\n",
      "(Dispersion parameter for binomial family taken to be 1)\n",
      "\n",
      "    Null deviance: 2030.3  on 6999  degrees of freedom\n",
      "Residual deviance: 1073.5  on 6996  degrees of freedom\n",
      "AIC: 1081.5\n",
      "\n",
      "Number of Fisher Scoring iterations: 8\n",
      "\n"
     ]
    }
   ],
   "source": [
    "glm.probs=PredictClassification('glm',formula = default ~ balance + income+student, data = Default[train,], test.X, family = binomial)"
   ]
  },
  {
   "cell_type": "code",
   "execution_count": 157,
   "metadata": {},
   "outputs": [
    {
     "data": {
      "text/plain": [
       "      y\n",
       "y_pred   No  Yes\n",
       "   No  2896   81\n",
       "   Yes    2   21"
      ]
     },
     "metadata": {},
     "output_type": "display_data"
    }
   ],
   "source": [
    "cm=Predictions(glm.probs, test.X$default, \"No\", \"Yes\", lt, threshold = 0.5)  \n",
    "cm"
   ]
  },
  {
   "cell_type": "code",
   "execution_count": 158,
   "metadata": {},
   "outputs": [
    {
     "name": "stdout",
     "output_type": "stream",
     "text": [
      "[1] \"over all accuracy\"\n",
      "[1] 0.9723333\n",
      "[1] \"error\"\n",
      "[1] 0.02766667\n",
      "[1] \"true positive\"\n",
      "[1] 0.2058824\n",
      "[1] \"false positive\"\n",
      "[1] 0.7941176\n"
     ]
    }
   ],
   "source": [
    "PrintResult(cm, test.X)"
   ]
  },
  {
   "cell_type": "markdown",
   "metadata": {},
   "source": [
    "There is less false positives in this case. P value for income becomes large. Without income the result is a bit better, see below."
   ]
  },
  {
   "cell_type": "code",
   "execution_count": 159,
   "metadata": {},
   "outputs": [
    {
     "name": "stdout",
     "output_type": "stream",
     "text": [
      "\n",
      "Call:  glm(formula = default ~ balance + student, family = family, data = data, \n",
      "    subset = NULL)\n",
      "\n",
      "Coefficients:\n",
      "(Intercept)      balance   studentYes  \n",
      " -10.700217     0.005683    -0.859113  \n",
      "\n",
      "Degrees of Freedom: 6999 Total (i.e. Null);  6997 Residual\n",
      "Null Deviance:\t    2030 \n",
      "Residual Deviance: 1074 \tAIC: 1080\n",
      "\n",
      "Call:\n",
      "glm(formula = default ~ balance + student, family = family, data = data, \n",
      "    subset = NULL)\n",
      "\n",
      "Deviance Residuals: \n",
      "    Min       1Q   Median       3Q      Max  \n",
      "-2.4261  -0.1377  -0.0542  -0.0203   3.4070  \n",
      "\n",
      "Coefficients:\n",
      "              Estimate Std. Error z value Pr(>|z|)    \n",
      "(Intercept) -1.070e+01  4.395e-01 -24.349  < 2e-16 ***\n",
      "balance      5.684e-03  2.739e-04  20.748  < 2e-16 ***\n",
      "studentYes  -8.591e-01  1.815e-01  -4.733 2.21e-06 ***\n",
      "---\n",
      "Signif. codes:  0 '***' 0.001 '**' 0.01 '*' 0.05 '.' 0.1 ' ' 1\n",
      "\n",
      "(Dispersion parameter for binomial family taken to be 1)\n",
      "\n",
      "    Null deviance: 2030.3  on 6999  degrees of freedom\n",
      "Residual deviance: 1073.9  on 6997  degrees of freedom\n",
      "AIC: 1079.9\n",
      "\n",
      "Number of Fisher Scoring iterations: 8\n",
      "\n"
     ]
    }
   ],
   "source": [
    "glm.probs=PredictClassification('glm',formula = default ~ balance + student, data = Default[train,], test.X, family = binomial)"
   ]
  },
  {
   "cell_type": "code",
   "execution_count": 160,
   "metadata": {},
   "outputs": [
    {
     "data": {
      "text/plain": [
       "      y\n",
       "y_pred   No  Yes\n",
       "   No  2896   80\n",
       "   Yes    2   22"
      ]
     },
     "metadata": {},
     "output_type": "display_data"
    }
   ],
   "source": [
    "cm=Predictions(glm.probs, test.X$default, \"No\", \"Yes\", lt, threshold=0.5)  \n",
    "cm"
   ]
  },
  {
   "cell_type": "code",
   "execution_count": 161,
   "metadata": {},
   "outputs": [
    {
     "name": "stdout",
     "output_type": "stream",
     "text": [
      "[1] \"over all accuracy\"\n",
      "[1] 0.9726667\n",
      "[1] \"error\"\n",
      "[1] 0.02733333\n",
      "[1] \"true positive\"\n",
      "[1] 0.2156863\n",
      "[1] \"false positive\"\n",
      "[1] 0.7843137\n"
     ]
    }
   ],
   "source": [
    "PrintResult(cm, test.X)"
   ]
  },
  {
   "cell_type": "markdown",
   "metadata": {},
   "source": [
    "## Problem 6"
   ]
  },
  {
   "cell_type": "markdown",
   "metadata": {},
   "source": [
    "We continue to consider the use of a logistic regression model to\n",
    "predict the probability of default using income and balance on the\n",
    "Default data set. In particular, we will now compute estimates for\n",
    "the standard errors of the income and balance logistic regression coefficients in two different ways: (1) using the bootstrap, and (2) using\n",
    "the standard formula for computing the standard errors in the glm()\n",
    "function. Do not forget to set a random seed before beginning your\n",
    "analysis."
   ]
  },
  {
   "cell_type": "markdown",
   "metadata": {},
   "source": [
    "(a) Using the summary() and glm() functions, determine the estimated standard errors for the coefficients associated with income\n",
    "and balance in a multiple logistic regression model that uses\n",
    "both predictors."
   ]
  },
  {
   "cell_type": "code",
   "execution_count": 162,
   "metadata": {},
   "outputs": [
    {
     "data": {
      "text/plain": [
       "\n",
       "Call:\n",
       "glm(formula = default ~ balance + income, family = binomial, \n",
       "    data = Default)\n",
       "\n",
       "Deviance Residuals: \n",
       "    Min       1Q   Median       3Q      Max  \n",
       "-2.4725  -0.1444  -0.0574  -0.0211   3.7245  \n",
       "\n",
       "Coefficients:\n",
       "              Estimate Std. Error z value Pr(>|z|)    \n",
       "(Intercept) -1.154e+01  4.348e-01 -26.545  < 2e-16 ***\n",
       "balance      5.647e-03  2.274e-04  24.836  < 2e-16 ***\n",
       "income       2.081e-05  4.985e-06   4.174 2.99e-05 ***\n",
       "---\n",
       "Signif. codes:  0 '***' 0.001 '**' 0.01 '*' 0.05 '.' 0.1 ' ' 1\n",
       "\n",
       "(Dispersion parameter for binomial family taken to be 1)\n",
       "\n",
       "    Null deviance: 2920.6  on 9999  degrees of freedom\n",
       "Residual deviance: 1579.0  on 9997  degrees of freedom\n",
       "AIC: 1585\n",
       "\n",
       "Number of Fisher Scoring iterations: 8\n"
      ]
     },
     "metadata": {},
     "output_type": "display_data"
    }
   ],
   "source": [
    "summary(glm(default~balance+income, data=Default, family=binomial))"
   ]
  },
  {
   "cell_type": "markdown",
   "metadata": {},
   "source": [
    "(b) Write a function, boot.fn(), that takes as input the Default data\n",
    "set as well as an index of the observations, and that outputs\n",
    "the coefficient estimates for income and balance in the multiple\n",
    "logistic regression model."
   ]
  },
  {
   "cell_type": "code",
   "execution_count": 163,
   "metadata": {},
   "outputs": [],
   "source": [
    "boot.fn=function(data, formula, indices)\n",
    "    return(coef(glm(formula, data=data[indices,], family=binomial)))"
   ]
  },
  {
   "cell_type": "markdown",
   "metadata": {},
   "source": [
    "(c) Use the boot() function together with your boot.fn() function to\n",
    "estimate the standard errors of the logistic regression coefficients\n",
    "for income and balance."
   ]
  },
  {
   "cell_type": "code",
   "execution_count": 164,
   "metadata": {},
   "outputs": [
    {
     "data": {
      "text/plain": [
       "\n",
       "ORDINARY NONPARAMETRIC BOOTSTRAP\n",
       "\n",
       "\n",
       "Call:\n",
       "boot(data = Default, statistic = boot.fn, R = 1000, formula = default ~ \n",
       "    income + balance)\n",
       "\n",
       "\n",
       "Bootstrap Statistics :\n",
       "         original        bias     std. error\n",
       "t1* -1.154047e+01 -3.900813e-02 4.347702e-01\n",
       "t2*  2.080898e-05  1.595620e-07 4.862429e-06\n",
       "t3*  5.647103e-03  1.847244e-05 2.300787e-04"
      ]
     },
     "metadata": {},
     "output_type": "display_data"
    }
   ],
   "source": [
    "boot(Default, statistic=boot.fn, R=1000, formula=default ~ income+balance)"
   ]
  },
  {
   "cell_type": "markdown",
   "metadata": {},
   "source": [
    "(d) Comment on the estimated standard errors obtained using the\n",
    "glm() function and using your bootstrap function."
   ]
  },
  {
   "cell_type": "markdown",
   "metadata": {},
   "source": [
    "Bootstrap errors are slightly different from errors in glm summary."
   ]
  },
  {
   "cell_type": "markdown",
   "metadata": {},
   "source": [
    "## Problem 7"
   ]
  },
  {
   "cell_type": "code",
   "execution_count": 165,
   "metadata": {},
   "outputs": [
    {
     "data": {
      "text/html": [
       "<table>\n",
       "<thead><tr><th scope=col>Year</th><th scope=col>Lag1</th><th scope=col>Lag2</th><th scope=col>Lag3</th><th scope=col>Lag4</th><th scope=col>Lag5</th><th scope=col>Volume</th><th scope=col>Today</th><th scope=col>Direction</th></tr></thead>\n",
       "<tbody>\n",
       "\t<tr><td>1990     </td><td> 0.816   </td><td> 1.572   </td><td>-3.936   </td><td>-0.229   </td><td>-3.484   </td><td>0.1549760</td><td>-0.270   </td><td>Down     </td></tr>\n",
       "\t<tr><td>1990     </td><td>-0.270   </td><td> 0.816   </td><td> 1.572   </td><td>-3.936   </td><td>-0.229   </td><td>0.1485740</td><td>-2.576   </td><td>Down     </td></tr>\n",
       "\t<tr><td>1990     </td><td>-2.576   </td><td>-0.270   </td><td> 0.816   </td><td> 1.572   </td><td>-3.936   </td><td>0.1598375</td><td> 3.514   </td><td>Up       </td></tr>\n",
       "\t<tr><td>1990     </td><td> 3.514   </td><td>-2.576   </td><td>-0.270   </td><td> 0.816   </td><td> 1.572   </td><td>0.1616300</td><td> 0.712   </td><td>Up       </td></tr>\n",
       "\t<tr><td>1990     </td><td> 0.712   </td><td> 3.514   </td><td>-2.576   </td><td>-0.270   </td><td> 0.816   </td><td>0.1537280</td><td> 1.178   </td><td>Up       </td></tr>\n",
       "\t<tr><td>1990     </td><td> 1.178   </td><td> 0.712   </td><td> 3.514   </td><td>-2.576   </td><td>-0.270   </td><td>0.1544440</td><td>-1.372   </td><td>Down     </td></tr>\n",
       "</tbody>\n",
       "</table>\n"
      ],
      "text/latex": [
       "\\begin{tabular}{r|lllllllll}\n",
       " Year & Lag1 & Lag2 & Lag3 & Lag4 & Lag5 & Volume & Today & Direction\\\\\n",
       "\\hline\n",
       "\t 1990      &  0.816    &  1.572    & -3.936    & -0.229    & -3.484    & 0.1549760 & -0.270    & Down     \\\\\n",
       "\t 1990      & -0.270    &  0.816    &  1.572    & -3.936    & -0.229    & 0.1485740 & -2.576    & Down     \\\\\n",
       "\t 1990      & -2.576    & -0.270    &  0.816    &  1.572    & -3.936    & 0.1598375 &  3.514    & Up       \\\\\n",
       "\t 1990      &  3.514    & -2.576    & -0.270    &  0.816    &  1.572    & 0.1616300 &  0.712    & Up       \\\\\n",
       "\t 1990      &  0.712    &  3.514    & -2.576    & -0.270    &  0.816    & 0.1537280 &  1.178    & Up       \\\\\n",
       "\t 1990      &  1.178    &  0.712    &  3.514    & -2.576    & -0.270    & 0.1544440 & -1.372    & Down     \\\\\n",
       "\\end{tabular}\n"
      ],
      "text/markdown": [
       "\n",
       "| Year | Lag1 | Lag2 | Lag3 | Lag4 | Lag5 | Volume | Today | Direction |\n",
       "|---|---|---|---|---|---|---|---|---|\n",
       "| 1990      |  0.816    |  1.572    | -3.936    | -0.229    | -3.484    | 0.1549760 | -0.270    | Down      |\n",
       "| 1990      | -0.270    |  0.816    |  1.572    | -3.936    | -0.229    | 0.1485740 | -2.576    | Down      |\n",
       "| 1990      | -2.576    | -0.270    |  0.816    |  1.572    | -3.936    | 0.1598375 |  3.514    | Up        |\n",
       "| 1990      |  3.514    | -2.576    | -0.270    |  0.816    |  1.572    | 0.1616300 |  0.712    | Up        |\n",
       "| 1990      |  0.712    |  3.514    | -2.576    | -0.270    |  0.816    | 0.1537280 |  1.178    | Up        |\n",
       "| 1990      |  1.178    |  0.712    |  3.514    | -2.576    | -0.270    | 0.1544440 | -1.372    | Down      |\n",
       "\n"
      ],
      "text/plain": [
       "  Year Lag1   Lag2   Lag3   Lag4   Lag5   Volume    Today  Direction\n",
       "1 1990  0.816  1.572 -3.936 -0.229 -3.484 0.1549760 -0.270 Down     \n",
       "2 1990 -0.270  0.816  1.572 -3.936 -0.229 0.1485740 -2.576 Down     \n",
       "3 1990 -2.576 -0.270  0.816  1.572 -3.936 0.1598375  3.514 Up       \n",
       "4 1990  3.514 -2.576 -0.270  0.816  1.572 0.1616300  0.712 Up       \n",
       "5 1990  0.712  3.514 -2.576 -0.270  0.816 0.1537280  1.178 Up       \n",
       "6 1990  1.178  0.712  3.514 -2.576 -0.270 0.1544440 -1.372 Down     "
      ]
     },
     "metadata": {},
     "output_type": "display_data"
    }
   ],
   "source": [
    "head(Weekly)"
   ]
  },
  {
   "cell_type": "code",
   "execution_count": 166,
   "metadata": {},
   "outputs": [
    {
     "data": {
      "text/plain": [
       "\n",
       "Call:\n",
       "glm(formula = Direction ~ Lag1 + Lag2, family = \"binomial\", data = Weekly)\n",
       "\n",
       "Deviance Residuals: \n",
       "   Min      1Q  Median      3Q     Max  \n",
       "-1.623  -1.261   1.001   1.083   1.506  \n",
       "\n",
       "Coefficients:\n",
       "            Estimate Std. Error z value Pr(>|z|)    \n",
       "(Intercept)  0.22122    0.06147   3.599 0.000319 ***\n",
       "Lag1        -0.03872    0.02622  -1.477 0.139672    \n",
       "Lag2         0.06025    0.02655   2.270 0.023232 *  \n",
       "---\n",
       "Signif. codes:  0 '***' 0.001 '**' 0.01 '*' 0.05 '.' 0.1 ' ' 1\n",
       "\n",
       "(Dispersion parameter for binomial family taken to be 1)\n",
       "\n",
       "    Null deviance: 1496.2  on 1088  degrees of freedom\n",
       "Residual deviance: 1488.2  on 1086  degrees of freedom\n",
       "AIC: 1494.2\n",
       "\n",
       "Number of Fisher Scoring iterations: 4\n"
      ]
     },
     "metadata": {},
     "output_type": "display_data"
    }
   ],
   "source": [
    "summary(glm(formula = Direction ~ Lag1+Lag2, family = 'binomial', data = Weekly))"
   ]
  },
  {
   "cell_type": "code",
   "execution_count": 167,
   "metadata": {},
   "outputs": [],
   "source": [
    "test = 1:1 "
   ]
  },
  {
   "cell_type": "code",
   "execution_count": 168,
   "metadata": {},
   "outputs": [
    {
     "name": "stdout",
     "output_type": "stream",
     "text": [
      "\n",
      "Call:  glm(formula = Direction ~ Lag1 + Lag2, family = family, data = data, \n",
      "    subset = NULL)\n",
      "\n",
      "Coefficients:\n",
      "(Intercept)         Lag1         Lag2  \n",
      "    0.22324     -0.03843      0.06085  \n",
      "\n",
      "Degrees of Freedom: 1087 Total (i.e. Null);  1085 Residual\n",
      "Null Deviance:\t    1495 \n",
      "Residual Deviance: 1487 \tAIC: 1493\n",
      "\n",
      "Call:\n",
      "glm(formula = Direction ~ Lag1 + Lag2, family = family, data = data, \n",
      "    subset = NULL)\n",
      "\n",
      "Deviance Residuals: \n",
      "    Min       1Q   Median       3Q      Max  \n",
      "-1.6258  -1.2617   0.9999   1.0819   1.5071  \n",
      "\n",
      "Coefficients:\n",
      "            Estimate Std. Error z value Pr(>|z|)    \n",
      "(Intercept)  0.22324    0.06150   3.630 0.000283 ***\n",
      "Lag1        -0.03843    0.02622  -1.466 0.142683    \n",
      "Lag2         0.06085    0.02656   2.291 0.021971 *  \n",
      "---\n",
      "Signif. codes:  0 '***' 0.001 '**' 0.01 '*' 0.05 '.' 0.1 ' ' 1\n",
      "\n",
      "(Dispersion parameter for binomial family taken to be 1)\n",
      "\n",
      "    Null deviance: 1494.6  on 1087  degrees of freedom\n",
      "Residual deviance: 1486.5  on 1085  degrees of freedom\n",
      "AIC: 1492.5\n",
      "\n",
      "Number of Fisher Scoring iterations: 4\n",
      "\n"
     ]
    }
   ],
   "source": [
    "pred=PredictClassification('glm', Direction ~ Lag1+Lag2, Weekly[-test,], Weekly[test,], family=binomial)"
   ]
  },
  {
   "cell_type": "code",
   "execution_count": 169,
   "metadata": {},
   "outputs": [
    {
     "name": "stdout",
     "output_type": "stream",
     "text": [
      "        1 \n",
      "0.5713923 \n",
      "[1] Up\n",
      "Levels: Down Up\n",
      "[1] 0\n"
     ]
    }
   ],
   "source": [
    "print(pred)\n",
    "if(pred > 0.5){pred='Up'\n",
    "}else{pred='Down'\n",
    "    }\n",
    "print(Weekly$Direction[9])\n",
    "if(pred!=Weekly$Direction[9]){print(1)\n",
    "}else{print(0)\n",
    "    }"
   ]
  },
  {
   "cell_type": "code",
   "execution_count": 170,
   "metadata": {},
   "outputs": [
    {
     "name": "stdout",
     "output_type": "stream",
     "text": [
      "[1] \"Error\"\n",
      "[1] 0.4499541\n"
     ]
    }
   ],
   "source": [
    "c=0\n",
    "l=dim(Weekly)[1]\n",
    "for(i in 1:l){\n",
    "    test=i:i\n",
    "    pred=predict(glm(formula = Direction ~ Lag1+Lag2, data = Weekly[-test,], family = 'binomial'), Weekly[test,], type=\"response\")\n",
    "    if(pred > 0.5){pred='Up'\n",
    "    }else{pred='Down'\n",
    "    }\n",
    "    if(pred!=Weekly$Direction[i]){\n",
    "        c=c+1\n",
    "    }\n",
    "}\n",
    "print(\"Error\")\n",
    "print(c/l)"
   ]
  },
  {
   "cell_type": "markdown",
   "metadata": {},
   "source": [
    "## Problem 8"
   ]
  },
  {
   "cell_type": "code",
   "execution_count": 171,
   "metadata": {},
   "outputs": [],
   "source": [
    "set.seed(1)\n",
    "x=rnorm(100)\n",
    "y=x-2*x^2+rnorm(100)\n",
    "df = data.frame(x,y)"
   ]
  },
  {
   "cell_type": "markdown",
   "metadata": {},
   "source": [
    "n=100, p=1,\n",
    "$y=x-2 x^2$"
   ]
  },
  {
   "cell_type": "code",
   "execution_count": 172,
   "metadata": {},
   "outputs": [
    {
     "name": "stdout",
     "output_type": "stream",
     "text": [
      "\n",
      "Call:\n",
      "lm(formula = .outcome ~ ., data = dat)\n",
      "\n",
      "Residuals:\n",
      "    Min      1Q  Median      3Q     Max \n",
      "-9.5161 -0.6800  0.6812  1.5491  3.8183 \n",
      "\n",
      "Coefficients:\n",
      "            Estimate Std. Error t value Pr(>|t|)    \n",
      "(Intercept)  -1.6254     0.2619  -6.205 1.31e-08 ***\n",
      "x             0.6925     0.2909   2.380   0.0192 *  \n",
      "---\n",
      "Signif. codes:  0 '***' 0.001 '**' 0.01 '*' 0.05 '.' 0.1 ' ' 1\n",
      "\n",
      "Residual standard error: 2.6 on 98 degrees of freedom\n",
      "Multiple R-squared:  0.05465,\tAdjusted R-squared:  0.045 \n",
      "F-statistic: 5.665 on 1 and 98 DF,  p-value: 0.01924\n",
      "\n",
      "Linear Regression \n",
      "\n",
      "100 samples\n",
      "  1 predictor\n",
      "\n",
      "No pre-processing\n",
      "Resampling: Leave-One-Out Cross-Validation \n",
      "Summary of sample sizes: 99, 99, 99, 99, 99, 99, ... \n",
      "Resampling results:\n",
      "\n",
      "  RMSE     Rsquared    MAE     \n",
      "  2.69966  0.00130345  1.921879\n",
      "\n",
      "Tuning parameter 'intercept' was held constant at a value of TRUE\n"
     ]
    }
   ],
   "source": [
    "model <- train(y ~ x, method = \"lm\", data=df,\n",
    "               trControl = trainControl(method = \"LOOCV\"))\n",
    "print(summary(model))\n",
    "print(model)"
   ]
  },
  {
   "cell_type": "code",
   "execution_count": 173,
   "metadata": {},
   "outputs": [
    {
     "name": "stdout",
     "output_type": "stream",
     "text": [
      "\n",
      "Call:\n",
      "lm(formula = .outcome ~ ., data = dat)\n",
      "\n",
      "Residuals:\n",
      "    Min      1Q  Median      3Q     Max \n",
      "-1.9650 -0.6254 -0.1288  0.5803  2.2700 \n",
      "\n",
      "Coefficients:\n",
      "            Estimate Std. Error t value Pr(>|t|)    \n",
      "(Intercept)  0.05672    0.11766   0.482    0.631    \n",
      "x            1.01716    0.10798   9.420  2.4e-15 ***\n",
      "`I(x^2)`    -2.11892    0.08477 -24.997  < 2e-16 ***\n",
      "---\n",
      "Signif. codes:  0 '***' 0.001 '**' 0.01 '*' 0.05 '.' 0.1 ' ' 1\n",
      "\n",
      "Residual standard error: 0.958 on 97 degrees of freedom\n",
      "Multiple R-squared:  0.873,\tAdjusted R-squared:  0.8704 \n",
      "F-statistic: 333.3 on 2 and 97 DF,  p-value: < 2.2e-16\n",
      "\n",
      "Linear Regression \n",
      "\n",
      "100 samples\n",
      "  1 predictor\n",
      "\n",
      "No pre-processing\n",
      "Resampling: Leave-One-Out Cross-Validation \n",
      "Summary of sample sizes: 99, 99, 99, 99, 99, 99, ... \n",
      "Resampling results:\n",
      "\n",
      "  RMSE       Rsquared   MAE      \n",
      "  0.9682064  0.8663108  0.7829438\n",
      "\n",
      "Tuning parameter 'intercept' was held constant at a value of TRUE\n"
     ]
    }
   ],
   "source": [
    "model <- train(y ~ x+I(x^2), method = \"lm\", data=df,\n",
    "               trControl = trainControl(method = \"LOOCV\"))\n",
    "print(summary(model))\n",
    "print(model)"
   ]
  },
  {
   "cell_type": "code",
   "execution_count": 174,
   "metadata": {},
   "outputs": [
    {
     "name": "stdout",
     "output_type": "stream",
     "text": [
      "\n",
      "Call:\n",
      "lm(formula = .outcome ~ ., data = dat)\n",
      "\n",
      "Residuals:\n",
      "    Min      1Q  Median      3Q     Max \n",
      "-1.9765 -0.6302 -0.1227  0.5545  2.2843 \n",
      "\n",
      "Coefficients:\n",
      "            Estimate Std. Error t value Pr(>|t|)    \n",
      "(Intercept)  0.06151    0.11950   0.515    0.608    \n",
      "x            0.97528    0.18728   5.208 1.09e-06 ***\n",
      "`I(x^2)`    -2.12379    0.08700 -24.411  < 2e-16 ***\n",
      "`I(x^3)`     0.01764    0.06429   0.274    0.784    \n",
      "---\n",
      "Signif. codes:  0 '***' 0.001 '**' 0.01 '*' 0.05 '.' 0.1 ' ' 1\n",
      "\n",
      "Residual standard error: 0.9626 on 96 degrees of freedom\n",
      "Multiple R-squared:  0.8731,\tAdjusted R-squared:  0.8691 \n",
      "F-statistic: 220.1 on 3 and 96 DF,  p-value: < 2.2e-16\n",
      "\n",
      "Linear Regression \n",
      "\n",
      "100 samples\n",
      "  1 predictor\n",
      "\n",
      "No pre-processing\n",
      "Resampling: Leave-One-Out Cross-Validation \n",
      "Summary of sample sizes: 99, 99, 99, 99, 99, 99, ... \n",
      "Resampling results:\n",
      "\n",
      "  RMSE       Rsquared   MAE      \n",
      "  0.9780705  0.8637902  0.7924894\n",
      "\n",
      "Tuning parameter 'intercept' was held constant at a value of TRUE\n"
     ]
    }
   ],
   "source": [
    "model <- train(y ~ x+I(x^2)+I(x^3), method = \"lm\", data=df,\n",
    "               trControl = trainControl(method = \"LOOCV\"))\n",
    "print(summary(model))\n",
    "print(model)"
   ]
  },
  {
   "cell_type": "code",
   "execution_count": 175,
   "metadata": {
    "scrolled": true
   },
   "outputs": [
    {
     "name": "stdout",
     "output_type": "stream",
     "text": [
      "\n",
      "Call:\n",
      "lm(formula = .outcome ~ ., data = dat)\n",
      "\n",
      "Residuals:\n",
      "    Min      1Q  Median      3Q     Max \n",
      "-2.0550 -0.6212 -0.1567  0.5952  2.2267 \n",
      "\n",
      "Coefficients:\n",
      "             Estimate Std. Error t value Pr(>|t|)    \n",
      "(Intercept)  0.156703   0.139462   1.124    0.264    \n",
      "x            1.030826   0.191337   5.387 5.17e-07 ***\n",
      "`I(x^2)`    -2.409898   0.234855 -10.261  < 2e-16 ***\n",
      "`I(x^3)`    -0.009133   0.067229  -0.136    0.892    \n",
      "`I(x^4)`     0.069785   0.053240   1.311    0.193    \n",
      "---\n",
      "Signif. codes:  0 '***' 0.001 '**' 0.01 '*' 0.05 '.' 0.1 ' ' 1\n",
      "\n",
      "Residual standard error: 0.9591 on 95 degrees of freedom\n",
      "Multiple R-squared:  0.8753,\tAdjusted R-squared:  0.8701 \n",
      "F-statistic: 166.7 on 4 and 95 DF,  p-value: < 2.2e-16\n",
      "\n",
      "Linear Regression \n",
      "\n",
      "100 samples\n",
      "  1 predictor\n",
      "\n",
      "No pre-processing\n",
      "Resampling: Leave-One-Out Cross-Validation \n",
      "Summary of sample sizes: 99, 99, 99, 99, 99, 99, ... \n",
      "Resampling results:\n",
      "\n",
      "  RMSE       Rsquared   MAE      \n",
      "  0.9766805  0.8639008  0.8019279\n",
      "\n",
      "Tuning parameter 'intercept' was held constant at a value of TRUE\n"
     ]
    }
   ],
   "source": [
    "model <- train(y ~ x+I(x^2)+I(x^3)+I(x^4), method = \"lm\", data=df,\n",
    "               trControl = trainControl(method = \"LOOCV\"))\n",
    "print(summary(model))\n",
    "print(model)"
   ]
  },
  {
   "cell_type": "markdown",
   "metadata": {},
   "source": [
    "Lowest RMSE is for  y~x+x^2 as it is expected. P values are lowest for coeffitients"
   ]
  },
  {
   "cell_type": "markdown",
   "metadata": {},
   "source": [
    "## Problem 9"
   ]
  },
  {
   "cell_type": "code",
   "execution_count": 176,
   "metadata": {},
   "outputs": [
    {
     "data": {
      "text/html": [
       "<table>\n",
       "<thead><tr><th scope=col>crim</th><th scope=col>zn</th><th scope=col>indus</th><th scope=col>chas</th><th scope=col>nox</th><th scope=col>rm</th><th scope=col>age</th><th scope=col>dis</th><th scope=col>rad</th><th scope=col>tax</th><th scope=col>ptratio</th><th scope=col>black</th><th scope=col>lstat</th><th scope=col>medv</th></tr></thead>\n",
       "<tbody>\n",
       "\t<tr><td>0.00632</td><td>18     </td><td>2.31   </td><td>0      </td><td>0.538  </td><td>6.575  </td><td>65.2   </td><td>4.0900 </td><td>1      </td><td>296    </td><td>15.3   </td><td>396.90 </td><td>4.98   </td><td>24.0   </td></tr>\n",
       "\t<tr><td>0.02731</td><td> 0     </td><td>7.07   </td><td>0      </td><td>0.469  </td><td>6.421  </td><td>78.9   </td><td>4.9671 </td><td>2      </td><td>242    </td><td>17.8   </td><td>396.90 </td><td>9.14   </td><td>21.6   </td></tr>\n",
       "\t<tr><td>0.02729</td><td> 0     </td><td>7.07   </td><td>0      </td><td>0.469  </td><td>7.185  </td><td>61.1   </td><td>4.9671 </td><td>2      </td><td>242    </td><td>17.8   </td><td>392.83 </td><td>4.03   </td><td>34.7   </td></tr>\n",
       "\t<tr><td>0.03237</td><td> 0     </td><td>2.18   </td><td>0      </td><td>0.458  </td><td>6.998  </td><td>45.8   </td><td>6.0622 </td><td>3      </td><td>222    </td><td>18.7   </td><td>394.63 </td><td>2.94   </td><td>33.4   </td></tr>\n",
       "\t<tr><td>0.06905</td><td> 0     </td><td>2.18   </td><td>0      </td><td>0.458  </td><td>7.147  </td><td>54.2   </td><td>6.0622 </td><td>3      </td><td>222    </td><td>18.7   </td><td>396.90 </td><td>5.33   </td><td>36.2   </td></tr>\n",
       "\t<tr><td>0.02985</td><td> 0     </td><td>2.18   </td><td>0      </td><td>0.458  </td><td>6.430  </td><td>58.7   </td><td>6.0622 </td><td>3      </td><td>222    </td><td>18.7   </td><td>394.12 </td><td>5.21   </td><td>28.7   </td></tr>\n",
       "</tbody>\n",
       "</table>\n"
      ],
      "text/latex": [
       "\\begin{tabular}{r|llllllllllllll}\n",
       " crim & zn & indus & chas & nox & rm & age & dis & rad & tax & ptratio & black & lstat & medv\\\\\n",
       "\\hline\n",
       "\t 0.00632 & 18      & 2.31    & 0       & 0.538   & 6.575   & 65.2    & 4.0900  & 1       & 296     & 15.3    & 396.90  & 4.98    & 24.0   \\\\\n",
       "\t 0.02731 &  0      & 7.07    & 0       & 0.469   & 6.421   & 78.9    & 4.9671  & 2       & 242     & 17.8    & 396.90  & 9.14    & 21.6   \\\\\n",
       "\t 0.02729 &  0      & 7.07    & 0       & 0.469   & 7.185   & 61.1    & 4.9671  & 2       & 242     & 17.8    & 392.83  & 4.03    & 34.7   \\\\\n",
       "\t 0.03237 &  0      & 2.18    & 0       & 0.458   & 6.998   & 45.8    & 6.0622  & 3       & 222     & 18.7    & 394.63  & 2.94    & 33.4   \\\\\n",
       "\t 0.06905 &  0      & 2.18    & 0       & 0.458   & 7.147   & 54.2    & 6.0622  & 3       & 222     & 18.7    & 396.90  & 5.33    & 36.2   \\\\\n",
       "\t 0.02985 &  0      & 2.18    & 0       & 0.458   & 6.430   & 58.7    & 6.0622  & 3       & 222     & 18.7    & 394.12  & 5.21    & 28.7   \\\\\n",
       "\\end{tabular}\n"
      ],
      "text/markdown": [
       "\n",
       "| crim | zn | indus | chas | nox | rm | age | dis | rad | tax | ptratio | black | lstat | medv |\n",
       "|---|---|---|---|---|---|---|---|---|---|---|---|---|---|\n",
       "| 0.00632 | 18      | 2.31    | 0       | 0.538   | 6.575   | 65.2    | 4.0900  | 1       | 296     | 15.3    | 396.90  | 4.98    | 24.0    |\n",
       "| 0.02731 |  0      | 7.07    | 0       | 0.469   | 6.421   | 78.9    | 4.9671  | 2       | 242     | 17.8    | 396.90  | 9.14    | 21.6    |\n",
       "| 0.02729 |  0      | 7.07    | 0       | 0.469   | 7.185   | 61.1    | 4.9671  | 2       | 242     | 17.8    | 392.83  | 4.03    | 34.7    |\n",
       "| 0.03237 |  0      | 2.18    | 0       | 0.458   | 6.998   | 45.8    | 6.0622  | 3       | 222     | 18.7    | 394.63  | 2.94    | 33.4    |\n",
       "| 0.06905 |  0      | 2.18    | 0       | 0.458   | 7.147   | 54.2    | 6.0622  | 3       | 222     | 18.7    | 396.90  | 5.33    | 36.2    |\n",
       "| 0.02985 |  0      | 2.18    | 0       | 0.458   | 6.430   | 58.7    | 6.0622  | 3       | 222     | 18.7    | 394.12  | 5.21    | 28.7    |\n",
       "\n"
      ],
      "text/plain": [
       "  crim    zn indus chas nox   rm    age  dis    rad tax ptratio black  lstat\n",
       "1 0.00632 18 2.31  0    0.538 6.575 65.2 4.0900 1   296 15.3    396.90 4.98 \n",
       "2 0.02731  0 7.07  0    0.469 6.421 78.9 4.9671 2   242 17.8    396.90 9.14 \n",
       "3 0.02729  0 7.07  0    0.469 7.185 61.1 4.9671 2   242 17.8    392.83 4.03 \n",
       "4 0.03237  0 2.18  0    0.458 6.998 45.8 6.0622 3   222 18.7    394.63 2.94 \n",
       "5 0.06905  0 2.18  0    0.458 7.147 54.2 6.0622 3   222 18.7    396.90 5.33 \n",
       "6 0.02985  0 2.18  0    0.458 6.430 58.7 6.0622 3   222 18.7    394.12 5.21 \n",
       "  medv\n",
       "1 24.0\n",
       "2 21.6\n",
       "3 34.7\n",
       "4 33.4\n",
       "5 36.2\n",
       "6 28.7"
      ]
     },
     "metadata": {},
     "output_type": "display_data"
    }
   ],
   "source": [
    "head(Boston)"
   ]
  },
  {
   "cell_type": "code",
   "execution_count": 177,
   "metadata": {},
   "outputs": [
    {
     "data": {
      "text/html": [
       "22.5328063241107"
      ],
      "text/latex": [
       "22.5328063241107"
      ],
      "text/markdown": [
       "22.5328063241107"
      ],
      "text/plain": [
       "[1] 22.53281"
      ]
     },
     "metadata": {},
     "output_type": "display_data"
    }
   ],
   "source": [
    "mu=mean(Boston$medv)\n",
    "mu"
   ]
  },
  {
   "cell_type": "code",
   "execution_count": 178,
   "metadata": {},
   "outputs": [
    {
     "data": {
      "text/html": [
       "0.408861147497535"
      ],
      "text/latex": [
       "0.408861147497535"
      ],
      "text/markdown": [
       "0.408861147497535"
      ],
      "text/plain": [
       "[1] 0.4088611"
      ]
     },
     "metadata": {},
     "output_type": "display_data"
    }
   ],
   "source": [
    "n=dim(Boston)[1]\n",
    "sd(Boston$medv)/sqrt(n)"
   ]
  },
  {
   "cell_type": "code",
   "execution_count": 179,
   "metadata": {},
   "outputs": [],
   "source": [
    "mean.fn= function(data, index){\n",
    "    return(mean(data[index,]$medv))\n",
    "}"
   ]
  },
  {
   "cell_type": "code",
   "execution_count": 180,
   "metadata": {},
   "outputs": [
    {
     "data": {
      "text/plain": [
       "\n",
       "ORDINARY NONPARAMETRIC BOOTSTRAP\n",
       "\n",
       "\n",
       "Call:\n",
       "boot(data = Boston, statistic = mean.fn, R = 1000)\n",
       "\n",
       "\n",
       "Bootstrap Statistics :\n",
       "    original      bias    std. error\n",
       "t1* 22.53281 0.007100593   0.3893556"
      ]
     },
     "metadata": {},
     "output_type": "display_data"
    }
   ],
   "source": [
    "bt=boot(Boston, statistic=mean.fn, R=1000)\n",
    "bt"
   ]
  },
  {
   "cell_type": "markdown",
   "metadata": {},
   "source": [
    "The error is slightly higher than just from standard diviation from all data set."
   ]
  },
  {
   "cell_type": "markdown",
   "metadata": {},
   "source": [
    "Confidence interval"
   ]
  },
  {
   "cell_type": "code",
   "execution_count": 181,
   "metadata": {},
   "outputs": [
    {
     "data": {
      "text/html": [
       "21.7540951492431"
      ],
      "text/latex": [
       "21.7540951492431"
      ],
      "text/markdown": [
       "21.7540951492431"
      ],
      "text/plain": [
       "[1] 21.7541"
      ]
     },
     "metadata": {},
     "output_type": "display_data"
    }
   ],
   "source": [
    "mu1=sd(bt$t)\n",
    "mu-2*mu1"
   ]
  },
  {
   "cell_type": "code",
   "execution_count": 182,
   "metadata": {},
   "outputs": [
    {
     "data": {
      "text/html": [
       "23.3115174989782"
      ],
      "text/latex": [
       "23.3115174989782"
      ],
      "text/markdown": [
       "23.3115174989782"
      ],
      "text/plain": [
       "[1] 23.31152"
      ]
     },
     "metadata": {},
     "output_type": "display_data"
    }
   ],
   "source": [
    "mu+2*mu1"
   ]
  },
  {
   "cell_type": "code",
   "execution_count": 183,
   "metadata": {},
   "outputs": [
    {
     "data": {
      "text/html": [
       "21.2"
      ],
      "text/latex": [
       "21.2"
      ],
      "text/markdown": [
       "21.2"
      ],
      "text/plain": [
       "[1] 21.2"
      ]
     },
     "metadata": {},
     "output_type": "display_data"
    }
   ],
   "source": [
    "med=median(Boston$medv)\n",
    "med"
   ]
  },
  {
   "cell_type": "code",
   "execution_count": 184,
   "metadata": {},
   "outputs": [],
   "source": [
    "median.fn= function(data, index){\n",
    "    return(median(data[index,]$medv))\n",
    "}"
   ]
  },
  {
   "cell_type": "code",
   "execution_count": 185,
   "metadata": {},
   "outputs": [
    {
     "data": {
      "text/plain": [
       "\n",
       "ORDINARY NONPARAMETRIC BOOTSTRAP\n",
       "\n",
       "\n",
       "Call:\n",
       "boot(data = Boston, statistic = median.fn, R = 1000)\n",
       "\n",
       "\n",
       "Bootstrap Statistics :\n",
       "    original  bias    std. error\n",
       "t1*     21.2 0.00215   0.3822617"
      ]
     },
     "metadata": {},
     "output_type": "display_data"
    }
   ],
   "source": [
    "bt=boot(Boston, statistic=median.fn, R=1000)\n",
    "bt"
   ]
  },
  {
   "cell_type": "code",
   "execution_count": 186,
   "metadata": {},
   "outputs": [
    {
     "data": {
      "text/html": [
       "<strong>10%:</strong> 12.75"
      ],
      "text/latex": [
       "\\textbf{10\\textbackslash{}\\%:} 12.75"
      ],
      "text/markdown": [
       "**10%:** 12.75"
      ],
      "text/plain": [
       "  10% \n",
       "12.75 "
      ]
     },
     "metadata": {},
     "output_type": "display_data"
    }
   ],
   "source": [
    "mu01=quantile(Boston$medv, 0.1)\n",
    "mu01"
   ]
  },
  {
   "cell_type": "code",
   "execution_count": 187,
   "metadata": {},
   "outputs": [],
   "source": [
    "quantile01.fn= function(data, index){\n",
    "    return(quantile(data[index,]$medv, 0.1))\n",
    "}"
   ]
  },
  {
   "cell_type": "code",
   "execution_count": 188,
   "metadata": {},
   "outputs": [
    {
     "data": {
      "text/plain": [
       "\n",
       "ORDINARY NONPARAMETRIC BOOTSTRAP\n",
       "\n",
       "\n",
       "Call:\n",
       "boot(data = Boston, statistic = quantile01.fn, R = 1000)\n",
       "\n",
       "\n",
       "Bootstrap Statistics :\n",
       "    original  bias    std. error\n",
       "t1*    12.75   0.007   0.4839837"
      ]
     },
     "metadata": {},
     "output_type": "display_data"
    }
   ],
   "source": [
    "bt=boot(Boston, quantile01.fn, R=1000)\n",
    "bt"
   ]
  },
  {
   "cell_type": "markdown",
   "metadata": {},
   "source": [
    "Quantile error is larger than errors for mean and median."
   ]
  }
 ],
 "metadata": {
  "kernelspec": {
   "display_name": "R",
   "language": "R",
   "name": "ir"
  },
  "language_info": {
   "codemirror_mode": "r",
   "file_extension": ".r",
   "mimetype": "text/x-r-source",
   "name": "R",
   "pygments_lexer": "r",
   "version": "3.6.1"
  }
 },
 "nbformat": 4,
 "nbformat_minor": 4
}
