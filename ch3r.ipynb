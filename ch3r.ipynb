{
 "cells": [
  {
   "cell_type": "markdown",
   "metadata": {},
   "source": [
    "# Chapter 3"
   ]
  },
  {
   "cell_type": "markdown",
   "metadata": {},
   "source": [
    "Equation which is used a lot in theoretical questions"
   ]
  },
  {
   "cell_type": "markdown",
   "metadata": {},
   "source": [
    "$\\hat{\\beta} = \\left( \\sum_{j=1}^n{x_jy_j}\\right)/ \\left( \\sum_{k=1}^n{x_k^2}\\right)$      (1)"
   ]
  },
  {
   "cell_type": "markdown",
   "metadata": {},
   "source": [
    "## Problem 1"
   ]
  },
  {
   "cell_type": "markdown",
   "metadata": {},
   "source": [
    "Describe the null hypotheses to which the p-values given in Table 3.4\n",
    "correspond. Explain what conclusions you can draw based on these\n",
    "p-values. Your explanation should be phrased in terms of sales, TV,\n",
    "radio, and newspaper, rather than in terms of the coefficients of the\n",
    "linear model"
   ]
  },
  {
   "cell_type": "markdown",
   "metadata": {},
   "source": [
    "The null hypothesis is the coefficient corresponding to TV, radio and newspaper are zero. The p-values for intercept, TV and radio are much less than 0.05 and we can reject the null hypothesis concluding that the corresponding coefficients are non-zero. The p-value for newspaper is very large therefore we can not to reject the null hypothesis and conclude that coefficient for newspaper advertising is zero. So TV and radio advertising is significant in predicting sales but newspaper is not."
   ]
  },
  {
   "cell_type": "markdown",
   "metadata": {},
   "source": [
    "## Problem 2"
   ]
  },
  {
   "cell_type": "markdown",
   "metadata": {},
   "source": [
    "Carefully explain the differences between the KNN classifier and KNN\n",
    "regression methods"
   ]
  },
  {
   "cell_type": "markdown",
   "metadata": {},
   "source": [
    "KNN classifier finds K points in training data with X closest to x_0 and estimates the conditional probability for given class i Pr(Y=i|$X=x_0$)= number_of_observations_of_i/K. KNN regressor estimates average of all training responses closest to $x_0$ ($N_0$)  $f(x_0) = 1/K\\sum_{x_i in N_0}y_i$"
   ]
  },
  {
   "cell_type": "markdown",
   "metadata": {},
   "source": [
    "## Problem 3"
   ]
  },
  {
   "cell_type": "markdown",
   "metadata": {},
   "source": [
    "Suppose we have a data set with five predictors, X1 = GPA, X2 = IQ,\n",
    "X3 = Gender (1 for Female and 0 for Male), X4 = Interaction between\n",
    "GPA and IQ, and X5 = Interaction between GPA and Gender. The\n",
    "response is starting salary after graduation (in thousands of dollars).\n",
    "Suppose we use least squares to fit the model, and get βˆ0 = 50, βˆ1 =\n",
    "20, βˆ2 = 0.07, βˆ3 = 35, βˆ4 = 0.01, βˆ5 = −10."
   ]
  },
  {
   "cell_type": "markdown",
   "metadata": {},
   "source": [
    "(a) Which answer is correct, and why?\n",
    "\n",
    "i. For a fixed value of IQ and GPA, males earn more on average\n",
    "than females.\n",
    "\n",
    "ii. For a fixed value of IQ and GPA, females earn more on\n",
    "average than males.\n",
    "\n",
    "iii. For a fixed value of IQ and GPA, males earn more on average\n",
    "than females provided that the GPA is high enough.\n",
    "\n",
    "iv. For a fixed value of IQ and GPA, females earn more on\n",
    "average than males provided that the GPA is high enough."
   ]
  },
  {
   "cell_type": "markdown",
   "metadata": {},
   "source": [
    "iii is correct. If IQ ang GPA are fixed, additional terms with gender are 0 for males and 35-10GPA for femailes. If GPA > 3.5 gender contribution is negative for femailes when for males it stays 0."
   ]
  },
  {
   "cell_type": "markdown",
   "metadata": {},
   "source": [
    "(b) Predict the salary of a female with IQ of 110 and a GPA of 4.0."
   ]
  },
  {
   "cell_type": "code",
   "execution_count": 82,
   "metadata": {},
   "outputs": [
    {
     "data": {
      "text/html": [
       "137.1"
      ],
      "text/latex": [
       "137.1"
      ],
      "text/markdown": [
       "137.1"
      ],
      "text/plain": [
       "[1] 137.1"
      ]
     },
     "metadata": {},
     "output_type": "display_data"
    }
   ],
   "source": [
    "salary = 50 + 4*20+0.07*110+35+0.01*4*110-40\n",
    "salary"
   ]
  },
  {
   "cell_type": "markdown",
   "metadata": {},
   "source": [
    "True or False: Since the coefficient for the GPA/IQ interaction\n",
    "term is very small, there is very little evidence of an interaction\n",
    "effect. Justify your answer"
   ]
  },
  {
   "cell_type": "markdown",
   "metadata": {},
   "source": [
    "False. To answer this question we need to look at p-values. Interaction term is small compared to GPA contribution but it is not too small compared to IQ contribution. It can be importand if GPA is fixed."
   ]
  },
  {
   "cell_type": "markdown",
   "metadata": {},
   "source": [
    "## Problem 4"
   ]
  },
  {
   "cell_type": "markdown",
   "metadata": {},
   "source": [
    "I collect a set of data (n = 100 observations) containing a single\n",
    "predictor and a quantitative response. I then fit a linear regression\n",
    "model to the data, as well as a separate cubic regression, i.e. $Y =\n",
    "β_0 + β_1X + β_2X^2 + β_3X^3 + .$\n",
    "\n",
    "(a) Suppose that the true relationship between X and Y is linear,\n",
    "i.e. Y = β0 + β1X + . Consider the training residual sum of\n",
    "squares (RSS) for the linear regression, and also the training\n",
    "RSS for the cubic regression. Would we expect one to be lower\n",
    "than the other, would we expect them to be the same, or is there\n",
    "not enough information to tell? Justify your answer.\n",
    "\n",
    "For training data we may not have enough information to tell, because cubic regression is more flexible.\n",
    "It can improve residuals sum.\n",
    "\n",
    "(b)  Answer (a) using test rather than training RSS.\n",
    "\n",
    "For test it is more certain, that the better result will be for linear regression.\n",
    "\n",
    "(c) Suppose that the true relationship between X and Y is not linear,\n",
    "but we don’t know how far it is from linear. Consider the training\n",
    "RSS for the linear regression, and also the training RSS for the\n",
    "cubic regression. Would we expect one to be lower than the\n",
    "other, would we expect them to be the same, or is there not\n",
    "enough information to tell? Justify your answer.\n",
    "\n",
    "Cubic regression will give cetainly better results because of flexibility.\n",
    "\n",
    "(d) Answer (c) using test rather than training RSS.\n",
    "\n",
    "In this case it is more difficult to say, because result will be more close to real case, which we do not know."
   ]
  },
  {
   "cell_type": "markdown",
   "metadata": {},
   "source": [
    "## Problem 5"
   ]
  },
  {
   "cell_type": "markdown",
   "metadata": {},
   "source": [
    "Using Eq.(1) $\\hat{y_i} = x_i \\hat{\\beta} = x_i \\left( \\sum_{j=1}^n{x_jy_j}\\right)/ \\left( \\sum_{k=1}^n{x_k^2}\\right) = \\sum_{j=1}^n{a_jy_j} $, therefore \n",
    "$a_j = x_i {x_j}/ \\left( \\sum_{k=1}^n{x_k^2}\\right) $"
   ]
  },
  {
   "cell_type": "markdown",
   "metadata": {},
   "source": [
    "## Problem 6"
   ]
  },
  {
   "cell_type": "markdown",
   "metadata": {},
   "source": [
    "Using (3.4), argue that in the case of simple linear regression, the\n",
    "least squares line always passes through the point $(\\bar{x}, \\bar{y})$."
   ]
  },
  {
   "cell_type": "markdown",
   "metadata": {},
   "source": [
    "From Eq.3.4 if $x = \\bar{x}$ and $y != \\bar{y}$, $\\beta_1$ diverges."
   ]
  },
  {
   "cell_type": "markdown",
   "metadata": {},
   "source": [
    "## Problem 7"
   ]
  },
  {
   "cell_type": "markdown",
   "metadata": {},
   "source": [
    "It is claimed in the text that in the case of simple linear regression\n",
    "of Y onto X, the $R^2$ statistic (3.17) is equal to the square of the\n",
    "correlation between X and Y (3.18). Prove that this is the case. For\n",
    "simplicity, you may assume that $\\bar{x} = \\bar{y} = 0$."
   ]
  },
  {
   "cell_type": "markdown",
   "metadata": {},
   "source": [
    "In this case $R^2 = 1-\\sum_{i=1}^n (y_i-\\hat{y_i})^2/\\sum_{i=1}^n y_i^2=\\sum_{i=1}^n(2y_i\\hat{y_i}-\\hat{y_i}^2)/\\sum_{i=1}^n y_i^2$, $\\hat{y_i}=\\hat{\\beta}x_i$. To solve we need to substitude $\\hat{\\beta}$ from Eq.(1)"
   ]
  },
  {
   "cell_type": "markdown",
   "metadata": {},
   "source": [
    "## Functions"
   ]
  },
  {
   "cell_type": "code",
   "execution_count": 42,
   "metadata": {},
   "outputs": [],
   "source": [
    "LinearRegression=function(formula, data=NULL){\n",
    "   print(formula)\n",
    "   m = lm(formula, data=data)\n",
    "   print(summary(m))\n",
    "   return(m)\n",
    "}\n",
    "Compare_ytox_and_xtoy=function(x, y){\n",
    "    m=LinearRegression(y~x+0)\n",
    "    m = LinearRegression(x~y+0)\n",
    "    \n",
    "}"
   ]
  },
  {
   "cell_type": "markdown",
   "metadata": {},
   "source": [
    "## Problem 8"
   ]
  },
  {
   "cell_type": "markdown",
   "metadata": {},
   "source": [
    "See Python notebook"
   ]
  },
  {
   "cell_type": "markdown",
   "metadata": {},
   "source": [
    "## Problem 9"
   ]
  },
  {
   "cell_type": "markdown",
   "metadata": {},
   "source": [
    "See Python notebook"
   ]
  },
  {
   "cell_type": "markdown",
   "metadata": {},
   "source": [
    "## Problem 10"
   ]
  },
  {
   "cell_type": "code",
   "execution_count": 43,
   "metadata": {},
   "outputs": [
    {
     "data": {
      "text/html": [
       "<table>\n",
       "<thead><tr><th scope=col>Sales</th><th scope=col>CompPrice</th><th scope=col>Income</th><th scope=col>Advertising</th><th scope=col>Population</th><th scope=col>Price</th><th scope=col>ShelveLoc</th><th scope=col>Age</th><th scope=col>Education</th><th scope=col>Urban</th><th scope=col>US</th></tr></thead>\n",
       "<tbody>\n",
       "\t<tr><td> 9.50 </td><td>138   </td><td> 73   </td><td>11    </td><td>276   </td><td>120   </td><td>Bad   </td><td>42    </td><td>17    </td><td>Yes   </td><td>Yes   </td></tr>\n",
       "\t<tr><td>11.22 </td><td>111   </td><td> 48   </td><td>16    </td><td>260   </td><td> 83   </td><td>Good  </td><td>65    </td><td>10    </td><td>Yes   </td><td>Yes   </td></tr>\n",
       "\t<tr><td>10.06 </td><td>113   </td><td> 35   </td><td>10    </td><td>269   </td><td> 80   </td><td>Medium</td><td>59    </td><td>12    </td><td>Yes   </td><td>Yes   </td></tr>\n",
       "\t<tr><td> 7.40 </td><td>117   </td><td>100   </td><td> 4    </td><td>466   </td><td> 97   </td><td>Medium</td><td>55    </td><td>14    </td><td>Yes   </td><td>Yes   </td></tr>\n",
       "\t<tr><td> 4.15 </td><td>141   </td><td> 64   </td><td> 3    </td><td>340   </td><td>128   </td><td>Bad   </td><td>38    </td><td>13    </td><td>Yes   </td><td>No    </td></tr>\n",
       "\t<tr><td>10.81 </td><td>124   </td><td>113   </td><td>13    </td><td>501   </td><td> 72   </td><td>Bad   </td><td>78    </td><td>16    </td><td>No    </td><td>Yes   </td></tr>\n",
       "</tbody>\n",
       "</table>\n"
      ],
      "text/latex": [
       "\\begin{tabular}{r|lllllllllll}\n",
       " Sales & CompPrice & Income & Advertising & Population & Price & ShelveLoc & Age & Education & Urban & US\\\\\n",
       "\\hline\n",
       "\t  9.50  & 138    &  73    & 11     & 276    & 120    & Bad    & 42     & 17     & Yes    & Yes   \\\\\n",
       "\t 11.22  & 111    &  48    & 16     & 260    &  83    & Good   & 65     & 10     & Yes    & Yes   \\\\\n",
       "\t 10.06  & 113    &  35    & 10     & 269    &  80    & Medium & 59     & 12     & Yes    & Yes   \\\\\n",
       "\t  7.40  & 117    & 100    &  4     & 466    &  97    & Medium & 55     & 14     & Yes    & Yes   \\\\\n",
       "\t  4.15  & 141    &  64    &  3     & 340    & 128    & Bad    & 38     & 13     & Yes    & No    \\\\\n",
       "\t 10.81  & 124    & 113    & 13     & 501    &  72    & Bad    & 78     & 16     & No     & Yes   \\\\\n",
       "\\end{tabular}\n"
      ],
      "text/markdown": [
       "\n",
       "| Sales | CompPrice | Income | Advertising | Population | Price | ShelveLoc | Age | Education | Urban | US |\n",
       "|---|---|---|---|---|---|---|---|---|---|---|\n",
       "|  9.50  | 138    |  73    | 11     | 276    | 120    | Bad    | 42     | 17     | Yes    | Yes    |\n",
       "| 11.22  | 111    |  48    | 16     | 260    |  83    | Good   | 65     | 10     | Yes    | Yes    |\n",
       "| 10.06  | 113    |  35    | 10     | 269    |  80    | Medium | 59     | 12     | Yes    | Yes    |\n",
       "|  7.40  | 117    | 100    |  4     | 466    |  97    | Medium | 55     | 14     | Yes    | Yes    |\n",
       "|  4.15  | 141    |  64    |  3     | 340    | 128    | Bad    | 38     | 13     | Yes    | No     |\n",
       "| 10.81  | 124    | 113    | 13     | 501    |  72    | Bad    | 78     | 16     | No     | Yes    |\n",
       "\n"
      ],
      "text/plain": [
       "  Sales CompPrice Income Advertising Population Price ShelveLoc Age Education\n",
       "1  9.50 138        73    11          276        120   Bad       42  17       \n",
       "2 11.22 111        48    16          260         83   Good      65  10       \n",
       "3 10.06 113        35    10          269         80   Medium    59  12       \n",
       "4  7.40 117       100     4          466         97   Medium    55  14       \n",
       "5  4.15 141        64     3          340        128   Bad       38  13       \n",
       "6 10.81 124       113    13          501         72   Bad       78  16       \n",
       "  Urban US \n",
       "1 Yes   Yes\n",
       "2 Yes   Yes\n",
       "3 Yes   Yes\n",
       "4 Yes   Yes\n",
       "5 Yes   No \n",
       "6 No    Yes"
      ]
     },
     "metadata": {},
     "output_type": "display_data"
    }
   ],
   "source": [
    "library(ISLR)\n",
    "head(Carseats)"
   ]
  },
  {
   "cell_type": "code",
   "execution_count": 44,
   "metadata": {},
   "outputs": [
    {
     "data": {
      "text/plain": [
       "     Sales          CompPrice       Income        Advertising    \n",
       " Min.   : 0.000   Min.   : 77   Min.   : 21.00   Min.   : 0.000  \n",
       " 1st Qu.: 5.390   1st Qu.:115   1st Qu.: 42.75   1st Qu.: 0.000  \n",
       " Median : 7.490   Median :125   Median : 69.00   Median : 5.000  \n",
       " Mean   : 7.496   Mean   :125   Mean   : 68.66   Mean   : 6.635  \n",
       " 3rd Qu.: 9.320   3rd Qu.:135   3rd Qu.: 91.00   3rd Qu.:12.000  \n",
       " Max.   :16.270   Max.   :175   Max.   :120.00   Max.   :29.000  \n",
       "   Population        Price        ShelveLoc        Age          Education   \n",
       " Min.   : 10.0   Min.   : 24.0   Bad   : 96   Min.   :25.00   Min.   :10.0  \n",
       " 1st Qu.:139.0   1st Qu.:100.0   Good  : 85   1st Qu.:39.75   1st Qu.:12.0  \n",
       " Median :272.0   Median :117.0   Medium:219   Median :54.50   Median :14.0  \n",
       " Mean   :264.8   Mean   :115.8                Mean   :53.32   Mean   :13.9  \n",
       " 3rd Qu.:398.5   3rd Qu.:131.0                3rd Qu.:66.00   3rd Qu.:16.0  \n",
       " Max.   :509.0   Max.   :191.0                Max.   :80.00   Max.   :18.0  \n",
       " Urban       US     \n",
       " No :118   No :142  \n",
       " Yes:282   Yes:258  \n",
       "                    \n",
       "                    \n",
       "                    \n",
       "                    "
      ]
     },
     "metadata": {},
     "output_type": "display_data"
    }
   ],
   "source": [
    "summary(Carseats)"
   ]
  },
  {
   "cell_type": "markdown",
   "metadata": {},
   "source": [
    "(a) Fit a multiple regression model to predict Sales using Price,\n",
    "Urban, and US."
   ]
  },
  {
   "cell_type": "code",
   "execution_count": 45,
   "metadata": {
    "scrolled": true
   },
   "outputs": [
    {
     "name": "stdout",
     "output_type": "stream",
     "text": [
      "Sales ~ Price + US + Urban\n",
      "\n",
      "Call:\n",
      "lm(formula = formula, data = data)\n",
      "\n",
      "Residuals:\n",
      "    Min      1Q  Median      3Q     Max \n",
      "-6.9206 -1.6220 -0.0564  1.5786  7.0581 \n",
      "\n",
      "Coefficients:\n",
      "             Estimate Std. Error t value Pr(>|t|)    \n",
      "(Intercept) 13.043469   0.651012  20.036  < 2e-16 ***\n",
      "Price       -0.054459   0.005242 -10.389  < 2e-16 ***\n",
      "USYes        1.200573   0.259042   4.635 4.86e-06 ***\n",
      "UrbanYes    -0.021916   0.271650  -0.081    0.936    \n",
      "---\n",
      "Signif. codes:  0 '***' 0.001 '**' 0.01 '*' 0.05 '.' 0.1 ' ' 1\n",
      "\n",
      "Residual standard error: 2.472 on 396 degrees of freedom\n",
      "Multiple R-squared:  0.2393,\tAdjusted R-squared:  0.2335 \n",
      "F-statistic: 41.52 on 3 and 396 DF,  p-value: < 2.2e-16\n",
      "\n"
     ]
    }
   ],
   "source": [
    "m=LinearRegression(Sales~Price + US + Urban, data=Carseats)"
   ]
  },
  {
   "cell_type": "markdown",
   "metadata": {},
   "source": [
    "(b) Provide an interpretation of each coefficient in the model. Be\n",
    "careful—some of the variables in the model are qualitative!"
   ]
  },
  {
   "cell_type": "markdown",
   "metadata": {},
   "source": [
    "Sales slightly decrease as price increases (slope $\\beta_1 = -0.054$). USYes, $\\beta_2 =1.2$ means that if store in US we need to add to sales for given price 1.2. UrbanYes, $\\beta_3 = -0.02$ means that if store is in Urban location we need subtract 0.02 from Sales.\n",
    "\n",
    "(c) Write out the model in equation form, being careful to handle\n",
    "the qualitative variables properly\n",
    "\n",
    "The Equation for the model:\n",
    "$y=\\beta_0 + \\beta_1 Sales + \\beta_2 US + \\beta_3 Urban$\n",
    "\n",
    "(d) For which of the predictors can you reject the null hypothesis\n",
    "H0 : βj = 0?\n",
    "\n",
    "However for Urban varable p-value is high and we can not reject $\\beta_i=0$ hypothesis. So I will remove Urban."
   ]
  },
  {
   "cell_type": "markdown",
   "metadata": {},
   "source": [
    "(e) On the basis of your response to the previous question, fit a\n",
    "smaller model that only uses the predictors for which there is\n",
    "evidence of association with the outcome."
   ]
  },
  {
   "cell_type": "code",
   "execution_count": 46,
   "metadata": {},
   "outputs": [
    {
     "name": "stdout",
     "output_type": "stream",
     "text": [
      "Sales ~ Price + US\n",
      "\n",
      "Call:\n",
      "lm(formula = formula, data = data)\n",
      "\n",
      "Residuals:\n",
      "    Min      1Q  Median      3Q     Max \n",
      "-6.9269 -1.6286 -0.0574  1.5766  7.0515 \n",
      "\n",
      "Coefficients:\n",
      "            Estimate Std. Error t value Pr(>|t|)    \n",
      "(Intercept) 13.03079    0.63098  20.652  < 2e-16 ***\n",
      "Price       -0.05448    0.00523 -10.416  < 2e-16 ***\n",
      "USYes        1.19964    0.25846   4.641 4.71e-06 ***\n",
      "---\n",
      "Signif. codes:  0 '***' 0.001 '**' 0.01 '*' 0.05 '.' 0.1 ' ' 1\n",
      "\n",
      "Residual standard error: 2.469 on 397 degrees of freedom\n",
      "Multiple R-squared:  0.2393,\tAdjusted R-squared:  0.2354 \n",
      "F-statistic: 62.43 on 2 and 397 DF,  p-value: < 2.2e-16\n",
      "\n"
     ]
    }
   ],
   "source": [
    "m1=LinearRegression(Sales~Price + US, data=Carseats)"
   ]
  },
  {
   "cell_type": "markdown",
   "metadata": {},
   "source": [
    "(f) How well do the models in (a) and (e) fit the data?\n",
    "\n",
    "Residual standard error is just a bit smaller and Ajusted R-squared is a bit larger. "
   ]
  },
  {
   "cell_type": "markdown",
   "metadata": {},
   "source": [
    "(g) Using the model from (e), obtain 95 % confidence intervals for\n",
    "the coefficient(s)."
   ]
  },
  {
   "cell_type": "code",
   "execution_count": 47,
   "metadata": {},
   "outputs": [
    {
     "data": {
      "text/html": [
       "<table>\n",
       "<thead><tr><th></th><th scope=col>2.5 %</th><th scope=col>97.5 %</th></tr></thead>\n",
       "<tbody>\n",
       "\t<tr><th scope=row>(Intercept)</th><td>11.76359670</td><td>14.32334118</td></tr>\n",
       "\t<tr><th scope=row>Price</th><td>-0.06476419</td><td>-0.04415351</td></tr>\n",
       "\t<tr><th scope=row>USYes</th><td> 0.69130419</td><td> 1.70984121</td></tr>\n",
       "\t<tr><th scope=row>UrbanYes</th><td>-0.55597316</td><td> 0.51214085</td></tr>\n",
       "</tbody>\n",
       "</table>\n"
      ],
      "text/latex": [
       "\\begin{tabular}{r|ll}\n",
       "  & 2.5 \\% & 97.5 \\%\\\\\n",
       "\\hline\n",
       "\t(Intercept) & 11.76359670 & 14.32334118\\\\\n",
       "\tPrice & -0.06476419 & -0.04415351\\\\\n",
       "\tUSYes &  0.69130419 &  1.70984121\\\\\n",
       "\tUrbanYes & -0.55597316 &  0.51214085\\\\\n",
       "\\end{tabular}\n"
      ],
      "text/markdown": [
       "\n",
       "| <!--/--> | 2.5 % | 97.5 % |\n",
       "|---|---|---|\n",
       "| (Intercept) | 11.76359670 | 14.32334118 |\n",
       "| Price | -0.06476419 | -0.04415351 |\n",
       "| USYes |  0.69130419 |  1.70984121 |\n",
       "| UrbanYes | -0.55597316 |  0.51214085 |\n",
       "\n"
      ],
      "text/plain": [
       "            2.5 %       97.5 %     \n",
       "(Intercept) 11.76359670 14.32334118\n",
       "Price       -0.06476419 -0.04415351\n",
       "USYes        0.69130419  1.70984121\n",
       "UrbanYes    -0.55597316  0.51214085"
      ]
     },
     "metadata": {},
     "output_type": "display_data"
    }
   ],
   "source": [
    "confint(m)"
   ]
  },
  {
   "cell_type": "code",
   "execution_count": 48,
   "metadata": {},
   "outputs": [
    {
     "data": {
      "text/html": [
       "<table>\n",
       "<thead><tr><th></th><th scope=col>2.5 %</th><th scope=col>97.5 %</th></tr></thead>\n",
       "<tbody>\n",
       "\t<tr><th scope=row>(Intercept)</th><td>11.79032020</td><td>14.27126531</td></tr>\n",
       "\t<tr><th scope=row>Price</th><td>-0.06475984</td><td>-0.04419543</td></tr>\n",
       "\t<tr><th scope=row>USYes</th><td> 0.69151957</td><td> 1.70776632</td></tr>\n",
       "</tbody>\n",
       "</table>\n"
      ],
      "text/latex": [
       "\\begin{tabular}{r|ll}\n",
       "  & 2.5 \\% & 97.5 \\%\\\\\n",
       "\\hline\n",
       "\t(Intercept) & 11.79032020 & 14.27126531\\\\\n",
       "\tPrice & -0.06475984 & -0.04419543\\\\\n",
       "\tUSYes &  0.69151957 &  1.70776632\\\\\n",
       "\\end{tabular}\n"
      ],
      "text/markdown": [
       "\n",
       "| <!--/--> | 2.5 % | 97.5 % |\n",
       "|---|---|---|\n",
       "| (Intercept) | 11.79032020 | 14.27126531 |\n",
       "| Price | -0.06475984 | -0.04419543 |\n",
       "| USYes |  0.69151957 |  1.70776632 |\n",
       "\n"
      ],
      "text/plain": [
       "            2.5 %       97.5 %     \n",
       "(Intercept) 11.79032020 14.27126531\n",
       "Price       -0.06475984 -0.04419543\n",
       "USYes        0.69151957  1.70776632"
      ]
     },
     "metadata": {},
     "output_type": "display_data"
    }
   ],
   "source": [
    "confint(m1)"
   ]
  },
  {
   "cell_type": "markdown",
   "metadata": {},
   "source": [
    "(h) Is there evidence of outliers or high leverage observations in the\n",
    "model from (e)?"
   ]
  },
  {
   "cell_type": "code",
   "execution_count": 49,
   "metadata": {},
   "outputs": [
    {
     "data": {
      "image/png": "[encoded data removed]",
      "text/plain": [
       "plot without title"
      ]
     },
     "metadata": {},
     "output_type": "display_data"
    }
   ],
   "source": [
    "plot(Carseats$Sales, residuals(m1), xlab = \"Sales\", ylab = \"residuals\")"
   ]
  },
  {
   "cell_type": "markdown",
   "metadata": {},
   "source": [
    "Residuals are increasing if sales are too low or too high"
   ]
  },
  {
   "cell_type": "markdown",
   "metadata": {},
   "source": [
    "## Problem 11"
   ]
  },
  {
   "cell_type": "code",
   "execution_count": 50,
   "metadata": {},
   "outputs": [],
   "source": [
    "set.seed(1)\n",
    "x=rnorm(100)\n",
    "y=2*x+rnorm(100)"
   ]
  },
  {
   "cell_type": "markdown",
   "metadata": {},
   "source": [
    "(a) Perform a simple linear regression of y onto x, without an intercept. Report the coefficient estimate βˆ, the standard error of\n",
    "this coefficient estimate, and the t-statistic and p-value associated with the null hypothesis H0 : β = 0. Comment on these\n",
    "results. (You can perform regression without an intercept using\n",
    "the command lm(y∼x+0).)\n",
    "\n",
    "(b) Now perform a simple linear regression of x onto y without an\n",
    "intercept, and report the coefficient estimate, its standard error,\n",
    "and the corresponding t-statistic and p-values associated with\n",
    "the null hypothesis H0 : β = 0. Comment on these results.\n",
    "\n",
    "(c) What is the relationship between the results obtained in (a) and\n",
    "(b)?"
   ]
  },
  {
   "cell_type": "code",
   "execution_count": 51,
   "metadata": {},
   "outputs": [
    {
     "name": "stdout",
     "output_type": "stream",
     "text": [
      "y ~ x + 0\n",
      "<environment: 0x0000000041856308>\n",
      "\n",
      "Call:\n",
      "lm(formula = formula, data = data)\n",
      "\n",
      "Residuals:\n",
      "    Min      1Q  Median      3Q     Max \n",
      "-1.9154 -0.6472 -0.1771  0.5056  2.3109 \n",
      "\n",
      "Coefficients:\n",
      "  Estimate Std. Error t value Pr(>|t|)    \n",
      "x   1.9939     0.1065   18.73   <2e-16 ***\n",
      "---\n",
      "Signif. codes:  0 '***' 0.001 '**' 0.01 '*' 0.05 '.' 0.1 ' ' 1\n",
      "\n",
      "Residual standard error: 0.9586 on 99 degrees of freedom\n",
      "Multiple R-squared:  0.7798,\tAdjusted R-squared:  0.7776 \n",
      "F-statistic: 350.7 on 1 and 99 DF,  p-value: < 2.2e-16\n",
      "\n",
      "x ~ y + 0\n",
      "<environment: 0x0000000041856308>\n",
      "\n",
      "Call:\n",
      "lm(formula = formula, data = data)\n",
      "\n",
      "Residuals:\n",
      "    Min      1Q  Median      3Q     Max \n",
      "-0.8699 -0.2368  0.1030  0.2858  0.8938 \n",
      "\n",
      "Coefficients:\n",
      "  Estimate Std. Error t value Pr(>|t|)    \n",
      "y  0.39111    0.02089   18.73   <2e-16 ***\n",
      "---\n",
      "Signif. codes:  0 '***' 0.001 '**' 0.01 '*' 0.05 '.' 0.1 ' ' 1\n",
      "\n",
      "Residual standard error: 0.4246 on 99 degrees of freedom\n",
      "Multiple R-squared:  0.7798,\tAdjusted R-squared:  0.7776 \n",
      "F-statistic: 350.7 on 1 and 99 DF,  p-value: < 2.2e-16\n",
      "\n"
     ]
    }
   ],
   "source": [
    "Compare_ytox_and_xtoy(x,y)"
   ]
  },
  {
   "cell_type": "markdown",
   "metadata": {},
   "source": [
    "Coefficient for regression $y=\\beta_1x, \\beta_1=2$, for regression $x = \\beta_1^{'}y$ coefficient is 0.39, $\\beta_1^{'}\\approx 1/\\beta_1$. P-value is the same in both cases."
   ]
  },
  {
   "cell_type": "code",
   "execution_count": 52,
   "metadata": {},
   "outputs": [
    {
     "name": "stdout",
     "output_type": "stream",
     "text": [
      "y ~ x\n",
      "\n",
      "Call:\n",
      "lm(formula = formula, data = data)\n",
      "\n",
      "Residuals:\n",
      "    Min      1Q  Median      3Q     Max \n",
      "-1.8768 -0.6138 -0.1395  0.5394  2.3462 \n",
      "\n",
      "Coefficients:\n",
      "            Estimate Std. Error t value Pr(>|t|)    \n",
      "(Intercept) -0.03769    0.09699  -0.389    0.698    \n",
      "x            1.99894    0.10773  18.556   <2e-16 ***\n",
      "---\n",
      "Signif. codes:  0 '***' 0.001 '**' 0.01 '*' 0.05 '.' 0.1 ' ' 1\n",
      "\n",
      "Residual standard error: 0.9628 on 98 degrees of freedom\n",
      "Multiple R-squared:  0.7784,\tAdjusted R-squared:  0.7762 \n",
      "F-statistic: 344.3 on 1 and 98 DF,  p-value: < 2.2e-16\n",
      "\n"
     ]
    }
   ],
   "source": [
    "m=LinearRegression(y~x)"
   ]
  },
  {
   "cell_type": "markdown",
   "metadata": {},
   "source": [
    "In the case with Intercept the RSE and R-squared change very slightly."
   ]
  },
  {
   "cell_type": "markdown",
   "metadata": {},
   "source": [
    "To prove d substitute $\\hat{\\beta} = \\sum_{i=1}^n{x_iy_i}/\\sum_{j=1}^n{x_j^2}$ into $\\frac{\\hat{\\beta}}{SE(\\hat{\\beta})}=\\frac{\\sqrt{(n-1)\\sum_{j=1}^n{x_j^2}}\\hat{\\beta}}{\\sum_{i=1}^ny_i - 2\\hat{\\beta}\\sum_{j=1}^nx_iy_i+\\hat{\\beta}^2\\sum_{i=1}^n x_i^2}$."
   ]
  },
  {
   "cell_type": "markdown",
   "metadata": {},
   "source": [
    "## Problem 12"
   ]
  },
  {
   "cell_type": "markdown",
   "metadata": {},
   "source": [
    "Linear Regressions $y=\\hat{\\beta} x$ and $x=\\hat{\\beta}^{'} y$, $\\hat{\\beta} \\approx 1/\\hat{\\beta}^{'}$"
   ]
  },
  {
   "cell_type": "markdown",
   "metadata": {},
   "source": [
    "Linear Regression when $\\hat{\\beta} != \\hat{\\beta}^{'}$"
   ]
  },
  {
   "cell_type": "code",
   "execution_count": 53,
   "metadata": {},
   "outputs": [],
   "source": [
    "set.seed(1)\n",
    "x=rnorm(100)\n",
    "y=3*x+rnorm(100)"
   ]
  },
  {
   "cell_type": "code",
   "execution_count": 54,
   "metadata": {},
   "outputs": [
    {
     "name": "stdout",
     "output_type": "stream",
     "text": [
      "y ~ x + 0\n",
      "<environment: 0x000000000816a988>\n",
      "\n",
      "Call:\n",
      "lm(formula = formula, data = data)\n",
      "\n",
      "Residuals:\n",
      "    Min      1Q  Median      3Q     Max \n",
      "-1.9154 -0.6472 -0.1771  0.5056  2.3109 \n",
      "\n",
      "Coefficients:\n",
      "  Estimate Std. Error t value Pr(>|t|)    \n",
      "x   2.9939     0.1065   28.12   <2e-16 ***\n",
      "---\n",
      "Signif. codes:  0 '***' 0.001 '**' 0.01 '*' 0.05 '.' 0.1 ' ' 1\n",
      "\n",
      "Residual standard error: 0.9586 on 99 degrees of freedom\n",
      "Multiple R-squared:  0.8887,\tAdjusted R-squared:  0.8876 \n",
      "F-statistic: 790.6 on 1 and 99 DF,  p-value: < 2.2e-16\n",
      "\n",
      "x ~ y + 0\n",
      "<environment: 0x000000000816a988>\n",
      "\n",
      "Call:\n",
      "lm(formula = formula, data = data)\n",
      "\n",
      "Residuals:\n",
      "     Min       1Q   Median       3Q      Max \n",
      "-0.63420 -0.16066  0.07099  0.18507  0.59841 \n",
      "\n",
      "Coefficients:\n",
      "  Estimate Std. Error t value Pr(>|t|)    \n",
      "y  0.29684    0.01056   28.12   <2e-16 ***\n",
      "---\n",
      "Signif. codes:  0 '***' 0.001 '**' 0.01 '*' 0.05 '.' 0.1 ' ' 1\n",
      "\n",
      "Residual standard error: 0.3019 on 99 degrees of freedom\n",
      "Multiple R-squared:  0.8887,\tAdjusted R-squared:  0.8876 \n",
      "F-statistic: 790.6 on 1 and 99 DF,  p-value: < 2.2e-16\n",
      "\n"
     ]
    }
   ],
   "source": [
    "Compare_ytox_and_xtoy(x,y)"
   ]
  },
  {
   "cell_type": "markdown",
   "metadata": {},
   "source": [
    "Linear Regression when $\\hat{\\beta} \\approx \\hat{\\beta}^{'}$"
   ]
  },
  {
   "cell_type": "code",
   "execution_count": 55,
   "metadata": {},
   "outputs": [],
   "source": [
    "set.seed(1)\n",
    "x=rnorm(100)\n",
    "y=x+rnorm(100, 0, 0.2)"
   ]
  },
  {
   "cell_type": "code",
   "execution_count": 56,
   "metadata": {
    "scrolled": true
   },
   "outputs": [
    {
     "name": "stdout",
     "output_type": "stream",
     "text": [
      "y ~ x + 0\n",
      "<environment: 0x00000000424468d0>\n",
      "\n",
      "Call:\n",
      "lm(formula = formula, data = data)\n",
      "\n",
      "Residuals:\n",
      "     Min       1Q   Median       3Q      Max \n",
      "-0.38307 -0.12943 -0.03541  0.10112  0.46218 \n",
      "\n",
      "Coefficients:\n",
      "  Estimate Std. Error t value Pr(>|t|)    \n",
      "x   0.9988     0.0213    46.9   <2e-16 ***\n",
      "---\n",
      "Signif. codes:  0 '***' 0.001 '**' 0.01 '*' 0.05 '.' 0.1 ' ' 1\n",
      "\n",
      "Residual standard error: 0.1917 on 99 degrees of freedom\n",
      "Multiple R-squared:  0.9569,\tAdjusted R-squared:  0.9565 \n",
      "F-statistic:  2200 on 1 and 99 DF,  p-value: < 2.2e-16\n",
      "\n",
      "x ~ y + 0\n",
      "<environment: 0x00000000424468d0>\n",
      "\n",
      "Call:\n",
      "lm(formula = formula, data = data)\n",
      "\n",
      "Residuals:\n",
      "     Min       1Q   Median       3Q      Max \n",
      "-0.42234 -0.09331  0.04202  0.11837  0.35994 \n",
      "\n",
      "Coefficients:\n",
      "  Estimate Std. Error t value Pr(>|t|)    \n",
      "y  0.95811    0.02043    46.9   <2e-16 ***\n",
      "---\n",
      "Signif. codes:  0 '***' 0.001 '**' 0.01 '*' 0.05 '.' 0.1 ' ' 1\n",
      "\n",
      "Residual standard error: 0.1878 on 99 degrees of freedom\n",
      "Multiple R-squared:  0.9569,\tAdjusted R-squared:  0.9565 \n",
      "F-statistic:  2200 on 1 and 99 DF,  p-value: < 2.2e-16\n",
      "\n"
     ]
    }
   ],
   "source": [
    "Compare_ytox_and_xtoy(x,y)"
   ]
  },
  {
   "cell_type": "markdown",
   "metadata": {},
   "source": [
    "## Problem 13"
   ]
  },
  {
   "cell_type": "code",
   "execution_count": 57,
   "metadata": {},
   "outputs": [],
   "source": [
    "Y = -1 + 0.5*x + eps"
   ]
  },
  {
   "cell_type": "markdown",
   "metadata": {},
   "source": [
    "length of vector Y is 100. $\\beta_0=-1$, $\\beta_1 = 0.5$     "
   ]
  },
  {
   "cell_type": "code",
   "execution_count": 58,
   "metadata": {},
   "outputs": [
    {
     "name": "stdout",
     "output_type": "stream",
     "text": [
      "Y ~ x\n",
      "\n",
      "Call:\n",
      "lm(formula = formula, data = data)\n",
      "\n",
      "Residuals:\n",
      "     Min       1Q   Median       3Q      Max \n",
      "-0.18768 -0.06138 -0.01395  0.05394  0.23462 \n",
      "\n",
      "Coefficients:\n",
      "             Estimate Std. Error t value Pr(>|t|)    \n",
      "(Intercept) -1.003769   0.009699  -103.5   <2e-16 ***\n",
      "x            0.499894   0.010773    46.4   <2e-16 ***\n",
      "---\n",
      "Signif. codes:  0 '***' 0.001 '**' 0.01 '*' 0.05 '.' 0.1 ' ' 1\n",
      "\n",
      "Residual standard error: 0.09628 on 98 degrees of freedom\n",
      "Multiple R-squared:  0.9565,\tAdjusted R-squared:  0.956 \n",
      "F-statistic:  2153 on 1 and 98 DF,  p-value: < 2.2e-16\n",
      "\n"
     ]
    }
   ],
   "source": [
    "m=LinearRegression(Y~x)"
   ]
  },
  {
   "cell_type": "code",
   "execution_count": 59,
   "metadata": {
    "scrolled": true
   },
   "outputs": [
    {
     "data": {
      "image/png": "[encoded data removed]",
      "text/plain": [
       "plot without title"
      ]
     },
     "metadata": {},
     "output_type": "display_data"
    }
   ],
   "source": [
    "plot(x, Y, col = \"blue\", xlab = \"x\", ylab = \"Y\")\n",
    "abline(m)\n",
    "legend(-1, 0, legend=c(\"fitted\"), lty=1:2, cex=0.8)"
   ]
  },
  {
   "cell_type": "code",
   "execution_count": 60,
   "metadata": {},
   "outputs": [
    {
     "data": {
      "text/html": [
       "<table>\n",
       "<thead><tr><th></th><th scope=col>2.5 %</th><th scope=col>97.5 %</th></tr></thead>\n",
       "<tbody>\n",
       "\t<tr><th scope=row>(Intercept)</th><td>-1.0230161</td><td>-0.9845224</td></tr>\n",
       "\t<tr><th scope=row>x</th><td> 0.4785159</td><td> 0.5212720</td></tr>\n",
       "</tbody>\n",
       "</table>\n"
      ],
      "text/latex": [
       "\\begin{tabular}{r|ll}\n",
       "  & 2.5 \\% & 97.5 \\%\\\\\n",
       "\\hline\n",
       "\t(Intercept) & -1.0230161 & -0.9845224\\\\\n",
       "\tx &  0.4785159 &  0.5212720\\\\\n",
       "\\end{tabular}\n"
      ],
      "text/markdown": [
       "\n",
       "| <!--/--> | 2.5 % | 97.5 % |\n",
       "|---|---|---|\n",
       "| (Intercept) | -1.0230161 | -0.9845224 |\n",
       "| x |  0.4785159 |  0.5212720 |\n",
       "\n"
      ],
      "text/plain": [
       "            2.5 %      97.5 %    \n",
       "(Intercept) -1.0230161 -0.9845224\n",
       "x            0.4785159  0.5212720"
      ]
     },
     "metadata": {},
     "output_type": "display_data"
    }
   ],
   "source": [
    "confint(m)"
   ]
  },
  {
   "cell_type": "code",
   "execution_count": 61,
   "metadata": {},
   "outputs": [
    {
     "name": "stdout",
     "output_type": "stream",
     "text": [
      "Y ~ x + I(x^2)\n",
      "\n",
      "Call:\n",
      "lm(formula = formula, data = data)\n",
      "\n",
      "Residuals:\n",
      "     Min       1Q   Median       3Q      Max \n",
      "-0.19650 -0.06254 -0.01288  0.05803  0.22700 \n",
      "\n",
      "Coefficients:\n",
      "             Estimate Std. Error t value Pr(>|t|)    \n",
      "(Intercept) -0.994328   0.011766 -84.512   <2e-16 ***\n",
      "x            0.501716   0.010798  46.463   <2e-16 ***\n",
      "I(x^2)      -0.011892   0.008477  -1.403    0.164    \n",
      "---\n",
      "Signif. codes:  0 '***' 0.001 '**' 0.01 '*' 0.05 '.' 0.1 ' ' 1\n",
      "\n",
      "Residual standard error: 0.0958 on 97 degrees of freedom\n",
      "Multiple R-squared:  0.9573,\tAdjusted R-squared:  0.9565 \n",
      "F-statistic:  1088 on 2 and 97 DF,  p-value: < 2.2e-16\n",
      "\n"
     ]
    }
   ],
   "source": [
    "m=LinearRegression(Y~x+I(x^2))"
   ]
  },
  {
   "cell_type": "markdown",
   "metadata": {},
   "source": [
    "RSE is a bit smaller and R-squared is a bit larger with $x^2$ term"
   ]
  },
  {
   "cell_type": "code",
   "execution_count": 62,
   "metadata": {},
   "outputs": [],
   "source": [
    "set.seed(1)\n",
    "x=rnorm(100, 0, 1)\n",
    "eps = rnorm(100, 0, 0.1)\n",
    "Y = -1 + 0.5*x + eps"
   ]
  },
  {
   "cell_type": "code",
   "execution_count": 63,
   "metadata": {},
   "outputs": [
    {
     "name": "stdout",
     "output_type": "stream",
     "text": [
      "Y ~ x\n",
      "\n",
      "Call:\n",
      "lm(formula = formula, data = data)\n",
      "\n",
      "Residuals:\n",
      "     Min       1Q   Median       3Q      Max \n",
      "-0.18768 -0.06138 -0.01395  0.05394  0.23462 \n",
      "\n",
      "Coefficients:\n",
      "             Estimate Std. Error t value Pr(>|t|)    \n",
      "(Intercept) -1.003769   0.009699  -103.5   <2e-16 ***\n",
      "x            0.499894   0.010773    46.4   <2e-16 ***\n",
      "---\n",
      "Signif. codes:  0 '***' 0.001 '**' 0.01 '*' 0.05 '.' 0.1 ' ' 1\n",
      "\n",
      "Residual standard error: 0.09628 on 98 degrees of freedom\n",
      "Multiple R-squared:  0.9565,\tAdjusted R-squared:  0.956 \n",
      "F-statistic:  2153 on 1 and 98 DF,  p-value: < 2.2e-16\n",
      "\n"
     ]
    }
   ],
   "source": [
    "m=LinearRegression(Y~x)"
   ]
  },
  {
   "cell_type": "markdown",
   "metadata": {},
   "source": [
    "RSE is smaller and R2 is larger  because of smaller noise."
   ]
  },
  {
   "cell_type": "code",
   "execution_count": 64,
   "metadata": {},
   "outputs": [
    {
     "data": {
      "image/png": "[encoded data removed]",
      "text/plain": [
       "plot without title"
      ]
     },
     "metadata": {},
     "output_type": "display_data"
    }
   ],
   "source": [
    "plot(x, Y, col = \"blue\", xlab = \"x\", ylab = \"Y\")\n",
    "abline(m)\n",
    "legend(-1, 0, legend=c(\"fitted\"), lty=1:2, cex=0.8)"
   ]
  },
  {
   "cell_type": "code",
   "execution_count": 65,
   "metadata": {},
   "outputs": [
    {
     "data": {
      "text/html": [
       "<table>\n",
       "<thead><tr><th></th><th scope=col>2.5 %</th><th scope=col>97.5 %</th></tr></thead>\n",
       "<tbody>\n",
       "\t<tr><th scope=row>(Intercept)</th><td>-1.0230161</td><td>-0.9845224</td></tr>\n",
       "\t<tr><th scope=row>x</th><td> 0.4785159</td><td> 0.5212720</td></tr>\n",
       "</tbody>\n",
       "</table>\n"
      ],
      "text/latex": [
       "\\begin{tabular}{r|ll}\n",
       "  & 2.5 \\% & 97.5 \\%\\\\\n",
       "\\hline\n",
       "\t(Intercept) & -1.0230161 & -0.9845224\\\\\n",
       "\tx &  0.4785159 &  0.5212720\\\\\n",
       "\\end{tabular}\n"
      ],
      "text/markdown": [
       "\n",
       "| <!--/--> | 2.5 % | 97.5 % |\n",
       "|---|---|---|\n",
       "| (Intercept) | -1.0230161 | -0.9845224 |\n",
       "| x |  0.4785159 |  0.5212720 |\n",
       "\n"
      ],
      "text/plain": [
       "            2.5 %      97.5 %    \n",
       "(Intercept) -1.0230161 -0.9845224\n",
       "x            0.4785159  0.5212720"
      ]
     },
     "metadata": {},
     "output_type": "display_data"
    }
   ],
   "source": [
    "confint(m)"
   ]
  },
  {
   "cell_type": "markdown",
   "metadata": {},
   "source": [
    "Confidence interval in case with less noise is smaller than in the case with higher noise. It is approximately proportional to the noise."
   ]
  },
  {
   "cell_type": "markdown",
   "metadata": {},
   "source": [
    "## Problem 14"
   ]
  },
  {
   "cell_type": "code",
   "execution_count": 66,
   "metadata": {},
   "outputs": [],
   "source": [
    "set.seed(1)\n",
    "x1=runif(100)\n",
    "x2=0.5*x1+rnorm(100)/10\n",
    "y=2+2*x1+0.3*x2+rnorm(100)"
   ]
  },
  {
   "cell_type": "markdown",
   "metadata": {},
   "source": [
    "$y=\\beta_0+\\beta_1 x_1+\\beta_2 x_2$, $\\beta_0=2, \\beta_1=2, \\beta_2=0.3$"
   ]
  },
  {
   "cell_type": "code",
   "execution_count": 67,
   "metadata": {},
   "outputs": [
    {
     "data": {
      "image/png": "[encoded data removed]",
      "text/plain": [
       "plot without title"
      ]
     },
     "metadata": {},
     "output_type": "display_data"
    }
   ],
   "source": [
    "#x2==0.5*x1 \n",
    "plot(x1, x2, col = \"blue\", xlab = \"x1\", ylab = \"x2\")"
   ]
  },
  {
   "cell_type": "code",
   "execution_count": 68,
   "metadata": {},
   "outputs": [
    {
     "name": "stdout",
     "output_type": "stream",
     "text": [
      "y ~ x1 + x2\n",
      "\n",
      "Call:\n",
      "lm(formula = formula, data = data)\n",
      "\n",
      "Residuals:\n",
      "    Min      1Q  Median      3Q     Max \n",
      "-2.8311 -0.7273 -0.0537  0.6338  2.3359 \n",
      "\n",
      "Coefficients:\n",
      "            Estimate Std. Error t value Pr(>|t|)    \n",
      "(Intercept)   2.1305     0.2319   9.188 7.61e-15 ***\n",
      "x1            1.4396     0.7212   1.996   0.0487 *  \n",
      "x2            1.0097     1.1337   0.891   0.3754    \n",
      "---\n",
      "Signif. codes:  0 '***' 0.001 '**' 0.01 '*' 0.05 '.' 0.1 ' ' 1\n",
      "\n",
      "Residual standard error: 1.056 on 97 degrees of freedom\n",
      "Multiple R-squared:  0.2088,\tAdjusted R-squared:  0.1925 \n",
      "F-statistic:  12.8 on 2 and 97 DF,  p-value: 1.164e-05\n",
      "\n"
     ]
    }
   ],
   "source": [
    "m=LinearRegression(y~x1+x2)"
   ]
  },
  {
   "cell_type": "code",
   "execution_count": 69,
   "metadata": {
    "scrolled": true
   },
   "outputs": [
    {
     "name": "stdout",
     "output_type": "stream",
     "text": [
      "y ~ x1\n",
      "\n",
      "Call:\n",
      "lm(formula = formula, data = data)\n",
      "\n",
      "Residuals:\n",
      "     Min       1Q   Median       3Q      Max \n",
      "-2.89495 -0.66874 -0.07785  0.59221  2.45560 \n",
      "\n",
      "Coefficients:\n",
      "            Estimate Std. Error t value Pr(>|t|)    \n",
      "(Intercept)   2.1124     0.2307   9.155 8.27e-15 ***\n",
      "x1            1.9759     0.3963   4.986 2.66e-06 ***\n",
      "---\n",
      "Signif. codes:  0 '***' 0.001 '**' 0.01 '*' 0.05 '.' 0.1 ' ' 1\n",
      "\n",
      "Residual standard error: 1.055 on 98 degrees of freedom\n",
      "Multiple R-squared:  0.2024,\tAdjusted R-squared:  0.1942 \n",
      "F-statistic: 24.86 on 1 and 98 DF,  p-value: 2.661e-06\n",
      "\n"
     ]
    }
   ],
   "source": [
    "m=LinearRegression(y~x1)"
   ]
  },
  {
   "cell_type": "code",
   "execution_count": 70,
   "metadata": {},
   "outputs": [
    {
     "name": "stdout",
     "output_type": "stream",
     "text": [
      "y ~ x2\n",
      "\n",
      "Call:\n",
      "lm(formula = formula, data = data)\n",
      "\n",
      "Residuals:\n",
      "     Min       1Q   Median       3Q      Max \n",
      "-2.62687 -0.75156 -0.03598  0.72383  2.44890 \n",
      "\n",
      "Coefficients:\n",
      "            Estimate Std. Error t value Pr(>|t|)    \n",
      "(Intercept)   2.3899     0.1949   12.26  < 2e-16 ***\n",
      "x2            2.8996     0.6330    4.58 1.37e-05 ***\n",
      "---\n",
      "Signif. codes:  0 '***' 0.001 '**' 0.01 '*' 0.05 '.' 0.1 ' ' 1\n",
      "\n",
      "Residual standard error: 1.072 on 98 degrees of freedom\n",
      "Multiple R-squared:  0.1763,\tAdjusted R-squared:  0.1679 \n",
      "F-statistic: 20.98 on 1 and 98 DF,  p-value: 1.366e-05\n",
      "\n"
     ]
    }
   ],
   "source": [
    "m=LinearRegression(y~x2)"
   ]
  },
  {
   "cell_type": "markdown",
   "metadata": {},
   "source": [
    "$x_2$ is not independed from $x_1$. Regression with $x_1$ only has the best R2 and RSE which is close to y ~ x1+x2."
   ]
  },
  {
   "cell_type": "code",
   "execution_count": 71,
   "metadata": {},
   "outputs": [],
   "source": [
    "x1=c(x1, 0.1)\n",
    "x2=c(x2, 0.8)\n",
    "y=c(y,6)"
   ]
  },
  {
   "cell_type": "code",
   "execution_count": 72,
   "metadata": {},
   "outputs": [
    {
     "name": "stdout",
     "output_type": "stream",
     "text": [
      "y ~ x1 + x2\n",
      "\n",
      "Call:\n",
      "lm(formula = formula, data = data)\n",
      "\n",
      "Residuals:\n",
      "     Min       1Q   Median       3Q      Max \n",
      "-2.73348 -0.69318 -0.05263  0.66385  2.30619 \n",
      "\n",
      "Coefficients:\n",
      "            Estimate Std. Error t value Pr(>|t|)    \n",
      "(Intercept)   2.2267     0.2314   9.624 7.91e-16 ***\n",
      "x1            0.5394     0.5922   0.911  0.36458    \n",
      "x2            2.5146     0.8977   2.801  0.00614 ** \n",
      "---\n",
      "Signif. codes:  0 '***' 0.001 '**' 0.01 '*' 0.05 '.' 0.1 ' ' 1\n",
      "\n",
      "Residual standard error: 1.075 on 98 degrees of freedom\n",
      "Multiple R-squared:  0.2188,\tAdjusted R-squared:  0.2029 \n",
      "F-statistic: 13.72 on 2 and 98 DF,  p-value: 5.564e-06\n",
      "\n"
     ]
    }
   ],
   "source": [
    "m=LinearRegression(y~x1+x2)"
   ]
  },
  {
   "cell_type": "code",
   "execution_count": 73,
   "metadata": {},
   "outputs": [
    {
     "name": "stdout",
     "output_type": "stream",
     "text": [
      "y ~ x1\n",
      "\n",
      "Call:\n",
      "lm(formula = formula, data = data)\n",
      "\n",
      "Residuals:\n",
      "    Min      1Q  Median      3Q     Max \n",
      "-2.8897 -0.6556 -0.0909  0.5682  3.5665 \n",
      "\n",
      "Coefficients:\n",
      "            Estimate Std. Error t value Pr(>|t|)    \n",
      "(Intercept)   2.2569     0.2390   9.445 1.78e-15 ***\n",
      "x1            1.7657     0.4124   4.282 4.29e-05 ***\n",
      "---\n",
      "Signif. codes:  0 '***' 0.001 '**' 0.01 '*' 0.05 '.' 0.1 ' ' 1\n",
      "\n",
      "Residual standard error: 1.111 on 99 degrees of freedom\n",
      "Multiple R-squared:  0.1562,\tAdjusted R-squared:  0.1477 \n",
      "F-statistic: 18.33 on 1 and 99 DF,  p-value: 4.295e-05\n",
      "\n"
     ]
    }
   ],
   "source": [
    "m=LinearRegression(y~x1)"
   ]
  },
  {
   "cell_type": "code",
   "execution_count": 74,
   "metadata": {},
   "outputs": [
    {
     "name": "stdout",
     "output_type": "stream",
     "text": [
      "y ~ x2\n",
      "\n",
      "Call:\n",
      "lm(formula = formula, data = data)\n",
      "\n",
      "Residuals:\n",
      "     Min       1Q   Median       3Q      Max \n",
      "-2.64729 -0.71021 -0.06899  0.72699  2.38074 \n",
      "\n",
      "Coefficients:\n",
      "            Estimate Std. Error t value Pr(>|t|)    \n",
      "(Intercept)   2.3451     0.1912  12.264  < 2e-16 ***\n",
      "x2            3.1190     0.6040   5.164 1.25e-06 ***\n",
      "---\n",
      "Signif. codes:  0 '***' 0.001 '**' 0.01 '*' 0.05 '.' 0.1 ' ' 1\n",
      "\n",
      "Residual standard error: 1.074 on 99 degrees of freedom\n",
      "Multiple R-squared:  0.2122,\tAdjusted R-squared:  0.2042 \n",
      "F-statistic: 26.66 on 1 and 99 DF,  p-value: 1.253e-06\n",
      "\n"
     ]
    }
   ],
   "source": [
    "m=LinearRegression(y~x2)"
   ]
  },
  {
   "cell_type": "markdown",
   "metadata": {},
   "source": [
    "After adding a point to regression the best fit is for y~x2."
   ]
  },
  {
   "cell_type": "markdown",
   "metadata": {},
   "source": [
    "## Problem 15"
   ]
  },
  {
   "cell_type": "code",
   "execution_count": 75,
   "metadata": {},
   "outputs": [
    {
     "data": {
      "text/html": [
       "<table>\n",
       "<thead><tr><th scope=col>crim</th><th scope=col>zn</th><th scope=col>indus</th><th scope=col>chas</th><th scope=col>nox</th><th scope=col>rm</th><th scope=col>age</th><th scope=col>dis</th><th scope=col>rad</th><th scope=col>tax</th><th scope=col>ptratio</th><th scope=col>black</th><th scope=col>lstat</th><th scope=col>medv</th></tr></thead>\n",
       "<tbody>\n",
       "\t<tr><td>0.00632</td><td>18     </td><td>2.31   </td><td>0      </td><td>0.538  </td><td>6.575  </td><td>65.2   </td><td>4.0900 </td><td>1      </td><td>296    </td><td>15.3   </td><td>396.90 </td><td>4.98   </td><td>24.0   </td></tr>\n",
       "\t<tr><td>0.02731</td><td> 0     </td><td>7.07   </td><td>0      </td><td>0.469  </td><td>6.421  </td><td>78.9   </td><td>4.9671 </td><td>2      </td><td>242    </td><td>17.8   </td><td>396.90 </td><td>9.14   </td><td>21.6   </td></tr>\n",
       "\t<tr><td>0.02729</td><td> 0     </td><td>7.07   </td><td>0      </td><td>0.469  </td><td>7.185  </td><td>61.1   </td><td>4.9671 </td><td>2      </td><td>242    </td><td>17.8   </td><td>392.83 </td><td>4.03   </td><td>34.7   </td></tr>\n",
       "\t<tr><td>0.03237</td><td> 0     </td><td>2.18   </td><td>0      </td><td>0.458  </td><td>6.998  </td><td>45.8   </td><td>6.0622 </td><td>3      </td><td>222    </td><td>18.7   </td><td>394.63 </td><td>2.94   </td><td>33.4   </td></tr>\n",
       "\t<tr><td>0.06905</td><td> 0     </td><td>2.18   </td><td>0      </td><td>0.458  </td><td>7.147  </td><td>54.2   </td><td>6.0622 </td><td>3      </td><td>222    </td><td>18.7   </td><td>396.90 </td><td>5.33   </td><td>36.2   </td></tr>\n",
       "\t<tr><td>0.02985</td><td> 0     </td><td>2.18   </td><td>0      </td><td>0.458  </td><td>6.430  </td><td>58.7   </td><td>6.0622 </td><td>3      </td><td>222    </td><td>18.7   </td><td>394.12 </td><td>5.21   </td><td>28.7   </td></tr>\n",
       "</tbody>\n",
       "</table>\n"
      ],
      "text/latex": [
       "\\begin{tabular}{r|llllllllllllll}\n",
       " crim & zn & indus & chas & nox & rm & age & dis & rad & tax & ptratio & black & lstat & medv\\\\\n",
       "\\hline\n",
       "\t 0.00632 & 18      & 2.31    & 0       & 0.538   & 6.575   & 65.2    & 4.0900  & 1       & 296     & 15.3    & 396.90  & 4.98    & 24.0   \\\\\n",
       "\t 0.02731 &  0      & 7.07    & 0       & 0.469   & 6.421   & 78.9    & 4.9671  & 2       & 242     & 17.8    & 396.90  & 9.14    & 21.6   \\\\\n",
       "\t 0.02729 &  0      & 7.07    & 0       & 0.469   & 7.185   & 61.1    & 4.9671  & 2       & 242     & 17.8    & 392.83  & 4.03    & 34.7   \\\\\n",
       "\t 0.03237 &  0      & 2.18    & 0       & 0.458   & 6.998   & 45.8    & 6.0622  & 3       & 222     & 18.7    & 394.63  & 2.94    & 33.4   \\\\\n",
       "\t 0.06905 &  0      & 2.18    & 0       & 0.458   & 7.147   & 54.2    & 6.0622  & 3       & 222     & 18.7    & 396.90  & 5.33    & 36.2   \\\\\n",
       "\t 0.02985 &  0      & 2.18    & 0       & 0.458   & 6.430   & 58.7    & 6.0622  & 3       & 222     & 18.7    & 394.12  & 5.21    & 28.7   \\\\\n",
       "\\end{tabular}\n"
      ],
      "text/markdown": [
       "\n",
       "| crim | zn | indus | chas | nox | rm | age | dis | rad | tax | ptratio | black | lstat | medv |\n",
       "|---|---|---|---|---|---|---|---|---|---|---|---|---|---|\n",
       "| 0.00632 | 18      | 2.31    | 0       | 0.538   | 6.575   | 65.2    | 4.0900  | 1       | 296     | 15.3    | 396.90  | 4.98    | 24.0    |\n",
       "| 0.02731 |  0      | 7.07    | 0       | 0.469   | 6.421   | 78.9    | 4.9671  | 2       | 242     | 17.8    | 396.90  | 9.14    | 21.6    |\n",
       "| 0.02729 |  0      | 7.07    | 0       | 0.469   | 7.185   | 61.1    | 4.9671  | 2       | 242     | 17.8    | 392.83  | 4.03    | 34.7    |\n",
       "| 0.03237 |  0      | 2.18    | 0       | 0.458   | 6.998   | 45.8    | 6.0622  | 3       | 222     | 18.7    | 394.63  | 2.94    | 33.4    |\n",
       "| 0.06905 |  0      | 2.18    | 0       | 0.458   | 7.147   | 54.2    | 6.0622  | 3       | 222     | 18.7    | 396.90  | 5.33    | 36.2    |\n",
       "| 0.02985 |  0      | 2.18    | 0       | 0.458   | 6.430   | 58.7    | 6.0622  | 3       | 222     | 18.7    | 394.12  | 5.21    | 28.7    |\n",
       "\n"
      ],
      "text/plain": [
       "  crim    zn indus chas nox   rm    age  dis    rad tax ptratio black  lstat\n",
       "1 0.00632 18 2.31  0    0.538 6.575 65.2 4.0900 1   296 15.3    396.90 4.98 \n",
       "2 0.02731  0 7.07  0    0.469 6.421 78.9 4.9671 2   242 17.8    396.90 9.14 \n",
       "3 0.02729  0 7.07  0    0.469 7.185 61.1 4.9671 2   242 17.8    392.83 4.03 \n",
       "4 0.03237  0 2.18  0    0.458 6.998 45.8 6.0622 3   222 18.7    394.63 2.94 \n",
       "5 0.06905  0 2.18  0    0.458 7.147 54.2 6.0622 3   222 18.7    396.90 5.33 \n",
       "6 0.02985  0 2.18  0    0.458 6.430 58.7 6.0622 3   222 18.7    394.12 5.21 \n",
       "  medv\n",
       "1 24.0\n",
       "2 21.6\n",
       "3 34.7\n",
       "4 33.4\n",
       "5 36.2\n",
       "6 28.7"
      ]
     },
     "metadata": {},
     "output_type": "display_data"
    }
   ],
   "source": [
    "library(MASS)\n",
    "head(Boston)"
   ]
  },
  {
   "cell_type": "code",
   "execution_count": 76,
   "metadata": {},
   "outputs": [],
   "source": [
    "y= Boston$crim"
   ]
  },
  {
   "cell_type": "code",
   "execution_count": 77,
   "metadata": {},
   "outputs": [
    {
     "data": {
      "text/html": [
       "<ol class=list-inline>\n",
       "\t<li>'zn'</li>\n",
       "\t<li>'indus'</li>\n",
       "\t<li>'chas'</li>\n",
       "\t<li>'nox'</li>\n",
       "\t<li>'rm'</li>\n",
       "\t<li>'age'</li>\n",
       "\t<li>'dis'</li>\n",
       "\t<li>'rad'</li>\n",
       "\t<li>'tax'</li>\n",
       "\t<li>'ptratio'</li>\n",
       "\t<li>'black'</li>\n",
       "\t<li>'lstat'</li>\n",
       "\t<li>'medv'</li>\n",
       "</ol>\n"
      ],
      "text/latex": [
       "\\begin{enumerate*}\n",
       "\\item 'zn'\n",
       "\\item 'indus'\n",
       "\\item 'chas'\n",
       "\\item 'nox'\n",
       "\\item 'rm'\n",
       "\\item 'age'\n",
       "\\item 'dis'\n",
       "\\item 'rad'\n",
       "\\item 'tax'\n",
       "\\item 'ptratio'\n",
       "\\item 'black'\n",
       "\\item 'lstat'\n",
       "\\item 'medv'\n",
       "\\end{enumerate*}\n"
      ],
      "text/markdown": [
       "1. 'zn'\n",
       "2. 'indus'\n",
       "3. 'chas'\n",
       "4. 'nox'\n",
       "5. 'rm'\n",
       "6. 'age'\n",
       "7. 'dis'\n",
       "8. 'rad'\n",
       "9. 'tax'\n",
       "10. 'ptratio'\n",
       "11. 'black'\n",
       "12. 'lstat'\n",
       "13. 'medv'\n",
       "\n",
       "\n"
      ],
      "text/plain": [
       " [1] \"zn\"      \"indus\"   \"chas\"    \"nox\"     \"rm\"      \"age\"     \"dis\"    \n",
       " [8] \"rad\"     \"tax\"     \"ptratio\" \"black\"   \"lstat\"   \"medv\"   "
      ]
     },
     "metadata": {},
     "output_type": "display_data"
    }
   ],
   "source": [
    "col = colnames(Boston)\n",
    "col[2:14]"
   ]
  },
  {
   "cell_type": "code",
   "execution_count": 78,
   "metadata": {},
   "outputs": [
    {
     "name": "stdout",
     "output_type": "stream",
     "text": [
      "[1] \"zn\"\n",
      "\n",
      "Call:\n",
      "lm(formula = y ~ x)\n",
      "\n",
      "Residuals:\n",
      "   Min     1Q Median     3Q    Max \n",
      "-4.429 -4.222 -2.620  1.250 84.523 \n",
      "\n",
      "Coefficients:\n",
      "            Estimate Std. Error t value Pr(>|t|)    \n",
      "(Intercept)  4.45369    0.41722  10.675  < 2e-16 ***\n",
      "x           -0.07393    0.01609  -4.594 5.51e-06 ***\n",
      "---\n",
      "Signif. codes:  0 '***' 0.001 '**' 0.01 '*' 0.05 '.' 0.1 ' ' 1\n",
      "\n",
      "Residual standard error: 8.435 on 504 degrees of freedom\n",
      "Multiple R-squared:  0.04019,\tAdjusted R-squared:  0.03828 \n",
      "F-statistic:  21.1 on 1 and 504 DF,  p-value: 5.506e-06\n",
      "\n",
      "[1] \"indus\"\n",
      "\n",
      "Call:\n",
      "lm(formula = y ~ x)\n",
      "\n",
      "Residuals:\n",
      "    Min      1Q  Median      3Q     Max \n",
      "-11.972  -2.698  -0.736   0.712  81.813 \n",
      "\n",
      "Coefficients:\n",
      "            Estimate Std. Error t value Pr(>|t|)    \n",
      "(Intercept) -2.06374    0.66723  -3.093  0.00209 ** \n",
      "x            0.50978    0.05102   9.991  < 2e-16 ***\n",
      "---\n",
      "Signif. codes:  0 '***' 0.001 '**' 0.01 '*' 0.05 '.' 0.1 ' ' 1\n",
      "\n",
      "Residual standard error: 7.866 on 504 degrees of freedom\n",
      "Multiple R-squared:  0.1653,\tAdjusted R-squared:  0.1637 \n",
      "F-statistic: 99.82 on 1 and 504 DF,  p-value: < 2.2e-16\n",
      "\n",
      "[1] \"chas\"\n",
      "\n",
      "Call:\n",
      "lm(formula = y ~ x)\n",
      "\n",
      "Residuals:\n",
      "   Min     1Q Median     3Q    Max \n",
      "-3.738 -3.661 -3.435  0.018 85.232 \n",
      "\n",
      "Coefficients:\n",
      "            Estimate Std. Error t value Pr(>|t|)    \n",
      "(Intercept)   3.7444     0.3961   9.453   <2e-16 ***\n",
      "x            -1.8928     1.5061  -1.257    0.209    \n",
      "---\n",
      "Signif. codes:  0 '***' 0.001 '**' 0.01 '*' 0.05 '.' 0.1 ' ' 1\n",
      "\n",
      "Residual standard error: 8.597 on 504 degrees of freedom\n",
      "Multiple R-squared:  0.003124,\tAdjusted R-squared:  0.001146 \n",
      "F-statistic: 1.579 on 1 and 504 DF,  p-value: 0.2094\n",
      "\n",
      "[1] \"nox\"\n",
      "\n",
      "Call:\n",
      "lm(formula = y ~ x)\n",
      "\n",
      "Residuals:\n",
      "    Min      1Q  Median      3Q     Max \n",
      "-12.371  -2.738  -0.974   0.559  81.728 \n",
      "\n",
      "Coefficients:\n",
      "            Estimate Std. Error t value Pr(>|t|)    \n",
      "(Intercept)  -13.720      1.699  -8.073 5.08e-15 ***\n",
      "x             31.249      2.999  10.419  < 2e-16 ***\n",
      "---\n",
      "Signif. codes:  0 '***' 0.001 '**' 0.01 '*' 0.05 '.' 0.1 ' ' 1\n",
      "\n",
      "Residual standard error: 7.81 on 504 degrees of freedom\n",
      "Multiple R-squared:  0.1772,\tAdjusted R-squared:  0.1756 \n",
      "F-statistic: 108.6 on 1 and 504 DF,  p-value: < 2.2e-16\n",
      "\n",
      "[1] \"rm\"\n",
      "\n",
      "Call:\n",
      "lm(formula = y ~ x)\n",
      "\n",
      "Residuals:\n",
      "   Min     1Q Median     3Q    Max \n",
      "-6.604 -3.952 -2.654  0.989 87.197 \n",
      "\n",
      "Coefficients:\n",
      "            Estimate Std. Error t value Pr(>|t|)    \n",
      "(Intercept)   20.482      3.365   6.088 2.27e-09 ***\n",
      "x             -2.684      0.532  -5.045 6.35e-07 ***\n",
      "---\n",
      "Signif. codes:  0 '***' 0.001 '**' 0.01 '*' 0.05 '.' 0.1 ' ' 1\n",
      "\n",
      "Residual standard error: 8.401 on 504 degrees of freedom\n",
      "Multiple R-squared:  0.04807,\tAdjusted R-squared:  0.04618 \n",
      "F-statistic: 25.45 on 1 and 504 DF,  p-value: 6.347e-07\n",
      "\n",
      "[1] \"age\"\n",
      "\n",
      "Call:\n",
      "lm(formula = y ~ x)\n",
      "\n",
      "Residuals:\n",
      "   Min     1Q Median     3Q    Max \n",
      "-6.789 -4.257 -1.230  1.527 82.849 \n",
      "\n",
      "Coefficients:\n",
      "            Estimate Std. Error t value Pr(>|t|)    \n",
      "(Intercept) -3.77791    0.94398  -4.002 7.22e-05 ***\n",
      "x            0.10779    0.01274   8.463 2.85e-16 ***\n",
      "---\n",
      "Signif. codes:  0 '***' 0.001 '**' 0.01 '*' 0.05 '.' 0.1 ' ' 1\n",
      "\n",
      "Residual standard error: 8.057 on 504 degrees of freedom\n",
      "Multiple R-squared:  0.1244,\tAdjusted R-squared:  0.1227 \n",
      "F-statistic: 71.62 on 1 and 504 DF,  p-value: 2.855e-16\n",
      "\n",
      "[1] \"dis\"\n",
      "\n",
      "Call:\n",
      "lm(formula = y ~ x)\n",
      "\n",
      "Residuals:\n",
      "   Min     1Q Median     3Q    Max \n",
      "-6.708 -4.134 -1.527  1.516 81.674 \n",
      "\n",
      "Coefficients:\n",
      "            Estimate Std. Error t value Pr(>|t|)    \n",
      "(Intercept)   9.4993     0.7304  13.006   <2e-16 ***\n",
      "x            -1.5509     0.1683  -9.213   <2e-16 ***\n",
      "---\n",
      "Signif. codes:  0 '***' 0.001 '**' 0.01 '*' 0.05 '.' 0.1 ' ' 1\n",
      "\n",
      "Residual standard error: 7.965 on 504 degrees of freedom\n",
      "Multiple R-squared:  0.1441,\tAdjusted R-squared:  0.1425 \n",
      "F-statistic: 84.89 on 1 and 504 DF,  p-value: < 2.2e-16\n",
      "\n",
      "[1] \"rad\"\n",
      "\n",
      "Call:\n",
      "lm(formula = y ~ x)\n",
      "\n",
      "Residuals:\n",
      "    Min      1Q  Median      3Q     Max \n",
      "-10.164  -1.381  -0.141   0.660  76.433 \n",
      "\n",
      "Coefficients:\n",
      "            Estimate Std. Error t value Pr(>|t|)    \n",
      "(Intercept) -2.28716    0.44348  -5.157 3.61e-07 ***\n",
      "x            0.61791    0.03433  17.998  < 2e-16 ***\n",
      "---\n",
      "Signif. codes:  0 '***' 0.001 '**' 0.01 '*' 0.05 '.' 0.1 ' ' 1\n",
      "\n",
      "Residual standard error: 6.718 on 504 degrees of freedom\n",
      "Multiple R-squared:  0.3913,\tAdjusted R-squared:   0.39 \n",
      "F-statistic: 323.9 on 1 and 504 DF,  p-value: < 2.2e-16\n",
      "\n",
      "[1] \"tax\"\n",
      "\n",
      "Call:\n",
      "lm(formula = y ~ x)\n",
      "\n",
      "Residuals:\n",
      "    Min      1Q  Median      3Q     Max \n",
      "-12.513  -2.738  -0.194   1.065  77.696 \n",
      "\n",
      "Coefficients:\n",
      "             Estimate Std. Error t value Pr(>|t|)    \n",
      "(Intercept) -8.528369   0.815809  -10.45   <2e-16 ***\n",
      "x            0.029742   0.001847   16.10   <2e-16 ***\n",
      "---\n",
      "Signif. codes:  0 '***' 0.001 '**' 0.01 '*' 0.05 '.' 0.1 ' ' 1\n",
      "\n",
      "Residual standard error: 6.997 on 504 degrees of freedom\n",
      "Multiple R-squared:  0.3396,\tAdjusted R-squared:  0.3383 \n",
      "F-statistic: 259.2 on 1 and 504 DF,  p-value: < 2.2e-16\n",
      "\n",
      "[1] \"ptratio\"\n",
      "\n",
      "Call:\n",
      "lm(formula = y ~ x)\n",
      "\n",
      "Residuals:\n",
      "   Min     1Q Median     3Q    Max \n",
      "-7.654 -3.985 -1.912  1.825 83.353 \n",
      "\n",
      "Coefficients:\n",
      "            Estimate Std. Error t value Pr(>|t|)    \n",
      "(Intercept) -17.6469     3.1473  -5.607 3.40e-08 ***\n",
      "x             1.1520     0.1694   6.801 2.94e-11 ***\n",
      "---\n",
      "Signif. codes:  0 '***' 0.001 '**' 0.01 '*' 0.05 '.' 0.1 ' ' 1\n",
      "\n",
      "Residual standard error: 8.24 on 504 degrees of freedom\n",
      "Multiple R-squared:  0.08407,\tAdjusted R-squared:  0.08225 \n",
      "F-statistic: 46.26 on 1 and 504 DF,  p-value: 2.943e-11\n",
      "\n",
      "[1] \"black\"\n",
      "\n",
      "Call:\n",
      "lm(formula = y ~ x)\n",
      "\n",
      "Residuals:\n",
      "    Min      1Q  Median      3Q     Max \n",
      "-13.756  -2.299  -2.095  -1.296  86.822 \n",
      "\n",
      "Coefficients:\n",
      "             Estimate Std. Error t value Pr(>|t|)    \n",
      "(Intercept) 16.553529   1.425903  11.609   <2e-16 ***\n",
      "x           -0.036280   0.003873  -9.367   <2e-16 ***\n",
      "---\n",
      "Signif. codes:  0 '***' 0.001 '**' 0.01 '*' 0.05 '.' 0.1 ' ' 1\n",
      "\n",
      "Residual standard error: 7.946 on 504 degrees of freedom\n",
      "Multiple R-squared:  0.1483,\tAdjusted R-squared:  0.1466 \n",
      "F-statistic: 87.74 on 1 and 504 DF,  p-value: < 2.2e-16\n",
      "\n",
      "[1] \"lstat\"\n",
      "\n",
      "Call:\n",
      "lm(formula = y ~ x)\n",
      "\n",
      "Residuals:\n",
      "    Min      1Q  Median      3Q     Max \n",
      "-13.925  -2.822  -0.664   1.079  82.862 \n",
      "\n",
      "Coefficients:\n",
      "            Estimate Std. Error t value Pr(>|t|)    \n",
      "(Intercept) -3.33054    0.69376  -4.801 2.09e-06 ***\n",
      "x            0.54880    0.04776  11.491  < 2e-16 ***\n",
      "---\n",
      "Signif. codes:  0 '***' 0.001 '**' 0.01 '*' 0.05 '.' 0.1 ' ' 1\n",
      "\n",
      "Residual standard error: 7.664 on 504 degrees of freedom\n",
      "Multiple R-squared:  0.2076,\tAdjusted R-squared:  0.206 \n",
      "F-statistic:   132 on 1 and 504 DF,  p-value: < 2.2e-16\n",
      "\n",
      "[1] \"medv\"\n",
      "\n",
      "Call:\n",
      "lm(formula = y ~ x)\n",
      "\n",
      "Residuals:\n",
      "   Min     1Q Median     3Q    Max \n",
      "-9.071 -4.022 -2.343  1.298 80.957 \n",
      "\n",
      "Coefficients:\n",
      "            Estimate Std. Error t value Pr(>|t|)    \n",
      "(Intercept) 11.79654    0.93419   12.63   <2e-16 ***\n",
      "x           -0.36316    0.03839   -9.46   <2e-16 ***\n",
      "---\n",
      "Signif. codes:  0 '***' 0.001 '**' 0.01 '*' 0.05 '.' 0.1 ' ' 1\n",
      "\n",
      "Residual standard error: 7.934 on 504 degrees of freedom\n",
      "Multiple R-squared:  0.1508,\tAdjusted R-squared:  0.1491 \n",
      "F-statistic: 89.49 on 1 and 504 DF,  p-value: < 2.2e-16\n",
      "\n"
     ]
    }
   ],
   "source": [
    "l=list()\n",
    "j=1\n",
    "for (i in col[2:14]){\n",
    "    print(names(Boston[i]))\n",
    "    x = unlist(c(Boston[i]))\n",
    "    slm=summary(lm(y~x))\n",
    "    print(slm)\n",
    "    if(slm$r.squared>0.15){\n",
    "        l[j]=names(Boston[i])\n",
    "        j=j+1\n",
    "    }\n",
    "}"
   ]
  },
  {
   "cell_type": "markdown",
   "metadata": {},
   "source": [
    "very good results, p-value and R-squared: "
   ]
  },
  {
   "cell_type": "code",
   "execution_count": 79,
   "metadata": {},
   "outputs": [
    {
     "data": {
      "text/html": [
       "<ol>\n",
       "\t<li>'indus'</li>\n",
       "\t<li>'nox'</li>\n",
       "\t<li>'rad'</li>\n",
       "\t<li>'tax'</li>\n",
       "\t<li>'lstat'</li>\n",
       "\t<li>'medv'</li>\n",
       "</ol>\n"
      ],
      "text/latex": [
       "\\begin{enumerate}\n",
       "\\item 'indus'\n",
       "\\item 'nox'\n",
       "\\item 'rad'\n",
       "\\item 'tax'\n",
       "\\item 'lstat'\n",
       "\\item 'medv'\n",
       "\\end{enumerate}\n"
      ],
      "text/markdown": [
       "1. 'indus'\n",
       "2. 'nox'\n",
       "3. 'rad'\n",
       "4. 'tax'\n",
       "5. 'lstat'\n",
       "6. 'medv'\n",
       "\n",
       "\n"
      ],
      "text/plain": [
       "[[1]]\n",
       "[1] \"indus\"\n",
       "\n",
       "[[2]]\n",
       "[1] \"nox\"\n",
       "\n",
       "[[3]]\n",
       "[1] \"rad\"\n",
       "\n",
       "[[4]]\n",
       "[1] \"tax\"\n",
       "\n",
       "[[5]]\n",
       "[1] \"lstat\"\n",
       "\n",
       "[[6]]\n",
       "[1] \"medv\"\n"
      ]
     },
     "metadata": {},
     "output_type": "display_data"
    }
   ],
   "source": [
    "l"
   ]
  },
  {
   "cell_type": "markdown",
   "metadata": {},
   "source": [
    "Can be nitrogen oxides concentration or polluted air really??? https://www.otago.ac.nz/economics/otago725013.pdf"
   ]
  },
  {
   "cell_type": "code",
   "execution_count": 80,
   "metadata": {},
   "outputs": [
    {
     "name": "stdout",
     "output_type": "stream",
     "text": [
      "\n",
      "Call:\n",
      "lm(formula = y ~ ., data = Boston[, -1])\n",
      "\n",
      "Residuals:\n",
      "   Min     1Q Median     3Q    Max \n",
      "-9.924 -2.120 -0.353  1.019 75.051 \n",
      "\n",
      "Coefficients:\n",
      "              Estimate Std. Error t value Pr(>|t|)    \n",
      "(Intercept)  17.033228   7.234903   2.354 0.018949 *  \n",
      "zn            0.044855   0.018734   2.394 0.017025 *  \n",
      "indus        -0.063855   0.083407  -0.766 0.444294    \n",
      "chas         -0.749134   1.180147  -0.635 0.525867    \n",
      "nox         -10.313535   5.275536  -1.955 0.051152 .  \n",
      "rm            0.430131   0.612830   0.702 0.483089    \n",
      "age           0.001452   0.017925   0.081 0.935488    \n",
      "dis          -0.987176   0.281817  -3.503 0.000502 ***\n",
      "rad           0.588209   0.088049   6.680 6.46e-11 ***\n",
      "tax          -0.003780   0.005156  -0.733 0.463793    \n",
      "ptratio      -0.271081   0.186450  -1.454 0.146611    \n",
      "black        -0.007538   0.003673  -2.052 0.040702 *  \n",
      "lstat         0.126211   0.075725   1.667 0.096208 .  \n",
      "medv         -0.198887   0.060516  -3.287 0.001087 ** \n",
      "---\n",
      "Signif. codes:  0 '***' 0.001 '**' 0.01 '*' 0.05 '.' 0.1 ' ' 1\n",
      "\n",
      "Residual standard error: 6.439 on 492 degrees of freedom\n",
      "Multiple R-squared:  0.454,\tAdjusted R-squared:  0.4396 \n",
      "F-statistic: 31.47 on 13 and 492 DF,  p-value: < 2.2e-16\n",
      "\n"
     ]
    }
   ],
   "source": [
    "slm=summary(lm(y~., data=Boston[,-1]))\n",
    "print(slm)"
   ]
  }
 ],
 "metadata": {
  "kernelspec": {
   "display_name": "R",
   "language": "R",
   "name": "ir"
  },
  "language_info": {
   "codemirror_mode": "r",
   "file_extension": ".r",
   "mimetype": "text/x-r-source",
   "name": "R",
   "pygments_lexer": "r",
   "version": "3.6.1"
  }
 },
 "nbformat": 4,
 "nbformat_minor": 4
}
